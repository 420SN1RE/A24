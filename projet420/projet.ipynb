{
 "cells": [
  {
   "cell_type": "code",
   "execution_count": 3,
   "metadata": {},
   "outputs": [
    {
     "ename": "ModuleNotFoundError",
     "evalue": "No module named 'pandas'",
     "output_type": "error",
     "traceback": [
      "\u001b[1;31m---------------------------------------------------------------------------\u001b[0m",
      "\u001b[1;31mModuleNotFoundError\u001b[0m                       Traceback (most recent call last)",
      "Cell \u001b[1;32mIn[3], line 1\u001b[0m\n\u001b[1;32m----> 1\u001b[0m \u001b[38;5;28;01mimport\u001b[39;00m \u001b[38;5;21;01mpandas\u001b[39;00m \u001b[38;5;28;01mas\u001b[39;00m \u001b[38;5;21;01mpd\u001b[39;00m\n\u001b[0;32m      2\u001b[0m \u001b[38;5;28;01mimport\u001b[39;00m \u001b[38;5;21;01mmatplotlib\u001b[39;00m\u001b[38;5;21;01m.\u001b[39;00m\u001b[38;5;21;01mpyplot\u001b[39;00m \u001b[38;5;28;01mas\u001b[39;00m \u001b[38;5;21;01mplt\u001b[39;00m\n\u001b[0;32m      3\u001b[0m \u001b[38;5;28;01mimport\u001b[39;00m \u001b[38;5;21;01mseaborn\u001b[39;00m \u001b[38;5;28;01mas\u001b[39;00m \u001b[38;5;21;01msns\u001b[39;00m\n",
      "\u001b[1;31mModuleNotFoundError\u001b[0m: No module named 'pandas'"
     ]
    }
   ],
   "source": [
    "import pandas as pd\n",
    "import matplotlib.pyplot as plt\n",
    "import seaborn as sns\n",
    "import os\n",
    "\n",
    "\"\"\"\n",
    "Ce script permet de:\n",
    "1. Demander à l'utilisateur de fournir un fichier CSV.\n",
    "2. Afficher les premières lignes du fichier pour donner un aperçu des données.\n",
    "3. Demander à l'utilisateur de choisir entre nettoyer par colonne, valeur ou ligne.\n",
    "4. Nettoyer les données en fonction du choix de l'utilisateur et enregistrer une copie nettoyée du fichier.\n",
    "5. Visualiser les données nettoyées sous forme de graphique.\n",
    "\"\"\"\n",
    "def main():\n",
    "    # 1. Demander à l'utilisateur de fournir son fichier de données au format CSV\n",
    "    file_path = input(\"Veuillez entrer le chemin du fichier CSV: \")\n",
    "    \n",
    "    # Vérifier si le fichier existe\n",
    "    if not os.path.isfile(file_path):\n",
    "        print(\"Le fichier n'existe pas. Veuillez vérifier le chemin et réessayer.\")\n",
    "        return\n",
    "    \n",
    "    # Lire le fichier CSV\n",
    "    data = pd.read_csv(file_path)\n",
    "    \n",
    "    # 2. Visualiser les données à l'écran sous forme de tableau\n",
    "    print(\"Voici un aperçu des données:\")\n",
    "    print(data.head())\n",
    "    \n",
    "    # 3. Demander à l'utilisateur d'entrer soit le nom de colonnes, soit la valeur d'une donnée, soit le numéro d'une ligne à nettoyer\n",
    "    choice = input(\"Voulez-vous nettoyer par colonne (c), valeur (v) ou ligne (l)? \")\n",
    "    \n",
    "    if choice == 'c':\n",
    "        column_name = input(\"Veuillez entrer le nom de la colonne à nettoyer: \")\n",
    "        if column_name in data.columns:\n",
    "            data[column_name] = data[column_name].fillna('Valeur manquante')\n",
    "        else:\n",
    "            print(\"La colonne n'existe pas.\")\n",
    "    elif choice == 'v':\n",
    "        value = input(\"Veuillez entrer la valeur à nettoyer: \")\n",
    "        data = data.replace(value, 'Valeur nettoyée')\n",
    "    elif choice == 'l':\n",
    "        row_number = int(input(\"Veuillez entrer le numéro de la ligne à nettoyer: \"))\n",
    "        if row_number < len(data):\n",
    "            data.iloc[row_number] = data.iloc[row_number].fillna('Valeur manquante')\n",
    "        else:\n",
    "            print(\"Le numéro de ligne est hors limites.\")\n",
    "    else:\n",
    "        print(\"Choix invalide.\")\n",
    "        return\n",
    "    \n",
    "    # 4. Nettoyer les données en fonction du choix de l'utilisateur, en faisant une copie du fichier original\n",
    "    cleaned_file_path = file_path.replace('.csv', '_cleaned.csv')\n",
    "    data.to_csv(cleaned_file_path, index=False)\n",
    "    print(f\"Les données nettoyées ont été enregistrées dans {cleaned_file_path}\")\n",
    "    \n",
    "    # 5. Visualiser les données choisies (colonnes, lignes) sous forme de graphique\n",
    "    if choice == 'c':\n",
    "        sns.countplot(x=column_name, data=data)\n",
    "    elif choice == 'v':\n",
    "        sns.countplot(x=data.columns[0], data=data)\n",
    "    elif choice == 'l':\n",
    "        sns.heatmap(data.iloc[[row_number]].isnull(), cbar=False, cmap='viridis')\n",
    "    \n",
    "    plt.show()\n",
    "\n",
    "if __name__ == \"__main__\":\n",
    "    main()"
   ]
  }
 ],
 "metadata": {
  "kernelspec": {
   "display_name": "Python 3",
   "language": "python",
   "name": "python3"
  },
  "language_info": {
   "codemirror_mode": {
    "name": "ipython",
    "version": 3
   },
   "file_extension": ".py",
   "mimetype": "text/x-python",
   "name": "python",
   "nbconvert_exporter": "python",
   "pygments_lexer": "ipython3",
   "version": "3.11.9"
  }
 },
 "nbformat": 4,
 "nbformat_minor": 2
}
