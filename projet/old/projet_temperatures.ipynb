{
 "cells": [
  {
   "cell_type": "markdown",
   "metadata": {
    "vscode": {
     "languageId": "latex"
    }
   },
   "source": [
    "<center><h1>Projet : Analyse de données scientifiques</h1></center>\n",
    "<center><img src=\"images/projet.jpeg\" alt=\"projet analyse de données en sciences\" width=\"200\"></center>"
   ]
  },
  {
   "cell_type": "markdown",
   "metadata": {},
   "source": [
    "#### 1. Importer et préparer les données"
   ]
  },
  {
   "cell_type": "code",
   "execution_count": 2,
   "metadata": {},
   "outputs": [],
   "source": [
    "# 1.a Charger les données dans un dataframe \n",
    "import pandas as pd\n",
    "\n",
    "df_temperature = pd.read_csv('temperature_utf8.csv',encoding='utf-8')"
   ]
  },
  {
   "cell_type": "code",
   "execution_count": 3,
   "metadata": {},
   "outputs": [
    {
     "name": "stdout",
     "output_type": "stream",
     "text": [
      "<class 'pandas.core.frame.DataFrame'>\n",
      "RangeIndex: 552 entries, 0 to 551\n",
      "Data columns (total 3 columns):\n",
      " #   Column                Non-Null Count  Dtype  \n",
      "---  ------                --------------  -----  \n",
      " 0   Mois                  552 non-null    object \n",
      " 1   Temperature_Laval     551 non-null    float64\n",
      " 2   Temperature_Montréal  551 non-null    float64\n",
      "dtypes: float64(2), object(1)\n",
      "memory usage: 13.1+ KB\n"
     ]
    }
   ],
   "source": [
    "# 1.b Quels sont les colonnes et le type de valeurs présentent dans ces données ?\n",
    "df_temperature.info()"
   ]
  },
  {
   "cell_type": "markdown",
   "metadata": {},
   "source": [
    "Votre réponse ici: "
   ]
  },
  {
   "cell_type": "code",
   "execution_count": 4,
   "metadata": {},
   "outputs": [
    {
     "data": {
      "text/html": [
       "<div>\n",
       "<style scoped>\n",
       "    .dataframe tbody tr th:only-of-type {\n",
       "        vertical-align: middle;\n",
       "    }\n",
       "\n",
       "    .dataframe tbody tr th {\n",
       "        vertical-align: top;\n",
       "    }\n",
       "\n",
       "    .dataframe thead th {\n",
       "        text-align: right;\n",
       "    }\n",
       "</style>\n",
       "<table border=\"1\" class=\"dataframe\">\n",
       "  <thead>\n",
       "    <tr style=\"text-align: right;\">\n",
       "      <th></th>\n",
       "      <th>Mois</th>\n",
       "      <th>Temperature_Laval</th>\n",
       "      <th>Temperature_Montréal</th>\n",
       "    </tr>\n",
       "  </thead>\n",
       "  <tbody>\n",
       "    <tr>\n",
       "      <th>0</th>\n",
       "      <td>Janvier</td>\n",
       "      <td>-9.006572</td>\n",
       "      <td>-9.276529</td>\n",
       "    </tr>\n",
       "    <tr>\n",
       "      <th>1</th>\n",
       "      <td>Janvier</td>\n",
       "      <td>-8.704623</td>\n",
       "      <td>-5.953940</td>\n",
       "    </tr>\n",
       "    <tr>\n",
       "      <th>2</th>\n",
       "      <td>Février</td>\n",
       "      <td>-8.468307</td>\n",
       "      <td>-7.468274</td>\n",
       "    </tr>\n",
       "    <tr>\n",
       "      <th>3</th>\n",
       "      <td>Février</td>\n",
       "      <td>-4.841574</td>\n",
       "      <td>-5.465131</td>\n",
       "    </tr>\n",
       "    <tr>\n",
       "      <th>4</th>\n",
       "      <td>Mars</td>\n",
       "      <td>-2.938949</td>\n",
       "      <td>0.085120</td>\n",
       "    </tr>\n",
       "    <tr>\n",
       "      <th>5</th>\n",
       "      <td>Mars</td>\n",
       "      <td>-2.926835</td>\n",
       "      <td>-1.931460</td>\n",
       "    </tr>\n",
       "    <tr>\n",
       "      <th>6</th>\n",
       "      <td>Avril</td>\n",
       "      <td>8.483925</td>\n",
       "      <td>5.173440</td>\n",
       "    </tr>\n",
       "    <tr>\n",
       "      <th>7</th>\n",
       "      <td>Avril</td>\n",
       "      <td>4.550164</td>\n",
       "      <td>7.875425</td>\n",
       "    </tr>\n",
       "    <tr>\n",
       "      <th>8</th>\n",
       "      <td>Mai</td>\n",
       "      <td>12.974338</td>\n",
       "      <td>16.628495</td>\n",
       "    </tr>\n",
       "    <tr>\n",
       "      <th>9</th>\n",
       "      <td>Mai</td>\n",
       "      <td>13.183952</td>\n",
       "      <td>13.175393</td>\n",
       "    </tr>\n",
       "  </tbody>\n",
       "</table>\n",
       "</div>"
      ],
      "text/plain": [
       "      Mois  Temperature_Laval  Temperature_Montréal\n",
       "0  Janvier          -9.006572             -9.276529\n",
       "1  Janvier          -8.704623             -5.953940\n",
       "2  Février          -8.468307             -7.468274\n",
       "3  Février          -4.841574             -5.465131\n",
       "4     Mars          -2.938949              0.085120\n",
       "5     Mars          -2.926835             -1.931460\n",
       "6    Avril           8.483925              5.173440\n",
       "7    Avril           4.550164              7.875425\n",
       "8      Mai          12.974338             16.628495\n",
       "9      Mai          13.183952             13.175393"
      ]
     },
     "execution_count": 4,
     "metadata": {},
     "output_type": "execute_result"
    }
   ],
   "source": [
    "# 1.c Visualisez les 10 premières lignes du dataframe  \n",
    "df_temperature.head(10)"
   ]
  },
  {
   "cell_type": "code",
   "execution_count": 5,
   "metadata": {},
   "outputs": [
    {
     "data": {
      "text/html": [
       "<div>\n",
       "<style scoped>\n",
       "    .dataframe tbody tr th:only-of-type {\n",
       "        vertical-align: middle;\n",
       "    }\n",
       "\n",
       "    .dataframe tbody tr th {\n",
       "        vertical-align: top;\n",
       "    }\n",
       "\n",
       "    .dataframe thead th {\n",
       "        text-align: right;\n",
       "    }\n",
       "</style>\n",
       "<table border=\"1\" class=\"dataframe\">\n",
       "  <thead>\n",
       "    <tr style=\"text-align: right;\">\n",
       "      <th></th>\n",
       "      <th>Temperature_Laval</th>\n",
       "      <th>Temperature_Montréal</th>\n",
       "    </tr>\n",
       "  </thead>\n",
       "  <tbody>\n",
       "    <tr>\n",
       "      <th>count</th>\n",
       "      <td>551.000000</td>\n",
       "      <td>551.000000</td>\n",
       "    </tr>\n",
       "    <tr>\n",
       "      <th>mean</th>\n",
       "      <td>7.984682</td>\n",
       "      <td>8.949292</td>\n",
       "    </tr>\n",
       "    <tr>\n",
       "      <th>std</th>\n",
       "      <td>11.667955</td>\n",
       "      <td>11.664131</td>\n",
       "    </tr>\n",
       "    <tr>\n",
       "      <th>min</th>\n",
       "      <td>-13.012893</td>\n",
       "      <td>-12.506080</td>\n",
       "    </tr>\n",
       "    <tr>\n",
       "      <th>25%</th>\n",
       "      <td>-2.928298</td>\n",
       "      <td>-2.222908</td>\n",
       "    </tr>\n",
       "    <tr>\n",
       "      <th>50%</th>\n",
       "      <td>9.116506</td>\n",
       "      <td>10.245195</td>\n",
       "    </tr>\n",
       "    <tr>\n",
       "      <th>75%</th>\n",
       "      <td>18.760088</td>\n",
       "      <td>19.596149</td>\n",
       "    </tr>\n",
       "    <tr>\n",
       "      <th>max</th>\n",
       "      <td>27.406720</td>\n",
       "      <td>28.593496</td>\n",
       "    </tr>\n",
       "  </tbody>\n",
       "</table>\n",
       "</div>"
      ],
      "text/plain": [
       "       Temperature_Laval  Temperature_Montréal\n",
       "count         551.000000            551.000000\n",
       "mean            7.984682              8.949292\n",
       "std            11.667955             11.664131\n",
       "min           -13.012893            -12.506080\n",
       "25%            -2.928298             -2.222908\n",
       "50%             9.116506             10.245195\n",
       "75%            18.760088             19.596149\n",
       "max            27.406720             28.593496"
      ]
     },
     "execution_count": 5,
     "metadata": {},
     "output_type": "execute_result"
    }
   ],
   "source": [
    "# 1.d Quelles sont les moyennes des températures de deux villes ?\n",
    "df_temperature.describe()"
   ]
  },
  {
   "cell_type": "markdown",
   "metadata": {},
   "source": [
    "Votre réponse ici: "
   ]
  },
  {
   "cell_type": "code",
   "execution_count": 6,
   "metadata": {},
   "outputs": [],
   "source": [
    "# 1.e Modifier les noms des colonnes du dataframe (**PAS CELLES DU FICHIER CSV**) par 'Laval' et 'Montréal'. \n",
    "df_temperature = df_temperature.rename(columns={'Temperature_Montréal': 'Montréal'})\n",
    "df_temperature = df_temperature.rename(columns={'Temperature_Laval': 'Laval'})"
   ]
  },
  {
   "cell_type": "code",
   "execution_count": 7,
   "metadata": {},
   "outputs": [
    {
     "data": {
      "text/html": [
       "<div>\n",
       "<style scoped>\n",
       "    .dataframe tbody tr th:only-of-type {\n",
       "        vertical-align: middle;\n",
       "    }\n",
       "\n",
       "    .dataframe tbody tr th {\n",
       "        vertical-align: top;\n",
       "    }\n",
       "\n",
       "    .dataframe thead th {\n",
       "        text-align: right;\n",
       "    }\n",
       "</style>\n",
       "<table border=\"1\" class=\"dataframe\">\n",
       "  <thead>\n",
       "    <tr style=\"text-align: right;\">\n",
       "      <th></th>\n",
       "      <th>Mois</th>\n",
       "      <th>Laval</th>\n",
       "      <th>Montréal</th>\n",
       "    </tr>\n",
       "  </thead>\n",
       "  <tbody>\n",
       "    <tr>\n",
       "      <th>547</th>\n",
       "      <td>Octobre</td>\n",
       "      <td>11.905280</td>\n",
       "      <td>11.278567</td>\n",
       "    </tr>\n",
       "    <tr>\n",
       "      <th>548</th>\n",
       "      <td>Novembre</td>\n",
       "      <td>2.597270</td>\n",
       "      <td>NaN</td>\n",
       "    </tr>\n",
       "    <tr>\n",
       "      <th>549</th>\n",
       "      <td>Novembre</td>\n",
       "      <td>4.272655</td>\n",
       "      <td>4.132977</td>\n",
       "    </tr>\n",
       "    <tr>\n",
       "      <th>550</th>\n",
       "      <td>Décembre</td>\n",
       "      <td>-2.563980</td>\n",
       "      <td>-9.352511</td>\n",
       "    </tr>\n",
       "    <tr>\n",
       "      <th>551</th>\n",
       "      <td>Décembre</td>\n",
       "      <td>NaN</td>\n",
       "      <td>-3.839179</td>\n",
       "    </tr>\n",
       "  </tbody>\n",
       "</table>\n",
       "</div>"
      ],
      "text/plain": [
       "         Mois      Laval   Montréal\n",
       "547   Octobre  11.905280  11.278567\n",
       "548  Novembre   2.597270        NaN\n",
       "549  Novembre   4.272655   4.132977\n",
       "550  Décembre  -2.563980  -9.352511\n",
       "551  Décembre        NaN  -3.839179"
      ]
     },
     "execution_count": 7,
     "metadata": {},
     "output_type": "execute_result"
    }
   ],
   "source": [
    "# 1.f Affichier les 5 dernières lignes \n",
    "df_temperature.tail()"
   ]
  },
  {
   "cell_type": "code",
   "execution_count": 8,
   "metadata": {},
   "outputs": [
    {
     "name": "stderr",
     "output_type": "stream",
     "text": [
      "C:\\Users\\NatDe\\AppData\\Local\\Temp\\ipykernel_32796\\2935336269.py:6: SettingWithCopyWarning: \n",
      "A value is trying to be set on a copy of a slice from a DataFrame\n",
      "\n",
      "See the caveats in the documentation: https://pandas.pydata.org/pandas-docs/stable/user_guide/indexing.html#returning-a-view-versus-a-copy\n",
      "  df_temperature[colonne][i] = 0\n"
     ]
    }
   ],
   "source": [
    "# 1.g Écrire le code permettant de remplacer ces données par 0.\n",
    "#     Vérifier le changement en affichant les 5 dernières lignes de données.\n",
    "for colonne in df_temperature.columns:\n",
    "    for i in range(len(df_temperature[colonne])):\n",
    "        if pd.isna(df_temperature[colonne][i]):\n",
    "            df_temperature[colonne][i] = 0"
   ]
  },
  {
   "cell_type": "code",
   "execution_count": 9,
   "metadata": {},
   "outputs": [
    {
     "data": {
      "text/html": [
       "<div>\n",
       "<style scoped>\n",
       "    .dataframe tbody tr th:only-of-type {\n",
       "        vertical-align: middle;\n",
       "    }\n",
       "\n",
       "    .dataframe tbody tr th {\n",
       "        vertical-align: top;\n",
       "    }\n",
       "\n",
       "    .dataframe thead th {\n",
       "        text-align: right;\n",
       "    }\n",
       "</style>\n",
       "<table border=\"1\" class=\"dataframe\">\n",
       "  <thead>\n",
       "    <tr style=\"text-align: right;\">\n",
       "      <th></th>\n",
       "      <th>Mois</th>\n",
       "      <th>Laval</th>\n",
       "      <th>Montréal</th>\n",
       "    </tr>\n",
       "  </thead>\n",
       "  <tbody>\n",
       "    <tr>\n",
       "      <th>547</th>\n",
       "      <td>Octobre</td>\n",
       "      <td>11.905280</td>\n",
       "      <td>11.278567</td>\n",
       "    </tr>\n",
       "    <tr>\n",
       "      <th>548</th>\n",
       "      <td>Novembre</td>\n",
       "      <td>2.597270</td>\n",
       "      <td>0.000000</td>\n",
       "    </tr>\n",
       "    <tr>\n",
       "      <th>549</th>\n",
       "      <td>Novembre</td>\n",
       "      <td>4.272655</td>\n",
       "      <td>4.132977</td>\n",
       "    </tr>\n",
       "    <tr>\n",
       "      <th>550</th>\n",
       "      <td>Décembre</td>\n",
       "      <td>-2.563980</td>\n",
       "      <td>-9.352511</td>\n",
       "    </tr>\n",
       "    <tr>\n",
       "      <th>551</th>\n",
       "      <td>Décembre</td>\n",
       "      <td>0.000000</td>\n",
       "      <td>-3.839179</td>\n",
       "    </tr>\n",
       "  </tbody>\n",
       "</table>\n",
       "</div>"
      ],
      "text/plain": [
       "         Mois      Laval   Montréal\n",
       "547   Octobre  11.905280  11.278567\n",
       "548  Novembre   2.597270   0.000000\n",
       "549  Novembre   4.272655   4.132977\n",
       "550  Décembre  -2.563980  -9.352511\n",
       "551  Décembre   0.000000  -3.839179"
      ]
     },
     "execution_count": 9,
     "metadata": {},
     "output_type": "execute_result"
    }
   ],
   "source": [
    "# 1.h Vérifier le changement en affichant les 5 dernières lignes de données.\n",
    "df_temperature.tail()"
   ]
  },
  {
   "cell_type": "code",
   "execution_count": 26,
   "metadata": {},
   "outputs": [
    {
     "data": {
      "text/html": [
       "<div>\n",
       "<style scoped>\n",
       "    .dataframe tbody tr th:only-of-type {\n",
       "        vertical-align: middle;\n",
       "    }\n",
       "\n",
       "    .dataframe tbody tr th {\n",
       "        vertical-align: top;\n",
       "    }\n",
       "\n",
       "    .dataframe thead th {\n",
       "        text-align: right;\n",
       "    }\n",
       "</style>\n",
       "<table border=\"1\" class=\"dataframe\">\n",
       "  <thead>\n",
       "    <tr style=\"text-align: right;\">\n",
       "      <th></th>\n",
       "      <th>Mois</th>\n",
       "      <th>Laval</th>\n",
       "      <th>Montréal</th>\n",
       "    </tr>\n",
       "  </thead>\n",
       "  <tbody>\n",
       "    <tr>\n",
       "      <th>10</th>\n",
       "      <td>Juin</td>\n",
       "      <td>22.931298</td>\n",
       "      <td>20.548447</td>\n",
       "    </tr>\n",
       "    <tr>\n",
       "      <th>12</th>\n",
       "      <td>Juillet</td>\n",
       "      <td>21.911235</td>\n",
       "      <td>24.221845</td>\n",
       "    </tr>\n",
       "    <tr>\n",
       "      <th>13</th>\n",
       "      <td>Juillet</td>\n",
       "      <td>20.698013</td>\n",
       "      <td>24.751396</td>\n",
       "    </tr>\n",
       "    <tr>\n",
       "      <th>14</th>\n",
       "      <td>Août</td>\n",
       "      <td>20.798723</td>\n",
       "      <td>22.416613</td>\n",
       "    </tr>\n",
       "    <tr>\n",
       "      <th>15</th>\n",
       "      <td>Août</td>\n",
       "      <td>20.796587</td>\n",
       "      <td>26.704556</td>\n",
       "    </tr>\n",
       "  </tbody>\n",
       "</table>\n",
       "</div>"
      ],
      "text/plain": [
       "       Mois      Laval   Montréal\n",
       "10     Juin  22.931298  20.548447\n",
       "12  Juillet  21.911235  24.221845\n",
       "13  Juillet  20.698013  24.751396\n",
       "14     Août  20.798723  22.416613\n",
       "15     Août  20.796587  26.704556"
      ]
     },
     "execution_count": 26,
     "metadata": {},
     "output_type": "execute_result"
    }
   ],
   "source": [
    "# 1.i Filtrez les mois ayant une température supérieure à 20C pour Montréal\n",
    "# Afficher les 5 premiers mois.\n",
    "df_chaud = df_temperature[df_temperature['Montréal'] > 20]\n",
    "df_chaud.head()"
   ]
  },
  {
   "cell_type": "markdown",
   "metadata": {},
   "source": [
    "#### 2. Extraire des informations clés pour effectuer des analyses pertinentes"
   ]
  },
  {
   "cell_type": "code",
   "execution_count": 11,
   "metadata": {},
   "outputs": [],
   "source": [
    "# 2.a Grouper les données par **mois** et calculer la moyenne des températures pour chaque mois pour chacune des villes. \n",
    "\n",
    "# ATTENTION: vous devez obligatoirement utiliser des boucles et **UNIQUEMENT** les fonctions vues dans le cours.\n",
    "# ASTUCE: Utiliser une liste pour stocker le mois de l'année et des boucles imbriquées pour calcules les moyennes\n",
    "\n"
   ]
  },
  {
   "cell_type": "code",
   "execution_count": 12,
   "metadata": {},
   "outputs": [],
   "source": [
    "# 2.b i) Écrire une fonction qui permet de créer un DataFrame contenant les températures moyennes mensuelles pour chaque ville.\n",
    "\n",
    "def get_temps_moyennes():\n",
    "    \"\"\"\n",
    "    Crée un DataFrame contenant les températures moyennes mensuelles pour chaque ville (Laval et Montréal),\n",
    "    sans utiliser les fonctions groupby et mean de pandas.\n",
    "\n",
    "    Paramètres :\n",
    "    AUCUN *****-df (pandas.DataFrame) : DataFrame contenant les colonnes 'Mois', 'Laval' et 'Montréal'.\n",
    "\n",
    "    Retourne :\n",
    "    pandas.DataFrame : Un nouveau DataFrame avec les colonnes 'Mois', 'Temperature_Moyenne_Laval' et 'Temperature_Moyenne_Montréal',\n",
    "                       représentant les températures moyennes mensuelles pour chaque ville.\n",
    "    \"\"\"\n",
    "    # Initialiser des listes pour stocker les mois et les températures moyennes\n",
    "    mois_annee = []\n",
    "    moy_temp_laval = []\n",
    "    moy_temp_montreal = []\n",
    "\n",
    "    # Parcourir chaque mois unique dans le DataFrame\n",
    "    for m in df_temperature['Mois'].unique():\n",
    "        # Initialiser des listes pour stocker les températures du mois courant\n",
    "        temps_laval = []\n",
    "        temps_montreal = []\n",
    "        \n",
    "        # Parcourir chaque ligne du DataFrame\n",
    "        for i in range(len(df_temperature)):\n",
    "            if df_temperature['Mois'][i] == m:\n",
    "                temps_laval.append(df_temperature['Laval'][i])\n",
    "                temps_montreal.append(df_temperature['Montréal'][i])\n",
    "        \n",
    "        # Calculer la température moyenne pour le mois courant\n",
    "        moy_temp_laval.append(sum(temps_laval) / len(temps_laval))\n",
    "        moy_temp_montreal.append(sum(temps_montreal) / len(temps_montreal))\n",
    "        mois_annee.append(m)\n",
    "\n",
    "    # Créer un nouveau DataFrame avec les résultats\n",
    "    result_df = pd.DataFrame({\n",
    "        'Mois': mois_annee,\n",
    "        'Temperature_Moyenne_Laval': moy_temp_laval,\n",
    "        'Temperature_Moyenne_Montréal': moy_temp_montreal\n",
    "    })\n",
    "\n",
    "    print(result_df)\n",
    "    return result_df"
   ]
  },
  {
   "cell_type": "code",
   "execution_count": 13,
   "metadata": {},
   "outputs": [
    {
     "name": "stdout",
     "output_type": "stream",
     "text": [
      "Température minimale à Laval : -13.012892640515146\n",
      "Température minimale à Montréal : -12.50608031072547\n"
     ]
    }
   ],
   "source": [
    "# 2.b ii) Écrire une fonction qui renvoie la température minimale enregistrée pour une ville donnée.\n",
    "\n",
    "def temperature_min(ville):\n",
    "    \"\"\"\n",
    "    Retourne la température minimale enregistrée pour une ville donnée.\n",
    "\n",
    "    Paramètres:\n",
    "    ville (str): Le nom de la ville pour laquelle on souhaite obtenir la température maximale.\n",
    "                 Les valeurs acceptées sont 'Laval' et 'Montréal'.\n",
    "\n",
    "    Retourne:\n",
    "    float: La température minimale enregistrée pour la ville spécifiée.\n",
    "\n",
    "    Remarques:\n",
    "    - Si la ville spécifiée n'est pas 'Laval' ou 'Montréal', un message d'erreur est affiché.\n",
    "    - La fonction suppose que df_temperature est un DataFrame contenant les colonnes 'Laval' et 'Montréal'.\n",
    "    \"\"\"\n",
    "    min_temp = float(0)\n",
    "    for i in range(len(df_temperature)):\n",
    "        if ville == 'Laval':\n",
    "            temp = df_temperature['Laval'][i]\n",
    "        elif ville == 'Montréal':\n",
    "            temp = df_temperature['Montréal'][i]\n",
    "        else:\n",
    "            print(\"Ville non reconnue. Utilisez 'Laval' ou 'Montréal'.\")\n",
    "        \n",
    "        if temp < min_temp:\n",
    "            min_temp = temp\n",
    "    return min_temp\n",
    "\n",
    "# Utilisation des fonctions\n",
    "ville = 'Laval'\n",
    "print(f\"Température minimale à {ville} : {temperature_min(ville)}\")\n",
    "\n",
    "ville = 'Montréal'\n",
    "print(f\"Température minimale à {ville} : {temperature_min(ville)}\")"
   ]
  },
  {
   "cell_type": "code",
   "execution_count": 14,
   "metadata": {},
   "outputs": [
    {
     "name": "stdout",
     "output_type": "stream",
     "text": [
      "Température maximale à Laval : 27.40671960649972\n",
      "Température maximale à Montréal : 28.593495967121683\n"
     ]
    }
   ],
   "source": [
    "# 2.b iii) Écrire une fonction qui renvoie la température maximale enregistrée pour une ville donnée.\n",
    "# Fonctions min et max\n",
    "\n",
    "def temperature_max(ville):\n",
    "    \"\"\"\n",
    "    Retourne la température maximale enregistrée pour une ville donnée.\n",
    "\n",
    "    Paramètres:\n",
    "    ville (str): Le nom de la ville pour laquelle on souhaite obtenir la température maximale.\n",
    "                 Les valeurs acceptées sont 'Laval' et 'Montréal'.\n",
    "\n",
    "    Retourne:\n",
    "    float: La température maximale enregistrée pour la ville spécifiée.\n",
    "\n",
    "    Remarques:\n",
    "    - Si la ville spécifiée n'est pas 'Laval' ou 'Montréal', un message d'erreur est affiché.\n",
    "    - La fonction suppose que df_temperature est un DataFrame contenant les colonnes 'Laval' et 'Montréal'.\n",
    "    \"\"\"\n",
    "    max_temp = float(0)\n",
    "    for i in range(len(df_temperature[ville])):\n",
    "        if ville == 'Laval':\n",
    "            temp = df_temperature['Laval'][i]\n",
    "        elif ville == 'Montréal':\n",
    "            temp = df_temperature['Montréal'][i]\n",
    "        else:\n",
    "            print(\"Ville non reconnue. Utilisez 'Laval' ou 'Montréal'.\")\n",
    "        \n",
    "        if temp > max_temp:\n",
    "            max_temp = temp\n",
    "    return max_temp\n",
    "\n",
    "# Utilisation des fonctions\n",
    "ville = 'Laval'\n",
    "print(f\"Température maximale à {ville} : {temperature_max(ville)}\")\n",
    "\n",
    "ville = 'Montréal'\n",
    "print(f\"Température maximale à {ville} : {temperature_max(ville)}\")"
   ]
  },
  {
   "cell_type": "code",
   "execution_count": 15,
   "metadata": {},
   "outputs": [],
   "source": [
    "# 2.b iv) Écrire une fonction qui prend en paramètre les températures moyennes et le mois de décembre par défaut, et renvoie la ville (Montréal ou Laval) qui a eu la température la plus élevée en décembre.\n",
    "# Question 1: \n",
    "\n",
    "def ville_temp_haute(temp_moy1, temp_moy2, mois=\"Décembre\"):\n",
    "    \"\"\"\n",
    "    Détermine la ville avec la température moyenne la plus élevée en décembre\n",
    "\n",
    "    Paramètres\n",
    "    (str)   mois     : Le mois, par défaut Décembre   \n",
    "    (float) temp_moy1: La température moyenne pour Laval (mois donné)\n",
    "    (float) temp_moy2: Les température moyenne pour Montréal (mois donné)\n",
    "\n",
    "    Retour:\n",
    "    str : Le nom de la ville qui a eu la température moyenne la plus élevée\n",
    "    \"\"\"\n",
    "\n",
    "    if temp_moy1 > temp_moy2:\n",
    "        ville_temp_haute = 'Laval'\n",
    "    else:\n",
    "        ville_temp_haute = 'Montréal'\n",
    "    \n",
    "    return ville_temp_haute"
   ]
  },
  {
   "cell_type": "code",
   "execution_count": 16,
   "metadata": {},
   "outputs": [],
   "source": [
    "# 2.b v) Écrire une fonction qui prend en paramètre les températures moyennes et le mois de juillet par défaut, et renvoie la ville (Montréal ou Laval) qui a eu la température la plus élevée en juillet.\n",
    "# Question 2: \n",
    "\n",
    "def ville_temp_basse(temp_moy1, temp_moy2, mois=\"Juillet\"):\n",
    "    \"\"\"\n",
    "    Détermine la ville avec la température moyenne la plus basse\n",
    "\n",
    "    Paramètres\n",
    "    (str)   mois     : Le mois, par défaut Juillet  \n",
    "    (float) temp_moy1: La température moyenne pour Laval (mois donné)\n",
    "    (float) temp_moy2: Les température moyenne pour Montréal (mois donné)\n",
    "\n",
    "    Retour:\n",
    "    str : Le nom de la ville qui a eu la température moyenne la plus basse\n",
    "    \"\"\"\n",
    "\n",
    "    if temp_moy1 > temp_moy2:\n",
    "        ville_temp_basse = 'Montréal'\n",
    "    else:\n",
    "        ville_temp_basse = 'Laval'\n",
    "    \n",
    "    return ville_temp_basse"
   ]
  },
  {
   "cell_type": "code",
   "execution_count": 17,
   "metadata": {},
   "outputs": [],
   "source": [
    "# 2.b vi) Écrire une fonction qui ne prend pas de paramètre et renvoie une liste des mois où les températures des deux villes étaient similaires. \n",
    "# NB : On considère que deux températures sont similaires si leur différence est strictement inférieure à 1.\n",
    "# Question 3: \n",
    "\n",
    "def mois_similaire():\n",
    "    \"\"\"\n",
    "    Détermine les mois où les températures sont considérées similiares entre Laval et Montréal\n",
    "\n",
    "    Paramètres:\n",
    "    Aucun\n",
    "\n",
    "    Retour: \n",
    "    mois_similaires : liste des mois où les températures sont considérées similiares entre les deux villes\n",
    "    \"\"\"\n",
    "    mois_similaires = []\n",
    "    # Parcourir chaque ligne du DataFrame en utilisant des indices\n",
    "    for i in range(len(df_temperature)):\n",
    "        if abs(df_temperature['Laval'][i] - df_temperature['Montréal'][i]) < 1:\n",
    "            mois_similaires.append(df_temperature['Mois'][i])\n",
    "    return mois_similaires\n",
    "    "
   ]
  },
  {
   "cell_type": "markdown",
   "metadata": {},
   "source": [
    "#### 3. Utiliser Matplotlib pour visualiser les données graphiquement"
   ]
  },
  {
   "cell_type": "code",
   "execution_count": 18,
   "metadata": {},
   "outputs": [
    {
     "data": {
      "text/plain": [
       "\"\\nimport matplotlib.pyplot as plt\\n\\nplt.figure(figsize=(10, 6))\\nplt.plot(df_temperature['Laval'].index, moyenne_laval, label='Laval')\\nplt.plot(df_temperature['Montréal'].index, moyenne_montreal, label='Montréal')\\nplt.xlabel('Mois')\\nplt.ylabel('Température moyenne (°C)')\\nplt.title('Température moyenne mensuelle à Laval et Montréal (2023)')\\nplt.legend()\\nplt.grid(True)\\nplt.show()\\n\\n====\\nimport matplotlib.pyplot as plt\\n\\nplt.figure(figsize=(10, 6))\\nplt.plot(monthly_avg_temp.index, monthly_avg_temp['Laval_Temperature'], label='Laval')\\nplt.plot(monthly_avg_temp.index, monthly_avg_temp['Montreal_Temperature'], label='Montréal')\\nplt.xlabel('Mois')\\nplt.ylabel('Température Moyenne (°C)')\\nplt.title('Température Moyenne Mensuelle à Laval et Montréal (2023)')\\nplt.legend()\\nplt.grid(True)\\nplt.show()\\n\\n\""
      ]
     },
     "execution_count": 18,
     "metadata": {},
     "output_type": "execute_result"
    }
   ],
   "source": [
    "# Graphique 1: \n",
    "# Utilisez matplotlib pour créer un graphique en lignes.\n",
    "\"\"\"\n",
    "import matplotlib.pyplot as plt\n",
    "\n",
    "plt.figure(figsize=(10, 6))\n",
    "plt.plot(df_temperature['Laval'].index, moyenne_laval, label='Laval')\n",
    "plt.plot(df_temperature['Montréal'].index, moyenne_montreal, label='Montréal')\n",
    "plt.xlabel('Mois')\n",
    "plt.ylabel('Température moyenne (°C)')\n",
    "plt.title('Température moyenne mensuelle à Laval et Montréal (2023)')\n",
    "plt.legend()\n",
    "plt.grid(True)\n",
    "plt.show()\n",
    "\n",
    "====\n",
    "import matplotlib.pyplot as plt\n",
    "\n",
    "plt.figure(figsize=(10, 6))\n",
    "plt.plot(monthly_avg_temp.index, monthly_avg_temp['Laval_Temperature'], label='Laval')\n",
    "plt.plot(monthly_avg_temp.index, monthly_avg_temp['Montreal_Temperature'], label='Montréal')\n",
    "plt.xlabel('Mois')\n",
    "plt.ylabel('Température Moyenne (°C)')\n",
    "plt.title('Température Moyenne Mensuelle à Laval et Montréal (2023)')\n",
    "plt.legend()\n",
    "plt.grid(True)\n",
    "plt.show()\n",
    "\n",
    "\"\"\""
   ]
  },
  {
   "cell_type": "code",
   "execution_count": 19,
   "metadata": {},
   "outputs": [],
   "source": [
    "# Graphique 2: "
   ]
  },
  {
   "cell_type": "code",
   "execution_count": 20,
   "metadata": {},
   "outputs": [
    {
     "name": "stdout",
     "output_type": "stream",
     "text": [
      "24\n"
     ]
    }
   ],
   "source": [
    "x = 0\n",
    "for i in range(4):\n",
    "    for j in range(4):\n",
    "        x = x + j\n",
    "print(x)"
   ]
  },
  {
   "cell_type": "code",
   "execution_count": 21,
   "metadata": {},
   "outputs": [],
   "source": [
    "# Graphique 3: "
   ]
  },
  {
   "cell_type": "code",
   "execution_count": 22,
   "metadata": {},
   "outputs": [],
   "source": [
    "# Graphique 4: "
   ]
  },
  {
   "cell_type": "markdown",
   "metadata": {},
   "source": [
    "#### 4. Analyser les résultats et en tirer des conclusions"
   ]
  },
  {
   "cell_type": "markdown",
   "metadata": {},
   "source": [
    "<div class=\"alert alert-block alert-success\">\n",
    "<b>Question 1.</b> Quelle ville a eu la température moyenne la plus élevée en décembre 2023 ?</div>"
   ]
  },
  {
   "cell_type": "code",
   "execution_count": 23,
   "metadata": {},
   "outputs": [
    {
     "name": "stdout",
     "output_type": "stream",
     "text": [
      "La température moyenne à Laval pour le mois de Janvier est de -9.72C\n",
      "La température moyenne à Montréal pour le mois de Janvier est de -8.66C\n",
      "\n",
      "La température moyenne à Laval pour le mois de Février est de -7.64C\n",
      "La température moyenne à Montréal pour le mois de Février est de -6.69C\n",
      "\n",
      "La température moyenne à Laval pour le mois de Mars est de -1.88C\n",
      "La température moyenne à Montréal pour le mois de Mars est de -0.8C\n",
      "\n",
      "La température moyenne à Laval pour le mois de Avril est de 8.01C\n",
      "La température moyenne à Montréal pour le mois de Avril est de 9.03C\n",
      "\n",
      "La température moyenne à Laval pour le mois de Mai est de 15.45C\n",
      "La température moyenne à Montréal pour le mois de Mai est de 16.58C\n",
      "\n",
      "La température moyenne à Laval pour le mois de Juin est de 20.04C\n",
      "La température moyenne à Montréal pour le mois de Juin est de 21.02C\n",
      "\n",
      "La température moyenne à Laval pour le mois de Juillet est de 23.41C\n",
      "La température moyenne à Montréal pour le mois de Juillet est de 24.23C\n",
      "\n",
      "La ville avec la température moyenne la plus basse en Juillet est : Laval\n",
      "La température moyenne à Laval pour le mois de Août est de 22.52C\n",
      "La température moyenne à Montréal pour le mois de Août est de 23.07C\n",
      "\n",
      "La température moyenne à Laval pour le mois de Septembre est de 17.21C\n",
      "La température moyenne à Montréal pour le mois de Septembre est de 18.55C\n",
      "\n",
      "La température moyenne à Laval pour le mois de Octobre est de 10.38C\n",
      "La température moyenne à Montréal pour le mois de Octobre est de 11.21C\n",
      "\n",
      "La température moyenne à Laval pour le mois de Novembre est de 2.44C\n",
      "La température moyenne à Montréal pour le mois de Novembre est de 3.76C\n",
      "\n",
      "La température moyenne à Laval pour le mois de Décembre est de -4.57C\n",
      "La température moyenne à Montréal pour le mois de Décembre est de -4.11C\n",
      "\n",
      "La ville avec la température moyenne la plus élevée en Décembre est : Montréal\n"
     ]
    }
   ],
   "source": [
    "# Code pour le calcul des températures mensuelles moyennes\n",
    "mois_courants = ['Janvier', 'Février', 'Mars', 'Avril', 'Mai', 'Juin', 'Juillet', 'Août', 'Septembre', 'Octobre', 'Novembre', 'Décembre']\n",
    "# Boucle pour chaque mois courant\n",
    "for mois in mois_courants:\n",
    "   # Extraction des données pour chaque mois de l'année\n",
    "   df_mois = df_temperature[df_temperature['Mois'] == mois]\n",
    "\n",
    "   # Pour chaque mois traité, on remet les sommes et compteurs à 0\n",
    "   somme_laval = 0   \n",
    "   compteur_laval = 0\n",
    "   somme_montreal = 0\n",
    "   compteur_montreal = 0\n",
    "\n",
    "   # Traitement pour Laval, le mois traité\n",
    "   for temp in df_mois['Laval']:\n",
    "      somme_laval += temp\n",
    "      compteur_laval += 1\n",
    "\n",
    "   # Traitement pour Montréal, le mois traité\n",
    "   for temp in df_mois['Montréal']:\n",
    "      somme_montreal += temp\n",
    "      compteur_montreal += 1\n",
    "      \n",
    "   # Calcul des moyennes pour chaque mois traité\n",
    "   moyenne_laval = somme_laval / compteur_laval\n",
    "   print(f\"La température moyenne à Laval pour le mois de {mois} est de {round(moyenne_laval,2)}C\")\n",
    "   moyenne_montreal = somme_montreal / compteur_montreal\n",
    "   print(f\"La température moyenne à Montréal pour le mois de {mois} est de {round(moyenne_montreal,2)}C\\n\")\n",
    "\n",
    "   if mois == 'Décembre':\n",
    "      # Question 1: \n",
    "      ville_haute = ville_temp_haute(moyenne_laval, moyenne_montreal)\n",
    "      print(f\"La ville avec la température moyenne la plus élevée en {mois} est : {ville_haute}\")\n",
    "   if mois == 'Juillet':\n",
    "      # Question 2: \n",
    "      ville_basse = ville_temp_basse(moyenne_laval, moyenne_montreal)\n",
    "      print(f\"La ville avec la température moyenne la plus basse en {mois} est : {ville_basse}\")"
   ]
  },
  {
   "cell_type": "markdown",
   "metadata": {},
   "source": [
    "<div class=\"alert alert-block alert-success\">\n",
    "<b>Question 2.</b> Quelle ville a eu la température moyenne la plus basse en juillet 2023 ? </div>"
   ]
  },
  {
   "cell_type": "code",
   "execution_count": 24,
   "metadata": {},
   "outputs": [
    {
     "name": "stdout",
     "output_type": "stream",
     "text": [
      "La température moyenne à Laval pour le mois de Janvier est de -9.72C\n",
      "La température moyenne à Montréal pour le mois de Janvier est de -8.66C\n",
      "\n",
      "La température moyenne à Laval pour le mois de Février est de -7.64C\n",
      "La température moyenne à Montréal pour le mois de Février est de -6.69C\n",
      "\n",
      "La température moyenne à Laval pour le mois de Mars est de -1.88C\n",
      "La température moyenne à Montréal pour le mois de Mars est de -0.8C\n",
      "\n",
      "La température moyenne à Laval pour le mois de Avril est de 8.01C\n",
      "La température moyenne à Montréal pour le mois de Avril est de 9.03C\n",
      "\n",
      "La température moyenne à Laval pour le mois de Mai est de 15.45C\n",
      "La température moyenne à Montréal pour le mois de Mai est de 16.58C\n",
      "\n",
      "La température moyenne à Laval pour le mois de Juin est de 20.04C\n",
      "La température moyenne à Montréal pour le mois de Juin est de 21.02C\n",
      "\n",
      "La température moyenne à Laval pour le mois de Juillet est de 23.41C\n",
      "La température moyenne à Montréal pour le mois de Juillet est de 24.23C\n",
      "\n",
      "La ville avec la température moyenne la plus basse en Juillet est : Laval\n",
      "La température moyenne à Laval pour le mois de Août est de 22.52C\n",
      "La température moyenne à Montréal pour le mois de Août est de 23.07C\n",
      "\n",
      "La température moyenne à Laval pour le mois de Septembre est de 17.21C\n",
      "La température moyenne à Montréal pour le mois de Septembre est de 18.55C\n",
      "\n",
      "La température moyenne à Laval pour le mois de Octobre est de 10.38C\n",
      "La température moyenne à Montréal pour le mois de Octobre est de 11.21C\n",
      "\n",
      "La température moyenne à Laval pour le mois de Novembre est de 2.44C\n",
      "La température moyenne à Montréal pour le mois de Novembre est de 3.76C\n",
      "\n",
      "La température moyenne à Laval pour le mois de Décembre est de -4.57C\n",
      "La température moyenne à Montréal pour le mois de Décembre est de -4.11C\n",
      "\n",
      "La ville avec la température moyenne la plus élevée en Décembre est : Montréal\n"
     ]
    }
   ],
   "source": [
    "# Code pour le calcul des températures mensuelles moyennes\n",
    "mois_courants = ['Janvier', 'Février', 'Mars', 'Avril', 'Mai', 'Juin', 'Juillet', 'Août', 'Septembre', 'Octobre', 'Novembre', 'Décembre']\n",
    "# Boucle pour chaque mois courant\n",
    "for mois in mois_courants:\n",
    "   # Extraction des données pour chaque mois de l'année\n",
    "   df_mois = df_temperature[df_temperature['Mois'] == mois]\n",
    "\n",
    "   # Pour chaque mois traité, on remet les sommes et compteurs à 0\n",
    "   somme_laval = 0   \n",
    "   compteur_laval = 0\n",
    "   somme_montreal = 0\n",
    "   compteur_montreal = 0\n",
    "\n",
    "   # Traitement pour Laval, le mois traité\n",
    "   for temp in df_mois['Laval']:\n",
    "      somme_laval += temp\n",
    "      compteur_laval += 1\n",
    "\n",
    "   # Traitement pour Montréal, le mois traité\n",
    "   for temp in df_mois['Montréal']:\n",
    "      somme_montreal += temp\n",
    "      compteur_montreal += 1\n",
    "      \n",
    "   # Calcul des moyennes pour chaque mois traité\n",
    "   moyenne_laval = somme_laval / compteur_laval\n",
    "   print(f\"La température moyenne à Laval pour le mois de {mois} est de {round(moyenne_laval,2)}C\")\n",
    "   moyenne_montreal = somme_montreal / compteur_montreal\n",
    "   print(f\"La température moyenne à Montréal pour le mois de {mois} est de {round(moyenne_montreal,2)}C\\n\")\n",
    "\n",
    "   if mois == 'Décembre':\n",
    "      # Question 1: \n",
    "      ville_haute = ville_temp_haute(moyenne_laval, moyenne_montreal)\n",
    "      print(f\"La ville avec la température moyenne la plus élevée en {mois} est : {ville_haute}\")\n",
    "   if mois == 'Juillet':\n",
    "      # Question 2: \n",
    "      ville_basse = ville_temp_basse(moyenne_laval, moyenne_montreal)\n",
    "      print(f\"La ville avec la température moyenne la plus basse en {mois} est : {ville_basse}\")"
   ]
  },
  {
   "cell_type": "markdown",
   "metadata": {},
   "source": [
    "<div class=\"alert alert-block alert-success\">\n",
    "<b>Question 3.</b> Y a-t-il des mois où les températures des deux villes étaient similaires ?</div>"
   ]
  },
  {
   "cell_type": "code",
   "execution_count": 25,
   "metadata": {},
   "outputs": [
    {
     "name": "stdout",
     "output_type": "stream",
     "text": [
      "Mois où les températures des deux villes étaient similaires : {'Juillet', 'Novembre', 'Janvier', 'Septembre', 'Juin', 'Décembre', 'Avril', 'Août', 'Octobre', 'Février', 'Mars', 'Mai'}\n"
     ]
    }
   ],
   "source": [
    "# Question 3: \n",
    "mois_semblables = mois_similaire()\n",
    "print(f\"Mois où les températures des deux villes étaient similaires : {set(mois_semblables)}\")"
   ]
  },
  {
   "cell_type": "markdown",
   "metadata": {},
   "source": [
    "<div class=\"alert alert-block alert-success\">\n",
    "<b>Question 4.</b> Y a-t-il des tendances saisonnières observables dans les données ?</div>"
   ]
  },
  {
   "cell_type": "markdown",
   "metadata": {},
   "source": []
  }
 ],
 "metadata": {
  "kernelspec": {
   "display_name": "Python 3",
   "language": "python",
   "name": "python3"
  },
  "language_info": {
   "codemirror_mode": {
    "name": "ipython",
    "version": 3
   },
   "file_extension": ".py",
   "mimetype": "text/x-python",
   "name": "python",
   "nbconvert_exporter": "python",
   "pygments_lexer": "ipython3",
   "version": "3.11.9"
  }
 },
 "nbformat": 4,
 "nbformat_minor": 2
}
