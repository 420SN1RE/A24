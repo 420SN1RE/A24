{
 "cells": [
  {
   "cell_type": "markdown",
   "metadata": {
    "vscode": {
     "languageId": "latex"
    }
   },
   "source": [
    "<center><h1>Projet : Analyse de données scientifiques</h1></center>\n",
    "<center><img src=\"images/projet.jpeg\" alt=\"projet analyse de données en sciences\" width=\"200\"></center>\n",
    "\n",
    "Bienvenue dans le monde fantastique de la forêt enchantée de Laval-Montréal ! Vous êtes des jeunes scientifiques intrépides, membres de l'équipe de recherche **Les Écureuils Savants**. Votre mission est d'analyser les données environnementales de cette forêt magique pour comprendre les mystères de la nature et aider les créatures de la forêt à mieux vivre.\n",
    "\n",
    "Dans ce projet vous allez travailler avec un jeu de données pour explorer différentes analyses et visualisations.\n",
    "Suivez les étapes ci-dessus pour compléter chaque partie du projet. \n",
    "\n",
    "### Parties du projet\n",
    "\n",
    "1. Importer et préparer les données.\n",
    "1. Extraire des informations clés pour effectuer des analyses pertinentes.\n",
    "1. Visualiser les données sous forme de graphiques, pour en faciliter l'interprétation.\n",
    "1. Analyser les résultats et en tirer des conclusions.\n",
    "\n",
    "### Consignes\n",
    "<div class=\"alert alert-block alert-success\">\n",
    "Certaines réponses demandent du code et des explications relatives au code ou aux résultats obtenus. \n",
    "\n",
    "Faites attention à bien répondre aux bons endroits, le code python dans une cellule de **Code** et les réponses textuelles dans une cellule de **Markdown**.\n",
    "\n",
    "Assurez vous que tout votre *notebook* s'exécute correctement en une seule fois avec le bouton `Run All` ou `Exécuter tout` de VScode. Les cellules de code suivent un ordre, certaines reprennent le résultat d'une précédente. Faites attention à ne pas altérer les données entre deux cellules de code. \n",
    "\n",
    "Pour vous faciliter cette tâche, utilisez régulièrement le bouton `Run All` ou `Exécuter tout` pour vérifier que l'exécution arrive correctement là où vous êtes, n'attendez pas d'avoir tout coder pour utiliser ce bouton.\n",
    "</div>\n",
    "\n",
    "<div class=\"alert alert-block alert-danger\">\n",
    "A la fin de chaque séance, vous devez remettre votre travail (<b>fichiers .ipynb et .csv</b>) dans la boîte de remise prévue à cet effet sur Moodle.\n",
    "\n",
    "Vous pourrez continuer à travailler sur votre projet entre chaque séance mais **la boite de remise sera fermée**. \n",
    "\n",
    "Ces remises sont des points de contrôle.\n",
    "</div>\n",
    "\n",
    "Bon travail et amusez-vous bien les ***Écureuils Savants*** dans la forêt enchantée ! "
   ]
  },
  {
   "cell_type": "markdown",
   "metadata": {},
   "source": [
    "### Données : Températures mensuelles\n",
    "#### 1. Importer et préparer les données\n",
    "1.1. Charger les données dans un dataframe  \n",
    "1.2. Visualisez les **10 premières** lignes du dataframe  \n",
    "1.3. Modifier les noms des colonnes du dataframe (**PAS CELLES DU FICHIER CSV**) par 'Laval' et 'Montréal'.  \n",
    "1.4. Affichier les **5 dernières** lignes  \n",
    "1.5. En visualisant les données, vous vous rendez compte qu'il en manque. Votre chef d'équipe vous informe qu'il s'agit d'une erreur de saisie et qu'en réalité, ces températures correspondent à 0 degrés Celsius. Écrire le code permettant de remplacer ces données par 0."
   ]
  },
  {
   "cell_type": "code",
   "execution_count": 5,
   "metadata": {},
   "outputs": [],
   "source": [
    "import pandas as pd\n",
    "\n",
    "# 1.1. Chargement des données\n",
    "df_precipitation = pd.read_csv('hauteur_precipitation_utf8.csv',encoding='utf-8')"
   ]
  },
  {
   "cell_type": "code",
   "execution_count": 6,
   "metadata": {},
   "outputs": [
    {
     "data": {
      "text/html": [
       "<div>\n",
       "<style scoped>\n",
       "    .dataframe tbody tr th:only-of-type {\n",
       "        vertical-align: middle;\n",
       "    }\n",
       "\n",
       "    .dataframe tbody tr th {\n",
       "        vertical-align: top;\n",
       "    }\n",
       "\n",
       "    .dataframe thead th {\n",
       "        text-align: right;\n",
       "    }\n",
       "</style>\n",
       "<table border=\"1\" class=\"dataframe\">\n",
       "  <thead>\n",
       "    <tr style=\"text-align: right;\">\n",
       "      <th></th>\n",
       "      <th>Precipitation (mm)</th>\n",
       "      <th>Hauteur (m)</th>\n",
       "    </tr>\n",
       "  </thead>\n",
       "  <tbody>\n",
       "    <tr>\n",
       "      <th>0</th>\n",
       "      <td>57.58</td>\n",
       "      <td>10.00</td>\n",
       "    </tr>\n",
       "    <tr>\n",
       "      <th>1</th>\n",
       "      <td>540.65</td>\n",
       "      <td>11.56</td>\n",
       "    </tr>\n",
       "    <tr>\n",
       "      <th>2</th>\n",
       "      <td>504.70</td>\n",
       "      <td>22.97</td>\n",
       "    </tr>\n",
       "    <tr>\n",
       "      <th>3</th>\n",
       "      <td>1951.84</td>\n",
       "      <td>23.28</td>\n",
       "    </tr>\n",
       "    <tr>\n",
       "      <th>4</th>\n",
       "      <td>1722.94</td>\n",
       "      <td>11.89</td>\n",
       "    </tr>\n",
       "    <tr>\n",
       "      <th>5</th>\n",
       "      <td>1499.77</td>\n",
       "      <td>3.89</td>\n",
       "    </tr>\n",
       "    <tr>\n",
       "      <th>6</th>\n",
       "      <td>196.29</td>\n",
       "      <td>26.97</td>\n",
       "    </tr>\n",
       "    <tr>\n",
       "      <th>7</th>\n",
       "      <td>555.17</td>\n",
       "      <td>12.51</td>\n",
       "    </tr>\n",
       "    <tr>\n",
       "      <th>8</th>\n",
       "      <td>879.12</td>\n",
       "      <td>9.68</td>\n",
       "    </tr>\n",
       "    <tr>\n",
       "      <th>9</th>\n",
       "      <td>1692.20</td>\n",
       "      <td>16.10</td>\n",
       "    </tr>\n",
       "  </tbody>\n",
       "</table>\n",
       "</div>"
      ],
      "text/plain": [
       "   Precipitation (mm)  Hauteur (m)\n",
       "0               57.58        10.00\n",
       "1              540.65        11.56\n",
       "2              504.70        22.97\n",
       "3             1951.84        23.28\n",
       "4             1722.94        11.89\n",
       "5             1499.77         3.89\n",
       "6              196.29        26.97\n",
       "7              555.17        12.51\n",
       "8              879.12         9.68\n",
       "9             1692.20        16.10"
      ]
     },
     "execution_count": 6,
     "metadata": {},
     "output_type": "execute_result"
    }
   ],
   "source": [
    "# 1.2. Visualisation des 10 premières lignes\n",
    "df_precipitation.head(10)"
   ]
  },
  {
   "cell_type": "code",
   "execution_count": 7,
   "metadata": {},
   "outputs": [
    {
     "ename": "NameError",
     "evalue": "name 'df_temperature' is not defined",
     "output_type": "error",
     "traceback": [
      "\u001b[1;31m---------------------------------------------------------------------------\u001b[0m",
      "\u001b[1;31mNameError\u001b[0m                                 Traceback (most recent call last)",
      "Cell \u001b[1;32mIn[7], line 2\u001b[0m\n\u001b[0;32m      1\u001b[0m \u001b[38;5;66;03m# 1.3. Renommage des colonnes\u001b[39;00m\n\u001b[1;32m----> 2\u001b[0m df_temperature \u001b[38;5;241m=\u001b[39m \u001b[43mdf_temperature\u001b[49m\u001b[38;5;241m.\u001b[39mrename(columns\u001b[38;5;241m=\u001b[39m{\u001b[38;5;124m'\u001b[39m\u001b[38;5;124mTemperature_Montréal\u001b[39m\u001b[38;5;124m'\u001b[39m: \u001b[38;5;124m'\u001b[39m\u001b[38;5;124mMontréal\u001b[39m\u001b[38;5;124m'\u001b[39m})\n\u001b[0;32m      3\u001b[0m df_temperature \u001b[38;5;241m=\u001b[39m df_temperature\u001b[38;5;241m.\u001b[39mrename(columns\u001b[38;5;241m=\u001b[39m{\u001b[38;5;124m'\u001b[39m\u001b[38;5;124mTemperature_Laval\u001b[39m\u001b[38;5;124m'\u001b[39m: \u001b[38;5;124m'\u001b[39m\u001b[38;5;124mLaval\u001b[39m\u001b[38;5;124m'\u001b[39m})\n",
      "\u001b[1;31mNameError\u001b[0m: name 'df_temperature' is not defined"
     ]
    }
   ],
   "source": [
    "# 1.3. Renommage des colonnes\n",
    "df_temperature = df_temperature.rename(columns={'Temperature_Montréal': 'Montréal'})\n",
    "df_temperature = df_temperature.rename(columns={'Temperature_Laval': 'Laval'})"
   ]
  },
  {
   "cell_type": "code",
   "execution_count": null,
   "metadata": {},
   "outputs": [],
   "source": [
    "# 1.4. Visualisation des 5 denières lignes\n",
    "df_temperature.tail()"
   ]
  },
  {
   "cell_type": "code",
   "execution_count": null,
   "metadata": {},
   "outputs": [],
   "source": [
    "# 1.5. Remplacer les valeurs manquantes par 0\n",
    "for column in df_temperature.columns:\n",
    "    for i in range(len(df_temperature[column])):\n",
    "        if pd.isna(df_temperature[column][i]):\n",
    "            df_temperature[column][i] = 0\n",
    "\n",
    "df_temperature.tail()"
   ]
  },
  {
   "cell_type": "markdown",
   "metadata": {},
   "source": [
    "### Données : Températures mensuelles\n",
    "#### 2. Extraire des informations clés pour effectuer des analyses pertinentes"
   ]
  },
  {
   "cell_type": "markdown",
   "metadata": {},
   "source": [
    "#### 2.1 Températures mensuelles moyennes\n",
    "1. Grouper les données par **mois** et calculer la moyenne des températures pour chaque mois pour chacune des villes. \n",
    "\n",
    "    **ATTENTION**: vous devez obligatoirement utiliser des boucles et **UNIQUEMENT** les fonctions vues dans le cours.\n",
    "\n",
    "    **ASTUCE**: Utiliser une liste pour stocker le mois de l'année et des boucles imbriquées pour calcules les moyennes\n",
    "1. Définir des fonctions pour répondre aux questions 1 à 4\n",
    "    - **Question 1**: Écrire une fonction nommée ville_temp_haute(moy1, moy2, m) qui prends en paramètre les températures moyennes et le mois de Décembre par défaut et renvoie la ville (Montréal ou Laval) qui a eut la température la plus élevée en décembre. Utiliser cette fonction dans la cellule de code qui calcule les températures mensuelles moyennes, pour afficher la réponse à la question 1.\n",
    "    - **Question 2**: Écrire une fonction nommée ville_temp_basse(moy1, moy2, m) qui prends en paramètre les températures moyennes et le mois de Juiller par défaut et renvoie la ville (Montréal ou Laval) qui a eut la température la plus élevée en juillet. Utiliser cette fonction dans la cellule de code qui calcule les températures mensuelles moyennes, pour afficher la réponse à la question 2.\n",
    "    - **Question 3**: Écrire une fonction nommée mois_similaire() qui ne prends pas de paramètre et renvoie une liste des mois où les températures des deux villes étaient similaires.\n",
    "    NB: On considère que deux températures sont similaires, si leur différence est     \n",
    "    inférieur à 1. Utiliser cette fonction dans la cellule de code prévue pour afficher la réponse à la question 3.\n",
    "    - **Question 4**: Avec les résultats obtenus précédemment, répondre à la question dans la cellule Markcown prévue pour ça.\n"
   ]
  },
  {
   "cell_type": "markdown",
   "metadata": {},
   "source": [
    "<div class=\"alert alert-block alert-success\">\n",
    "<b>Question 1.</b> Quelle ville a eu la température moyenne la plus élevée en décembre 2023 ?</div>\n",
    "<div class=\"alert alert-block alert-success\">\n",
    "<b>Question 2.</b> Quelle ville a eu la température moyenne la plus basse en juillet 2023 ? </div>\n",
    "<div class=\"alert alert-block alert-success\">\n",
    "<b>Question 3.</b> Y a-t-il des mois où les températures des deux villes étaient similaires ?</div>\n",
    "<div class=\"alert alert-block alert-success\">\n",
    "<b>Question 4.</b> Y a-t-il des tendances saisonnières observables dans les données ?</div>"
   ]
  },
  {
   "cell_type": "code",
   "execution_count": null,
   "metadata": {},
   "outputs": [],
   "source": [
    "# Question 1: \n",
    "# Écrire une fonction nommée ville_temp_haute(moy1, moy2, m) qui prends en paramètre les températures moyennes et le mois de Décembre par défaut et renvoie la ville (Montréal ou Laval) qui a eut la température la plus élevée.\n",
    "# Utiliser cette fonction dans la cellule de code qui calcule les températures moyennes, pour afficher la réponse à la question 1.\n",
    "\n",
    "def ville_temp_haute(temp_moy1, temp_moy2, mois=\"Décembre\"):\n",
    "    \"\"\"\n",
    "    Détermine la ville avec la température moyenne la plus élevée\n",
    "\n",
    "    Paramètres\n",
    "    temp_moy1: La température moyenne pour Laval (mois donné)\n",
    "    temp_moy2: Les température moyenne pour Montréal (mois donné)\n",
    "\n",
    "    Retour:\n",
    "    str : Le nom de la ville qui a eu la température moyenne la plus élevée\n",
    "    \"\"\"\n",
    "\n",
    "    if temp_moy1 > temp_moy2:\n",
    "        ville_temp_haute = 'Laval'\n",
    "    else:\n",
    "        ville_temp_haute = 'Montréal'\n",
    "    \n",
    "    return ville_temp_haute"
   ]
  },
  {
   "cell_type": "code",
   "execution_count": null,
   "metadata": {},
   "outputs": [],
   "source": [
    "# Question 2: \n",
    "# Écrire une fonction nommée ville_temp_basse(moy1, moy2, m) qui prends en paramètre les températures moyennes et le mois de Juiller par défaut et renvoie la ville (Montréal ou Laval) qui a eut la température la plus élevée en janvier.\n",
    "# Utiliser cette fonction dans la cellule de code qui calcule les températures moyennes, pour afficher la réponse à la question 2.\n",
    "\n",
    "def ville_temp_basse(temp_moy1, temp_moy2, mois=\"Juillet\"):\n",
    "    \"\"\"\n",
    "    Détermine la ville avec la température moyenne la plus basse\n",
    "\n",
    "    Paramètres\n",
    "    temp_moy1: La température moyenne pour Laval (mois donné)\n",
    "    temp_moy2: Les température moyenne pour Montréal (mois donné)\n",
    "\n",
    "    Retour:\n",
    "    str : Le nom de la ville qui a eu la température moyenne la plus basse\n",
    "    \"\"\"\n",
    "\n",
    "    if temp_moy1 > temp_moy2:\n",
    "        ville_temp_basse = 'Montréal'\n",
    "    else:\n",
    "        ville_temp_basse = 'Laval'\n",
    "    \n",
    "    return ville_temp_basse"
   ]
  },
  {
   "cell_type": "code",
   "execution_count": null,
   "metadata": {},
   "outputs": [],
   "source": [
    "# Question 3: \n",
    "# Écrire une fonction nommée mois_similaire() qui ne prends pas de paramètre et renvoie une liste des mois où les températures des deux villes étaient similaires.\n",
    "# NB: On considère que deux températures sont similaires, si leur différence est inférieur à 1.\n",
    "# Utiliser cette fonction dans la cellule de code prévue pour afficher la réponse à la question 3.\n",
    "\n",
    "def mois_similaire():\n",
    "    \"\"\"\n",
    "    Détermine les mois où les températures sont considérées similiares entre Laval et Montréal\n",
    "\n",
    "    Paramètres:\n",
    "    Aucun\n",
    "\n",
    "    Retour: \n",
    "    mois_similaires : liste des mois où les températures sont considérées similiares entre les deux villes\n",
    "    \"\"\"\n",
    "    mois_similaires = []\n",
    "    # Parcourir chaque ligne du DataFrame en utilisant des indices\n",
    "    for i in range(len(df_temperature)):\n",
    "        if abs(df_temperature['Laval'][i] - df_temperature['Montréal'][i]) < 1:\n",
    "            mois_similaires.append(df_temperature['Mois'][i])\n",
    "    return mois_similaires\n",
    "    "
   ]
  },
  {
   "cell_type": "code",
   "execution_count": null,
   "metadata": {},
   "outputs": [],
   "source": [
    "# Ecrire deux Fonctions min et max Retourne la température maximale et minimales enregistrée pour une ville donnée.\n",
    "\n",
    "def temperature_max(ville):\n",
    "    \"\"\"\n",
    "    Retourne la température maximale enregistrée pour une ville donnée.\n",
    "\n",
    "    Paramètres:\n",
    "    ville (str): Le nom de la ville pour laquelle on souhaite obtenir la température maximale.\n",
    "                 Les valeurs acceptées sont 'Laval' et 'Montréal'.\n",
    "\n",
    "    Retourne:\n",
    "    float: La température maximale enregistrée pour la ville spécifiée.\n",
    "\n",
    "    Remarques:\n",
    "    - Si la ville spécifiée n'est pas 'Laval' ou 'Montréal', un message d'erreur est affiché.\n",
    "    - La fonction suppose que df_temperature est un DataFrame contenant les colonnes 'Laval' et 'Montréal'.\n",
    "    \"\"\"\n",
    "    max_temp = float(0)\n",
    "    for i in range(len(df_temperature[ville])):\n",
    "        if ville == 'Laval':\n",
    "            temp = df_temperature['Laval'][i]\n",
    "        elif ville == 'Montréal':\n",
    "            temp = df_temperature['Montréal'][i]\n",
    "        else:\n",
    "            print(\"Ville non reconnue. Utilisez 'Laval' ou 'Montréal'.\")\n",
    "        \n",
    "        if temp > max_temp:\n",
    "            max_temp = temp\n",
    "    return max_temp\n",
    "\n",
    "def temperature_min(ville):\n",
    "    \"\"\"\n",
    "    Retourne la température minimale enregistrée pour une ville donnée.\n",
    "\n",
    "    Paramètres:\n",
    "    ville (str): Le nom de la ville pour laquelle on souhaite obtenir la température maximale.\n",
    "                 Les valeurs acceptées sont 'Laval' et 'Montréal'.\n",
    "\n",
    "    Retourne:\n",
    "    float: La température minimale enregistrée pour la ville spécifiée.\n",
    "\n",
    "    Remarques:\n",
    "    - Si la ville spécifiée n'est pas 'Laval' ou 'Montréal', un message d'erreur est affiché.\n",
    "    - La fonction suppose que df_temperature est un DataFrame contenant les colonnes 'Laval' et 'Montréal'.\n",
    "    \"\"\"\n",
    "    min_temp = float(0)\n",
    "    for i in range(len(df_temperature)):\n",
    "        if ville == 'Laval':\n",
    "            temp = df_temperature['Laval'][i]\n",
    "        elif ville == 'Montréal':\n",
    "            temp = df_temperature['Montréal'][i]\n",
    "        else:\n",
    "            print(\"Ville non reconnue. Utilisez 'Laval' ou 'Montréal'.\")\n",
    "        \n",
    "        if temp < min_temp:\n",
    "            min_temp = temp\n",
    "    return min_temp\n",
    "\n",
    "# Utilisation des fonctions\n",
    "ville = 'Laval'\n",
    "print(f\"Température maximale à {ville} : {temperature_max(ville)}\")\n",
    "print(f\"Température minimale à {ville} : {temperature_min(ville)}\")\n",
    "\n",
    "ville = 'Montréal'\n",
    "print(f\"Température maximale à {ville} : {temperature_max(ville)}\")\n",
    "print(f\"Température minimale à {ville} : {temperature_min(ville)}\")\n"
   ]
  },
  {
   "cell_type": "code",
   "execution_count": null,
   "metadata": {},
   "outputs": [],
   "source": [
    "# Question 3: \n",
    "mois_semblables = mois_similaire()\n",
    "print(f\"Mois où les températures des deux villes étaient similaires : {set(mois_semblables)}\")"
   ]
  },
  {
   "cell_type": "markdown",
   "metadata": {},
   "source": [
    "#### Question 4 (votre réponse)"
   ]
  },
  {
   "cell_type": "code",
   "execution_count": null,
   "metadata": {},
   "outputs": [],
   "source": [
    "# Code pour le calcul des températures mensuelles moyennes\n",
    "\n",
    "# Boucle pour chaque mois courant\n",
    "for mois in mois_courants:\n",
    "   # Extraction des données pour chaque mois de l'année\n",
    "   df_mois = df_temperature[df_temperature['Mois'] == mois]\n",
    "\n",
    "   # Pour chaque mois traité, on remet les sommes et compteurs à 0\n",
    "   somme_laval = 0   \n",
    "   compteur_laval = 0\n",
    "   somme_montreal = 0\n",
    "   compteur_montreal = 0\n",
    "\n",
    "   # Traitement pour Laval, le mois traité\n",
    "   for temp in df_mois['Laval']:\n",
    "      somme_laval += temp\n",
    "      compteur_laval += 1\n",
    "\n",
    "   # Traitement pour Montréal, le mois traité\n",
    "   for temp in df_mois['Montréal']:\n",
    "      somme_montreal += temp\n",
    "      compteur_montreal += 1\n",
    "      \n",
    "   # Calcul des moyennes pour chaque mois traité\n",
    "   moyenne_laval = somme_laval / compteur_laval\n",
    "   print(f\"La température moyenne à Laval pour le mois de {mois} est de {round(moyenne_laval,2)}C\")\n",
    "   moyenne_montreal = somme_montreal / compteur_montreal\n",
    "   print(f\"La température moyenne à Montréal pour le mois de {mois} est de {round(moyenne_montreal,2)}C\\n\")\n",
    "\n",
    "   if mois == 'Décembre':\n",
    "      # Question 1: \n",
    "      ville_haute = ville_temp_haute(moyenne_laval, moyenne_montreal)\n",
    "      print(f\"La ville avec la température moyenne la plus élevée en {mois} est : {ville_haute}\")\n",
    "   if mois == 'Juillet':\n",
    "      # Question 2: \n",
    "      ville_basse = ville_temp_basse(moyenne_laval, moyenne_montreal)\n",
    "      print(f\"La ville avec la température moyenne la plus basse en {mois} est : {ville_basse}\")"
   ]
  },
  {
   "cell_type": "markdown",
   "metadata": {},
   "source": [
    "À l'aide de boucles, créer un DataFrame qui contient les températures moyennes mensuelles pour chaque ville. \n"
   ]
  },
  {
   "cell_type": "code",
   "execution_count": null,
   "metadata": {},
   "outputs": [],
   "source": [
    "# Initialiser des listes pour stocker les mois et les températures moyennes\n",
    "mois_annee = []\n",
    "moy_temp_laval = []\n",
    "moy_temp_montreal = []\n",
    "\n",
    "# Parcourir chaque mois unique dans le DataFrame\n",
    "for m in df_temperature['Mois'].unique():\n",
    "    # Initialiser des listes pour stocker les températures du mois courant\n",
    "    temps_laval = []\n",
    "    temps_montreal = []\n",
    "    \n",
    "    # Parcourir chaque ligne du DataFrame\n",
    "    for i in range(len(df_temperature)):\n",
    "        if df_temperature['Mois'][i] == month:\n",
    "            temps_laval.append(df_temperature['Laval'][i])\n",
    "            temps_montreal.append(df['Montréal'][i])\n",
    "    \n",
    "    # Calculer la température moyenne pour le mois courant\n",
    "    moy_temp_laval.append(sum(temps_laval) / len(temps_laval))\n",
    "    moy_temp_montreal.append(sum(temps_montreal) / len(temps_montreal))\n",
    "    unique_months.append(month)\n",
    "\n",
    "# Créer un nouveau DataFrame avec les résultats\n",
    "result_df = pd.DataFrame({\n",
    "    'Mois': unique_months,\n",
    "    'Temperature_Moyenne_Laval': moy_temp_laval,\n",
    "    'Temperature_Moyenne_Montréal': moy_temp_montreal\n",
    "})\n",
    "\n",
    "print(result_df)"
   ]
  },
  {
   "cell_type": "markdown",
   "metadata": {},
   "source": [
    "### 3. Visualisation graphiques des données"
   ]
  },
  {
   "cell_type": "code",
   "execution_count": null,
   "metadata": {},
   "outputs": [],
   "source": [
    "# Températures mensuelles\n",
    "# Utilisez matplotlib pour créer un graphique en lignes.\n",
    "\n",
    "import matplotlib.pyplot as plt\n",
    "\n",
    "plt.figure(figsize=(10, 6))\n",
    "plt.plot(df_temperature['Laval'].index, moyenne_laval, label='Laval')\n",
    "plt.plot(df_temperature['Montréal'].index, moyenne_montreal, label='Montréal')\n",
    "plt.xlabel('Mois')\n",
    "plt.ylabel('Température moyenne (°C)')\n",
    "plt.title('Température moyenne mensuelle à Laval et Montréal (2023)')\n",
    "plt.legend()\n",
    "plt.grid(True)\n",
    "plt.show()"
   ]
  },
  {
   "cell_type": "markdown",
   "metadata": {},
   "source": [
    "### Données: Distribution en eau\n",
    "1.1. Charger les données dans un dataframe  \n",
    "1.2. Visualisez les **10 premières** lignes du dataframe   "
   ]
  },
  {
   "cell_type": "code",
   "execution_count": null,
   "metadata": {},
   "outputs": [],
   "source": [
    "# 1.1. Chargement des données\n",
    "df_distribution_eau = pd.read_csv('distribution_eau_utf8.csv')"
   ]
  },
  {
   "cell_type": "code",
   "execution_count": null,
   "metadata": {},
   "outputs": [],
   "source": [
    "# 1.2. Visualisation des 10 premières lignes\n",
    "df_distribution_eau.head(10)"
   ]
  },
  {
   "cell_type": "markdown",
   "metadata": {},
   "source": [
    "### Données: Hauteurs des précipitations\n",
    "1.1. Charger les données dans un dataframe  \n",
    "1.2. Visualisez les **10 premières** lignes du dataframe  "
   ]
  },
  {
   "cell_type": "code",
   "execution_count": null,
   "metadata": {},
   "outputs": [],
   "source": [
    "# 1.1. Chargement des données\n",
    "df_hauteur_precipitation = pd.read_csv('hauteur_precipitation_utf8.csv')"
   ]
  },
  {
   "cell_type": "code",
   "execution_count": null,
   "metadata": {},
   "outputs": [],
   "source": [
    "# 1.2. Visualisation des 10 premières lignes\n",
    "df_hauteur_precipitation.head(10)"
   ]
  },
  {
   "cell_type": "markdown",
   "metadata": {},
   "source": [
    "##### 2.2 Distribution de l'eau\n",
    "a) Grouper les données par catégorie et calculer le pourcentage total pour chaque catégorie.\n",
    "**ATTENTION**: vous devez obligatoirement utiliser une boucle."
   ]
  },
  {
   "cell_type": "code",
   "execution_count": null,
   "metadata": {},
   "outputs": [],
   "source": [
    "# Distribution de l'eau\n",
    "# a) Groupez les données par \n",
    "\n",
    "distribution_eau = distribution_eau.groupby('Categorie').sum()"
   ]
  },
  {
   "cell_type": "code",
   "execution_count": null,
   "metadata": {},
   "outputs": [],
   "source": [
    "# Précipitations et hauteur des arbres\n",
    "# Pas de calcul spécifique nécessaire pour cette analyse."
   ]
  },
  {
   "cell_type": "markdown",
   "metadata": {},
   "source": [
    "### 3. Visualiser les données pour en faciliter l'interprétation"
   ]
  },
  {
   "cell_type": "code",
   "execution_count": null,
   "metadata": {},
   "outputs": [],
   "source": [
    "# Distribution de l'eau\n",
    "Utilisez matplotlib pour créer un graphique en secteurs.\n",
    "\n",
    "plt.figure(figsize=(10, 6))\n",
    "plt.pie(distribution_eau['Percentage'], labels=distribution_eau.index, autopct='%1.1f%%', startangle=140)\n",
    "plt.title('Distribution de l\\'eau sur la Terre (2023)')\n",
    "plt.axis('equal')\n",
    "plt.show()"
   ]
  },
  {
   "cell_type": "code",
   "execution_count": null,
   "metadata": {},
   "outputs": [],
   "source": [
    "# Précipitations et hauteur des arbres\n",
    "# Utilisez `matplotlib` pour créer un graphique en nuage de points.\n",
    "\n",
    "plt.figure(figsize=(10, 6))\n",
    "plt.scatter(hauteur_precipitation['Precipitation (mm)'], hauteur_precipitation['Height (m)'], alpha=0.5)\n",
    "plt.xlabel('Précipitations (mm)')\n",
    "plt.ylabel('Hauteur (m)')\n",
    "plt.title('Relation entre les précipitations et la hauteur des arbres')\n",
    "plt.grid(True)\n",
    "plt.show()"
   ]
  },
  {
   "cell_type": "markdown",
   "metadata": {},
   "source": [
    "### 4. Analyser les résultats et en tirer des conclusions"
   ]
  },
  {
   "cell_type": "markdown",
   "metadata": {},
   "source": [
    "\n",
    "\n",
    "# Distribution de l'eau\n",
    "   - Quelle catégorie contient la plus grande proportion d'eau ?\n",
    "   - Quelle catégorie contient la plus petite proportion d'eau ?\n",
    "   - Y a-t-il des catégories avec des proportions similaires ?\n",
    "   - Quelles conclusions pouvez-vous tirer sur la distribution de l'eau sur la Terre ?\n",
    "\n",
    "# Précipitations et hauteur des arbres\n",
    "   - Y a-t-il une corrélation entre les précipitations et la hauteur des arbres ?\n",
    "   - Quelle est la tendance générale observée dans les données ?\n",
    "   - Y a-t-il des anomalies ou des points de données qui se démarquent ?\n",
    "   - Quelles conclusions pouvez-vous tirer sur la croissance des arbres en fonction des précipitations ?"
   ]
  },
  {
   "cell_type": "markdown",
   "metadata": {},
   "source": []
  }
 ],
 "metadata": {
  "kernelspec": {
   "display_name": "Python 3",
   "language": "python",
   "name": "python3"
  },
  "language_info": {
   "codemirror_mode": {
    "name": "ipython",
    "version": 3
   },
   "file_extension": ".py",
   "mimetype": "text/x-python",
   "name": "python",
   "nbconvert_exporter": "python",
   "pygments_lexer": "ipython3",
   "version": "3.11.9"
  }
 },
 "nbformat": 4,
 "nbformat_minor": 2
}
