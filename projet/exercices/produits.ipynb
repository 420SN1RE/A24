{
 "cells": [
  {
   "cell_type": "code",
   "execution_count": 14,
   "metadata": {},
   "outputs": [],
   "source": [
    "import pandas as pd"
   ]
  },
  {
   "cell_type": "code",
   "execution_count": 15,
   "metadata": {},
   "outputs": [],
   "source": [
    "# Chargement des données du fichier .csv dans un dataframe\n",
    "df_produits = pd.read_csv(\"produits.csv\")"
   ]
  },
  {
   "cell_type": "code",
   "execution_count": 16,
   "metadata": {},
   "outputs": [
    {
     "data": {
      "text/html": [
       "<div>\n",
       "<style scoped>\n",
       "    .dataframe tbody tr th:only-of-type {\n",
       "        vertical-align: middle;\n",
       "    }\n",
       "\n",
       "    .dataframe tbody tr th {\n",
       "        vertical-align: top;\n",
       "    }\n",
       "\n",
       "    .dataframe thead th {\n",
       "        text-align: right;\n",
       "    }\n",
       "</style>\n",
       "<table border=\"1\" class=\"dataframe\">\n",
       "  <thead>\n",
       "    <tr style=\"text-align: right;\">\n",
       "      <th></th>\n",
       "      <th>Produit</th>\n",
       "      <th>Ventes</th>\n",
       "    </tr>\n",
       "  </thead>\n",
       "  <tbody>\n",
       "    <tr>\n",
       "      <th>0</th>\n",
       "      <td>Produit A</td>\n",
       "      <td>200</td>\n",
       "    </tr>\n",
       "    <tr>\n",
       "      <th>1</th>\n",
       "      <td>Produit A</td>\n",
       "      <td>220</td>\n",
       "    </tr>\n",
       "    <tr>\n",
       "      <th>2</th>\n",
       "      <td>Produit A</td>\n",
       "      <td>250</td>\n",
       "    </tr>\n",
       "    <tr>\n",
       "      <th>3</th>\n",
       "      <td>Produit B</td>\n",
       "      <td>180</td>\n",
       "    </tr>\n",
       "    <tr>\n",
       "      <th>4</th>\n",
       "      <td>Produit B</td>\n",
       "      <td>210</td>\n",
       "    </tr>\n",
       "    <tr>\n",
       "      <th>5</th>\n",
       "      <td>Produit B</td>\n",
       "      <td>230</td>\n",
       "    </tr>\n",
       "    <tr>\n",
       "      <th>6</th>\n",
       "      <td>Produit C</td>\n",
       "      <td>190</td>\n",
       "    </tr>\n",
       "    <tr>\n",
       "      <th>7</th>\n",
       "      <td>Produit C</td>\n",
       "      <td>200</td>\n",
       "    </tr>\n",
       "    <tr>\n",
       "      <th>8</th>\n",
       "      <td>Produit C</td>\n",
       "      <td>210</td>\n",
       "    </tr>\n",
       "  </tbody>\n",
       "</table>\n",
       "</div>"
      ],
      "text/plain": [
       "     Produit  Ventes\n",
       "0  Produit A     200\n",
       "1  Produit A     220\n",
       "2  Produit A     250\n",
       "3  Produit B     180\n",
       "4  Produit B     210\n",
       "5  Produit B     230\n",
       "6  Produit C     190\n",
       "7  Produit C     200\n",
       "8  Produit C     210"
      ]
     },
     "execution_count": 16,
     "metadata": {},
     "output_type": "execute_result"
    }
   ],
   "source": [
    "# Affichage des données pour comprendre le jeu de données\n",
    "# - connaitre le noms des colonnes et les données\n",
    "df_produits"
   ]
  },
  {
   "cell_type": "code",
   "execution_count": null,
   "metadata": {},
   "outputs": [
    {
     "name": "stdout",
     "output_type": "stream",
     "text": [
      "Produit B: La vente moyenne est de 206.67 unités\n",
      "Produit A: La vente moyenne est de 223.33 unités\n",
      "Produit C: La vente moyenne est de 200.0 unités\n"
     ]
    }
   ],
   "source": [
    "\n",
    "\n",
    "# Créer une liste des produits uniques à partir de la sélection de la colonne 'Produit'\n",
    "liste_produits = set(df_produits['Produit'].values)\n",
    "\n",
    "# Dataframe contenant les produits et leurs ventes\n",
    "liste_produits_ventes = df_produits[['Produit', 'Ventes']].values.tolist()\n",
    "\n",
    "# Parcourir la liste des produits uniques un produit à la fois\n",
    "# Pour chacun des produits, obtenir la somme des ventes et calculer la moyenne\n",
    "for produit in liste_produits:\n",
    "    # Initialiser la somme des ventes d'un produit et le nombre de ventes\n",
    "    somme = 0 \n",
    "    nb_ventes = 0\n",
    "    # Pour chacun des produits du dataframe produits-ventes\n",
    "    for ligne in liste_produits_ventes:\n",
    "        # Si les produits sont les mêmes, on calcule la somme et la moyenne des ventes du produit\n",
    "        if ligne[0] == produit:       \n",
    "            somme += ligne[1]\n",
    "            nb_ventes += 1\n",
    "            # Calculer la vente moyenne pour le produit courant\n",
    "            if nb_ventes > 0:\n",
    "                vente_moyenne = somme / nb_ventes\n",
    "            else: \n",
    "                vente_moyenne = 0\n",
    "    \n",
    "    # Afficher la vente moyenne du produit\n",
    "    print(f\"{produit}: La vente moyenne est de {round(vente_moyenne,2)} unités\")\n"
   ]
  },
  {
   "cell_type": "code",
   "execution_count": null,
   "metadata": {},
   "outputs": [
    {
     "name": "stdout",
     "output_type": "stream",
     "text": [
      "{'Produit A', 'Produit B', 'Produit C'}\n",
      "PRoduit traité: 0    Produit A\n",
      "1    Produit A\n",
      "2    Produit A\n",
      "3    Produit B\n",
      "4    Produit B\n",
      "5    Produit B\n",
      "6    Produit C\n",
      "7    Produit C\n",
      "8    Produit C\n",
      "Name: Produit, dtype: object\n"
     ]
    },
    {
     "ename": "ValueError",
     "evalue": "The truth value of a Series is ambiguous. Use a.empty, a.bool(), a.item(), a.any() or a.all().",
     "output_type": "error",
     "traceback": [
      "\u001b[1;31m---------------------------------------------------------------------------\u001b[0m",
      "\u001b[1;31mValueError\u001b[0m                                Traceback (most recent call last)",
      "Cell \u001b[1;32mIn[3], line 16\u001b[0m\n\u001b[0;32m     14\u001b[0m \u001b[38;5;28;01mfor\u001b[39;00m i \u001b[38;5;129;01min\u001b[39;00m \u001b[38;5;28mrange\u001b[39m(\u001b[38;5;28mlen\u001b[39m(df_produits)):\n\u001b[0;32m     15\u001b[0m     \u001b[38;5;28mprint\u001b[39m(\u001b[38;5;124m\"\u001b[39m\u001b[38;5;124mPRoduit traité:\u001b[39m\u001b[38;5;124m\"\u001b[39m,df_produits[\u001b[38;5;124m'\u001b[39m\u001b[38;5;124mProduit\u001b[39m\u001b[38;5;124m'\u001b[39m])\n\u001b[1;32m---> 16\u001b[0m     \u001b[38;5;28;01mif\u001b[39;00m produit \u001b[38;5;241m==\u001b[39m df_produits[\u001b[38;5;124m'\u001b[39m\u001b[38;5;124mProduit\u001b[39m\u001b[38;5;124m'\u001b[39m]:\n\u001b[0;32m     17\u001b[0m         somme_vente \u001b[38;5;241m=\u001b[39m somme_vente \u001b[38;5;241m+\u001b[39m df_produits[\u001b[38;5;124m'\u001b[39m\u001b[38;5;124mVentes\u001b[39m\u001b[38;5;124m'\u001b[39m]\n\u001b[0;32m     18\u001b[0m         compteur \u001b[38;5;241m+\u001b[39m\u001b[38;5;241m=\u001b[39m \u001b[38;5;241m1\u001b[39m\n",
      "File \u001b[1;32m~\\AppData\\Local\\Packages\\PythonSoftwareFoundation.Python.3.11_qbz5n2kfra8p0\\LocalCache\\local-packages\\Python311\\site-packages\\pandas\\core\\generic.py:1527\u001b[0m, in \u001b[0;36mNDFrame.__nonzero__\u001b[1;34m(self)\u001b[0m\n\u001b[0;32m   1525\u001b[0m \u001b[38;5;129m@final\u001b[39m\n\u001b[0;32m   1526\u001b[0m \u001b[38;5;28;01mdef\u001b[39;00m \u001b[38;5;21m__nonzero__\u001b[39m(\u001b[38;5;28mself\u001b[39m) \u001b[38;5;241m-\u001b[39m\u001b[38;5;241m>\u001b[39m NoReturn:\n\u001b[1;32m-> 1527\u001b[0m     \u001b[38;5;28;01mraise\u001b[39;00m \u001b[38;5;167;01mValueError\u001b[39;00m(\n\u001b[0;32m   1528\u001b[0m         \u001b[38;5;124mf\u001b[39m\u001b[38;5;124m\"\u001b[39m\u001b[38;5;124mThe truth value of a \u001b[39m\u001b[38;5;132;01m{\u001b[39;00m\u001b[38;5;28mtype\u001b[39m(\u001b[38;5;28mself\u001b[39m)\u001b[38;5;241m.\u001b[39m\u001b[38;5;18m__name__\u001b[39m\u001b[38;5;132;01m}\u001b[39;00m\u001b[38;5;124m is ambiguous. \u001b[39m\u001b[38;5;124m\"\u001b[39m\n\u001b[0;32m   1529\u001b[0m         \u001b[38;5;124m\"\u001b[39m\u001b[38;5;124mUse a.empty, a.bool(), a.item(), a.any() or a.all().\u001b[39m\u001b[38;5;124m\"\u001b[39m\n\u001b[0;32m   1530\u001b[0m     )\n",
      "\u001b[1;31mValueError\u001b[0m: The truth value of a Series is ambiguous. Use a.empty, a.bool(), a.item(), a.any() or a.all()."
     ]
    }
   ],
   "source": [
    "import pandas as pd\n",
    "df_produits = pd.read_csv(\"produits.csv\")\n",
    "\n",
    "# Créer une liste des produits uniques à partir de la sélection de la colonne 'Produit'\n",
    "liste = df_produits['Produit'].values.tolist()\n",
    "liste_uniques = set(liste) # C'est déjà une liste, pas besoin d'utiliser list()\n",
    "\n",
    "# Dataframe contenant les produits et leurs ventes\n",
    "df_produits_ventes = df_produits[['Produit', 'Ventes']].values.tolist()\n",
    "\n",
    "somme_vente = 0\n",
    "compteur = 0\n",
    "\n",
    "for produit in liste_uniques:\n",
    "    for i in range(len(df_produits)):\n",
    "        print(\"PRoduit traité:\",df_produits['Produit'])\n",
    "        if produit == df_produits['Produit']:\n",
    "            somme_vente = somme_vente + df_produits['Ventes']\n",
    "            compteur += 1\n",
    "       \n",
    "moyenne = somme_vente/compteur\n",
    "print(f\"moyenne {produit[i]} est: {moyenne}\")\n",
    "       "
   ]
  }
 ],
 "metadata": {
  "kernelspec": {
   "display_name": "Python 3",
   "language": "python",
   "name": "python3"
  },
  "language_info": {
   "codemirror_mode": {
    "name": "ipython",
    "version": 3
   },
   "file_extension": ".py",
   "mimetype": "text/x-python",
   "name": "python",
   "nbconvert_exporter": "python",
   "pygments_lexer": "ipython3",
   "version": "3.11.9"
  }
 },
 "nbformat": 4,
 "nbformat_minor": 2
}
