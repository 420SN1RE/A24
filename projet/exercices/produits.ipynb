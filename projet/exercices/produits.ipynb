{
 "cells": [
  {
   "cell_type": "code",
   "execution_count": 5,
   "metadata": {},
   "outputs": [],
   "source": [
    "import pandas as pd"
   ]
  },
  {
   "cell_type": "code",
   "execution_count": 6,
   "metadata": {},
   "outputs": [],
   "source": [
    "# Chargement des données du fichier .csv dans un dataframe\n",
    "df_produits = pd.read_csv(\"produits.csv\")"
   ]
  },
  {
   "cell_type": "code",
   "execution_count": 7,
   "metadata": {},
   "outputs": [
    {
     "data": {
      "text/html": [
       "<div>\n",
       "<style scoped>\n",
       "    .dataframe tbody tr th:only-of-type {\n",
       "        vertical-align: middle;\n",
       "    }\n",
       "\n",
       "    .dataframe tbody tr th {\n",
       "        vertical-align: top;\n",
       "    }\n",
       "\n",
       "    .dataframe thead th {\n",
       "        text-align: right;\n",
       "    }\n",
       "</style>\n",
       "<table border=\"1\" class=\"dataframe\">\n",
       "  <thead>\n",
       "    <tr style=\"text-align: right;\">\n",
       "      <th></th>\n",
       "      <th>Produit</th>\n",
       "      <th>Ventes</th>\n",
       "    </tr>\n",
       "  </thead>\n",
       "  <tbody>\n",
       "    <tr>\n",
       "      <th>0</th>\n",
       "      <td>Produit A</td>\n",
       "      <td>200</td>\n",
       "    </tr>\n",
       "    <tr>\n",
       "      <th>1</th>\n",
       "      <td>Produit A</td>\n",
       "      <td>220</td>\n",
       "    </tr>\n",
       "    <tr>\n",
       "      <th>2</th>\n",
       "      <td>Produit A</td>\n",
       "      <td>250</td>\n",
       "    </tr>\n",
       "    <tr>\n",
       "      <th>3</th>\n",
       "      <td>Produit B</td>\n",
       "      <td>180</td>\n",
       "    </tr>\n",
       "    <tr>\n",
       "      <th>4</th>\n",
       "      <td>Produit B</td>\n",
       "      <td>210</td>\n",
       "    </tr>\n",
       "    <tr>\n",
       "      <th>5</th>\n",
       "      <td>Produit B</td>\n",
       "      <td>230</td>\n",
       "    </tr>\n",
       "    <tr>\n",
       "      <th>6</th>\n",
       "      <td>Produit C</td>\n",
       "      <td>190</td>\n",
       "    </tr>\n",
       "    <tr>\n",
       "      <th>7</th>\n",
       "      <td>Produit C</td>\n",
       "      <td>200</td>\n",
       "    </tr>\n",
       "    <tr>\n",
       "      <th>8</th>\n",
       "      <td>Produit C</td>\n",
       "      <td>210</td>\n",
       "    </tr>\n",
       "  </tbody>\n",
       "</table>\n",
       "</div>"
      ],
      "text/plain": [
       "     Produit  Ventes\n",
       "0  Produit A     200\n",
       "1  Produit A     220\n",
       "2  Produit A     250\n",
       "3  Produit B     180\n",
       "4  Produit B     210\n",
       "5  Produit B     230\n",
       "6  Produit C     190\n",
       "7  Produit C     200\n",
       "8  Produit C     210"
      ]
     },
     "execution_count": 7,
     "metadata": {},
     "output_type": "execute_result"
    }
   ],
   "source": [
    "# Affichage des données pour comprendre le jeu de données\n",
    "# - connaitre le noms des colonnes et les données\n",
    "df_produits"
   ]
  },
  {
   "cell_type": "code",
   "execution_count": 8,
   "metadata": {},
   "outputs": [
    {
     "name": "stdout",
     "output_type": "stream",
     "text": [
      "Produit A: La vente moyenne est de 223.33 unités\n",
      "Produit B: La vente moyenne est de 206.67 unités\n",
      "Produit C: La vente moyenne est de 200.0 unités\n"
     ]
    }
   ],
   "source": [
    "\n",
    "\n",
    "# Créer une liste des produits uniques à partir de la sélection de la colonne 'Produit'\n",
    "liste_produits = set(df_produits['Produit'].values)\n",
    "\n",
    "# Dataframe contenant les produits et leurs ventes\n",
    "liste_produits_ventes = df_produits[['Produit', 'Ventes']].values.tolist()\n",
    "\n",
    "# Parcourir la liste des produits uniques un produit à la fois\n",
    "# Pour chacun des produits, obtenir la somme des ventes et calculer la moyenne\n",
    "for produit in liste_produits:\n",
    "    # Initialiser la somme des ventes d'un produit et le nombre de ventes\n",
    "    somme = 0 \n",
    "    nb_ventes = 0\n",
    "    # Pour chacun des produits de la liste produits-ventes\n",
    "    for ligne in liste_produits_ventes:\n",
    "        # Si les produits sont les mêmes, on calcule la somme et la moyenne des ventes du produit\n",
    "        if ligne[0] == produit:       \n",
    "            somme += ligne[1]\n",
    "            nb_ventes += 1\n",
    "            # Calculer la vente moyenne pour le produit courant\n",
    "            if nb_ventes > 0:\n",
    "                vente_moyenne = somme / nb_ventes\n",
    "            else: \n",
    "                vente_moyenne = 0\n",
    "    \n",
    "    # Afficher la vente moyenne du produit\n",
    "    print(f\"{produit}: La vente moyenne est de {round(vente_moyenne,2)} unités\")\n"
   ]
  },
  {
   "cell_type": "code",
   "execution_count": 9,
   "metadata": {},
   "outputs": [
    {
     "name": "stdout",
     "output_type": "stream",
     "text": [
      "moyenne P est: 223.33333333333334\n",
      "moyenne P est: 206.66666666666666\n",
      "moyenne P est: 200.0\n"
     ]
    }
   ],
   "source": [
    "import pandas as pd\n",
    "df_produits = pd.read_csv(\"produits.csv\")\n",
    "\n",
    "# Créer une liste des produits uniques à partir de la sélection de la colonne 'Produit'\n",
    "liste = df_produits['Produit'].values.tolist()\n",
    "liste_uniques = set(liste) # C'est déjà une liste, pas besoin d'utiliser list()\n",
    "\n",
    "# Liste contenant les produits et leurs ventes\n",
    "liste_produits_ventes = df_produits[['Produit', 'Ventes']].values.tolist()\n",
    "\n",
    "# Parcourir la liste des produits uniques un produit à la fois\n",
    "for produit in liste_uniques: # Parcours d'un produit unique à la fois\n",
    "    somme_vente = 0 # Somme des ventes d'un produit unique\n",
    "    compteur = 0 # Nombre de ventes d'un produit unique\n",
    "    # Pour chacun des produits, obtenir la somme des ventes et calculer la moyenne\n",
    "    for produit_vente in liste_produits_ventes:\n",
    "        # Si le produit de la liste unique est le même que le produit dans la liste produit ventes\n",
    "        if produit == produit_vente[0]: # Dans la liste des produits ventes, le nom du produit est le 1er élément \n",
    "            somme_vente = somme_vente + produit_vente[1] # Le montant de la vente est en 2e position\n",
    "            compteur += 1 # Nombre de ventes du produit traité augmente de 1\n",
    "    # Calcul se fait pour chaque produit unique, donc dans la 1re boucle for   \n",
    "    moyenne = somme_vente/compteur\n",
    "    print(f\"moyenne {produit[i]} est: {moyenne}\")\n",
    "       "
   ]
  }
 ],
 "metadata": {
  "kernelspec": {
   "display_name": "Python 3",
   "language": "python",
   "name": "python3"
  },
  "language_info": {
   "codemirror_mode": {
    "name": "ipython",
    "version": 3
   },
   "file_extension": ".py",
   "mimetype": "text/x-python",
   "name": "python",
   "nbconvert_exporter": "python",
   "pygments_lexer": "ipython3",
   "version": "3.11.9"
  }
 },
 "nbformat": 4,
 "nbformat_minor": 2
}
