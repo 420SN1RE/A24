{
 "cells": [
  {
   "cell_type": "markdown",
   "metadata": {},
   "source": [
    "#### Importer Pandas\n",
    "  ```python\n",
    "  import pandas as pd\n",
    "  ```"
   ]
  },
  {
   "cell_type": "markdown",
   "metadata": {},
   "source": [
    "#### Créer un dataFrame manuellement\n",
    "  ```python\n",
    "  df = pd.DataFrame({\n",
    "      'Colonne1': [1, 2, 3],\n",
    "      'Colonne2': ['A', 'B', 'C']\n",
    "  })\n",
    "  ```"
   ]
  },
  {
   "cell_type": "markdown",
   "metadata": {},
   "source": [
    "#### Créer un dataFrame via un fichier CSV \n",
    "  ```python\n",
    "  # Le fichier doit se trouver dans le même dossier que le fichier de code .ipynb\n",
    "  df = pd.read_csv('fichier.csv')\n",
    "  ```"
   ]
  },
  {
   "cell_type": "markdown",
   "metadata": {},
   "source": [
    "#### Aperçu des données\n",
    "\n",
    "- **Afficher les premières lignes** :\n",
    "  ```python\n",
    "  df.head()  # Par défaut, affiche les 5 premières lignes\n",
    "  df.head(10) # Affichera les 10 premières lignes\n",
    "  ```\n",
    "\n",
    "- **Afficher les dernières lignes** :\n",
    "  ```python\n",
    "  df.tail()  # Par défaut, affiche les 5 premières lignes\n",
    "  df.tail(10) # Affichera les 10 dernières lignes\n",
    "  ```\n",
    "\n",
    "- **Informations sur les données** :\n",
    "  ```python\n",
    "  df.info()  # Infos générales sur le DataFrame\n",
    "  ```\n",
    "\n",
    "- **Statistiques descriptives** :\n",
    "  ```python\n",
    "  df.describe()\n",
    "  ```"
   ]
  },
  {
   "cell_type": "markdown",
   "metadata": {},
   "source": [
    "#### Sélection de données\n",
    "\n",
    "- **Sélectionner une colonne** :\n",
    "  ```python\n",
    "  df_selection = df['Colonne1']\n",
    "  ```\n",
    "\n",
    "- **Sélectionner plusieurs colonnes** :\n",
    "  ```python\n",
    "   df_selection = df[['Colonne1', 'Colonne2']]\n",
    "  ```"
   ]
  },
  {
   "cell_type": "markdown",
   "metadata": {},
   "source": [
    "#### Filtrage de données\n",
    "\n",
    "  ```python\n",
    "   df_filtre = df[df['Colonne1'] > valeur1]\n",
    "   df_filtre = df[(df['Colonne1'] > 1) & (df['Colonne2'] < valeur2)]\n",
    "  ```"
   ]
  },
  {
   "cell_type": "markdown",
   "metadata": {},
   "source": [
    "#### Manipulation des données\n",
    "\n",
    "- **Ajouter une colonne** :\n",
    "  ```python\n",
    "  df['NouvelleColonne'] = df['Colonne1'] * 2\n",
    "  ```\n",
    "\n",
    "- **Renommer une colonne** :\n",
    "  ```python\n",
    "  df.rename(columns={'Colonne1': 'NouveauNom'}, inplace=True) # inplace permet de modifier le df original\n",
    "  ```\n",
    "\n",
    "- **Supprimer des colonnes** :\n",
    "  ```python\n",
    "  df.drop(columns=['Colonne2'], inplace=True)\n",
    "  ```\n",
    "\n",
    "#### Gestion des valeurs manquantes\n",
    "\n",
    "- **Détecter les valeurs manquantes** :\n",
    "  ```python\n",
    "  df.isna()   # Indique True si la valeur est manquante, False sinon\n",
    "  df.isna().sum()  # Affiche le nombre de valeurs manquantes par colonne\n",
    "  ```\n",
    "\n",
    "#### Opérations sur les données\n",
    "\n",
    "- **Tri des données** :\n",
    "  ```python\n",
    "  df.sort_values(by='Colonne1', ascending=False)\n",
    "  ```\n",
    "\n",
    "- **Compter les données** :\n",
    "  ```python\n",
    "  nombre = df['Colonne'].value_counts()\n",
    "  ```\n",
    "\n",
    "- **Convertir un DataFrame en liste**:\n",
    "  ```python\n",
    "  liste = df.values.tolist()\n",
    "  ```\n",
    "\n",
    "- **Convertir une liste en DataFrame**:\n",
    "  ```python\n",
    "  df = pd.DataFrame(liste, columns=df.columns)\n",
    "  ```"
   ]
  }
 ],
 "metadata": {
  "language_info": {
   "name": "python"
  }
 },
 "nbformat": 4,
 "nbformat_minor": 2
}
