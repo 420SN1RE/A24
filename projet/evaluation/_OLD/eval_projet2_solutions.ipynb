{
 "cells": [
  {
   "cell_type": "markdown",
   "id": "23e3e8c5",
   "metadata": {},
   "source": [
    "<center><h1>Évaluation du projet</h1></center>\n",
    "Utilisez ce fichier pour écrire le code Python afin de répondre aux questions se trouvant sur Moodle.\n",
    "\n",
    "### À propos des données :\n",
    "\n",
    "* **Country**: Le nom du pays.\n",
    "* **ISO**: Le code du pays pour la norme ISO 3166-1 alpha-3.\n",
    "* **Temperature (1960)** to **Temperature (2022)**: Colonnes représentant les températures annuelles de surface (en degrés Celsius) pour chaque année de 1960 à 2022."
   ]
  },
  {
   "cell_type": "code",
   "execution_count": 1252,
   "id": "3b609156",
   "metadata": {},
   "outputs": [],
   "source": [
    "# Importation des bibliothèques\n",
    "import pandas as pd\n",
    "import matplotlib.pyplot as plt\n",
    "import numpy as np"
   ]
  },
  {
   "cell_type": "code",
   "execution_count": 1253,
   "id": "d2064d82",
   "metadata": {
    "execution": {
     "iopub.execute_input": "2023-09-11T15:59:48.088038Z",
     "iopub.status.busy": "2023-09-11T15:59:48.087664Z",
     "iopub.status.idle": "2023-09-11T16:01:42.120200Z",
     "shell.execute_reply": "2023-09-11T16:01:42.118910Z"
    },
    "papermill": {
     "duration": 114.039796,
     "end_time": "2023-09-11T16:01:42.123017",
     "exception": false,
     "start_time": "2023-09-11T15:59:48.083221",
     "status": "completed"
    },
    "tags": []
   },
   "outputs": [
    {
     "data": {
      "text/html": [
       "<div>\n",
       "<style scoped>\n",
       "    .dataframe tbody tr th:only-of-type {\n",
       "        vertical-align: middle;\n",
       "    }\n",
       "\n",
       "    .dataframe tbody tr th {\n",
       "        vertical-align: top;\n",
       "    }\n",
       "\n",
       "    .dataframe thead th {\n",
       "        text-align: right;\n",
       "    }\n",
       "</style>\n",
       "<table border=\"1\" class=\"dataframe\">\n",
       "  <thead>\n",
       "    <tr style=\"text-align: right;\">\n",
       "      <th></th>\n",
       "      <th>Country</th>\n",
       "      <th>Year</th>\n",
       "      <th>Temperature</th>\n",
       "    </tr>\n",
       "  </thead>\n",
       "  <tbody>\n",
       "    <tr>\n",
       "      <th>0</th>\n",
       "      <td>China</td>\n",
       "      <td>2004</td>\n",
       "      <td>36.31</td>\n",
       "    </tr>\n",
       "    <tr>\n",
       "      <th>1</th>\n",
       "      <td>Italy</td>\n",
       "      <td>2009</td>\n",
       "      <td>35.11</td>\n",
       "    </tr>\n",
       "    <tr>\n",
       "      <th>2</th>\n",
       "      <td>Spain</td>\n",
       "      <td>2017</td>\n",
       "      <td>7.87</td>\n",
       "    </tr>\n",
       "    <tr>\n",
       "      <th>3</th>\n",
       "      <td>Canada</td>\n",
       "      <td>2003</td>\n",
       "      <td>-7.45</td>\n",
       "    </tr>\n",
       "    <tr>\n",
       "      <th>4</th>\n",
       "      <td>Japan</td>\n",
       "      <td>1963</td>\n",
       "      <td>19.44</td>\n",
       "    </tr>\n",
       "    <tr>\n",
       "      <th>...</th>\n",
       "      <td>...</td>\n",
       "      <td>...</td>\n",
       "      <td>...</td>\n",
       "    </tr>\n",
       "    <tr>\n",
       "      <th>495</th>\n",
       "      <td>Australia</td>\n",
       "      <td>2014</td>\n",
       "      <td>22.67</td>\n",
       "    </tr>\n",
       "    <tr>\n",
       "      <th>496</th>\n",
       "      <td>Spain</td>\n",
       "      <td>1980</td>\n",
       "      <td>32.28</td>\n",
       "    </tr>\n",
       "    <tr>\n",
       "      <th>497</th>\n",
       "      <td>Australia</td>\n",
       "      <td>2018</td>\n",
       "      <td>21.06</td>\n",
       "    </tr>\n",
       "    <tr>\n",
       "      <th>498</th>\n",
       "      <td>Canada</td>\n",
       "      <td>1976</td>\n",
       "      <td>12.47</td>\n",
       "    </tr>\n",
       "    <tr>\n",
       "      <th>499</th>\n",
       "      <td>Australia</td>\n",
       "      <td>1973</td>\n",
       "      <td>29.69</td>\n",
       "    </tr>\n",
       "  </tbody>\n",
       "</table>\n",
       "<p>500 rows × 3 columns</p>\n",
       "</div>"
      ],
      "text/plain": [
       "       Country  Year  Temperature\n",
       "0        China  2004        36.31\n",
       "1        Italy  2009        35.11\n",
       "2        Spain  2017         7.87\n",
       "3       Canada  2003        -7.45\n",
       "4        Japan  1963        19.44\n",
       "..         ...   ...          ...\n",
       "495  Australia  2014        22.67\n",
       "496      Spain  1980        32.28\n",
       "497  Australia  2018        21.06\n",
       "498     Canada  1976        12.47\n",
       "499  Australia  1973        29.69\n",
       "\n",
       "[500 rows x 3 columns]"
      ]
     },
     "execution_count": 1253,
     "metadata": {},
     "output_type": "execute_result"
    }
   ],
   "source": [
    "# Extraction des données dans un dataframe\n",
    "df = pd.read_csv(\"temperature annuelle de surface.csv\")\n",
    "df\n"
   ]
  },
  {
   "cell_type": "markdown",
   "id": "e8eed401",
   "metadata": {},
   "source": [
    "Écrire le code pour afficher tous les pays. (2pts) <br>\n",
    "Répondre sur Moodle à la <b style='color:green'>Question #1: Quel est le pays à l'indice 3 ?</b>"
   ]
  },
  {
   "cell_type": "code",
   "execution_count": 1254,
   "id": "d6187da9",
   "metadata": {},
   "outputs": [
    {
     "data": {
      "text/plain": [
       "0          China\n",
       "1          Italy\n",
       "2          Spain\n",
       "3         Canada\n",
       "4          Japan\n",
       "         ...    \n",
       "495    Australia\n",
       "496        Spain\n",
       "497    Australia\n",
       "498       Canada\n",
       "499    Australia\n",
       "Name: Country, Length: 500, dtype: object"
      ]
     },
     "execution_count": 1254,
     "metadata": {},
     "output_type": "execute_result"
    }
   ],
   "source": [
    "# Question #1 (2 pts)\n",
    "df['Country']"
   ]
  },
  {
   "cell_type": "code",
   "execution_count": 1255,
   "id": "7118bf52",
   "metadata": {},
   "outputs": [
    {
     "data": {
      "text/html": [
       "<div>\n",
       "<style scoped>\n",
       "    .dataframe tbody tr th:only-of-type {\n",
       "        vertical-align: middle;\n",
       "    }\n",
       "\n",
       "    .dataframe tbody tr th {\n",
       "        vertical-align: top;\n",
       "    }\n",
       "\n",
       "    .dataframe thead th {\n",
       "        text-align: right;\n",
       "    }\n",
       "</style>\n",
       "<table border=\"1\" class=\"dataframe\">\n",
       "  <thead>\n",
       "    <tr style=\"text-align: right;\">\n",
       "      <th></th>\n",
       "      <th>Pays</th>\n",
       "      <th>Année</th>\n",
       "      <th>Température (C)</th>\n",
       "    </tr>\n",
       "  </thead>\n",
       "  <tbody>\n",
       "    <tr>\n",
       "      <th>0</th>\n",
       "      <td>China</td>\n",
       "      <td>2004</td>\n",
       "      <td>36.31</td>\n",
       "    </tr>\n",
       "  </tbody>\n",
       "</table>\n",
       "</div>"
      ],
      "text/plain": [
       "    Pays  Année  Température (C)\n",
       "0  China   2004            36.31"
      ]
     },
     "execution_count": 1255,
     "metadata": {},
     "output_type": "execute_result"
    }
   ],
   "source": [
    "# Changement des noms des colonnes et affichage de la première colonne\n",
    "actuels = ['Country', 'Year', 'Temperature']\n",
    "nouveaux = ['Pays', 'Année', 'Température (C)']\n",
    "\n",
    "for i in range(len(actuels)):\n",
    "    df = df.rename(columns={actuels[i]: nouveaux[i]})\n",
    "\n",
    "df.head(1)"
   ]
  },
  {
   "cell_type": "markdown",
   "id": "9719b4c5",
   "metadata": {},
   "source": [
    "Écrire le code pour afficher les statistiques descriptives du dataframe. (1pt) <br>\n",
    "Répondre sur Moodle à la <b style='color:green'>Question #2: Quelle est la moyenne des températures pour tous le pays ?</b>"
   ]
  },
  {
   "cell_type": "code",
   "execution_count": 1256,
   "id": "fb898f80",
   "metadata": {},
   "outputs": [
    {
     "data": {
      "text/html": [
       "<div>\n",
       "<style scoped>\n",
       "    .dataframe tbody tr th:only-of-type {\n",
       "        vertical-align: middle;\n",
       "    }\n",
       "\n",
       "    .dataframe tbody tr th {\n",
       "        vertical-align: top;\n",
       "    }\n",
       "\n",
       "    .dataframe thead th {\n",
       "        text-align: right;\n",
       "    }\n",
       "</style>\n",
       "<table border=\"1\" class=\"dataframe\">\n",
       "  <thead>\n",
       "    <tr style=\"text-align: right;\">\n",
       "      <th></th>\n",
       "      <th>Année</th>\n",
       "      <th>Température (C)</th>\n",
       "    </tr>\n",
       "  </thead>\n",
       "  <tbody>\n",
       "    <tr>\n",
       "      <th>count</th>\n",
       "      <td>500.000000</td>\n",
       "      <td>500.000000</td>\n",
       "    </tr>\n",
       "    <tr>\n",
       "      <th>mean</th>\n",
       "      <td>1991.374000</td>\n",
       "      <td>14.562280</td>\n",
       "    </tr>\n",
       "    <tr>\n",
       "      <th>std</th>\n",
       "      <td>18.044871</td>\n",
       "      <td>14.336185</td>\n",
       "    </tr>\n",
       "    <tr>\n",
       "      <th>min</th>\n",
       "      <td>1960.000000</td>\n",
       "      <td>-9.930000</td>\n",
       "    </tr>\n",
       "    <tr>\n",
       "      <th>25%</th>\n",
       "      <td>1976.000000</td>\n",
       "      <td>2.850000</td>\n",
       "    </tr>\n",
       "    <tr>\n",
       "      <th>50%</th>\n",
       "      <td>1991.500000</td>\n",
       "      <td>14.640000</td>\n",
       "    </tr>\n",
       "    <tr>\n",
       "      <th>75%</th>\n",
       "      <td>2007.000000</td>\n",
       "      <td>26.705000</td>\n",
       "    </tr>\n",
       "    <tr>\n",
       "      <th>max</th>\n",
       "      <td>2022.000000</td>\n",
       "      <td>39.970000</td>\n",
       "    </tr>\n",
       "  </tbody>\n",
       "</table>\n",
       "</div>"
      ],
      "text/plain": [
       "             Année  Température (C)\n",
       "count   500.000000       500.000000\n",
       "mean   1991.374000        14.562280\n",
       "std      18.044871        14.336185\n",
       "min    1960.000000        -9.930000\n",
       "25%    1976.000000         2.850000\n",
       "50%    1991.500000        14.640000\n",
       "75%    2007.000000        26.705000\n",
       "max    2022.000000        39.970000"
      ]
     },
     "execution_count": 1256,
     "metadata": {},
     "output_type": "execute_result"
    }
   ],
   "source": [
    "# Question #2 (1pt):\n",
    "df.describe()"
   ]
  },
  {
   "cell_type": "markdown",
   "id": "5dd59e7f",
   "metadata": {},
   "source": [
    "<div class=\"alert alert-block alert-success\">\n",
    "1. Écrire le code pour obtenir la température moyenne de chaque pays. (20pts)<br>\n",
    "<b style='color:red'>Attention</b>, vous devez obligatoirement utiliser des dataframes, listes et boucles for.\n",
    "Voici l'algorithme du code:\n",
    "<pre>\n",
    "   1. Créer une liste des pays uniques : \n",
    "      - Sélectionner la colonne 'Pays' du dataframe.\n",
    "      - Convertir le dataframe en liste\n",
    "      - Obtenir les valeurs uniques de la liste\n",
    "   2. Créer un nouveau dataframe en sélectionnant les colonnes 'Pays' et 'Température (C)' du dataframe original.\n",
    "   3. Parcourir la liste des pays uniques et pour chaque pays dans la liste des pays uniques :\n",
    "      1. Initialiser la somme des températures et le compteur de températures à zéro.\n",
    "      2. Parcourir le dataframe converti en liste :\n",
    "         - Pour chaque ligne de la liste :\n",
    "         - Si le pays de la ligne correspond au pays courant :\n",
    "            - Ajouter la température de la ligne à la somme des températures.\n",
    "            - Incrémenter le compteur de températures.\n",
    "            - Calculer la température moyenne si le compteur est supérieur à zéro.\n",
    "            - Sinon, définir la température moyenne à zéro. :\n",
    "      3. Afficher la température moyenne calculée pour le pays courant.\n",
    "</pre>\n",
    "<b style='color:red'>L'affichage doit respecter le format suivant</b>:<br>\n",
    "- United Kingdom: La température moyenne est de valeur°C<br>\n",
    "- Canada: La température moyenne est de valeur°C<br>\n",
    "- Germany: La température moyenne est de valeur°C<br>\n",
    "- Spain: La température moyenne est de valeur°C<br>\n",
    "- Australia: La température moyenne est de valeur°C<br>\n",
    "- France: La température moyenne est de valeur°C<br>\n",
    "- Japan: La température moyenne est de valeur°C<br>\n",
    "- Italy: La température moyenne est de valeur°C<br>\n",
    "- United States: La température moyenne est de valeur°C<br>\n",
    "- China: La température moyenne est de valeur°C<br>\n",
    "\n",
    "Répondre sur Moodle à la <b style='color:green'>Question #3: Quelle est la température moyenne de chaque pays ?</b>\n",
    "</div>"
   ]
  },
  {
   "cell_type": "code",
   "execution_count": 1257,
   "id": "9830c82b",
   "metadata": {},
   "outputs": [
    {
     "name": "stdout",
     "output_type": "stream",
     "text": [
      "United Kingdom: La température moyenne est de 15.59°C\n",
      "Canada: La température moyenne est de 16.13°C\n",
      "Germany: La température moyenne est de 16.0°C\n",
      "Spain: La température moyenne est de 16.1°C\n",
      "Australia: La température moyenne est de 13.67°C\n",
      "France: La température moyenne est de 12.45°C\n",
      "Japan: La température moyenne est de 12.33°C\n",
      "Italy: La température moyenne est de 14.16°C\n",
      "United States: La température moyenne est de 13.22°C\n",
      "China: La température moyenne est de 15.39°C\n"
     ]
    }
   ],
   "source": [
    "# Question #3 (20pts)\n",
    "\n",
    "# Créer une liste des pays uniques à partir de la sélection de la colonne 'Pays' du dataframe (3pts)\n",
    "liste_pays = set(df['Pays'].values)\n",
    "\n",
    "# Dataframe contenant les pays et leurs températures (4pts)\n",
    "df_pays_temperatures = df[['Pays', 'Température (C)']].values.tolist()\n",
    "\n",
    "# Parcourir la liste des pays uniques un pays à la fois\n",
    "# Pour chacun des pays, obtenir la somme des températures et calculer la moyenne (2pts)\n",
    "for pays in liste_pays: #2pts\n",
    "    # Initialiser la somme des températures d'un pays et le nombre de températures (2pts)\n",
    "    somme = 0 \n",
    "    nb_temps = 0\n",
    "    # Pour chacun des pays du dataframe pays-températures (2pts)\n",
    "    for ligne in df_pays_temperatures:\n",
    "        # Si les pays sont les mêmes, on calcul la somme et la moyenne des températures du pays (2pts)\n",
    "        if ligne[0] == pays:       \n",
    "            somme += ligne[1]\n",
    "            nb_temps += 1\n",
    "            # Calculer la température moyenne pour le pays courant (2pts)\n",
    "            if nb_temps > 0:\n",
    "                temp_moyenne = somme / nb_temps\n",
    "            else: \n",
    "                temp_moyenne = 0\n",
    "    \n",
    "    # Afficher la température moyenne du pays (3pts)\n",
    "    print(f\"{pays}: La température moyenne est de {round(temp_moyenne,2)}°C\")"
   ]
  },
  {
   "cell_type": "markdown",
   "id": "3f8fef63",
   "metadata": {},
   "source": [
    "<div class=\"alert alert-block alert-success\">\n",
    "Écrire le code permettant d'obtenir le nombre de données manquantes pour la colonne 'Température'. (2pts)<br>\n",
    "Répondre sur Moodle à la <b style='color:green'>Question #4: Combien de températures maquent-il ?</b>\n",
    "</div>"
   ]
  },
  {
   "cell_type": "code",
   "execution_count": 1258,
   "id": "eb2f4469",
   "metadata": {},
   "outputs": [
    {
     "data": {
      "text/plain": [
       "Pays               0\n",
       "Année              0\n",
       "Température (C)    0\n",
       "dtype: int64"
      ]
     },
     "execution_count": 1258,
     "metadata": {},
     "output_type": "execute_result"
    }
   ],
   "source": [
    "# Question #4 (2pts)\n",
    "df.isna().sum()"
   ]
  },
  {
   "cell_type": "markdown",
   "id": "6fec899e",
   "metadata": {},
   "source": [
    "<div class=\"alert alert-block alert-success\">\n",
    "Écrire le code permettant de répondre à la question #5 ci-dessous (6pts). <br>\n",
    "Pour ce faire:<br> \n",
    "- Sélectionner les données pour le Canada. <br>\n",
    "- Enregistrez les données dans un dataframe nommé df_canada.<br>\n",
    "- À l'aide d'une boucle FOR, parcourer les données afin d'identifier la plus basse température.<br>\n",
    "- Filtrer la ligne qui contient la température la plus basse <br>\n",
    "Répondre sur Moodle à la <b style='color:green'>Question #5: En quelle année se trouve la température la plus basse au Canada ?</b>\n",
    "</div>"
   ]
  },
  {
   "cell_type": "code",
   "execution_count": 1259,
   "id": "90ea79bc",
   "metadata": {},
   "outputs": [
    {
     "name": "stdout",
     "output_type": "stream",
     "text": [
      "L'année où il a fait le plus froid au Canada est 397    1996\n",
      "Name: Année, dtype: int64\n"
     ]
    }
   ],
   "source": [
    "# Question 5 (6pts)\n",
    "df_canada = df[df['Pays'] == 'Canada'] #1pt\n",
    "min = 0\n",
    "for t in df_canada['Température (C)']:  #2pts\n",
    "    if t < min:\n",
    "        annee = df_canada[df_canada['Température (C)'] == t] #2pts\n",
    "        \n",
    "print(f\"L'année où il a fait le plus froid au Canada est {annee['Année']}\")   #1pt    "
   ]
  },
  {
   "cell_type": "markdown",
   "id": "bd8764c0",
   "metadata": {},
   "source": [
    "<div class=\"alert alert-block alert-success\">\n",
    "Écrire le code pour calculer la température moyenne au Canada de 2010 à 2020 ? (4pts)<br>\n",
    "Algorithme:<br>\n",
    "1. Filtrer les données pour le Canada entre 2010 et 2020<br>\n",
    "2. Caculez la température moyenne pour cette période.<br>\n",
    "Répondre sur Moodle à la <b style='color:green'>Question #6: Quelle est la température moyenne au Canada de 2010 à 2020</b>\n",
    "</div>"
   ]
  },
  {
   "cell_type": "code",
   "execution_count": 1260,
   "id": "22a51b3b",
   "metadata": {},
   "outputs": [
    {
     "name": "stdout",
     "output_type": "stream",
     "text": [
      "La température moyenne au Canada de 2010 à 2020 est de 20.59C\n"
     ]
    }
   ],
   "source": [
    "# Question #6 (4pts)\n",
    "\n",
    "# Filtrer les données pour le Canada entre 2012 et 2022\n",
    "df_10_ans = df_canada[(df_canada['Année'] >= 2010) & (df_canada['Année'] <= 2020)]\n",
    "\n",
    "somme_temp = 0\n",
    "cpt = 0\n",
    "\n",
    "for temp in df_10_ans[\"Température (C)\"]:\n",
    "   somme_temp += temp\n",
    "   cpt += 1\n",
    "\n",
    "temp_moyenne = somme_temp / cpt\n",
    "\n",
    "# Afficher la température moyenne\n",
    "print(f\"La température moyenne au Canada de 2010 à 2020 est de {round(temp_moyenne,2)}C\")"
   ]
  },
  {
   "cell_type": "markdown",
   "id": "e4c29211",
   "metadata": {},
   "source": [
    "<div class=\"alert alert-block alert-success\">\n",
    "Ecrire le code pour créer un graphique en secteur permettant de visualiser la distribution des températures au Canada de 2010 à 2020.<br>\n",
    "Sauvegardez le graphique en format PNG <br>\n",
    "\n",
    "#### Éléments du graphique\n",
    "1. **Titre du graphique** : Proportion des températures annuelles au Canada (2010-2020)\n",
    "2. **Légende** : Années\n",
    "3. **Sauvegarde** : Le graphique est sauvegardé en format PNG sous le nom `graphique_secteur_températures_annuelles_canada_2010_2020.png`.\n",
    "\n",
    "<b style='color:green'>Rémettre l'image du graphique sur Moodle à la Question #7 (5pts)</b>\n",
    "</div>"
   ]
  },
  {
   "cell_type": "code",
   "execution_count": 1261,
   "id": "fdbd4ad7",
   "metadata": {},
   "outputs": [
    {
     "data": {
      "image/png": "[encoded data removed]",
      "text/plain": [
       "<Figure size 1000x700 with 1 Axes>"
      ]
     },
     "metadata": {},
     "output_type": "display_data"
    }
   ],
   "source": [
    "# Question #7a (5pts)\n",
    "df_10_ans = df_canada[(df_canada['Année'] >= 2010) & (df_canada['Année'] <= 2020)]\n",
    "\n",
    "# Vérifier et corriger les valeurs négatives ou nulles\n",
    "df_5_ans = df_5_ans[df_5_ans['Température (C)'] > 0]\n",
    "\n",
    "# Créer le graphique en secteur\n",
    "plt.figure(figsize=(10, 7))\n",
    "\n",
    "secteurs, etiquettes, autotexts = plt.pie(df_5_ans['Température (C)'],  autopct='%1.1f%%', startangle=140)\n",
    "\n",
    "# Ajouter un titre\n",
    "plt.title('Proportion des températures annuelles au Canada (2010-2020)')\n",
    "\n",
    "# Ajouter une légende\n",
    "plt.legend(secteurs, df_5_ans['Année'], title=\"Années\", loc=\"center left\", bbox_to_anchor=(1, 0, 0.5, 1))\n",
    "\n",
    "# Sauvegarder le graphique en format PNG\n",
    "plt.savefig('graphique_secteur_températures_annuelles_canada_2010_2020.png')\n",
    "\n",
    "# Afficher le graphique\n",
    "plt.show()"
   ]
  },
  {
   "cell_type": "markdown",
   "id": "f2d3f191",
   "metadata": {},
   "source": [
    "<div class=\"alert alert-block alert-success\">\n",
    "Ecrire le code pour créer un histogramme permettant de visualiser la distribution des températures annuelles au Canada entre 2010 et 2020\n",
    "Sauvegardez le graphique en format PNG <br>\n",
    "\n",
    "#### Éléments du graphique\n",
    "1. **Titre du graphique** : Distribution des températures annuelles au Canada (2010-2020)\n",
    "2. **Axe des X (horizontal)** : Année de 2010 à 2020\n",
    "3. **Axe des Y (vertical)** : Température (°C)\n",
    "    - Couleur : Bleu\n",
    "4. **Sauvegarde** : Le graphique est sauvegardé en format PNG sous le nom `histogramme_températures_annuelles_canada_2010_2020.png`.\n",
    "\n",
    "<b style='color:green'>Rémettre l'image du graphique sur Moodle à la Question #7a (5pts)</b>\n",
    "</div>"
   ]
  },
  {
   "cell_type": "code",
   "execution_count": 1262,
   "id": "0dda24b4",
   "metadata": {},
   "outputs": [
    {
     "data": {
      "image/png": "[encoded data removed]",
      "text/plain": [
       "<Figure size 1000x500 with 1 Axes>"
      ]
     },
     "metadata": {},
     "output_type": "display_data"
    }
   ],
   "source": [
    "# Question #7a (5pts)\n",
    "# Créer l'histogramme\n",
    "plt.figure(figsize=(10, 5))\n",
    "plt.hist(df_5_ans['Température (C)'], bins=10, color='b', edgecolor='black')\n",
    "\n",
    "# Ajouter des titres et des labels\n",
    "plt.title('Distribution des températures annuelles au Canada (2010-2020)')\n",
    "plt.xlabel('Température (°C)')\n",
    "plt.ylabel('Fréquence')\n",
    "\n",
    "# Sauvegarder le graphique en format PNG\n",
    "plt.savefig('histogramme_températures_annuelles_canada_2010_2020.png')\n",
    "\n",
    "# Afficher le graphique\n",
    "plt.show()"
   ]
  },
  {
   "cell_type": "markdown",
   "id": "f710111f",
   "metadata": {},
   "source": [
    "<div class=\"alert alert-block alert-success\">\n",
    "À l'aide de NumPy: <br>\n",
    "    Q8. Calculez la température moyenne au Canada <br>\n",
    "    Q9. Calculez la médiane des températures <br>\n",
    "    Q10. Calculez l'écart-type des températures <br>\n",
    "    Q11. Calculez la température minimum <br>\n",
    "    Q12. Calculez la température maximum <br>\n",
    "\n",
    "Répondre sur Moodle aux <b style='color:green'>Questions #8 à #12 (5x1pt): </b>\n",
    "</divv>"
   ]
  },
  {
   "cell_type": "code",
   "execution_count": 1263,
   "id": "d4dd6425",
   "metadata": {},
   "outputs": [
    {
     "name": "stdout",
     "output_type": "stream",
     "text": [
      "Température moyenne: 16.13°C\n",
      "Température médiane: 17.89°C\n",
      "Écart-type des températures: 13.69°C\n",
      "Température minimale: -9.76°C\n",
      "Température maximale: 39.83°C\n"
     ]
    }
   ],
   "source": [
    "# Questions #8 à #12(5pts)\n",
    "# Convertir la colonne des températures en array NumPy\n",
    "temperatures = np.array(df_canada['Température (C)'])\n",
    "\n",
    "# Calcul de la moyenne\n",
    "moyenne = np.mean(temperatures)\n",
    "print(f\"Température moyenne: {round(moyenne,2)}°C\")\n",
    "\n",
    "# Calcul de la médiane\n",
    "mediane = np.median(temperatures)\n",
    "print(f\"Température médiane: {round(mediane,2)}°C\")\n",
    "\n",
    "# Calcul de l'écart-type\n",
    "ecart_type = np.std(temperatures)\n",
    "print(f\"Écart-type des températures: {round(ecart_type,2)}°C\")\n",
    "\n",
    "# Calcul des valeurs minimales et maximales\n",
    "min_temp = np.min(temperatures)\n",
    "max_temp = np.max(temperatures)\n",
    "print(f\"Température minimale: {round(min_temp,2)}°C\")\n",
    "print(f\"Température maximale: {round(max_temp,2)}°C\")\n"
   ]
  },
  {
   "cell_type": "markdown",
   "id": "890b7d76",
   "metadata": {},
   "source": [
    "<div class=\"alert alert-block alert-success\">\n",
    "À l'aide de NumPy: <br>\n",
    "   - Calculer les coefficients de la régression linéaire entre les années et les températures <br>\n",
    "   - Créer le graphique nuage de points des températures en fonction des années et sauvegardez-le sous le nom de 'regression.png' <br>\n",
    "   - Ajouter la droite de régression linéaire entre les années et les températures <br>\n",
    "Répondre sur Moodle aux <b style='color:green'>Questions #13 à #15 (1pt, 2pts et 2pts):<br> \n",
    "13.Quels sont les valeurs des coefficients de la régression ?<br>\n",
    "14.Déposez le graphique sur Moodle pour la question 14. <br>\n",
    "15.En observant un graphique avec la droite de régression linéaire, quelles déductions faites vous au niveau de: <br>\n",
    "   1. La tendance générale <br>\n",
    "   2. La force de la relation <br>\n",
    "   3. Prédictions possibles\n",
    "</b>\n",
    "</div>"
   ]
  },
  {
   "cell_type": "code",
   "execution_count": 1264,
   "id": "b6d9a748",
   "metadata": {},
   "outputs": [
    {
     "name": "stdout",
     "output_type": "stream",
     "text": [
      "0.01620103539997822 -16.130447331236613\n"
     ]
    },
    {
     "data": {
      "image/png": "[encoded data removed]",
      "text/plain": [
       "<Figure size 1000x500 with 1 Axes>"
      ]
     },
     "metadata": {},
     "output_type": "display_data"
    }
   ],
   "source": [
    "# Questions #13 à #15 regression 5pts\n",
    "# Calculer les coefficients de la régression linéaire\n",
    "pente, b = np.polyfit(annees, temperatures, 1)\n",
    "print(pente,b)\n",
    "\n",
    "# Tracer les données et la droite de régression\n",
    "plt.figure(figsize=(10, 5))\n",
    "plt.scatter(annees, temperatures, color='blue', label='Données')\n",
    "plt.plot(annees, pente * annees + b, color='red', label='Régression linéaire')\n",
    "\n",
    "# Ajouter des titres et des labels\n",
    "plt.title('Régression linéaire des températures annuelles au Canada')\n",
    "plt.xlabel('Année')\n",
    "plt.ylabel('Température (°C)')\n",
    "plt.legend()\n",
    "\n",
    "# Sauvegarder le graphique en format PNG\n",
    "plt.savefig('regression.png')\n",
    "\n",
    "# Afficher le graphique\n",
    "plt.show()"
   ]
  },
  {
   "cell_type": "markdown",
   "id": "1dc03c25",
   "metadata": {},
   "source": [
    "Q13. Quels sont les valeurs des coefficients de la régression ?\n",
    "pente = 0.01620103539997822   \n",
    "ordonnée à l'origine = -16.130447331236613\n",
    "\n",
    "La pente de la droite de régression indique la tendance générale des données. Si la pente est positive, cela signifie qu’il y a une tendance à la hausse des températures au fil des années. Si la pente est négative, cela indique une tendance à la baisse."
   ]
  },
  {
   "cell_type": "markdown",
   "id": "89b329ce",
   "metadata": {},
   "source": [
    "Q14. Force de la relation  \n",
    "La proximité des points de données par rapport à la droite de régression montre la force de la relation linéaire. Si les points sont proches de la droite, cela indique une forte corrélation linéaire. Si les points sont dispersés, la corrélation est plus faible."
   ]
  },
  {
   "cell_type": "markdown",
   "id": "1c2aae47",
   "metadata": {},
   "source": [
    "Q15. Prédictions  \n",
    "La droite de régression peut être utilisée pour faire des prédictions sur les températures futures en extrapolant les données. Cependant, il est important de noter que les prédictions basées sur une régression linéaire simple peuvent ne pas être précises si les conditions changent ou si la relation n’est pas strictement linéaire.\n"
   ]
  }
 ],
 "metadata": {
  "kernelspec": {
   "display_name": "Python 3",
   "language": "python",
   "name": "python3"
  },
  "language_info": {
   "codemirror_mode": {
    "name": "ipython",
    "version": 3
   },
   "file_extension": ".py",
   "mimetype": "text/x-python",
   "name": "python",
   "nbconvert_exporter": "python",
   "pygments_lexer": "ipython3",
   "version": "3.11.9"
  },
  "papermill": {
   "default_parameters": {},
   "duration": 118.360137,
   "end_time": "2023-09-11T16:01:43.003852",
   "environment_variables": {},
   "exception": null,
   "input_path": "__notebook__.ipynb",
   "output_path": "__notebook__.ipynb",
   "parameters": {},
   "start_time": "2023-09-11T15:59:44.643715",
   "version": "2.4.0"
  }
 },
 "nbformat": 4,
 "nbformat_minor": 5
}
