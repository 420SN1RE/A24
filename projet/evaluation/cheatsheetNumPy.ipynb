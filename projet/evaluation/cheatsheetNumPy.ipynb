{
 "cells": [
  {
   "cell_type": "markdown",
   "metadata": {},
   "source": [
    "#### <u>Impoter NumPy</u> <br> \n",
    "\n",
    "  ```python\n",
    "  import numpy as np\n",
    "  ```"
   ]
  },
  {
   "cell_type": "markdown",
   "metadata": {},
   "source": [
    "#### <u>Créer un tableau</u>\n",
    "\n",
    "  ```python\n",
    "  tableau = np.array([1, 2, 3, 4])  # Tableau à 1 dimension\n",
    "  matrice = np.array([[1, 2], [3, 4]])  # Tableau à 2 dimensions\n",
    "  ```"
   ]
  },
  {
   "cell_type": "markdown",
   "metadata": {},
   "source": [
    "#### <u>Créer des tableaux spéciaux</u>\n",
    "  ```python\n",
    "  np.zeros((2, 2))     # Tableau de zéros\n",
    "  np.ones((2, 2))      # Tableau de uns\n",
    "  np.arange(0, 10, 2)  # Tableau de 0 à 10 avec un pas de 2\n",
    "  np.linspace(0, 1, 5) # 5 nombres entre 0 et 1\n",
    "  ```"
   ]
  },
  {
   "cell_type": "markdown",
   "metadata": {},
   "source": [
    "#### <u>Dimensions et forme</u>\n",
    "  ```python\n",
    "  tableau.shape    # Dimensions du tableau\n",
    "  tableau.size     # Nombre total d'éléments\n",
    "  tableau.ndim     # Nombre de dimensions\n",
    "  ```"
   ]
  },
  {
   "cell_type": "markdown",
   "metadata": {},
   "source": [
    "#### <u>Changer la forme d'un tableau</u>\n",
    "  ```python\n",
    "  tableau.reshape((2, 2))  # Remodeler le tableau\n",
    "  ```"
   ]
  },
  {
   "cell_type": "markdown",
   "metadata": {},
   "source": [
    "#### <u>Opérations arithmétiques sur les tableaux</u>\n",
    "  ```python\n",
    "  tableau + 1             # Ajouter 1 à chaque élément\n",
    "  tableau * 2             # Multiplier chaque élément par 2\n",
    "  np.sqrt(tableau)        # Racine carrée de chaque élément\n",
    "  ```\n"
   ]
  },
  {
   "cell_type": "markdown",
   "metadata": {},
   "source": [
    "#### <u>Fonctions statistiques</u>\n",
    "  ```python\n",
    "  np.mean(tableau)        # Moyenne\n",
    "  np.sum(tableau)         # Somme\n",
    "  np.std(tableau)         # Écart type\n",
    "  np.max(tableau)         # Valeur maximale\n",
    "  np.min(tableau)         # Valeur minimale\n",
    "  ```"
   ]
  },
  {
   "cell_type": "markdown",
   "metadata": {},
   "source": [
    "#### <u>Accès aux éléments d'un tableau</u>\n",
    "\n",
    "  ```python\n",
    "  arr[0]         # Premier élément\n",
    "  arr[-1]        # Dernier élément\n",
    "  ```"
   ]
  },
  {
   "cell_type": "markdown",
   "metadata": {},
   "source": [
    "#### <u>Découpage (slicing) d'un tableau</u>\n",
    "  ```python\n",
    "  tableau[1:3]       # Du deuxième au troisième élément\n",
    "  tableau[::2]       # Un élément sur deux\n",
    "  matrice[:, 1]      # Deuxième colonne\n",
    "  matrice[0, :]      # Première ligne\n",
    "  ```"
   ]
  },
  {
   "cell_type": "markdown",
   "metadata": {},
   "source": [
    "#### <u>Génération de nombres aléatoires</u>\n",
    "  ```python\n",
    "  np.random.rand(3, 3)      # Tableau 3x3 de nombres aléatoires\n",
    "  np.random.randint(0, 10, (3, 3))  # Tableau 3x3 d'entiers entre 0 et 10\n",
    "  ```"
   ]
  },
  {
   "cell_type": "markdown",
   "metadata": {},
   "source": [
    "#### <u >Droite de régression linéaire et coefficients</u>"
   ]
  },
  {
   "cell_type": "markdown",
   "metadata": {},
   "source": [
    "###### Équation et coefficients de la droite\n",
    "```python\n",
    "y = ax + b      # a = pente et b = ordonnée à l'origine\n",
    "```"
   ]
  },
  {
   "cell_type": "markdown",
   "metadata": {},
   "source": [
    "###### Exemple de données\n",
    "```python\n",
    "x = np.array([1, 2, 3, 4, 5])\n",
    "y = np.array([2, 3, 5, 7, 11])\n",
    "```"
   ]
  },
  {
   "cell_type": "markdown",
   "metadata": {},
   "source": [
    "###### Calcul des coefficients de la droite\n",
    "```python\n",
    "coefficients = np.polyfit(x, y, degre)  # degre = 1 Pour une droite\n",
    "a = coefficients[0]  # Pente\n",
    "b = coefficients[1]  # Ordonnée à l'origine \n",
    "```"
   ]
  },
  {
   "cell_type": "markdown",
   "metadata": {},
   "source": [
    "###### Tracer (Matplotlib) les données et la droite de régression\n",
    "```python\n",
    "plt.plot(x, y, 'marqueur', label='Données')\n",
    "plt.plot(x, a*x + b, 'couleur', label='Régression linéaire')\n",
    "```"
   ]
  },
  {
   "cell_type": "markdown",
   "metadata": {},
   "source": [
    "###### Calcul du coefficient de corrélation\n",
    "```python\n",
    "coef_correlation = np.corrcoef(x, y)[0, 1]\n",
    "```"
   ]
  },
  {
   "cell_type": "markdown",
   "metadata": {},
   "source": [
    "###### Interprétations\n",
    "1. <u>Observation de la droite et des données (graphique)</u>\n",
    "- La proximité des points de données par rapport à la droite de régression montre la force de la relation linéaire. Si les points sont proches de la droite, cela indique une forte corrélation linéaire. Si les points sont dispersés, la corrélation est plus faible.\n",
    "2. <u>Les coefficients de la droite de régression linéaire</u>\n",
    "- a : La pente de la droite de régression indique le taux de changement de la variable dépendante (Y) par rapport à la variable indépendante (X). Si la pente est positive, cela signifie qu’il y a une tendance à la hausse de Y en fonction de X. Si la pente est négative, cela indique une tendance à la baisse.\n",
    "- b : Ordonnée à l'origine. Elle représente la valeur de Y lorsque X est égal à zéro.\n",
    "3. <u>Le coefficient de corrélation</u>\n",
    " - La valeur de coefficient varie entre -1 et 1:\n",
    "   - Si = 1 Indique une corrélation linéaire positive parfaite.\n",
    "   - Si = -1 Indique une corrélation linéaire négative parfaite.\n",
    "   - Si = 0 Indique qu'il n'y a pas de corrélation linéaire.\n",
    "- Interprétation du coefficient:\n",
    "  - Si > 0 Les variables augmentent ensemble (corrélation positive).\n",
    "  - si < 0 une variable augmente tandis que l'autre diminue (corrélation négative).\n",
    "  - Si proche de 0 : La relation entre les variables est faible ou inexistante."
   ]
  }
 ],
 "metadata": {
  "language_info": {
   "name": "python"
  }
 },
 "nbformat": 4,
 "nbformat_minor": 2
}
