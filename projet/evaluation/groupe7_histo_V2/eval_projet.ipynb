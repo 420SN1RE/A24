{
 "cells": [
  {
   "cell_type": "markdown",
   "id": "23e3e8c5",
   "metadata": {},
   "source": [
    "<center><h1>Évaluation du projet</h1></center>\n",
    "Utilisez ce fichier pour écrire le code Python afin de répondre aux questions se trouvant sur Moodle.\n",
    "\n",
    "<div class=\"alert alert-block alert-warning\">\n",
    "Vous <b style=\"color:red\">ne devez pas modifier</b> le code déjà présent, mais vous dever le compléter. <b style=\"color:red\">Si vous modifiez le code fourni, votre code ne sera pas corrigé</b>, même si vous obtenez la bonne réponse.\n",
    "<b style=\"color:red\">À la fin, en plus des questions sur Moodle, vous devez remettre votre fichier de code (.ipynb)</b>\n",
    "</div>\n",
    "\n",
    "<div class=\"alert alert-block alert-warning\">\n",
    "<b style=\"color:red\">SI VOUS NE VOYEZ PAS LES CELLULES COLORÉES (VERT OU ROUGE), C'EST PARCE QUE VOUS AVEZ OUVERT CE FICHIER DIRECTEMENT DE L'EXPLORATEUR DE FICHIERS (double clic) AU LIEU DE L'OUVRIR VIA VISUAL STUDIO CODE (Fichier>Ouvrir le dossier> choisir le dossier contenant les fichiers .ipynb et .csv)</b>\n",
    "</div>\n",
    "\n",
    "<div class=\"alert alert-block alert-success\">\n",
    "Les éléments à <b style=\"color:green\">coder</b> sont en <b style=\"color:green\">vert.</b>\n",
    "</div>\n",
    "\n",
    "<div class=\"alert alert-block alert-warning\">\n",
    "Les questions à répondre sur <b style=\"color:red\">Moodle</b> sont en <b style=\"color:red\">rouge.</b>\n",
    "</div>\n",
    "\n",
    "### À propos des données :\n",
    "<div style=\"background:blue\">\n",
    "<b>Country</b>: Le nom du pays en anglais (ex: Canada, Spain, etc.).<br>\n",
    "<b>Year</b>: L'année à laquelle la température a été prise de 1960 à 2022. (ex: 2000.0).<br>\n",
    "<b>Temperature</b>: Colonne représentant la température annuelle de surface (en degrés Celsius).<br>\n",
    "</div>"
   ]
  },
  {
   "cell_type": "markdown",
   "id": "10ff12db",
   "metadata": {},
   "source": [
    "<center><h1>À FAIRE AVEC PANDAS</h1></center>"
   ]
  },
  {
   "cell_type": "markdown",
   "id": "1a0d337a",
   "metadata": {},
   "source": [
    "<div class=\"alert alert-block alert-success\">\n",
    "Importez le jeu de données, et affichez les <b>10 premières lignes</b> avec du code Pandas.\n",
    "</div>"
   ]
  },
  {
   "cell_type": "code",
   "execution_count": null,
   "id": "3b609156",
   "metadata": {},
   "outputs": [],
   "source": [
    "# Importation des bibliothèques\n",
    "import pandas as pd\n",
    "import matplotlib.pyplot as plt\n",
    "import numpy as np\n",
    "\n",
    "# ----- À COMPLÉTER -----\n",
    "# Extraction des données dans un dataframe\n",
    "df = \n",
    "\n",
    "# Affichage des 10 premières lignes\n",
    "df."
   ]
  },
  {
   "cell_type": "markdown",
   "id": "0e0686b6",
   "metadata": {},
   "source": [
    "<div class=\"alert alert-block alert-success\">\n",
    "Écrire le code permettant d'obtenir le <b>nombre de données manquantes par colonne</b>.\n",
    "</div>"
   ]
  },
  {
   "cell_type": "code",
   "execution_count": null,
   "id": "abe45e4e",
   "metadata": {},
   "outputs": [],
   "source": [
    "# ----- À COMPLÉTER -----\n",
    "# UNE SEULE LIGNE SUFFIT\n",
    "df."
   ]
  },
  {
   "cell_type": "markdown",
   "id": "dbd5fcbf",
   "metadata": {},
   "source": [
    "<div class=\"alert alert-block alert-warning\">\n",
    "<b>Question 1. </b>Combien de données manque t-il et dans quelle(s) colonne(s) ?</b>\n",
    "</div>"
   ]
  },
  {
   "cell_type": "markdown",
   "id": "5ba9ca78",
   "metadata": {},
   "source": [
    "<div class=\"alert alert-block alert-success\">\n",
    "Écrire le code permettant de remplacer les données manquantes par <b>0</b>. Avec la fonction <b>info()</b> , vérifiez qu'il n'y a de valeur manquantes.\n",
    "</div>"
   ]
  },
  {
   "cell_type": "code",
   "execution_count": null,
   "id": "b2bc93dc",
   "metadata": {},
   "outputs": [],
   "source": [
    "# ----- À COMPLÉTER -----\n",
    "\n",
    "# Convertir le DataFrame en liste\n",
    "liste = df. \n",
    "\n",
    "# Remplacer les valeurs manquantes par 0\n",
    "for ligne in liste:\n",
    "    for i in range(len(ligne)):\n",
    "        \n",
    "# Convertir la liste modifiée en dataframe\n",
    "df = pd.DataFrame()\n",
    "\n",
    "# Vérifier l'absence de valeurs manquantes\n",
    "df."
   ]
  },
  {
   "cell_type": "markdown",
   "id": "e8eed401",
   "metadata": {},
   "source": [
    "<div class=\"alert alert-block alert-success\">\n",
    "Écrire le code pour afficher tous les pays.</b>\n",
    "</div>"
   ]
  },
  {
   "cell_type": "code",
   "execution_count": null,
   "id": "d6187da9",
   "metadata": {},
   "outputs": [],
   "source": [
    "# ----- À COMPLÉTER -----\n",
    "df['']"
   ]
  },
  {
   "cell_type": "markdown",
   "id": "05ef284d",
   "metadata": {},
   "source": [
    "<div class=\"alert alert-block alert-warning\">\n",
    "<b>Question 2. </b>Quel est le pays à <b>l'indice 3</b> ?</b>\n",
    "</div>"
   ]
  },
  {
   "cell_type": "markdown",
   "id": "62a9bac7",
   "metadata": {},
   "source": [
    "<div class=\"alert alert-block alert-success\">\n",
    "Changer les noms des colonnes en utilisant les deux listes présentent dans la celllule suivante et affichez la <b>SEULEMENT la première ligne</b> du dataframe.</b>\n",
    "</div>"
   ]
  },
  {
   "cell_type": "code",
   "execution_count": null,
   "id": "7118bf52",
   "metadata": {},
   "outputs": [],
   "source": [
    "# Changement des noms des colonnes et affichage de la première colonne\n",
    "actuels = ['Country', 'Year', 'Temperature']\n",
    "nouveaux = ['Pays', 'Année', 'Température']\n",
    "\n",
    "# ----- À COMPLÉTER -----\n",
    "\n",
    "# Changer les noms des colonnes\n",
    "for i in range(len(actuels)):\n",
    "    df = df.rename()\n",
    "\n",
    "\n",
    "# Afficher la première ligne\n",
    "df."
   ]
  },
  {
   "cell_type": "markdown",
   "id": "4e83e9d3",
   "metadata": {},
   "source": [
    "<div class=\"alert alert-block alert-success\">\n",
    "Écrire le code pour afficher les <b>statistiques descriptives</b> du dataframe.\n",
    "</div>"
   ]
  },
  {
   "cell_type": "code",
   "execution_count": null,
   "id": "fb898f80",
   "metadata": {},
   "outputs": [],
   "source": [
    "# ----- À COMPLÉTER -----\n",
    "df."
   ]
  },
  {
   "cell_type": "markdown",
   "id": "0fa77550",
   "metadata": {},
   "source": [
    "<div class=\"alert alert-block alert-warning\">\n",
    "<b>Question 3. </b>Quelle est la température la <b>plus basse</b> ?</b>\n",
    "</div>"
   ]
  },
  {
   "cell_type": "markdown",
   "id": "257c7e8d",
   "metadata": {},
   "source": [
    "<div class=\"alert alert-block alert-warning\">\n",
    "<b>Question 4. </b>Quelle est <b>la moyenne</b> des températures  ?</b>\n",
    "</div>"
   ]
  },
  {
   "cell_type": "markdown",
   "id": "5dd59e7f",
   "metadata": {},
   "source": [
    "<div class=\"alert alert-block alert-success\">\n",
    "Écrire le code pour obtenir la température moyenne de chaque pays.<br>\n",
    "<b style='color:red'>Attention</b>, vous devez <b style='color:red'>obligatoirement</b> utiliser des <b>dataframes, listes</b> et <b>boucles for</b>.\n",
    "\n",
    "<b>Vous devez utiliser la fonction print() déjà présente dans la cellule pour afficher les résultats pour chaque pays.</b>\n",
    "</div>"
   ]
  },
  {
   "cell_type": "code",
   "execution_count": null,
   "id": "9830c82b",
   "metadata": {},
   "outputs": [],
   "source": [
    "# ----- À COMPLÉTER -----\n",
    "# 1. Créer une liste des pays uniques\n",
    "liste_pays = list(set(df[''].values))\n",
    "\n",
    "# 2. Convertir le dataframe en liste\n",
    "df_pays_temperatures = df[['', '']].values.tolist()\n",
    "\n",
    "# 3. À l'aide de 2 boucles FOR\n",
    "for pays in liste_pays:\n",
    "    for ligne in df_pays_temperatures:\n",
    "    # a) Pour chaque pays \n",
    "    # - calculer la somme de ses températures\n",
    "    # - calculer la moyenne des températures du pays\n",
    "    # - afficher la température moyenne du pays avec le print ci-dessous.\n",
    "   \n",
    "\n",
    "\n",
    "\n",
    "# Afficher la température moyenne du pays\n",
    "print(f\"{}: La température moyenne est de {round(,2)}°C\")"
   ]
  },
  {
   "cell_type": "markdown",
   "id": "0db37f42",
   "metadata": {},
   "source": [
    "<div class=\"alert alert-block alert-warning\">\n",
    "<b>Question 5. </b>Quelles sont les <b>températures moyennes</b> de <b><u>chaque</u></b> pays ?\n",
    "</div>"
   ]
  },
  {
   "cell_type": "markdown",
   "id": "6fec899e",
   "metadata": {},
   "source": [
    "<div class=\"alert alert-block alert-success\">\n",
    "Écrire le code permettant de trouver <b>l'année</b> à laquelle il a fait <b>le plus froid au Canada</b>. <br>\n",
    "Utilisez la variable <b>df_canada</b> et la fonction <b>print()</b> déjà présentes dans la cellule suivante.\n",
    "</div>"
   ]
  },
  {
   "cell_type": "code",
   "execution_count": null,
   "id": "90ea79bc",
   "metadata": {},
   "outputs": [],
   "source": [
    "# ----- À COMPLÉTER -----\n",
    "\n",
    "# 1. Fitrer les données pour le pays Canada\n",
    "df_canada = df[df['']] == '']\n",
    "\n",
    "# 2. À l'aide d'une boucle FOR \n",
    "for t in df_canada[''].values:\n",
    "    #  a) trouver la température la plus basse\n",
    "    #  b) identifiez l'année correspondant à cette température\n",
    "    annee = df_canada[df_canada[''] == ]\n",
    "    \n",
    "# 3. Compléter le print pour afficher la réponse\n",
    "print(f\"L'année où il a fait le plus froid au Canada est {}\")   #1pt    "
   ]
  },
  {
   "cell_type": "markdown",
   "id": "fd1d4180",
   "metadata": {},
   "source": [
    "<div class=\"alert alert-block alert-warning\">\n",
    "<b>Question 6. </b>En quelle <b>année</b> se trouve la température la plus basse au Canada ?\n",
    "</div>"
   ]
  },
  {
   "cell_type": "markdown",
   "id": "fa88bbe5",
   "metadata": {},
   "source": [
    "<div class=\"alert alert-block alert-success\">\n",
    "Écrire le code pour calculer la température moyenne au Canada de 2010 à 2020 ?<br>\n",
    "Utilisez la variable <b>df_10_ans</b> et la fonction <b>print()</b> déjà présentes dans la cellule suivante.\n",
    "</div>"
   ]
  },
  {
   "cell_type": "code",
   "execution_count": null,
   "id": "24aaa13c",
   "metadata": {},
   "outputs": [],
   "source": [
    "# ----- À COMPLÉTER -----\n",
    "\n",
    "# Filtrer les données pour le Canada entre 2000 et 2010\n",
    "df_10_ans = df_canada[(df_canada['']) ] & (df_canada[''])]\n",
    "\n",
    "# Calculer la somme des températures\n",
    "for temp in df_10_ans[\"\"]:\n",
    "\n",
    "# Calculer la moyenne\n",
    "\n",
    "\n",
    "# Afficher la température moyenne\n",
    "print(f\"La température moyenne au Canada de 2010 à 2020 est de {round(,2)}C\")"
   ]
  },
  {
   "cell_type": "markdown",
   "id": "b92feac7",
   "metadata": {},
   "source": [
    "<div class=\"alert alert-block alert-warning\">\n",
    "<b>Question 7. </b>Quelle est la <b>température <u>moyenne</u> au Canada</b> de 2010 à 2020 ?\n",
    "</div>"
   ]
  },
  {
   "cell_type": "markdown",
   "id": "030fbe3c",
   "metadata": {},
   "source": [
    "<center><h1>À FAIRE AVEC MATPLOTLIB</h1></center>"
   ]
  },
  {
   "cell_type": "markdown",
   "id": "f2d3f191",
   "metadata": {},
   "source": [
    "<div class=\"alert alert-block alert-success\">\n",
    "Ecrire le code pour créer un histogramme permettant de visualiser la distribution des températures annuelles au Canada entre 2010 et 2020\n",
    "Sauvegardez le graphique en format PNG <br>\n",
    "\n",
    "#### Éléments du graphique\n",
    "1. **Titre du graphique** : \"Distribution des températures annuelles au Canada (2010-2020)\"\n",
    "2. **Axe des X (horizontal)** : Année de 2010 à 2020\n",
    "3. **Axe des Y (vertical)** : Température (°C)\n",
    "    - Couleur : Bleu\n",
    "4. **Sauvegarde** : Le graphique est sauvegardé en format PNG sous le nom **`histogramme_canada_2010_2020.png`**.\n",
    "</div>"
   ]
  },
  {
   "cell_type": "code",
   "execution_count": null,
   "id": "0dda24b4",
   "metadata": {},
   "outputs": [],
   "source": [
    "# Définir la taille du graphique\n",
    "plt.figure(figsize=(10, 5))\n",
    "\n",
    "# ----- À COMPLÉTER À PARTIR D'ICI -----\n",
    "\n",
    "# Créer le graphique (histogramme)\n",
    "plt.hist(df_10_ans[''], bins=10, color='g', edgecolor='black')\n",
    "\n",
    "# Ajouter des titres (du graphique et des axes)\n",
    "plt.\n",
    "plt.\n",
    "plt.\n",
    "\n",
    "# Sauvegarder le graphique en format PNG\n",
    "plt.\n",
    "\n",
    "# Afficher le graphique\n",
    "plt."
   ]
  },
  {
   "cell_type": "markdown",
   "id": "849c1ef4",
   "metadata": {},
   "source": [
    "<center><h1>À FAIRE AVEC NUMPY</h1> et MATPLOTLIB (graphique)</center>"
   ]
  },
  {
   "cell_type": "markdown",
   "id": "d4a82cdc",
   "metadata": {},
   "source": [
    "<div class=\"alert alert-block alert-success\">\n",
    "Écrire le code pour <b>convertir</b> la colonne des températures au \n",
    "<b>Canada</b> en <b>tableau NumPy</b>\n",
    "</div>"
   ]
  },
  {
   "cell_type": "code",
   "execution_count": null,
   "id": "492a8858",
   "metadata": {},
   "outputs": [],
   "source": [
    "# ----- À COMPLÉTER -----\n",
    "# Convertir la colonne des températures en tableau NumPy\n",
    "tableau = np."
   ]
  },
  {
   "cell_type": "markdown",
   "id": "44359f6e",
   "metadata": {},
   "source": [
    "<div class=\"alert alert-block alert-success\">\n",
    "Écrire le code pour calculer la <b>température moyenne au Canada</b>.<br>\n",
    "</div>"
   ]
  },
  {
   "cell_type": "code",
   "execution_count": null,
   "id": "44e37492",
   "metadata": {},
   "outputs": [],
   "source": [
    "# ----- À COMPLÉTER -----\n",
    "\n",
    "# Calcul de la moyenne\n",
    "moyenne = np.\n",
    "print(f\"Température moyenne: {round(moyenne,2)}°C\")"
   ]
  },
  {
   "cell_type": "markdown",
   "id": "8735d2db",
   "metadata": {},
   "source": [
    "<div class=\"alert alert-block alert-warning\">\n",
    "<b>Question 9. </b>Quelle est la <b>température moyenne au Canada</b> ?</b>\n",
    "</div>"
   ]
  },
  {
   "cell_type": "markdown",
   "id": "89776955",
   "metadata": {},
   "source": [
    "<div class=\"alert alert-block alert-success\">\n",
    "Écrire le code pour calculer la <b>médiane des températures au Canada</b>.\n",
    "</div>"
   ]
  },
  {
   "cell_type": "code",
   "execution_count": null,
   "id": "7d2866db",
   "metadata": {},
   "outputs": [],
   "source": [
    "# ----- À COMPLÉTER -----\n",
    "\n",
    "# Calcul de la médiane\n",
    "mediane = np.\n",
    "print(f\"Température médiane: {round(mediane,2)}°C\")"
   ]
  },
  {
   "cell_type": "markdown",
   "id": "477109f6",
   "metadata": {},
   "source": [
    "<div class=\"alert alert-block alert-warning\">\n",
    "<b>Question 10. </b>Quelle est la <b>médiane des températures au Canada</b> ?\n",
    "</div>"
   ]
  },
  {
   "cell_type": "markdown",
   "id": "b3f8b053",
   "metadata": {},
   "source": [
    "<div class=\"alert alert-block alert-success\">\n",
    "Écrire le code pour calculer <b>l'écart-type des températures au Canada</b>. <br>\n",
    "</div>"
   ]
  },
  {
   "cell_type": "code",
   "execution_count": null,
   "id": "b8bb6036",
   "metadata": {},
   "outputs": [],
   "source": [
    "# ----- À COMPLÉTER -----\n",
    "\n",
    "# Calcul de l'écart-type\n",
    "ecart_type = np.\n",
    "print(f\"Écart-type des températures: {round(ecart_type,2)}°C\")"
   ]
  },
  {
   "cell_type": "markdown",
   "id": "440d1ac8",
   "metadata": {},
   "source": [
    "<div class=\"alert alert-block alert-warning\">\n",
    "<b>Question 11. </b>Quel est <b>l'écart-type des températures au Canada</b>?\n",
    "</div>"
   ]
  },
  {
   "cell_type": "markdown",
   "id": "b85146cf",
   "metadata": {},
   "source": [
    "<div class=\"alert alert-block alert-success\">\n",
    "Écrire le code pour obtenir la <b>température minimum au Canada.</b> <br>\n",
    "</div>"
   ]
  },
  {
   "cell_type": "code",
   "execution_count": null,
   "id": "5dcdfcf9",
   "metadata": {},
   "outputs": [],
   "source": [
    "# ----- À COMPLÉTER -----\n",
    "\n",
    "# Calcul de la température minimum\n",
    "min_temp = np.\n",
    "print(f\"Température minimum: {round(min_temp,2)}°C\")"
   ]
  },
  {
   "cell_type": "markdown",
   "id": "f23ba4a7",
   "metadata": {},
   "source": [
    "<div class=\"alert alert-block alert-warning\">\n",
    "<b>Question 12. </b>Quelle est la <b>température minimum au Canada</b> ?\n",
    "</div>"
   ]
  },
  {
   "cell_type": "markdown",
   "id": "ebc6ebb6",
   "metadata": {},
   "source": [
    "<div class=\"alert alert-block alert-success\">\n",
    "Écrire le code pour obtenir la <b>température maximum au Canada</b>. <br>\n",
    "</div>"
   ]
  },
  {
   "cell_type": "code",
   "execution_count": null,
   "id": "d72eb8a2",
   "metadata": {},
   "outputs": [],
   "source": [
    "# ----- À COMPLÉTER -----\n",
    "\n",
    "# Calcul de la température maximum\n",
    "max_temp = np.\n",
    "print(f\"Température maximum: {round(max_temp,2)}°C\")"
   ]
  },
  {
   "cell_type": "markdown",
   "id": "86842982",
   "metadata": {},
   "source": [
    "<div class=\"alert alert-block alert-warning\">\n",
    "<b>Question 13. </b>Quelle est la <b>température maximum au Canada</b> ?</b>\n",
    "</div>"
   ]
  },
  {
   "cell_type": "markdown",
   "id": "890b7d76",
   "metadata": {},
   "source": [
    "<div class=\"alert alert-block alert-success\">\n",
    "À l'aide de fonction <b>polyfit()</b> de NumPy: <br>\n",
    "   - Calculer <b>les coefficients de la droite</b> de régression linéaire entre les <b>années</b> et les <b>températures</b>. <br>\n",
    "</div>"
   ]
  },
  {
   "cell_type": "code",
   "execution_count": null,
   "id": "b00a22f7",
   "metadata": {},
   "outputs": [],
   "source": [
    "# ----- À COMPLÉTER -----\n",
    "\n",
    "# Convertir la colonne des années en tableau NumPy\n",
    "annees = np.\n",
    "\n",
    "# Calculer les coefficients de la régression linéaire\n",
    "pente, b = np.\n",
    "print(\"Pente: \",round(pente,2))\n",
    "print(\"b: \",round(b,2))"
   ]
  },
  {
   "cell_type": "markdown",
   "id": "2c5ef74d",
   "metadata": {},
   "source": [
    "<div class=\"alert alert-block alert-warning\">\n",
    "<b>Question 14 </b>Quels sont <b>les valeurs des coefficients de la droite</b> de régression linéaire ?\n",
    "</div>"
   ]
  },
  {
   "cell_type": "markdown",
   "id": "852529ee",
   "metadata": {},
   "source": [
    "   <div class=\"alert alert-block alert-success\">\n",
    "   - Créer le graphique en <b>nuage de points</b> des températures en fonction des années et sauvegardez-le sous le nom de <b>'regression.png'</b>. <br>\n",
    "   - Ajouter la <b>droite de régression linéaire</b> entre les années et les températures. <br>\n",
    "  </div>"
   ]
  },
  {
   "cell_type": "code",
   "execution_count": null,
   "id": "e43137ac",
   "metadata": {},
   "outputs": [],
   "source": [
    "# Définir la taille du graphique\n",
    "plt.figure(figsize=(10, 5))\n",
    "\n",
    "# ----- À COMPLÉTER À PARTIR D'ICI-----\n",
    "\n",
    "# Tracer le nuage de points\n",
    "plt.scatter(, , color='blue', label='Données')\n",
    "\n",
    "# Tracer la droite de régression\n",
    "plt.plot(, pente *  + , color='red', label='Régression linéaire')\n",
    "\n",
    "# Ajouter des titres et des labels\n",
    "plt.\n",
    "plt.\n",
    "plt.\n",
    "\n",
    "# Sauvegarder le graphique en format PNG\n",
    "plt.\n",
    "\n",
    "# Afficher le graphique\n",
    "plt."
   ]
  },
  {
   "cell_type": "markdown",
   "id": "79b4d1d8",
   "metadata": {},
   "source": [
    "<div class=\"alert alert-block alert-warning\">\n",
    "<b>Question 15. </b>En observant le graphique avec la droite de régression linéaire quelles déductions pouvez vous faire au niveau de: <br>\n",
    "   1. La tendance générale <br>\n",
    "   2. La force de la relation <br>\n",
    "</div>"
   ]
  }
 ],
 "metadata": {
  "kernelspec": {
   "display_name": "Python 3",
   "language": "python",
   "name": "python3"
  },
  "language_info": {
   "codemirror_mode": {
    "name": "ipython",
    "version": 3
   },
   "file_extension": ".py",
   "mimetype": "text/x-python",
   "name": "python",
   "nbconvert_exporter": "python",
   "pygments_lexer": "ipython3",
   "version": "3.11.9"
  },
  "papermill": {
   "default_parameters": {},
   "duration": 118.360137,
   "end_time": "2023-09-11T16:01:43.003852",
   "environment_variables": {},
   "exception": null,
   "input_path": "__notebook__.ipynb",
   "output_path": "__notebook__.ipynb",
   "parameters": {},
   "start_time": "2023-09-11T15:59:44.643715",
   "version": "2.4.0"
  }
 },
 "nbformat": 4,
 "nbformat_minor": 5
}
