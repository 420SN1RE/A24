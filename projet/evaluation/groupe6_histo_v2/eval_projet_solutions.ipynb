{
 "cells": [
  {
   "cell_type": "markdown",
   "id": "23e3e8c5",
   "metadata": {},
   "source": [
    "<center><h1>Évaluation du projet</h1></center>\n",
    "Utilisez ce fichier pour écrire le code Python afin de répondre aux questions se trouvant sur Moodle.\n",
    "\n",
    "<div class=\"alert alert-block alert-warning\">\n",
    "Vous <b style=\"color:red\">ne devez pas modifier</b> le code déjà présent, mais vous dever le compléter. <b style=\"color:red\">Si vous modifiez le code fourni, votre code ne sera pas corrigé</b>, même si vous obtenez la bonne réponse.\n",
    "<b style=\"color:red\">À la fin, en plus des questions sur Moodle, vous devez remettre votre fichier de code (.ipynb)</b>\n",
    "</div>\n",
    "\n",
    "<div class=\"alert alert-block alert-success\">\n",
    "Les éléments à <b style=\"color:green\">coder</b> sont en <b style=\"color:green\">vert.</b>\n",
    "</div>\n",
    "\n",
    "<div class=\"alert alert-block alert-warning\">\n",
    "Les questions à répondre sur <b style=\"color:red\">Moodle</b> sont en <b style=\"color:red\">rouge.</b>\n",
    "</div>\n",
    "\n",
    "### À propos des données :\n",
    "\n",
    "* **Country**: Le nom du pays.\n",
    "* **ISO**: Le code du pays pour la norme ISO 3166-1 alpha-3.\n",
    "* **Temperature (1960)** to **Temperature (2022)**: Colonnes représentant les températures annuelles de surface (en degrés Celsius) pour chaque année de 1960 à 2022."
   ]
  },
  {
   "cell_type": "markdown",
   "id": "10ff12db",
   "metadata": {},
   "source": [
    "<center><h1>À FAIRE AVEC PANDAS</h1></center>"
   ]
  },
  {
   "cell_type": "markdown",
   "id": "1a0d337a",
   "metadata": {},
   "source": [
    "<div class=\"alert alert-block alert-success\">\n",
    "Importez le jeu de données, et affichez les 10 premières entrées avec du code Pandas.\n",
    "</div>"
   ]
  },
  {
   "cell_type": "code",
   "execution_count": 20,
   "id": "3b609156",
   "metadata": {},
   "outputs": [
    {
     "data": {
      "text/html": [
       "<div>\n",
       "<style scoped>\n",
       "    .dataframe tbody tr th:only-of-type {\n",
       "        vertical-align: middle;\n",
       "    }\n",
       "\n",
       "    .dataframe tbody tr th {\n",
       "        vertical-align: top;\n",
       "    }\n",
       "\n",
       "    .dataframe thead th {\n",
       "        text-align: right;\n",
       "    }\n",
       "</style>\n",
       "<table border=\"1\" class=\"dataframe\">\n",
       "  <thead>\n",
       "    <tr style=\"text-align: right;\">\n",
       "      <th></th>\n",
       "      <th>Country</th>\n",
       "      <th>Year</th>\n",
       "      <th>Temperature</th>\n",
       "    </tr>\n",
       "  </thead>\n",
       "  <tbody>\n",
       "    <tr>\n",
       "      <th>0</th>\n",
       "      <td>China</td>\n",
       "      <td>2004</td>\n",
       "      <td>36.31</td>\n",
       "    </tr>\n",
       "    <tr>\n",
       "      <th>1</th>\n",
       "      <td>Italy</td>\n",
       "      <td>2009</td>\n",
       "      <td>35.11</td>\n",
       "    </tr>\n",
       "    <tr>\n",
       "      <th>2</th>\n",
       "      <td>Spain</td>\n",
       "      <td>2017</td>\n",
       "      <td>7.87</td>\n",
       "    </tr>\n",
       "    <tr>\n",
       "      <th>3</th>\n",
       "      <td>Canada</td>\n",
       "      <td>2003</td>\n",
       "      <td>-7.45</td>\n",
       "    </tr>\n",
       "    <tr>\n",
       "      <th>4</th>\n",
       "      <td>Japan</td>\n",
       "      <td>1963</td>\n",
       "      <td>19.44</td>\n",
       "    </tr>\n",
       "    <tr>\n",
       "      <th>5</th>\n",
       "      <td>Japan</td>\n",
       "      <td>1970</td>\n",
       "      <td>33.24</td>\n",
       "    </tr>\n",
       "    <tr>\n",
       "      <th>6</th>\n",
       "      <td>Spain</td>\n",
       "      <td>1990</td>\n",
       "      <td>31.94</td>\n",
       "    </tr>\n",
       "    <tr>\n",
       "      <th>7</th>\n",
       "      <td>Germany</td>\n",
       "      <td>1980</td>\n",
       "      <td>16.29</td>\n",
       "    </tr>\n",
       "    <tr>\n",
       "      <th>8</th>\n",
       "      <td>Spain</td>\n",
       "      <td>1978</td>\n",
       "      <td>20.06</td>\n",
       "    </tr>\n",
       "    <tr>\n",
       "      <th>9</th>\n",
       "      <td>Canada</td>\n",
       "      <td>1975</td>\n",
       "      <td>-0.04</td>\n",
       "    </tr>\n",
       "  </tbody>\n",
       "</table>\n",
       "</div>"
      ],
      "text/plain": [
       "   Country  Year  Temperature\n",
       "0    China  2004        36.31\n",
       "1    Italy  2009        35.11\n",
       "2    Spain  2017         7.87\n",
       "3   Canada  2003        -7.45\n",
       "4    Japan  1963        19.44\n",
       "5    Japan  1970        33.24\n",
       "6    Spain  1990        31.94\n",
       "7  Germany  1980        16.29\n",
       "8    Spain  1978        20.06\n",
       "9   Canada  1975        -0.04"
      ]
     },
     "execution_count": 20,
     "metadata": {},
     "output_type": "execute_result"
    }
   ],
   "source": [
    "# Importation des bibliothèques\n",
    "import pandas as pd\n",
    "import matplotlib.pyplot as plt\n",
    "import numpy as np\n",
    "\n",
    "# Extraction des données dans un dataframe\n",
    "df = pd.read_csv(\"eval_projet.csv\")\n",
    "df.head(10)"
   ]
  },
  {
   "cell_type": "markdown",
   "id": "0e0686b6",
   "metadata": {},
   "source": [
    "<div class=\"alert alert-block alert-success\">\n",
    "Écrire le code permettant d'obtenir le nombre de données manquantes.\n",
    "</div>"
   ]
  },
  {
   "cell_type": "code",
   "execution_count": 21,
   "id": "abe45e4e",
   "metadata": {},
   "outputs": [
    {
     "data": {
      "text/plain": [
       "Country        0\n",
       "Year           0\n",
       "Temperature    5\n",
       "dtype: int64"
      ]
     },
     "execution_count": 21,
     "metadata": {},
     "output_type": "execute_result"
    }
   ],
   "source": [
    "# Question #4 (2pts)\n",
    "df.isna().sum()"
   ]
  },
  {
   "cell_type": "markdown",
   "id": "dbd5fcbf",
   "metadata": {},
   "source": [
    "<div class=\"alert alert-block alert-warning\">\n",
    "<b>Question 1. </b>Combien de données manque t-il et dans quelle(s) colonne(s) ? (2 pts)</b>\n",
    "</div>"
   ]
  },
  {
   "cell_type": "markdown",
   "id": "5ba9ca78",
   "metadata": {},
   "source": [
    "<div class=\"alert alert-block alert-success\">\n",
    "Écrire le code permettant de remplacer les données manquantes par 0. Avec la fonction <b>info()</b> , vérifiez qu'il n'y plus de valeur manquantes.\n",
    "</div>"
   ]
  },
  {
   "cell_type": "code",
   "execution_count": 22,
   "id": "b2bc93dc",
   "metadata": {},
   "outputs": [
    {
     "name": "stdout",
     "output_type": "stream",
     "text": [
      "[['China', 2004, 36.31], ['Italy', 2009, 35.11], ['Spain', 2017, 7.87], ['Canada', 2003, -7.45], ['Japan', 1963, 19.44], ['Japan', 1970, 33.24], ['Spain', 1990, 31.94], ['Germany', 1980, 16.29], ['Spain', 1978, 20.06], ['Canada', 1975, -0.04], ['Canada', 1991, 21.98], ['Canada', 1973, 18.68], ['Australia', 1962, 30.64], ['China', 1994, 11.81], ['Canada', 1975, 15.83], ['Japan', 1996, 21.88], ['Germany', 1981, 20.98], ['Australia', 1970, 3.74], ['China', 2014, 14.82], ['Germany', 1973, 37.65], ['Canada', 1967, -0.14], ['Canada', 2011, 22.1], ['Germany', 2019, 39.9], ['United States', 1972, 32.79], ['Canada', 1969, 9.55], ['Australia', 2003, 34.08], ['Italy', 1960, 19.78], ['Italy', 1975, 37.7], ['Australia', 1982, 12.9], ['Australia', 1989, 29.93], ['Australia', 1991, 22.67], ['Japan', 2003, -6.49], ['United Kingdom', 1993, 15.58], ['France', 1984, 36.2], ['Australia', 2013, 18.58], ['China', 2007, 33.21], ['Australia', 1961, 11.22], ['Australia', 1980, -6.93], ['Australia', 2007, 14.49], ['Spain', 1996, -6.1], ['Japan', 1989, -7.43], ['Japan', 2003, 18.0], ['United States', 1972, 8.39], ['China', 1988, 19.83], ['Australia', 2013, 37.78], ['Italy', 1992, 36.4], ['France', 1994, 4.08], ['Italy', 1996, -3.74], ['United States', 2004, 27.09], ['China', 1965, 18.32], ['Australia', 1986, 6.39], ['United States', 2013, 17.6], ['United Kingdom', 1991, -6.08], ['Canada', 1998, 35.5], ['China', 1960, 36.68], ['Canada', 2022, 4.41], ['United States', 1969, 31.49], ['United States', 1985, 32.07], ['Canada', 1993, 22.09], ['Japan', 2020, 6.34], ['United Kingdom', 2008, 31.73], ['Australia', 2007, 13.9], ['China', 1964, 3.71], ['Canada', 2016, 27.79], ['Japan', 1969, 27.83], ['United States', 1991, 27.54], ['Canada', 1974, 12.69], ['Japan', 1963, 5.07], ['China', 2006, 1.22], ['United States', 2015, 22.77], ['Spain', 1986, 17.48], ['United States', 1989, -1.91], ['Italy', 2002, 16.35], ['France', 1978, 21.21], ['Italy', 1984, 4.43], ['Spain', 1969, 39.97], ['Germany', 2011, 13.02], ['United Kingdom', 2014, 30.77], ['Japan', 1962, -2.89], ['Canada', 1992, -1.26], ['Spain', 2012, 21.63], ['Italy', 1996, 30.25], ['France', 1961, -0.72], ['Germany', 2011, 1.3], ['China', 2002, 4.51], ['China', 2017, 19.58], ['United States', 1967, 13.03], ['Italy', 1961, 16.63], ['Italy', 1986, -9.74], ['France', 2019, 10.69], ['France', 1998, -8.81], ['Italy', 2019, 37.77], ['Canada', 2002, 16.65], ['Italy', 1985, 39.13], ['Japan', 2003, 26.3], ['China', 2015, 21.79], ['Spain', 2009, 0.46], ['China', 1974, 20.21], ['United Kingdom', 1975, 11.05], ['Australia', 2014, 14.92], ['Japan', 2007, -4.17], ['Italy', 1994, 39.75], ['France', 1986, 37.01], ['China', 1977, 11.08], ['Australia', 1975, 32.31], ['France', 1992, 23.34], ['Italy', 1969, 30.15], ['Spain', 2022, 21.66], ['United Kingdom', 1960, -7.65], ['United States', 1978, 5.54], ['Australia', 1977, 28.94], ['United Kingdom', 1976, -4.78], ['Germany', 1966, 11.52], ['United Kingdom', 1978, 39.6], ['Germany', 1961, 28.5], ['France', 1975, 38.62], ['Germany', 2021, 28.86], ['Canada', 1967, 17.89], ['United States', 1977, 4.91], ['Australia', 1978, 0], ['Germany', 2000, 3.71], ['United States', 2005, 15.51], ['United Kingdom', 1977, 33.63], ['Australia', 1996, -9.51], ['United States', 1991, 5.84], ['Canada', 2011, -0.52], ['Spain', 2017, 0], ['China', 1972, 39.55], ['Canada', 2007, 0.46], ['Spain', 1964, 25.6], ['Japan', 2021, -6.09], ['Australia', 1975, 7.65], ['United States', 2018, 2.82], ['United Kingdom', 2013, 1.78], ['China', 1975, -6.58], ['United States', 2000, 17.95], ['United Kingdom', 1974, 38.98], ['United Kingdom', 1980, 39.83], ['Canada', 2006, -7.9], ['Spain', 2022, 13.74], ['China', 1964, 9.92], ['China', 1988, 17.61], ['China', 1978, 11.9], ['Germany', 1971, 20.02], ['China', 2017, 25.5], ['United Kingdom', 1997, 14.38], ['Canada', 1999, -9.76], ['Germany', 2010, 1.96], ['Australia', 2010, 32.66], ['Japan', 1992, -4.39], ['Germany', 2000, 27.46], ['Australia', 1977, 23.02], ['Australia', 2003, 7.94], ['China', 1984, 4.22], ['United States', 2017, 34.02], ['Japan', 1968, 27.76], ['Australia', 2019, 4.67], ['Spain', 1977, 11.61], ['United States', 2009, 1.13], ['United States', 1970, 7.16], ['Italy', 1978, 0.73], ['Spain', 2018, 36.25], ['Canada', 2017, 16.35], ['Spain', 1979, 14.32], ['United States', 1992, 13.83], ['Spain', 2018, 33.73], ['Germany', 1979, 38.19], ['France', 2016, 18.13], ['France', 1995, 17.44], ['China', 2020, 36.58], ['Italy', 1973, -1.99], ['United States', 2009, 0], ['Japan', 1965, -9.51], ['Canada', 2001, 6.49], ['Spain', 1997, 25.33], ['China', 1965, 4.52], ['Italy', 2011, 32.51], ['Australia', 1973, -7.75], ['China', 2022, 0], ['Italy', 1998, -3.82], ['Germany', 2009, 39.15], ['Germany', 2006, -7.15], ['Australia', 2010, 3.2], ['Canada', 1989, 7.72], ['Australia', 1964, -8.58], ['Canada', 1995, 22.74], ['France', 2019, -7.23], ['Japan', 2014, 23.69], ['Italy', 2002, 6.07], ['Australia', 2022, 3.2], ['Germany', 1988, 27.33], ['Germany', 1983, 31.83], ['United States', 1998, -9.72], ['Australia', 2009, 2.07], ['Canada', 2017, 34.42], ['Spain', 2022, 26.32], ['Italy', 1971, -0.0], ['China', 1963, -8.23], ['China', 2002, -9.0], ['Germany', 1963, 17.47], ['Spain', 1969, 18.33], ['Australia', 2001, 18.55], ['Canada', 1990, 35.18], ['Spain', 1977, -1.03], ['Germany', 1969, -9.31], ['United Kingdom', 2008, 2.0], ['Canada', 1999, 18.67], ['France', 2022, 4.65], ['Japan', 1992, 14.08], ['United Kingdom', 2012, 35.97], ['United States', 1962, 6.52], ['Germany', 2014, 5.77], ['Spain', 1983, 19.82], ['Japan', 1991, 5.4], ['Germany', 2012, -8.11], ['Australia', 1976, 11.49], ['Australia', 1993, 21.66], ['Canada', 1999, 39.83], ['Italy', 1963, 25.5], ['United Kingdom', 2018, 11.94], ['Spain', 1995, 25.1], ['Italy', 1992, -8.54], ['Canada', 1996, 29.8], ['United States', 1968, -4.41], ['China', 1972, 26.08], ['Japan', 2006, 39.34], ['France', 1975, 32.96], ['China', 1973, 33.71], ['United Kingdom', 2016, 19.01], ['China', 1981, 19.13], ['United Kingdom', 1978, 29.91], ['United Kingdom', 1984, 39.4], ['Canada', 1999, 28.97], ['Italy', 2010, 8.73], ['China', 1995, 3.31], ['France', 1960, -0.03], ['Germany', 2015, 14.42], ['United States', 1995, 3.04], ['Australia', 1965, -9.68], ['Australia', 2007, 32.92], ['China', 2009, 18.41], ['Canada', 1987, 32.26], ['United States', 2019, 3.57], ['Canada', 1988, 24.71], ['Australia', 1990, 28.4], ['Japan', 1989, 11.08], ['Australia', 1960, -2.56], ['Spain', 1971, 34.86], ['Canada', 1964, -5.2], ['China', 1981, 8.37], ['Italy', 1991, -7.62], ['Italy', 1971, 38.03], ['Spain', 2011, -1.36], ['Australia', 1977, 35.45], ['Japan', 1985, 10.24], ['Spain', 1984, 21.02], ['Canada', 1998, 33.02], ['United Kingdom', 2018, 4.99], ['China', 1975, 30.5], ['Japan', 1969, 33.56], ['China', 1987, 20.11], ['Spain', 1976, 29.22], ['United Kingdom', 2004, 8.69], ['Spain', 1965, 13.31], ['Japan', 1985, 26.26], ['United Kingdom', 1980, 26.52], ['Canada', 1998, 3.78], ['United States', 1961, 28.15], ['Spain', 1986, 24.02], ['France', 1963, -3.29], ['Japan', 2022, 7.74], ['United Kingdom', 1990, 17.5], ['Canada', 2015, 18.14], ['Spain', 1962, 3.23], ['United States', 2005, 34.03], ['United Kingdom', 1981, 11.79], ['United States', 1961, 20.68], ['France', 1979, -1.82], ['Japan', 1964, 20.15], ['Italy', 1997, -4.52], ['Italy', 2001, -3.96], ['China', 1989, 29.4], ['Italy', 2004, 7.25], ['China', 2006, 36.6], ['Canada', 1965, 1.62], ['France', 2015, -6.12], ['China', 2018, 18.83], ['Australia', 1982, -2.99], ['Germany', 2005, 8.84], ['United Kingdom', 1992, 16.65], ['Japan', 1968, 7.36], ['Japan', 2006, -0.85], ['China', 2003, 37.76], ['France', 1994, 0.5], ['Spain', 2005, 10.82], ['France', 1980, 20.23], ['Germany', 2010, 4.61], ['Germany', 1998, 12.03], ['United States', 1984, 11.94], ['Canada', 1964, 37.64], ['United States', 1967, 39.94], ['China', 2008, -6.01], ['United Kingdom', 2005, 26.44], ['Italy', 2021, -7.27], ['Italy', 1994, 20.92], ['China', 1983, 11.42], ['Italy', 2005, 6.08], ['France', 1978, -3.56], ['China', 1970, 31.32], ['France', 1961, 12.82], ['Italy', 2004, 27.33], ['Japan', 1962, -8.64], ['France', 1993, 2.96], ['United States', 1978, -5.43], ['United States', 2020, 11.82], ['China', 1972, 17.87], ['Australia', 2021, 12.07], ['Italy', 1989, 5.11], ['China', 1987, -0.77], ['Australia', 2018, 11.8], ['Italy', 1981, 14.67], ['Spain', 1976, 16.91], ['United States', 1979, 37.26], ['Japan', 2009, 36.28], ['United States', 1994, -8.5], ['China', 2010, 1.2], ['Italy', 1992, -4.39], ['Australia', 1970, 17.66], ['United States', 1991, -5.3], ['Spain', 2017, 16.31], ['Japan', 2012, 9.32], ['France', 1987, -9.69], ['Germany', 1985, -0.92], ['United Kingdom', 1984, 20.16], ['France', 1968, 3.69], ['Italy', 2007, 13.78], ['United Kingdom', 2014, 32.13], ['United States', 1967, 15.13], ['China', 2012, 37.11], ['Germany', 2008, -9.09], ['Germany', 2015, 19.22], ['United States', 1985, 14.38], ['Italy', 1981, 36.93], ['United Kingdom', 1997, 3.34], ['United Kingdom', 1984, -1.07], ['Germany', 1978, 37.84], ['Canada', 1975, -2.78], ['China', 1975, 24.92], ['Canada', 2001, 18.01], ['Japan', 1990, 1.19], ['China', 2013, 1.09], ['France', 1989, 6.14], ['United States', 2004, 33.43], ['Spain', 2016, -4.72], ['Japan', 1972, 17.75], ['Spain', 1984, 0.83], ['China', 1975, -9.35], ['France', 1991, -1.17], ['Germany', 1962, 28.44], ['Germany', 2005, 26.78], ['Germany', 2000, 2.57], ['United Kingdom', 1982, 22.73], ['United Kingdom', 2012, 5.3], ['United Kingdom', 1996, 6.1], ['United Kingdom', 2016, 26.1], ['United Kingdom', 1998, 26.97], ['Canada', 1986, 24.72], ['United Kingdom', 1994, 2.77], ['Spain', 1991, 35.1], ['United Kingdom', 1970, -3.82], ['Italy', 2001, 29.9], ['France', 1970, 21.02], ['China', 1964, 38.27], ['China', 1998, -7.4], ['Canada', 1976, 7.53], ['United Kingdom', 1964, 19.95], ['Spain', 2006, 5.74], ['Italy', 1991, -7.98], ['China', 1970, 31.04], ['United Kingdom', 1962, 15.4], ['France', 1997, 8.37], ['France', 1962, 24.39], ['Germany', 2006, 10.17], ['China', 1991, 33.1], ['France', 1997, 27.84], ['China', 1970, -3.06], ['United States', 2016, -2.08], ['United States', 2014, -6.42], ['China', 2004, 5.56], ['Spain', 2001, -0.21], ['Italy', 1966, 29.77], ['Germany', 2017, 12.95], ['Australia', 1976, 17.39], ['Italy', 2017, 26.17], ['Australia', 1995, -6.66], ['Canada', 1981, 29.57], ['Australia', 2000, -10.93], ['Canada', 1996, -10.36], ['Australia', 1977, 9.22], ['France', 1984, 31.28], ['China', 1992, 37.48], ['China', 1964, 26.78], ['China', 1992, 25.17], ['United Kingdom', 2006, -4.54], ['France', 2009, 5.51], ['United States', 1972, 22.77], ['United States', 2019, 11.61], ['United States', 1980, 39.5], ['Italy', 2013, -7.05], ['United States', 1992, 36.86], ['Italy', 1991, 14.83], ['Canada', 2001, 10.6], ['France', 2016, 16.42], ['China', 2003, 16.45], ['Spain', 1964, 0.71], ['Australia', 1974, 24.09], ['Australia', 2000, 16.34], ['Italy', 1980, 2.67], ['Spain', 2001, 28.56], ['Canada', 1997, 28.82], ['China', 1995, 2.87], ['Australia', 1984, 28.62], ['China', 1976, 14.45], ['Germany', 1987, 13.86], ['Canada', 1986, 32.16], ['United States', 2005, 7.31], ['Germany', 1992, 28.69], ['Canada', 1974, 16.13], ['Germany', 1998, 36.6], ['United States', 2012, 8.72], ['United Kingdom', 2015, 17.42], ['United Kingdom', 1974, 0.79], ['United States', 1969, 10.81], ['China', 1961, 20.0], ['Australia', 1983, 25.91], ['China', 1963, 6.37], ['China', 1998, 27.07], ['United States', 1989, 16.64], ['Italy', 2008, 36.48], ['United Kingdom', 2006, -8.56], ['Italy', 1990, -4.58], ['United States', 2017, 2.95], ['Spain', 2013, -7.63], ['France', 2002, 14.25], ['Canada', 1971, 25.61], ['Japan', 1990, 6.75], ['Australia', 1978, 28.3], ['Germany', 1983, 0], ['France', 1987, 4.74], ['Japan', 1979, 18.87], ['Canada', 1973, 36.66], ['Japan', 2021, -0.66], ['Japan', 2020, 18.5], ['China', 1963, -6.71], ['France', 1966, 22.58], ['Germany', 2003, 30.84], ['China', 2010, 29.16], ['Canada', 1994, 12.65], ['Germany', 2003, -6.05], ['Germany', 2011, 21.88], ['Japan', 2010, 11.27], ['Japan', 2015, -4.76], ['Italy', 1974, 32.6], ['Canada', 2020, 25.84], ['France', 1997, 27.89], ['Japan', 2007, 24.64], ['United States', 1960, 20.62], ['Italy', 2019, 23.82], ['China', 1975, -7.88], ['United States', 1978, -8.16], ['Spain', 1987, 14.61], ['United States', 2018, -5.76], ['China', 2007, 7.31], ['United Kingdom', 1965, 37.82], ['Australia', 1961, -5.09], ['Italy', 1991, 3.35], ['Germany', 1963, 2.86], ['Canada', 2009, 7.26], ['Australia', 1977, -2.01], ['United Kingdom', 2008, -3.86], ['Japan', 2020, 32.28], ['Spain', 2021, 16.65], ['Canada', 1978, 26.68], ['France', 1989, 17.41], ['China', 1990, -9.63], ['France', 1973, 20.7], ['France', 2008, 23.54], ['Spain', 2020, 14.59], ['Germany', 2002, 21.29], ['China', 2022, 6.02], ['France', 2006, 6.39], ['France', 1978, 14.79], ['Italy', 1993, 9.71], ['United Kingdom', 1994, 12.24], ['Italy', 1971, 1.01], ['Australia', 2014, 22.67], ['Spain', 1980, 32.28], ['Australia', 2018, 21.06], ['Canada', 1976, 12.47], ['Australia', 1973, 29.69]]\n",
      "<class 'pandas.core.frame.DataFrame'>\n",
      "RangeIndex: 500 entries, 0 to 499\n",
      "Data columns (total 3 columns):\n",
      " #   Column       Non-Null Count  Dtype  \n",
      "---  ------       --------------  -----  \n",
      " 0   Country      500 non-null    object \n",
      " 1   Year         500 non-null    int64  \n",
      " 2   Temperature  500 non-null    float64\n",
      "dtypes: float64(1), int64(1), object(1)\n",
      "memory usage: 11.8+ KB\n"
     ]
    }
   ],
   "source": [
    "# Code ici\n",
    "\n",
    "# Convertir le DataFrame en liste\n",
    "liste = df.values.tolist()\n",
    "\n",
    "# Remplacer les valeurs manquantes par 0\n",
    "for ligne in liste:\n",
    "    for i in range(len(ligne)):\n",
    "        if ligne[i] != ligne[i]:\n",
    "            ligne[i] = 0\n",
    "print(liste)\n",
    "# Convertir la liste modifiée en dataframe\n",
    "df = pd.DataFrame(liste, columns=df.columns)\n",
    "df.info()"
   ]
  },
  {
   "cell_type": "markdown",
   "id": "e8eed401",
   "metadata": {},
   "source": [
    "<div class=\"alert alert-block alert-success\">\n",
    "Écrire le code pour afficher tous les pays.</b>\n",
    "</div>"
   ]
  },
  {
   "cell_type": "code",
   "execution_count": 23,
   "id": "d6187da9",
   "metadata": {},
   "outputs": [
    {
     "data": {
      "text/plain": [
       "0          China\n",
       "1          Italy\n",
       "2          Spain\n",
       "3         Canada\n",
       "4          Japan\n",
       "         ...    \n",
       "495    Australia\n",
       "496        Spain\n",
       "497    Australia\n",
       "498       Canada\n",
       "499    Australia\n",
       "Name: Country, Length: 500, dtype: object"
      ]
     },
     "execution_count": 23,
     "metadata": {},
     "output_type": "execute_result"
    }
   ],
   "source": [
    "# Question #1 (2 pts)\n",
    "df['Country']"
   ]
  },
  {
   "cell_type": "markdown",
   "id": "05ef284d",
   "metadata": {},
   "source": [
    "<div class=\"alert alert-block alert-warning\">\n",
    "<b>Question 2. </b>Quel est le pays à l'indice 2 ? (1 pt)</b>\n",
    "</div>"
   ]
  },
  {
   "cell_type": "markdown",
   "id": "62a9bac7",
   "metadata": {},
   "source": [
    "<div class=\"alert alert-block alert-success\">\n",
    "Changer les noms des colonnes en utilisant les deux listes présentent dans la celllule suivante et affichez la première ligne du dataframe.</b>\n",
    "</div>"
   ]
  },
  {
   "cell_type": "code",
   "execution_count": 24,
   "id": "7118bf52",
   "metadata": {},
   "outputs": [
    {
     "data": {
      "text/html": [
       "<div>\n",
       "<style scoped>\n",
       "    .dataframe tbody tr th:only-of-type {\n",
       "        vertical-align: middle;\n",
       "    }\n",
       "\n",
       "    .dataframe tbody tr th {\n",
       "        vertical-align: top;\n",
       "    }\n",
       "\n",
       "    .dataframe thead th {\n",
       "        text-align: right;\n",
       "    }\n",
       "</style>\n",
       "<table border=\"1\" class=\"dataframe\">\n",
       "  <thead>\n",
       "    <tr style=\"text-align: right;\">\n",
       "      <th></th>\n",
       "      <th>Pays</th>\n",
       "      <th>Année</th>\n",
       "      <th>Température (C)</th>\n",
       "    </tr>\n",
       "  </thead>\n",
       "  <tbody>\n",
       "    <tr>\n",
       "      <th>0</th>\n",
       "      <td>China</td>\n",
       "      <td>2004</td>\n",
       "      <td>36.31</td>\n",
       "    </tr>\n",
       "  </tbody>\n",
       "</table>\n",
       "</div>"
      ],
      "text/plain": [
       "    Pays  Année  Température (C)\n",
       "0  China   2004            36.31"
      ]
     },
     "execution_count": 24,
     "metadata": {},
     "output_type": "execute_result"
    }
   ],
   "source": [
    "# Changement des noms des colonnes et affichage de la première colonne\n",
    "actuels = ['Country', 'Year', 'Temperature']\n",
    "nouveaux = ['Pays', 'Année', 'Température (C)']\n",
    "\n",
    "for i in range(len(actuels)):\n",
    "    df = df.rename(columns={actuels[i]: nouveaux[i]})\n",
    "\n",
    "df.head(1)"
   ]
  },
  {
   "cell_type": "markdown",
   "id": "4e83e9d3",
   "metadata": {},
   "source": [
    "<div class=\"alert alert-block alert-success\">\n",
    "Écrire le code pour afficher les statistiques descriptives du dataframe. (1pt) \n",
    "</div>"
   ]
  },
  {
   "cell_type": "code",
   "execution_count": 25,
   "id": "fb898f80",
   "metadata": {},
   "outputs": [
    {
     "data": {
      "text/html": [
       "<div>\n",
       "<style scoped>\n",
       "    .dataframe tbody tr th:only-of-type {\n",
       "        vertical-align: middle;\n",
       "    }\n",
       "\n",
       "    .dataframe tbody tr th {\n",
       "        vertical-align: top;\n",
       "    }\n",
       "\n",
       "    .dataframe thead th {\n",
       "        text-align: right;\n",
       "    }\n",
       "</style>\n",
       "<table border=\"1\" class=\"dataframe\">\n",
       "  <thead>\n",
       "    <tr style=\"text-align: right;\">\n",
       "      <th></th>\n",
       "      <th>Année</th>\n",
       "      <th>Température (C)</th>\n",
       "    </tr>\n",
       "  </thead>\n",
       "  <tbody>\n",
       "    <tr>\n",
       "      <th>count</th>\n",
       "      <td>500.000000</td>\n",
       "      <td>500.000000</td>\n",
       "    </tr>\n",
       "    <tr>\n",
       "      <th>mean</th>\n",
       "      <td>1991.374000</td>\n",
       "      <td>14.562240</td>\n",
       "    </tr>\n",
       "    <tr>\n",
       "      <th>std</th>\n",
       "      <td>18.044871</td>\n",
       "      <td>14.338978</td>\n",
       "    </tr>\n",
       "    <tr>\n",
       "      <th>min</th>\n",
       "      <td>1960.000000</td>\n",
       "      <td>-10.930000</td>\n",
       "    </tr>\n",
       "    <tr>\n",
       "      <th>25%</th>\n",
       "      <td>1976.000000</td>\n",
       "      <td>2.850000</td>\n",
       "    </tr>\n",
       "    <tr>\n",
       "      <th>50%</th>\n",
       "      <td>1991.500000</td>\n",
       "      <td>14.640000</td>\n",
       "    </tr>\n",
       "    <tr>\n",
       "      <th>75%</th>\n",
       "      <td>2007.000000</td>\n",
       "      <td>26.705000</td>\n",
       "    </tr>\n",
       "    <tr>\n",
       "      <th>max</th>\n",
       "      <td>2022.000000</td>\n",
       "      <td>39.970000</td>\n",
       "    </tr>\n",
       "  </tbody>\n",
       "</table>\n",
       "</div>"
      ],
      "text/plain": [
       "             Année  Température (C)\n",
       "count   500.000000       500.000000\n",
       "mean   1991.374000        14.562240\n",
       "std      18.044871        14.338978\n",
       "min    1960.000000       -10.930000\n",
       "25%    1976.000000         2.850000\n",
       "50%    1991.500000        14.640000\n",
       "75%    2007.000000        26.705000\n",
       "max    2022.000000        39.970000"
      ]
     },
     "execution_count": 25,
     "metadata": {},
     "output_type": "execute_result"
    }
   ],
   "source": [
    "# Question 2\n",
    "df.describe()"
   ]
  },
  {
   "cell_type": "markdown",
   "id": "0fa77550",
   "metadata": {},
   "source": [
    "<div class=\"alert alert-block alert-warning\">\n",
    "<b>Question 3. </b>Quelle est la plus basse température ? (1 pt)</b>\n",
    "</div>"
   ]
  },
  {
   "cell_type": "markdown",
   "id": "257c7e8d",
   "metadata": {},
   "source": [
    "<div class=\"alert alert-block alert-warning\">\n",
    "<b>Question 4. </b>Quelle est la moyenne des températures  ? (1 pt)</b>\n",
    "</div>"
   ]
  },
  {
   "cell_type": "markdown",
   "id": "5dd59e7f",
   "metadata": {},
   "source": [
    "<div class=\"alert alert-block alert-success\">\n",
    "Écrire le code pour obtenir la température moyenne de chaque pays.<br>\n",
    "<b style='color:red'>Attention</b>, vous devez obligatoirement utiliser des dataframes, listes et boucles for.\n",
    "Voici l'algorithme du code:\n",
    "<pre>\n",
    "   1. Créer une liste des pays uniques : \n",
    "      - Sélectionner la colonne 'Pays' du dataframe.\n",
    "      - Convertir le dataframe en liste\n",
    "      - Obtenir les valeurs uniques de la liste\n",
    "   2. Créer un nouveau dataframe en sélectionnant les colonnes 'Pays' et 'Température (C)' du dataframe original.\n",
    "   3. Parcourir la liste des pays uniques et pour chaque pays dans la liste des pays uniques :\n",
    "      1. Initialiser la somme des températures et le compteur de températures à zéro.\n",
    "      2. Parcourir le dataframe converti en liste :\n",
    "         - Pour chaque ligne de la liste :\n",
    "         - Si le pays de la ligne correspond au pays courant :\n",
    "            - Ajouter la température de la ligne à la somme des températures.\n",
    "            - Incrémenter le compteur de températures.\n",
    "            - Calculer la température moyenne si le compteur est supérieur à zéro.\n",
    "            - Sinon, définir la température moyenne à zéro. :\n",
    "      3. Afficher la température moyenne calculée pour le pays courant.\n",
    "</pre>\n",
    "<b style='color:red'>Vous devez utiliser la fonction print() déjà présente dans la cellule pour afficher les résultats pour chaque pays</b>\n",
    "</div>"
   ]
  },
  {
   "cell_type": "code",
   "execution_count": 26,
   "id": "9830c82b",
   "metadata": {},
   "outputs": [
    {
     "name": "stdout",
     "output_type": "stream",
     "text": [
      "China: La température moyenne est de 15.4°C\n",
      "France: La température moyenne est de 12.45°C\n",
      "United States: La température moyenne est de 13.24°C\n",
      "Japan: La température moyenne est de 12.33°C\n",
      "Spain: La température moyenne est de 16.11°C\n",
      "Canada: La température moyenne est de 16.11°C\n",
      "Italy: La température moyenne est de 14.16°C\n",
      "United Kingdom: La température moyenne est de 15.59°C\n",
      "Australia: La température moyenne est de 13.66°C\n",
      "Germany: La température moyenne est de 16.0°C\n"
     ]
    }
   ],
   "source": [
    "# Question 5\n",
    "\n",
    "# Créer une liste des pays uniques à partir de la sélection de la colonne 'Pays' du dataframe (3pts)\n",
    "liste_pays = set(df['Pays'].values)\n",
    "\n",
    "# Dataframe contenant les pays et leurs températures (4pts)\n",
    "df_pays_temperatures = df[['Pays', 'Température (C)']].values.tolist()\n",
    "\n",
    "# Parcourir la liste des pays uniques un pays à la fois\n",
    "# Pour chacun des pays, obtenir la somme des températures et calculer la moyenne (2pts)\n",
    "for pays in liste_pays: #2pts\n",
    "    # Initialiser la somme des températures d'un pays et le nombre de températures (2pts)\n",
    "    somme = 0 \n",
    "    nb_temps = 0\n",
    "    # Pour chacun des pays du dataframe pays-températures (2pts)\n",
    "    for ligne in df_pays_temperatures:\n",
    "        # Si les pays sont les mêmes, on calcul la somme et la moyenne des températures du pays (2pts)\n",
    "        if ligne[0] == pays:       \n",
    "            somme += ligne[1]\n",
    "            nb_temps += 1\n",
    "            # Calculer la température moyenne pour le pays courant (2pts)\n",
    "            if nb_temps > 0:\n",
    "                temp_moyenne = somme / nb_temps\n",
    "            else: \n",
    "                temp_moyenne = 0\n",
    "    \n",
    "    # Afficher la température moyenne du pays (3pts)\n",
    "    print(f\"{pays}: La température moyenne est de {round(temp_moyenne,2)}°C\")"
   ]
  },
  {
   "cell_type": "markdown",
   "id": "0db37f42",
   "metadata": {},
   "source": [
    "<div class=\"alert alert-block alert-warning\">\n",
    "<b>Question 5. </b>Quelles sont les températures moyennes de <b>chaque</b> pays ? (10 pts)\n",
    "</div>"
   ]
  },
  {
   "cell_type": "markdown",
   "id": "6fec899e",
   "metadata": {},
   "source": [
    "<div class=\"alert alert-block alert-success\">\n",
    "Écrire le code permettant de trouver l'année à laquelle il a fait le plus froid au Canada. <br>\n",
    "Pour ce faire:<br> \n",
    "- Sélectionner <u>uniquement</u> les données pour le Canada. <br>\n",
    "- Enregistrez les données dans un dataframe nommé <b>df_canada</b>.<br>\n",
    "- À l'aide d'une boucle <b>FOR</b>, parcourir les données afin d'identifier la plus basse température.<br>\n",
    "- Filtrer la ligne qui contient la température la plus basse <br>\n",
    "</div>"
   ]
  },
  {
   "cell_type": "code",
   "execution_count": 27,
   "id": "90ea79bc",
   "metadata": {},
   "outputs": [
    {
     "name": "stdout",
     "output_type": "stream",
     "text": [
      "L'année où il a fait le plus froid au Canada est 397    1996\n",
      "Name: Année, dtype: int64\n"
     ]
    }
   ],
   "source": [
    "# Question 5\n",
    "df_canada = df[df['Pays'] == 'Canada'] #1pt\n",
    "min = 0\n",
    "#i = 0\n",
    "for t in df_canada['Température (C)']:  #2pts\n",
    "    #print(f\"temperature {i+1}: {t}\")\n",
    "    if t < min:\n",
    "        min = t\n",
    "        annee = df_canada[df_canada['Température (C)'] == min] #2pts\n",
    "        \n",
    "print(f\"L'année où il a fait le plus froid au Canada est {annee['Année']}\")   #1pt    \n",
    "#df_canada"
   ]
  },
  {
   "cell_type": "markdown",
   "id": "fd1d4180",
   "metadata": {},
   "source": [
    "<div class=\"alert alert-block alert-warning\">\n",
    "<b>Question 6. </b>En quelle année se trouve la température la plus basse au Canada ? (5 pts)\n",
    "</div>"
   ]
  },
  {
   "cell_type": "markdown",
   "id": "fa88bbe5",
   "metadata": {},
   "source": [
    "<div class=\"alert alert-block alert-success\">\n",
    "Écrire le code pour calculer la température moyenne au Canada de 2000 à 2010 ?<br>\n",
    "Algorithme:<br>\n",
    "1. Filtrer les données pour le Canada entre 2000 et 2010<br>\n",
    "2. Caculez la température moyenne pour cette période.<br>\n",
    "</div>"
   ]
  },
  {
   "cell_type": "code",
   "execution_count": 28,
   "id": "24aaa13c",
   "metadata": {},
   "outputs": [
    {
     "name": "stdout",
     "output_type": "stream",
     "text": [
      "La température moyenne au Canada de 2000 à 2010 est de 5.51C\n"
     ]
    }
   ],
   "source": [
    "# Question 6\n",
    "\n",
    "# Filtrer les données pour le Canada entre 2012 et 2022\n",
    "df_10_ans = df_canada[(df_canada['Année'] >= 2000) & (df_canada['Année'] <= 2010)]\n",
    "\n",
    "somme_temp = 0\n",
    "cpt = 0\n",
    "\n",
    "for temp in df_10_ans[\"Température (C)\"]:\n",
    "   somme_temp += temp\n",
    "   cpt += 1\n",
    "\n",
    "temp_moyenne = somme_temp / cpt\n",
    "\n",
    "# Afficher la température moyenne\n",
    "print(f\"La température moyenne au Canada de 2000 à 2010 est de {round(temp_moyenne,2)}C\")"
   ]
  },
  {
   "cell_type": "markdown",
   "id": "b92feac7",
   "metadata": {},
   "source": [
    "<div class=\"alert alert-block alert-warning\">\n",
    "<b>Question 7. </b>Quelle est la température moyenne au Canada de 2000 à 2010 ? (3 pts)\n",
    "</div>"
   ]
  },
  {
   "cell_type": "markdown",
   "id": "030fbe3c",
   "metadata": {},
   "source": [
    "<center><h1>À FAIRE AVEC MATPLOTLIB</h1></center>"
   ]
  },
  {
   "cell_type": "markdown",
   "id": "e4c29211",
   "metadata": {},
   "source": [
    "<div class=\"alert alert-block alert-success\">\n",
    "Ecrire le code pour créer un graphique en secteur permettant de visualiser la distribution des températures au Canada de 2000 à 2010.<br>\n",
    "Sauvegardez le graphique en format PNG <br>\n",
    "\n",
    "#### Éléments du graphique\n",
    "1. **Titre du graphique** : Proportion des températures annuelles au Canada (2000-2010)\n",
    "2. **Légende** : Années\n",
    "3. **Sauvegarde** : Le graphique est sauvegardé en format PNG sous le nom `secteur_canada_2000_2010.png`.\n",
    "\n",
    "<b style='color:red'>Déposer l'image du graphique sur Moodle</b>\n",
    "</div>"
   ]
  },
  {
   "cell_type": "code",
   "execution_count": 29,
   "id": "fdbd4ad7",
   "metadata": {},
   "outputs": [
    {
     "data": {
      "image/png": "[encoded data removed]",
      "text/plain": [
       "<Figure size 1000x700 with 1 Axes>"
      ]
     },
     "metadata": {},
     "output_type": "display_data"
    }
   ],
   "source": [
    "# Question 9 \n",
    "df_10_ans = df_canada[(df_canada['Année'] >= 2000) & (df_canada['Année'] <= 2010)]\n",
    "\n",
    "# Vérifier et corriger les valeurs négatives ou nulles\n",
    "df_10_ans = df_10_ans[df_10_ans['Température (C)'] > 0]\n",
    "\n",
    "# Créer le graphique en secteur\n",
    "plt.figure(figsize=(10, 7))\n",
    "\n",
    "secteurs, etiquettes, autotexts = plt.pie(df_10_ans['Température (C)'],  autopct='%1.1f%%', startangle=140)\n",
    "\n",
    "# Ajouter un titre\n",
    "plt.title('Proportion des températures annuelles au Canada (2000-2010)')\n",
    "\n",
    "# Ajouter une légende\n",
    "plt.legend(secteurs, df_10_ans['Année'], title=\"Années\", loc=\"center left\", bbox_to_anchor=(1, 0, 0.5, 1))\n",
    "\n",
    "# Sauvegarder le graphique en format PNG\n",
    "plt.savefig('secteur_canada_2000_2010.png')\n",
    "\n",
    "# Afficher le graphique\n",
    "plt.show()"
   ]
  },
  {
   "cell_type": "markdown",
   "id": "f2d3f191",
   "metadata": {},
   "source": [
    "<div class=\"alert alert-block alert-success\">\n",
    "Ecrire le code pour créer un histogramme permettant de visualiser la distribution des températures annuelles au Canada entre 2010 et 2020\n",
    "Sauvegardez le graphique en format PNG <br>\n",
    "\n",
    "#### Éléments du graphique\n",
    "1. **Titre du graphique** : Distribution des températures annuelles au Canada (2000-2010)\n",
    "2. **Axe des X (horizontal)** : Année de 2000 à 2010\n",
    "3. **Axe des Y (vertical)** : Température (°C)\n",
    "    - Couleur : Bleu\n",
    "4. **Sauvegarde** : Le graphique est sauvegardé en format PNG sous le nom `histogramme_canada_2000_2010.png`.\n",
    "\n",
    "<b style='color:red'>Déposer l'image du graphique (histogramme) sur Moodle</b>\n",
    "</div>"
   ]
  },
  {
   "cell_type": "code",
   "execution_count": 30,
   "id": "0dda24b4",
   "metadata": {},
   "outputs": [
    {
     "data": {
      "image/png": "[encoded data removed]",
      "text/plain": [
       "<Figure size 1000x500 with 1 Axes>"
      ]
     },
     "metadata": {},
     "output_type": "display_data"
    }
   ],
   "source": [
    "# Question 8\n",
    "# Créer l'histogramme\n",
    "plt.figure(figsize=(10, 5))\n",
    "plt.hist(df_10_ans['Température (C)'], bins=10, color='g', edgecolor='black')\n",
    "\n",
    "# Ajouter des titres et des labels\n",
    "plt.title('Distribution des températures annuelles au Canada (2000-2010)')\n",
    "plt.xlabel('Température (°C)')\n",
    "plt.ylabel('Fréquence')\n",
    "\n",
    "# Sauvegarder le graphique en format PNG\n",
    "plt.savefig('histogramme_canada_2000_2010.png')\n",
    "\n",
    "# Afficher le graphique\n",
    "plt.show()"
   ]
  },
  {
   "cell_type": "markdown",
   "id": "849c1ef4",
   "metadata": {},
   "source": [
    "<center><h1>À FAIRE AVEC NUMPY</h1></center>"
   ]
  },
  {
   "cell_type": "markdown",
   "id": "d4a82cdc",
   "metadata": {},
   "source": [
    "<div class=\"alert alert-block alert-success\">\n",
    "Écrire le code pour convertire la colonne des températures en tableau NumPy (array)\n",
    "</div>"
   ]
  },
  {
   "cell_type": "code",
   "execution_count": 31,
   "id": "492a8858",
   "metadata": {},
   "outputs": [
    {
     "data": {
      "text/plain": [
       "array([ -7.45,  -0.04,  21.98,  18.68,  15.83,  -0.14,  22.1 ,   9.55,\n",
       "        35.5 ,   4.41,  22.09,  27.79,  12.69,  -1.26,  16.65,  17.89,\n",
       "        -0.52,   0.46,  -7.9 ,  -9.76,  16.35,   6.49,   7.72,  22.74,\n",
       "        34.42,  35.18,  18.67,  39.83,  29.8 ,  28.97,  32.26,  24.71,\n",
       "        -5.2 ,  33.02,   3.78,  18.14,   1.62,  37.64,  -2.78,  18.01,\n",
       "        24.72,   7.53,  29.57, -10.36,  10.6 ,  28.82,  32.16,  16.13,\n",
       "        25.61,  36.66,  12.65,  25.84,   7.26,  26.68,  12.47])"
      ]
     },
     "execution_count": 31,
     "metadata": {},
     "output_type": "execute_result"
    }
   ],
   "source": [
    "# Convertir la colonne des températures en array NumPy\n",
    "tableau_temperatures = np.array(df_canada['Température (C)'])\n",
    "tableau_temperatures"
   ]
  },
  {
   "cell_type": "markdown",
   "id": "44359f6e",
   "metadata": {},
   "source": [
    "<div class=\"alert alert-block alert-success\">\n",
    "Écrire le code pour calculer la température moyenne au Canada <br>\n",
    "</div>"
   ]
  },
  {
   "cell_type": "code",
   "execution_count": 32,
   "id": "44e37492",
   "metadata": {},
   "outputs": [
    {
     "name": "stdout",
     "output_type": "stream",
     "text": [
      "Température moyenne: 16.11°C\n"
     ]
    }
   ],
   "source": [
    "# Question 9\n",
    "\n",
    "# Calcul de la moyenne\n",
    "moyenne = np.mean(tableau_temperatures)\n",
    "print(f\"Température moyenne: {round(moyenne,2)}°C\")"
   ]
  },
  {
   "cell_type": "markdown",
   "id": "8735d2db",
   "metadata": {},
   "source": [
    "<div class=\"alert alert-block alert-warning\">\n",
    "<b>Question 9. </b>Quelle est la température moyenne au Canada ? (1 pt)</b>\n",
    "</div>"
   ]
  },
  {
   "cell_type": "markdown",
   "id": "89776955",
   "metadata": {},
   "source": [
    "<div class=\"alert alert-block alert-success\">\n",
    "Écrire le code pour calculer la médiane des températures\n",
    "</div>"
   ]
  },
  {
   "cell_type": "code",
   "execution_count": 33,
   "id": "7d2866db",
   "metadata": {},
   "outputs": [
    {
     "name": "stdout",
     "output_type": "stream",
     "text": [
      "Température médiane: 17.89°C\n"
     ]
    }
   ],
   "source": [
    "# Code Question 10\n",
    "\n",
    "# Calcul de la médiane\n",
    "mediane = np.median(tableau_temperatures)\n",
    "print(f\"Température médiane: {round(mediane,2)}°C\")"
   ]
  },
  {
   "cell_type": "markdown",
   "id": "477109f6",
   "metadata": {},
   "source": [
    "<div class=\"alert alert-block alert-warning\">\n",
    "<b>Question 10. </b>Quelle est la médiane des températures ? (1 pt)\n",
    "</div>"
   ]
  },
  {
   "cell_type": "markdown",
   "id": "b3f8b053",
   "metadata": {},
   "source": [
    "<div class=\"alert alert-block alert-success\">\n",
    "Écrire le code pour calculer l'écart-type des températures <br>\n",
    "</div>"
   ]
  },
  {
   "cell_type": "code",
   "execution_count": 34,
   "id": "b8bb6036",
   "metadata": {},
   "outputs": [
    {
     "name": "stdout",
     "output_type": "stream",
     "text": [
      "Écart-type des températures: 13.73°C\n"
     ]
    }
   ],
   "source": [
    "# Code Question 11\n",
    "\n",
    "# Calcul de l'écart-type\n",
    "ecart_type = np.std(tableau_temperatures)\n",
    "print(f\"Écart-type des températures: {round(ecart_type,2)}°C\")"
   ]
  },
  {
   "cell_type": "markdown",
   "id": "440d1ac8",
   "metadata": {},
   "source": [
    "<div class=\"alert alert-block alert-warning\">\n",
    "<b>Question 11. </b>Quel est l'écart-type des températures ? (1 pt)\n",
    "</div>"
   ]
  },
  {
   "cell_type": "markdown",
   "id": "b85146cf",
   "metadata": {},
   "source": [
    "<div class=\"alert alert-block alert-success\">\n",
    "Écrire le code pour obtenir la température minimum <br>\n",
    "</div>"
   ]
  },
  {
   "cell_type": "code",
   "execution_count": 35,
   "id": "5dcdfcf9",
   "metadata": {},
   "outputs": [
    {
     "name": "stdout",
     "output_type": "stream",
     "text": [
      "Température minimale: -10.36°C\n"
     ]
    }
   ],
   "source": [
    "# Code Question 12\n",
    "\n",
    "# Calcul de la température minimale\n",
    "min_temp = np.min(tableau_temperatures)\n",
    "print(f\"Température minimale: {round(min_temp,2)}°C\")"
   ]
  },
  {
   "cell_type": "markdown",
   "id": "f23ba4a7",
   "metadata": {},
   "source": [
    "<div class=\"alert alert-block alert-warning\">\n",
    "<b>Question 12. </b>Quelle est la température minimum ? (1 pt)\n",
    "</div>"
   ]
  },
  {
   "cell_type": "markdown",
   "id": "ebc6ebb6",
   "metadata": {},
   "source": [
    "<div class=\"alert alert-block alert-success\">\n",
    "Écrire le code pour obtenir la température maximum <br>\n",
    "</div>"
   ]
  },
  {
   "cell_type": "code",
   "execution_count": 36,
   "id": "d72eb8a2",
   "metadata": {},
   "outputs": [
    {
     "name": "stdout",
     "output_type": "stream",
     "text": [
      "Température maximale: 39.83°C\n"
     ]
    }
   ],
   "source": [
    "# Code Question 13\n",
    "\n",
    "# Calcul de la température maximale\n",
    "max_temp = np.max(tableau_temperatures)\n",
    "print(f\"Température maximale: {round(max_temp,2)}°C\")"
   ]
  },
  {
   "cell_type": "markdown",
   "id": "86842982",
   "metadata": {},
   "source": [
    "<div class=\"alert alert-block alert-warning\">\n",
    "<b>Question 13. </b>Quelle est la température maximum ? (1 pt)</b>\n",
    "</div>"
   ]
  },
  {
   "cell_type": "markdown",
   "id": "890b7d76",
   "metadata": {},
   "source": [
    "<div class=\"alert alert-block alert-success\">\n",
    "À l'aide de fonction <b>polyfit()</b> de NumPy: <br>\n",
    "   - Calculer les coefficients de la droite de régression linéaire entre les années et les températures <br>\n",
    "</div>"
   ]
  },
  {
   "cell_type": "code",
   "execution_count": 37,
   "id": "b00a22f7",
   "metadata": {},
   "outputs": [
    {
     "name": "stdout",
     "output_type": "stream",
     "text": [
      "Pente:  0.02\n",
      "b:  -15.49\n"
     ]
    }
   ],
   "source": [
    "# Question 14\n",
    "\n",
    "# Convertir la colonne des années en array NumPy\n",
    "tableau_annees = np.array(df_canada['Année'])\n",
    "\n",
    "# Calculer les coefficients de la régression linéaire\n",
    "pente, b = np.polyfit(tableau_annees, tableau_temperatures, 1)\n",
    "print(\"Pente: \",round(pente,2))\n",
    "print(\"b: \",round(b,2))\n"
   ]
  },
  {
   "cell_type": "markdown",
   "id": "2c5ef74d",
   "metadata": {},
   "source": [
    "<div class=\"alert alert-block alert-warning\">\n",
    "<b>Question 14. </b>Quels sont les valeurs des coefficients de la droite de régression linéaire ? (1 pt)\n",
    "</div>"
   ]
  },
  {
   "cell_type": "markdown",
   "id": "852529ee",
   "metadata": {},
   "source": [
    "   <div class=\"alert alert-block alert-success\">\n",
    "   - Créer le graphique en nuage de points des températures en fonction des années et sauvegardez-le sous le nom de 'regression.png' <br>\n",
    "   - Ajouter la droite de régression linéaire entre les années et les températures <br>\n",
    "  </div>"
   ]
  },
  {
   "cell_type": "code",
   "execution_count": 38,
   "id": "e43137ac",
   "metadata": {},
   "outputs": [
    {
     "data": {
      "image/png": "[encoded data removed]",
      "text/plain": [
       "<Figure size 1000x500 with 1 Axes>"
      ]
     },
     "metadata": {},
     "output_type": "display_data"
    }
   ],
   "source": [
    "# Tracer les données et la droite de régression\n",
    "plt.figure(figsize=(10, 5))\n",
    "plt.scatter(tableau_annees, tableau_temperatures, color='green', label='Données')\n",
    "plt.plot(tableau_annees, pente * tableau_annees + b, color='red', label='Régression linéaire')\n",
    "\n",
    "# Ajouter des titres et des labels\n",
    "plt.title('Régression linéaire des températures annuelles au Canada')\n",
    "plt.xlabel('Année')\n",
    "plt.ylabel('Température (°C)')\n",
    "plt.legend()\n",
    "\n",
    "# Sauvegarder le graphique en format PNG\n",
    "plt.savefig('regression.png')\n",
    "\n",
    "# Afficher le graphique\n",
    "plt.show()"
   ]
  },
  {
   "cell_type": "markdown",
   "id": "db7ca43d",
   "metadata": {},
   "source": [
    "<div class=\"alert alert-block alert-warning\">\n",
    "<b>Question 15a. </b>Déposez le graphique sur Moodle pour la question 15a. (2 pts)\n",
    "</div>"
   ]
  },
  {
   "cell_type": "markdown",
   "id": "79b4d1d8",
   "metadata": {},
   "source": [
    "<div class=\"alert alert-block alert-warning\">\n",
    "<b>Question 15b. </b>En observant un graphique avec la droite de régression linéaire, quelles déductions pouvez vous faire au niveau de: (3 pts) <br>\n",
    "   1. La tendance générale <br>\n",
    "   2. La force de la relation <br>\n",
    "   3. Prédictions possibles\n",
    "</div>"
   ]
  },
  {
   "cell_type": "markdown",
   "id": "1dc03c25",
   "metadata": {},
   "source": [
    "Q14. Quels sont les valeurs des coefficients de la régression ?\n",
    "pente = 0.01620103539997822   \n",
    "ordonnée à l'origine = -16.130447331236613\n",
    "\n",
    "La pente de la droite de régression indique la tendance générale des données. Si la pente est positive, cela signifie qu’il y a une tendance à la hausse des températures au fil des années. Si la pente est négative, cela indique une tendance à la baisse."
   ]
  },
  {
   "cell_type": "markdown",
   "id": "89b329ce",
   "metadata": {},
   "source": [
    "Q15b. Force de la relation  \n",
    "La proximité des points de données par rapport à la droite de régression montre la force de la relation linéaire. Si les points sont proches de la droite, cela indique une forte corrélation linéaire. Si les points sont dispersés, la corrélation est plus faible.\n",
    "\n",
    "Q15b. Prédictions  \n",
    "La droite de régression peut être utilisée pour faire des prédictions sur les températures futures en extrapolant les données. Cependant, il est important de noter que les prédictions basées sur une régression linéaire simple peuvent ne pas être précises si les conditions changent ou si la relation n’est pas strictement linéaire."
   ]
  }
 ],
 "metadata": {
  "kernelspec": {
   "display_name": "Python 3",
   "language": "python",
   "name": "python3"
  },
  "language_info": {
   "codemirror_mode": {
    "name": "ipython",
    "version": 3
   },
   "file_extension": ".py",
   "mimetype": "text/x-python",
   "name": "python",
   "nbconvert_exporter": "python",
   "pygments_lexer": "ipython3",
   "version": "3.11.9"
  },
  "papermill": {
   "default_parameters": {},
   "duration": 118.360137,
   "end_time": "2023-09-11T16:01:43.003852",
   "environment_variables": {},
   "exception": null,
   "input_path": "__notebook__.ipynb",
   "output_path": "__notebook__.ipynb",
   "parameters": {},
   "start_time": "2023-09-11T15:59:44.643715",
   "version": "2.4.0"
  }
 },
 "nbformat": 4,
 "nbformat_minor": 5
}
