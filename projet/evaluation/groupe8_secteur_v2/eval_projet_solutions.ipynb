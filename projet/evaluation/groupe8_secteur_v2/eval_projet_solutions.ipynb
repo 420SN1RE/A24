{
 "cells": [
  {
   "cell_type": "markdown",
   "id": "23e3e8c5",
   "metadata": {},
   "source": [
    "<center><h1>Évaluation du projet</h1></center>\n",
    "Utilisez ce fichier pour écrire le code Python afin de répondre aux questions se trouvant sur Moodle.\n",
    "\n",
    "<div class=\"alert alert-block alert-warning\">\n",
    "Vous <b style=\"color:red\">ne devez pas modifier</b> le code déjà présent, mais vous dever le compléter. <b style=\"color:red\">Si vous modifiez le code fourni, votre code ne sera pas corrigé</b>, même si vous obtenez la bonne réponse.\n",
    "<b style=\"color:red\">À la fin, en plus des questions sur Moodle, vous devez remettre votre fichier de code (.ipynb)</b>\n",
    "</div>\n",
    "\n",
    "<div class=\"alert alert-block alert-success\">\n",
    "Les éléments à <b style=\"color:green\">coder</b> sont en <b style=\"color:green\">vert.</b>\n",
    "</div>\n",
    "\n",
    "<div class=\"alert alert-block alert-warning\">\n",
    "Les questions à répondre sur <b style=\"color:red\">Moodle</b> sont en <b style=\"color:red\">rouge.</b>\n",
    "</div>\n",
    "\n",
    "### À propos des données :\n",
    "\n",
    "* **Country**: Le nom du pays.\n",
    "* **ISO**: Le code du pays pour la norme ISO 3166-1 alpha-3.\n",
    "* **Temperature (1960)** to **Temperature (2022)**: Colonnes représentant les températures annuelles de surface (en degrés Celsius) pour chaque année de 1960 à 2022."
   ]
  },
  {
   "cell_type": "markdown",
   "id": "10ff12db",
   "metadata": {},
   "source": [
    "<center><h1>À FAIRE AVEC PANDAS</h1></center>"
   ]
  },
  {
   "cell_type": "markdown",
   "id": "1a0d337a",
   "metadata": {},
   "source": [
    "<div class=\"alert alert-block alert-success\">\n",
    "Importez le jeu de données, et affichez les 10 premières entrées avec du code Pandas.\n",
    "</div>"
   ]
  },
  {
   "cell_type": "code",
   "execution_count": 1,
   "id": "3b609156",
   "metadata": {},
   "outputs": [
    {
     "ename": "ModuleNotFoundError",
     "evalue": "No module named 'pandas'",
     "output_type": "error",
     "traceback": [
      "\u001b[1;31m---------------------------------------------------------------------------\u001b[0m",
      "\u001b[1;31mModuleNotFoundError\u001b[0m                       Traceback (most recent call last)",
      "Cell \u001b[1;32mIn[1], line 2\u001b[0m\n\u001b[0;32m      1\u001b[0m \u001b[38;5;66;03m# Importation des bibliothèques\u001b[39;00m\n\u001b[1;32m----> 2\u001b[0m \u001b[38;5;28;01mimport\u001b[39;00m \u001b[38;5;21;01mpandas\u001b[39;00m \u001b[38;5;28;01mas\u001b[39;00m \u001b[38;5;21;01mpd\u001b[39;00m\n\u001b[0;32m      3\u001b[0m \u001b[38;5;28;01mimport\u001b[39;00m \u001b[38;5;21;01mmatplotlib\u001b[39;00m\u001b[38;5;21;01m.\u001b[39;00m\u001b[38;5;21;01mpyplot\u001b[39;00m \u001b[38;5;28;01mas\u001b[39;00m \u001b[38;5;21;01mplt\u001b[39;00m\n\u001b[0;32m      4\u001b[0m \u001b[38;5;28;01mimport\u001b[39;00m \u001b[38;5;21;01mnumpy\u001b[39;00m \u001b[38;5;28;01mas\u001b[39;00m \u001b[38;5;21;01mnp\u001b[39;00m\n",
      "\u001b[1;31mModuleNotFoundError\u001b[0m: No module named 'pandas'"
     ]
    }
   ],
   "source": [
    "# Importation des bibliothèques\n",
    "import pandas as pd\n",
    "import matplotlib.pyplot as plt\n",
    "import numpy as np\n",
    "\n",
    "# Extraction des données dans un dataframe\n",
    "df = pd.read_csv(\"eval_projet.csv\")\n",
    "df.head(10)"
   ]
  },
  {
   "cell_type": "code",
   "execution_count": 44,
   "id": "2f58218e",
   "metadata": {},
   "outputs": [
    {
     "name": "stdout",
     "output_type": "stream",
     "text": [
      "[1967.0, 1983.0]\n"
     ]
    }
   ],
   "source": [
    "# Compter le nombre de fois qu'une même année est présente\n",
    "\n",
    "\n",
    "# Compter les occurrences de chaque année\n",
    "compte_annees = df['Year'].value_counts()\n",
    "\n",
    "# Filtrer les années qui apparaissent exactement 5 fois\n",
    "annee_5_occurrences = compte_annees[compte_annees == 5].index\n",
    "\n",
    "# Afficher les années\n",
    "print(annee_5_occurrences.tolist())"
   ]
  },
  {
   "cell_type": "markdown",
   "id": "0e0686b6",
   "metadata": {},
   "source": [
    "<div class=\"alert alert-block alert-success\">\n",
    "Écrire le code permettant d'obtenir le nombre de données manquantes.\n",
    "</div>"
   ]
  },
  {
   "cell_type": "code",
   "execution_count": 45,
   "id": "abe45e4e",
   "metadata": {},
   "outputs": [
    {
     "data": {
      "text/plain": [
       "Country        0\n",
       "Year           5\n",
       "Temperature    0\n",
       "dtype: int64"
      ]
     },
     "execution_count": 45,
     "metadata": {},
     "output_type": "execute_result"
    }
   ],
   "source": [
    "# Question #4 (2pts)\n",
    "df.isna().sum()"
   ]
  },
  {
   "cell_type": "markdown",
   "id": "dbd5fcbf",
   "metadata": {},
   "source": [
    "<div class=\"alert alert-block alert-warning\">\n",
    "<b>Question 1. </b>Combien de données manque t-il et dans quelle(s) colonne(s) ?</b>\n",
    "</div>"
   ]
  },
  {
   "cell_type": "markdown",
   "id": "5ba9ca78",
   "metadata": {},
   "source": [
    "<div class=\"alert alert-block alert-success\">\n",
    "Écrire le code permettant de remplacer les données manquantes par l'année 1988. Avec la fonction <b>info()</b> , vérifiez qu'il n'y plus de valeur manquantes.\n",
    "</div>"
   ]
  },
  {
   "cell_type": "code",
   "execution_count": 46,
   "id": "b2bc93dc",
   "metadata": {},
   "outputs": [
    {
     "name": "stdout",
     "output_type": "stream",
     "text": [
      "[['China', 2004.0, 36.31], ['Italy', 2009.0, 35.11], ['Spain', 2017.0, 7.87], ['Canada', 2003.0, -7.45], ['Japan', 1963.0, 19.44], ['Japan', 1970.0, 33.24], ['Spain', 1990.0, 31.94], ['Germany', 1980.0, 16.29], ['Spain', 1978.0, 20.06], ['Canada', 1975.0, -0.04], ['Canada', 1991.0, 21.98], ['Canada', 1973.0, 18.68], ['Australia', 1962.0, 30.64], ['China', 1994.0, 11.81], ['Canada', 1975.0, 15.83], ['Japan', 1996.0, 21.88], ['Germany', 1981.0, 20.98], ['Australia', 1970.0, 3.74], ['China', 2014.0, 14.82], ['Germany', 1973.0, 37.65], ['Canada', 1967.0, -0.14], ['Canada', 2011.0, 22.1], ['Germany', 2019.0, 39.9], ['United States', 1972.0, 32.79], ['Canada', 1969.0, 9.55], ['Australia', 2003.0, 34.08], ['Italy', 1960.0, 19.78], ['Italy', 1975.0, 37.7], ['Australia', 1982.0, 12.9], ['Australia', 1989.0, 29.93], ['Australia', 1991.0, 22.67], ['Japan', 2003.0, -6.49], ['United Kingdom', 1993, 15.58], ['France', 1984.0, 36.2], ['Australia', 2013.0, 18.58], ['China', 2007.0, 33.21], ['Australia', 1961.0, 11.22], ['Australia', 1980.0, -6.93], ['Australia', 2007.0, 14.49], ['Spain', 1996.0, -6.1], ['Japan', 1989.0, -7.43], ['Japan', 2003.0, 18.0], ['United States', 1972.0, 8.39], ['China', 1988.0, 19.83], ['Australia', 2013.0, 37.78], ['Italy', 1992.0, 36.4], ['France', 1994.0, 4.08], ['Italy', 1996.0, -3.74], ['United States', 2004.0, 27.09], ['China', 1965.0, 18.32], ['Australia', 1986.0, 6.39], ['United States', 2013.0, 17.6], ['United Kingdom', 1991.0, -6.08], ['Canada', 1998.0, 35.5], ['China', 1960.0, 36.68], ['Canada', 2022.0, 4.41], ['United States', 1969.0, 31.49], ['United States', 1985.0, 32.07], ['Canada', 1993, 22.09], ['Japan', 2020.0, 6.34], ['United Kingdom', 2008.0, 31.73], ['Australia', 2007.0, 13.9], ['China', 1964.0, 3.71], ['Canada', 2016.0, 27.79], ['Japan', 1969.0, 27.83], ['United States', 1991.0, 27.54], ['Canada', 1974.0, 12.69], ['Japan', 1963.0, 5.07], ['China', 2006.0, 1.22], ['United States', 2015.0, 22.77], ['Spain', 1986.0, 17.48], ['United States', 1989.0, -1.91], ['Italy', 2002.0, 16.35], ['France', 1978.0, 21.21], ['Italy', 1984.0, 4.43], ['Spain', 1969.0, 49.97], ['Germany', 2011.0, 13.02], ['United Kingdom', 2014.0, 30.77], ['Japan', 1962.0, -2.89], ['Canada', 1992.0, -1.26], ['Spain', 2012.0, 21.63], ['Italy', 1996.0, 30.25], ['France', 1961.0, -0.72], ['Germany', 2011.0, 1.3], ['China', 2002.0, 4.51], ['China', 2017.0, 19.58], ['United States', 1967.0, 13.03], ['Italy', 1961.0, 16.63], ['Italy', 1986.0, -9.74], ['France', 2019.0, 10.69], ['France', 1998.0, -8.81], ['Italy', 2019.0, 37.77], ['Canada', 2002.0, 16.65], ['Italy', 1985.0, 39.13], ['Japan', 2003.0, 26.3], ['China', 2015.0, 21.79], ['Spain', 2009.0, 0.46], ['China', 1974.0, 20.21], ['United Kingdom', 1975.0, 11.05], ['Australia', 2014.0, 14.92], ['Japan', 2007.0, -4.17], ['Italy', 1994.0, 39.75], ['France', 1986.0, 37.01], ['China', 1977.0, 11.08], ['Australia', 1975.0, 32.31], ['France', 1992.0, 23.34], ['Italy', 1969.0, 30.15], ['Spain', 2022.0, 21.66], ['United Kingdom', 1960.0, -7.65], ['United States', 1978.0, 5.54], ['Australia', 1977.0, 28.94], ['United Kingdom', 1976.0, -4.78], ['Germany', 1966.0, 11.52], ['United Kingdom', 1978.0, 39.6], ['Germany', 1961.0, 28.5], ['France', 1986.0, 38.62], ['Germany', 2021.0, 28.86], ['Canada', 1967.0, 17.89], ['United States', 1977.0, 4.91], ['Australia', 1978.0, -0.09], ['Germany', 2000.0, 3.71], ['United States', 2005.0, 15.51], ['United Kingdom', 1977.0, 33.63], ['Australia', 1996.0, -9.51], ['United States', 1991.0, 5.84], ['Canada', 2011.0, -0.52], ['Spain', 2017.0, -0.33], ['China', 1972.0, 39.55], ['Canada', 2007.0, 0.46], ['Spain', 1964.0, 25.6], ['Japan', 2021.0, -6.09], ['Australia', 1975.0, 7.65], ['United States', 2018.0, 2.82], ['United Kingdom', 2013.0, 1.78], ['China', 1975.0, -6.58], ['United States', 2000.0, 17.95], ['United Kingdom', 1974.0, 38.98], ['United Kingdom', 1980.0, 39.83], ['Canada', 2006.0, -7.9], ['Spain', 2022.0, 13.74], ['China', 1964.0, 9.92], ['China', 1988.0, 17.61], ['China', 1978.0, 11.9], ['Germany', 1971.0, 20.02], ['China', 2017.0, 25.5], ['United Kingdom', 1997.0, 14.38], ['Canada', 1999.0, -9.76], ['Germany', 2010.0, 1.96], ['Australia', 2010.0, 32.66], ['Japan', 1992.0, -4.39], ['Germany', 2000.0, 27.46], ['Australia', 1977.0, 23.02], ['Australia', 2003.0, 7.94], ['China', 1984.0, 4.22], ['United States', 2017.0, 34.02], ['Japan', 1968.0, 27.76], ['Australia', 2019.0, 4.67], ['Spain', 1977.0, 11.61], ['United States', 2009.0, 1.13], ['United States', 1970.0, 7.16], ['Italy', 1978.0, 0.73], ['Spain', 2018.0, 36.25], ['Canada', 2017.0, 16.35], ['Spain', 1979.0, 14.32], ['United States', 1992.0, 13.83], ['Spain', 2018.0, 33.73], ['Germany', 1979.0, 38.19], ['France', 2016.0, 18.13], ['France', 1995.0, 17.44], ['China', 2020.0, 36.58], ['Italy', 1973.0, -1.99], ['United States', 2009.0, -0.81], ['Japan', 1965.0, -9.51], ['Canada', 2001.0, 6.49], ['Spain', 1997.0, 25.33], ['China', 1965.0, 4.52], ['Italy', 2011.0, 32.51], ['Australia', 1973.0, -7.75], ['China', 2022.0, -0.64], ['Italy', 1998.0, -3.82], ['Germany', 2009.0, 39.15], ['Germany', 2006.0, -7.15], ['Australia', 2010.0, 3.2], ['Canada', 1989.0, 7.72], ['Australia', 1964.0, -8.58], ['Canada', 1995.0, 22.74], ['France', 2019.0, -7.23], ['Japan', 2014.0, 23.69], ['Italy', 2002.0, 6.07], ['Australia', 2022.0, 3.2], ['Germany', 1988.0, 27.33], ['Germany', 1983.0, 31.83], ['United States', 1998.0, -9.72], ['Australia', 2009.0, 2.07], ['Canada', 2017.0, 34.42], ['Spain', 2022.0, 26.32], ['Italy', 1971.0, -0.0], ['China', 1963.0, -8.23], ['China', 2002.0, -9.0], ['Germany', 1963.0, 17.47], ['Spain', 1969.0, 18.33], ['Australia', 2001.0, 18.55], ['Canada', 1990.0, 35.18], ['Spain', 1977.0, -1.03], ['Germany', 1969.0, -9.31], ['United Kingdom', 2008.0, 2.0], ['Canada', 1999.0, 18.67], ['France', 2022.0, 4.65], ['Japan', 1992.0, 14.08], ['United Kingdom', 2012.0, 35.97], ['United States', 1962.0, 6.52], ['Germany', 2014.0, 5.77], ['Spain', 1983.0, 19.82], ['Japan', 1991.0, 5.4], ['Germany', 2012.0, -8.11], ['Australia', 1976.0, 11.49], ['Australia', 1993, 21.66], ['Canada', 1999.0, 39.83], ['Italy', 1963.0, 25.5], ['United Kingdom', 2018.0, 11.94], ['Spain', 1995.0, 25.1], ['Italy', 1992.0, -8.54], ['Canada', 1996.0, 29.8], ['United States', 1968.0, -4.41], ['China', 1972.0, 26.08], ['Japan', 2006.0, 39.34], ['France', 1975.0, 32.96], ['China', 1973.0, 33.71], ['United Kingdom', 2016.0, 19.01], ['China', 1981.0, 19.13], ['United Kingdom', 1978.0, 29.91], ['United Kingdom', 1984.0, 39.4], ['Canada', 1999.0, 28.97], ['Italy', 2010.0, 8.73], ['China', 1995.0, 3.31], ['France', 1960.0, -0.03], ['Germany', 2015.0, 14.42], ['United States', 1995.0, 3.04], ['Australia', 1965.0, -9.68], ['Australia', 2007.0, 32.92], ['China', 2009.0, 18.41], ['Canada', 1987.0, 32.26], ['United States', 2019.0, 3.57], ['Canada', 1988.0, 24.71], ['Australia', 1990.0, 28.4], ['Japan', 1989.0, 11.08], ['Australia', 1960.0, -2.56], ['Spain', 1971.0, 34.86], ['Canada', 1964.0, -5.2], ['China', 1981.0, 8.37], ['Italy', 1991.0, -7.62], ['Italy', 1971.0, 38.03], ['Spain', 2011.0, -1.36], ['Australia', 1977.0, 35.45], ['Japan', 1985.0, 10.24], ['Spain', 1984.0, 21.02], ['Canada', 1998.0, 33.02], ['United Kingdom', 2018.0, 4.99], ['China', 1975.0, 30.5], ['Japan', 1969.0, 33.56], ['China', 1987.0, 20.11], ['Spain', 1976.0, 29.22], ['United Kingdom', 2004.0, 8.69], ['Spain', 1965.0, 13.31], ['Japan', 1985.0, 26.26], ['United Kingdom', 1980.0, 26.52], ['Canada', 1998.0, 3.78], ['United States', 1961.0, 28.15], ['Spain', 1986.0, 24.02], ['France', 1963.0, -3.29], ['Japan', 2022.0, 7.74], ['United Kingdom', 1990.0, 17.5], ['Canada', 2015.0, 18.14], ['Spain', 1962.0, 3.23], ['United States', 2005.0, 34.03], ['United Kingdom', 1981.0, 11.79], ['United States', 1961.0, 20.68], ['France', 1979.0, -1.82], ['Japan', 1964.0, 20.15], ['Italy', 1997.0, -4.52], ['Italy', 2001.0, -3.96], ['China', 1989.0, 29.4], ['Italy', 2004.0, 7.25], ['China', 2006.0, 36.6], ['Canada', 1965.0, 1.62], ['France', 2015.0, -6.12], ['China', 2018.0, 18.83], ['Australia', 1982.0, -2.99], ['Germany', 2005.0, 8.84], ['United Kingdom', 1992.0, 16.65], ['Japan', 1968.0, 7.36], ['Japan', 2006.0, -0.85], ['China', 2003.0, 37.76], ['France', 1994.0, 0.5], ['Spain', 2005.0, 10.82], ['France', 1980.0, 20.23], ['Germany', 2010.0, 4.61], ['Germany', 1998.0, 12.03], ['United States', 1984.0, 11.94], ['Canada', 1964.0, 37.64], ['United States', 1967.0, 39.94], ['China', 2008.0, -6.01], ['United Kingdom', 2005.0, 26.44], ['Italy', 2021.0, -7.27], ['Italy', 1994.0, 20.92], ['China', 1983.0, 11.42], ['Italy', 2005.0, 6.08], ['France', 1978.0, -3.56], ['China', 1970.0, 31.32], ['France', 1961.0, 12.82], ['Italy', 2004.0, 27.33], ['Japan', 1962.0, -8.64], ['France', 1993, 2.96], ['United States', 1978.0, -5.43], ['United States', 2020.0, 11.82], ['China', 1972.0, 17.87], ['Australia', 2021.0, 12.07], ['Italy', 1989.0, 5.11], ['China', 1987.0, -0.77], ['Australia', 2018.0, 11.8], ['Italy', 1981.0, 14.67], ['Spain', 1976.0, 16.91], ['United States', 1979.0, 37.26], ['Japan', 2009.0, 36.28], ['United States', 1994.0, -8.5], ['China', 2010.0, 1.2], ['Italy', 1992.0, -4.39], ['Australia', 1970.0, 17.66], ['United States', 1991.0, -5.3], ['Spain', 2017.0, 16.31], ['Japan', 2012.0, 9.32], ['France', 1987.0, -9.69], ['Germany', 1985.0, -0.92], ['United Kingdom', 1984.0, 20.16], ['France', 1968.0, 3.69], ['Italy', 2007.0, 13.78], ['United Kingdom', 2014.0, 32.13], ['United States', 1967.0, 15.13], ['China', 2012.0, 37.11], ['Germany', 2008.0, -9.09], ['Germany', 2015.0, 19.22], ['United States', 1985.0, 14.38], ['Italy', 1981.0, 36.93], ['United Kingdom', 1997.0, 3.34], ['United Kingdom', 1984.0, -1.07], ['Germany', 1978.0, 37.84], ['Canada', 1975.0, -2.78], ['China', 1975.0, 24.92], ['Canada', 2001.0, 18.01], ['Japan', 1990.0, 1.19], ['China', 2013.0, 1.09], ['France', 1989.0, 6.14], ['United States', 2004.0, 33.43], ['Spain', 2016.0, -4.72], ['Japan', 1972.0, 17.75], ['Spain', 1984.0, 0.83], ['China', 1975.0, -9.35], ['France', 1991.0, -1.17], ['Germany', 1962.0, 28.44], ['Germany', 2005.0, 26.78], ['Germany', 2000.0, 2.57], ['United Kingdom', 1982.0, 22.73], ['United Kingdom', 2012.0, 5.3], ['United Kingdom', 1996.0, 6.1], ['United Kingdom', 2016.0, 26.1], ['United Kingdom', 1998.0, 26.97], ['Canada', 1986.0, 24.72], ['United Kingdom', 1994.0, 2.77], ['Spain', 1991.0, 35.1], ['United Kingdom', 1970.0, -3.82], ['Italy', 2001.0, 29.9], ['France', 1970.0, 21.02], ['China', 1964.0, 38.27], ['China', 1998.0, -7.4], ['Canada', 1976.0, 7.53], ['United Kingdom', 1964.0, 19.95], ['Spain', 2006.0, 5.74], ['Italy', 1991.0, -7.98], ['China', 1970.0, 31.04], ['United Kingdom', 1962.0, 15.4], ['France', 1997.0, 8.37], ['France', 1962.0, 24.39], ['Germany', 2006.0, 10.17], ['China', 1991.0, 33.1], ['France', 1997.0, 27.84], ['China', 1970.0, -3.06], ['United States', 2016.0, -2.08], ['United States', 2014.0, -6.42], ['China', 2004.0, 5.56], ['Spain', 2001.0, -0.21], ['Italy', 1966.0, 29.77], ['Germany', 2017.0, 12.95], ['Australia', 1976.0, 17.39], ['Italy', 2017.0, 26.17], ['Australia', 1995.0, -6.66], ['Canada', 1981.0, 29.57], ['Australia', 2000.0, -9.93], ['Canada', 1996.0, -9.36], ['Australia', 1977.0, 9.22], ['France', 1984.0, 31.28], ['China', 1992.0, 37.48], ['China', 1964.0, 26.78], ['China', 1992.0, 25.17], ['United Kingdom', 2006.0, -4.54], ['France', 2009.0, 5.51], ['United States', 1972.0, 22.77], ['United States', 2019.0, 11.61], ['United States', 1980.0, 39.5], ['Italy', 2013.0, -7.05], ['United States', 1992.0, 36.86], ['Italy', 1991.0, 14.83], ['Canada', 2001.0, 10.6], ['France', 2016.0, 16.42], ['China', 2003.0, 16.45], ['Spain', 1964.0, 0.71], ['Australia', 1974.0, 24.09], ['Australia', 2000.0, 16.34], ['Italy', 1980.0, 2.67], ['Spain', 2001.0, 28.56], ['Canada', 1997.0, 28.82], ['China', 1995.0, 2.87], ['Australia', 1984.0, 28.62], ['China', 1976.0, 14.45], ['Germany', 1987.0, 13.86], ['Canada', 1986.0, 32.16], ['United States', 2005.0, 7.31], ['Germany', 1992.0, 28.69], ['Canada', 1974.0, 16.13], ['Germany', 1998.0, 36.6], ['United States', 2012.0, 8.72], ['United Kingdom', 2015.0, 17.42], ['United Kingdom', 1974.0, 0.79], ['United States', 1969.0, 10.81], ['China', 1961.0, 20.0], ['Australia', 1983.0, 25.91], ['China', 1963.0, 6.37], ['China', 1998.0, 27.07], ['United States', 1989.0, 16.64], ['Italy', 2008.0, 36.48], ['United Kingdom', 2006.0, -8.56], ['Italy', 1990.0, -4.58], ['United States', 2017.0, 2.95], ['Spain', 2013.0, -7.63], ['France', 2002.0, 14.25], ['Canada', 1971.0, 25.61], ['Japan', 1990.0, 6.75], ['Australia', 1978.0, 28.3], ['Germany', 1983.0, -0.11], ['France', 1987.0, 4.74], ['Japan', 1979.0, 18.87], ['Canada', 1973.0, 36.66], ['Japan', 2021.0, -0.66], ['Japan', 2020.0, 18.5], ['China', 1963.0, -6.71], ['France', 1966.0, 22.58], ['Germany', 2003.0, 30.84], ['China', 2010.0, 29.16], ['Canada', 1994.0, 12.65], ['Germany', 2003.0, -6.05], ['Germany', 2011.0, 21.88], ['Japan', 2010.0, 11.27], ['Japan', 2015.0, -4.76], ['Italy', 1974.0, 32.6], ['Canada', 2020.0, 25.84], ['France', 1997.0, 27.89], ['Japan', 2007.0, 24.64], ['United States', 1960.0, 20.62], ['Italy', 2019.0, 23.82], ['China', 1975.0, -7.88], ['United States', 1978.0, -8.16], ['Spain', 1987.0, 14.61], ['United States', 2018.0, -5.76], ['China', 2007.0, 7.31], ['United Kingdom', 1965.0, 37.82], ['Australia', 1961.0, -5.09], ['Italy', 1991.0, 3.35], ['Germany', 1963.0, 2.86], ['Canada', 2009.0, 7.26], ['Australia', 1977.0, -2.01], ['United Kingdom', 2008.0, -3.86], ['Japan', 2020.0, 32.28], ['Spain', 2021.0, 16.65], ['Canada', 1978.0, 26.68], ['France', 1989.0, 17.41], ['China', 1990.0, -9.63], ['France', 1973.0, 20.7], ['France', 2008.0, 23.54], ['Spain', 2020.0, 14.59], ['Germany', 2002.0, 21.29], ['China', 2022.0, 6.02], ['France', 2006.0, 6.39], ['France', 1979.0, 14.79], ['Italy', 1993, 9.71], ['United Kingdom', 1994.0, 12.24], ['Italy', 1971.0, 1.01], ['Australia', 2014.0, 22.67], ['Spain', 1980.0, 32.28], ['Australia', 2018.0, 21.06], ['Canada', 1976.0, 12.47], ['Australia', 1973.0, 29.69]]\n",
      "<class 'pandas.core.frame.DataFrame'>\n",
      "RangeIndex: 500 entries, 0 to 499\n",
      "Data columns (total 3 columns):\n",
      " #   Column       Non-Null Count  Dtype  \n",
      "---  ------       --------------  -----  \n",
      " 0   Country      500 non-null    object \n",
      " 1   Year         500 non-null    float64\n",
      " 2   Temperature  500 non-null    float64\n",
      "dtypes: float64(2), object(1)\n",
      "memory usage: 11.8+ KB\n"
     ]
    }
   ],
   "source": [
    "# Code ici\n",
    "\n",
    "# Convertir le DataFrame en liste\n",
    "liste = df.values.tolist()\n",
    "\n",
    "# Remplacer les valeurs manquantes par 0\n",
    "for ligne in liste:\n",
    "    for i in range(len(ligne)):\n",
    "        if ligne[i] != ligne[i]:\n",
    "            ligne[i] = 1993\n",
    "print(liste)\n",
    "# Convertir la liste modifiée en dataframe\n",
    "df = pd.DataFrame(liste, columns=df.columns)\n",
    "df.info()"
   ]
  },
  {
   "cell_type": "markdown",
   "id": "e8eed401",
   "metadata": {},
   "source": [
    "<div class=\"alert alert-block alert-success\">\n",
    "Écrire le code pour afficher tous les pays.</b>\n",
    "</div>"
   ]
  },
  {
   "cell_type": "code",
   "execution_count": 47,
   "id": "d6187da9",
   "metadata": {},
   "outputs": [
    {
     "data": {
      "text/plain": [
       "0          China\n",
       "1          Italy\n",
       "2          Spain\n",
       "3         Canada\n",
       "4          Japan\n",
       "         ...    \n",
       "495    Australia\n",
       "496        Spain\n",
       "497    Australia\n",
       "498       Canada\n",
       "499    Australia\n",
       "Name: Country, Length: 500, dtype: object"
      ]
     },
     "execution_count": 47,
     "metadata": {},
     "output_type": "execute_result"
    }
   ],
   "source": [
    "# Question #1\n",
    "df['Country']"
   ]
  },
  {
   "cell_type": "markdown",
   "id": "05ef284d",
   "metadata": {},
   "source": [
    "<div class=\"alert alert-block alert-warning\">\n",
    "<b>Question 2. </b>Quel est le pays à l'indice 4 ?</b>\n",
    "</div>"
   ]
  },
  {
   "cell_type": "markdown",
   "id": "62a9bac7",
   "metadata": {},
   "source": [
    "<div class=\"alert alert-block alert-success\">\n",
    "Changer les noms des colonnes en utilisant les deux listes présentent dans la celllule suivante et affichez la première ligne du dataframe.</b>\n",
    "</div>"
   ]
  },
  {
   "cell_type": "code",
   "execution_count": 48,
   "id": "7118bf52",
   "metadata": {},
   "outputs": [
    {
     "data": {
      "text/html": [
       "<div>\n",
       "<style scoped>\n",
       "    .dataframe tbody tr th:only-of-type {\n",
       "        vertical-align: middle;\n",
       "    }\n",
       "\n",
       "    .dataframe tbody tr th {\n",
       "        vertical-align: top;\n",
       "    }\n",
       "\n",
       "    .dataframe thead th {\n",
       "        text-align: right;\n",
       "    }\n",
       "</style>\n",
       "<table border=\"1\" class=\"dataframe\">\n",
       "  <thead>\n",
       "    <tr style=\"text-align: right;\">\n",
       "      <th></th>\n",
       "      <th>Pays</th>\n",
       "      <th>Année</th>\n",
       "      <th>Température (C)</th>\n",
       "    </tr>\n",
       "  </thead>\n",
       "  <tbody>\n",
       "    <tr>\n",
       "      <th>0</th>\n",
       "      <td>China</td>\n",
       "      <td>2004.0</td>\n",
       "      <td>36.31</td>\n",
       "    </tr>\n",
       "  </tbody>\n",
       "</table>\n",
       "</div>"
      ],
      "text/plain": [
       "    Pays   Année  Température (C)\n",
       "0  China  2004.0            36.31"
      ]
     },
     "execution_count": 48,
     "metadata": {},
     "output_type": "execute_result"
    }
   ],
   "source": [
    "# Changement des noms des colonnes et affichage de la première colonne\n",
    "actuels = ['Country', 'Year', 'Temperature']\n",
    "nouveaux = ['Pays', 'Année', 'Température (C)']\n",
    "\n",
    "for i in range(len(actuels)):\n",
    "    df = df.rename(columns={actuels[i]: nouveaux[i]})\n",
    "\n",
    "df.head(1)"
   ]
  },
  {
   "cell_type": "markdown",
   "id": "4e83e9d3",
   "metadata": {},
   "source": [
    "<div class=\"alert alert-block alert-success\">\n",
    "Écrire le code pour afficher les statistiques descriptives du dataframe.\n",
    "</div>"
   ]
  },
  {
   "cell_type": "code",
   "execution_count": 49,
   "id": "fb898f80",
   "metadata": {},
   "outputs": [
    {
     "data": {
      "text/html": [
       "<div>\n",
       "<style scoped>\n",
       "    .dataframe tbody tr th:only-of-type {\n",
       "        vertical-align: middle;\n",
       "    }\n",
       "\n",
       "    .dataframe tbody tr th {\n",
       "        vertical-align: top;\n",
       "    }\n",
       "\n",
       "    .dataframe thead th {\n",
       "        text-align: right;\n",
       "    }\n",
       "</style>\n",
       "<table border=\"1\" class=\"dataframe\">\n",
       "  <thead>\n",
       "    <tr style=\"text-align: right;\">\n",
       "      <th></th>\n",
       "      <th>Année</th>\n",
       "      <th>Température (C)</th>\n",
       "    </tr>\n",
       "  </thead>\n",
       "  <tbody>\n",
       "    <tr>\n",
       "      <th>count</th>\n",
       "      <td>500.000000</td>\n",
       "      <td>500.000000</td>\n",
       "    </tr>\n",
       "    <tr>\n",
       "      <th>mean</th>\n",
       "      <td>1991.398000</td>\n",
       "      <td>14.582280</td>\n",
       "    </tr>\n",
       "    <tr>\n",
       "      <th>std</th>\n",
       "      <td>18.030135</td>\n",
       "      <td>14.378614</td>\n",
       "    </tr>\n",
       "    <tr>\n",
       "      <th>min</th>\n",
       "      <td>1960.000000</td>\n",
       "      <td>-9.930000</td>\n",
       "    </tr>\n",
       "    <tr>\n",
       "      <th>25%</th>\n",
       "      <td>1976.000000</td>\n",
       "      <td>2.850000</td>\n",
       "    </tr>\n",
       "    <tr>\n",
       "      <th>50%</th>\n",
       "      <td>1991.500000</td>\n",
       "      <td>14.640000</td>\n",
       "    </tr>\n",
       "    <tr>\n",
       "      <th>75%</th>\n",
       "      <td>2007.000000</td>\n",
       "      <td>26.705000</td>\n",
       "    </tr>\n",
       "    <tr>\n",
       "      <th>max</th>\n",
       "      <td>2022.000000</td>\n",
       "      <td>49.970000</td>\n",
       "    </tr>\n",
       "  </tbody>\n",
       "</table>\n",
       "</div>"
      ],
      "text/plain": [
       "             Année  Température (C)\n",
       "count   500.000000       500.000000\n",
       "mean   1991.398000        14.582280\n",
       "std      18.030135        14.378614\n",
       "min    1960.000000        -9.930000\n",
       "25%    1976.000000         2.850000\n",
       "50%    1991.500000        14.640000\n",
       "75%    2007.000000        26.705000\n",
       "max    2022.000000        49.970000"
      ]
     },
     "execution_count": 49,
     "metadata": {},
     "output_type": "execute_result"
    }
   ],
   "source": [
    "# Question 2\n",
    "df.describe()"
   ]
  },
  {
   "cell_type": "markdown",
   "id": "0fa77550",
   "metadata": {},
   "source": [
    "<div class=\"alert alert-block alert-warning\">\n",
    "<b>Question 3. </b>Quelle est la température la plus élevée ?</b>\n",
    "</div>"
   ]
  },
  {
   "cell_type": "markdown",
   "id": "257c7e8d",
   "metadata": {},
   "source": [
    "<div class=\"alert alert-block alert-warning\">\n",
    "<b>Question 4. </b>Quelle est l'écart type des températures ?</b>\n",
    "</div>"
   ]
  },
  {
   "cell_type": "markdown",
   "id": "5dd59e7f",
   "metadata": {},
   "source": [
    "<div class=\"alert alert-block alert-success\">\n",
    "Écrire le code pour obtenir la température moyenne de chaque pays.<br>\n",
    "<b style='color:red'>Attention</b>, vous devez obligatoirement utiliser des dataframes, listes et boucles for.\n",
    "Voici l'algorithme du code:\n",
    "<pre>\n",
    "   1. Créer une liste des pays uniques : \n",
    "      - Sélectionner la colonne 'Pays' du dataframe.\n",
    "      - Convertir le dataframe en liste\n",
    "      - Obtenir les valeurs uniques de la liste\n",
    "   2. Créer un nouveau dataframe en sélectionnant les colonnes 'Pays' et 'Température (C)' du dataframe original.\n",
    "   3. Parcourir la liste des pays uniques et pour chaque pays dans la liste des pays uniques :\n",
    "      1. Initialiser la somme des températures et le compteur de températures à zéro.\n",
    "      2. Parcourir le dataframe converti en liste :\n",
    "         - Pour chaque ligne de la liste :\n",
    "         - Si le pays de la ligne correspond au pays courant :\n",
    "            - Ajouter la température de la ligne à la somme des températures.\n",
    "            - Incrémenter le compteur de températures.\n",
    "            - Calculer la température moyenne si le compteur est supérieur à zéro.\n",
    "            - Sinon, définir la température moyenne à zéro. :\n",
    "      3. Afficher la température moyenne calculée pour le pays courant.\n",
    "</pre>\n",
    "<b style='color:red'>Vous devez utiliser la fonction print() déjà présente dans la cellule pour afficher les résultats pour chaque pays</b>\n",
    "</div>"
   ]
  },
  {
   "cell_type": "code",
   "execution_count": 50,
   "id": "9830c82b",
   "metadata": {},
   "outputs": [
    {
     "name": "stdout",
     "output_type": "stream",
     "text": [
      "Australia: La température moyenne est de 13.67°C\n",
      "United Kingdom: La température moyenne est de 15.59°C\n",
      "Japan: La température moyenne est de 12.33°C\n",
      "Germany: La température moyenne est de 16.0°C\n",
      "Italy: La température moyenne est de 14.16°C\n",
      "China: La température moyenne est de 15.39°C\n",
      "United States: La température moyenne est de 13.22°C\n",
      "Spain: La température moyenne est de 16.33°C\n",
      "Canada: La température moyenne est de 16.13°C\n",
      "France: La température moyenne est de 12.45°C\n"
     ]
    }
   ],
   "source": [
    "# Question 5\n",
    "\n",
    "# Créer une liste des pays uniques à partir de la sélection de la colonne 'Pays' du dataframe (3pts)\n",
    "liste_pays = set(df['Pays'].values)\n",
    "\n",
    "# Dataframe contenant les pays et leurs températures (4pts)\n",
    "df_pays_temperatures = df[['Pays', 'Température (C)']].values.tolist()\n",
    "\n",
    "# Parcourir la liste des pays uniques un pays à la fois\n",
    "# Pour chacun des pays, obtenir la somme des températures et calculer la moyenne (2pts)\n",
    "for pays in liste_pays: #2pts\n",
    "    # Initialiser la somme des températures d'un pays et le nombre de températures (2pts)\n",
    "    somme = 0 \n",
    "    nb_temps = 0\n",
    "    # Pour chacun des pays du dataframe pays-températures (2pts)\n",
    "    for ligne in df_pays_temperatures:\n",
    "        # Si les pays sont les mêmes, on calcul la somme et la moyenne des températures du pays (2pts)\n",
    "        if ligne[0] == pays:       \n",
    "            somme += ligne[1]\n",
    "            nb_temps += 1\n",
    "            # Calculer la température moyenne pour le pays courant (2pts)\n",
    "            if nb_temps > 0:\n",
    "                temp_moyenne = somme / nb_temps\n",
    "            else: \n",
    "                temp_moyenne = 0\n",
    "    \n",
    "    # Afficher la température moyenne du pays (3pts)\n",
    "    print(f\"{pays}: La température moyenne est de {round(temp_moyenne,2)}°C\")"
   ]
  },
  {
   "cell_type": "markdown",
   "id": "0db37f42",
   "metadata": {},
   "source": [
    "<div class=\"alert alert-block alert-warning\">\n",
    "<b>Question 5. </b>Quelles sont les températures moyennes de <b>chaque</b> pays ? (10 pts)\n",
    "</div>"
   ]
  },
  {
   "cell_type": "markdown",
   "id": "6fec899e",
   "metadata": {},
   "source": [
    "<div class=\"alert alert-block alert-success\">\n",
    "Écrire le code permettant de trouver l'année à laquelle il a fait le plus chaud en France. <br>\n",
    "Pour ce faire:<br> \n",
    "- Sélectionner <u>uniquement</u> les données pour la France. <br>\n",
    "- Enregistrez les données dans un dataframe nommé <b>df_france</b>.<br>\n",
    "- À l'aide d'une boucle <b>FOR</b>, parcourir les données afin d'identifier la plus basse température.<br>\n",
    "- Filtrer la ligne qui contient la température la plus élevée. <br>\n",
    "</div>"
   ]
  },
  {
   "cell_type": "code",
   "execution_count": 51,
   "id": "90ea79bc",
   "metadata": {},
   "outputs": [
    {
     "name": "stdout",
     "output_type": "stream",
     "text": [
      "L'année où il a fait le plus chaud en France est 115    1986.0\n",
      "Name: Année, dtype: float64\n"
     ]
    }
   ],
   "source": [
    "# Question 5\n",
    "df_france = df[df['Pays'] == 'France'] #1pt\n",
    "\n",
    "max = 0\n",
    "for t in df_france['Température (C)'].values:\n",
    "    if t > max:  #2pts\n",
    "        max = t\n",
    "        annee = df_france[df_france['Température (C)'] == max]\n",
    "        \n",
    "print(f\"L'année où il a fait le plus chaud en France est {annee['Année']}\")     "
   ]
  },
  {
   "cell_type": "markdown",
   "id": "fd1d4180",
   "metadata": {},
   "source": [
    "<div class=\"alert alert-block alert-warning\">\n",
    "<b>Question 6. </b>En quelle année se trouve la température la plus élevée en France ? (5 pts)\n",
    "</div>"
   ]
  },
  {
   "cell_type": "markdown",
   "id": "fa88bbe5",
   "metadata": {},
   "source": [
    "<div class=\"alert alert-block alert-success\">\n",
    "Écrire le code pour calculer la température moyenne en France de 2000 à 2010 ?<br>\n",
    "Algorithme:<br>\n",
    "1. Filtrer les données pour la France entre 2000 et 2010<br>\n",
    "2. Caculez la température moyenne pour cette période.<br>\n",
    "</div>"
   ]
  },
  {
   "cell_type": "code",
   "execution_count": 52,
   "id": "24aaa13c",
   "metadata": {},
   "outputs": [
    {
     "name": "stdout",
     "output_type": "stream",
     "text": [
      "La température moyenne en France de 2000 à 2010 est de 12.42C\n"
     ]
    }
   ],
   "source": [
    "# Question 6\n",
    "\n",
    "# Filtrer les données pour la France entre 2000 et 2010\n",
    "df_10_ans = df_france[(df_france['Année'] >= 2000) & (df_france['Année'] <= 2010)]\n",
    "\n",
    "somme_temp = 0\n",
    "cpt = 0\n",
    "\n",
    "for temp in df_10_ans[\"Température (C)\"]:\n",
    "   somme_temp += temp\n",
    "   cpt += 1\n",
    "\n",
    "temp_moyenne = somme_temp / cpt\n",
    "\n",
    "# Afficher la température moyenne\n",
    "print(f\"La température moyenne en France de 2000 à 2010 est de {round(temp_moyenne,2)}C\")"
   ]
  },
  {
   "cell_type": "markdown",
   "id": "b92feac7",
   "metadata": {},
   "source": [
    "<div class=\"alert alert-block alert-warning\">\n",
    "<b>Question 7. </b>Quelle est la température moyenne en France de 2000 à 2010 ? (3 pts)\n",
    "</div>"
   ]
  },
  {
   "cell_type": "markdown",
   "id": "030fbe3c",
   "metadata": {},
   "source": [
    "<center><h1>À FAIRE AVEC MATPLOTLIB</h1></center>"
   ]
  },
  {
   "cell_type": "markdown",
   "id": "e4c29211",
   "metadata": {},
   "source": [
    "<div class=\"alert alert-block alert-success\">\n",
    "Ecrire le code pour créer un graphique en secteur permettant de visualiser la distribution des températures en France de 2000 à 2010.<br>\n",
    "Sauvegardez le graphique en format PNG <br>\n",
    "\n",
    "#### Éléments du graphique\n",
    "1. **Titre du graphique** : Proportion des températures annuelles en France (2000-2010)\n",
    "2. **Légende** : Années\n",
    "3. **Sauvegarde** : Le graphique est sauvegardé en format PNG sous le nom `secteur_france_2000_2010.png`.\n",
    "\n",
    "<b style='color:red'>Déposer l'image du graphique sur Moodle</b>\n",
    "</div>"
   ]
  },
  {
   "cell_type": "code",
   "execution_count": 53,
   "id": "fdbd4ad7",
   "metadata": {},
   "outputs": [
    {
     "data": {
      "image/png": "[encoded data removed]",
      "text/plain": [
       "<Figure size 1000x700 with 1 Axes>"
      ]
     },
     "metadata": {},
     "output_type": "display_data"
    }
   ],
   "source": [
    "# Question 9 \n",
    "\n",
    "#df_10_ans = df_canada[(df_canada['Année'] >= 2012) & (df_canada['Année'] <= 2022)]\n",
    "\n",
    "# Vérifier et corriger les valeurs négatives ou nulles\n",
    "df_10_ans = df_10_ans[df_10_ans['Température (C)'] > 0]\n",
    "\n",
    "# Créer le graphique en secteur\n",
    "plt.figure(figsize=(10, 7))\n",
    "\n",
    "secteurs, etiquettes, autotexts = plt.pie(df_10_ans['Température (C)'],  autopct='%1.1f%%', startangle=140)\n",
    "\n",
    "# Ajouter un titre\n",
    "plt.title('Proportion des températures annuelles au Canada (2000-2010)')\n",
    "\n",
    "# Ajouter une légende\n",
    "plt.legend(secteurs, df_10_ans['Année'], title=\"Années\", loc=\"center left\", bbox_to_anchor=(1, 0, 0.5, 1))\n",
    "\n",
    "# Sauvegarder le graphique en format PNG\n",
    "plt.savefig('secteur_france_2000_2010.png')\n",
    "\n",
    "# Afficher le graphique\n",
    "plt.show()\n",
    "\n",
    "#df_10_ans"
   ]
  },
  {
   "cell_type": "markdown",
   "id": "f2d3f191",
   "metadata": {},
   "source": [
    "<div class=\"alert alert-block alert-success\">\n",
    "Ecrire le code pour créer un histogramme permettant de visualiser la distribution des températures annuelles au Canada entre 2010 et 2020\n",
    "Sauvegardez le graphique en format PNG <br>\n",
    "\n",
    "#### Éléments du graphique\n",
    "1. **Titre du graphique** : Distribution des températures annuelles au Canada (2012-2022)\n",
    "2. **Axe des X (horizontal)** : Année de 2012 à 2022\n",
    "3. **Axe des Y (vertical)** : Température (°C)\n",
    "    - Couleur : Bleu\n",
    "4. **Sauvegarde** : Le graphique est sauvegardé en format PNG sous le nom `histogramme_canada_2012_2022.png`.\n",
    "\n",
    "<b style='color:red'>Déposer l'image du graphique (histogramme) sur Moodle à la Question 8</b>\n",
    "</div>"
   ]
  },
  {
   "cell_type": "code",
   "execution_count": 54,
   "id": "0dda24b4",
   "metadata": {},
   "outputs": [
    {
     "data": {
      "image/png": "[encoded data removed]",
      "text/plain": [
       "<Figure size 1000x500 with 1 Axes>"
      ]
     },
     "metadata": {},
     "output_type": "display_data"
    }
   ],
   "source": [
    "# Question 8\n",
    "\n",
    "# Créer l'histogramme\n",
    "plt.figure(figsize=(10, 5))\n",
    "plt.hist(df_10_ans['Température (C)'], bins=10, color='b', edgecolor='black')\n",
    "\n",
    "# Ajouter des titres et des labels\n",
    "plt.title('Distribution des températures annuelles au Canada (2012-2022)')\n",
    "plt.xlabel('Température (°C)')\n",
    "plt.ylabel('Fréquence')\n",
    "\n",
    "# Sauvegarder le graphique en format PNG\n",
    "plt.savefig('histogramme_canada_2012_2022.png')\n",
    "\n",
    "# Afficher le graphique\n",
    "plt.show()"
   ]
  },
  {
   "cell_type": "markdown",
   "id": "849c1ef4",
   "metadata": {},
   "source": [
    "<center><h1>À FAIRE AVEC NUMPY</h1></center>"
   ]
  },
  {
   "cell_type": "markdown",
   "id": "d4a82cdc",
   "metadata": {},
   "source": [
    "<div class=\"alert alert-block alert-success\">\n",
    "Écrire le code pour convertire la colonne des températures en tableau NumPy (array)\n",
    "</div>"
   ]
  },
  {
   "cell_type": "code",
   "execution_count": 55,
   "id": "492a8858",
   "metadata": {},
   "outputs": [
    {
     "data": {
      "text/plain": [
       "array([ 3.620e+01,  4.080e+00,  2.121e+01, -7.200e-01,  1.069e+01,\n",
       "       -8.810e+00,  3.701e+01,  2.334e+01,  3.862e+01,  1.813e+01,\n",
       "        1.744e+01, -7.230e+00,  4.650e+00,  3.296e+01, -3.000e-02,\n",
       "       -3.290e+00, -1.820e+00, -6.120e+00,  5.000e-01,  2.023e+01,\n",
       "       -3.560e+00,  1.282e+01,  2.960e+00, -9.690e+00,  3.690e+00,\n",
       "        6.140e+00, -1.170e+00,  2.102e+01,  8.370e+00,  2.439e+01,\n",
       "        2.784e+01,  3.128e+01,  5.510e+00,  1.642e+01,  1.425e+01,\n",
       "        4.740e+00,  2.258e+01,  2.789e+01,  1.741e+01,  2.070e+01,\n",
       "        2.354e+01,  6.390e+00,  1.479e+01])"
      ]
     },
     "execution_count": 55,
     "metadata": {},
     "output_type": "execute_result"
    }
   ],
   "source": [
    "# Convertir la colonne des températures en array NumPy\n",
    "tableau_temperatures = np.array(df_france['Température (C)'])\n",
    "tableau_temperatures"
   ]
  },
  {
   "cell_type": "markdown",
   "id": "44359f6e",
   "metadata": {},
   "source": [
    "<div class=\"alert alert-block alert-success\">\n",
    "Écrire le code pour calculer la température moyenne en France. <br>\n",
    "</div>"
   ]
  },
  {
   "cell_type": "code",
   "execution_count": 56,
   "id": "44e37492",
   "metadata": {},
   "outputs": [
    {
     "name": "stdout",
     "output_type": "stream",
     "text": [
      "Température moyenne: 12.45°C\n"
     ]
    }
   ],
   "source": [
    "# Question 9\n",
    "\n",
    "# Calcul de la moyenne\n",
    "moyenne = np.mean(tableau_temperatures)\n",
    "print(f\"Température moyenne: {round(moyenne,2)}°C\")"
   ]
  },
  {
   "cell_type": "markdown",
   "id": "8735d2db",
   "metadata": {},
   "source": [
    "<div class=\"alert alert-block alert-warning\">\n",
    "<b>Question 9. </b>Quelle est la température moyenne en France ? (1 pt)</b>\n",
    "</div>"
   ]
  },
  {
   "cell_type": "markdown",
   "id": "89776955",
   "metadata": {},
   "source": [
    "<div class=\"alert alert-block alert-success\">\n",
    "Écrire le code pour calculer la médiane des températures\n",
    "</div>"
   ]
  },
  {
   "cell_type": "code",
   "execution_count": 57,
   "id": "7d2866db",
   "metadata": {},
   "outputs": [
    {
     "name": "stdout",
     "output_type": "stream",
     "text": [
      "Température médiane: 12.82°C\n"
     ]
    }
   ],
   "source": [
    "# Code Question 10\n",
    "\n",
    "# Calcul de la médiane\n",
    "mediane = np.median(tableau_temperatures)\n",
    "print(f\"Température médiane: {round(mediane,2)}°C\")"
   ]
  },
  {
   "cell_type": "markdown",
   "id": "477109f6",
   "metadata": {},
   "source": [
    "<div class=\"alert alert-block alert-warning\">\n",
    "<b>Question 10. </b>Quelle est la médiane des températures ? (1 pt)\n",
    "</div>"
   ]
  },
  {
   "cell_type": "markdown",
   "id": "b3f8b053",
   "metadata": {},
   "source": [
    "<div class=\"alert alert-block alert-success\">\n",
    "Écrire le code pour calculer l'écart-type des températures <br>\n",
    "</div>"
   ]
  },
  {
   "cell_type": "code",
   "execution_count": 58,
   "id": "b8bb6036",
   "metadata": {},
   "outputs": [
    {
     "name": "stdout",
     "output_type": "stream",
     "text": [
      "Écart-type des températures: 13.22°C\n"
     ]
    }
   ],
   "source": [
    "# Code Question 11\n",
    "\n",
    "# Calcul de l'écart-type\n",
    "ecart_type = np.std(tableau_temperatures)\n",
    "print(f\"Écart-type des températures: {round(ecart_type,2)}°C\")"
   ]
  },
  {
   "cell_type": "markdown",
   "id": "440d1ac8",
   "metadata": {},
   "source": [
    "<div class=\"alert alert-block alert-warning\">\n",
    "<b>Question 11. </b>Quel est l'écart-type des températures ? (1 pt)\n",
    "</div>"
   ]
  },
  {
   "cell_type": "markdown",
   "id": "b85146cf",
   "metadata": {},
   "source": [
    "<div class=\"alert alert-block alert-success\">\n",
    "Écrire le code pour obtenir la température minimum <br>\n",
    "</div>"
   ]
  },
  {
   "cell_type": "code",
   "execution_count": 59,
   "id": "5dcdfcf9",
   "metadata": {},
   "outputs": [
    {
     "name": "stdout",
     "output_type": "stream",
     "text": [
      "Température minimale: -9.69°C\n"
     ]
    }
   ],
   "source": [
    "# Code Question 12\n",
    "\n",
    "# Calcul de la température minimale\n",
    "min_temp = np.min(tableau_temperatures)\n",
    "print(f\"Température minimale: {round(min_temp,2)}°C\")"
   ]
  },
  {
   "cell_type": "markdown",
   "id": "f23ba4a7",
   "metadata": {},
   "source": [
    "<div class=\"alert alert-block alert-warning\">\n",
    "<b>Question 12. </b>Quelle est la température minimum ? (1 pt)\n",
    "</div>"
   ]
  },
  {
   "cell_type": "markdown",
   "id": "ebc6ebb6",
   "metadata": {},
   "source": [
    "<div class=\"alert alert-block alert-success\">\n",
    "Écrire le code pour obtenir la température maximum <br>\n",
    "</div>"
   ]
  },
  {
   "cell_type": "code",
   "execution_count": 60,
   "id": "d72eb8a2",
   "metadata": {},
   "outputs": [
    {
     "name": "stdout",
     "output_type": "stream",
     "text": [
      "Température maximale: 38.62°C\n"
     ]
    }
   ],
   "source": [
    "# Code Question 13\n",
    "\n",
    "# Calcul de la température maximale\n",
    "max_temp = np.max(tableau_temperatures)\n",
    "print(f\"Température maximale: {round(max_temp,2)}°C\")"
   ]
  },
  {
   "cell_type": "markdown",
   "id": "86842982",
   "metadata": {},
   "source": [
    "<div class=\"alert alert-block alert-warning\">\n",
    "<b>Question 13. </b>Quelle est la température maximum ? (1 pt)</b>\n",
    "</div>"
   ]
  },
  {
   "cell_type": "markdown",
   "id": "890b7d76",
   "metadata": {},
   "source": [
    "<div class=\"alert alert-block alert-success\">\n",
    "À l'aide de fonction <b>polyfit()</b> de NumPy: <br>\n",
    "   - Calculer les coefficients de la droite de régression linéaire entre les années et les températures <br>\n",
    "</div>"
   ]
  },
  {
   "cell_type": "code",
   "execution_count": 61,
   "id": "b00a22f7",
   "metadata": {},
   "outputs": [
    {
     "name": "stdout",
     "output_type": "stream",
     "text": [
      "Pente:  -0.09\n",
      "b:  200.44\n"
     ]
    }
   ],
   "source": [
    "# Question 14\n",
    "\n",
    "# Convertir la colonne des années en array NumPy\n",
    "tableau_annees = np.array(df_france['Année'])\n",
    "\n",
    "# Calculer les coefficients de la régression linéaire\n",
    "pente, b = np.polyfit(tableau_annees, tableau_temperatures, 1)\n",
    "print(\"Pente: \",round(pente,2))\n",
    "print(\"b: \",round(b,2))\n"
   ]
  },
  {
   "cell_type": "markdown",
   "id": "2c5ef74d",
   "metadata": {},
   "source": [
    "<div class=\"alert alert-block alert-warning\">\n",
    "<b>Question 14a. </b>Quels sont les valeurs des coefficients de la droite de régression linéaire ? (1 pt)\n",
    "</div>"
   ]
  },
  {
   "cell_type": "markdown",
   "id": "0650a345",
   "metadata": {},
   "source": [
    "<div class=\"alert alert-block alert-success\">\n",
    "À l'aide de fonction <b>coefcorr()</b> de NumPy: <br>\n",
    "   - Calculer le coefficient de corrélation entre les années et les températures <br>\n",
    "</div>"
   ]
  },
  {
   "cell_type": "code",
   "execution_count": 62,
   "id": "f2421422",
   "metadata": {},
   "outputs": [
    {
     "name": "stdout",
     "output_type": "stream",
     "text": [
      "-0.12347530670240259\n"
     ]
    }
   ],
   "source": [
    "x = tableau_annees\n",
    "y = tableau_temperatures\n",
    "coeff = np.corrcoef(x, y)[0, 1] \n",
    "print(coeff)"
   ]
  },
  {
   "cell_type": "markdown",
   "id": "58f55e73",
   "metadata": {},
   "source": [
    "<div class=\"alert alert-block alert-warning\">\n",
    "<b>Question 14b. </b>Quel est le coefficient de corrélation des données ? (1 pt)\n",
    "</div>"
   ]
  },
  {
   "cell_type": "markdown",
   "id": "852529ee",
   "metadata": {},
   "source": [
    "   <div class=\"alert alert-block alert-success\">\n",
    "   - Créer le graphique en nuage de points des températures en fonction des années et sauvegardez-le sous le nom de 'regression.png' <br>\n",
    "   - Ajouter la droite de régression linéaire entre les années et les températures <br>\n",
    "  </div>"
   ]
  },
  {
   "cell_type": "code",
   "execution_count": 63,
   "id": "e43137ac",
   "metadata": {},
   "outputs": [
    {
     "data": {
      "image/png": "[encoded data removed]",
      "text/plain": [
       "<Figure size 1000x500 with 1 Axes>"
      ]
     },
     "metadata": {},
     "output_type": "display_data"
    }
   ],
   "source": [
    "# Tracer les données et la droite de régression\n",
    "plt.figure(figsize=(10, 5))\n",
    "plt.scatter(tableau_annees, tableau_temperatures, color='blue', label='Données')\n",
    "plt.plot(tableau_annees, pente * tableau_annees + b, color='red', label='Régression linéaire')\n",
    "\n",
    "# Ajouter des titres et des labels\n",
    "plt.title('Régression linéaire des températures annuelles au Canada')\n",
    "plt.xlabel('Année')\n",
    "plt.ylabel('Température (°C)')\n",
    "plt.legend()\n",
    "\n",
    "# Sauvegarder le graphique en format PNG\n",
    "plt.savefig('regression.png')\n",
    "\n",
    "# Afficher le graphique\n",
    "plt.show()"
   ]
  },
  {
   "cell_type": "markdown",
   "id": "db7ca43d",
   "metadata": {},
   "source": [
    "<div class=\"alert alert-block alert-warning\">\n",
    "<b>Question 15a. </b>Déposez le graphique sur Moodle pour la question 15a. (2 pts)\n",
    "</div>"
   ]
  },
  {
   "cell_type": "markdown",
   "id": "79b4d1d8",
   "metadata": {},
   "source": [
    "<div class=\"alert alert-block alert-warning\">\n",
    "<b>Question 15b. </b>En observant le graphique avec la droite de régression linéaire et avec le coefficient de corrélation, quelles déductions pouvez vous faire au niveau de: (3 pts) <br>\n",
    "   1. La tendance générale <br>\n",
    "   2. La force de la relation <br>\n",
    "   3. Prédictions possibles\n",
    "</div>"
   ]
  },
  {
   "cell_type": "markdown",
   "id": "1dc03c25",
   "metadata": {},
   "source": [
    "Q14. Quels sont les valeurs des coefficients de la régression ?\n",
    "pente = 0.01620103539997822   \n",
    "ordonnée à l'origine = -16.130447331236613\n",
    "\n",
    "La pente de la droite de régression indique la tendance générale des données. Si la pente est positive, cela signifie qu’il y a une tendance à la hausse des températures au fil des années. Si la pente est négative, cela indique une tendance à la baisse."
   ]
  },
  {
   "cell_type": "markdown",
   "id": "89b329ce",
   "metadata": {},
   "source": [
    "Q15b. Force de la relation  \n",
    "La proximité des points de données par rapport à la droite de régression montre la force de la relation linéaire. Si les points sont proches de la droite, cela indique une forte corrélation linéaire. Si les points sont dispersés, la corrélation est plus faible.\n",
    "\n",
    "Q15b. Prédictions  \n",
    "La droite de régression peut être utilisée pour faire des prédictions sur les températures futures en extrapolant les données. Cependant, il est important de noter que les prédictions basées sur une régression linéaire simple peuvent ne pas être précises si les conditions changent ou si la relation n’est pas strictement linéaire."
   ]
  }
 ],
 "metadata": {
  "kernelspec": {
   "display_name": "Python 3",
   "language": "python",
   "name": "python3"
  },
  "language_info": {
   "codemirror_mode": {
    "name": "ipython",
    "version": 3
   },
   "file_extension": ".py",
   "mimetype": "text/x-python",
   "name": "python",
   "nbconvert_exporter": "python",
   "pygments_lexer": "ipython3",
   "version": "3.11.9"
  },
  "papermill": {
   "default_parameters": {},
   "duration": 118.360137,
   "end_time": "2023-09-11T16:01:43.003852",
   "environment_variables": {},
   "exception": null,
   "input_path": "__notebook__.ipynb",
   "output_path": "__notebook__.ipynb",
   "parameters": {},
   "start_time": "2023-09-11T15:59:44.643715",
   "version": "2.4.0"
  }
 },
 "nbformat": 4,
 "nbformat_minor": 5
}
