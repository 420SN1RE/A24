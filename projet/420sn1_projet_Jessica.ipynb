{
 "cells": [
  {
   "cell_type": "markdown",
   "metadata": {},
   "source": [
    "<center>\n",
    "    <h1>Projet : <br>Analyse de données scientifiques</h1>\n",
    "</center>\n",
    "<center>\n",
    "    <img src=\"https://encrypted-tbn0.gstatic.com/images?q=tbn:ANd9GcTGHi3NlJxV9Q1SibJbhG_vyxDkDdFtZTCk6w&salt=\" alt=\"Prédiction d'insuffisance cardiaque\" width=\"200\">\n",
    "</center>"
   ]
  },
  {
   "cell_type": "markdown",
   "metadata": {},
   "source": [
    "<div class=\"alert alert-block alert-success\">\n",
    "\n",
    "### Contexte\n",
    "\n",
    "Les maladies cardiovasculaires (MCV) sont responsables de millions de décès chaque année.\n",
    "Dans ce projet, vous avez été mandatés par une équipe de recherche pour utiliser vos compétences en Python et les bibliothèques pandas, matplotlib et numpy afin de créer un programme capable de prédire les risques de maladies cardiaques en analysant certaines caractéristiques clés, comme l’âge, le sexe, et le taux de cholestérol. <br>\n",
    "\n",
    "### Objectif\n",
    "\n",
    "L'objectif de ce projet est de démontrer comment les techniques de programmation et d'analyse de données peuvent être appliquées pour résoudre des problèmes de santé publique. \n",
    "\n",
    "Ce projet mettra en lumière l'importance de l'interdisciplinarité entre les sciences de la nature et l'informatique, en montrant comment les compétences en programmation peuvent être utilisées pour des applications pratiques et bénéfiques dans le domaine de la santé.\n",
    "\n",
    "### Parties du projet\n",
    "\n",
    "1.\t**Partie 1** : Importer et préparer les données, extraire des informations clés pour effectuer des analyses pertinentes. (<b>Pandas</b>)\n",
    "2.\t**Partie 2** : Visualiser les données sous forme de graphiques, pour en faciliter l'interprétation. (<b>Matplotlib</b>)\n",
    "3.\t**Partie 3** : Analyser les résultats et en tirer des conclusions. (<b>NumPy</b>)\n",
    "\n",
    "### Présentation des données\n",
    "\n",
    "Les données de l’expérience sont dans le fichier prediction_cardiaque.csv. Voici la description des données s’y trouvant. Ce fichier contient les données de patients à travers le monde.\n",
    "\n",
    "- **Âge du patient** :  en années\n",
    "- **Sexe du patient** : M : Masculin, F : Féminin\n",
    "- **Type de douleur thoracique**: TA : Angine Typique, ATA : Angine Atypique, NAP : Douleur Non Angineuse, ASY : Asymptomatique\n",
    "- **Pression artérielle au repos** : pression artérielle au repos (en mm Hg)\n",
    "- **Cholestérol** : cholestérol sérique (en mg/dl)\n",
    "- **Glycémie à jeun** : 1 : si Glycémie à jeun > 120 mg/dl, 0 : sinon\n",
    "- **Résultats de l’ECG au repos** : Normal : Normal, ST : anomalie de l’onde ST-T (inversions de l’onde T et/ou élévation ou dépression du segment ST de > 0,05 mV), LVH : hypertrophie ventriculaire gauche probable ou certaine selon les critères d’Estes\n",
    "- **Fréquence cardiaque maximale atteinte**: valeur numérique entre 60 et 202\n",
    "- **Angine induite par l’exercice** : Y : Oui, N : Non\n",
    "- **Oldpeak** : ST valeur numérique mesurée en dépression\n",
    "- **Pente du segment ST au pic de l’exercice** : Up : ascendant, Flat : plat, Down : descendant\n",
    "- **Maladie cardiaque** : classe de sortie 1 : maladie cardiaque, 0 : Normal\n",
    "</div>"
   ]
  },
  {
   "cell_type": "markdown",
   "metadata": {},
   "source": [
    "### Livrables\n",
    "\n",
    "<div class=\"alert alert-block alert-danger\">\n",
    "\n",
    "- Vous devrez remettre un seul fichier Jupyter Notebook (**PrenomNom_projet.ipynb**) contenant tout le code, les analyses et les visualisations et le fichier de données (**.csv**).\n",
    "- **À la fin de chaque séance**, vous devez remettre votre travail (fichiers .ipynb et .csv) dans la boîte de remise prévue à cet effet sur Moodle.\n",
    "- Vous pourrez continuer à travailler sur votre projet entre chaque séance, mais la boite de remise sera fermée.\n",
    "- Ces remises sont des points de contrôle.\n",
    "  \n",
    "</div>"
   ]
  },
  {
   "cell_type": "markdown",
   "metadata": {},
   "source": [
    "<div class=\"alert alert-block alert-success\">\n",
    "\n",
    "### Consignes et informations de départ pour le projet\n",
    "\n",
    "1. De Moodle, télécharger sur votre ordinateur, dans le dossier réservé au projet, les deux fichiers :\n",
    "   - Le fichier de données : insuffisance_cardiaque.csv\n",
    "   - Le fichier de code : 420sn1_projet.ipynb</li>\n",
    "2. Renommer le fichier .ipynb avec votre prénom et nom de famille (ex: **NathalieDesmangle_projet.ipynb**)\n",
    "3. Dans le fichier de départ (ipynb) que vous allez utiliser pour ce projet, les cellules sont déjà créées et organisées dans un ordre précis. Il est essentiel que vous respectiez cet ordre et le contenu de chaque cellule. Votre tâche consiste à écrire le code dans les cellules désignées, en suivant les instructions fournies.\n",
    "4. Faites attention à bien répondre aux bons endroits, le code python dans une cellule de CODE et les réponses textuelles dans une cellule de MARCAGE (***MARKDOWN***)\n",
    "5. Assurez-vous que tout votre bloc note Jupyter (notebook) s’exécute correctement en une seule fois avec le bouton **Exécuter Tout** (***Run All***) de VS Code. Les cellules de code suivent un ordre, certaines reprennent le résultat d’une précédente. Faites attention à ne pas altérer les données entre deux cellules de code.\n",
    "6. Pour vous faciliter cette tâche, utilisez régulièrement le bouton **Exécuter Tout** (***Run All***) pour vérifier que l’exécution arrive correctement là où vous êtes, n’attendez pas d’avoir tout codé pour utiliser ce bouton.\n",
    "</div>"
   ]
  },
  {
   "cell_type": "markdown",
   "metadata": {},
   "source": [
    "### PARTIE 1: Importation des données et extraction d'informations (Pandas)"
   ]
  },
  {
   "cell_type": "markdown",
   "metadata": {},
   "source": [
    "**Importer les bibliothèques qui seront nécessaires au projet.** <br> Écrire votre code dans la cellule suivante."
   ]
  },
  {
   "cell_type": "code",
   "execution_count": 26,
   "metadata": {
    "execution": {
     "iopub.execute_input": "2022-10-25T12:54:47.720331Z",
     "iopub.status.busy": "2022-10-25T12:54:47.718109Z",
     "iopub.status.idle": "2022-10-25T12:54:48.502285Z",
     "shell.execute_reply": "2022-10-25T12:54:48.500990Z",
     "shell.execute_reply.started": "2022-10-25T12:54:47.719992Z"
    },
    "trusted": true
   },
   "outputs": [
    {
     "data": {
      "text/plain": [
       "'2.1.3'"
      ]
     },
     "execution_count": 26,
     "metadata": {},
     "output_type": "execute_result"
    }
   ],
   "source": [
    "# Complétez le code \n",
    "import pandas as pd\n",
    "import matplotlib.pyplot as plt\n",
    "import matplotlib as p\n",
    "import numpy as np\n",
    "\n",
    "pd.__version__\n",
    "p.__version__\n",
    "np.__version__"
   ]
  },
  {
   "cell_type": "markdown",
   "metadata": {},
   "source": [
    "**Écrire le code pour charger les données dans le dataframe df_prediction.** <br> Écrire votre code dans la cellule suivante."
   ]
  },
  {
   "cell_type": "code",
   "execution_count": 27,
   "metadata": {},
   "outputs": [],
   "source": [
    "# Complétez le code\n",
    "df_prediction = pd.read_csv('insuffisance_cardiaque.csv')"
   ]
  },
  {
   "cell_type": "markdown",
   "metadata": {},
   "source": [
    "**Afficher les noms des colonnes.**<br>Écrire le code dans la cellule suivante."
   ]
  },
  {
   "cell_type": "code",
   "execution_count": 28,
   "metadata": {
    "execution": {
     "iopub.execute_input": "2022-10-25T12:54:48.570535Z",
     "iopub.status.busy": "2022-10-25T12:54:48.570154Z",
     "iopub.status.idle": "2022-10-25T12:54:48.580511Z",
     "shell.execute_reply": "2022-10-25T12:54:48.579178Z",
     "shell.execute_reply.started": "2022-10-25T12:54:48.570500Z"
    },
    "trusted": true
   },
   "outputs": [
    {
     "data": {
      "text/plain": [
       "Index(['Age', 'Sex', 'ChestPainType', 'RestingBP', 'Cholesterol', 'FastingBS',\n",
       "       'RestingECG', 'MaxHR', 'ExerciseAngina', 'Oldpeak', 'ST_Slope',\n",
       "       'HeartDisease'],\n",
       "      dtype='object')"
      ]
     },
     "execution_count": 28,
     "metadata": {},
     "output_type": "execute_result"
    }
   ],
   "source": [
    "# Complétez le code \n",
    "df_prediction.columns"
   ]
  },
  {
   "cell_type": "markdown",
   "metadata": {},
   "source": [
    "<div class=\"alert alert-block alert-success\">\n",
    "    <b>Quel est le nom de la 5e colonne ?</b><br>\n",
    "</div>"
   ]
  },
  {
   "cell_type": "markdown",
   "metadata": {},
   "source": [
    "**Écrire votre réponse dans cette cellule :** (Double-cliquez dessus pour écrire votre réponse)\n",
    "\n",
    "nom de la 5e colone: Cholesterol"
   ]
  },
  {
   "cell_type": "markdown",
   "metadata": {},
   "source": [
    "**Modifier les noms de toutes les colonnes pour les traduire en français, tel qu'indiqué ci-dessous.** <br>Écrire le code dans la cellule suivante.  <br>\n",
    "**ATTENTION**: Vous devez obligatoirement utiliser les deux listes fournies dans le code: 'noms_actuels' et 'nouveaux_noms' et aussi une boucle.\n",
    "\n",
    "- **Age** : Âge\n",
    "- **Sex** : Sexe\n",
    "- **ChestPainType** : Type de douleur thoracique\n",
    "- **RestingBP** : Pression artérielle au repos\n",
    "- **Cholesterol** : Cholestérol\n",
    "- **FastingBS** : Glycémie à jeun\n",
    "- **RestingECG** : ECG au repos\n",
    "- **MaxHR** : Fréquence cardiaque maximale\n",
    "- **ExerciseAngina** : Angine induite par l'exercice\n",
    "- **ST_Slope** : Pente du segment ST\n",
    "- **HeartDisease** : Maladie cardiaque"
   ]
  },
  {
   "cell_type": "code",
   "execution_count": 29,
   "metadata": {},
   "outputs": [
    {
     "data": {
      "text/html": [
       "<div>\n",
       "<style scoped>\n",
       "    .dataframe tbody tr th:only-of-type {\n",
       "        vertical-align: middle;\n",
       "    }\n",
       "\n",
       "    .dataframe tbody tr th {\n",
       "        vertical-align: top;\n",
       "    }\n",
       "\n",
       "    .dataframe thead th {\n",
       "        text-align: right;\n",
       "    }\n",
       "</style>\n",
       "<table border=\"1\" class=\"dataframe\">\n",
       "  <thead>\n",
       "    <tr style=\"text-align: right;\">\n",
       "      <th></th>\n",
       "      <th>Âge</th>\n",
       "      <th>Sexe</th>\n",
       "      <th>Type de douleur thoracique</th>\n",
       "      <th>Pression artérielle au repos</th>\n",
       "      <th>Cholestérol</th>\n",
       "      <th>Glycémie à jeun</th>\n",
       "      <th>ECG au repos</th>\n",
       "      <th>Fréquence cardiaque maximale</th>\n",
       "      <th>Angine induite par l'exercice</th>\n",
       "      <th>Oldpeak</th>\n",
       "      <th>Pente du segment ST</th>\n",
       "      <th>Maladie cardiaque</th>\n",
       "    </tr>\n",
       "  </thead>\n",
       "  <tbody>\n",
       "    <tr>\n",
       "      <th>0</th>\n",
       "      <td>40</td>\n",
       "      <td>M</td>\n",
       "      <td>ATA</td>\n",
       "      <td>140</td>\n",
       "      <td>289.0</td>\n",
       "      <td>NaN</td>\n",
       "      <td>Normal</td>\n",
       "      <td>172</td>\n",
       "      <td>N</td>\n",
       "      <td>0.0</td>\n",
       "      <td>Up</td>\n",
       "      <td>0</td>\n",
       "    </tr>\n",
       "    <tr>\n",
       "      <th>1</th>\n",
       "      <td>49</td>\n",
       "      <td>F</td>\n",
       "      <td>NAP</td>\n",
       "      <td>160</td>\n",
       "      <td>180.0</td>\n",
       "      <td>0.0</td>\n",
       "      <td>Normal</td>\n",
       "      <td>156</td>\n",
       "      <td>N</td>\n",
       "      <td>1.0</td>\n",
       "      <td>Flat</td>\n",
       "      <td>1</td>\n",
       "    </tr>\n",
       "    <tr>\n",
       "      <th>2</th>\n",
       "      <td>37</td>\n",
       "      <td>M</td>\n",
       "      <td>ATA</td>\n",
       "      <td>130</td>\n",
       "      <td>283.0</td>\n",
       "      <td>0.0</td>\n",
       "      <td>ST</td>\n",
       "      <td>98</td>\n",
       "      <td>N</td>\n",
       "      <td>0.0</td>\n",
       "      <td>Up</td>\n",
       "      <td>0</td>\n",
       "    </tr>\n",
       "    <tr>\n",
       "      <th>3</th>\n",
       "      <td>48</td>\n",
       "      <td>F</td>\n",
       "      <td>ASY</td>\n",
       "      <td>138</td>\n",
       "      <td>214.0</td>\n",
       "      <td>0.0</td>\n",
       "      <td>Normal</td>\n",
       "      <td>108</td>\n",
       "      <td>Y</td>\n",
       "      <td>1.5</td>\n",
       "      <td>Flat</td>\n",
       "      <td>1</td>\n",
       "    </tr>\n",
       "    <tr>\n",
       "      <th>4</th>\n",
       "      <td>54</td>\n",
       "      <td>M</td>\n",
       "      <td>NAP</td>\n",
       "      <td>150</td>\n",
       "      <td>195.0</td>\n",
       "      <td>0.0</td>\n",
       "      <td>Normal</td>\n",
       "      <td>122</td>\n",
       "      <td>N</td>\n",
       "      <td>0.0</td>\n",
       "      <td>Up</td>\n",
       "      <td>0</td>\n",
       "    </tr>\n",
       "  </tbody>\n",
       "</table>\n",
       "</div>"
      ],
      "text/plain": [
       "   Âge Sexe Type de douleur thoracique  Pression artérielle au repos  \\\n",
       "0   40    M                        ATA                           140   \n",
       "1   49    F                        NAP                           160   \n",
       "2   37    M                        ATA                           130   \n",
       "3   48    F                        ASY                           138   \n",
       "4   54    M                        NAP                           150   \n",
       "\n",
       "   Cholestérol  Glycémie à jeun ECG au repos  Fréquence cardiaque maximale  \\\n",
       "0        289.0              NaN       Normal                           172   \n",
       "1        180.0              0.0       Normal                           156   \n",
       "2        283.0              0.0           ST                            98   \n",
       "3        214.0              0.0       Normal                           108   \n",
       "4        195.0              0.0       Normal                           122   \n",
       "\n",
       "  Angine induite par l'exercice  Oldpeak Pente du segment ST  \\\n",
       "0                             N      0.0                  Up   \n",
       "1                             N      1.0                Flat   \n",
       "2                             N      0.0                  Up   \n",
       "3                             Y      1.5                Flat   \n",
       "4                             N      0.0                  Up   \n",
       "\n",
       "   Maladie cardiaque  \n",
       "0                  0  \n",
       "1                  1  \n",
       "2                  0  \n",
       "3                  1  \n",
       "4                  0  "
      ]
     },
     "execution_count": 29,
     "metadata": {},
     "output_type": "execute_result"
    }
   ],
   "source": [
    "# Complétez le code\n",
    "\n",
    "# Liste des noms actuels des colonnes\n",
    "noms_actuels = ['Age', 'Sex', 'ChestPainType', 'RestingBP', 'Cholesterol', 'FastingBS', 'RestingECG', 'MaxHR', 'ExerciseAngina', 'ST_Slope', 'HeartDisease']\n",
    "\n",
    "# Liste des nouveaux noms des colonnes\n",
    "nouveaux_noms = ['Âge', 'Sexe', 'Type de douleur thoracique', 'Pression artérielle au repos', 'Cholestérol', 'Glycémie à jeun', 'ECG au repos', 'Fréquence cardiaque maximale', 'Angine induite par l\\'exercice', 'Pente du segment ST', 'Maladie cardiaque']\n",
    "\n",
    "# Utilisation d'une boucle for pour renommer les colonnes\n",
    "for i in range(len(noms_actuels)):\n",
    "    df_prediction= df_prediction.rename(columns={noms_actuels[i] : nouveaux_noms[i]})\n",
    "#df_prediction.columns\n",
    "df_prediction.head()"
   ]
  },
  {
   "cell_type": "markdown",
   "metadata": {},
   "source": [
    "**Afficher juste les 2 premières lignes du DataFrame, pour confirmer le changement des noms des colonnes.** <br>  Écrire le code dans la cellule suivante."
   ]
  },
  {
   "cell_type": "code",
   "execution_count": 30,
   "metadata": {},
   "outputs": [
    {
     "data": {
      "text/html": [
       "<div>\n",
       "<style scoped>\n",
       "    .dataframe tbody tr th:only-of-type {\n",
       "        vertical-align: middle;\n",
       "    }\n",
       "\n",
       "    .dataframe tbody tr th {\n",
       "        vertical-align: top;\n",
       "    }\n",
       "\n",
       "    .dataframe thead th {\n",
       "        text-align: right;\n",
       "    }\n",
       "</style>\n",
       "<table border=\"1\" class=\"dataframe\">\n",
       "  <thead>\n",
       "    <tr style=\"text-align: right;\">\n",
       "      <th></th>\n",
       "      <th>Âge</th>\n",
       "      <th>Sexe</th>\n",
       "      <th>Type de douleur thoracique</th>\n",
       "      <th>Pression artérielle au repos</th>\n",
       "      <th>Cholestérol</th>\n",
       "      <th>Glycémie à jeun</th>\n",
       "      <th>ECG au repos</th>\n",
       "      <th>Fréquence cardiaque maximale</th>\n",
       "      <th>Angine induite par l'exercice</th>\n",
       "      <th>Oldpeak</th>\n",
       "      <th>Pente du segment ST</th>\n",
       "      <th>Maladie cardiaque</th>\n",
       "    </tr>\n",
       "  </thead>\n",
       "  <tbody>\n",
       "    <tr>\n",
       "      <th>0</th>\n",
       "      <td>40</td>\n",
       "      <td>M</td>\n",
       "      <td>ATA</td>\n",
       "      <td>140</td>\n",
       "      <td>289.0</td>\n",
       "      <td>NaN</td>\n",
       "      <td>Normal</td>\n",
       "      <td>172</td>\n",
       "      <td>N</td>\n",
       "      <td>0.0</td>\n",
       "      <td>Up</td>\n",
       "      <td>0</td>\n",
       "    </tr>\n",
       "    <tr>\n",
       "      <th>1</th>\n",
       "      <td>49</td>\n",
       "      <td>F</td>\n",
       "      <td>NAP</td>\n",
       "      <td>160</td>\n",
       "      <td>180.0</td>\n",
       "      <td>0.0</td>\n",
       "      <td>Normal</td>\n",
       "      <td>156</td>\n",
       "      <td>N</td>\n",
       "      <td>1.0</td>\n",
       "      <td>Flat</td>\n",
       "      <td>1</td>\n",
       "    </tr>\n",
       "  </tbody>\n",
       "</table>\n",
       "</div>"
      ],
      "text/plain": [
       "   Âge Sexe Type de douleur thoracique  Pression artérielle au repos  \\\n",
       "0   40    M                        ATA                           140   \n",
       "1   49    F                        NAP                           160   \n",
       "\n",
       "   Cholestérol  Glycémie à jeun ECG au repos  Fréquence cardiaque maximale  \\\n",
       "0        289.0              NaN       Normal                           172   \n",
       "1        180.0              0.0       Normal                           156   \n",
       "\n",
       "  Angine induite par l'exercice  Oldpeak Pente du segment ST  \\\n",
       "0                             N      0.0                  Up   \n",
       "1                             N      1.0                Flat   \n",
       "\n",
       "   Maladie cardiaque  \n",
       "0                  0  \n",
       "1                  1  "
      ]
     },
     "execution_count": 30,
     "metadata": {},
     "output_type": "execute_result"
    }
   ],
   "source": [
    "# Complétez le code\n",
    "df_prediction.head(2)"
   ]
  },
  {
   "cell_type": "markdown",
   "metadata": {},
   "source": [
    "<div class=\"alert alert-block alert-success\">\n",
    "<b>Quels sont les types des colonnes \"Fréquence cardiaque maximale\" et \"Oldpeak\"?</b><br>Écrire le code permettant d'obtenir les réponses dans la cellule suivante.<br>Écrire vos réponses dans la cellule après celle du code.\n",
    "</div>"
   ]
  },
  {
   "cell_type": "code",
   "execution_count": 31,
   "metadata": {
    "execution": {
     "iopub.execute_input": "2022-10-25T12:54:48.584363Z",
     "iopub.status.busy": "2022-10-25T12:54:48.583530Z",
     "iopub.status.idle": "2022-10-25T12:54:48.612571Z",
     "shell.execute_reply": "2022-10-25T12:54:48.611623Z",
     "shell.execute_reply.started": "2022-10-25T12:54:48.584323Z"
    },
    "trusted": true
   },
   "outputs": [
    {
     "name": "stdout",
     "output_type": "stream",
     "text": [
      "<class 'pandas.core.frame.DataFrame'>\n",
      "RangeIndex: 918 entries, 0 to 917\n",
      "Data columns (total 12 columns):\n",
      " #   Column                         Non-Null Count  Dtype  \n",
      "---  ------                         --------------  -----  \n",
      " 0   Âge                            918 non-null    int64  \n",
      " 1   Sexe                           918 non-null    object \n",
      " 2   Type de douleur thoracique     918 non-null    object \n",
      " 3   Pression artérielle au repos   918 non-null    int64  \n",
      " 4   Cholestérol                    916 non-null    float64\n",
      " 5   Glycémie à jeun                910 non-null    float64\n",
      " 6   ECG au repos                   918 non-null    object \n",
      " 7   Fréquence cardiaque maximale   918 non-null    int64  \n",
      " 8   Angine induite par l'exercice  918 non-null    object \n",
      " 9   Oldpeak                        918 non-null    float64\n",
      " 10  Pente du segment ST            918 non-null    object \n",
      " 11  Maladie cardiaque              918 non-null    int64  \n",
      "dtypes: float64(3), int64(4), object(5)\n",
      "memory usage: 86.2+ KB\n"
     ]
    }
   ],
   "source": [
    "# Complétez le code\n",
    "\n",
    "df_prediction.info()\n",
    "\n",
    "##df_prediction.dtypes[['Fréquence cardiaque maximale', 'Oldpeak']]\n",
    "##df_prediction = df_prediction[['Fréquence cardiaque maximale', 'Oldpeak']]"
   ]
  },
  {
   "cell_type": "markdown",
   "metadata": {},
   "source": [
    "**Écrire votre réponse dans cette cellule :** \n",
    "\n",
    "Type de 'Fréquence cardiaque maximale': int, un entier   \n",
    "Type de 'Oldpeak': float, un chiffre à virgule\n"
   ]
  },
  {
   "cell_type": "markdown",
   "metadata": {},
   "source": [
    "<div class=\"alert alert-block alert-success\">\n",
    "<b>Combien il y a t-il de données manquantes dans chaque colonne dans le dataFrame ?</b><br>Écrire une fonction permettant d'obtenir les réponses dans la cellule suivante.<br>Écrire vos réponses dans la fonction 'print' dans la cellule ci-dessous.\n",
    "</div>"
   ]
  },
  {
   "cell_type": "code",
   "execution_count": 32,
   "metadata": {
    "execution": {
     "iopub.execute_input": "2022-10-25T12:54:48.614476Z",
     "iopub.status.busy": "2022-10-25T12:54:48.613925Z",
     "iopub.status.idle": "2022-10-25T12:54:48.931373Z",
     "shell.execute_reply": "2022-10-25T12:54:48.930011Z",
     "shell.execute_reply.started": "2022-10-25T12:54:48.614440Z"
    },
    "trusted": true
   },
   "outputs": [
    {
     "name": "stdout",
     "output_type": "stream",
     "text": [
      "Il manque :\n",
      "Âge                              0\n",
      "Sexe                             0\n",
      "Type de douleur thoracique       0\n",
      "Pression artérielle au repos     0\n",
      "Cholestérol                      2\n",
      "Glycémie à jeun                  8\n",
      "ECG au repos                     0\n",
      "Fréquence cardiaque maximale     0\n",
      "Angine induite par l'exercice    0\n",
      "Oldpeak                          0\n",
      "Pente du segment ST              0\n",
      "Maladie cardiaque                0\n",
      "dtype: int64\n"
     ]
    }
   ],
   "source": [
    "# Compléter le code \n",
    "\n",
    "def compter_nb_valeurs_manquantes(df_prediction):\n",
    "    # Compter le nombre de valeurs manquantes dans chaque colonne\n",
    "    nombre_valeurs_manquantes = df_prediction.isna().sum()\n",
    "\n",
    "    # Afficher le nombre de valeurs manquantes\n",
    "    print(f\"Il manque :\\n{nombre_valeurs_manquantes}\")\n",
    "\n",
    "# Appel de la fonction\n",
    "compter_nb_valeurs_manquantes(df_prediction)"
   ]
  },
  {
   "cell_type": "markdown",
   "metadata": {},
   "source": [
    "<div class=\"alert alert-block alert-success\">\n",
    "- Définissez une fonction qui prend un dataframe en paramètre et qui retourne le dataframe  avec aucune donnée manquante.<br>\n",
    "- Utilisez une boucle pour effectuer la recherche de valeurs manquantes.<br>\n",
    "- Utilisez cette fonction avec le dataframe pour remplacer les valeurs valeurs manquantes par <b>0</b>.<br>\n",
    "- Utilisez la fonction <b>'compter_nb_valeurs_manquantes()'</b> pour confirmer l'absence de valeurs manquantes.\n",
    "</div>"
   ]
  },
  {
   "cell_type": "code",
   "execution_count": 33,
   "metadata": {},
   "outputs": [
    {
     "name": "stdout",
     "output_type": "stream",
     "text": [
      "Il manque :\n",
      "Âge                              0\n",
      "Sexe                             0\n",
      "Type de douleur thoracique       0\n",
      "Pression artérielle au repos     0\n",
      "Cholestérol                      0\n",
      "Glycémie à jeun                  0\n",
      "ECG au repos                     0\n",
      "Fréquence cardiaque maximale     0\n",
      "Angine induite par l'exercice    0\n",
      "Oldpeak                          0\n",
      "Pente du segment ST              0\n",
      "Maladie cardiaque                0\n",
      "dtype: int64\n"
     ]
    }
   ],
   "source": [
    "# Complétez le code\n",
    "#df_prediction = pd.read_csv('insuffisance_cardiaque.csv')\n",
    "# Définition de la fonction\n",
    "def nettoyage_df(df_sale):\n",
    "    # Convertir le DataFrame en liste\n",
    "    liste_df = df_sale.values.tolist()\n",
    "\n",
    "    # Remplacer les valeurs manquantes par 0\n",
    "    for ligne in liste_df:\n",
    "        for i in range(len(ligne)):\n",
    "            if ligne[i] != ligne[i]:\n",
    "                ligne[i] = 0\n",
    "\n",
    "    # Reconstruction du dataframe\n",
    "    df_propre = pd.DataFrame(liste_df, columns=df_prediction.columns)\n",
    "\n",
    "    # Retour du dataframe nettoyé\n",
    "    return df_propre\n",
    "\n",
    "# Appel de la fonction\n",
    "df_prediction = nettoyage_df(df_prediction)   \n",
    "\n",
    "# Confirmation qu'il n'y a plus de données manquantes\n",
    "compter_nb_valeurs_manquantes(df_prediction)\n"
   ]
  },
  {
   "cell_type": "markdown",
   "metadata": {},
   "source": [
    "<div class=\"alert alert-block alert-success\">\n",
    "<b>Quelle est la moyenne d'âge des patients ?</b><br>Écrire le code permettant d'obtenir les réponses dans la cellule suivante.<br>Écrire vos réponses dans la cellule après celle du code.\n",
    "</div>"
   ]
  },
  {
   "cell_type": "code",
   "execution_count": 34,
   "metadata": {
    "execution": {
     "iopub.execute_input": "2022-10-25T12:54:48.934530Z",
     "iopub.status.busy": "2022-10-25T12:54:48.933194Z",
     "iopub.status.idle": "2022-10-25T12:54:48.975531Z",
     "shell.execute_reply": "2022-10-25T12:54:48.973213Z",
     "shell.execute_reply.started": "2022-10-25T12:54:48.934470Z"
    },
    "trusted": true
   },
   "outputs": [
    {
     "name": "stdout",
     "output_type": "stream",
     "text": [
      "La moyenne des ages des patients est de 53.51\n"
     ]
    },
    {
     "data": {
      "text/html": [
       "<div>\n",
       "<style scoped>\n",
       "    .dataframe tbody tr th:only-of-type {\n",
       "        vertical-align: middle;\n",
       "    }\n",
       "\n",
       "    .dataframe tbody tr th {\n",
       "        vertical-align: top;\n",
       "    }\n",
       "\n",
       "    .dataframe thead th {\n",
       "        text-align: right;\n",
       "    }\n",
       "</style>\n",
       "<table border=\"1\" class=\"dataframe\">\n",
       "  <thead>\n",
       "    <tr style=\"text-align: right;\">\n",
       "      <th></th>\n",
       "      <th>Âge</th>\n",
       "      <th>Sexe</th>\n",
       "      <th>Type de douleur thoracique</th>\n",
       "      <th>Pression artérielle au repos</th>\n",
       "      <th>Cholestérol</th>\n",
       "      <th>Glycémie à jeun</th>\n",
       "      <th>ECG au repos</th>\n",
       "      <th>Fréquence cardiaque maximale</th>\n",
       "      <th>Angine induite par l'exercice</th>\n",
       "      <th>Oldpeak</th>\n",
       "      <th>Pente du segment ST</th>\n",
       "      <th>Maladie cardiaque</th>\n",
       "    </tr>\n",
       "  </thead>\n",
       "  <tbody>\n",
       "    <tr>\n",
       "      <th>0</th>\n",
       "      <td>40</td>\n",
       "      <td>M</td>\n",
       "      <td>ATA</td>\n",
       "      <td>140</td>\n",
       "      <td>289.0</td>\n",
       "      <td>0.0</td>\n",
       "      <td>Normal</td>\n",
       "      <td>172</td>\n",
       "      <td>N</td>\n",
       "      <td>0.0</td>\n",
       "      <td>Up</td>\n",
       "      <td>0</td>\n",
       "    </tr>\n",
       "    <tr>\n",
       "      <th>1</th>\n",
       "      <td>49</td>\n",
       "      <td>F</td>\n",
       "      <td>NAP</td>\n",
       "      <td>160</td>\n",
       "      <td>180.0</td>\n",
       "      <td>0.0</td>\n",
       "      <td>Normal</td>\n",
       "      <td>156</td>\n",
       "      <td>N</td>\n",
       "      <td>1.0</td>\n",
       "      <td>Flat</td>\n",
       "      <td>1</td>\n",
       "    </tr>\n",
       "    <tr>\n",
       "      <th>2</th>\n",
       "      <td>37</td>\n",
       "      <td>M</td>\n",
       "      <td>ATA</td>\n",
       "      <td>130</td>\n",
       "      <td>283.0</td>\n",
       "      <td>0.0</td>\n",
       "      <td>ST</td>\n",
       "      <td>98</td>\n",
       "      <td>N</td>\n",
       "      <td>0.0</td>\n",
       "      <td>Up</td>\n",
       "      <td>0</td>\n",
       "    </tr>\n",
       "    <tr>\n",
       "      <th>3</th>\n",
       "      <td>48</td>\n",
       "      <td>F</td>\n",
       "      <td>ASY</td>\n",
       "      <td>138</td>\n",
       "      <td>214.0</td>\n",
       "      <td>0.0</td>\n",
       "      <td>Normal</td>\n",
       "      <td>108</td>\n",
       "      <td>Y</td>\n",
       "      <td>1.5</td>\n",
       "      <td>Flat</td>\n",
       "      <td>1</td>\n",
       "    </tr>\n",
       "    <tr>\n",
       "      <th>4</th>\n",
       "      <td>54</td>\n",
       "      <td>M</td>\n",
       "      <td>NAP</td>\n",
       "      <td>150</td>\n",
       "      <td>195.0</td>\n",
       "      <td>0.0</td>\n",
       "      <td>Normal</td>\n",
       "      <td>122</td>\n",
       "      <td>N</td>\n",
       "      <td>0.0</td>\n",
       "      <td>Up</td>\n",
       "      <td>0</td>\n",
       "    </tr>\n",
       "    <tr>\n",
       "      <th>...</th>\n",
       "      <td>...</td>\n",
       "      <td>...</td>\n",
       "      <td>...</td>\n",
       "      <td>...</td>\n",
       "      <td>...</td>\n",
       "      <td>...</td>\n",
       "      <td>...</td>\n",
       "      <td>...</td>\n",
       "      <td>...</td>\n",
       "      <td>...</td>\n",
       "      <td>...</td>\n",
       "      <td>...</td>\n",
       "    </tr>\n",
       "    <tr>\n",
       "      <th>913</th>\n",
       "      <td>45</td>\n",
       "      <td>M</td>\n",
       "      <td>TA</td>\n",
       "      <td>110</td>\n",
       "      <td>264.0</td>\n",
       "      <td>0.0</td>\n",
       "      <td>Normal</td>\n",
       "      <td>132</td>\n",
       "      <td>N</td>\n",
       "      <td>1.2</td>\n",
       "      <td>Flat</td>\n",
       "      <td>1</td>\n",
       "    </tr>\n",
       "    <tr>\n",
       "      <th>914</th>\n",
       "      <td>68</td>\n",
       "      <td>M</td>\n",
       "      <td>ASY</td>\n",
       "      <td>144</td>\n",
       "      <td>193.0</td>\n",
       "      <td>1.0</td>\n",
       "      <td>Normal</td>\n",
       "      <td>141</td>\n",
       "      <td>N</td>\n",
       "      <td>3.4</td>\n",
       "      <td>Flat</td>\n",
       "      <td>1</td>\n",
       "    </tr>\n",
       "    <tr>\n",
       "      <th>915</th>\n",
       "      <td>57</td>\n",
       "      <td>M</td>\n",
       "      <td>ASY</td>\n",
       "      <td>130</td>\n",
       "      <td>131.0</td>\n",
       "      <td>0.0</td>\n",
       "      <td>Normal</td>\n",
       "      <td>115</td>\n",
       "      <td>Y</td>\n",
       "      <td>1.2</td>\n",
       "      <td>Flat</td>\n",
       "      <td>1</td>\n",
       "    </tr>\n",
       "    <tr>\n",
       "      <th>916</th>\n",
       "      <td>57</td>\n",
       "      <td>F</td>\n",
       "      <td>ATA</td>\n",
       "      <td>130</td>\n",
       "      <td>236.0</td>\n",
       "      <td>0.0</td>\n",
       "      <td>LVH</td>\n",
       "      <td>174</td>\n",
       "      <td>N</td>\n",
       "      <td>0.0</td>\n",
       "      <td>Flat</td>\n",
       "      <td>1</td>\n",
       "    </tr>\n",
       "    <tr>\n",
       "      <th>917</th>\n",
       "      <td>38</td>\n",
       "      <td>M</td>\n",
       "      <td>NAP</td>\n",
       "      <td>138</td>\n",
       "      <td>175.0</td>\n",
       "      <td>0.0</td>\n",
       "      <td>Normal</td>\n",
       "      <td>173</td>\n",
       "      <td>N</td>\n",
       "      <td>0.0</td>\n",
       "      <td>Up</td>\n",
       "      <td>0</td>\n",
       "    </tr>\n",
       "  </tbody>\n",
       "</table>\n",
       "<p>918 rows × 12 columns</p>\n",
       "</div>"
      ],
      "text/plain": [
       "     Âge Sexe Type de douleur thoracique  Pression artérielle au repos  \\\n",
       "0     40    M                        ATA                           140   \n",
       "1     49    F                        NAP                           160   \n",
       "2     37    M                        ATA                           130   \n",
       "3     48    F                        ASY                           138   \n",
       "4     54    M                        NAP                           150   \n",
       "..   ...  ...                        ...                           ...   \n",
       "913   45    M                         TA                           110   \n",
       "914   68    M                        ASY                           144   \n",
       "915   57    M                        ASY                           130   \n",
       "916   57    F                        ATA                           130   \n",
       "917   38    M                        NAP                           138   \n",
       "\n",
       "     Cholestérol  Glycémie à jeun ECG au repos  Fréquence cardiaque maximale  \\\n",
       "0          289.0              0.0       Normal                           172   \n",
       "1          180.0              0.0       Normal                           156   \n",
       "2          283.0              0.0           ST                            98   \n",
       "3          214.0              0.0       Normal                           108   \n",
       "4          195.0              0.0       Normal                           122   \n",
       "..           ...              ...          ...                           ...   \n",
       "913        264.0              0.0       Normal                           132   \n",
       "914        193.0              1.0       Normal                           141   \n",
       "915        131.0              0.0       Normal                           115   \n",
       "916        236.0              0.0          LVH                           174   \n",
       "917        175.0              0.0       Normal                           173   \n",
       "\n",
       "    Angine induite par l'exercice  Oldpeak Pente du segment ST  \\\n",
       "0                               N      0.0                  Up   \n",
       "1                               N      1.0                Flat   \n",
       "2                               N      0.0                  Up   \n",
       "3                               Y      1.5                Flat   \n",
       "4                               N      0.0                  Up   \n",
       "..                            ...      ...                 ...   \n",
       "913                             N      1.2                Flat   \n",
       "914                             N      3.4                Flat   \n",
       "915                             Y      1.2                Flat   \n",
       "916                             N      0.0                Flat   \n",
       "917                             N      0.0                  Up   \n",
       "\n",
       "     Maladie cardiaque  \n",
       "0                    0  \n",
       "1                    1  \n",
       "2                    0  \n",
       "3                    1  \n",
       "4                    0  \n",
       "..                 ...  \n",
       "913                  1  \n",
       "914                  1  \n",
       "915                  1  \n",
       "916                  1  \n",
       "917                  0  \n",
       "\n",
       "[918 rows x 12 columns]"
      ]
     },
     "execution_count": 34,
     "metadata": {},
     "output_type": "execute_result"
    }
   ],
   "source": [
    "# Complétez le code\n",
    "somme_age = 0\n",
    "for age in df_prediction[\"Âge\"]:\n",
    "   somme_age = somme_age + age\n",
    "\n",
    "moyenne = somme_age / len(df_prediction)\n",
    "print(f\"La moyenne des ages des patients est de {round(moyenne,2)}\")\n",
    "\n",
    "df_prediction\n"
   ]
  },
  {
   "cell_type": "markdown",
   "metadata": {},
   "source": [
    "**Écrire votre réponse dans cette cellule :** (Double-cliquez dessus pour écrire votre réponse)<br>\n",
    "Âge moyen des patients: 54 ans"
   ]
  },
  {
   "cell_type": "markdown",
   "metadata": {},
   "source": [
    "<u>Sélection de la population **atteinte** de maladies cardiaques</u>"
   ]
  },
  {
   "cell_type": "markdown",
   "metadata": {},
   "source": [
    "**Filtrez les personnes atteintes de maladie cardiaque.<br>\n",
    "Nous voulons un dataframe avec seulement les patients (Hommes et Femmes) atteints de maladies cardiaques.**<br>\n",
    "**Indices**: \n",
    "- Filtrer la colonne 'Maladie cardiaque'\n",
    "- Un patient est atteint de maladies cardiaques si la valeur de la colonne 'Maladie cardiaque' est égale à 1"
   ]
  },
  {
   "cell_type": "markdown",
   "metadata": {},
   "source": [
    "<div class=\"alert alert-block alert-success\">\n",
    "<b>Combien il y a t-il de personnes atteintes de maladies cardiaques ?</b><br>Écrire le code permettant d'obtenir les réponses dans la cellule suivante.<br>Écrire la réponse avec la fonction 'print' écrite dans la cellule code.\n",
    "</div>"
   ]
  },
  {
   "cell_type": "code",
   "execution_count": 35,
   "metadata": {},
   "outputs": [
    {
     "name": "stdout",
     "output_type": "stream",
     "text": [
      "Il y a 508 personnes atteintes de maladies cardiaques\n"
     ]
    }
   ],
   "source": [
    "# Complétez le code\n",
    "\n",
    "df_cardiaques = df_prediction[(df_prediction['Maladie cardiaque'] == 1)]\n",
    "nombre_de_lignes = len(df_cardiaques)\n",
    "\n",
    "print(f\"Il y a {nombre_de_lignes} personnes atteintes de maladies cardiaques\")"
   ]
  },
  {
   "cell_type": "markdown",
   "metadata": {},
   "source": [
    "<div class=\"alert alert-block alert-success\">\n",
    "<b>Combien il y a t-il de personnes non atteintes de maladies cardiaques ?</b><br>Écrire le code permettant d'obtenir les réponses dans la cellule suivante.<br>Écrire la réponse avec la fonction 'print' écrite dans la cellule code.\n",
    "</div>"
   ]
  },
  {
   "cell_type": "code",
   "execution_count": 36,
   "metadata": {},
   "outputs": [
    {
     "name": "stdout",
     "output_type": "stream",
     "text": [
      "Il y a 410 personnes non atteintes de maladies cardiaques\n"
     ]
    }
   ],
   "source": [
    "# Complétez le code ci-dessous\n",
    "df_non_cardiaques = df_prediction[(df_prediction['Maladie cardiaque'] == 0 )]\n",
    "nombre_de_lignes = len(df_non_cardiaques)\n",
    "\n",
    "print(f\"Il y a {nombre_de_lignes} personnes non atteintes de maladies cardiaques\")"
   ]
  },
  {
   "cell_type": "markdown",
   "metadata": {},
   "source": [
    "<u>Sélection de la population féminine **atteinte** de maladies cardiaques</u>"
   ]
  },
  {
   "cell_type": "markdown",
   "metadata": {},
   "source": [
    "**Filtrez les personnes féminines atteintes de maladie cardiaque.<br>\n",
    "Nous voulons un dataframe avec seulement les patientes de sexe féminin et cardiaques.**<br>\n",
    "**Indices**: \n",
    "- Filtrer les colonnes 'Sexe' et 'Maladie cardiaque'\n",
    "- Un patient est atteint de maladies cardiaques si la valeur de la colonne 'Maladie cardiaque' est égale à 1"
   ]
  },
  {
   "cell_type": "markdown",
   "metadata": {},
   "source": [
    "<div class=\"alert alert-block alert-success\">\n",
    "<b>Combien il y a t-il de femmes atteintes de maladies cardiaques ?</b><br>Écrire le code permettant d'obtenir les réponses dans la cellule suivante.<br>Écrire la réponse avec la fonction 'print' écrite dans la cellule code.\n",
    "</div>"
   ]
  },
  {
   "cell_type": "code",
   "execution_count": 37,
   "metadata": {},
   "outputs": [
    {
     "name": "stdout",
     "output_type": "stream",
     "text": [
      "Il y a 50 femmes atteintes de maladies cardiaques\n"
     ]
    }
   ],
   "source": [
    "# Complétez le code ci-dessous\n",
    "df_F_cardiaques = df_prediction[(df_prediction['Sexe'] == 'F') & (df_prediction['Maladie cardiaque'] == 1)]\n",
    "nombre_de_lignes = len(df_F_cardiaques)\n",
    "\n",
    "print(f\"Il y a {nombre_de_lignes} femmes atteintes de maladies cardiaques\")"
   ]
  },
  {
   "cell_type": "markdown",
   "metadata": {},
   "source": [
    "<u>Sélection de la population féminine **non atteinte** de maladies cardiaques</u>"
   ]
  },
  {
   "cell_type": "markdown",
   "metadata": {},
   "source": [
    "**Filtrez les personnes féminines non atteintes de maladie cardiaque.<br>\n",
    "Nous voulons un dataframe avec seulement les patientes de sexe féminin et non cardiaques.**<br>\n",
    "**Indices**: \n",
    "- Filtrer les colonnes 'Sexe' et 'Maladie cardiaque'\n",
    "- Une patiente n'est pas atteinte de maladies cardiaques si la valeur de la colonne 'Maladie cardiaque' est égale à 0"
   ]
  },
  {
   "cell_type": "markdown",
   "metadata": {},
   "source": [
    "<div class=\"alert alert-block alert-success\">\n",
    "<b>Combien il y a t-il de femmes non atteintes de maladies cardiaques ?</b><br>Écrire le code permettant d'obtenir les réponses dans la cellule suivante.<br>Écrire la réponse avec la fonction 'print' écrite dans la cellule code.\n",
    "</div>"
   ]
  },
  {
   "cell_type": "code",
   "execution_count": 38,
   "metadata": {},
   "outputs": [
    {
     "name": "stdout",
     "output_type": "stream",
     "text": [
      "Il y a 143 femmes non atteintes de maladies cardiaques\n"
     ]
    }
   ],
   "source": [
    "# Complétez le code ci-dessous\n",
    "df_F_non_cardiaques = df_prediction[(df_prediction['Sexe'] == 'F') & (df_prediction['Maladie cardiaque'] == 0)]\n",
    "nombre_de_lignes = len(df_F_non_cardiaques)\n",
    "\n",
    "print(f\"Il y a {nombre_de_lignes} femmes non atteintes de maladies cardiaques\")"
   ]
  },
  {
   "cell_type": "markdown",
   "metadata": {},
   "source": [
    "<div class=\"alert alert-block alert-success\">\n",
    "<b>Que pouvez-vous conclure par rapport au nombre de femmes atteintes versus celles qui ne sont pas atteintes de maladies cardiaques ?</b><br>Écrire la réponse dans la cellule suivante.\n",
    "</div>"
   ]
  },
  {
   "cell_type": "markdown",
   "metadata": {},
   "source": [
    "**Écrire votre réponse dans cette cellule :\n",
    "\n",
    "Conclusion (F atteintes vs non atteintes): Les patientes atteintes de maladies cardiaques sont moins nombreuses que celles sans maladies cardiaques."
   ]
  },
  {
   "cell_type": "markdown",
   "metadata": {},
   "source": [
    "<div class=\"alert alert-block alert-success\">\n",
    "<b>Quelle est la moyenne du cholestérol pour les personnes (Hommes et Femmes) atteintes de maladies cardiaques ?</b><br>Écrire le code permettant d'obtenir la réponse dans la cellule suivante. Pour ce faire: <br>\n",
    "- Définissez une fonction qui prend un dataframe en paramètre et qui retourne la moyenne du cholestérol pour ce dataframe.<br>\n",
    "- Utilisez une boucle pour effectuer votre calcul dans la fonction.<br>\n",
    "- Utilisez cette fonction avec le dataframe contenant seulement les personnes atteintes de maladies cardiaques et affichez le résultat avec un `print`.\n",
    "</div>"
   ]
  },
  {
   "cell_type": "code",
   "execution_count": 39,
   "metadata": {},
   "outputs": [
    {
     "name": "stdout",
     "output_type": "stream",
     "text": [
      "La moyenne du cholestérol des patients atteints de maladies cardiaques est de 359.25 mg/dl\n"
     ]
    }
   ],
   "source": [
    "# Complétez le code de la fonction\n",
    "def calcul_moyenne_cholesterol(donnees):\n",
    "    somme_cholesterol = 0\n",
    "    for cholesterol in df_prediction[\"Cholestérol\"]:\n",
    "        somme_cholesterol = somme_cholesterol + cholesterol\n",
    "\n",
    "    return somme_cholesterol/len(donnees)\n",
    "\n",
    "# Appel de la fonction\n",
    "moyenne_cholesterol = calcul_moyenne_cholesterol(df_cardiaques)\n",
    "print(f\"La moyenne du cholestérol des patients atteints de maladies cardiaques est de {round(moyenne_cholesterol,2)} mg/dl\")"
   ]
  },
  {
   "cell_type": "markdown",
   "metadata": {},
   "source": [
    "**Vérifiez votre résultat avec la fonction 'describe()'**<br>. Écrire votre code dans la cellule suivante."
   ]
  },
  {
   "cell_type": "code",
   "execution_count": 40,
   "metadata": {},
   "outputs": [
    {
     "data": {
      "text/html": [
       "<div>\n",
       "<style scoped>\n",
       "    .dataframe tbody tr th:only-of-type {\n",
       "        vertical-align: middle;\n",
       "    }\n",
       "\n",
       "    .dataframe tbody tr th {\n",
       "        vertical-align: top;\n",
       "    }\n",
       "\n",
       "    .dataframe thead th {\n",
       "        text-align: right;\n",
       "    }\n",
       "</style>\n",
       "<table border=\"1\" class=\"dataframe\">\n",
       "  <thead>\n",
       "    <tr style=\"text-align: right;\">\n",
       "      <th></th>\n",
       "      <th>Âge</th>\n",
       "      <th>Pression artérielle au repos</th>\n",
       "      <th>Cholestérol</th>\n",
       "      <th>Glycémie à jeun</th>\n",
       "      <th>Fréquence cardiaque maximale</th>\n",
       "      <th>Oldpeak</th>\n",
       "      <th>Maladie cardiaque</th>\n",
       "    </tr>\n",
       "  </thead>\n",
       "  <tbody>\n",
       "    <tr>\n",
       "      <th>count</th>\n",
       "      <td>918.000000</td>\n",
       "      <td>918.000000</td>\n",
       "      <td>918.000000</td>\n",
       "      <td>918.000000</td>\n",
       "      <td>918.000000</td>\n",
       "      <td>918.000000</td>\n",
       "      <td>918.000000</td>\n",
       "    </tr>\n",
       "    <tr>\n",
       "      <th>mean</th>\n",
       "      <td>53.510893</td>\n",
       "      <td>132.396514</td>\n",
       "      <td>198.799564</td>\n",
       "      <td>0.233115</td>\n",
       "      <td>136.809368</td>\n",
       "      <td>0.887364</td>\n",
       "      <td>0.553377</td>\n",
       "    </tr>\n",
       "    <tr>\n",
       "      <th>std</th>\n",
       "      <td>9.432617</td>\n",
       "      <td>18.514154</td>\n",
       "      <td>109.384145</td>\n",
       "      <td>0.423046</td>\n",
       "      <td>25.460334</td>\n",
       "      <td>1.066570</td>\n",
       "      <td>0.497414</td>\n",
       "    </tr>\n",
       "    <tr>\n",
       "      <th>min</th>\n",
       "      <td>28.000000</td>\n",
       "      <td>0.000000</td>\n",
       "      <td>0.000000</td>\n",
       "      <td>0.000000</td>\n",
       "      <td>60.000000</td>\n",
       "      <td>-2.600000</td>\n",
       "      <td>0.000000</td>\n",
       "    </tr>\n",
       "    <tr>\n",
       "      <th>25%</th>\n",
       "      <td>47.000000</td>\n",
       "      <td>120.000000</td>\n",
       "      <td>173.250000</td>\n",
       "      <td>0.000000</td>\n",
       "      <td>120.000000</td>\n",
       "      <td>0.000000</td>\n",
       "      <td>0.000000</td>\n",
       "    </tr>\n",
       "    <tr>\n",
       "      <th>50%</th>\n",
       "      <td>54.000000</td>\n",
       "      <td>130.000000</td>\n",
       "      <td>223.000000</td>\n",
       "      <td>0.000000</td>\n",
       "      <td>138.000000</td>\n",
       "      <td>0.600000</td>\n",
       "      <td>1.000000</td>\n",
       "    </tr>\n",
       "    <tr>\n",
       "      <th>75%</th>\n",
       "      <td>60.000000</td>\n",
       "      <td>140.000000</td>\n",
       "      <td>267.000000</td>\n",
       "      <td>0.000000</td>\n",
       "      <td>156.000000</td>\n",
       "      <td>1.500000</td>\n",
       "      <td>1.000000</td>\n",
       "    </tr>\n",
       "    <tr>\n",
       "      <th>max</th>\n",
       "      <td>77.000000</td>\n",
       "      <td>200.000000</td>\n",
       "      <td>603.000000</td>\n",
       "      <td>1.000000</td>\n",
       "      <td>202.000000</td>\n",
       "      <td>6.200000</td>\n",
       "      <td>1.000000</td>\n",
       "    </tr>\n",
       "  </tbody>\n",
       "</table>\n",
       "</div>"
      ],
      "text/plain": [
       "              Âge  Pression artérielle au repos  Cholestérol  Glycémie à jeun  \\\n",
       "count  918.000000                    918.000000   918.000000       918.000000   \n",
       "mean    53.510893                    132.396514   198.799564         0.233115   \n",
       "std      9.432617                     18.514154   109.384145         0.423046   \n",
       "min     28.000000                      0.000000     0.000000         0.000000   \n",
       "25%     47.000000                    120.000000   173.250000         0.000000   \n",
       "50%     54.000000                    130.000000   223.000000         0.000000   \n",
       "75%     60.000000                    140.000000   267.000000         0.000000   \n",
       "max     77.000000                    200.000000   603.000000         1.000000   \n",
       "\n",
       "       Fréquence cardiaque maximale     Oldpeak  Maladie cardiaque  \n",
       "count                    918.000000  918.000000         918.000000  \n",
       "mean                     136.809368    0.887364           0.553377  \n",
       "std                       25.460334    1.066570           0.497414  \n",
       "min                       60.000000   -2.600000           0.000000  \n",
       "25%                      120.000000    0.000000           0.000000  \n",
       "50%                      138.000000    0.600000           1.000000  \n",
       "75%                      156.000000    1.500000           1.000000  \n",
       "max                      202.000000    6.200000           1.000000  "
      ]
     },
     "execution_count": 40,
     "metadata": {},
     "output_type": "execute_result"
    }
   ],
   "source": [
    "# Votre code ici\n",
    "df_prediction.describe()\n"
   ]
  },
  {
   "cell_type": "markdown",
   "metadata": {},
   "source": [
    "### Partie 2. Visualiser graphiquement les données des patients (Matplotlib)"
   ]
  },
  {
   "cell_type": "markdown",
   "metadata": {},
   "source": [
    "<div class=\"alert alert-block alert-success\">\n",
    "<b>Entre les hommes et les femmes quel genre est plus nombreux parmis les patients ?</b><br>Écrire le code permettant de créer un <b>un diagramme à barres pour montrer le nombre de patients masculins et féminins.</b>, dans la cellule suivante.\n",
    "</div>"
   ]
  },
  {
   "cell_type": "code",
   "execution_count": 41,
   "metadata": {},
   "outputs": [
    {
     "data": {
      "text/plain": [
       "Sexe\n",
       "M    725\n",
       "F    193\n",
       "Name: count, dtype: int64"
      ]
     },
     "execution_count": 41,
     "metadata": {},
     "output_type": "execute_result"
    }
   ],
   "source": [
    "nombre_patients = df_prediction['Sexe'].value_counts()\n",
    "nombre_patients"
   ]
  },
  {
   "cell_type": "code",
   "execution_count": 42,
   "metadata": {},
   "outputs": [
    {
     "data": {
      "image/png": "[encoded data removed]",
      "text/plain": [
       "<Figure size 1000x600 with 1 Axes>"
      ]
     },
     "metadata": {},
     "output_type": "display_data"
    }
   ],
   "source": [
    "# Complétez le code du graphique\n",
    "# Graphique 1: Diagramme à barres du nombre de patients par sexe\n",
    "\n",
    "# Compter le nombre de patients par sexe\n",
    "nombre_patients = df_prediction['Sexe'].value_counts()\n",
    "\n",
    "# Créer le diagramme à barres\n",
    "plt.figure(figsize=(10, 6))\n",
    "plt.bar(nombre_patients.index,nombre_patients.values, color=['blue', 'pink'])\n",
    "plt.xlabel('Sexe')\n",
    "plt.ylabel('Nombre de patients')\n",
    "plt.title('Nombre de patients par sexe')\n",
    "plt.grid(True)\n",
    "plt.show()"
   ]
  },
  {
   "cell_type": "markdown",
   "metadata": {},
   "source": [
    "<div class=\"alert alert-block alert-success\">\n",
    "<b>Quel est la tranche d'âges de la majorité des patients ?</b><br>Écrire le code permettant de créer un <b>histogramme pour visualiser la répartition des âges des patients</b>, dans la cellule suivante.\n",
    "</div>"
   ]
  },
  {
   "cell_type": "code",
   "execution_count": 43,
   "metadata": {},
   "outputs": [
    {
     "data": {
      "image/png": "[encoded data removed]",
      "text/plain": [
       "<Figure size 1000x600 with 1 Axes>"
      ]
     },
     "metadata": {},
     "output_type": "display_data"
    }
   ],
   "source": [
    "# Complétez le code du graphique\n",
    "# Graphique 2: Histogramme de la répartition des âges\n",
    "\n",
    "plt.figure(figsize=(10, 6))\n",
    "# Les âges\n",
    "plt.hist(df_prediction['Âge'], bins=10, edgecolor='black')\n",
    "plt.xlabel('Âge')\n",
    "plt.ylabel('Nombre de patients')\n",
    "plt.title('Répartition des âges des patients')\n",
    "plt.grid(True)\n",
    "plt.show()\n"
   ]
  },
  {
   "cell_type": "markdown",
   "metadata": {},
   "source": [
    "<div class=\"alert alert-block alert-success\">\n",
    "<b>Quelle est la distribution des âges, entre les patients atteints et ceux pas atteints de maladies cardiaque ?</b><br>Écrire le code permettant de créer un <b>un histogramme pour montrer la distribution des patients atteints vs non atteints.</b>, dans la cellule suivante.\n",
    "</div>"
   ]
  },
  {
   "cell_type": "code",
   "execution_count": 44,
   "metadata": {},
   "outputs": [
    {
     "data": {
      "image/png": "[encoded data removed]",
      "text/plain": [
       "<Figure size 640x480 with 1 Axes>"
      ]
     },
     "metadata": {},
     "output_type": "display_data"
    }
   ],
   "source": [
    "# Complétez le code du graphique\n",
    "# Graphique 3: Histogramme de la distribution des âges selon qu'ils sont atteints ou non\n",
    "\n",
    "# Créer une liste contenant l'age des patients atteints\n",
    "liste_age_atteints = df_cardiaques['Âge'].values.tolist()\n",
    "\n",
    "# Créer une liste contenant l'age des patients non atteints\n",
    "liste_age_non_atteints = df_cardiaques['Âge'].values.tolist()\n",
    "\n",
    "# Créer l'histogramme\n",
    "plt.hist([ liste_age_atteints, liste_age_non_atteints ], bins=10, color=['skyblue', 'salmon'], edgecolor='black', label=['Atteints', 'Non atteints'])\n",
    "\n",
    "# Ajouter des titres et des labels\n",
    "plt.title('Distribution de l\\'âge')\n",
    "plt.xlabel('Âge')\n",
    "plt.ylabel('Nombre de patients')\n",
    "plt.legend()\n",
    "\n",
    "# Afficher le graphique\n",
    "plt.show()\n"
   ]
  },
  {
   "cell_type": "markdown",
   "metadata": {},
   "source": [
    "<div class=\"alert alert-block alert-success\">\n",
    "<b>Quel est le type de douleur thoracique le plus fréquent parmis les patients ?</b><br>Écrire le code permettant de créer un <b>un diagramme en secteurs pour visualiser la répartition des types de douleur thoracique parmi les patients.</b>, dans la cellule suivante.\n",
    "</div>"
   ]
  },
  {
   "cell_type": "code",
   "execution_count": 45,
   "metadata": {},
   "outputs": [
    {
     "data": {
      "image/png": "[encoded data removed]",
      "text/plain": [
       "<Figure size 1000x600 with 1 Axes>"
      ]
     },
     "metadata": {},
     "output_type": "display_data"
    }
   ],
   "source": [
    "# Complétez le code du graphique\n",
    "# Graphique 4: Diagramme en secteurs du type de douleur thoracique\n",
    "\n",
    "# Compter le nombre de patients par type de douleur thoracique\n",
    "nb_patients = df_prediction['Type de douleur thoracique'].value_counts()\n",
    "secteur = (0, 0, 0, 0.2) # Écarte le 4e secteur\n",
    "# Créer le diagramme en secteurs\n",
    "plt.figure(figsize=(10, 6))\n",
    "plt.pie(nb_patients.values, explode=secteur, labels= nb_patients.index, autopct='%1.1f%%', startangle=140)\n",
    "plt.title('Répartition des types de douleur thoracique')\n",
    "plt.axis('equal')  # Assurer que le diagramme est circulaire\n",
    "plt.show()"
   ]
  },
  {
   "cell_type": "markdown",
   "metadata": {},
   "source": [
    "<div class=\"alert alert-block alert-success\">\n",
    "<b>Quel est la tranche d'âge des paptients qui ont la fréquence cardiaque maximale parmis les patients ?</b><br>Écrire le code permettant de créer un <b>un Nuage de points de la fréquence cardiaque maximale en fonction de l'âge.</b>, dans la cellule suivante.\n",
    "</div>"
   ]
  },
  {
   "cell_type": "code",
   "execution_count": 46,
   "metadata": {},
   "outputs": [
    {
     "data": {
      "image/png": "[encoded data removed]",
      "text/plain": [
       "<Figure size 1000x600 with 1 Axes>"
      ]
     },
     "metadata": {},
     "output_type": "display_data"
    }
   ],
   "source": [
    "# Complétez le code du graphique\n",
    "# Graphique 5: # Créer le nuage de points\n",
    "\n",
    "plt.figure(figsize=(10, 6))\n",
    "plt.scatter(df_prediction['Âge'], df_prediction['Pression artérielle au repos'], alpha=0.7) # RestingBP\n",
    "plt.xlabel('Âge')\n",
    "plt.ylabel('Fréquence cardiaque maximale')\n",
    "plt.title('Relation entre l\\'âge et la fréquence cardiaque maximale')\n",
    "plt.grid(True)\n",
    "plt.show()"
   ]
  },
  {
   "cell_type": "markdown",
   "metadata": {},
   "source": [
    "<div class=\"alert alert-block alert-success\">\n",
    "<b>Quel est la tranche d'âge des patients qui ont la un taux de cholestérol élevé parmis les patients ?</b><br>Écrire le code permettant de créer un <b>nuage de points pour visualiser la relation entre l'âge et le cholestérol chez les patients atteints.</b>, dans la cellule suivante.\n",
    "</div>"
   ]
  },
  {
   "cell_type": "code",
   "execution_count": 47,
   "metadata": {},
   "outputs": [
    {
     "data": {
      "image/png": "[encoded data removed]",
      "text/plain": [
       "<Figure size 640x480 with 1 Axes>"
      ]
     },
     "metadata": {},
     "output_type": "display_data"
    }
   ],
   "source": [
    "# Complétez le code du graphique\n",
    "# Graphique 6: Nuage de points relation âge et taux de cholestérol\n",
    "\n",
    "# Créer une liste contenant le taux de cholestérol des patients atteints\n",
    "liste_cholesterol_atteints = df_cardiaques['Cholestérol'].values.tolist()\n",
    "\n",
    "# Créer le nuage de points\n",
    "plt.scatter(liste_age_atteints, liste_cholesterol_atteints, color='red')\n",
    "\n",
    "# Ajouter des titres et des labels\n",
    "plt.title('Âge vs Cholestérol')\n",
    "plt.xlabel('Âge')\n",
    "plt.ylabel('Cholestérol')\n",
    "\n",
    "# Afficher le graphique\n",
    "plt.show()"
   ]
  },
  {
   "cell_type": "markdown",
   "metadata": {},
   "source": [
    "### Partie 3. Analyse statistiques (NumPy)"
   ]
  },
  {
   "cell_type": "markdown",
   "metadata": {},
   "source": [
    "<div class=\"alert alert-block alert-success\">\n",
    "<b>Calcul de la moyenne et de l'écart-type de l'âge des patients</b><br>Écrire le code NumPy dans la cellule suivante.\n",
    "</div>"
   ]
  },
  {
   "cell_type": "code",
   "execution_count": 48,
   "metadata": {},
   "outputs": [
    {
     "name": "stdout",
     "output_type": "stream",
     "text": [
      "Moyenne de l'âge des patients : 53.51\n",
      "Écart-type de l'âge des patients : 9.43\n"
     ]
    }
   ],
   "source": [
    "# Complétez le code\n",
    "\n",
    "# Extraire les âges des patients\n",
    "ages = df_prediction['Âge'].values\n",
    "\n",
    "# Calculer la moyenne et l'écart-type sur les âges\n",
    "moyenne_age = np.mean(ages)\n",
    "ecart_type_age = np.std(ages)\n",
    "\n",
    "print(f\"Moyenne de l'âge des patients : {round(moyenne_age,2)}\")\n",
    "print(f\"Écart-type de l'âge des patients : {round(ecart_type_age,2)}\")"
   ]
  },
  {
   "cell_type": "markdown",
   "metadata": {},
   "source": [
    "<div class=\"alert alert-block alert-success\">\n",
    "<b>Calcul de la pression artérielle moyenne au repos par sexe</b><br>Écrire le code NumPy dans la cellule suivante.\n",
    "</div>"
   ]
  },
  {
   "cell_type": "code",
   "execution_count": 49,
   "metadata": {},
   "outputs": [
    {
     "name": "stdout",
     "output_type": "stream",
     "text": [
      "Pression artérielle moyenne au repos (Hommes) : 132.21\n",
      "Pression artérielle moyenne au repos (Femmes) : 132.21\n"
     ]
    }
   ],
   "source": [
    "# Complétez le code\n",
    "\n",
    "# Extraire les pressions artérielles au repos par sexe\n",
    "pression_homme = df_prediction[df_prediction['Sexe'] == 'F']['Pression artérielle au repos'].values # RestingECG\n",
    "pression_femme = df_prediction[df_prediction['Sexe'] == 'F']['Pression artérielle au repos'].values # RestingECG\n",
    "\n",
    "# Calculer la moyenne pour chaque sexe\n",
    "moyenne_pression_homme = np.mean(pression_homme)\n",
    "moyenne_pression_femme = np.mean(pression_femme)\n",
    "\n",
    "print(f\"Pression artérielle moyenne au repos (Hommes) : {round(moyenne_pression_homme,2)}\")\n",
    "print(f\"Pression artérielle moyenne au repos (Femmes) : {round(moyenne_pression_femme,2)}\")"
   ]
  },
  {
   "cell_type": "markdown",
   "metadata": {},
   "source": [
    "<div class=\"alert alert-block alert-success\">\n",
    "<b>Calcul de la médiane du cholestérol</b><br>Écrire le code NumPy dans la cellule suivante.\n",
    "</div>"
   ]
  },
  {
   "cell_type": "code",
   "execution_count": 50,
   "metadata": {},
   "outputs": [
    {
     "name": "stdout",
     "output_type": "stream",
     "text": [
      "[289. 180. 283. 214. 195. 339. 237. 208. 207. 284. 211. 164. 204. 234.\n",
      " 211. 273. 196. 201. 248. 267. 223. 184. 201. 288. 215. 209. 260. 284.\n",
      " 468. 188. 518. 167. 224. 172. 186. 254. 306. 250. 177. 227. 230. 294.\n",
      " 264. 259. 175. 318. 223. 216. 340. 289. 233. 205. 224. 245. 180. 194.\n",
      " 270. 213. 365. 342. 253. 254. 224. 277. 202. 260. 297. 225. 246. 412.\n",
      " 265. 215. 182. 218. 268. 163. 529. 167. 100. 206. 277. 238. 223. 196.\n",
      " 213. 139. 263. 216. 291. 229. 208. 307. 210. 329. 182. 263. 207. 147.\n",
      "  85. 269. 275. 179. 392. 466. 186. 260. 254. 214. 129. 241. 188. 255.\n",
      " 276. 297. 207. 246. 282. 338. 160. 156. 248. 272. 240. 393. 230. 246.\n",
      " 161. 163. 230. 228. 292. 202. 388. 230. 294. 265. 215. 241. 166. 247.\n",
      " 331. 341. 291. 243. 279. 273. 198. 249. 168. 603. 215. 159. 275. 270.\n",
      " 291. 342. 190. 185. 290. 195. 264. 212. 263. 196. 225. 272. 231. 238.\n",
      " 222. 179. 243. 235. 320. 187. 266. 288. 216. 287. 194. 238. 225. 224.\n",
      " 404. 238. 312. 211. 251. 237. 328. 285. 280. 209. 245. 192. 184. 193.\n",
      " 297. 268. 246. 308. 249. 230. 147. 219. 184. 215. 308. 257. 132. 216.\n",
      " 263. 288. 276. 219. 226. 237. 280. 217. 196. 263. 222. 303. 195. 298.\n",
      " 256. 264. 195. 117. 295. 173. 315. 281. 275. 250. 309. 200. 336. 295.\n",
      " 355. 193. 326. 198. 292. 266. 268. 171. 237. 275. 219. 341. 491. 260.\n",
      " 292. 271. 248. 274. 394. 160. 200. 320. 275. 221. 231. 126. 193. 305.\n",
      " 298. 220. 242. 235. 225. 198. 201. 220. 295. 213. 160. 223. 347. 253.\n",
      " 246. 222. 220. 344. 358. 190. 169. 181. 308. 166. 211. 257. 182.   0.\n",
      "   0.   0.   0.   0.   0.   0.   0.   0.   0.   0.   0.   0.   0.   0.\n",
      "   0.   0.   0.   0.   0.   0.   0.   0.   0.   0.   0.   0.   0.   0.\n",
      "   0.   0.   0.   0.   0.   0.   0.   0.   0.   0.   0.   0.   0.   0.\n",
      "   0.   0.   0.   0.   0.   0.   0.   0.   0.   0.   0.   0.   0.   0.\n",
      "   0.   0.   0.   0.   0.   0.   0.   0.   0.   0.   0.   0.   0.   0.\n",
      "   0.   0.   0.   0.   0.   0.   0.   0.   0.   0.   0.   0.   0.   0.\n",
      "   0.   0.   0.   0.   0.   0.   0.   0.   0.   0.   0.   0.   0.   0.\n",
      "   0.   0.   0.   0.   0.   0.   0.   0.   0.   0.   0.   0.   0.   0.\n",
      "   0.   0.   0.   0.   0.   0.   0.   0.   0.   0. 260. 209. 218. 228.\n",
      " 213.   0. 236.   0.   0. 267. 166.   0.   0.   0.   0. 220. 177. 236.\n",
      "   0.   0.   0.   0.   0.   0.   0.   0.   0. 186. 100. 228.   0. 171.\n",
      " 230.   0.   0.   0. 281.   0. 203.   0.   0.   0.   0.   0. 277.   0.\n",
      " 233.   0.   0. 240.   0.   0. 153. 224.   0.   0.   0. 316.   0.   0.\n",
      " 218.   0. 311.   0.   0.   0. 270.   0.   0. 217. 214. 214. 252. 220.\n",
      " 214. 203.   0. 339. 216. 276. 458. 241. 384. 297. 248. 308. 208. 227.\n",
      " 210. 245. 225. 240.   0. 198. 195. 267. 161. 258.   0.   0. 195. 235.\n",
      "   0. 305. 223. 282. 349. 160. 160. 236. 312. 283. 142. 211. 218. 306.\n",
      " 186. 252. 222.   0.   0. 258. 202. 197. 204. 113. 274. 192. 298. 272.\n",
      " 220. 200. 261. 181. 260. 220. 221. 216. 175. 219. 310. 208. 232. 273.\n",
      " 203. 182. 274. 204. 270. 292. 171. 221. 289. 217. 223. 110. 193. 123.\n",
      " 210. 282. 170. 369. 173. 289. 152. 208. 216. 271. 244. 285. 243. 240.\n",
      " 219. 237. 165. 213. 287. 258. 256. 186. 264. 185. 226. 203. 207. 284.\n",
      " 337. 310. 254. 258. 254. 300. 170. 310. 333. 139. 223. 385. 254. 322.\n",
      " 564. 261. 263. 269. 177. 256. 239. 293. 407. 234. 226. 235. 234. 303.\n",
      " 149. 311. 203. 211. 199. 229. 245. 303. 204. 288. 275. 243. 295. 230.\n",
      " 265. 229. 228. 215. 326. 200. 256. 207. 273. 180. 222. 223. 209. 233.\n",
      " 197. 218. 211. 149. 197. 246. 225. 315. 205. 417. 195. 234. 198. 166.\n",
      " 178. 249. 281. 126. 305. 226. 240. 233. 276. 261. 319. 242. 243. 260.\n",
      " 354. 245. 197. 223. 309. 208. 199. 209. 236. 218. 198. 270. 214. 201.\n",
      " 244. 208. 270. 306. 243. 221. 330. 266. 206. 212. 275. 302. 234. 313.\n",
      " 244. 141. 237. 269. 289. 254. 274. 222. 258. 177. 160. 327. 235. 305.\n",
      " 304. 295. 271. 249. 288. 226. 283. 188. 286. 274. 360. 273. 201. 267.\n",
      " 196. 201. 230. 269. 212. 226. 246. 232. 177. 277. 249. 210. 207. 212.\n",
      " 271. 233. 213. 283. 282. 230. 167. 224. 268. 250. 219. 267. 303. 256.\n",
      " 204. 217. 308. 193. 228. 231. 244. 262. 259. 211. 325. 254. 197. 236.\n",
      " 282. 234. 254. 299. 211. 182. 294. 298. 231. 254. 196. 240. 409. 172.\n",
      " 265. 246. 315. 184. 233. 394. 269. 239. 174. 309. 282. 255. 250. 248.\n",
      " 214. 239. 304. 277. 300. 258. 299. 289. 298. 318. 240. 309. 250. 288.\n",
      " 245. 213. 216. 204. 204. 252. 227. 258. 220. 239. 254. 168. 330. 183.\n",
      " 203. 263. 341. 283. 186. 307. 219. 260. 255. 231. 164. 234. 177. 257.\n",
      " 325. 274. 321. 264. 268. 308. 253. 248. 269. 185. 282. 188. 219. 290.\n",
      " 175. 212. 302. 243. 353. 335. 247. 340. 206. 284. 266. 229. 199. 263.\n",
      " 294. 192. 286. 216. 223. 247. 204. 204. 227. 278. 220. 232. 197. 335.\n",
      " 253. 205. 192. 203. 318. 225. 220. 221. 240. 212. 342. 169. 187. 197.\n",
      " 157. 176. 241. 264. 193. 131. 236. 175.]\n",
      "Médiane du cholestérol des patients : 223.0\n"
     ]
    }
   ],
   "source": [
    "# Complétez le code\n",
    "\n",
    "# Extraire les valeurs de cholestérol\n",
    "cholesterol = df_prediction['Cholestérol'].values\n",
    "print(cholesterol)\n",
    "\n",
    "# Calculer la médiane\n",
    "medianne_cholesterol = np.median(cholesterol) \n",
    "\n",
    "print(f\"Médiane du cholestérol des patients : {medianne_cholesterol}\")"
   ]
  },
  {
   "cell_type": "markdown",
   "metadata": {},
   "source": [
    "<div class=\"alert alert-block alert-success\">\n",
    "<b>Calcul de la fréquence cardiaque maximale moyenne pour les patients avec et sans maladie cardiaque.</b><br>Écrire le code NumPy dans la cellule suivante.\n",
    "</div>"
   ]
  },
  {
   "cell_type": "code",
   "execution_count": 51,
   "metadata": {},
   "outputs": [
    {
     "ename": "SyntaxError",
     "evalue": "invalid syntax (2729537059.py, line 4)",
     "output_type": "error",
     "traceback": [
      "\u001b[1;36m  Cell \u001b[1;32mIn[51], line 4\u001b[1;36m\u001b[0m\n\u001b[1;33m    hr_max_avec_maladie = df_prediction[df_prediction['Maladie cardiaque'] == ]['Fréquence cardiaque maximale'].values\u001b[0m\n\u001b[1;37m                                                                              ^\u001b[0m\n\u001b[1;31mSyntaxError\u001b[0m\u001b[1;31m:\u001b[0m invalid syntax\n"
     ]
    }
   ],
   "source": [
    "# Complétez le code\n",
    "\n",
    "# Extraire les fréquences cardiaques maximales pour chaque groupe\n",
    "hr_max_avec_maladie = df_prediction[df_prediction['Maladie cardiaque'] == ]['Fréquence cardiaque maximale'].values\n",
    "hr_max_sans_maladie = df_prediction[df_prediction['Maladie cardiaque'] == ]['Fréquence cardiaque maximale'].values\n",
    "\n",
    "# Calculer la moyenne pour chaque groupe\n",
    "moyenne_hr_max_avec_maladie = \n",
    "moyenne_hr_max_sans_maladie =\n",
    "\n",
    "print(f\"Fréquence cardiaque maximale moyenne (avec maladie cardiaque) : {round(moyenne_hr_max_avec_maladie,2)}\")\n",
    "print(f\"Fréquence cardiaque maximale moyenne (sans maladie cardiaque) : {round(moyenne_hr_max_sans_maladie,2)}\")"
   ]
  },
  {
   "cell_type": "markdown",
   "metadata": {},
   "source": [
    "<div class=\"alert alert-block alert-success\">\n",
    "<b>Calcul de la proportion de patients ayant une angine induite par l'exercice.</b><br>Écrire le code NumPy dans la cellule suivante.\n",
    "</div>"
   ]
  },
  {
   "cell_type": "code",
   "execution_count": null,
   "metadata": {},
   "outputs": [],
   "source": [
    "# Complétez le code\n",
    "\n",
    "# Extraire les valeurs d'angine induite par l'exercice\n",
    "angine_par_exercice = df_prediction[''].values\n",
    "\n",
    "# Calculer la proportion\n",
    "proportion_angine = np.  (angine_par_exercice == 'Y') / len(angine_par_exercice)\n",
    "\n",
    "print(f\"Proportion de patients ayant une angine induite par l'exercice : {round(proportion_angine,2)}\")"
   ]
  },
  {
   "cell_type": "markdown",
   "metadata": {},
   "source": [
    "<div class=\"alert alert-block alert-success\">\n",
    "<b>Calcul de la Régression linéaire qui relie l’âge et le taux de cholestérol pour les personnes de 70 ans et plus</b><br>Écrire le code NumPy dans la cellule suivante.\n",
    "</div>"
   ]
  },
  {
   "cell_type": "code",
   "execution_count": null,
   "metadata": {},
   "outputs": [],
   "source": [
    "# Complétez le code\n",
    "\n",
    "# Filtrer les âges de 70 ans et plus\n",
    "df_45_65 = df_prediction[(df_prediction['Âge'] )]\n",
    "\n",
    "# Extraction des âges et des taux de cholestérol dans des tableaux NumPy\n",
    "df_ages = df_45_65['Âge'].\n",
    "df_cholesterol = df_45_65['Cholestérol'].\n",
    "\n",
    "# Calcul de la droite de régression linéaire\n",
    "coefficients = np.polyfit(df_ages, df_cholesterol, 1)\n",
    "polynomial = np.poly1d(coefficients)\n",
    "regression_line = polynomial(df_ages)\n",
    "\n",
    "# Tracer les points de données et la droite de régression\n",
    "plt.scatter(df_ages, df_cholesterol, color='blue', label='Données')\n",
    "plt.plot(df_ages, regression_line, color='red', label='Droite de régression')\n",
    "\n",
    "# Ajouter des labels et un titre\n",
    "plt.xlabel(\"Âge\")\n",
    "plt.ylabel(\"Cholestérol\")\n",
    "plt.title(\"Relation entre l'âge et le cholestérol (70 ans et plus)\")\n",
    "plt.legend()\n",
    "\n",
    "# Afficher le graphique\n",
    "plt.show()"
   ]
  },
  {
   "cell_type": "markdown",
   "metadata": {},
   "source": [
    "<div class=\"alert alert-block alert-success\">\n",
    "<b>Calcul du coefficient de corrélation entre l'âge et le taux de cholestérol pour les personnes de 70 ans et plus </b><br>Écrire le code NumPy dans la cellule suivante, ensuite interprétez le coefficient de corrélation et écrire en 1-2 phrases la conclusion que vous en tirez.\n",
    "</div>"
   ]
  },
  {
   "cell_type": "code",
   "execution_count": null,
   "metadata": {},
   "outputs": [],
   "source": [
    "# Complétez le code\n",
    "x = \n",
    "y = \n",
    "matrice_correlation = \n",
    "print(matrice_correlation)\n"
   ]
  },
  {
   "cell_type": "markdown",
   "metadata": {},
   "source": [
    "**Écrire votre réponse dans cette cellule :** (Double-cliquez dessus pour écrire votre réponse)<br>\n",
    "Interprétation du coefficient de correlation:  "
   ]
  }
 ],
 "metadata": {
  "kernelspec": {
   "display_name": "Python 3",
   "language": "python",
   "name": "python3"
  },
  "language_info": {
   "codemirror_mode": {
    "name": "ipython",
    "version": 3
   },
   "file_extension": ".py",
   "mimetype": "text/x-python",
   "name": "python",
   "nbconvert_exporter": "python",
   "pygments_lexer": "ipython3",
   "version": "3.11.3"
  }
 },
 "nbformat": 4,
 "nbformat_minor": 4
}
