{
 "cells": [
  {
   "cell_type": "markdown",
   "metadata": {},
   "source": [
    "<center>\n",
    "    <h1>Projet : <br>Analyse de données scientifiques</h1>\n",
    "</center>\n",
    "<center>\n",
    "    <img src=\"https://encrypted-tbn0.gstatic.com/images?q=tbn:ANd9GcTGHi3NlJxV9Q1SibJbhG_vyxDkDdFtZTCk6w&salt=\" alt=\"Prédiction d'insuffisance cardiaque\" width=\"200\">\n",
    "</center>"
   ]
  },
  {
   "cell_type": "markdown",
   "metadata": {},
   "source": [
    "<div class=\"alert alert-block alert-success\">\n",
    "<h3>Contexte</h3>\n",
    "\n",
    "Les maladies cardiovasculaires (MCV) sont responsables de millions de décès chaque année.\n",
    "Dans ce projet, vous avez été mandatés par une équipe de recherche pour utiliser vos compétences en Python et les bibliothèques pandas, matplotlib et numpy afin de créer un programme capable de prédire les risques de maladies cardiaques en analysant 11 caractéristiques clés, comme l’âge, le sexe, et la pression artérielle. <br>\n",
    "Votre mission ? Sauver des vies en détectant précocement les risques cardiovasculaires et en aidant à prévenir les crises cardiaques et les accidents vasculaires cérébraux. Vous allez travailler avec un jeu de données pour explorer différentes analyses et visualisations.\n",
    "\n",
    "<h3>Objectif</h3>\n",
    "\n",
    "L'objectif de ce projet est de démontrer comment les techniques de programmation et d'analyse de données peuvent être appliquées pour résoudre des problèmes de santé publique. En identifiant précocement les individus à risque, ce modèle pourrait contribuer à une meilleure gestion et prévention des maladies cardiovasculaires, améliorant ainsi la qualité de vie et réduisant le taux de mortalité lié à ces affections.\n",
    "\n",
    "Ce projet mettra en lumière l'importance de l'interdisciplinarité entre les sciences de la nature et l'informatique, en montrant comment les compétences en programmation peuvent être utilisées pour des applications pratiques et bénéfiques dans le domaine de la santé.\n",
    "\n",
    "<h3>Parties du projet</h3>\n",
    "\n",
    "1.\t**Partie 1** : Importer et préparer les données, extraire des informations clés pour effectuer des analyses pertinentes. (<b>Pandas</b>)\n",
    "2.\t**Partie 2** : Visualiser les données sous forme de graphiques, pour en faciliter l'interprétation. (<b>Matplotlib</b>)\n",
    "3.\t**Partie 3** : Analyser les résultats et en tirer des conclusions. (<b>NumPy</b>)\n",
    "</div>\n",
    "<h3>Livrables</h3>\n",
    "<div class=\"alert alert-block alert-danger\">\n",
    "<ul>\n",
    "    <li>Vous devrez remettre un seul fichier Jupyter Notebook (<b>PrenomNom_projet.ipynb</b>) contenant tout le code, les analyses et les visualisations et le fichier de données (<b>.csv</b>).</li>\n",
    "    <li><b>À la fin de chaque séance</b>, vous devez remettre votre travail (fichiers .ipynb et .csv) dans la boîte de remise prévue à cet effet sur Moodle.</li>\n",
    "    <li>Vous pourrez continuer à travailler sur votre projet entre chaque séance, mais la boite de remise sera fermée. </li>\n",
    "    <li>Ces remises sont des points de contrôle.</li>\n",
    "</ul>\n",
    "</div>\n",
    "<h3>Présentation des données</h3>\n",
    "<div class=\"alert alert-block alert-success\">\n",
    "Les données de l’expérience sont dans le fichier prediction_cardiaque.csv. Voici la description des données s’y trouvant. Ce fichier contient les données de patients à travers le monde.\n",
    "<ul>\n",
    "     <li><b>Âge du patient</b>:  en années</li>\n",
    "     <li><b>Sexe du patient</b> : M : Masculin, F : Féminin</li>\n",
    "     <li><b>Type de douleur thoracique </b>: TA : Angine Typique, ATA : Angine Atypique, NAP : Douleur Non Angineuse, ASY : Asymptomatique</li>\n",
    "     <li><b>Pression artérielle au repos</b> : pression artérielle au repos (en mm Hg)</li>\n",
    "     <li><b>Cholestérol</b> : cholestérol sérique (en mg/dl)</li>\n",
    "     <li><b>Glycémie à jeun</b> : 1 : si Glycémie à jeun > 120 mg/dl, 0 : sinon</li>\n",
    "     <li><b>Résultats de l’ECG au repos</b> : Normal : Normal, ST : anomalie de l’onde ST-T (inversions de l’onde T et/ou élévation ou dépression du segment ST de > 0,05 mV), LVH : hypertrophie ventriculaire gauche probable ou certaine selon les critères d’Estes</li>\n",
    "     <li><b>Fréquence cardiaque maximale atteinte</b>: valeur numérique entre 60 et 202</li>\n",
    "     <li><b>Angine induite par l’exercice</b> : Y : Oui, N : Non</li>\n",
    "     <li><b>Oldpeak</b> : ST valeur numérique mesurée en dépression</li>\n",
    "     <li><b>Pente du segment ST au pic de l’exercice</b> : Up : ascendant, Flat : plat, Down : descendant</li>\n",
    "     <li><b>Maladie cardiaque</b> : classe de sortie 1 : maladie cardiaque, 0 : Normal </li>\n",
    "</ul>\n",
    "</div>"
   ]
  },
  {
   "cell_type": "markdown",
   "metadata": {},
   "source": [
    "<div class=\"alert alert-block alert-success\">\n",
    "<h3>Consignes et informations de départ pour le projet:</h3>\n",
    "<ol>\n",
    "    <li>De Moodle, télécharger sur votre ordinateur, dans le dossier réservé au projet, les deux fichiers :\n",
    "        <ul>\n",
    "            <li>Le fichier de données : insuffisance_cardiaque.csv</li>\n",
    "            <li>Le fichier de code : 420sn1_projet.ipynb</li>\n",
    "        </ul>\n",
    "    </li>\n",
    "    <li>Renommer le fichier .ipynb avec votre prénom et nom de famille (ex: <b>NathalieDesmangle_projet.ipynb</b>) </li>\n",
    "    <li>Dans le fichier de départ (ipynb) que vous allez utiliser pour ce projet, les cellules sont déjà créées et organisées dans un ordre précis. Il est essentiel que vous respectiez cet ordre et le contenu de chaque cellule. Votre tâche consiste à écrire le code dans les cellules désignées, en suivant les instructions fournies.</li> \n",
    "    <li>Faites attention à bien répondre aux bons endroits, le code python dans une cellule de CODE et les réponses textuelles dans une cellule de MARCAGE (<i><b>MARKDOWN</b></i>)</li>\n",
    "    <li>Assurez-vous que tout votre bloc note Jupyter (notebook) s’exécute correctement en une seule fois avec le bouton <b>Exécuter Tout</b> (<i><b>Run All</b></i>) de VS Code. Les cellules de code suivent un ordre, certaines reprennent le résultat d’une précédente. Faites attention à ne pas altérer les données entre deux cellules de code.</li>\n",
    "    <li>Pour vous faciliter cette tâche, utilisez régulièrement le bouton <b>Exécuter Tout</b> (<i><b>Run All</b></i>) pour vérifier que l’exécution arrive correctement là où vous êtes, n’attendez pas d’avoir tout codé pour utiliser ce bouton.</li>\n",
    "</ol>\n"
   ]
  },
  {
   "cell_type": "markdown",
   "metadata": {},
   "source": [
    "### PARTIE 1: Importation des données et extraction d'informations (Pandas)"
   ]
  },
  {
   "cell_type": "markdown",
   "metadata": {},
   "source": [
    "**Importer les bibliothèques qui seront nécessaires au projet.** <br> Écrire votre code dans la cellule suivante."
   ]
  },
  {
   "cell_type": "code",
   "execution_count": 666,
   "metadata": {
    "execution": {
     "iopub.execute_input": "2022-10-25T12:54:47.720331Z",
     "iopub.status.busy": "2022-10-25T12:54:47.718109Z",
     "iopub.status.idle": "2022-10-25T12:54:48.502285Z",
     "shell.execute_reply": "2022-10-25T12:54:48.500990Z",
     "shell.execute_reply.started": "2022-10-25T12:54:47.719992Z"
    },
    "trusted": true
   },
   "outputs": [],
   "source": [
    "# Votre code ici\n",
    "import pandas as pd\n",
    "import matplotlib.pyplot as plt\n",
    "import numpy as np"
   ]
  },
  {
   "cell_type": "markdown",
   "metadata": {},
   "source": [
    "**Écrire le code pour charger les données dans le dataframe df_prediction.** <br> Écrire votre code dans la cellule suivante."
   ]
  },
  {
   "cell_type": "code",
   "execution_count": 667,
   "metadata": {},
   "outputs": [],
   "source": [
    "# Votre code ici\n",
    "df_prediction = pd.read_csv('insuffisance_cardiaque.csv')"
   ]
  },
  {
   "cell_type": "markdown",
   "metadata": {},
   "source": [
    "**Afficher les noms des colonnes.**<br>Écrire le code dans la cellule suivante."
   ]
  },
  {
   "cell_type": "code",
   "execution_count": 668,
   "metadata": {
    "execution": {
     "iopub.execute_input": "2022-10-25T12:54:48.570535Z",
     "iopub.status.busy": "2022-10-25T12:54:48.570154Z",
     "iopub.status.idle": "2022-10-25T12:54:48.580511Z",
     "shell.execute_reply": "2022-10-25T12:54:48.579178Z",
     "shell.execute_reply.started": "2022-10-25T12:54:48.570500Z"
    },
    "trusted": true
   },
   "outputs": [
    {
     "data": {
      "text/plain": [
       "Index(['Age', 'Sex', 'ChestPainType', 'RestingBP', 'Cholesterol', 'FastingBS',\n",
       "       'RestingECG', 'MaxHR', 'ExerciseAngina', 'Oldpeak', 'ST_Slope',\n",
       "       'HeartDisease'],\n",
       "      dtype='object')"
      ]
     },
     "execution_count": 668,
     "metadata": {},
     "output_type": "execute_result"
    }
   ],
   "source": [
    "# Votre code ici\n",
    "df_prediction.columns"
   ]
  },
  {
   "cell_type": "markdown",
   "metadata": {},
   "source": [
    "<div class=\"alert alert-block alert-success\">\n",
    "    <b>Quel est le nom de la 5e colonne ?</b><br>\n",
    "</div>"
   ]
  },
  {
   "cell_type": "markdown",
   "metadata": {},
   "source": [
    "**Écrire votre réponse dans cette cellule :** (Double-cliquez dessus pour écrire votre réponse)\n"
   ]
  },
  {
   "cell_type": "markdown",
   "metadata": {},
   "source": [
    "**Modifier les noms de toutes les colonnes pour les traduire en français, tel qu'indiqué ci-dessous.** <br>Écrire le code dans la cellule suivante.  <br>\n",
    "**ATTENTION**: Vous devez obligatoirement utiliser les deux listes fournies dans le code: 'noms_actuels' et 'nouveaux_noms' et aussi une boucle.\n",
    "\n",
    "- **Age** : Âge\n",
    "- **Sex** : Sexe\n",
    "- **ChestPainType** : Type de douleur thoracique\n",
    "- **RestingBP** : Pression artérielle au repos\n",
    "- **Cholesterol** : Cholestérol\n",
    "- **FastingBS** : Glycémie à jeun\n",
    "- **RestingECG** : ECG au repos\n",
    "- **MaxHR** : Fréquence cardiaque maximale\n",
    "- **ExerciseAngina** : Angine induite par l'exercice\n",
    "- **ST_Slope** : Pente du segment ST\n",
    "- **HeartDisease** : Maladie cardiaque"
   ]
  },
  {
   "cell_type": "code",
   "execution_count": 669,
   "metadata": {},
   "outputs": [],
   "source": [
    "# Votre code ici\n",
    "\n",
    "# Liste des noms actuels des colonnes\n",
    "noms_actuels = ['Age', 'Sex', 'ChestPainType', 'RestingBP', 'Cholesterol', 'FastingBS', 'RestingECG', 'MaxHR', 'ExerciseAngina', 'ST_Slope', 'HeartDisease']\n",
    "\n",
    "# Liste des nouveaux noms des colonnes\n",
    "nouveaux_noms = ['Âge', 'Sexe', 'Type de douleur thoracique', 'Pression artérielle au repos', 'Cholestérol', 'Glycémie à jeun', 'ECG au repos', 'Fréquence cardiaque maximale', 'Angine induite par l\\'exercice', 'Pente du segment ST', 'Maladie cardiaque']\n",
    "\n",
    "# Utilisation d'une boucle for pour renommer les colonnes\n",
    "for i in range(len(noms_actuels)):\n",
    "    df_prediction = df_prediction.rename(columns={noms_actuels[i]: nouveaux_noms[i]})"
   ]
  },
  {
   "cell_type": "markdown",
   "metadata": {},
   "source": [
    "**Afficher juste les 2 premières lignes du DataFrame, pour confirmer le changement des noms des colonnes.** <br>  Écrire le code dans la cellule suivante."
   ]
  },
  {
   "cell_type": "code",
   "execution_count": 670,
   "metadata": {},
   "outputs": [
    {
     "data": {
      "text/html": [
       "<div>\n",
       "<style scoped>\n",
       "    .dataframe tbody tr th:only-of-type {\n",
       "        vertical-align: middle;\n",
       "    }\n",
       "\n",
       "    .dataframe tbody tr th {\n",
       "        vertical-align: top;\n",
       "    }\n",
       "\n",
       "    .dataframe thead th {\n",
       "        text-align: right;\n",
       "    }\n",
       "</style>\n",
       "<table border=\"1\" class=\"dataframe\">\n",
       "  <thead>\n",
       "    <tr style=\"text-align: right;\">\n",
       "      <th></th>\n",
       "      <th>Âge</th>\n",
       "      <th>Sexe</th>\n",
       "      <th>Type de douleur thoracique</th>\n",
       "      <th>Pression artérielle au repos</th>\n",
       "      <th>Cholestérol</th>\n",
       "      <th>Glycémie à jeun</th>\n",
       "      <th>ECG au repos</th>\n",
       "      <th>Fréquence cardiaque maximale</th>\n",
       "      <th>Angine induite par l'exercice</th>\n",
       "      <th>Oldpeak</th>\n",
       "      <th>Pente du segment ST</th>\n",
       "      <th>Maladie cardiaque</th>\n",
       "    </tr>\n",
       "  </thead>\n",
       "  <tbody>\n",
       "    <tr>\n",
       "      <th>0</th>\n",
       "      <td>40</td>\n",
       "      <td>M</td>\n",
       "      <td>ATA</td>\n",
       "      <td>140</td>\n",
       "      <td>289</td>\n",
       "      <td>0</td>\n",
       "      <td>Normal</td>\n",
       "      <td>172</td>\n",
       "      <td>N</td>\n",
       "      <td>0.0</td>\n",
       "      <td>Up</td>\n",
       "      <td>0</td>\n",
       "    </tr>\n",
       "    <tr>\n",
       "      <th>1</th>\n",
       "      <td>49</td>\n",
       "      <td>F</td>\n",
       "      <td>NAP</td>\n",
       "      <td>160</td>\n",
       "      <td>180</td>\n",
       "      <td>0</td>\n",
       "      <td>Normal</td>\n",
       "      <td>156</td>\n",
       "      <td>N</td>\n",
       "      <td>1.0</td>\n",
       "      <td>Flat</td>\n",
       "      <td>1</td>\n",
       "    </tr>\n",
       "  </tbody>\n",
       "</table>\n",
       "</div>"
      ],
      "text/plain": [
       "   Âge Sexe Type de douleur thoracique  Pression artérielle au repos  \\\n",
       "0   40    M                        ATA                           140   \n",
       "1   49    F                        NAP                           160   \n",
       "\n",
       "   Cholestérol  Glycémie à jeun ECG au repos  Fréquence cardiaque maximale  \\\n",
       "0          289                0       Normal                           172   \n",
       "1          180                0       Normal                           156   \n",
       "\n",
       "  Angine induite par l'exercice  Oldpeak Pente du segment ST  \\\n",
       "0                             N      0.0                  Up   \n",
       "1                             N      1.0                Flat   \n",
       "\n",
       "   Maladie cardiaque  \n",
       "0                  0  \n",
       "1                  1  "
      ]
     },
     "execution_count": 670,
     "metadata": {},
     "output_type": "execute_result"
    }
   ],
   "source": [
    "# Votre code ici\n",
    "df_prediction.head(2)"
   ]
  },
  {
   "cell_type": "markdown",
   "metadata": {},
   "source": [
    "<div class=\"alert alert-block alert-success\">\n",
    "<b>Quels sont les types des colonnes \"Fréquence cardiaque maximale\" et \"Oldpeak\"?</b><br>Écrire le code permettant d'obtenir les réponses dans la cellule suivante.<br>Écrire vos réponses dans la cellule après celle du code.\n",
    "</div>"
   ]
  },
  {
   "cell_type": "code",
   "execution_count": 671,
   "metadata": {
    "execution": {
     "iopub.execute_input": "2022-10-25T12:54:48.584363Z",
     "iopub.status.busy": "2022-10-25T12:54:48.583530Z",
     "iopub.status.idle": "2022-10-25T12:54:48.612571Z",
     "shell.execute_reply": "2022-10-25T12:54:48.611623Z",
     "shell.execute_reply.started": "2022-10-25T12:54:48.584323Z"
    },
    "trusted": true
   },
   "outputs": [
    {
     "name": "stdout",
     "output_type": "stream",
     "text": [
      "<class 'pandas.core.frame.DataFrame'>\n",
      "RangeIndex: 918 entries, 0 to 917\n",
      "Data columns (total 12 columns):\n",
      " #   Column                         Non-Null Count  Dtype  \n",
      "---  ------                         --------------  -----  \n",
      " 0   Âge                            918 non-null    int64  \n",
      " 1   Sexe                           918 non-null    object \n",
      " 2   Type de douleur thoracique     918 non-null    object \n",
      " 3   Pression artérielle au repos   918 non-null    int64  \n",
      " 4   Cholestérol                    918 non-null    int64  \n",
      " 5   Glycémie à jeun                918 non-null    int64  \n",
      " 6   ECG au repos                   918 non-null    object \n",
      " 7   Fréquence cardiaque maximale   918 non-null    int64  \n",
      " 8   Angine induite par l'exercice  918 non-null    object \n",
      " 9   Oldpeak                        918 non-null    float64\n",
      " 10  Pente du segment ST            918 non-null    object \n",
      " 11  Maladie cardiaque              918 non-null    int64  \n",
      "dtypes: float64(1), int64(6), object(5)\n",
      "memory usage: 86.2+ KB\n"
     ]
    }
   ],
   "source": [
    "# Votre code ici\n",
    "\n",
    "df_prediction.info()"
   ]
  },
  {
   "cell_type": "markdown",
   "metadata": {},
   "source": [
    "**Écrire votre réponse dans cette cellule :** (Double-cliquez dessus pour écrire votre réponse)<br>\n",
    "Type de 'Fréquence cardiaque maximale':   \n",
    "Type de 'Oldpeak': \n"
   ]
  },
  {
   "cell_type": "markdown",
   "metadata": {},
   "source": [
    "<div class=\"alert alert-block alert-success\">\n",
    "<b>Combien il y a t-il de données manquantes dans le dataFrame ?</b><br>Écrire le code permettant d'obtenir les réponses dans la cellule suivante.<br>Écrire vos réponses dans la cellule après celle du code.\n",
    "</div>"
   ]
  },
  {
   "cell_type": "code",
   "execution_count": null,
   "metadata": {
    "execution": {
     "iopub.execute_input": "2022-10-25T12:54:48.614476Z",
     "iopub.status.busy": "2022-10-25T12:54:48.613925Z",
     "iopub.status.idle": "2022-10-25T12:54:48.931373Z",
     "shell.execute_reply": "2022-10-25T12:54:48.930011Z",
     "shell.execute_reply.started": "2022-10-25T12:54:48.614440Z"
    },
    "trusted": true
   },
   "outputs": [
    {
     "data": {
      "text/html": [
       "<div>\n",
       "<style scoped>\n",
       "    .dataframe tbody tr th:only-of-type {\n",
       "        vertical-align: middle;\n",
       "    }\n",
       "\n",
       "    .dataframe tbody tr th {\n",
       "        vertical-align: top;\n",
       "    }\n",
       "\n",
       "    .dataframe thead th {\n",
       "        text-align: right;\n",
       "    }\n",
       "</style>\n",
       "<table border=\"1\" class=\"dataframe\">\n",
       "  <thead>\n",
       "    <tr style=\"text-align: right;\">\n",
       "      <th></th>\n",
       "      <th>Âge</th>\n",
       "      <th>Sexe</th>\n",
       "      <th>Type de douleur thoracique</th>\n",
       "      <th>Pression artérielle au repos</th>\n",
       "      <th>Cholestérol</th>\n",
       "      <th>Glycémie à jeun</th>\n",
       "      <th>ECG au repos</th>\n",
       "      <th>Fréquence cardiaque maximale</th>\n",
       "      <th>Angine induite par l'exercice</th>\n",
       "      <th>Oldpeak</th>\n",
       "      <th>Pente du segment ST</th>\n",
       "      <th>Maladie cardiaque</th>\n",
       "    </tr>\n",
       "  </thead>\n",
       "  <tbody>\n",
       "    <tr>\n",
       "      <th>0</th>\n",
       "      <td>False</td>\n",
       "      <td>False</td>\n",
       "      <td>False</td>\n",
       "      <td>False</td>\n",
       "      <td>False</td>\n",
       "      <td>False</td>\n",
       "      <td>False</td>\n",
       "      <td>False</td>\n",
       "      <td>False</td>\n",
       "      <td>False</td>\n",
       "      <td>False</td>\n",
       "      <td>False</td>\n",
       "    </tr>\n",
       "    <tr>\n",
       "      <th>1</th>\n",
       "      <td>False</td>\n",
       "      <td>False</td>\n",
       "      <td>False</td>\n",
       "      <td>False</td>\n",
       "      <td>False</td>\n",
       "      <td>False</td>\n",
       "      <td>False</td>\n",
       "      <td>False</td>\n",
       "      <td>False</td>\n",
       "      <td>False</td>\n",
       "      <td>False</td>\n",
       "      <td>False</td>\n",
       "    </tr>\n",
       "    <tr>\n",
       "      <th>2</th>\n",
       "      <td>False</td>\n",
       "      <td>False</td>\n",
       "      <td>False</td>\n",
       "      <td>False</td>\n",
       "      <td>False</td>\n",
       "      <td>False</td>\n",
       "      <td>False</td>\n",
       "      <td>False</td>\n",
       "      <td>False</td>\n",
       "      <td>False</td>\n",
       "      <td>False</td>\n",
       "      <td>False</td>\n",
       "    </tr>\n",
       "    <tr>\n",
       "      <th>3</th>\n",
       "      <td>False</td>\n",
       "      <td>False</td>\n",
       "      <td>False</td>\n",
       "      <td>False</td>\n",
       "      <td>False</td>\n",
       "      <td>False</td>\n",
       "      <td>False</td>\n",
       "      <td>False</td>\n",
       "      <td>False</td>\n",
       "      <td>False</td>\n",
       "      <td>False</td>\n",
       "      <td>False</td>\n",
       "    </tr>\n",
       "    <tr>\n",
       "      <th>4</th>\n",
       "      <td>False</td>\n",
       "      <td>False</td>\n",
       "      <td>False</td>\n",
       "      <td>False</td>\n",
       "      <td>False</td>\n",
       "      <td>False</td>\n",
       "      <td>False</td>\n",
       "      <td>False</td>\n",
       "      <td>False</td>\n",
       "      <td>False</td>\n",
       "      <td>False</td>\n",
       "      <td>False</td>\n",
       "    </tr>\n",
       "    <tr>\n",
       "      <th>...</th>\n",
       "      <td>...</td>\n",
       "      <td>...</td>\n",
       "      <td>...</td>\n",
       "      <td>...</td>\n",
       "      <td>...</td>\n",
       "      <td>...</td>\n",
       "      <td>...</td>\n",
       "      <td>...</td>\n",
       "      <td>...</td>\n",
       "      <td>...</td>\n",
       "      <td>...</td>\n",
       "      <td>...</td>\n",
       "    </tr>\n",
       "    <tr>\n",
       "      <th>913</th>\n",
       "      <td>False</td>\n",
       "      <td>False</td>\n",
       "      <td>False</td>\n",
       "      <td>False</td>\n",
       "      <td>False</td>\n",
       "      <td>False</td>\n",
       "      <td>False</td>\n",
       "      <td>False</td>\n",
       "      <td>False</td>\n",
       "      <td>False</td>\n",
       "      <td>False</td>\n",
       "      <td>False</td>\n",
       "    </tr>\n",
       "    <tr>\n",
       "      <th>914</th>\n",
       "      <td>False</td>\n",
       "      <td>False</td>\n",
       "      <td>False</td>\n",
       "      <td>False</td>\n",
       "      <td>False</td>\n",
       "      <td>False</td>\n",
       "      <td>False</td>\n",
       "      <td>False</td>\n",
       "      <td>False</td>\n",
       "      <td>False</td>\n",
       "      <td>False</td>\n",
       "      <td>False</td>\n",
       "    </tr>\n",
       "    <tr>\n",
       "      <th>915</th>\n",
       "      <td>False</td>\n",
       "      <td>False</td>\n",
       "      <td>False</td>\n",
       "      <td>False</td>\n",
       "      <td>False</td>\n",
       "      <td>False</td>\n",
       "      <td>False</td>\n",
       "      <td>False</td>\n",
       "      <td>False</td>\n",
       "      <td>False</td>\n",
       "      <td>False</td>\n",
       "      <td>False</td>\n",
       "    </tr>\n",
       "    <tr>\n",
       "      <th>916</th>\n",
       "      <td>False</td>\n",
       "      <td>False</td>\n",
       "      <td>False</td>\n",
       "      <td>False</td>\n",
       "      <td>False</td>\n",
       "      <td>False</td>\n",
       "      <td>False</td>\n",
       "      <td>False</td>\n",
       "      <td>False</td>\n",
       "      <td>False</td>\n",
       "      <td>False</td>\n",
       "      <td>False</td>\n",
       "    </tr>\n",
       "    <tr>\n",
       "      <th>917</th>\n",
       "      <td>False</td>\n",
       "      <td>False</td>\n",
       "      <td>False</td>\n",
       "      <td>False</td>\n",
       "      <td>False</td>\n",
       "      <td>False</td>\n",
       "      <td>False</td>\n",
       "      <td>False</td>\n",
       "      <td>False</td>\n",
       "      <td>False</td>\n",
       "      <td>False</td>\n",
       "      <td>False</td>\n",
       "    </tr>\n",
       "  </tbody>\n",
       "</table>\n",
       "<p>918 rows × 12 columns</p>\n",
       "</div>"
      ],
      "text/plain": [
       "       Âge   Sexe  Type de douleur thoracique  Pression artérielle au repos  \\\n",
       "0    False  False                       False                         False   \n",
       "1    False  False                       False                         False   \n",
       "2    False  False                       False                         False   \n",
       "3    False  False                       False                         False   \n",
       "4    False  False                       False                         False   \n",
       "..     ...    ...                         ...                           ...   \n",
       "913  False  False                       False                         False   \n",
       "914  False  False                       False                         False   \n",
       "915  False  False                       False                         False   \n",
       "916  False  False                       False                         False   \n",
       "917  False  False                       False                         False   \n",
       "\n",
       "     Cholestérol  Glycémie à jeun  ECG au repos  Fréquence cardiaque maximale  \\\n",
       "0          False            False         False                         False   \n",
       "1          False            False         False                         False   \n",
       "2          False            False         False                         False   \n",
       "3          False            False         False                         False   \n",
       "4          False            False         False                         False   \n",
       "..           ...              ...           ...                           ...   \n",
       "913        False            False         False                         False   \n",
       "914        False            False         False                         False   \n",
       "915        False            False         False                         False   \n",
       "916        False            False         False                         False   \n",
       "917        False            False         False                         False   \n",
       "\n",
       "     Angine induite par l'exercice  Oldpeak  Pente du segment ST  \\\n",
       "0                            False    False                False   \n",
       "1                            False    False                False   \n",
       "2                            False    False                False   \n",
       "3                            False    False                False   \n",
       "4                            False    False                False   \n",
       "..                             ...      ...                  ...   \n",
       "913                          False    False                False   \n",
       "914                          False    False                False   \n",
       "915                          False    False                False   \n",
       "916                          False    False                False   \n",
       "917                          False    False                False   \n",
       "\n",
       "     Maladie cardiaque  \n",
       "0                False  \n",
       "1                False  \n",
       "2                False  \n",
       "3                False  \n",
       "4                False  \n",
       "..                 ...  \n",
       "913              False  \n",
       "914              False  \n",
       "915              False  \n",
       "916              False  \n",
       "917              False  \n",
       "\n",
       "[918 rows x 12 columns]"
      ]
     },
     "execution_count": 672,
     "metadata": {},
     "output_type": "execute_result"
    }
   ],
   "source": [
    "# Votre code ici\n",
    "\n",
    "df_prediction.isnull().coun\n",
    "#donnees_manquantes = df_prediction.isna()\n",
    "\n",
    "#print(donnees_manquantes)"
   ]
  },
  {
   "cell_type": "markdown",
   "metadata": {},
   "source": [
    "**Écrire votre réponse dans cette cellule :** (Double-cliquez dessus pour écrire votre réponse)<br>\n",
    "Nombre de données manquantes: "
   ]
  },
  {
   "cell_type": "markdown",
   "metadata": {},
   "source": [
    "<div class=\"alert alert-block alert-success\">\n",
    "- Définissez une fonction qui prend un dataframe en paramètre et qui retourne le dataframe  avec aucune donnée manquante.<br>\n",
    "- Utilisez une boucle pour effectuer votre calcul dans la fonction.<br>\n",
    "- Utilisez cette fonction avec le dataframe contenant seulement les personnes atteintes de maladies cardiaques et affichez le résultat avec un `print`.\n",
    "</div>"
   ]
  },
  {
   "cell_type": "code",
   "execution_count": 673,
   "metadata": {},
   "outputs": [
    {
     "data": {
      "text/html": [
       "<div>\n",
       "<style scoped>\n",
       "    .dataframe tbody tr th:only-of-type {\n",
       "        vertical-align: middle;\n",
       "    }\n",
       "\n",
       "    .dataframe tbody tr th {\n",
       "        vertical-align: top;\n",
       "    }\n",
       "\n",
       "    .dataframe thead th {\n",
       "        text-align: right;\n",
       "    }\n",
       "</style>\n",
       "<table border=\"1\" class=\"dataframe\">\n",
       "  <thead>\n",
       "    <tr style=\"text-align: right;\">\n",
       "      <th></th>\n",
       "      <th>Âge</th>\n",
       "      <th>Sexe</th>\n",
       "      <th>Type de douleur thoracique</th>\n",
       "      <th>Pression artérielle au repos</th>\n",
       "      <th>Cholestérol</th>\n",
       "      <th>Glycémie à jeun</th>\n",
       "      <th>ECG au repos</th>\n",
       "      <th>Fréquence cardiaque maximale</th>\n",
       "      <th>Angine induite par l'exercice</th>\n",
       "      <th>Oldpeak</th>\n",
       "      <th>Pente du segment ST</th>\n",
       "      <th>Maladie cardiaque</th>\n",
       "    </tr>\n",
       "  </thead>\n",
       "  <tbody>\n",
       "    <tr>\n",
       "      <th>0</th>\n",
       "      <td>False</td>\n",
       "      <td>False</td>\n",
       "      <td>False</td>\n",
       "      <td>False</td>\n",
       "      <td>False</td>\n",
       "      <td>False</td>\n",
       "      <td>False</td>\n",
       "      <td>False</td>\n",
       "      <td>False</td>\n",
       "      <td>False</td>\n",
       "      <td>False</td>\n",
       "      <td>False</td>\n",
       "    </tr>\n",
       "    <tr>\n",
       "      <th>1</th>\n",
       "      <td>False</td>\n",
       "      <td>False</td>\n",
       "      <td>False</td>\n",
       "      <td>False</td>\n",
       "      <td>False</td>\n",
       "      <td>False</td>\n",
       "      <td>False</td>\n",
       "      <td>False</td>\n",
       "      <td>False</td>\n",
       "      <td>False</td>\n",
       "      <td>False</td>\n",
       "      <td>False</td>\n",
       "    </tr>\n",
       "    <tr>\n",
       "      <th>2</th>\n",
       "      <td>False</td>\n",
       "      <td>False</td>\n",
       "      <td>False</td>\n",
       "      <td>False</td>\n",
       "      <td>False</td>\n",
       "      <td>False</td>\n",
       "      <td>False</td>\n",
       "      <td>False</td>\n",
       "      <td>False</td>\n",
       "      <td>False</td>\n",
       "      <td>False</td>\n",
       "      <td>False</td>\n",
       "    </tr>\n",
       "    <tr>\n",
       "      <th>3</th>\n",
       "      <td>False</td>\n",
       "      <td>False</td>\n",
       "      <td>False</td>\n",
       "      <td>False</td>\n",
       "      <td>False</td>\n",
       "      <td>False</td>\n",
       "      <td>False</td>\n",
       "      <td>False</td>\n",
       "      <td>False</td>\n",
       "      <td>False</td>\n",
       "      <td>False</td>\n",
       "      <td>False</td>\n",
       "    </tr>\n",
       "    <tr>\n",
       "      <th>4</th>\n",
       "      <td>False</td>\n",
       "      <td>False</td>\n",
       "      <td>False</td>\n",
       "      <td>False</td>\n",
       "      <td>False</td>\n",
       "      <td>False</td>\n",
       "      <td>False</td>\n",
       "      <td>False</td>\n",
       "      <td>False</td>\n",
       "      <td>False</td>\n",
       "      <td>False</td>\n",
       "      <td>False</td>\n",
       "    </tr>\n",
       "    <tr>\n",
       "      <th>...</th>\n",
       "      <td>...</td>\n",
       "      <td>...</td>\n",
       "      <td>...</td>\n",
       "      <td>...</td>\n",
       "      <td>...</td>\n",
       "      <td>...</td>\n",
       "      <td>...</td>\n",
       "      <td>...</td>\n",
       "      <td>...</td>\n",
       "      <td>...</td>\n",
       "      <td>...</td>\n",
       "      <td>...</td>\n",
       "    </tr>\n",
       "    <tr>\n",
       "      <th>913</th>\n",
       "      <td>False</td>\n",
       "      <td>False</td>\n",
       "      <td>False</td>\n",
       "      <td>False</td>\n",
       "      <td>False</td>\n",
       "      <td>False</td>\n",
       "      <td>False</td>\n",
       "      <td>False</td>\n",
       "      <td>False</td>\n",
       "      <td>False</td>\n",
       "      <td>False</td>\n",
       "      <td>False</td>\n",
       "    </tr>\n",
       "    <tr>\n",
       "      <th>914</th>\n",
       "      <td>False</td>\n",
       "      <td>False</td>\n",
       "      <td>False</td>\n",
       "      <td>False</td>\n",
       "      <td>False</td>\n",
       "      <td>False</td>\n",
       "      <td>False</td>\n",
       "      <td>False</td>\n",
       "      <td>False</td>\n",
       "      <td>False</td>\n",
       "      <td>False</td>\n",
       "      <td>False</td>\n",
       "    </tr>\n",
       "    <tr>\n",
       "      <th>915</th>\n",
       "      <td>False</td>\n",
       "      <td>False</td>\n",
       "      <td>False</td>\n",
       "      <td>False</td>\n",
       "      <td>False</td>\n",
       "      <td>False</td>\n",
       "      <td>False</td>\n",
       "      <td>False</td>\n",
       "      <td>False</td>\n",
       "      <td>False</td>\n",
       "      <td>False</td>\n",
       "      <td>False</td>\n",
       "    </tr>\n",
       "    <tr>\n",
       "      <th>916</th>\n",
       "      <td>False</td>\n",
       "      <td>False</td>\n",
       "      <td>False</td>\n",
       "      <td>False</td>\n",
       "      <td>False</td>\n",
       "      <td>False</td>\n",
       "      <td>False</td>\n",
       "      <td>False</td>\n",
       "      <td>False</td>\n",
       "      <td>False</td>\n",
       "      <td>False</td>\n",
       "      <td>False</td>\n",
       "    </tr>\n",
       "    <tr>\n",
       "      <th>917</th>\n",
       "      <td>False</td>\n",
       "      <td>False</td>\n",
       "      <td>False</td>\n",
       "      <td>False</td>\n",
       "      <td>False</td>\n",
       "      <td>False</td>\n",
       "      <td>False</td>\n",
       "      <td>False</td>\n",
       "      <td>False</td>\n",
       "      <td>False</td>\n",
       "      <td>False</td>\n",
       "      <td>False</td>\n",
       "    </tr>\n",
       "  </tbody>\n",
       "</table>\n",
       "<p>918 rows × 12 columns</p>\n",
       "</div>"
      ],
      "text/plain": [
       "       Âge   Sexe  Type de douleur thoracique  Pression artérielle au repos  \\\n",
       "0    False  False                       False                         False   \n",
       "1    False  False                       False                         False   \n",
       "2    False  False                       False                         False   \n",
       "3    False  False                       False                         False   \n",
       "4    False  False                       False                         False   \n",
       "..     ...    ...                         ...                           ...   \n",
       "913  False  False                       False                         False   \n",
       "914  False  False                       False                         False   \n",
       "915  False  False                       False                         False   \n",
       "916  False  False                       False                         False   \n",
       "917  False  False                       False                         False   \n",
       "\n",
       "     Cholestérol  Glycémie à jeun  ECG au repos  Fréquence cardiaque maximale  \\\n",
       "0          False            False         False                         False   \n",
       "1          False            False         False                         False   \n",
       "2          False            False         False                         False   \n",
       "3          False            False         False                         False   \n",
       "4          False            False         False                         False   \n",
       "..           ...              ...           ...                           ...   \n",
       "913        False            False         False                         False   \n",
       "914        False            False         False                         False   \n",
       "915        False            False         False                         False   \n",
       "916        False            False         False                         False   \n",
       "917        False            False         False                         False   \n",
       "\n",
       "     Angine induite par l'exercice  Oldpeak  Pente du segment ST  \\\n",
       "0                            False    False                False   \n",
       "1                            False    False                False   \n",
       "2                            False    False                False   \n",
       "3                            False    False                False   \n",
       "4                            False    False                False   \n",
       "..                             ...      ...                  ...   \n",
       "913                          False    False                False   \n",
       "914                          False    False                False   \n",
       "915                          False    False                False   \n",
       "916                          False    False                False   \n",
       "917                          False    False                False   \n",
       "\n",
       "     Maladie cardiaque  \n",
       "0                False  \n",
       "1                False  \n",
       "2                False  \n",
       "3                False  \n",
       "4                False  \n",
       "..                 ...  \n",
       "913              False  \n",
       "914              False  \n",
       "915              False  \n",
       "916              False  \n",
       "917              False  \n",
       "\n",
       "[918 rows x 12 columns]"
      ]
     },
     "execution_count": 673,
     "metadata": {},
     "output_type": "execute_result"
    }
   ],
   "source": [
    "# Votre code ici\n",
    "# Définition de la fonction\n",
    "def nettoyage_df(df_sale):\n",
    "    # Convertir le DataFrame en liste\n",
    "    liste_df = df_sale.values.tolist()\n",
    "\n",
    "    # Remplacer les valeurs manquantes par 0\n",
    "    for ligne in liste_df:\n",
    "        for i in range(len(ligne)):\n",
    "            if ligne[i] != ligne[i]:\n",
    "                ligne[i] = 0\n",
    "    \n",
    "    # Reconstruction du dataframe\n",
    "    df_propre = pd.DataFrame(liste_df, columns=df_prediction.columns)\n",
    "\n",
    "    # Retour du dtaframe nettoyé\n",
    "    return df_propre\n",
    "\n",
    "# Appel de la fonction\n",
    "df_prediction = nettoyage_df(df_prediction)    # Compléter\n",
    "\n",
    "# Confirmation qu'il n'y a plus de données manquantes\n",
    "df_prediction.isnull()\n"
   ]
  },
  {
   "cell_type": "markdown",
   "metadata": {},
   "source": [
    "<div class=\"alert alert-block alert-success\">\n",
    "<b>Quelle est la moyenne d'âge des patients ?</b><br>Écrire le code permettant d'obtenir les réponses dans la cellule suivante.<br>Écrire vos réponses dans la cellule après celle du code.\n",
    "</div>"
   ]
  },
  {
   "cell_type": "code",
   "execution_count": 674,
   "metadata": {
    "execution": {
     "iopub.execute_input": "2022-10-25T12:54:48.934530Z",
     "iopub.status.busy": "2022-10-25T12:54:48.933194Z",
     "iopub.status.idle": "2022-10-25T12:54:48.975531Z",
     "shell.execute_reply": "2022-10-25T12:54:48.973213Z",
     "shell.execute_reply.started": "2022-10-25T12:54:48.934470Z"
    },
    "trusted": true
   },
   "outputs": [
    {
     "data": {
      "text/html": [
       "<div>\n",
       "<style scoped>\n",
       "    .dataframe tbody tr th:only-of-type {\n",
       "        vertical-align: middle;\n",
       "    }\n",
       "\n",
       "    .dataframe tbody tr th {\n",
       "        vertical-align: top;\n",
       "    }\n",
       "\n",
       "    .dataframe thead th {\n",
       "        text-align: right;\n",
       "    }\n",
       "</style>\n",
       "<table border=\"1\" class=\"dataframe\">\n",
       "  <thead>\n",
       "    <tr style=\"text-align: right;\">\n",
       "      <th></th>\n",
       "      <th>Âge</th>\n",
       "      <th>Pression artérielle au repos</th>\n",
       "      <th>Cholestérol</th>\n",
       "      <th>Glycémie à jeun</th>\n",
       "      <th>Fréquence cardiaque maximale</th>\n",
       "      <th>Oldpeak</th>\n",
       "      <th>Maladie cardiaque</th>\n",
       "    </tr>\n",
       "  </thead>\n",
       "  <tbody>\n",
       "    <tr>\n",
       "      <th>count</th>\n",
       "      <td>918.000000</td>\n",
       "      <td>918.000000</td>\n",
       "      <td>918.000000</td>\n",
       "      <td>918.000000</td>\n",
       "      <td>918.000000</td>\n",
       "      <td>918.000000</td>\n",
       "      <td>918.000000</td>\n",
       "    </tr>\n",
       "    <tr>\n",
       "      <th>mean</th>\n",
       "      <td>53.510893</td>\n",
       "      <td>132.396514</td>\n",
       "      <td>198.799564</td>\n",
       "      <td>0.233115</td>\n",
       "      <td>136.809368</td>\n",
       "      <td>0.887364</td>\n",
       "      <td>0.553377</td>\n",
       "    </tr>\n",
       "    <tr>\n",
       "      <th>std</th>\n",
       "      <td>9.432617</td>\n",
       "      <td>18.514154</td>\n",
       "      <td>109.384145</td>\n",
       "      <td>0.423046</td>\n",
       "      <td>25.460334</td>\n",
       "      <td>1.066570</td>\n",
       "      <td>0.497414</td>\n",
       "    </tr>\n",
       "    <tr>\n",
       "      <th>min</th>\n",
       "      <td>28.000000</td>\n",
       "      <td>0.000000</td>\n",
       "      <td>0.000000</td>\n",
       "      <td>0.000000</td>\n",
       "      <td>60.000000</td>\n",
       "      <td>-2.600000</td>\n",
       "      <td>0.000000</td>\n",
       "    </tr>\n",
       "    <tr>\n",
       "      <th>25%</th>\n",
       "      <td>47.000000</td>\n",
       "      <td>120.000000</td>\n",
       "      <td>173.250000</td>\n",
       "      <td>0.000000</td>\n",
       "      <td>120.000000</td>\n",
       "      <td>0.000000</td>\n",
       "      <td>0.000000</td>\n",
       "    </tr>\n",
       "    <tr>\n",
       "      <th>50%</th>\n",
       "      <td>54.000000</td>\n",
       "      <td>130.000000</td>\n",
       "      <td>223.000000</td>\n",
       "      <td>0.000000</td>\n",
       "      <td>138.000000</td>\n",
       "      <td>0.600000</td>\n",
       "      <td>1.000000</td>\n",
       "    </tr>\n",
       "    <tr>\n",
       "      <th>75%</th>\n",
       "      <td>60.000000</td>\n",
       "      <td>140.000000</td>\n",
       "      <td>267.000000</td>\n",
       "      <td>0.000000</td>\n",
       "      <td>156.000000</td>\n",
       "      <td>1.500000</td>\n",
       "      <td>1.000000</td>\n",
       "    </tr>\n",
       "    <tr>\n",
       "      <th>max</th>\n",
       "      <td>77.000000</td>\n",
       "      <td>200.000000</td>\n",
       "      <td>603.000000</td>\n",
       "      <td>1.000000</td>\n",
       "      <td>202.000000</td>\n",
       "      <td>6.200000</td>\n",
       "      <td>1.000000</td>\n",
       "    </tr>\n",
       "  </tbody>\n",
       "</table>\n",
       "</div>"
      ],
      "text/plain": [
       "              Âge  Pression artérielle au repos  Cholestérol  Glycémie à jeun  \\\n",
       "count  918.000000                    918.000000   918.000000       918.000000   \n",
       "mean    53.510893                    132.396514   198.799564         0.233115   \n",
       "std      9.432617                     18.514154   109.384145         0.423046   \n",
       "min     28.000000                      0.000000     0.000000         0.000000   \n",
       "25%     47.000000                    120.000000   173.250000         0.000000   \n",
       "50%     54.000000                    130.000000   223.000000         0.000000   \n",
       "75%     60.000000                    140.000000   267.000000         0.000000   \n",
       "max     77.000000                    200.000000   603.000000         1.000000   \n",
       "\n",
       "       Fréquence cardiaque maximale     Oldpeak  Maladie cardiaque  \n",
       "count                    918.000000  918.000000         918.000000  \n",
       "mean                     136.809368    0.887364           0.553377  \n",
       "std                       25.460334    1.066570           0.497414  \n",
       "min                       60.000000   -2.600000           0.000000  \n",
       "25%                      120.000000    0.000000           0.000000  \n",
       "50%                      138.000000    0.600000           1.000000  \n",
       "75%                      156.000000    1.500000           1.000000  \n",
       "max                      202.000000    6.200000           1.000000  "
      ]
     },
     "execution_count": 674,
     "metadata": {},
     "output_type": "execute_result"
    }
   ],
   "source": [
    "# Votre code ici\n",
    "\n",
    "df_prediction.describe()"
   ]
  },
  {
   "cell_type": "markdown",
   "metadata": {},
   "source": [
    "**Écrire votre réponse dans cette cellule :** (Double-cliquez dessus pour écrire votre réponse)<br>\n",
    "Âge moyen des patients: "
   ]
  },
  {
   "cell_type": "markdown",
   "metadata": {},
   "source": [
    "<u>Sélection de la population **atteinte** de maladies cardiaques</u>"
   ]
  },
  {
   "cell_type": "markdown",
   "metadata": {},
   "source": [
    "**Filtrez les personnes atteintes de maladie cardiaque.<br>\n",
    "Nous voulons un dataframe avec seulement les patients (Hommes et Femmes) atteints de maladies cardiaques.**<br>\n",
    "**Indices**: \n",
    "- Filtrer la colonne 'Maladie cardiaque'\n",
    "- Un patient est atteint de maladies cardiaques si la valeur de la colonne 'Maladie cardiaque' est égale à 1"
   ]
  },
  {
   "cell_type": "markdown",
   "metadata": {},
   "source": [
    "<div class=\"alert alert-block alert-success\">\n",
    "<b>Combien il y a t-il de personnes atteintes de maladies cardiaques ?</b><br>Écrire le code permettant d'obtenir les réponses dans la cellule suivante.<br>Écrire la réponse avec la fonction 'print' écrite dans la cellule code.\n",
    "</div>"
   ]
  },
  {
   "cell_type": "code",
   "execution_count": 675,
   "metadata": {},
   "outputs": [
    {
     "name": "stdout",
     "output_type": "stream",
     "text": [
      "Il y a 508 personnes atteintes de maladies cardiaques\n"
     ]
    }
   ],
   "source": [
    "# Complétez le code ci-dessous\n",
    "df_cardiaques = df_prediction[(df_prediction['Maladie cardiaque'] == 1)]\n",
    "nombre_de_lignes = len(df_cardiaques)\n",
    "print(f\"Il y a {nombre_de_lignes} personnes atteintes de maladies cardiaques\")"
   ]
  },
  {
   "cell_type": "markdown",
   "metadata": {},
   "source": [
    "<div class=\"alert alert-block alert-success\">\n",
    "<b>Combien il y a t-il de personnes non atteintes de maladies cardiaques ?</b><br>Écrire le code permettant d'obtenir les réponses dans la cellule suivante.<br>Écrire la réponse avec la fonction 'print' écrite dans la cellule code.\n",
    "</div>"
   ]
  },
  {
   "cell_type": "code",
   "execution_count": 676,
   "metadata": {},
   "outputs": [
    {
     "name": "stdout",
     "output_type": "stream",
     "text": [
      "Il y a 508 personnes non atteintes de maladies cardiaques\n"
     ]
    }
   ],
   "source": [
    "# Complétez le code ci-dessous\n",
    "df_non_cardiaques = df_prediction[(df_prediction['Maladie cardiaque'] == 0)]\n",
    "nombre_de_lignes = len(df_cardiaques)\n",
    "print(f\"Il y a {nombre_de_lignes} personnes non atteintes de maladies cardiaques\")"
   ]
  },
  {
   "cell_type": "markdown",
   "metadata": {},
   "source": [
    "<u>Sélection de la population féminine **atteinte** de maladies cardiaques</u>"
   ]
  },
  {
   "cell_type": "markdown",
   "metadata": {},
   "source": [
    "**Filtrez les personnes féminines atteintes de maladie cardiaque.<br>\n",
    "Nous voulons un dataframe avec seulement les patientes de sexe féminin et cardiaques.**<br>\n",
    "**Indices**: \n",
    "- Filtrer les colonnes 'Sexe' et 'Maladie cardiaque'\n",
    "- Un patient est atteint de maladies cardiaques si la valeur de la colonne 'Maladie cardiaque' est égale à 1"
   ]
  },
  {
   "cell_type": "markdown",
   "metadata": {},
   "source": [
    "<div class=\"alert alert-block alert-success\">\n",
    "<b>Combien il y a t-il de femmes atteintes de maladies cardiaques ?</b><br>Écrire le code permettant d'obtenir les réponses dans la cellule suivante.<br>Écrire la réponse avec la fonction 'print' écrite dans la cellule code.\n",
    "</div>"
   ]
  },
  {
   "cell_type": "code",
   "execution_count": 677,
   "metadata": {},
   "outputs": [
    {
     "name": "stdout",
     "output_type": "stream",
     "text": [
      "Il y a 50 femmes atteintes de maladies cardiaques\n"
     ]
    }
   ],
   "source": [
    "# Complétez le code ci-dessous\n",
    "df_F_cardiaques = df_prediction[(df_prediction['Sexe'] == 'F') & (df_prediction['Maladie cardiaque'] == 1)]\n",
    "nombre_de_lignes = len(df_F_cardiaques)\n",
    "print(f\"Il y a {nombre_de_lignes} femmes atteintes de maladies cardiaques\")"
   ]
  },
  {
   "cell_type": "markdown",
   "metadata": {},
   "source": [
    "<u>Sélection de la population féminine **non atteinte** de maladies cardiaques</u>"
   ]
  },
  {
   "cell_type": "markdown",
   "metadata": {},
   "source": [
    "**Filtrez les personnes féminines non atteintes de maladie cardiaque.<br>\n",
    "Nous voulons un dataframe avec seulement les patientes de sexe féminin et non cardiaques.**<br>\n",
    "**Indices**: \n",
    "- Filtrer les colonnes 'Sexe' et 'Maladie cardiaque'\n",
    "- Une patiente n'est pas atteinte de maladies cardiaques si la valeur de la colonne 'Maladie cardiaque' est égale à 0"
   ]
  },
  {
   "cell_type": "markdown",
   "metadata": {},
   "source": [
    "<div class=\"alert alert-block alert-success\">\n",
    "<b>Combien il y a t-il de femmes non atteintes de maladies cardiaques ?</b><br>Écrire le code permettant d'obtenir les réponses dans la cellule suivante.<br>Écrire la réponse avec la fonction 'print' écrite dans la cellule code.\n",
    "</div>"
   ]
  },
  {
   "cell_type": "code",
   "execution_count": 678,
   "metadata": {},
   "outputs": [
    {
     "name": "stdout",
     "output_type": "stream",
     "text": [
      "Il y a 143 femmes non atteintes de maladies cardiaques\n"
     ]
    }
   ],
   "source": [
    "# Complétez le code ci-dessous\n",
    "df_F_non_cardiaques = df_prediction[(df_prediction['Sexe'] == 'F') & (df_prediction['Maladie cardiaque'] == 0)]\n",
    "nombre_de_lignes = len(df_F_non_cardiaques)\n",
    "print(f\"Il y a {nombre_de_lignes} femmes non atteintes de maladies cardiaques\")"
   ]
  },
  {
   "cell_type": "markdown",
   "metadata": {},
   "source": [
    "<div class=\"alert alert-block alert-success\">\n",
    "<b>Que pouvez-vous conclure par rapport au nombre de femmes atteintes versus celles qui ne sont pas atteintes de maladies cardiaques ?</b><br>Écrire la réponse dans la cellule suivante.\n",
    "</div>"
   ]
  },
  {
   "cell_type": "markdown",
   "metadata": {},
   "source": [
    "**Écrire votre réponse dans cette cellule :** (Double-cliquez dessus pour écrire votre réponse)<br>\n",
    "Conclusion (F atteintes vs non atteintes):\n",
    "\n",
    "Les patientes atteintes de maladies cardiaques sont moins nombreuses que celles sans maladies cardiaques."
   ]
  },
  {
   "cell_type": "markdown",
   "metadata": {},
   "source": [
    "<div class=\"alert alert-block alert-success\">\n",
    "<b>Quelle est la moyenne du cholestérol pour les personnes (Hommes et Femmes) atteintes de maladies cardiaques ?</b><br>Écrire le code permettant d'obtenir la réponse dans la cellule suivante. Pour ce faire: <br>\n",
    "- Définissez une fonction qui prend un dataframe en paramètre et qui retourne la moyenne du cholestérol pour ce dataframe.<br>\n",
    "- Utilisez une boucle pour effectuer votre calcul dans la fonction.<br>\n",
    "- Utilisez cette fonction avec le dataframe contenant seulement les personnes atteintes de maladies cardiaques et affichez le résultat avec un `print`.\n",
    "</div>"
   ]
  },
  {
   "cell_type": "code",
   "execution_count": 679,
   "metadata": {},
   "outputs": [
    {
     "name": "stdout",
     "output_type": "stream",
     "text": [
      "La moyenne du cholestérol des patients atteints de maladies cardiaques est de 175.94 mg/dl\n"
     ]
    }
   ],
   "source": [
    "# Complétez le code ci-dessous\n",
    "def calcul_moyenne_cholesterol(donnees):\n",
    "    somme = 0\n",
    "    for cas in donnees[\"Cholestérol\"]:\n",
    "        somme += cas\n",
    "\n",
    "    return somme / len(donnees)\n",
    "\n",
    "# Appel de la fonction\n",
    "moyenne_cholesterol = calcul_moyenne_cholesterol(df_cardiaques)\n",
    "print(f\"La moyenne du cholestérol des patients atteints de maladies cardiaques est de {round(moyenne_cholesterol,2)} mg/dl\")"
   ]
  },
  {
   "cell_type": "markdown",
   "metadata": {},
   "source": [
    "**Vérifiez votre résultat avec la fonction 'describe()'**<br>. Écrire votre code dans la cellule suivante."
   ]
  },
  {
   "cell_type": "code",
   "execution_count": 680,
   "metadata": {},
   "outputs": [
    {
     "data": {
      "text/html": [
       "<div>\n",
       "<style scoped>\n",
       "    .dataframe tbody tr th:only-of-type {\n",
       "        vertical-align: middle;\n",
       "    }\n",
       "\n",
       "    .dataframe tbody tr th {\n",
       "        vertical-align: top;\n",
       "    }\n",
       "\n",
       "    .dataframe thead th {\n",
       "        text-align: right;\n",
       "    }\n",
       "</style>\n",
       "<table border=\"1\" class=\"dataframe\">\n",
       "  <thead>\n",
       "    <tr style=\"text-align: right;\">\n",
       "      <th></th>\n",
       "      <th>Âge</th>\n",
       "      <th>Pression artérielle au repos</th>\n",
       "      <th>Cholestérol</th>\n",
       "      <th>Glycémie à jeun</th>\n",
       "      <th>Fréquence cardiaque maximale</th>\n",
       "      <th>Oldpeak</th>\n",
       "      <th>Maladie cardiaque</th>\n",
       "    </tr>\n",
       "  </thead>\n",
       "  <tbody>\n",
       "    <tr>\n",
       "      <th>count</th>\n",
       "      <td>508.000000</td>\n",
       "      <td>508.000000</td>\n",
       "      <td>508.000000</td>\n",
       "      <td>508.000000</td>\n",
       "      <td>508.000000</td>\n",
       "      <td>508.000000</td>\n",
       "      <td>508.0</td>\n",
       "    </tr>\n",
       "    <tr>\n",
       "      <th>mean</th>\n",
       "      <td>55.899606</td>\n",
       "      <td>134.185039</td>\n",
       "      <td>175.940945</td>\n",
       "      <td>0.334646</td>\n",
       "      <td>127.655512</td>\n",
       "      <td>1.274213</td>\n",
       "      <td>1.0</td>\n",
       "    </tr>\n",
       "    <tr>\n",
       "      <th>std</th>\n",
       "      <td>8.727056</td>\n",
       "      <td>19.828685</td>\n",
       "      <td>126.391398</td>\n",
       "      <td>0.472332</td>\n",
       "      <td>23.386923</td>\n",
       "      <td>1.151872</td>\n",
       "      <td>0.0</td>\n",
       "    </tr>\n",
       "    <tr>\n",
       "      <th>min</th>\n",
       "      <td>31.000000</td>\n",
       "      <td>0.000000</td>\n",
       "      <td>0.000000</td>\n",
       "      <td>0.000000</td>\n",
       "      <td>60.000000</td>\n",
       "      <td>-2.600000</td>\n",
       "      <td>1.0</td>\n",
       "    </tr>\n",
       "    <tr>\n",
       "      <th>25%</th>\n",
       "      <td>51.000000</td>\n",
       "      <td>120.000000</td>\n",
       "      <td>0.000000</td>\n",
       "      <td>0.000000</td>\n",
       "      <td>112.000000</td>\n",
       "      <td>0.000000</td>\n",
       "      <td>1.0</td>\n",
       "    </tr>\n",
       "    <tr>\n",
       "      <th>50%</th>\n",
       "      <td>57.000000</td>\n",
       "      <td>132.000000</td>\n",
       "      <td>217.000000</td>\n",
       "      <td>0.000000</td>\n",
       "      <td>126.000000</td>\n",
       "      <td>1.200000</td>\n",
       "      <td>1.0</td>\n",
       "    </tr>\n",
       "    <tr>\n",
       "      <th>75%</th>\n",
       "      <td>62.000000</td>\n",
       "      <td>145.000000</td>\n",
       "      <td>267.000000</td>\n",
       "      <td>1.000000</td>\n",
       "      <td>144.250000</td>\n",
       "      <td>2.000000</td>\n",
       "      <td>1.0</td>\n",
       "    </tr>\n",
       "    <tr>\n",
       "      <th>max</th>\n",
       "      <td>77.000000</td>\n",
       "      <td>200.000000</td>\n",
       "      <td>603.000000</td>\n",
       "      <td>1.000000</td>\n",
       "      <td>195.000000</td>\n",
       "      <td>6.200000</td>\n",
       "      <td>1.0</td>\n",
       "    </tr>\n",
       "  </tbody>\n",
       "</table>\n",
       "</div>"
      ],
      "text/plain": [
       "              Âge  Pression artérielle au repos  Cholestérol  Glycémie à jeun  \\\n",
       "count  508.000000                    508.000000   508.000000       508.000000   \n",
       "mean    55.899606                    134.185039   175.940945         0.334646   \n",
       "std      8.727056                     19.828685   126.391398         0.472332   \n",
       "min     31.000000                      0.000000     0.000000         0.000000   \n",
       "25%     51.000000                    120.000000     0.000000         0.000000   \n",
       "50%     57.000000                    132.000000   217.000000         0.000000   \n",
       "75%     62.000000                    145.000000   267.000000         1.000000   \n",
       "max     77.000000                    200.000000   603.000000         1.000000   \n",
       "\n",
       "       Fréquence cardiaque maximale     Oldpeak  Maladie cardiaque  \n",
       "count                    508.000000  508.000000              508.0  \n",
       "mean                     127.655512    1.274213                1.0  \n",
       "std                       23.386923    1.151872                0.0  \n",
       "min                       60.000000   -2.600000                1.0  \n",
       "25%                      112.000000    0.000000                1.0  \n",
       "50%                      126.000000    1.200000                1.0  \n",
       "75%                      144.250000    2.000000                1.0  \n",
       "max                      195.000000    6.200000                1.0  "
      ]
     },
     "execution_count": 680,
     "metadata": {},
     "output_type": "execute_result"
    }
   ],
   "source": [
    "# Votre code ici\n",
    "\n",
    "df_cardiaques.describe()"
   ]
  },
  {
   "cell_type": "markdown",
   "metadata": {},
   "source": [
    "### Partie 2. Visualiser graphiquement les données des patients (Matplotlib)"
   ]
  },
  {
   "cell_type": "markdown",
   "metadata": {},
   "source": [
    "<div class=\"alert alert-block alert-success\">\n",
    "<b>Entre les hommes et les femmes quel genre est plus nombreux parmis les patients ?</b><br>Écrire le code permettant de créer un <b>un diagramme à barres pour montrer le nombre de patients masculins et féminins.</b>, dans la cellule suivante.\n",
    "</div>"
   ]
  },
  {
   "cell_type": "code",
   "execution_count": 681,
   "metadata": {},
   "outputs": [
    {
     "data": {
      "image/png": "[encoded data removed]",
      "text/plain": [
       "<Figure size 1000x600 with 1 Axes>"
      ]
     },
     "metadata": {},
     "output_type": "display_data"
    }
   ],
   "source": [
    "# Votre code ici\n",
    "# Graphique 1: Diagramme à barres du nombre de patients par sexe\n",
    "\n",
    "# Compter le nombre de patients par sexe\n",
    "nombre_patients = df_prediction['Sexe'].value_counts()\n",
    "\n",
    "# Créer le diagramme à barres\n",
    "plt.figure(figsize=(10, 6))\n",
    "plt.bar(nombre_patients.index, nombre_patients.values, color=['blue', 'pink'])\n",
    "plt.xlabel('Sexe')\n",
    "plt.ylabel('Nombre de patients')\n",
    "plt.title('Nombre de patients par sexe')\n",
    "plt.grid(True)\n",
    "plt.show()"
   ]
  },
  {
   "cell_type": "markdown",
   "metadata": {},
   "source": [
    "<div class=\"alert alert-block alert-success\">\n",
    "<b>Quel est la tranche d'âges de la majorité des patients ?</b><br>Écrire le code permettant de créer un <b>histogramme pour visualiser la répartition des âges des patients</b>, dans la cellule suivante.\n",
    "</div>"
   ]
  },
  {
   "cell_type": "code",
   "execution_count": 682,
   "metadata": {},
   "outputs": [
    {
     "data": {
      "image/png": "[encoded data removed]",
      "text/plain": [
       "<Figure size 1000x600 with 1 Axes>"
      ]
     },
     "metadata": {},
     "output_type": "display_data"
    }
   ],
   "source": [
    "# Votre code ici\n",
    "\n",
    "# Graphique 2: Histogramme de la répartition des âges\n",
    "\n",
    "plt.figure(figsize=(10, 6))\n",
    "plt.hist(df_prediction['Âge'], bins=10, edgecolor='black')\n",
    "plt.xlabel('Âge')\n",
    "plt.ylabel('Nombre de patients')\n",
    "plt.title('Répartition des âges des patients')\n",
    "plt.grid(True)\n",
    "plt.show()\n"
   ]
  },
  {
   "cell_type": "markdown",
   "metadata": {},
   "source": [
    "<div class=\"alert alert-block alert-success\">\n",
    "<b>Quelle est la distribution des âges, entre les patients atteints et ceux pas atteints de maladies cardiaque ?</b><br>Écrire le code permettant de créer un <b>un histogramme pour montrer la distribution des patients atteints vs non atteints.</b>, dans la cellule suivante.\n",
    "</div>"
   ]
  },
  {
   "cell_type": "code",
   "execution_count": 683,
   "metadata": {},
   "outputs": [
    {
     "data": {
      "image/png": "[encoded data removed]",
      "text/plain": [
       "<Figure size 640x480 with 1 Axes>"
      ]
     },
     "metadata": {},
     "output_type": "display_data"
    }
   ],
   "source": [
    "# Graphique 3: Histogramme de la distribution des âges selon qu'ils sont atteints ou non\n",
    "\n",
    "# Créer une liste contenant l'age des patients atteints\n",
    "liste_age_atteints = df_cardiaques['Âge'].values.tolist()\n",
    "\n",
    "# Créer une liste contenant l'age des patients non atteints\n",
    "liste_age_non_atteints = df_non_cardiaques['Âge'].values.tolist()\n",
    "\n",
    "# Créer l'histogramme\n",
    "plt.hist([liste_age_atteints, liste_age_non_atteints], bins=10, color=['skyblue', 'salmon'], edgecolor='black', label=['Atteints', 'Non atteints'])\n",
    "\n",
    "# Ajouter des titres et des labels\n",
    "plt.title('Distribution de l\\'âge')\n",
    "plt.xlabel('Âge')\n",
    "plt.ylabel('Nombre de patients')\n",
    "plt.legend()\n",
    "\n",
    "# Afficher le graphique\n",
    "plt.show()\n"
   ]
  },
  {
   "cell_type": "markdown",
   "metadata": {},
   "source": [
    "<div class=\"alert alert-block alert-success\">\n",
    "<b>Quel est le type de douleur thoracique le plus fréquent parmis les patients ?</b><br>Écrire le code permettant de créer un <b>un diagramme en secteurs pour visualiser la répartition des types de douleur thoracique parmi les patients.</b>, dans la cellule suivante.\n",
    "</div>"
   ]
  },
  {
   "cell_type": "code",
   "execution_count": 684,
   "metadata": {},
   "outputs": [
    {
     "data": {
      "image/png": "[encoded data removed]",
      "text/plain": [
       "<Figure size 1000x600 with 1 Axes>"
      ]
     },
     "metadata": {},
     "output_type": "display_data"
    }
   ],
   "source": [
    "# Votre code ici\n",
    "\n",
    "# Graphique 4: Diagramme en secteurs du type de douleur thoracique\n",
    "# Compter le nombre de patients par type de douleur thoracique\n",
    "chest_pain_counts = df_prediction['Type de douleur thoracique'].value_counts()\n",
    "secteur = (0, 0, 0, 0.2) # Écarte le 4e secteur\n",
    "# Créer le diagramme en secteurs\n",
    "plt.figure(figsize=(10, 6))\n",
    "plt.pie(chest_pain_counts.values, explode=secteur, labels=chest_pain_counts.index, autopct='%1.1f%%', startangle=140)\n",
    "plt.title('Répartition des types de douleur thoracique')\n",
    "plt.axis('equal')  # Assurer que le diagramme est circulaire\n",
    "plt.show()"
   ]
  },
  {
   "cell_type": "markdown",
   "metadata": {},
   "source": [
    "<div class=\"alert alert-block alert-success\">\n",
    "<b>Quel est la tranche d'âge des paptients qui ont la fréquence cardiaque maximale parmis les patients ?</b><br>Écrire le code permettant de créer un <b>un Nuage de points de la fréquence cardiaque maximale en fonction de l'âge.</b>, dans la cellule suivante.\n",
    "</div>"
   ]
  },
  {
   "cell_type": "code",
   "execution_count": 685,
   "metadata": {},
   "outputs": [
    {
     "data": {
      "image/png": "[encoded data removed]",
      "text/plain": [
       "<Figure size 1000x600 with 1 Axes>"
      ]
     },
     "metadata": {},
     "output_type": "display_data"
    }
   ],
   "source": [
    "# Votre code ici\n",
    "\n",
    "# Graphique 5: # Créer le nuage de points\n",
    "\n",
    "plt.figure(figsize=(10, 6))\n",
    "plt.scatter(df_prediction['Âge'], df_prediction['Fréquence cardiaque maximale'], alpha=0.7)\n",
    "plt.xlabel('Âge')\n",
    "plt.ylabel('Fréquence cardiaque maximale')\n",
    "plt.title('Relation entre l\\'âge et la fréquence cardiaque maximale')\n",
    "plt.grid(True)\n",
    "plt.show()"
   ]
  },
  {
   "cell_type": "markdown",
   "metadata": {},
   "source": [
    "<div class=\"alert alert-block alert-success\">\n",
    "<b>Quel est la tranche d'âge des patients qui ont la un taux de cholestérol élevé parmis les patients ?</b><br>Écrire le code permettant de créer un <b>nuage de points pour visualiser la relation entre l'âge et le cholestérol chez les patients atteints.</b>, dans la cellule suivante.\n",
    "</div>"
   ]
  },
  {
   "cell_type": "code",
   "execution_count": 686,
   "metadata": {},
   "outputs": [
    {
     "data": {
      "image/png": "[encoded data removed]",
      "text/plain": [
       "<Figure size 640x480 with 1 Axes>"
      ]
     },
     "metadata": {},
     "output_type": "display_data"
    }
   ],
   "source": [
    "# Créer une liste contenant le taux de cholestérol des patients atteints\n",
    "liste_cholesterol_atteints = df_cardiaques['Cholestérol'].values.tolist()\n",
    "\n",
    "# Créer le nuage de points\n",
    "plt.scatter(liste_age_atteints, liste_cholesterol_atteints, color='red')\n",
    "\n",
    "# Ajouter des titres et des labels\n",
    "plt.title('Âge vs Cholestérol')\n",
    "plt.xlabel('Âge')\n",
    "plt.ylabel('Cholestérol')\n",
    "\n",
    "# Afficher le graphique\n",
    "plt.show()"
   ]
  },
  {
   "cell_type": "markdown",
   "metadata": {},
   "source": [
    "### Partie 3. Analyse statistiques (NumPy)"
   ]
  },
  {
   "cell_type": "markdown",
   "metadata": {},
   "source": [
    "<div class=\"alert alert-block alert-success\">\n",
    "<b>Calcul de la moyenne et de l'écart-type de l'âge des patients</b><br>Écrire le code NumPy dans la cellule suivante.\n",
    "</div>"
   ]
  },
  {
   "cell_type": "code",
   "execution_count": 687,
   "metadata": {},
   "outputs": [
    {
     "name": "stdout",
     "output_type": "stream",
     "text": [
      "Moyenne de l'âge des patients : 53.51\n",
      "Écart-type de l'âge des patients : 9.43\n"
     ]
    }
   ],
   "source": [
    "# Votre code ici\n",
    "\n",
    "# Extraire les âges des patients\n",
    "ages = df_prediction['Âge'].values\n",
    "\n",
    "# Calculer la moyenne et l'écart-type\n",
    "moyenne_age = np.mean(ages)\n",
    "ecart_type_age = np.std(ages)\n",
    "\n",
    "print(f\"Moyenne de l'âge des patients : {round(moyenne_age,2)}\")\n",
    "print(f\"Écart-type de l'âge des patients : {round(ecart_type_age,2)}\")"
   ]
  },
  {
   "cell_type": "markdown",
   "metadata": {},
   "source": [
    "<div class=\"alert alert-block alert-success\">\n",
    "<b>Calcul de la pression artérielle moyenne au repos par sexe</b><br>Écrire le code NumPy dans la cellule suivante.\n",
    "</div>"
   ]
  },
  {
   "cell_type": "code",
   "execution_count": 688,
   "metadata": {},
   "outputs": [
    {
     "name": "stdout",
     "output_type": "stream",
     "text": [
      "Pression artérielle moyenne au repos (Hommes) : 132.45\n",
      "Pression artérielle moyenne au repos (Femmes) : 132.21\n"
     ]
    }
   ],
   "source": [
    "# Votre code ici\n",
    "\n",
    "# Extraire les pressions artérielles au repos par sexe\n",
    "pression_homme = df_prediction[df_prediction['Sexe'] == 'M']['Pression artérielle au repos'].values\n",
    "pression_femme = df_prediction[df_prediction['Sexe'] == 'F']['Pression artérielle au repos'].values\n",
    "\n",
    "# Calculer la moyenne pour chaque sexe\n",
    "moyenne_pression_homme = np.mean(pression_homme)\n",
    "moyenne_pression_femme = np.mean(pression_femme)\n",
    "\n",
    "print(f\"Pression artérielle moyenne au repos (Hommes) : {round(moyenne_pression_homme,2)}\")\n",
    "print(f\"Pression artérielle moyenne au repos (Femmes) : {round(moyenne_pression_femme,2)}\")"
   ]
  },
  {
   "cell_type": "markdown",
   "metadata": {},
   "source": [
    "<div class=\"alert alert-block alert-success\">\n",
    "<b>Calcul de la médiane du cholestérol</b><br>Écrire le code NumPy dans la cellule suivante.\n",
    "</div>"
   ]
  },
  {
   "cell_type": "code",
   "execution_count": 689,
   "metadata": {},
   "outputs": [
    {
     "name": "stdout",
     "output_type": "stream",
     "text": [
      "Médiane du cholestérol des patients : 223.0\n"
     ]
    }
   ],
   "source": [
    "# Votre code ici\n",
    "\n",
    "# Extraire les valeurs de cholestérol\n",
    "cholesterol = df_prediction['Cholestérol'].values\n",
    "\n",
    "# Calculer la médiane\n",
    "medianne_cholesterol = np.median(cholesterol)\n",
    "\n",
    "print(f\"Médiane du cholestérol des patients : {medianne_cholesterol}\")"
   ]
  },
  {
   "cell_type": "markdown",
   "metadata": {},
   "source": [
    "<div class=\"alert alert-block alert-success\">\n",
    "<b>Calcul de la fréquence cardiaque maximale moyenne pour les patients avec et sans maladie cardiaque.</b><br>Écrire le code NumPy dans la cellule suivante.\n",
    "</div>"
   ]
  },
  {
   "cell_type": "code",
   "execution_count": 690,
   "metadata": {},
   "outputs": [
    {
     "name": "stdout",
     "output_type": "stream",
     "text": [
      "Fréquence cardiaque maximale moyenne (avec maladie cardiaque) : 127.66\n",
      "Fréquence cardiaque maximale moyenne (sans maladie cardiaque) : 148.15\n"
     ]
    }
   ],
   "source": [
    "# Votre code ici\n",
    "\n",
    "# Extraire les fréquences cardiaques maximales pour chaque groupe\n",
    "hr_max_avec_maladie = df_prediction[df_prediction['Maladie cardiaque'] == 1]['Fréquence cardiaque maximale'].values\n",
    "hr_max_sans_maladie = df_prediction[df_prediction['Maladie cardiaque'] == 0]['Fréquence cardiaque maximale'].values\n",
    "\n",
    "# Calculer la moyenne pour chaque groupe\n",
    "moyenne_hr_max_avec_maladie = np.mean(hr_max_avec_maladie)\n",
    "moyenne_hr_max_sans_maladie = np.mean(hr_max_sans_maladie)\n",
    "\n",
    "print(f\"Fréquence cardiaque maximale moyenne (avec maladie cardiaque) : {round(moyenne_hr_max_avec_maladie,2)}\")\n",
    "print(f\"Fréquence cardiaque maximale moyenne (sans maladie cardiaque) : {round(moyenne_hr_max_sans_maladie,2)}\")"
   ]
  },
  {
   "cell_type": "markdown",
   "metadata": {},
   "source": [
    "<div class=\"alert alert-block alert-success\">\n",
    "<b>Calcul de la proportion de patients ayant une angine induite par l'exercice.</b><br>Écrire le code NumPy dans la cellule suivante.\n",
    "</div>"
   ]
  },
  {
   "cell_type": "code",
   "execution_count": 691,
   "metadata": {},
   "outputs": [
    {
     "name": "stdout",
     "output_type": "stream",
     "text": [
      "Proportion de patients ayant une angine induite par l'exercice : 0.4\n"
     ]
    }
   ],
   "source": [
    "# Votre code ici\n",
    "\n",
    "# Extraire les valeurs d'angine induite par l'exercice\n",
    "angine_par_exercice = df_prediction['Angine induite par l\\'exercice'].values\n",
    "\n",
    "# Calculer la proportion\n",
    "proportion_angine = np.sum(angine_par_exercice == 'Y') / len(angine_par_exercice)\n",
    "\n",
    "print(f\"Proportion de patients ayant une angine induite par l'exercice : {round(proportion_angine,2)}\")"
   ]
  },
  {
   "cell_type": "markdown",
   "metadata": {},
   "source": [
    "<div class=\"alert alert-block alert-success\">\n",
    "<b>Calcul de la Régression linéaire qui relie l’âge et le taux de cholestérol pour les personnes de 70 ans et plus</b><br>Écrire le code NumPy dans la cellule suivante.\n",
    "</div>"
   ]
  },
  {
   "cell_type": "code",
   "execution_count": 692,
   "metadata": {},
   "outputs": [
    {
     "data": {
      "image/png": "[encoded data removed]",
      "text/plain": [
       "<Figure size 640x480 with 1 Axes>"
      ]
     },
     "metadata": {},
     "output_type": "display_data"
    }
   ],
   "source": [
    "# Votre code ici\n",
    "\n",
    "# Filtrer les âges de 70 ans et ^lus\n",
    "# df_45_65 = df_prediction[(df_prediction['Âge'] >= 45) & (df_prediction['Âge'] <= 65)]\n",
    "df_45_65 = df_prediction[(df_prediction['Âge'] >= 70)]\n",
    "\n",
    "# Extraction des âges et des taux de cholestérol\n",
    "df_ages = df_45_65['Âge'].to_numpy()\n",
    "df_cholesterol = df_45_65['Cholestérol'].to_numpy()\n",
    "\n",
    "# Calcul de la droite de régression linéaire\n",
    "coefficients = np.polyfit(df_ages, df_cholesterol, 1)\n",
    "polynomial = np.poly1d(coefficients)\n",
    "regression_line = polynomial(df_ages)\n",
    "\n",
    "# Tracer les points de données et la droite de régression\n",
    "plt.scatter(df_ages, df_cholesterol, color='blue', label='Données')\n",
    "plt.plot(df_ages, regression_line, color='red', label='Droite de régression')\n",
    "\n",
    "# Ajouter des labels et un titre\n",
    "plt.xlabel(\"Âge\")\n",
    "plt.ylabel(\"Cholestérol\")\n",
    "plt.title(\"Relation entre l'âge et le cholestérol (70 ans et plus)\")\n",
    "plt.legend()\n",
    "\n",
    "# Afficher le graphique\n",
    "plt.show()"
   ]
  }
 ],
 "metadata": {
  "kernelspec": {
   "display_name": "Python 3",
   "language": "python",
   "name": "python3"
  },
  "language_info": {
   "codemirror_mode": {
    "name": "ipython",
    "version": 3
   },
   "file_extension": ".py",
   "mimetype": "text/x-python",
   "name": "python",
   "nbconvert_exporter": "python",
   "pygments_lexer": "ipython3",
   "version": "3.11.3"
  }
 },
 "nbformat": 4,
 "nbformat_minor": 4
}
