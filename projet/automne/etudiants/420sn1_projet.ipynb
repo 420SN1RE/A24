{
 "cells": [
  {
   "cell_type": "markdown",
   "metadata": {},
   "source": [
    "<center>\n",
    "    <h1>Projet : <br>Analyse de données scientifiques</h1>\n",
    "</center>\n",
    "<center>\n",
    "    <img src=\"https://encrypted-tbn0.gstatic.com/images?q=tbn:ANd9GcTGHi3NlJxV9Q1SibJbhG_vyxDkDdFtZTCk6w&salt=\" alt=\"Prédiction d'insuffisance cardiaque\" width=\"200\">\n",
    "</center>"
   ]
  },
  {
   "cell_type": "markdown",
   "metadata": {},
   "source": [
    "<div class=\"alert alert-block alert-success\">\n",
    "\n",
    "### Contexte\n",
    "\n",
    "Les maladies cardiovasculaires (MCV) sont responsables de millions de décès chaque année.\n",
    "Dans ce projet, vous avez été mandatés par une équipe de recherche pour utiliser vos compétences en Python et les bibliothèques pandas, matplotlib et numpy afin de créer un programme capable de prédire les risques de maladies cardiaques en analysant certaines caractéristiques clés, comme l’âge, le sexe, et le taux de cholestérol. <br>\n",
    "\n",
    "### Objectif\n",
    "\n",
    "L'objectif de ce projet est de démontrer comment les techniques de programmation et d'analyse de données peuvent être appliquées pour résoudre des problèmes de santé publique. \n",
    "\n",
    "Ce projet mettra en lumière l'importance de l'interdisciplinarité entre les sciences de la nature et l'informatique, en montrant comment les compétences en programmation peuvent être utilisées pour des applications pratiques et bénéfiques dans le domaine de la santé.\n",
    "\n",
    "### Parties du projet\n",
    "\n",
    "1.\t**Partie 1** : Importer et préparer les données, extraire des informations clés pour effectuer des analyses pertinentes. (<b>Pandas</b>)\n",
    "2.\t**Partie 2** : Visualiser les données sous forme de graphiques, pour en faciliter l'interprétation. (<b>Matplotlib</b>)\n",
    "3.\t**Partie 3** : Analyser les résultats et en tirer des conclusions. (<b>NumPy</b>)\n",
    "\n",
    "### Présentation des données\n",
    "\n",
    "Les données de l’expérience sont dans le fichier prediction_cardiaque.csv. Voici la description des données s’y trouvant. Ce fichier contient les données de patients à travers le monde.\n",
    "\n",
    "- **Âge du patient** :  en années\n",
    "- **Sexe du patient** : M : Masculin, F : Féminin\n",
    "- **Type de douleur thoracique**: TA : Angine Typique, ATA : Angine Atypique, NAP : Douleur Non Angineuse, ASY : Asymptomatique\n",
    "- **Pression artérielle au repos** : pression artérielle au repos (en mm Hg)\n",
    "- **Cholestérol** : cholestérol sérique (en mg/dl)\n",
    "- **Glycémie à jeun** : 1 : si Glycémie à jeun > 120 mg/dl, 0 : sinon\n",
    "- **Résultats de l’ECG au repos** : Normal : Normal, ST : anomalie de l’onde ST-T (inversions de l’onde T et/ou élévation ou dépression du segment ST de > 0,05 mV), LVH : hypertrophie ventriculaire gauche probable ou certaine selon les critères d’Estes\n",
    "- **Fréquence cardiaque maximale atteinte**: valeur numérique entre 60 et 202\n",
    "- **Angine induite par l’exercice** : Y : Oui, N : Non\n",
    "- **Oldpeak** : ST valeur numérique mesurée en dépression\n",
    "- **Pente du segment ST au pic de l’exercice** : Up : ascendant, Flat : plat, Down : descendant\n",
    "- **Maladie cardiaque** : classe de sortie 1 : maladie cardiaque, 0 : Normal\n",
    "</div>"
   ]
  },
  {
   "cell_type": "markdown",
   "metadata": {},
   "source": [
    "### Livrables\n",
    "\n",
    "<div class=\"alert alert-block alert-danger\">\n",
    "\n",
    "- Vous devrez remettre un seul fichier Jupyter Notebook (**PrenomNom_projet.ipynb**) contenant tout le code, les analyses et les visualisations et le fichier de données (**.csv**).\n",
    "- **À la fin de chaque séance**, vous devez remettre votre travail (fichiers .ipynb et .csv) dans la boîte de remise prévue à cet effet sur Moodle.\n",
    "- Vous pourrez continuer à travailler sur votre projet entre chaque séance, mais la boite de remise sera fermée.\n",
    "- Ces remises sont des points de contrôle.\n",
    "  \n",
    "</div>"
   ]
  },
  {
   "cell_type": "markdown",
   "metadata": {},
   "source": [
    "<div class=\"alert alert-block alert-success\">\n",
    "\n",
    "### Consignes et informations de départ pour le projet\n",
    "\n",
    "1. De Moodle, télécharger sur votre ordinateur, dans le dossier réservé au projet, les deux fichiers :\n",
    "   - Le fichier de données : insuffisance_cardiaque.csv\n",
    "   - Le fichier de code : 420sn1_projet.ipynb</li>\n",
    "2. Renommer le fichier .ipynb avec votre prénom et nom de famille (ex: **NathalieDesmangle_projet.ipynb**)\n",
    "3. Dans le fichier de départ (ipynb) que vous allez utiliser pour ce projet, les cellules sont déjà créées et organisées dans un ordre précis. Il est essentiel que vous respectiez cet ordre et le contenu de chaque cellule. Votre tâche consiste à écrire le code dans les cellules désignées, en suivant les instructions fournies.\n",
    "4. Faites attention à bien répondre aux bons endroits, le code python dans une cellule de CODE et les réponses textuelles dans une cellule de MARCAGE (***MARKDOWN***)\n",
    "5. Assurez-vous que tout votre bloc note Jupyter (notebook) s’exécute correctement en une seule fois avec le bouton **Exécuter Tout** (***Run All***) de VS Code. Les cellules de code suivent un ordre, certaines reprennent le résultat d’une précédente. Faites attention à ne pas altérer les données entre deux cellules de code.\n",
    "6. Pour vous faciliter cette tâche, utilisez régulièrement le bouton **Exécuter Tout** (***Run All***) pour vérifier que l’exécution arrive correctement là où vous êtes, n’attendez pas d’avoir tout codé pour utiliser ce bouton.\n",
    "</div>"
   ]
  },
  {
   "cell_type": "markdown",
   "metadata": {},
   "source": [
    "### PARTIE 1: Importation des données et extraction d'informations (Pandas)"
   ]
  },
  {
   "cell_type": "markdown",
   "metadata": {},
   "source": [
    "**Importer les bibliothèques qui seront nécessaires au projet.** <br> Écrire votre code dans la cellule suivante."
   ]
  },
  {
   "cell_type": "code",
   "execution_count": null,
   "metadata": {
    "execution": {
     "iopub.execute_input": "2022-10-25T12:54:47.720331Z",
     "iopub.status.busy": "2022-10-25T12:54:47.718109Z",
     "iopub.status.idle": "2022-10-25T12:54:48.502285Z",
     "shell.execute_reply": "2022-10-25T12:54:48.500990Z",
     "shell.execute_reply.started": "2022-10-25T12:54:47.719992Z"
    },
    "trusted": true
   },
   "outputs": [],
   "source": [
    "# Complétez le code \n",
    "import \n",
    "import \n",
    "import "
   ]
  },
  {
   "cell_type": "markdown",
   "metadata": {},
   "source": [
    "**Écrire le code pour charger les données dans le dataframe df_prediction.** <br> Écrire votre code dans la cellule suivante."
   ]
  },
  {
   "cell_type": "code",
   "execution_count": null,
   "metadata": {},
   "outputs": [],
   "source": [
    "# Complétez le code\n",
    "df_prediction = "
   ]
  },
  {
   "cell_type": "markdown",
   "metadata": {},
   "source": [
    "**Afficher les noms des colonnes.**<br>Écrire le code dans la cellule suivante."
   ]
  },
  {
   "cell_type": "code",
   "execution_count": null,
   "metadata": {
    "execution": {
     "iopub.execute_input": "2022-10-25T12:54:48.570535Z",
     "iopub.status.busy": "2022-10-25T12:54:48.570154Z",
     "iopub.status.idle": "2022-10-25T12:54:48.580511Z",
     "shell.execute_reply": "2022-10-25T12:54:48.579178Z",
     "shell.execute_reply.started": "2022-10-25T12:54:48.570500Z"
    },
    "trusted": true
   },
   "outputs": [],
   "source": [
    "# Complétez le code \n",
    "df_prediction."
   ]
  },
  {
   "cell_type": "markdown",
   "metadata": {},
   "source": [
    "<div class=\"alert alert-block alert-success\">\n",
    "    <b>Quel est le nom de la 5e colonne ?</b><br>\n",
    "</div>"
   ]
  },
  {
   "cell_type": "markdown",
   "metadata": {},
   "source": [
    "**Écrire votre réponse dans cette cellule :** (Double-cliquez dessus pour écrire votre réponse)\n"
   ]
  },
  {
   "cell_type": "markdown",
   "metadata": {},
   "source": [
    "**Modifier les noms de toutes les colonnes pour les traduire en français, tel qu'indiqué ci-dessous.** <br>Écrire le code dans la cellule suivante.  <br>\n",
    "**ATTENTION**: Vous devez obligatoirement utiliser les deux listes fournies dans le code: 'noms_actuels' et 'nouveaux_noms' et aussi une boucle.\n",
    "\n",
    "- **Age** : Âge\n",
    "- **Sex** : Sexe\n",
    "- **ChestPainType** : Type de douleur thoracique\n",
    "- **RestingBP** : Pression artérielle au repos\n",
    "- **Cholesterol** : Cholestérol\n",
    "- **FastingBS** : Glycémie à jeun\n",
    "- **RestingECG** : ECG au repos\n",
    "- **MaxHR** : Fréquence cardiaque maximale\n",
    "- **ExerciseAngina** : Angine induite par l'exercice\n",
    "- **ST_Slope** : Pente du segment ST\n",
    "- **HeartDisease** : Maladie cardiaque"
   ]
  },
  {
   "cell_type": "code",
   "execution_count": null,
   "metadata": {},
   "outputs": [],
   "source": [
    "# Complétez le code\n",
    "\n",
    "# Liste des noms actuels des colonnes\n",
    "noms_actuels = ['Age', 'Sex', 'ChestPainType', 'RestingBP', 'Cholesterol', 'FastingBS', 'RestingECG', 'MaxHR', 'ExerciseAngina', 'ST_Slope', 'HeartDisease']\n",
    "\n",
    "# Liste des nouveaux noms des colonnes\n",
    "nouveaux_noms = ['Âge', 'Sexe', 'Type de douleur thoracique', 'Pression artérielle au repos', 'Cholestérol', 'Glycémie à jeun', 'ECG au repos', 'Fréquence cardiaque maximale', 'Angine induite par l\\'exercice', 'Pente du segment ST', 'Maladie cardiaque']\n",
    "\n",
    "# Utilisation d'une boucle for pour renommer les colonnes\n",
    "for i in range(len(noms_actuels)):\n",
    "    df_prediction = "
   ]
  },
  {
   "cell_type": "markdown",
   "metadata": {},
   "source": [
    "**Afficher juste les 2 premières lignes du DataFrame, pour confirmer le changement des noms des colonnes.** <br>  Écrire le code dans la cellule suivante."
   ]
  },
  {
   "cell_type": "code",
   "execution_count": null,
   "metadata": {},
   "outputs": [],
   "source": [
    "# Complétez le code\n",
    "df_prediction."
   ]
  },
  {
   "cell_type": "markdown",
   "metadata": {},
   "source": [
    "<div class=\"alert alert-block alert-success\">\n",
    "<b>Quels sont les types des colonnes \"Fréquence cardiaque maximale\" et \"Oldpeak\"?</b><br>Écrire le code permettant d'obtenir les réponses dans la cellule suivante.<br>Écrire vos réponses dans la cellule après celle du code.\n",
    "</div>"
   ]
  },
  {
   "cell_type": "code",
   "execution_count": null,
   "metadata": {
    "execution": {
     "iopub.execute_input": "2022-10-25T12:54:48.584363Z",
     "iopub.status.busy": "2022-10-25T12:54:48.583530Z",
     "iopub.status.idle": "2022-10-25T12:54:48.612571Z",
     "shell.execute_reply": "2022-10-25T12:54:48.611623Z",
     "shell.execute_reply.started": "2022-10-25T12:54:48.584323Z"
    },
    "trusted": true
   },
   "outputs": [],
   "source": [
    "# Complétez le code\n",
    "\n",
    "df_prediction."
   ]
  },
  {
   "cell_type": "markdown",
   "metadata": {},
   "source": [
    "**Écrire votre réponse dans cette cellule :** (Double-cliquez dessus pour écrire votre réponse)<br>\n",
    "Type de 'Fréquence cardiaque maximale':   \n",
    "Type de 'Oldpeak': \n"
   ]
  },
  {
   "cell_type": "markdown",
   "metadata": {},
   "source": [
    "<div class=\"alert alert-block alert-success\">\n",
    "<b>Combien il y a t-il de données manquantes dans chaque colonne dans le dataFrame ?</b><br>Écrire une fonction permettant d'obtenir les réponses dans la cellule suivante.<br>Écrire vos réponses dans la fonction 'print' dans la cellule ci-dessous.\n",
    "</div>"
   ]
  },
  {
   "cell_type": "code",
   "execution_count": null,
   "metadata": {
    "execution": {
     "iopub.execute_input": "2022-10-25T12:54:48.614476Z",
     "iopub.status.busy": "2022-10-25T12:54:48.613925Z",
     "iopub.status.idle": "2022-10-25T12:54:48.931373Z",
     "shell.execute_reply": "2022-10-25T12:54:48.930011Z",
     "shell.execute_reply.started": "2022-10-25T12:54:48.614440Z"
    },
    "trusted": true
   },
   "outputs": [],
   "source": [
    "# Compléter le code \n",
    "\n",
    "def compter_nb_valeurs_manquantes(df):\n",
    "    # Compter le nombre de valeurs manquantes dans chaque colonne\n",
    "    nombre_valeurs_manquantes = \n",
    "\n",
    "    # Afficher le nombre de valeurs manquantes\n",
    "    print(f\"Il manque :\\n{nombre_valeurs_manquantes}\")\n",
    "\n",
    "# Appel de la fonction\n",
    "compter_nb_valeurs_manquantes(df_prediction)"
   ]
  },
  {
   "cell_type": "markdown",
   "metadata": {},
   "source": [
    "<div class=\"alert alert-block alert-success\">\n",
    "- Définissez une fonction qui prend un dataframe en paramètre et qui retourne le dataframe  avec aucune donnée manquante.<br>\n",
    "- Utilisez une boucle pour effectuer la recherche de valeurs manquantes.<br>\n",
    "- Utilisez cette fonction avec le dataframe pour remplacer les valeurs valeurs manquantes par <b>0</b>.<br>\n",
    "- Utilisez la fonction <b>'compter_nb_valeurs_manquantes()'</b> pour confirmer l'absence de valeurs manquantes.\n",
    "</div>"
   ]
  },
  {
   "cell_type": "code",
   "execution_count": null,
   "metadata": {},
   "outputs": [],
   "source": [
    "# Complétez le code\n",
    "\n",
    "# Définition de la fonction\n",
    "def nettoyage_df(df_sale):\n",
    "    # Convertir le DataFrame en liste\n",
    "    liste_df = \n",
    "\n",
    "    # Remplacer les valeurs manquantes par 0\n",
    "            \n",
    "    \n",
    "    # Reconstruction du dataframe\n",
    "    df_propre = \n",
    "\n",
    "    # Retour du dtaframe nettoyé\n",
    "    return df_propre\n",
    "\n",
    "# Appel de la fonction\n",
    "df_prediction = nettoyage_df(df_prediction)    \n",
    "\n",
    "# Confirmation qu'il n'y a plus de données manquantes\n",
    "compter_nb_valeurs_manquantes()\n"
   ]
  },
  {
   "cell_type": "markdown",
   "metadata": {},
   "source": [
    "<div class=\"alert alert-block alert-success\">\n",
    "<b>Quelle est la moyenne d'âge des patients ?</b><br>Écrire le code permettant d'obtenir les réponses dans la cellule suivante.<br>Écrire vos réponses dans la cellule après celle du code.\n",
    "</div>"
   ]
  },
  {
   "cell_type": "code",
   "execution_count": null,
   "metadata": {
    "execution": {
     "iopub.execute_input": "2022-10-25T12:54:48.934530Z",
     "iopub.status.busy": "2022-10-25T12:54:48.933194Z",
     "iopub.status.idle": "2022-10-25T12:54:48.975531Z",
     "shell.execute_reply": "2022-10-25T12:54:48.973213Z",
     "shell.execute_reply.started": "2022-10-25T12:54:48.934470Z"
    },
    "trusted": true
   },
   "outputs": [],
   "source": [
    "# Complétez le code\n",
    "\n",
    "df_prediction."
   ]
  },
  {
   "cell_type": "markdown",
   "metadata": {},
   "source": [
    "**Écrire votre réponse dans cette cellule :** (Double-cliquez dessus pour écrire votre réponse)<br>\n",
    "Âge moyen des patients: "
   ]
  },
  {
   "cell_type": "markdown",
   "metadata": {},
   "source": [
    "<u>Sélection de la population **atteinte** de maladies cardiaques</u>"
   ]
  },
  {
   "cell_type": "markdown",
   "metadata": {},
   "source": [
    "**Filtrez les personnes atteintes de maladie cardiaque.<br>\n",
    "Nous voulons un dataframe avec seulement les patients (Hommes et Femmes) atteints de maladies cardiaques.**<br>\n",
    "**Indices**: \n",
    "- Filtrer la colonne 'Maladie cardiaque'\n",
    "- Un patient est atteint de maladies cardiaques si la valeur de la colonne 'Maladie cardiaque' est égale à 1"
   ]
  },
  {
   "cell_type": "markdown",
   "metadata": {},
   "source": [
    "<div class=\"alert alert-block alert-success\">\n",
    "<b>Combien il y a t-il de personnes atteintes de maladies cardiaques ?</b><br>Écrire le code permettant d'obtenir les réponses dans la cellule suivante.<br>Écrire la réponse avec la fonction 'print' écrite dans la cellule code.\n",
    "</div>"
   ]
  },
  {
   "cell_type": "code",
   "execution_count": null,
   "metadata": {},
   "outputs": [],
   "source": [
    "# Complétez le code\n",
    "\n",
    "df_cardiaques = df_prediction[(df_prediction[''] == )]\n",
    "nombre_de_lignes = len()\n",
    "\n",
    "print(f\"Il y a {nombre_de_lignes} personnes atteintes de maladies cardiaques\")"
   ]
  },
  {
   "cell_type": "markdown",
   "metadata": {},
   "source": [
    "<div class=\"alert alert-block alert-success\">\n",
    "<b>Combien il y a t-il de personnes non atteintes de maladies cardiaques ?</b><br>Écrire le code permettant d'obtenir les réponses dans la cellule suivante.<br>Écrire la réponse avec la fonction 'print' écrite dans la cellule code.\n",
    "</div>"
   ]
  },
  {
   "cell_type": "code",
   "execution_count": null,
   "metadata": {},
   "outputs": [],
   "source": [
    "# Complétez le code ci-dessous\n",
    "df_non_cardiaques = df_prediction[(df_prediction[''] == )]\n",
    "nombre_de_lignes = len()\n",
    "\n",
    "print(f\"Il y a {nombre_de_lignes} personnes non atteintes de maladies cardiaques\")"
   ]
  },
  {
   "cell_type": "markdown",
   "metadata": {},
   "source": [
    "<u>Sélection de la population féminine **atteinte** de maladies cardiaques</u>"
   ]
  },
  {
   "cell_type": "markdown",
   "metadata": {},
   "source": [
    "**Filtrez les personnes féminines atteintes de maladie cardiaque.<br>\n",
    "Nous voulons un dataframe avec seulement les patientes de sexe féminin et cardiaques.**<br>\n",
    "**Indices**: \n",
    "- Filtrer les colonnes 'Sexe' et 'Maladie cardiaque'\n",
    "- Un patient n'est pas atteint de maladies cardiaques si la valeur de la colonne 'Maladie cardiaque' est égale à 0"
   ]
  },
  {
   "cell_type": "markdown",
   "metadata": {},
   "source": [
    "<div class=\"alert alert-block alert-success\">\n",
    "<b>Combien il y a t-il de femmes atteintes de maladies cardiaques ?</b><br>Écrire le code permettant d'obtenir les réponses dans la cellule suivante.<br>Écrire la réponse avec la fonction 'print' écrite dans la cellule code.\n",
    "</div>"
   ]
  },
  {
   "cell_type": "code",
   "execution_count": null,
   "metadata": {},
   "outputs": [],
   "source": [
    "# Complétez le code ci-dessous\n",
    "df_F_cardiaques = df_prediction[(df_prediction[''] == '') & (df_prediction[''] == )]\n",
    "nombre_de_lignes = len()\n",
    "\n",
    "print(f\"Il y a {nombre_de_lignes} femmes atteintes de maladies cardiaques\")"
   ]
  },
  {
   "cell_type": "markdown",
   "metadata": {},
   "source": [
    "<u>Sélection de la population féminine **non atteinte** de maladies cardiaques</u>"
   ]
  },
  {
   "cell_type": "markdown",
   "metadata": {},
   "source": [
    "**Filtrez les personnes féminines non atteintes de maladie cardiaque.<br>\n",
    "Nous voulons un dataframe avec seulement les patientes de sexe féminin et non cardiaques.**<br>\n",
    "**Indices**: \n",
    "- Filtrer les colonnes 'Sexe' et 'Maladie cardiaque'\n",
    "- Une patiente n'est pas atteinte de maladies cardiaques si la valeur de la colonne 'Maladie cardiaque' est égale à 0"
   ]
  },
  {
   "cell_type": "markdown",
   "metadata": {},
   "source": [
    "<div class=\"alert alert-block alert-success\">\n",
    "<b>Combien il y a t-il de femmes non atteintes de maladies cardiaques ?</b><br>Écrire le code permettant d'obtenir les réponses dans la cellule suivante.<br>Écrire la réponse avec la fonction 'print' écrite dans la cellule code.\n",
    "</div>"
   ]
  },
  {
   "cell_type": "code",
   "execution_count": null,
   "metadata": {},
   "outputs": [],
   "source": [
    "# Complétez le code ci-dessous\n",
    "df_F_non_cardiaques = df_prediction[(df_prediction[''] == '') & (df_prediction[''] == )]\n",
    "nombre_de_lignes = len()\n",
    "\n",
    "print(f\"Il y a {nombre_de_lignes} femmes non atteintes de maladies cardiaques\")"
   ]
  },
  {
   "cell_type": "markdown",
   "metadata": {},
   "source": [
    "<div class=\"alert alert-block alert-success\">\n",
    "<b>Que pouvez-vous conclure par rapport au nombre de femmes atteintes versus celles qui ne sont pas atteintes de maladies cardiaques ?</b><br>Écrire la réponse dans la cellule suivante.\n",
    "</div>"
   ]
  },
  {
   "cell_type": "markdown",
   "metadata": {},
   "source": [
    "**Écrire votre réponse dans cette cellule :** (Double-cliquez dessus pour écrire votre réponse)<br>\n",
    "Conclusion (F atteintes vs non atteintes):\n",
    "\n",
    "Les patientes atteintes de maladies cardiaques sont moins nombreuses que celles sans maladies cardiaques."
   ]
  },
  {
   "cell_type": "markdown",
   "metadata": {},
   "source": [
    "<div class=\"alert alert-block alert-success\">\n",
    "<b>Quelle est la moyenne du cholestérol pour les personnes (Hommes et Femmes) atteintes de maladies cardiaques ?</b><br>Écrire le code permettant d'obtenir la réponse dans la cellule suivante. Pour ce faire: <br>\n",
    "- Définissez une fonction qui prend un dataframe en paramètre et qui retourne la moyenne du cholestérol pour ce dataframe.<br>\n",
    "- Utilisez une boucle pour effectuer votre calcul dans la fonction.<br>\n",
    "- Utilisez cette fonction avec le dataframe contenant seulement les personnes atteintes de maladies cardiaques et affichez le résultat avec un `print`.\n",
    "</div>"
   ]
  },
  {
   "cell_type": "code",
   "execution_count": null,
   "metadata": {},
   "outputs": [],
   "source": [
    "# Complétez le code de la fonction\n",
    "def calcul_moyenne_cholesterol(donnees):\n",
    "\n",
    "\n",
    "    return somme / len(donnees)\n",
    "\n",
    "# Appel de la fonction\n",
    "moyenne_cholesterol = calcul_moyenne_cholesterol(df_cardiaques)\n",
    "print(f\"La moyenne du cholestérol des patients atteints de maladies cardiaques est de {round(moyenne_cholesterol,2)} mg/dl\")"
   ]
  },
  {
   "cell_type": "markdown",
   "metadata": {},
   "source": [
    "**Vérifiez votre résultat avec la fonction 'describe()'**<br>. Écrire votre code dans la cellule suivante."
   ]
  },
  {
   "cell_type": "code",
   "execution_count": null,
   "metadata": {},
   "outputs": [],
   "source": [
    "# Votre code ici\n"
   ]
  },
  {
   "cell_type": "markdown",
   "metadata": {},
   "source": [
    "### Partie 2. Visualiser graphiquement les données des patients (Matplotlib)"
   ]
  },
  {
   "cell_type": "markdown",
   "metadata": {},
   "source": [
    "<div class=\"alert alert-block alert-success\">\n",
    "<b>Entre les hommes et les femmes quel genre est plus nombreux parmis les patients ?</b><br>Écrire le code permettant de créer un <b>un diagramme à barres pour montrer le nombre de patients masculins et féminins.</b>, dans la cellule suivante.\n",
    "</div>"
   ]
  },
  {
   "cell_type": "code",
   "execution_count": null,
   "metadata": {},
   "outputs": [],
   "source": [
    "# Complétez le code du graphique\n",
    "# Graphique 1: Diagramme à barres du nombre de patients par sexe\n",
    "\n",
    "# Compter le nombre de patients par sexe\n",
    "nombre_patients = df_prediction[''].value_counts()\n",
    "\n",
    "# Créer le diagramme à barres\n",
    "plt.figure(figsize=(10, 6))\n",
    "plt.bar(nombre_patients.index,     , color=['blue', 'pink'])\n",
    "plt.xlabel('Sexe')\n",
    "plt.ylabel('Nombre de patients')\n",
    "plt.title('Nombre de patients par sexe')\n",
    "plt.grid(True)\n",
    "plt.show()"
   ]
  },
  {
   "cell_type": "markdown",
   "metadata": {},
   "source": [
    "<div class=\"alert alert-block alert-success\">\n",
    "<b>Quel est la tranche d'âges de la majorité des patients ?</b><br>Écrire le code permettant de créer un <b>histogramme pour visualiser la répartition des âges des patients</b>, dans la cellule suivante.\n",
    "</div>"
   ]
  },
  {
   "cell_type": "code",
   "execution_count": null,
   "metadata": {},
   "outputs": [],
   "source": [
    "# Complétez le code du graphique\n",
    "# Graphique 2: Histogramme de la répartition des âges\n",
    "\n",
    "plt.figure(figsize=(10, 6))\n",
    "# Les âges\n",
    "plt.hist(df_prediction[''], bins=10, edgecolor='black')\n",
    "plt.xlabel('Âge')\n",
    "plt.ylabel('Nombre de patients')\n",
    "plt.title('Répartition des âges des patients')\n",
    "plt.grid(True)\n",
    "plt.show()\n"
   ]
  },
  {
   "cell_type": "markdown",
   "metadata": {},
   "source": [
    "<div class=\"alert alert-block alert-success\">\n",
    "<b>Quelle est la distribution des âges, entre les patients atteints et ceux pas atteints de maladies cardiaque ?</b><br>Écrire le code permettant de créer un <b>un histogramme pour montrer la distribution des patients atteints vs non atteints.</b>, dans la cellule suivante.\n",
    "</div>"
   ]
  },
  {
   "cell_type": "code",
   "execution_count": null,
   "metadata": {},
   "outputs": [],
   "source": [
    "# Complétez le code du graphique\n",
    "# Graphique 3: Histogramme de la distribution des âges selon qu'ils sont atteints ou non\n",
    "\n",
    "# Créer une liste contenant l'age des patients atteints\n",
    "liste_age_atteints = df_cardiaques[''].values.tolist()\n",
    "\n",
    "# Créer une liste contenant l'age des patients non atteints\n",
    "liste_age_non_atteints = ['Âge'].values.tolist()\n",
    "\n",
    "# Créer l'histogramme\n",
    "plt.hist([  , ], bins=10, color=['skyblue', 'salmon'], edgecolor='black', label=['Atteints', 'Non atteints'])\n",
    "\n",
    "# Ajouter des titres et des labels\n",
    "plt.title('Distribution de l\\'âge')\n",
    "plt.xlabel('Âge')\n",
    "plt.ylabel('Nombre de patients')\n",
    "plt.legend()\n",
    "\n",
    "# Afficher le graphique\n",
    "plt.show()\n"
   ]
  },
  {
   "cell_type": "markdown",
   "metadata": {},
   "source": [
    "<div class=\"alert alert-block alert-success\">\n",
    "<b>Quel est le type de douleur thoracique le plus fréquent parmis les patients ?</b><br>Écrire le code permettant de créer un <b>un diagramme en secteurs pour visualiser la répartition des types de douleur thoracique parmi les patients.</b>, dans la cellule suivante.\n",
    "</div>"
   ]
  },
  {
   "cell_type": "code",
   "execution_count": null,
   "metadata": {},
   "outputs": [],
   "source": [
    "# Complétez le code du graphique\n",
    "# Graphique 4: Diagramme en secteurs du type de douleur thoracique\n",
    "\n",
    "# Compter le nombre de patients par type de douleur thoracique\n",
    "nb_patients = df_prediction[''].value_counts()\n",
    "secteur = (0, 0, 0, 0.2) # Écarte le 4e secteur\n",
    "# Créer le diagramme en secteurs\n",
    "plt.figure(figsize=(10, 6))\n",
    "plt.pie(  .values, explode=secteur, labels=  .index, autopct='%1.1f%%', startangle=140)\n",
    "plt.title('Répartition des types de douleur thoracique')\n",
    "plt.axis('equal')  # Assurer que le diagramme est circulaire\n",
    "plt.show()"
   ]
  },
  {
   "cell_type": "markdown",
   "metadata": {},
   "source": [
    "<div class=\"alert alert-block alert-success\">\n",
    "<b>Quel est la tranche d'âge des paptients qui ont la fréquence cardiaque maximale parmis les patients ?</b><br>Écrire le code permettant de créer un <b>un Nuage de points de la fréquence cardiaque maximale en fonction de l'âge.</b>, dans la cellule suivante.\n",
    "</div>"
   ]
  },
  {
   "cell_type": "code",
   "execution_count": null,
   "metadata": {},
   "outputs": [],
   "source": [
    "# Complétez le code du graphique\n",
    "# Graphique 5: # Créer le nuage de points\n",
    "\n",
    "plt.figure(figsize=(10, 6))\n",
    "plt.scatter(df_prediction[''], df_prediction[''], alpha=0.7)\n",
    "plt.xlabel('Âge')\n",
    "plt.ylabel('Fréquence cardiaque maximale')\n",
    "plt.title('Relation entre l\\'âge et la fréquence cardiaque maximale')\n",
    "plt.grid(True)\n",
    "plt.show()"
   ]
  },
  {
   "cell_type": "markdown",
   "metadata": {},
   "source": [
    "<div class=\"alert alert-block alert-success\">\n",
    "<b>Quel est la tranche d'âge des patients qui ont la un taux de cholestérol élevé parmis les patients ?</b><br>Écrire le code permettant de créer un <b>nuage de points pour visualiser la relation entre l'âge et le cholestérol chez les patients atteints.</b>, dans la cellule suivante.\n",
    "</div>"
   ]
  },
  {
   "cell_type": "code",
   "execution_count": null,
   "metadata": {},
   "outputs": [],
   "source": [
    "# Complétez le code du graphique\n",
    "# Graphique 6: Nuage de points relation âge et taux de cholestérol\n",
    "\n",
    "# Créer une liste contenant le taux de cholestérol des patients atteints\n",
    "liste_cholesterol_atteints = df_cardiaques[''].values.tolist()\n",
    "\n",
    "# Créer le nuage de points\n",
    "plt.scatter(liste_age_atteints, , color='red')\n",
    "\n",
    "# Ajouter des titres et des labels\n",
    "plt.title('Âge vs Cholestérol')\n",
    "plt.xlabel('Âge')\n",
    "plt.ylabel('Cholestérol')\n",
    "\n",
    "# Afficher le graphique\n",
    "plt.show()"
   ]
  },
  {
   "cell_type": "markdown",
   "metadata": {},
   "source": [
    "### Partie 3. Analyse statistiques (NumPy)"
   ]
  },
  {
   "cell_type": "markdown",
   "metadata": {},
   "source": [
    "<div class=\"alert alert-block alert-success\">\n",
    "<b>Calcul de la moyenne et de l'écart-type de l'âge des patients</b><br>Écrire le code NumPy dans la cellule suivante.\n",
    "</div>"
   ]
  },
  {
   "cell_type": "code",
   "execution_count": null,
   "metadata": {},
   "outputs": [],
   "source": [
    "# Complétez le code\n",
    "\n",
    "# Extraire les âges des patients\n",
    "ages = df_prediction[''].values\n",
    "\n",
    "# Calculer la moyenne et l'écart-type sur les âges\n",
    "moyenne_age = \n",
    "ecart_type_age = \n",
    "\n",
    "print(f\"Moyenne de l'âge des patients : {round(moyenne_age,2)}\")\n",
    "print(f\"Écart-type de l'âge des patients : {round(ecart_type_age,2)}\")"
   ]
  },
  {
   "cell_type": "markdown",
   "metadata": {},
   "source": [
    "<div class=\"alert alert-block alert-success\">\n",
    "<b>Calcul de la pression artérielle moyenne au repos par sexe</b><br>Écrire le code NumPy dans la cellule suivante.\n",
    "</div>"
   ]
  },
  {
   "cell_type": "code",
   "execution_count": null,
   "metadata": {},
   "outputs": [],
   "source": [
    "# Complétez le code\n",
    "\n",
    "# Extraire les pressions artérielles au repos par sexe\n",
    "pression_homme = df_prediction[df_prediction['Sexe'] == '']['Pression artérielle au repos'].values\n",
    "pression_femme = df_prediction[df_prediction['Sexe'] == '']['Pression artérielle au repos'].values\n",
    "\n",
    "# Calculer la moyenne pour chaque sexe\n",
    "moyenne_pression_homme = \n",
    "moyenne_pression_femme = \n",
    "\n",
    "print(f\"Pression artérielle moyenne au repos (Hommes) : {round(moyenne_pression_homme,2)}\")\n",
    "print(f\"Pression artérielle moyenne au repos (Femmes) : {round(moyenne_pression_femme,2)}\")"
   ]
  },
  {
   "cell_type": "markdown",
   "metadata": {},
   "source": [
    "<div class=\"alert alert-block alert-success\">\n",
    "<b>Calcul de la médiane du cholestérol</b><br>Écrire le code NumPy dans la cellule suivante.\n",
    "</div>"
   ]
  },
  {
   "cell_type": "code",
   "execution_count": null,
   "metadata": {},
   "outputs": [],
   "source": [
    "# Complétez le code\n",
    "\n",
    "# Extraire les valeurs de cholestérol\n",
    "cholesterol = df_prediction[''].values\n",
    "\n",
    "# Calculer la médiane\n",
    "medianne_cholesterol = \n",
    "\n",
    "print(f\"Médiane du cholestérol des patients : {medianne_cholesterol}\")"
   ]
  },
  {
   "cell_type": "markdown",
   "metadata": {},
   "source": [
    "<div class=\"alert alert-block alert-success\">\n",
    "<b>Calcul de la fréquence cardiaque maximale moyenne pour les patients avec et sans maladie cardiaque.</b><br>Écrire le code NumPy dans la cellule suivante.\n",
    "</div>"
   ]
  },
  {
   "cell_type": "code",
   "execution_count": null,
   "metadata": {},
   "outputs": [],
   "source": [
    "# Complétez le code\n",
    "\n",
    "# Extraire les fréquences cardiaques maximales pour chaque groupe\n",
    "hr_max_avec_maladie = df_prediction[df_prediction['Maladie cardiaque'] == ]['Fréquence cardiaque maximale'].values\n",
    "hr_max_sans_maladie = df_prediction[df_prediction['Maladie cardiaque'] == ]['Fréquence cardiaque maximale'].values\n",
    "\n",
    "# Calculer la moyenne pour chaque groupe\n",
    "moyenne_hr_max_avec_maladie = \n",
    "moyenne_hr_max_sans_maladie =\n",
    "\n",
    "print(f\"Fréquence cardiaque maximale moyenne (avec maladie cardiaque) : {round(moyenne_hr_max_avec_maladie,2)}\")\n",
    "print(f\"Fréquence cardiaque maximale moyenne (sans maladie cardiaque) : {round(moyenne_hr_max_sans_maladie,2)}\")"
   ]
  },
  {
   "cell_type": "markdown",
   "metadata": {},
   "source": [
    "<div class=\"alert alert-block alert-success\">\n",
    "<b>Calcul de la proportion de patients ayant une angine induite par l'exercice.</b><br>Écrire le code NumPy dans la cellule suivante.\n",
    "</div>"
   ]
  },
  {
   "cell_type": "code",
   "execution_count": null,
   "metadata": {},
   "outputs": [],
   "source": [
    "# Complétez le code\n",
    "\n",
    "# Extraire les valeurs d'angine induite par l'exercice\n",
    "angine_par_exercice = df_prediction[''].values\n",
    "\n",
    "# Calculer la proportion\n",
    "proportion_angine = np.  (angine_par_exercice == 'Y') / len(angine_par_exercice)\n",
    "\n",
    "print(f\"Proportion de patients ayant une angine induite par l'exercice : {round(proportion_angine,2)}\")"
   ]
  },
  {
   "cell_type": "markdown",
   "metadata": {},
   "source": [
    "<div class=\"alert alert-block alert-success\">\n",
    "<b>Calcul de la Régression linéaire qui relie l’âge et le taux de cholestérol pour les personnes de 70 ans et plus</b><br>Écrire le code NumPy dans la cellule suivante.\n",
    "</div>"
   ]
  },
  {
   "cell_type": "code",
   "execution_count": null,
   "metadata": {},
   "outputs": [],
   "source": [
    "# Complétez le code\n",
    "\n",
    "# Filtrer les âges de 70 ans et plus\n",
    "df_45_65 = df_prediction[(df_prediction['Âge'] )]\n",
    "\n",
    "# Extraction des âges et des taux de cholestérol dans des tableaux NumPy\n",
    "df_ages = df_45_65['Âge'].\n",
    "df_cholesterol = df_45_65['Cholestérol'].\n",
    "\n",
    "# Calcul de la droite de régression linéaire\n",
    "coefficients = np.polyfit(df_ages, df_cholesterol, 1)\n",
    "polynomial = np.poly1d(coefficients)\n",
    "regression_line = polynomial(df_ages)\n",
    "\n",
    "# Tracer les points de données et la droite de régression\n",
    "plt.scatter(df_ages, df_cholesterol, color='blue', label='Données')\n",
    "plt.plot(df_ages, regression_line, color='red', label='Droite de régression')\n",
    "\n",
    "# Ajouter des labels et un titre\n",
    "plt.xlabel(\"Âge\")\n",
    "plt.ylabel(\"Cholestérol\")\n",
    "plt.title(\"Relation entre l'âge et le cholestérol (70 ans et plus)\")\n",
    "plt.legend()\n",
    "\n",
    "# Afficher le graphique\n",
    "plt.show()"
   ]
  },
  {
   "cell_type": "markdown",
   "metadata": {},
   "source": [
    "<div class=\"alert alert-block alert-success\">\n",
    "<b>Calcul du coefficient de corrélation entre l'âge et le taux de cholestérol pour les personnes de 70 ans et plus </b><br>Écrire le code NumPy dans la cellule suivante, ensuite interprétez le coefficient de corrélation et écrire en 1-2 phrases la conclusion que vous en tirez.\n",
    "</div>"
   ]
  },
  {
   "cell_type": "code",
   "execution_count": null,
   "metadata": {},
   "outputs": [],
   "source": [
    "# Complétez le code\n",
    "x = \n",
    "y = \n",
    "matrice_correlation = \n",
    "print(matrice_correlation)\n"
   ]
  },
  {
   "cell_type": "markdown",
   "metadata": {},
   "source": [
    "**Écrire votre réponse dans cette cellule :** (Double-cliquez dessus pour écrire votre réponse)<br>\n",
    "Interprétation du coefficient de correlation:  "
   ]
  }
 ],
 "metadata": {
  "kernelspec": {
   "display_name": "Python 3",
   "language": "python",
   "name": "python3"
  },
  "language_info": {
   "codemirror_mode": {
    "name": "ipython",
    "version": 3
   },
   "file_extension": ".py",
   "mimetype": "text/x-python",
   "name": "python",
   "nbconvert_exporter": "python",
   "pygments_lexer": "ipython3",
   "version": "3.11.9"
  }
 },
 "nbformat": 4,
 "nbformat_minor": 4
}
