{
 "cells": [
  {
   "cell_type": "code",
   "execution_count": 1,
   "metadata": {},
   "outputs": [
    {
     "name": "stdout",
     "output_type": "stream",
     "text": [
      "La somme des nombres pairs est 30\n"
     ]
    }
   ],
   "source": [
    "liste = [1, 2, 3, 4, 5, 6, 7, 8, 9, 10]\n",
    "\n",
    "somme_pair = sum([nombre for nombre in liste if nombre % 2 ==0])\n",
    "\n",
    "print(f\"La somme des nombres pairs est {somme_pair}\")"
   ]
  },
  {
   "cell_type": "code",
   "execution_count": 2,
   "metadata": {},
   "outputs": [
    {
     "name": "stdout",
     "output_type": "stream",
     "text": [
      "7\n"
     ]
    }
   ],
   "source": [
    "def addition(a, b):\n",
    "    return a + b\n",
    "\n",
    "resultat= addition(3, 4)\n",
    "print(resultat)"
   ]
  },
  {
   "cell_type": "code",
   "execution_count": 3,
   "metadata": {},
   "outputs": [
    {
     "name": "stdout",
     "output_type": "stream",
     "text": [
      "10\n"
     ]
    }
   ],
   "source": [
    "ma_variable = 10\n",
    "def afficher_variable():\n",
    "    print(ma_variable)\n",
    " \n",
    "afficher_variable()"
   ]
  },
  {
   "cell_type": "code",
   "execution_count": 5,
   "metadata": {},
   "outputs": [
    {
     "name": "stdout",
     "output_type": "stream",
     "text": [
      "<class 'int'>\n"
     ]
    }
   ],
   "source": [
    "x = int(input(\"EEE\"))\n",
    "print(type(x))     "
   ]
  },
  {
   "cell_type": "code",
   "execution_count": 7,
   "metadata": {},
   "outputs": [
    {
     "name": "stdout",
     "output_type": "stream",
     "text": [
      "<class 'int'>\n"
     ]
    }
   ],
   "source": [
    "x = 1\n",
    "y = 2\n",
    "z = y // x\n",
    "print(type(z))"
   ]
  },
  {
   "cell_type": "code",
   "execution_count": 8,
   "metadata": {},
   "outputs": [
    {
     "name": "stdout",
     "output_type": "stream",
     "text": [
      "<class 'int'>\n"
     ]
    }
   ],
   "source": [
    "x = 1\n",
    "y = 2\n",
    "z = y % x\n",
    "print(type(z))"
   ]
  },
  {
   "cell_type": "code",
   "execution_count": 9,
   "metadata": {},
   "outputs": [
    {
     "name": "stdout",
     "output_type": "stream",
     "text": [
      "Les premiers 6 termes de la suite sont: [0, 1, 1, 2, 3, 5, 8, 13]\n"
     ]
    }
   ],
   "source": [
    "# Demander à l'utilisateur de saisir un nombre entier positif\n",
    "n = int(input(\"Entrez un nombre entier positif: \"))\n",
    "\n",
    "\n",
    "# Initialiser les deux premiers termes de la suite\n",
    "sequence = [0, 1]\n",
    "\n",
    "\n",
    "# Générer la suite jusqu'à ce que la longueur de la suite soit n + 2\n",
    "# Une boucle for est utilisée pour générer les termes suivants de la suite en ajoutant les deux termes précédents.\n",
    "\n",
    "for i in range(2, n + 2):\n",
    "    prochain = sequence[-1] + sequence[-2]\n",
    "    sequence.append(prochain)\n",
    "\n",
    "\n",
    "# Afficher les premiers termes de la suite\n",
    "print(f\"Les premiers {n} termes de la suite sont: {sequence[:n + 2]}\")"
   ]
  },
  {
   "cell_type": "code",
   "execution_count": null,
   "metadata": {},
   "outputs": [],
   "source": [
    "# Fonction pour vérifier si un nombre est parfait\n",
    "def est_nombre_parfait(n):\n",
    "    # Calculer la somme des diviseurs propres\n",
    "    somme_diviseurs = sum(i for i in range(1, n) if n % i == 0)\n",
    "    # Vérifier si la somme des diviseurs est égale au nombre\n",
    "    return somme_diviseurs == n\n",
    "\n",
    "# Demander à l'utilisateur de saisir un nombre entier positif\n",
    "nombre = int(input(\"Entrez un nombre entier positif: \"))\n",
    "\n",
    "# Vérifier si le nombre est parfait et afficher le résultat\n",
    "if est_nombre_parfait(nombre):\n",
    "    print(f\"Le nombre {nombre} est un nombre parfait.\")\n",
    "else:\n",
    "    print(f\"Le nombre {nombre} n'est pas un nombre parfait.\")\n"
   ]
  },
  {
   "cell_type": "code",
   "execution_count": 11,
   "metadata": {},
   "outputs": [
    {
     "name": "stdout",
     "output_type": "stream",
     "text": [
      "Pente (a): 2.2\n",
      "Ordonnée à l'origine (b): -1.0\n"
     ]
    }
   ],
   "source": [
    "# Données\n",
    "x = [1, 2, 3, 4, 5]\n",
    "y = [2, 3, 5, 7, 11]\n",
    "\n",
    "# Calcul des paramètres\n",
    "n = len(x)\n",
    "sum_x = sum(x)\n",
    "sum_y = sum(y)\n",
    "\n",
    "sum_x_carre = 0\n",
    "for i in x:\n",
    "    sum_x_carre += i**2\n",
    "\n",
    "sum_xy = 0\n",
    "for i in range(n):\n",
    "    sum_xy += x[i] * y[i]\n",
    "\n",
    "a = (n * sum_xy - sum_x * sum_y) / (n * sum_x_carre - sum_x**2)\n",
    "b = (sum_y * sum_x_carre - sum_x * sum_xy) / (n * sum_x_carre - sum_x**2)\n",
    "\n",
    "print(f'Pente (a): {a}')\n",
    "print(f'Ordonnée à l\\'origine (b): {b}')"
   ]
  },
  {
   "cell_type": "code",
   "execution_count": 13,
   "metadata": {},
   "outputs": [
    {
     "name": "stdout",
     "output_type": "stream",
     "text": [
      "Pente (a): 2.2\n",
      "Ordonnée à l'origine (b): -1.0\n"
     ]
    }
   ],
   "source": [
    "import numpy as np\n",
    "\n",
    "# Données\n",
    "x = np.array([1, 2, 3, 4, 5])\n",
    "y = np.array([2, 3, 5, 7, 11])\n",
    "\n",
    "# Calcul des paramètres\n",
    "A = np.vstack([x, np.ones(len(x))]).T\n",
    "a, b = np.linalg.lstsq(A, y, rcond=None)[0]\n",
    "\n",
    "print(f'Pente (a): {round(a,1)}')\n",
    "print(f'Ordonnée à l\\'origine (b): {round(b,1)}')"
   ]
  }
 ],
 "metadata": {
  "kernelspec": {
   "display_name": "Python 3",
   "language": "python",
   "name": "python3"
  },
  "language_info": {
   "codemirror_mode": {
    "name": "ipython",
    "version": 3
   },
   "file_extension": ".py",
   "mimetype": "text/x-python",
   "name": "python",
   "nbconvert_exporter": "python",
   "pygments_lexer": "ipython3",
   "version": "3.11.9"
  }
 },
 "nbformat": 4,
 "nbformat_minor": 2
}
