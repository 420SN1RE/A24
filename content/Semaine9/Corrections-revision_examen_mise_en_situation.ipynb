{
 "cells": [
  {
   "cell_type": "markdown",
   "metadata": {},
   "source": [
    "## Mise en situation\n",
    "Vous êtes un docteur en neuroscience et vous devez mettre en place des algorithmes pour effectuer des analyses sur les données qui vous ont été transmises."
   ]
  },
  {
   "cell_type": "markdown",
   "metadata": {},
   "source": [
    "#### Exercice 1 : statistiques sur un échantillon de données\n",
    "\n",
    "Créer une fonction qui va calculer la moyenne, la médiane, et l'écart type de deux échantillons de mesures de potentiel électrique, puis afficher un message de comparaison des résultats.\n",
    "\n",
    "- Formule de l'écart type de l'échantillon : \n",
    "$$\n",
    "\\text{écart\\_type} = \\sqrt{\\frac{sommes\\_des{(x - \\text{moyenne})^2}}{\\text{n - 1}}}\n",
    "$$\n",
    "\n",
    "- Exemple d'affichage :\n",
    "\n",
    "Série 1 - Moyenne: 4.75, Médiane: 4.0, Écart type: 2.81\\\n",
    "Série 2 - Moyenne: 2.85, Médiane: 2.9, Écart type: 1.65\n",
    "\n"
   ]
  },
  {
   "cell_type": "code",
   "execution_count": 7,
   "metadata": {},
   "outputs": [
    {
     "name": "stdout",
     "output_type": "stream",
     "text": [
      "Série 1 - Moyenne: 4.75, Médiane: 4.0, Écart type: 2.81\n",
      "Série 2 - Moyenne: 2.85, Médiane: 2.9, Écart type: 1.65\n"
     ]
    }
   ],
   "source": [
    "# Correction\n",
    "\n",
    "# Série de mesures\n",
    "mesures1 = [1.2, 3.4, 2.8, 4.6, 5.1, 8.2, 9.5, 3.2]\n",
    "mesures2 = [2.3, 3.5, 2.1, 4.0, 5.2, 4.2, 1.1, 0.4]\n",
    "\n",
    "def statistiques(mesures):\n",
    "    # calcul de la moyenne\n",
    "    moyenne = sum(mesures) / len(mesures)\n",
    "    # calcul de la médiane\n",
    "    mesures_triees = sorted(mesures) # tri de la liste\n",
    "    # Si liste impaire\n",
    "    if (len(mesures_triees) % 2) != 0:\n",
    "        milieu = len(mesures_triees) // 2\n",
    "        mediane = mesures_triees[milieu]\n",
    "    # Si liste pair\n",
    "    else:\n",
    "        avant = (len(mesures_triees) // 2) - 1\n",
    "        apres = (len(mesures_triees) // 2)\n",
    "        mediane = (mesures_triees[avant] + mesures_triees[apres]) / 2\n",
    "    # calcul de la variance\n",
    "    variance = 0\n",
    "    for x in mesures:\n",
    "        variance = variance + ((x - moyenne) ** 2)\n",
    "    # calcul de l'écart type de l'échantillon\n",
    "    ecart_type = (variance / (len(mesures) - 1)) ** 0.5\n",
    "    return moyenne, mediane, ecart_type\n",
    "\n",
    "# Appel des fonctions\n",
    "resultats1 = statistiques(mesures1)\n",
    "resultats2 = statistiques(mesures2)\n",
    "\n",
    "# Affichage des résultats\n",
    "print(f\"Série 1 - Moyenne: {round(resultats1[0], 2)}, Médiane: {round(resultats1[1], 2)}, Écart type: {round(resultats1[2], 2)}\")\n",
    "print(f\"Série 2 - Moyenne: {round(resultats2[0], 2)}, Médiane: {round(resultats2[1], 2)}, Écart type: {round(resultats2[2], 2)}\")"
   ]
  },
  {
   "cell_type": "markdown",
   "metadata": {},
   "source": [
    "#### Exercice 2 : code non fonctionnel\n",
    "\n",
    "Votre stagiaire a développé une fonction qui permet de déterminer si les mesures du patient sont dans la plage normale et de catégoriser les résultats.\\\n",
    "Cependant cette fonction ne s'exécute pas correctement et ne retourne pas les résultats attendus.\\\n",
    "Modifiez-la pour que les résultats concordent avec ce qui est demandé ci-dessous.\n",
    "\n",
    "La mesure est considérée comme :\n",
    "- **très faible** si le patient à un relevé strictement inférieur à 1\n",
    "- **normale** si le patient à un relevé compris entre 1 et 5 inclus\n",
    "- **élevée** pour le reste des données"
   ]
  },
  {
   "cell_type": "code",
   "execution_count": null,
   "metadata": {},
   "outputs": [],
   "source": [
    "# Mesures du patient\n",
    "mesures = [1.2, 3.4, 2.8, 1.0, 4.6, 5.1, 8.2, 5.0, 9.5, 3.2]\n",
    "\n",
    "def categoriser_mesures(mesures):\n",
    "    categories = [0]\n",
    "    for mesure in mesures:\n",
    "        if mesure <= 1:\n",
    "            categories.insert(\"Très faible\")\n",
    "        elif 1 < mesure != 5:\n",
    "            categories.insert(\"Normale\")\n",
    "        else:\n",
    "            categories.insert(\"Élevée\")\n",
    "    return categories\n",
    "\n",
    "categories = categoriser_mesures(mesures[3])\n",
    "print(f\"Catégories des mesures: {categories}\")\n",
    "\n",
    "valeur_unique = list(categories)\n",
    "print(f\"Les valeurs uniques relevés sur ce patient sont {valeur_unique}\")"
   ]
  },
  {
   "cell_type": "code",
   "execution_count": 8,
   "metadata": {},
   "outputs": [
    {
     "name": "stdout",
     "output_type": "stream",
     "text": [
      "Catégories des mesures: ['Normale', 'Normale', 'Normale', 'Normale', 'Normale', 'Élevée', 'Élevée', 'Normale', 'Élevée', 'Normale']\n",
      "Les valeurs uniques relevées sur ce patient sont {'Élevée', 'Normale'}\n"
     ]
    }
   ],
   "source": [
    "# Correction\n",
    "\n",
    "# Mesures du patient\n",
    "mesures = [1.2, 3.4, 2.8, 1.0, 4.6, 5.1, 8.2, 5.0, 9.5, 3.2]\n",
    "\n",
    "# Fonction qui permet de déterminer la mesure du patient\n",
    "def categoriser_mesures(mesures):\n",
    "    categories = []\n",
    "    # Analyse chaque mesure pour déterminer son niveau\n",
    "    for mesure in mesures:\n",
    "        if mesure < 1:\n",
    "            categories.append(\"Très faible\")\n",
    "        elif 1 <= mesure <= 5:\n",
    "            categories.append(\"Normale\")\n",
    "        else:\n",
    "            categories.append(\"Élevée\")\n",
    "    return categories\n",
    "\n",
    "# Exécution de la fonction\n",
    "categories = categoriser_mesures(mesures)\n",
    "print(f\"Catégories des mesures: {categories}\")\n",
    "\n",
    "# Définir les valeurs uniques des rélevés.\n",
    "valeurs_uniques = set(categories)\n",
    "print(f\"Les valeurs uniques relevées sur ce patient sont {valeurs_uniques}\")\n"
   ]
  },
  {
   "cell_type": "markdown",
   "metadata": {},
   "source": [
    "#### Exercice 3 : code désordonné\n",
    "\n",
    "Le code de la fonction que vous venez de développer est complètement désordonné. Remettez-le en ordre pour que tout fonctionne correctement.\\\n",
    "L'objectif de cette fonction est de compter le nombre de mesures normales et d'en calculer la moyenne."
   ]
  },
  {
   "cell_type": "code",
   "execution_count": null,
   "metadata": {},
   "outputs": [],
   "source": [
    "mesures = [1.2, 3.4, 2.8, 4.6, 5.1, 6.2, 0.8]\n",
    "\n",
    "def analyser_mesures(mesures):\n",
    "    compteur = 0\n",
    "    compteur += 1\n",
    "    for mesure in mesures:\n",
    "        mesures_normales.append(mesure)\n",
    "        if 1 <= mesure <= 5:\n",
    "            mesures_normales = []\n",
    "    print(f\"Nombre de mesures dans la plage normale: {nb_normal}\")\n",
    "    print(f\"Moyenne des mesures normales: {moyenne_valeurs_normales}\")\n",
    "    moyenne_normales = sum(mesures_normales) / len(mesures_normales)\n",
    "    return compteur, moyenne_normales\n",
    "\n",
    "nb_normal, moyenne_valeurs_normales = analyser_mesures(mesures)"
   ]
  },
  {
   "cell_type": "code",
   "execution_count": null,
   "metadata": {},
   "outputs": [],
   "source": [
    "# Correction\n",
    "\n",
    "# Mesures du patient\n",
    "mesures = [1.2, 3.4, 2.8, 4.6, 5.1, 6.2, 0.8]\n",
    "\n",
    "# Recupère le nombres d'analyses normales et leur moyenne\n",
    "def analyser_mesures(mesures):\n",
    "    # Initialisation d'un compteur et d'un tableau de mesures normales\n",
    "    compteur = 0\n",
    "    mesures_normales = []\n",
    "    # Détermine si chaque mesure est normale\n",
    "    for mesure in mesures:\n",
    "        if 1 <= mesure <= 5:\n",
    "            compteur += 1\n",
    "            mesures_normales.append(mesure)\n",
    "    # Calcul de la moyenne des normales\n",
    "    moyenne_normales = sum(mesures_normales) / len(mesures_normales)\n",
    "    return compteur, moyenne_normales\n",
    "\n",
    "# Exécution de la fonction\n",
    "nb_normal, moyenne_valeurs_normales = analyser_mesures(mesures)\n",
    "\n",
    "# Affichage des résultat\n",
    "print(f\"Nombre de mesures dans la plage normale: {nb_normal}\")\n",
    "print(f\"Moyenne des mesures normales: {moyenne_valeurs_normales}\")"
   ]
  }
 ],
 "metadata": {
  "kernelspec": {
   "display_name": "Python 3",
   "language": "python",
   "name": "python3"
  },
  "language_info": {
   "codemirror_mode": {
    "name": "ipython",
    "version": 3
   },
   "file_extension": ".py",
   "mimetype": "text/x-python",
   "name": "python",
   "nbconvert_exporter": "python",
   "pygments_lexer": "ipython3",
   "version": "3.11.9"
  }
 },
 "nbformat": 4,
 "nbformat_minor": 2
}
