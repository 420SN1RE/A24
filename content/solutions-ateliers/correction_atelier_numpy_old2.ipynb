{
 "cells": [
  {
   "cell_type": "markdown",
   "metadata": {},
   "source": [
    "# Premier pas avec Numpy\n",
    "\n",
    "Importer la librairie Numpy dans votre notebook, et n'oubliez pas de lui donner l'alias `np`."
   ]
  },
  {
   "cell_type": "code",
   "execution_count": 38,
   "metadata": {},
   "outputs": [],
   "source": [
    "# Votre code ci-dessous\n",
    "import numpy as np"
   ]
  },
  {
   "cell_type": "markdown",
   "metadata": {},
   "source": [
    "# Listes numpy - ndarray"
   ]
  },
  {
   "cell_type": "markdown",
   "metadata": {},
   "source": [
    "Conververtissez la liste ci dessous en `ndarray`, dans une nouvelle variable nommée `tableau`. Affichez ce nouveau tableau et son type pour confirmer que la conversion à bien marché. Affichez également la liste et son type.\n",
    "\n",
    "Remarquez-vous une différence entre les deux affichage de liste ?"
   ]
  },
  {
   "cell_type": "code",
   "execution_count": 39,
   "metadata": {},
   "outputs": [],
   "source": [
    "liste = [10,20,30,40,50,60]\n",
    "\n",
    "# Votre code ci-dessous\n",
    "tableau = np.array(liste)"
   ]
  },
  {
   "cell_type": "markdown",
   "metadata": {},
   "source": [
    "1. Affichez maintenant le 3ieme éléments de la variable `tableau` en utilisant un `f-string`.\n",
    "1. Créez un sous tabeau (`tableau_2`) à partir de celui créé ci-dessus contenant les valeurs `[30 40 50]`. Affichez le, et affichez son type."
   ]
  },
  {
   "cell_type": "code",
   "execution_count": 40,
   "metadata": {},
   "outputs": [
    {
     "name": "stdout",
     "output_type": "stream",
     "text": [
      "Le 3e élément est: 30\n",
      "[30 40 50]\n",
      "<class 'numpy.ndarray'>\n"
     ]
    }
   ],
   "source": [
    "# 1\n",
    "print(f\"Le 3e élément est: {tableau[2]}\")\n",
    "# 2\n",
    "tableau_2 = tableau[2:5]\n",
    "print(tableau_2)\n",
    "print(type(tableau_2))"
   ]
  },
  {
   "cell_type": "markdown",
   "metadata": {},
   "source": [
    "## Générer des listes automatiquement"
   ]
  },
  {
   "cell_type": "markdown",
   "metadata": {},
   "source": [
    "### Version 1\n",
    "\n",
    "Générez automatiquement un tableau allant de -4 à 4 inclus, avec un pas de `0.2`.\n",
    "\n",
    "Affichez ensuite ce tableau et sa longueur (elle doit être de 41).\n",
    "\n",
    "*Pour réduire le nombre de décimales affichées, vous pouvez utiliser la fonction `np.round()` qui est l'équivalent de la fonction python standard `round()`, mais pour tous les éléments d'un `ndarray`. Elles utilisent les mêmes paramètres.*"
   ]
  },
  {
   "cell_type": "code",
   "execution_count": 41,
   "metadata": {},
   "outputs": [
    {
     "name": "stdout",
     "output_type": "stream",
     "text": [
      "Tableau : [-4.  -3.8 -3.6 -3.4 -3.2 -3.  -2.8 -2.6 -2.4 -2.2 -2.  -1.8 -1.6 -1.4\n",
      " -1.2 -1.  -0.8 -0.6 -0.4 -0.2  0.   0.2  0.4  0.6  0.8  1.   1.2  1.4\n",
      "  1.6  1.8  2.   2.2  2.4  2.6  2.8  3.   3.2  3.4  3.6  3.8  4. ]\n",
      "Longueur du tableau : 41\n"
     ]
    }
   ],
   "source": [
    "# Votre code ci-dessous\n",
    "\n",
    "# Générer le tableau allant de -4 à 4 inclus, avec un pas de 0.2\n",
    "tableau = np.arange(-4, 4.2, 0.2)\n",
    "\n",
    "# Arrondir les valeurs du tableau à 1 décimale pour réduire le nombre de décimales affichées\n",
    "tableau_arrondi = np.round(tableau, 1)\n",
    "\n",
    "# Afficher le tableau et sa longueur\n",
    "print(\"Tableau :\", tableau_arrondi)\n",
    "print(\"Longueur du tableau :\", len(tableau_arrondi))\n"
   ]
  },
  {
   "cell_type": "markdown",
   "metadata": {},
   "source": [
    "### Version 2\n",
    "\n",
    "Générez le même tableau mais en utilisant la fonction `np.linspace()`.\n",
    "\n",
    "*Note: la question précédente contient un élément qui peut vous aider à déterminer les paramètres à donner a la fonction `linspace`.*"
   ]
  },
  {
   "cell_type": "code",
   "execution_count": 42,
   "metadata": {},
   "outputs": [
    {
     "name": "stdout",
     "output_type": "stream",
     "text": [
      "Tableau : [-4.  -3.8 -3.6 -3.4 -3.2 -3.  -2.8 -2.6 -2.4 -2.2 -2.  -1.8 -1.6 -1.4\n",
      " -1.2 -1.  -0.8 -0.6 -0.4 -0.2  0.   0.2  0.4  0.6  0.8  1.   1.2  1.4\n",
      "  1.6  1.8  2.   2.2  2.4  2.6  2.8  3.   3.2  3.4  3.6  3.8  4. ]\n",
      "Longueur du tableau : 41\n"
     ]
    }
   ],
   "source": [
    "# Votre code ci-dessous\n",
    "\n",
    "# Générer le tableau allant de -4 à 4 inclus, avec un pas de 0.2 en utilisant np.linspace()\n",
    "tableau = np.linspace(-4, 4, 41)\n",
    "\n",
    "# Arrondir les valeurs du tableau à 1 décimale pour réduire le nombre de décimales affichées\n",
    "tableau_arrondi = np.round(tableau, 1)\n",
    "\n",
    "# Afficher le tableau et sa longueur\n",
    "print(\"Tableau :\", tableau_arrondi)\n",
    "print(\"Longueur du tableau :\", len(tableau_arrondi))\n"
   ]
  },
  {
   "cell_type": "markdown",
   "metadata": {},
   "source": [
    "# Fonction numpy pour les listes / tableau\n",
    "En utilisant les fonctions prédéfinies dans Numpy, calculez:\n",
    "1. la moyenne de la liste\n",
    "1. la somme de la liste\n",
    "1. la minimum de la liste\n",
    "1. la maximum de la liste"
   ]
  },
  {
   "cell_type": "code",
   "execution_count": 43,
   "metadata": {},
   "outputs": [
    {
     "name": "stdout",
     "output_type": "stream",
     "text": [
      "Moyenne de la liste : 3.0\n",
      "Somme de la liste : 15\n",
      "Minimum de la liste : 1\n",
      "Maximum de la liste : 5\n"
     ]
    }
   ],
   "source": [
    "# Votre code ci-dessous\n",
    "\n",
    "# Liste d'exemple\n",
    "liste = [1, 2, 3, 4, 5]\n",
    "\n",
    "# Calculer la moyenne de la liste\n",
    "moyenne = np.mean(liste)\n",
    "\n",
    "# Calculer la somme de la liste\n",
    "somme = np.sum(liste)\n",
    "\n",
    "# Calculer le minimum de la liste\n",
    "minimum = np.min(liste)\n",
    "\n",
    "# Calculer le maximum de la liste\n",
    "maximum = np.max(liste)\n",
    "\n",
    "print(f\"Moyenne de la liste : {moyenne}\")\n",
    "print(f\"Somme de la liste : {somme}\")\n",
    "print(f\"Minimum de la liste : {minimum}\")\n",
    "print(f\"Maximum de la liste : {maximum}\")\n"
   ]
  },
  {
   "cell_type": "markdown",
   "metadata": {},
   "source": [
    "# Opérateur sur les tableau"
   ]
  },
  {
   "cell_type": "markdown",
   "metadata": {},
   "source": [
    "Grâce aux opérateurs numérique offert par Numpy, multipliez par $\\pi$ a tous éléments de la variable `tableau`, stocker le résultat dans la variable `tableau_3`.\n",
    "\n",
    "Affichez ensuite le résultat arrondi à 2 décimales."
   ]
  },
  {
   "cell_type": "code",
   "execution_count": 44,
   "metadata": {},
   "outputs": [
    {
     "name": "stdout",
     "output_type": "stream",
     "text": [
      "Tableau multiplié par π et arrondi à 2 décimales : [-12.57 -11.94 -11.31 -10.68 -10.05  -9.42  -8.8   -8.17  -7.54  -6.91\n",
      "  -6.28  -5.65  -5.03  -4.4   -3.77  -3.14  -2.51  -1.88  -1.26  -0.63\n",
      "   0.     0.63   1.26   1.88   2.51   3.14   3.77   4.4    5.03   5.65\n",
      "   6.28   6.91   7.54   8.17   8.8    9.42  10.05  10.68  11.31  11.94\n",
      "  12.57]\n"
     ]
    }
   ],
   "source": [
    "# Votre code ci-dessous\n",
    "\n",
    "# Multiplier chaque élément du tableau par π\n",
    "tableau_3 = tableau * np.pi\n",
    "\n",
    "# Arrondir les valeurs du tableau à 2 décimales\n",
    "tableau_3_arrondi = np.round(tableau_3, 2)\n",
    "\n",
    "# Afficher le résultat\n",
    "print(\"Tableau multiplié par π et arrondi à 2 décimales :\", tableau_3_arrondi)\n"
   ]
  },
  {
   "cell_type": "markdown",
   "metadata": {},
   "source": [
    "Ecrivez la fonction `addition_numpy` qui reproduit le comportement numpy de l'addition d'un tableau avec une valeur numérique.\n",
    "\n",
    "Cette fonction ne doit utiliser aucun élément de Numpy, seulement du Python de base (utilisez des listes pas de `ndarray`).\n",
    "\n",
    "Ensuite donnez un exemple d'utilisation de cette fonction."
   ]
  },
  {
   "cell_type": "code",
   "execution_count": null,
   "metadata": {},
   "outputs": [
    {
     "name": "stdout",
     "output_type": "stream",
     "text": [
      "Résultat de tableau + 10 : [ 6.   6.2  6.4  6.6  6.8  7.   7.2  7.4  7.6  7.8  8.   8.2  8.4  8.6\n",
      "  8.8  9.   9.2  9.4  9.6  9.8 10.  10.2 10.4 10.6 10.8 11.  11.2 11.4\n",
      " 11.6 11.8 12.  12.2 12.4 12.6 12.8 13.  13.2 13.4 13.6 13.8 14. ]\n"
     ]
    }
   ],
   "source": [
    "# Comportement numpy à reproduire:\n",
    "tableau_4 = tableau + 10\n",
    "print(f\"Résultat de tableau + 10 : {tableau_4}\")\n",
    "\n",
    "# Votre code ici\n",
    "def addition_numpy(liste, valeur):\n",
    "    \n",
    "    return [element + valeur for element in liste]\n",
    "\n",
    "\n",
    "# Votre exemple d'appel de la fonction\n"
   ]
  },
  {
   "cell_type": "code",
   "execution_count": null,
   "metadata": {},
   "outputs": [],
   "source": [
    "def addition_numpy(liste, valeur):\n",
    "    \"\"\"\n",
    "    Ajoute une valeur numérique à chaque élément d'une liste.\n",
    "\n",
    "    :param liste: Liste de nombres.\n",
    "    :param valeur: Valeur numérique à ajouter à chaque élément de la liste.\n",
    "    :return: Nouvelle liste avec la valeur ajoutée à chaque élément.\n",
    "    \"\"\"\n",
    "    return [element + valeur for element in liste]\n",
    "\n",
    "# Exemple d'utilisation\n",
    "liste = [1, 2, 3, 4, 5]\n",
    "valeur = 10\n",
    "resultat = addition_numpy(liste, valeur)\n",
    "print(\"Liste originale :\", liste)\n",
    "print(\"Valeur ajoutée :\", valeur)\n",
    "print(\"Résultat :\", resultat)\n"
   ]
  },
  {
   "cell_type": "markdown",
   "metadata": {},
   "source": [
    "# Numpy et matplotlib\n",
    "Importez la librairie Matplotlib en utilisant l'alias `plt`."
   ]
  },
  {
   "cell_type": "code",
   "execution_count": 46,
   "metadata": {},
   "outputs": [],
   "source": [
    "# Votre code ci-dessous\n"
   ]
  },
  {
   "cell_type": "markdown",
   "metadata": {},
   "source": [
    "## Tracer des fonctions trigonométrique"
   ]
  },
  {
   "cell_type": "markdown",
   "metadata": {},
   "source": [
    "On souhaite reproduire cette figure:\n",
    "<center><img src=\"https://gentle-bay-07dd22510.5.azurestaticapps.net/cours/numpy/2sinus.jpg\" alt=\"proportions\" width=\"400\"></center>\n",
    "\n",
    "1. La courbe bleue représentant $ y = sin(x) $\n",
    "1. La courbe verte représentant $ y = sin(x + \\pi/2) $\n",
    "\n",
    "Pour les valeurs des $x$ utilisez la fonction `np.linspace()`, pour qu'elle génère 100 valeurs."
   ]
  },
  {
   "cell_type": "code",
   "execution_count": 47,
   "metadata": {},
   "outputs": [],
   "source": [
    "# Votre code ci-dessous\n"
   ]
  },
  {
   "cell_type": "markdown",
   "metadata": {},
   "source": [
    "Que se passe-t-il lorsque le nombre de valeurs générées par `linspace` est 10 ? Pouvez-vous l'expliquer ?\n",
    "\n",
    "*Note: Faites le test avant de tenter une explication.*\n",
    "\n",
    "<div class=\"alert alert-block alert-success\">\n",
    "<b>Votre réponse :</b></div>"
   ]
  },
  {
   "cell_type": "markdown",
   "metadata": {},
   "source": [
    "## Tracer des polynomes"
   ]
  },
  {
   "cell_type": "markdown",
   "metadata": {},
   "source": [
    "On souhaite obtenir une représentation graphique du polynome suivant:\n",
    "$$ y = 2x^2 -20$$\n",
    "\n",
    "Créez ce polynome à l'aide de la fonction `np.poly1d()`, affichez le polynome obtenu, puis la valeur de ses racines, et sa valeur quand x=1."
   ]
  },
  {
   "cell_type": "code",
   "execution_count": 48,
   "metadata": {},
   "outputs": [],
   "source": [
    "# Votre code ci-dessous\n"
   ]
  },
  {
   "cell_type": "markdown",
   "metadata": {},
   "source": [
    "A l'aide de matplotlib, affichez la représentation graphique de ce polynome pour $x$ variant entre -5 et 5. \n",
    "\n",
    "On souhaite obtenir la représentation suivante:\n",
    "<center><img src=\"https://gentle-bay-07dd22510.5.azurestaticapps.net/cours/numpy/polynome2.jpg\" alt=\"proportions\" width=\"400\"></center>"
   ]
  },
  {
   "cell_type": "code",
   "execution_count": 49,
   "metadata": {},
   "outputs": [],
   "source": [
    "# Votre code ici\n"
   ]
  }
 ],
 "metadata": {
  "kernelspec": {
   "display_name": "Python 3",
   "language": "python",
   "name": "python3"
  },
  "language_info": {
   "codemirror_mode": {
    "name": "ipython",
    "version": 3
   },
   "file_extension": ".py",
   "mimetype": "text/x-python",
   "name": "python",
   "nbconvert_exporter": "python",
   "pygments_lexer": "ipython3",
   "version": "3.11.9"
  }
 },
 "nbformat": 4,
 "nbformat_minor": 2
}
