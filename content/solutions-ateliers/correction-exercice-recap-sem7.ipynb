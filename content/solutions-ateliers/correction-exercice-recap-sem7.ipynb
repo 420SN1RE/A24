{
 "cells": [
  {
   "cell_type": "code",
   "execution_count": 4,
   "metadata": {},
   "outputs": [
    {
     "name": "stdout",
     "output_type": "stream",
     "text": [
      "Bonjour Nathalie, malheureusement, ce programme est réservé au plus de 18 ans et vous n'avez que 16 ans\n"
     ]
    }
   ],
   "source": [
    "# Informations de l'utilisateur\n",
    "prenom = input(\"Comment vous appelez-vous ?\")\n",
    "age = int(input(\"Quel âge avez-vous ?\"))\n",
    "\n",
    "# Vérification de l'éligibilité de l'utilisateur\n",
    "while age <= 18:\n",
    "    print(f\"Bonjour {prenom}, malheureusement, ce programme est réservé au plus de 18 ans et vous n'avez que {age} ans\")\n",
    "    break\n",
    "else:\n",
    "    # Chaîne à analyser\n",
    "    chaine = input(\"Entrer une phrase\")\n",
    "\n",
    "    # Liste pour stocker les caractères\n",
    "    caracteres = []\n",
    "\n",
    "    # Liste pour les caractères uniques\n",
    "    caracteres_uniques = []\n",
    "\n",
    "    # Liste pour la fréquence des caractères\n",
    "    frequence_caracteres = []\n",
    "\n",
    "    # Parcourir chaque caractère dans la chaîne\n",
    "    for caractere in chaine:\n",
    "        caracteres.append(caractere.lower())  # Normaliser le caractère\n",
    "        if caractere.lower() not in caracteres_uniques:\n",
    "            caracteres_uniques.append(caractere.lower())\n",
    "            frequence_caracteres.append(1)\n",
    "        else:\n",
    "            index = caracteres_uniques.index(caractere.lower())\n",
    "            frequence_caracteres[index] += 1\n",
    "\n",
    "    # Afficher les résultats\n",
    "    print(\"Nombre de caractères:\", len(caracteres))\n",
    "    print(\"Caractères uniques:\", caracteres_uniques)\n",
    "    print(\"Fréquence des caractères:\", frequence_caracteres)\n"
   ]
  }
 ],
 "metadata": {
  "kernelspec": {
   "display_name": "Python 3",
   "language": "python",
   "name": "python3"
  },
  "language_info": {
   "codemirror_mode": {
    "name": "ipython",
    "version": 3
   },
   "file_extension": ".py",
   "mimetype": "text/x-python",
   "name": "python",
   "nbconvert_exporter": "python",
   "pygments_lexer": "ipython3",
   "version": "3.11.9"
  }
 },
 "nbformat": 4,
 "nbformat_minor": 2
}
