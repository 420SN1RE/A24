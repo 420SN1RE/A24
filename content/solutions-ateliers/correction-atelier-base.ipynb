{
 "cells": [
  {
   "cell_type": "markdown",
   "metadata": {},
   "source": [
    "\n",
    "Ces exercices vous font pratiquer la création, l'initialisation et la conversion de variables:"
   ]
  },
  {
   "cell_type": "markdown",
   "metadata": {},
   "source": [
    "### Exercice 1 : Création et initialisation de variables\n",
    "1. **Créer une variable** `nom` et initialisez-la avec votre nom.\n",
    "2. **Créer une variable** `age` et initialisez-la avec votre âge.\n",
    "3. **Créer une variable** `ville` et initialisez-la avec le nom de votre ville.\n",
    "\n",
    "```python\n",
    "nom = \"VotreNom\"\n",
    "age = 25\n",
    "ville = \"VotreVille\"\n",
    "```"
   ]
  },
  {
   "cell_type": "code",
   "execution_count": 6,
   "metadata": {},
   "outputs": [],
   "source": [
    "# Votre code ici"
   ]
  },
  {
   "cell_type": "markdown",
   "metadata": {},
   "source": [
    "### Exercice 2 : Conversion de types de variables\n",
    "1. **Convertir** la variable `age` en chaîne de caractères.\n",
    "2. **Convertir** la variable `nom` en majuscules.\n",
    "3. **Convertir** la variable `ville` en une liste de caractères.\n",
    "\n",
    "```python\n",
    "age_str = str(age)\n",
    "nom_upper = nom.upper()\n",
    "ville_list = list(ville)\n",
    "```"
   ]
  },
  {
   "cell_type": "code",
   "execution_count": 7,
   "metadata": {},
   "outputs": [],
   "source": [
    "# Votre code ici"
   ]
  },
  {
   "cell_type": "markdown",
   "metadata": {},
   "source": [
    "### Exercice 3 : Prédire le résultat\n",
    "\n",
    "Essayez de prédire le résultat de chacune des instructions suivantes, puis vérifiez-le une cellule de code.\n",
    "\n",
    "str(4) * int(\"3\")  \n",
    "int(\"3\") + float(\"3.2\")  \n",
    "str(3) * float(\"3.2\")  \n",
    "str(3/4) * 2  "
   ]
  },
  {
   "cell_type": "code",
   "execution_count": 8,
   "metadata": {},
   "outputs": [],
   "source": [
    "# Vérification ici"
   ]
  },
  {
   "cell_type": "markdown",
   "metadata": {},
   "source": [
    "### Exercice 4 : Opérations sur les variables\n",
    "1. **Créer une variable** `année_naissance` en soustrayant `age` de l'année actuelle.\n",
    "2. **Créer une variable** `message` qui combine `nom`, `age` et `ville` dans une phrase complète.\n",
    "\n",
    "```python\n",
    "année_actuelle = 2024\n",
    "année_naissance = année_actuelle - age\n",
    "message = f\"Je m'appelle {nom}, j'ai {age} ans et je vis à {ville}.\"\n",
    "```"
   ]
  },
  {
   "cell_type": "code",
   "execution_count": 9,
   "metadata": {},
   "outputs": [],
   "source": [
    "# Votre code ici"
   ]
  },
  {
   "cell_type": "markdown",
   "metadata": {},
   "source": [
    "### Exercice 5 : Conversion avancée\n",
    "1. **Créer une variable** `prix` et initialisez-la avec une valeur décimale.\n",
    "2. **Convertir** `prix` en entier.\n",
    "3. **Convertir** `prix` en chaîne de caractères avec deux décimales.\n",
    "\n",
    "```python\n",
    "prix = 19.99\n",
    "prix_int = int(prix)\n",
    "prix_str = f\"{prix:.2f}\"\n",
    "```"
   ]
  },
  {
   "cell_type": "code",
   "execution_count": 10,
   "metadata": {},
   "outputs": [],
   "source": [
    "# Votre code ici"
   ]
  }
 ],
 "metadata": {
  "kernelspec": {
   "display_name": "Python 3",
   "language": "python",
   "name": "python3"
  },
  "language_info": {
   "codemirror_mode": {
    "name": "ipython",
    "version": 3
   },
   "file_extension": ".py",
   "mimetype": "text/x-python",
   "name": "python",
   "nbconvert_exporter": "python",
   "pygments_lexer": "ipython3",
   "version": "3.11.9"
  }
 },
 "nbformat": 4,
 "nbformat_minor": 2
}
