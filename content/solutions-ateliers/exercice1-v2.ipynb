{
 "cells": [
  {
   "cell_type": "code",
   "execution_count": null,
   "metadata": {},
   "outputs": [],
   "source": [
    "# L'utilisateur entre son prénom (une str) et son âge (un int)\n",
    "prenom = input(\"Entrez votre prénom: \")\n",
    "\n",
    "# int() est obligatoire pour convertir l'âge en entier, sinon age est une str\n",
    "age = int(input(\"Entrez votre âge: \"))\n",
    "\n",
    "# Tant que l'utilisateur a moins de 18 ans\n",
    "while age < 18:\n",
    "    print(f\"Bonjour {prenom}, malheureusement, ce programme est réservé aux plus de 18 ans et vous n'avez que {age} ans.\")\n",
    "    age = int(input(\"Entrez votre âge: \"))\n",
    "\n",
    "# Si l'utilisateur a au moins 18 ans\n",
    "phrase = input(\"Entrez une phrase: \")\n",
    "\n",
    "# On prépare (initialise) 3 listes vides pour l'analyse\n",
    "liste_caracteres = []\n",
    "liste_uniques = []\n",
    "liste_frequence = []\n",
    "\n",
    "# Pour créer une liste des caractères de la phrase on peut aussi utiliser la méthode list()\n",
    "# liste_caracteres = list(phrase)\n",
    "\n",
    "# Pour chaque caractère dans la phrase\n",
    "for caractere in phrase:\n",
    "    # Ajoute un à un les caractères de la chaîne saisie dans la liste des caractères\n",
    "    liste_caracteres.append(caractere)\n",
    "    # Si le caractère n'est pas déjà dans la liste des caractères uniques:\n",
    "    # Ajoute-le dans la liste des caractères uniques\n",
    "    # Mets sa fréquence à 1 dans la liste des fréquences pour indiquer que le caractère est présent 1 fois\n",
    "    if caractere not in liste_uniques:\n",
    "        liste_uniques.append(caractere)\n",
    "        liste_frequence.append(1)\n",
    "    # Sinon:\n",
    "    # Trouve où se trouve ce caractère dans la liste des caractères uniques.\n",
    "    # Dans la liste des fréquences, à la même position, augmente la fréquence de 1\n",
    "    else:\n",
    "        position = liste_uniques.index(caractere)\n",
    "        #print(f\"Le caractère lu est {caractere}\")\n",
    "        #print(f\"La position est {position}\")\n",
    "        liste_frequence[position] += 1 # Mise à jour de la fréquence pour le caractère trouvé à nouveau\n",
    "\n",
    "#print(liste_caracteres)\n",
    "\n",
    "# Affichage des résultats\n",
    "nombre_caracteres = len(phrase)\n",
    "print(f\"Nombre de caractères: {nombre_caracteres}\")\n",
    "print(f\"Caractères uniques: {liste_uniques}\")\n",
    "print(f\"Fréquence des caractères: {liste_frequence}\")\n"
   ]
  }
 ],
 "metadata": {
  "language_info": {
   "name": "python"
  }
 },
 "nbformat": 4,
 "nbformat_minor": 2
}
