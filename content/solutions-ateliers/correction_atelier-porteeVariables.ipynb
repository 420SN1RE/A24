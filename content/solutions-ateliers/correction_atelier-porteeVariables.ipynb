{
 "cells": [
  {
   "cell_type": "markdown",
   "metadata": {},
   "source": [
    "Pour chacun des exercices ci-dessous, vous devez répondre aux questions suivantes:\n",
    "1. Quelle est la sortie de ce code ?\n",
    "2. Pourquoi ?"
   ]
  },
  {
   "cell_type": "markdown",
   "metadata": {},
   "source": [
    "\n",
    "## Exercice 1\n",
    "```python\n",
    "def test():\n",
    "    x = 10\n",
    "    print(x)\n",
    "\n",
    "test()\n",
    "print(x)\n",
    "```"
   ]
  },
  {
   "cell_type": "markdown",
   "metadata": {},
   "source": [
    "#### Réponses\n",
    "\n",
    "**Sortie**:  \n",
    "10  \n",
    "NameError: name 'x' is not defined  \n",
    "\n",
    "**Pourquoi** : La variable x définie dans la fonction test() est une variable locale. Elle n’est pas accessible en dehors de cette fonction. Donc, lorsque print(x) est appelé en dehors de la fonction, Python ne trouve pas x et lève une NameError.Sortie: "
   ]
  },
  {
   "cell_type": "markdown",
   "metadata": {},
   "source": [
    "## Exercice 2\n",
    "```python\n",
    "x = 10\n",
    "\n",
    "def test():\n",
    "    print(x)\n",
    "\n",
    "test()\n",
    "print(x)\n",
    "```"
   ]
  },
  {
   "cell_type": "markdown",
   "metadata": {},
   "source": [
    "#### Réponses\n",
    "**Sortie**:  \n",
    "10  \n",
    "10  \n",
    "\n",
    "**Pourquoi**: La variable x est définie dans la portée globale. La fonction test() peut accéder à cette variable globale et l’imprimer. Ensuite, print(x) en dehors de la fonction imprime également la valeur de x définie globalement."
   ]
  },
  {
   "cell_type": "markdown",
   "metadata": {},
   "source": [
    "## Exercice 3\n",
    "```python\n",
    "x = 10\n",
    "\n",
    "def test():\n",
    "    x = 20\n",
    "    print(x)\n",
    "\n",
    "test()\n",
    "print(x)\n",
    "```"
   ]
  },
  {
   "cell_type": "markdown",
   "metadata": {},
   "source": [
    "#### Réponses\n",
    "\n",
    "**Sortie**:  \n",
    "20  \n",
    "10  \n",
    "\n",
    "**Pourquoi** : La variable x définie dans la fonction test() est une variable locale à cette fonction. Elle n’affecte pas la variable globale x. Donc, print(x) dans la fonction imprime 20, et print(x) en dehors de la fonction imprime la valeur globale 10."
   ]
  },
  {
   "cell_type": "markdown",
   "metadata": {},
   "source": [
    "## Exercice 4\n",
    "```python\n",
    "x = 10\n",
    "\n",
    "def test():\n",
    "    global x\n",
    "    x = 20\n",
    "    print(x)\n",
    "\n",
    "test()\n",
    "print(x)\n",
    "```\n"
   ]
  },
  {
   "cell_type": "markdown",
   "metadata": {},
   "source": [
    "#### Réponses\n",
    "\n",
    "**Sortie**:  \n",
    "20  \n",
    "20\n",
    "\n",
    "**Pourquoi** : L’instruction global x indique que x dans la fonction test() fait référence à la variable globale x. Donc, lorsque x est modifié dans la fonction, cela modifie la variable globale. Ainsi, print(x) dans la fonction et en dehors de la fonction imprime 20."
   ]
  },
  {
   "cell_type": "markdown",
   "metadata": {},
   "source": [
    "## Exercice 5\n",
    "```python\n",
    "def reponse_ultime(question_fournie):\n",
    "    reponse_partielle = 7\n",
    "    return 6 * reponse_partielle\n",
    "\n",
    "print(reponse_ultime(\"Pourquoi moi?\"))\n",
    "print(reponse_partielle)\n",
    "```"
   ]
  },
  {
   "cell_type": "markdown",
   "metadata": {},
   "source": [
    "#### Réponses\n",
    "\n",
    "**Sortie**:  \n",
    "42  \n",
    "NameError: name 'reponse_partielle' is not defined\n",
    "\n",
    "**Pourquoi** : La variable reponse_partielle est définie localement dans la fonction reponse_ultime(). Elle n’est pas accessible en dehors de cette fonction. Donc, lorsque print(reponse_partielle) est appelé en dehors de la fonction, Python ne trouve pas reponse_partielle et lève une NameError.\n"
   ]
  }
 ],
 "metadata": {
  "language_info": {
   "name": "python"
  }
 },
 "nbformat": 4,
 "nbformat_minor": 2
}
