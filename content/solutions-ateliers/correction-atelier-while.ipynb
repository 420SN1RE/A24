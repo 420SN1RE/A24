{
 "cells": [
  {
   "cell_type": "markdown",
   "metadata": {},
   "source": [
    "Ces exercices permettent de se familiariser avec la boucle `while` "
   ]
  },
  {
   "cell_type": "markdown",
   "metadata": {},
   "source": [
    "### Exercice 1\n",
    "\n",
    "Écrivez un programme qui demande à l'utilisateur de saisir un nombre. Ensuite, à l'aide d'une boucle while, imprimez le compte à rebours à partir de ce nombre jusqu'à 0.\n",
    "**Exemple:** Si le nombre est 10, le programme affiche : 10 9 8 7 6 5 4 3 2 1 0"
   ]
  },
  {
   "cell_type": "code",
   "execution_count": 9,
   "metadata": {},
   "outputs": [
    {
     "name": "stdout",
     "output_type": "stream",
     "text": [
      "10 9 8 7 6 5 4 3 2 1 0 "
     ]
    }
   ],
   "source": [
    "# Votre code ici\n",
    "\n",
    "nombre = int(input(\"Entrez un nombre entier: \"))\n",
    "compteur = nombre\n",
    "while compteur >= 0:\n",
    "    print(compteur, end=\" \")\n",
    "    compteur -= 1"
   ]
  },
  {
   "cell_type": "markdown",
   "metadata": {},
   "source": [
    "### Exercice 2\n",
    "\n",
    "Écrivez un programme qui continue à demander à l'utilisateur de saisir un nombre jusqu'à ce qu'il saisisse le nombre 0, puis quitte le programme.\n",
    "Utiliser la boucle while."
   ]
  },
  {
   "cell_type": "code",
   "execution_count": 3,
   "metadata": {},
   "outputs": [],
   "source": [
    "# Votre code ici\n",
    "\n",
    "nombre = int(input(\"Entrez un nombre. 0 pour quitter\"))\n",
    "while nombre != 0:\n",
    "    nombre = int(input(\"Entrez un nombre. 0 pour quitter\"))"
   ]
  },
  {
   "cell_type": "markdown",
   "metadata": {},
   "source": [
    "### Exercice 3\n",
    "\n",
    "Écrire un programme qui demande à l'utilisateur de compléter l'équation \"630 / 15 = \" et TANT QUE l'utilisateur ne donne pas la bonne réponse on affiche \"Réponse incorrecte. Recommencez.\". Si l'utilisateur donne la bonne réponse (42), le programme affiche \"Bravo!\" et s'arrête."
   ]
  },
  {
   "cell_type": "code",
   "execution_count": null,
   "metadata": {},
   "outputs": [],
   "source": [
    "# votre code ici\n",
    "\n",
    "reponse = float(input(\"630 / 15 = \"))\n",
    "while reponse != 42:\n",
    "    print(\"Réponse incorrecte. Recommencez.\")\n",
    "    reponse = float(input(\"630 / 15 = \"))\n",
    "print(\"Bravo!\")"
   ]
  },
  {
   "cell_type": "markdown",
   "metadata": {},
   "source": [
    "### Exercice 4\n",
    "\n",
    "Écrire un programme qui demande à l'utilisateur de saisir au clavier un nombre entier entre 1 et 100 .\n",
    "- Si le nombre saisi est plus grand que le nombre secret, le programme affiche \"Trop grand!\"\n",
    "- Si le nombre saisi est égal au nombre secret, le programme affiche \"Félicitations, vous avez deviné le nombre !\""
   ]
  },
  {
   "cell_type": "code",
   "execution_count": 5,
   "metadata": {},
   "outputs": [
    {
     "name": "stdout",
     "output_type": "stream",
     "text": [
      "Trop petit !\n",
      "Trop petit !\n",
      "Trop grand !\n",
      "Trop petit !\n",
      "Trop petit !\n",
      "Trop petit !\n",
      "Félicitations, vous avez deviné le nombre !\n"
     ]
    }
   ],
   "source": [
    "# votre code ici\n",
    "import random # Pour pouvoir générer un entier entre 1 et 100 aléatoirement\n",
    "nombre_secret = random.randint(1,100)\n",
    "\n",
    "devine = int(input(\"Entrez un nombre : \"))\n",
    "while devine != nombre_secret:\n",
    "    if devine < nombre_secret:\n",
    "        print(\"Trop petit !\")\n",
    "        devine = int(input(\"Entrez un autre nombre : \"))\n",
    "    elif devine > nombre_secret:\n",
    "        print(\"Trop grand !\")\n",
    "        devine = int(input(\"Entrez un autre nombre : \"))\n",
    "print(\"Félicitations, vous avez deviné le nombre !\")"
   ]
  },
  {
   "cell_type": "markdown",
   "metadata": {},
   "source": [
    "### Exercice 3\n",
    "\n",
    "Écrire un programme qui demande à l'utilisateur de saisir un mot, TANT QUE le mot saisi n'est pas \"stop\". C'est-à-dire que lorsque le mot saisi est \"stop\", le programme arrête de demander à l'utilisateur de saisir un mot."
   ]
  },
  {
   "cell_type": "code",
   "execution_count": 7,
   "metadata": {},
   "outputs": [
    {
     "name": "stdout",
     "output_type": "stream",
     "text": [
      "Vous avez entré : jjj\n",
      "Vous avez entré : eee\n",
      "Vous avez entré : ttt\n"
     ]
    }
   ],
   "source": [
    "# votre code ici\n",
    " \n",
    "mot = input(\"Entrez un mot (ou 'stop' pour arrêter) : \")\n",
    "\n",
    "while mot != \"stop\":\n",
    "    print(\"Vous avez entré :\", mot)\n",
    "    mot = input(\"Entrez un autre mot (ou 'stop' pour arrêter) : \")\n",
    "    "
   ]
  },
  {
   "cell_type": "markdown",
   "metadata": {},
   "source": [
    "### Exercice 4\n",
    "\n",
    "Imagine qu'une population de bactéries double toutes les heures. Écris un programme qui calcule le nombre de bactéries après un certain nombre d'heures donné par l'utilisateur."
   ]
  },
  {
   "cell_type": "code",
   "execution_count": 6,
   "metadata": {},
   "outputs": [
    {
     "name": "stdout",
     "output_type": "stream",
     "text": [
      "Après 5 heures, il y aura 32 bactéries.\n"
     ]
    }
   ],
   "source": [
    "bacteries = 1 # Nombre de bactéries au départ\n",
    "i = 0 # Compteur des heures\n",
    "\n",
    "# votre code à partir d'ici\n",
    "heures = int(input(\"Entrez le nombre d'heures: \"))\n",
    "while i < heures:\n",
    "    bacteries *= 2\n",
    "    i += 1\n",
    "\n",
    "print(\"Après\", heures, \"heures, il y aura\", bacteries, \"bactéries.\")"
   ]
  },
  {
   "cell_type": "markdown",
   "metadata": {},
   "source": [
    "### Exercice 5\n",
    "\n",
    "Écris un programme qui simule la croissance d'une plante. La plante pousse de 0.5 cm par jour. Le programme doit demander à l'utilisateur combien de jours il veut suivre la croissance et afficher la hauteur de la plante chaque jour."
   ]
  },
  {
   "cell_type": "code",
   "execution_count": 8,
   "metadata": {},
   "outputs": [
    {
     "name": "stdout",
     "output_type": "stream",
     "text": [
      "Jour 1 : La plante mesure 0.5 cm\n",
      "Jour 2 : La plante mesure 1.0 cm\n",
      "Jour 3 : La plante mesure 1.5 cm\n",
      "Jour 4 : La plante mesure 2.0 cm\n",
      "Jour 5 : La plante mesure 2.5 cm\n",
      "Jour 6 : La plante mesure 3.0 cm\n",
      "Jour 7 : La plante mesure 3.5 cm\n",
      "Jour 8 : La plante mesure 4.0 cm\n",
      "Jour 9 : La plante mesure 4.5 cm\n",
      "Jour 10 : La plante mesure 5.0 cm\n"
     ]
    }
   ],
   "source": [
    "hauteur = 0 # Hauteur initiale\n",
    "i = 1 # compteur des jours écoulés\n",
    "\n",
    "# votre code à partir d'ici\n",
    "jours = int(input(\"Entrez le nombre de jours: \"))\n",
    "\n",
    "while i <= jours:\n",
    "    hauteur += 0.5\n",
    "    print(\"Jour\", i, \": La plante mesure\", hauteur, \"cm\")\n",
    "    i += 1"
   ]
  },
  {
   "cell_type": "markdown",
   "metadata": {},
   "source": [
    "### Exercice 6\n",
    "\n",
    "Écris un programme qui simule le refroidissement de l'eau. L'eau commence à 100°C et perd 5°C chaque minute. Le programme doit afficher la température de l'eau chaque minute jusqu'à ce qu'elle atteigne 0°C."
   ]
  },
  {
   "cell_type": "code",
   "execution_count": 3,
   "metadata": {},
   "outputs": [
    {
     "name": "stdout",
     "output_type": "stream",
     "text": [
      "La température de l'eau est de 100 °C\n",
      "La température de l'eau est de 95 °C\n",
      "La température de l'eau est de 90 °C\n",
      "La température de l'eau est de 85 °C\n",
      "La température de l'eau est de 80 °C\n",
      "La température de l'eau est de 75 °C\n",
      "La température de l'eau est de 70 °C\n",
      "La température de l'eau est de 65 °C\n",
      "La température de l'eau est de 60 °C\n",
      "La température de l'eau est de 55 °C\n",
      "La température de l'eau est de 50 °C\n",
      "La température de l'eau est de 45 °C\n",
      "La température de l'eau est de 40 °C\n",
      "La température de l'eau est de 35 °C\n",
      "La température de l'eau est de 30 °C\n",
      "La température de l'eau est de 25 °C\n",
      "La température de l'eau est de 20 °C\n",
      "La température de l'eau est de 15 °C\n",
      "La température de l'eau est de 10 °C\n",
      "La température de l'eau est de 5 °C\n",
      "L'eau a atteint 0°C.\n"
     ]
    }
   ],
   "source": [
    "# Votre code ici\n",
    "temperature = 100\n",
    "\n",
    "while temperature > 0:\n",
    "    print(\"La température de l'eau est de\", temperature, \"°C\")\n",
    "    temperature -= 5\n",
    "print(\"L'eau a atteint 0°C.\")"
   ]
  }
 ],
 "metadata": {
  "kernelspec": {
   "display_name": "Python 3",
   "language": "python",
   "name": "python3"
  },
  "language_info": {
   "codemirror_mode": {
    "name": "ipython",
    "version": 3
   },
   "file_extension": ".py",
   "mimetype": "text/x-python",
   "name": "python",
   "nbconvert_exporter": "python",
   "pygments_lexer": "ipython3",
   "version": "3.11.9"
  }
 },
 "nbformat": 4,
 "nbformat_minor": 2
}
