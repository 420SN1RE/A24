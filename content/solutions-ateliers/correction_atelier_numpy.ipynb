{
 "cells": [
  {
   "cell_type": "markdown",
   "metadata": {},
   "source": [
    "# Premier pas avec Numpy\n",
    "\n",
    "Importer la librairie Numpy dans votre notebook, et n'oubliez pas de lui donner l'alias `np`."
   ]
  },
  {
   "cell_type": "code",
   "execution_count": 2,
   "metadata": {},
   "outputs": [],
   "source": [
    "# Votre code ci-dessous\n",
    "import numpy as np"
   ]
  },
  {
   "cell_type": "markdown",
   "metadata": {},
   "source": [
    "# Listes numpy - ndarray"
   ]
  },
  {
   "cell_type": "markdown",
   "metadata": {},
   "source": [
    "Conververtissez la liste ci dessous en `ndarray`, dans une nouvelle variable nommée `tableau`. Affichez ce nouveau tableau et son type pour confirmer que la conversion à bien marché. Affichez également la liste et son type.\n",
    "\n",
    "Remarquez-vous une différence entre les deux affichage de liste ?"
   ]
  },
  {
   "cell_type": "code",
   "execution_count": 3,
   "metadata": {},
   "outputs": [
    {
     "name": "stdout",
     "output_type": "stream",
     "text": [
      "[10 20 30 40 50 60] <class 'numpy.ndarray'>\n",
      "[10, 20, 30, 40, 50, 60] <class 'list'>\n"
     ]
    }
   ],
   "source": [
    "liste = [10,20,30,40,50,60]\n",
    "\n",
    "# Votre code ci-dessous\n",
    "\n",
    "tableau = np.array(liste)\n",
    "\n",
    "print(tableau, type(tableau))\n",
    "print(liste, type(liste))"
   ]
  },
  {
   "cell_type": "markdown",
   "metadata": {},
   "source": [
    "1. Affichez maintenant le 3ieme éléments de la variable `tableau` en utilisant un `fstring`.\n",
    "1. Créez un sous tabeau (`tableau_2`) à partir de celui créé ci-dessus contenant les valeurs `[30 40 50]`. Affichez le, et affichez son type."
   ]
  },
  {
   "cell_type": "code",
   "execution_count": 4,
   "metadata": {},
   "outputs": [
    {
     "name": "stdout",
     "output_type": "stream",
     "text": [
      "40\n",
      "[30 40 50], <class 'numpy.ndarray'>\n"
     ]
    }
   ],
   "source": [
    "# 1\n",
    "print(f\"{tableau[3]}\")\n",
    "\n",
    "# 2\n",
    "tableau_2 = tableau[2:5]\n",
    "print(f\"{tableau_2}, {type(tableau_2)}\")"
   ]
  },
  {
   "cell_type": "markdown",
   "metadata": {},
   "source": [
    "## Générer des listes automatiquement"
   ]
  },
  {
   "cell_type": "markdown",
   "metadata": {},
   "source": [
    "### Version 1\n",
    "\n",
    "Générez automatiquement un tableau allant de -4 à 4 inclus, avec un pas de `0.2`.\n",
    "\n",
    "Affichez ensuite ce tableau et sa longueur (elle doit être de 41).\n",
    "\n",
    "*Pour réduire le nombre de décimales affichées, vous pouvez utiliser la fonction `np.round()` qui est l'équivalent de la fonction python standard `round()`, mais pour tous les éléments d'un `ndarray`. Elles utilisent les mêmes paramètres.*"
   ]
  },
  {
   "cell_type": "code",
   "execution_count": 5,
   "metadata": {},
   "outputs": [
    {
     "name": "stdout",
     "output_type": "stream",
     "text": [
      "41 <class 'numpy.ndarray'>\n",
      "[-4.  -3.8 -3.6 -3.4 -3.2 -3.  -2.8 -2.6 -2.4 -2.2 -2.  -1.8 -1.6 -1.4\n",
      " -1.2 -1.  -0.8 -0.6 -0.4 -0.2  0.   0.2  0.4  0.6  0.8  1.   1.2  1.4\n",
      "  1.6  1.8  2.   2.2  2.4  2.6  2.8  3.   3.2  3.4  3.6  3.8  4. ]\n"
     ]
    }
   ],
   "source": [
    "# Votre code ci-dessous\n",
    "\n",
    "x = np.arange(-4, 4.2, 0.2)\n",
    "print(len(x), type(x))\n",
    "print(np.round(x,1))"
   ]
  },
  {
   "cell_type": "markdown",
   "metadata": {},
   "source": [
    "### Version 2\n",
    "\n",
    "Générez le même tableau mais en utilisant la fonction `np.linspace()`.\n",
    "\n",
    "*Note: la question précédente contient un élément qui peut vous aider à déterminer les paramètres à donner a la fonction `linspace`.*"
   ]
  },
  {
   "cell_type": "code",
   "execution_count": 6,
   "metadata": {},
   "outputs": [
    {
     "name": "stdout",
     "output_type": "stream",
     "text": [
      "<class 'numpy.ndarray'>\n",
      "[-4.  -3.8 -3.6 -3.4 -3.2 -3.  -2.8 -2.6 -2.4 -2.2 -2.  -1.8 -1.6 -1.4\n",
      " -1.2 -1.  -0.8 -0.6 -0.4 -0.2  0.   0.2  0.4  0.6  0.8  1.   1.2  1.4\n",
      "  1.6  1.8  2.   2.2  2.4  2.6  2.8  3.   3.2  3.4  3.6  3.8  4. ]\n"
     ]
    }
   ],
   "source": [
    "x = np.linspace(-4, 4, 41)\n",
    "print(type(x))\n",
    "print(x)"
   ]
  },
  {
   "cell_type": "markdown",
   "metadata": {},
   "source": [
    "# Fonction numpy pour les listes / tableau\n",
    "En utilisant les fonctions prédéfinies dans Numpy, calculez:\n",
    "1. la moyenne de la liste\n",
    "1. la somme de la liste\n",
    "1. la minimum de la liste\n",
    "1. la maximum de la liste"
   ]
  },
  {
   "cell_type": "code",
   "execution_count": 7,
   "metadata": {},
   "outputs": [
    {
     "name": "stdout",
     "output_type": "stream",
     "text": [
      "Moyenne: 35.0\n",
      "Somme: 210\n",
      "Valeur minimum: 10\n",
      "Valeur maximum: 60\n"
     ]
    }
   ],
   "source": [
    "print(f\"Moyenne: {np.mean(liste)}\")\n",
    "print(f\"Somme: {np.sum(liste)}\")\n",
    "print(f\"Valeur minimum: {np.min(liste)}\")\n",
    "print(f\"Valeur maximum: {np.max(liste)}\")"
   ]
  },
  {
   "cell_type": "markdown",
   "metadata": {},
   "source": [
    "# Opérateur sur les tableau"
   ]
  },
  {
   "cell_type": "markdown",
   "metadata": {},
   "source": [
    "Grâce aux opérateurs numérique offert par Numpy, multipliez par $\\pi$ a tous éléments de la variable `tableau`, stocker le résultat dans la variable `tableau_3`.\n",
    "\n",
    "Affichez ensuite le résultat arrondi à 2 décimales."
   ]
  },
  {
   "cell_type": "code",
   "execution_count": 8,
   "metadata": {},
   "outputs": [
    {
     "name": "stdout",
     "output_type": "stream",
     "text": [
      "[ 31.42  62.83  94.25 125.66 157.08 188.5 ]\n"
     ]
    }
   ],
   "source": [
    "tableau_3 = tableau * np.pi\n",
    "print(np.round(tableau_3, 2))"
   ]
  },
  {
   "cell_type": "markdown",
   "metadata": {},
   "source": [
    "Ecrivez la fonction `addition_numpy` qui reproduit le comportement numpy de l'addition d'un tableau avec une valeur numérique.\n",
    "\n",
    "Cette fonction ne doit utiliser aucun élément de Numpy, seulement du Python de base (utilisez des listes pas de `ndarray`).\n",
    "\n",
    "Ensuite donnez un exemple d'utilisation de cette fonction."
   ]
  },
  {
   "cell_type": "code",
   "execution_count": 9,
   "metadata": {},
   "outputs": [
    {
     "name": "stdout",
     "output_type": "stream",
     "text": [
      "Résultat de tableau + 10 : [20 30 40 50 60 70]\n",
      "[20, 30, 40, 50, 60, 70]\n"
     ]
    }
   ],
   "source": [
    "# Comportement numpy à reproduire:\n",
    "tableau_4 = tableau + 10\n",
    "print(f\"Résultat de tableau + 10 : {tableau_4}\")\n",
    "\n",
    "# Votre code ici\n",
    "def addition_numpy(liste, valeur):\n",
    "    reponse = []\n",
    "    for element in liste:\n",
    "        reponse.append(element + valeur)\n",
    "    return reponse\n",
    "\n",
    "# Votre exemple d'appel de la fonction\n",
    "liste_addition = addition_numpy(liste, 10)\n",
    "print(liste_addition)"
   ]
  },
  {
   "cell_type": "markdown",
   "metadata": {},
   "source": [
    "# Numpy et matplotlib\n",
    "Importez la librairie Matplotlib en utilisant l'alias `plt`."
   ]
  },
  {
   "cell_type": "code",
   "execution_count": 10,
   "metadata": {},
   "outputs": [
    {
     "name": "stderr",
     "output_type": "stream",
     "text": [
      "/home/tom/.local/lib/python3.10/site-packages/matplotlib/projections/__init__.py:63: UserWarning: Unable to import Axes3D. This may be due to multiple versions of Matplotlib being installed (e.g. as a system package and as a pip package). As a result, the 3D projection is not available.\n",
      "  warnings.warn(\"Unable to import Axes3D. This may be due to multiple versions of \"\n"
     ]
    }
   ],
   "source": [
    "# Votre code ci-dessous\n",
    "\n",
    "import matplotlib.pyplot as plt"
   ]
  },
  {
   "cell_type": "markdown",
   "metadata": {},
   "source": [
    "## Tracer des fonctions trigonométrique"
   ]
  },
  {
   "cell_type": "markdown",
   "metadata": {},
   "source": [
    "On souhaite reproduire cette figure:\n",
    "<center><img src=\"https://gentle-bay-07dd22510.5.azurestaticapps.net/cours/numpy/2sinus.jpg\" alt=\"proportions\" width=\"400\"></center>\n",
    "\n",
    "1. La courbe bleue représentant $ y = sin(x) $\n",
    "1. La courbe verte représentant $ y = sin(x + \\pi/2) $\n",
    "\n",
    "Pour les valeurs des $x$ utilisez la fonction `np.linspace()`, pour qu'elle génère 100 valeurs."
   ]
  },
  {
   "cell_type": "code",
   "execution_count": 17,
   "metadata": {},
   "outputs": [
    {
     "data": {
      "image/png": "[encoded data removed]",
      "text/plain": [
       "<Figure size 432x288 with 1 Axes>"
      ]
     },
     "metadata": {
      "needs_background": "light"
     },
     "output_type": "display_data"
    }
   ],
   "source": [
    "# Votre code ci-dessous\n",
    "\n",
    "x = np.linspace(0, 10, 100)\n",
    "#x = np.linspace(0, 10, 10)\n",
    "y_sin = np.sin(x)\n",
    "y_sin_pi = np.sin(x + np.pi/2)\n",
    "\n",
    "plt.plot(x,y_sin, color=\"b\", label=\"sin\")\n",
    "plt.plot(x,y_sin_pi, color=\"g\", label=\"sin + pi/2\")\n",
    "\n",
    "plt.legend(loc=\"upper right\")\n",
    "plt.savefig('2sinus.jpg', dpi=150, bbox_inches=\"tight\")\n",
    "plt.show()"
   ]
  },
  {
   "cell_type": "markdown",
   "metadata": {},
   "source": [
    "Que se passe-t-il lorsque le nombre de valeurs générées par `linspace` est 10 ? Pouvez-vous l'expliquer ?\n",
    "\n",
    "*Note: Faites le test avant de tenter une explication.*\n",
    "\n",
    "<div class=\"alert alert-block alert-success\">\n",
    "<b>Votre réponse :</b></div>"
   ]
  },
  {
   "cell_type": "markdown",
   "metadata": {},
   "source": [
    "## Tracer des polynomes"
   ]
  },
  {
   "cell_type": "markdown",
   "metadata": {},
   "source": [
    "On souhaite obtenir une représentation graphique du polynome suivant:\n",
    "$$ y = 2x^2 -20$$\n",
    "\n",
    "Créez ce polynome à l'aide de la fonction `np.poly1d()`, affichez le polynome obtenu, puis la valeur de ses racines, et sa valeur quand x=1."
   ]
  },
  {
   "cell_type": "code",
   "execution_count": 25,
   "metadata": {},
   "outputs": [
    {
     "name": "stdout",
     "output_type": "stream",
     "text": [
      "   2\n",
      "2 x - 20\n",
      "Les racines de ce polynomes sont: [-3.16227766  3.16227766]\n",
      "La valeur de ce polynomes quand x=1 est: -18\n"
     ]
    }
   ],
   "source": [
    "# Votre code ci-dessous\n",
    "polynome = np.poly1d([2, 0, -20])\n",
    "print(polynome)\n",
    "print(f\"Les racines de ce polynomes sont: {polynome.r}\")\n",
    "print(f\"La valeur de ce polynomes quand x=1 est: {polynome(1)}\")"
   ]
  },
  {
   "cell_type": "markdown",
   "metadata": {},
   "source": [
    "A l'aide de matplotlib, affichez la représentation graphique de ce polynome pour $x$ variant entre -5 et 5. \n",
    "\n",
    "On souhaite obtenir la représentation suivante:\n",
    "<center><img src=\"https://gentle-bay-07dd22510.5.azurestaticapps.net/cours/numpy/polynome2.jpg\" alt=\"proportions\" width=\"400\"></center>"
   ]
  },
  {
   "cell_type": "code",
   "execution_count": 24,
   "metadata": {},
   "outputs": [
    {
     "data": {
      "image/png": "[encoded data removed]",
      "text/plain": [
       "<Figure size 432x288 with 1 Axes>"
      ]
     },
     "metadata": {
      "needs_background": "light"
     },
     "output_type": "display_data"
    }
   ],
   "source": [
    "# Votre code ici\n",
    "x = np.linspace(-5, 5, 100)\n",
    "y = polynome(x)\n",
    "\n",
    "plt.plot(x, y)\n",
    "plt.savefig('polynome2.jpg', dpi=150, bbox_inches=\"tight\")\n",
    "plt.show()"
   ]
  }
 ],
 "metadata": {
  "kernelspec": {
   "display_name": "Python 3",
   "language": "python",
   "name": "python3"
  },
  "language_info": {
   "codemirror_mode": {
    "name": "ipython",
    "version": 3
   },
   "file_extension": ".py",
   "mimetype": "text/x-python",
   "name": "python",
   "nbconvert_exporter": "python",
   "pygments_lexer": "ipython3",
   "version": "3.10.12"
  }
 },
 "nbformat": 4,
 "nbformat_minor": 2
}
