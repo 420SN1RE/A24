{
 "cells": [
  {
   "cell_type": "markdown",
   "metadata": {},
   "source": [
    "## Exercice 1\n",
    "\n",
    "Écrire un programme qui demande à l'utilisateur de saisir trois nombres entiers, calcul la moyenne des trois nombres et affiche le résultat précédé de la phrase \"La moyenne des trois nombres est: \""
   ]
  },
  {
   "cell_type": "code",
   "execution_count": 37,
   "metadata": {},
   "outputs": [
    {
     "name": "stdout",
     "output_type": "stream",
     "text": [
      "La moyenne des trois nombres 33 33 33.0 est:  33.0\n"
     ]
    }
   ],
   "source": [
    "# Solution\n",
    "\n",
    "# Demander à l'utilisateur d'entrer le premier nombre entier\n",
    "# Lire le premier nombre et le stocker dans une variable appelée nb1\n",
    "nb1 = int(input(\"Entrez le premier nombre: \"))\n",
    "\n",
    "# Demander à l'utilisateur d'entrer le deuxième nombre entier\n",
    "# Lire le deuxième nombre et le stocker dans une variable appelée nb2\n",
    "nb2 = int(input(\"Entrez le deuxième nombre: \"))\n",
    "\n",
    "# Demander à l'utilisateur d'entrer le troisième nombre\n",
    "# Lire le troisième nombre et le stocker dans une variable appelée nb3\n",
    "nb3 = float(input(\"Entrez le troisième nombre: \"))\n",
    "\n",
    "# Calculer la somme des trois nombres\n",
    "somme = nb1 + nb2 + nb3\n",
    "\n",
    "# Diviser la somme par 3 pour obtenir la moyenne\n",
    "moyenne = somme / 3\n",
    "\n",
    "# Afficher la moyenne calculée à l'utilisateur\n",
    "print(\"La moyenne des trois nombres\", nb1, nb2, nb3, \"est: \", moyenne)"
   ]
  },
  {
   "cell_type": "markdown",
   "metadata": {},
   "source": [
    "## Exercice 2\n",
    "\n",
    "Écrire un programme qui demande à l'utilisateur de saisir deux nombres réels, calcul la somme des deux nombres et affiche le résultat précédé de la phrase \"La somme des deux nombres est: \"\n"
   ]
  },
  {
   "cell_type": "code",
   "execution_count": 38,
   "metadata": {},
   "outputs": [
    {
     "name": "stdout",
     "output_type": "stream",
     "text": [
      "La somme des deux nombres est:  66\n"
     ]
    }
   ],
   "source": [
    "# Solution\n",
    "\n",
    "# Demander à l'utilisateur d'entrer le premier nombre réel\n",
    "# Lire le premier nombre et le stocker dans une variable appelée nb1\n",
    "nombre1 = float(input(\"Entrez le premier nombre: \"))\n",
    "\n",
    "# Demander à l'utilisateur d'entrer le deuxième nombre réel\n",
    "# Lire le deuxième nombre et le stocker dans une variable appelée nb2\n",
    "nombre2 = float(input(\"Entrez le deuxième nombre: \"))\n",
    "\n",
    "# Calculer la somme des deux nombres\n",
    "somme = nb1 + nb2\n",
    "\n",
    "# Afficher la somme des trois nombres\n",
    "print(\"La somme des deux nombres est: \", somme)"
   ]
  },
  {
   "cell_type": "markdown",
   "metadata": {},
   "source": [
    "## Exercice 3\n",
    "\n",
    "Écrire un programme qui demande à l'utilisateur de saisir une température en Fahrenheit, puis convert la température en Celsius et affiche le résultat avec la phrase \"La température valeur_F F équivaut à valeur_C degrès Celsius\".\n",
    "\n",
    "**Formule de conversion**: C = (F - 32) * 5/9"
   ]
  },
  {
   "cell_type": "code",
   "execution_count": 39,
   "metadata": {},
   "outputs": [
    {
     "name": "stdout",
     "output_type": "stream",
     "text": [
      "La température 33.0 F équivaut à 0.5555555555555556 degrès C\n"
     ]
    }
   ],
   "source": [
    "# Solution\n",
    "\n",
    "fahrenheit = float(input(\"Entrer la température en Farenheit\"))\n",
    "celsius = (fahrenheit - 32) * 5/9\n",
    "\n",
    "print(\"La température\", fahrenheit, \"F\", \n",
    "      \"équivaut à\", celsius, \"degrès C\")"
   ]
  },
  {
   "cell_type": "markdown",
   "metadata": {},
   "source": [
    "## Exercice 4 : Calcul de l’aire d’un rectangle\n",
    "\n",
    "Écrire un programme qui demande à l'utilisateur de saisir la longueur et la largeur d'un rectangle, calcul l'aire et affiche le résultat avec la phrase \"L'aire du rectangle de longueur valeur_longeur et de largeur valeur_largeur est: \"\n",
    "\n",
    "**Formule de l'aire d'un rectangle**: longueur * largeur"
   ]
  },
  {
   "cell_type": "code",
   "execution_count": 40,
   "metadata": {},
   "outputs": [
    {
     "name": "stdout",
     "output_type": "stream",
     "text": [
      "L'aire du rectangle 33.0 x 33.0 est: 1089.0\n"
     ]
    }
   ],
   "source": [
    "# Solution\n",
    "\n",
    "longueur = float(input(\"Entrer la longueur du rectangle\"))\n",
    "largeur = float(input(\"Entrer la largeur du rectangle\"))\n",
    "aire = longueur * largeur\n",
    "print(\"L'aire du rectangle\", longueur, \"x\", largeur, \"est:\", aire)"
   ]
  },
  {
   "cell_type": "markdown",
   "metadata": {},
   "source": [
    "## Exercice 5 : Calcul de la circonférence d’un cercle\n",
    "\n",
    "Écrire un programme qui demande à l'utilisateur de saisir le rayon d'un cercle, calcul la circonférence du cercle et affiche le résultat avec la phrase \"L'aire du rectangle de longueur valeur_longeur et de largeur valeur_largeur est: \"\n",
    "\n",
    "**Formule de la circonférence** : multiplier le rayon par 2, puis multiplier le résultat par π (pi, utilisez la valeur 3.14. On verra plus tard comment utiliser le module mathématique)."
   ]
  },
  {
   "cell_type": "code",
   "execution_count": 41,
   "metadata": {},
   "outputs": [
    {
     "name": "stdout",
     "output_type": "stream",
     "text": [
      "La circonférence du cercle de rayon 33.0 est: 207.34511513692635\n"
     ]
    }
   ],
   "source": [
    "# Solution\n",
    "# import math\n",
    "\n",
    "rayon = float(input(\"Entrer le rayon du cercle\"))\n",
    "circonference = (rayon * 2) * 3.14 # Ou math.pi\n",
    "print(\"La circonférence du cercle de rayon\", rayon, \"est:\", circonference)\n"
   ]
  }
 ],
 "metadata": {
  "kernelspec": {
   "display_name": "Python 3",
   "language": "python",
   "name": "python3"
  },
  "language_info": {
   "codemirror_mode": {
    "name": "ipython",
    "version": 3
   },
   "file_extension": ".py",
   "mimetype": "text/x-python",
   "name": "python",
   "nbconvert_exporter": "python",
   "pygments_lexer": "ipython3",
   "version": "3.11.9"
  }
 },
 "nbformat": 4,
 "nbformat_minor": 2
}
