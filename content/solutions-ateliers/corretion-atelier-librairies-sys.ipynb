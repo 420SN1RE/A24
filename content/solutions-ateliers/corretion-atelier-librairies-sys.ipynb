{
 "cells": [
  {
   "cell_type": "markdown",
   "metadata": {},
   "source": [
    "# Exercice 1\n",
    "\n",
    "## a) \n",
    "\n",
    "Créez un répertoire `foo` dans le répetoire courant.  \n"
   ]
  },
  {
   "cell_type": "code",
   "execution_count": 47,
   "metadata": {},
   "outputs": [],
   "source": [
    "import os \n",
    "\n",
    "if not os.path.exists('foo'):       \n",
    "    os.mkdir('foo')"
   ]
  },
  {
   "cell_type": "markdown",
   "metadata": {},
   "source": [
    "## b)\n",
    "\n",
    "Dans le répertoire que vous venez de créer, créer trois sous-répertoires:\n",
    "- programme\n",
    "- texte\n",
    "- image"
   ]
  },
  {
   "cell_type": "code",
   "execution_count": 48,
   "metadata": {},
   "outputs": [],
   "source": [
    "liste = ['programme', 'texte', 'image']\n",
    "for repertoire in liste:\n",
    "    os.mkdir(os.path.join('foo', repertoire))"
   ]
  },
  {
   "cell_type": "markdown",
   "metadata": {},
   "source": [
    "## c)\n",
    "\n",
    "Validez que les fichiers ont été créés à la bonne place.\n"
   ]
  },
  {
   "cell_type": "code",
   "execution_count": 49,
   "metadata": {},
   "outputs": [
    {
     "name": "stdout",
     "output_type": "stream",
     "text": [
      "['texte', 'programme', 'image']\n"
     ]
    }
   ],
   "source": [
    "print(os.listdir('foo'))"
   ]
  },
  {
   "cell_type": "markdown",
   "metadata": {},
   "source": [
    "## d)\n",
    "\n",
    "Tentez d'effacer le répertoire foo en utilisant la commande os.rmdir()...\n",
    "\n",
    "Ça ne devrait pas fonctionner, puisque la fonction os.rmdir() ne fonctionne que si le répertoire est vide.  \n",
    "Vous devez donc vider le répertoire avant de supprimer foo.  \n",
    "\n",
    "Puisque vous connaissez le contenu de foo, il serait facile de le vider manuellement (une ligne pour chaque répertoire)...  \n",
    "Faites en sorte que votre programme fonctionne peu importe les sous-répertoire qu'il contient."
   ]
  },
  {
   "cell_type": "code",
   "execution_count": 50,
   "metadata": {},
   "outputs": [],
   "source": [
    "liste = os.listdir('foo')\n",
    "\n",
    "for repertoire in liste:\n",
    "    os.rmdir(os.path.join(\"foo\", repertoire))\n",
    "os.rmdir('foo')"
   ]
  },
  {
   "cell_type": "markdown",
   "metadata": {},
   "source": [
    "# Exercice 2\n",
    "\n",
    "Créer un fichier `programme.py` dans le répertoire courant (où ce notebook se trouve). Faites le manuellement, sans passer par VsCode.  \n",
    "Dans ce fichier, inscrivez le code suivant:\n",
    "\n",
    "```python\n",
    "print('Bonjour')\n",
    "```"
   ]
  },
  {
   "cell_type": "markdown",
   "metadata": {},
   "source": [
    "## a)\n",
    "\n",
    "À partir du présent notebook, appelez le programme que vous venez de créer à l'aide de la commande `os.system()`"
   ]
  },
  {
   "cell_type": "code",
   "execution_count": 51,
   "metadata": {},
   "outputs": [
    {
     "name": "stdout",
     "output_type": "stream",
     "text": [
      "Pas le bon nombre d'arguments\n"
     ]
    }
   ],
   "source": [
    "import os \n",
    "\n",
    "if os.name == 'nt':     # Si Windows\n",
    "    os.system('python programme.py')\n",
    "elif os.name == 'posix':        # Si Linux\n",
    "    os.system('python3 programme.py')\n",
    "\n"
   ]
  },
  {
   "cell_type": "markdown",
   "metadata": {},
   "source": [
    "## b)\n",
    "\n",
    "Modifiez votre `programme.py`.  \n",
    "Votre programme devra prendre en argument un nom.  \n",
    "Vous devez valider qu'un seul argument a été fourni.  \n",
    "Ensuite, modifier votre `print()` pour qu'il affiche maintenant `Bonjour <nom>`.  \n",
    "\n",
    "Testez votre programme à partir d'ici.  \n",
    "Faites plusieurs tests afin de vous assurer que votre programme fonctionne correctement."
   ]
  },
  {
   "cell_type": "code",
   "execution_count": 52,
   "metadata": {},
   "outputs": [
    {
     "name": "stdout",
     "output_type": "stream",
     "text": [
      "\n",
      "TEST: Benoit\n",
      "Bonjour Benoit\n",
      "\n",
      "TEST: Benoit Foo\n",
      "Pas le bon nombre d'arguments\n",
      "\n",
      "TEST: \n",
      "Pas le bon nombre d'arguments\n"
     ]
    }
   ],
   "source": [
    "import os \n",
    "\n",
    "liste_test = [\"Benoit\", \"Benoit Foo\", \"\"]\n",
    "\n",
    "for test in liste_test:\n",
    "    print(\"\\nTEST:\", test)\n",
    "    if os.name == 'nt':     # Si Windows\n",
    "        os.system(f'python programme.py {test}')\n",
    "    elif os.name == 'posix':        # Si Linux\n",
    "        os.system(f'python3 programme.py {test}')"
   ]
  }
 ],
 "metadata": {
  "kernelspec": {
   "display_name": "Python 3",
   "language": "python",
   "name": "python3"
  },
  "language_info": {
   "codemirror_mode": {
    "name": "ipython",
    "version": 3
   },
   "file_extension": ".py",
   "mimetype": "text/x-python",
   "name": "python",
   "nbconvert_exporter": "python",
   "pygments_lexer": "ipython3",
   "version": "3.10.12"
  }
 },
 "nbformat": 4,
 "nbformat_minor": 2
}
