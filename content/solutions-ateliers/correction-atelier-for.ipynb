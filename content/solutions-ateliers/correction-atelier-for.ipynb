{
 "cells": [
  {
   "cell_type": "markdown",
   "metadata": {},
   "source": [
    "Ces exercices vous font pratiquer l'utilisation de la boucle `for`."
   ]
  },
  {
   "cell_type": "markdown",
   "metadata": {},
   "source": [
    "### Exercice 1\n",
    "\n",
    "En utilisant une boucle for, imprimez les entiers de 1 à 5\n"
   ]
  },
  {
   "cell_type": "code",
   "execution_count": null,
   "metadata": {},
   "outputs": [],
   "source": [
    "# Votre code ici\n",
    "\n",
    "for i in range(1,5):\n",
    "    print(i)"
   ]
  },
  {
   "cell_type": "markdown",
   "metadata": {},
   "source": [
    "### Exercice 2\n",
    "\n",
    "Écrivez une boucle for qui affiche les lettres une par une de la phrase \"Bonjour monde!\" (1 caractère par ligne)"
   ]
  },
  {
   "cell_type": "code",
   "execution_count": null,
   "metadata": {},
   "outputs": [],
   "source": [
    "# Votre code ici\n",
    "\n",
    "for lettre in \"Bonjour monde!\":\n",
    "    print(lettre)"
   ]
  },
  {
   "cell_type": "markdown",
   "metadata": {},
   "source": [
    "### Exercice 3\n",
    "\n",
    "Reprenez le programme de l'exercice #2 et arrêtez l'affichage des caractères au premier \"n\" trouvé.\n",
    "1. Faites une première version qui affiche le premier \"n\"\n",
    "1. Faites une seconde version qui s'arrête avant d'afficher le premier \"n\""
   ]
  },
  {
   "cell_type": "code",
   "execution_count": null,
   "metadata": {},
   "outputs": [],
   "source": [
    "# Votre code ici\n",
    "#1 \n",
    "for lettre in \"Bonjour monde!\":\n",
    "    print(lettre)\n",
    "    if lettre == \"n\":\n",
    "        break\n",
    "#2\n",
    "for lettre in \"Bonjour monde!\":\n",
    "    if lettre == \"n\":\n",
    "        break\n",
    "    print(lettre)\n"
   ]
  },
  {
   "cell_type": "markdown",
   "metadata": {},
   "source": [
    "### Exercice 4\n",
    "Écris un programme qui utilise une boucle for pour afficher tous les nombres pairs de 1 à 20."
   ]
  },
  {
   "cell_type": "code",
   "execution_count": null,
   "metadata": {},
   "outputs": [],
   "source": [
    "# Votre code ici\n",
    "\n",
    "for i in range(1, 21):\n",
    "    if i % 2 == 0:\n",
    "        print(i)"
   ]
  },
  {
   "cell_type": "markdown",
   "metadata": {},
   "source": [
    "### Exercice 5\n",
    "Écris un programme qui utilise une boucle for pour compter le nombre de voyelles dans un texte donné."
   ]
  },
  {
   "cell_type": "code",
   "execution_count": 4,
   "metadata": {},
   "outputs": [
    {
     "name": "stdout",
     "output_type": "stream",
     "text": [
      "Le nombre de voyelles dans Bonjour tout le monde est 8\n"
     ]
    }
   ],
   "source": [
    "texte = \"Bonjour tout le monde\"\n",
    "voyelles = \"aeiouy\"\n",
    "\n",
    "# votre code à partir d'ici\n",
    "compteur = 0\n",
    "for caractere in texte:\n",
    "    if caractere in voyelles:\n",
    "        compteur += 1\n",
    " \n",
    "print(\"Le nombre de voyelles dans\", texte,  \"est\", compteur)"
   ]
  },
  {
   "cell_type": "markdown",
   "metadata": {},
   "source": [
    "### Exercice 6\n",
    "\n",
    "Écris un programme qui utilise une boucle for pour générer et afficher la table de multiplication (1 à 10) d'un nombre donné par l'utilisateur."
   ]
  },
  {
   "cell_type": "code",
   "execution_count": 3,
   "metadata": {},
   "outputs": [
    {
     "name": "stdout",
     "output_type": "stream",
     "text": [
      "7 x 1 = 7\n",
      "7 x 2 = 14\n",
      "7 x 3 = 21\n",
      "7 x 4 = 28\n",
      "7 x 5 = 35\n",
      "7 x 6 = 42\n",
      "7 x 7 = 49\n",
      "7 x 8 = 56\n",
      "7 x 9 = 63\n",
      "7 x 10 = 70\n"
     ]
    }
   ],
   "source": [
    "# Votre code ici\n",
    "\n",
    "nombre = int(input(\"Entrez un nombre pour générer sa table de multiplication: \"))\n",
    "for i in range(1, 11):\n",
    "    print(nombre, \"x\", i, \"=\",nombre * i)"
   ]
  },
  {
   "cell_type": "markdown",
   "metadata": {},
   "source": [
    "### Exercice 7\n",
    "\n",
    "Écris un programme qui utilise une boucle for pour calculer la moyenne des éléments de la liste de nombres."
   ]
  },
  {
   "cell_type": "code",
   "execution_count": null,
   "metadata": {},
   "outputs": [],
   "source": [
    "liste = [22, 4, 12, 8, 45, 98,23]\n",
    "nb_elements = len(liste)\n",
    "\n",
    "# Votre code à partir d'ici\n",
    "somme = 0\n",
    "for nombre in liste:\n",
    "    somme += nombre\n",
    "\n",
    "moyenne = somme / nb_elements\n",
    "print(\"La moyenne des éléments de la liste est: \", moyenne)"
   ]
  },
  {
   "cell_type": "markdown",
   "metadata": {},
   "source": [
    "### Exercice 8\n",
    "\n",
    "Écris un programme qui utilise une boucle for pour afficher une pyramide d'étoiles de hauteur donnée par l'utilisateur.\n",
    "```\n",
    "*\n",
    "**\n",
    "***\n",
    "****\n",
    "*****\n",
    "```"
   ]
  },
  {
   "cell_type": "code",
   "execution_count": 2,
   "metadata": {},
   "outputs": [
    {
     "name": "stdout",
     "output_type": "stream",
     "text": [
      "*\n",
      "**\n",
      "***\n",
      "****\n",
      "*****\n"
     ]
    }
   ],
   "source": [
    "# votre code ici\n",
    "\n",
    "hauteur = int(input(\"Entrez la hauteur de la pyramide: \"))\n",
    "for i in range(1, hauteur + 1):\n",
    "    print('*' * i)"
   ]
  },
  {
   "cell_type": "markdown",
   "metadata": {},
   "source": [
    "### Exercice 9\n",
    "\n",
    "Écrire un programme qui demande à l'utilisateur d'entrer un mot de 5 lettres (ex: cours, notes, livre, etc.).\n",
    "Le programme doit inverser le lettres du mot et afficher le mot inversé."
   ]
  },
  {
   "cell_type": "code",
   "execution_count": 1,
   "metadata": {},
   "outputs": [
    {
     "name": "stdout",
     "output_type": "stream",
     "text": [
      "Le mot inversé du mot cours est sruoc\n"
     ]
    }
   ],
   "source": [
    "# Votre code ici\n",
    "\n",
    "mot = input(\"entrez un mot de 5 lettres:\")\n",
    "mot_inverse = \"\"\n",
    "    \n",
    "for lettre in mot:\n",
    "    mot_inverse = lettre + mot_inverse\n",
    "\n",
    "print(\"Le mot inversé du mot\", mot, \"est\", mot_inverse)"
   ]
  },
  {
   "cell_type": "markdown",
   "metadata": {},
   "source": [
    "### Exercice 10\n",
    "\n",
    "A partir de l'exercice #8, modifiez votre programme pour qu'il affiche cette figure:\n",
    "```\n",
    "    *\n",
    "   **\n",
    "  ***\n",
    " ****\n",
    "*****\n",
    "```\n",
    "\n",
    "Astuces: \n",
    "1. Utilisez trois boucles for\n",
    "2. Trouvez un moyen d'insérer le bon nombre d'espaces avant d'afficher une étoile.\n",
    "3. La fonction print() et end pourraient être utiles"
   ]
  },
  {
   "cell_type": "code",
   "execution_count": 5,
   "metadata": {},
   "outputs": [
    {
     "name": "stdout",
     "output_type": "stream",
     "text": [
      "    *\n",
      "   **\n",
      "  ***\n",
      " ****\n",
      "*****\n"
     ]
    }
   ],
   "source": [
    "# Votre code ici\n",
    "\n",
    "hauteur = int(input(\"Entrez la hauteur de la pyramide: \"))\n",
    "for i in range(1, hauteur+1):\n",
    "    for j in range(hauteur-i):\n",
    "        print(\" \", end=\"\")\n",
    "    for j in range(i):\n",
    "        print(\"*\", end=\"\")\n",
    "    print(\"\")"
   ]
  }
 ],
 "metadata": {
  "kernelspec": {
   "display_name": "Python 3",
   "language": "python",
   "name": "python3"
  },
  "language_info": {
   "codemirror_mode": {
    "name": "ipython",
    "version": 3
   },
   "file_extension": ".py",
   "mimetype": "text/x-python",
   "name": "python",
   "nbconvert_exporter": "python",
   "pygments_lexer": "ipython3",
   "version": "3.11.9"
  }
 },
 "nbformat": 4,
 "nbformat_minor": 2
}
