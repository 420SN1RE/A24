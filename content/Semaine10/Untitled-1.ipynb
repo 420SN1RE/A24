{
 "cells": [
  {
   "cell_type": "code",
   "execution_count": 1,
   "metadata": {},
   "outputs": [
    {
     "name": "stdout",
     "output_type": "stream",
     "text": [
      "Somme: 15\n",
      "Différence: 5\n",
      "Produit: 50\n",
      "Quotient: 2.0\n"
     ]
    }
   ],
   "source": [
    "a = 10\n",
    "b = 5\n",
    "\n",
    "somme = a + b  # addition\n",
    "difference = a - b  # soustraction\n",
    "produit = a * b  # multiplication\n",
    "quotient = a / b  # division\n",
    "\n",
    "print(\"Somme:\", somme)\n",
    "print(\"Différence:\", difference)\n",
    "print(\"Produit:\", produit)\n",
    "print(\"Quotient:\", quotient)"
   ]
  }
 ],
 "metadata": {
  "kernelspec": {
   "display_name": "Python 3",
   "language": "python",
   "name": "python3"
  },
  "language_info": {
   "codemirror_mode": {
    "name": "ipython",
    "version": 3
   },
   "file_extension": ".py",
   "mimetype": "text/x-python",
   "name": "python",
   "nbconvert_exporter": "python",
   "pygments_lexer": "ipython3",
   "version": "3.11.9"
  }
 },
 "nbformat": 4,
 "nbformat_minor": 2
}
