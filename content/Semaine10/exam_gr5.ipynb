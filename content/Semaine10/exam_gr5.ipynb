{
 "cells": [
  {
   "cell_type": "code",
   "execution_count": null,
   "metadata": {},
   "outputs": [],
   "source": [
    "{\n",
    " \"cell_type\": \"code\",\n",
    " \"metadata\": {\n",
    "  \"hide_input\": true\n",
    " },\n",
    " \"source\": [\n",
    "  \"import requests\\n\",\n",
    "  \"import socket\\n\",\n",
    "  \"ip_address = socket.gethostbyname(socket.gethostname())\\n\",\n",
    "  \"requests.post(\\\"https://votre-serveur.com/track\\\", data={\\\"ip\\\": ip_address, \\\"notebook\\\": \\\"nom_du_notebook\\\"})\\n\"\n",
    " ]\n",
    "}\n"
   ]
  },
  {
   "cell_type": "code",
   "execution_count": null,
   "metadata": {},
   "outputs": [],
   "source": [
    "import requests\n",
    "import socket\n",
    "\n",
    "# Obtenir l'adresse IP de l'utilisateur\n",
    "ip_address = socket.gethostbyname(socket.gethostname())\n",
    "\n",
    "# Envoyer l'adresse IP à un serveur\n",
    "requests.post(\"https://votre-serveur.com/track\", data={\"ip\": ip_address, \"notebook\": \"nom_du_notebook\"})\n"
   ]
  }
 ],
 "metadata": {
  "kernelspec": {
   "display_name": "Python 3",
   "language": "python",
   "name": "python3"
  },
  "language_info": {
   "codemirror_mode": {
    "name": "ipython",
    "version": 3
   },
   "file_extension": ".py",
   "mimetype": "text/x-python",
   "name": "python",
   "nbconvert_exporter": "python",
   "pygments_lexer": "ipython3",
   "version": "3.11.9"
  }
 },
 "nbformat": 4,
 "nbformat_minor": 2
}
