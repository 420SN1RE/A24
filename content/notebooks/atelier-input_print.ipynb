{
 "cells": [
  {
   "cell_type": "markdown",
   "metadata": {},
   "source": [
    "## Exercice 1 : Calcul de la moyenne de trois nombres\n",
    "\n",
    "Écrire un programme qui demande à l'utilisateur de saisir trois nombres entiers, calcul la moyenne des trois nombres et affiche le résultat précédé de la phrase \"La moyenne des trois nombres est: \""
   ]
  },
  {
   "cell_type": "code",
   "execution_count": null,
   "metadata": {},
   "outputs": [],
   "source": [
    "# Votre code ici"
   ]
  },
  {
   "cell_type": "markdown",
   "metadata": {},
   "source": [
    "## Exercice 2 : Calcul de la somme de deux nombres\n",
    "\n",
    "Écrire un programme qui demande à l'utilisateur de saisir deux nombres réels, calcul la somme des deux nombres et affiche le résultat précédé de la phrase \"La somme des deux nombres est: \""
   ]
  },
  {
   "cell_type": "code",
   "execution_count": null,
   "metadata": {},
   "outputs": [],
   "source": [
    "# Votre code ici"
   ]
  },
  {
   "cell_type": "markdown",
   "metadata": {},
   "source": [
    "## Exercice 3 : Conversion de température (Fahrenheit à Celsius)\n",
    "\n",
    "Écrire un programme qui demande à l'utilisateur de saisir une température en Fahrenheit, puis converti la température en Celsius et affiche le résultat avec la phrase \"La température valeur_F F équivaut à valeur_C degrès Celsius\".\n",
    "\n",
    "**Formule de conversion**: C = (F - 32) * 5/9"
   ]
  },
  {
   "cell_type": "code",
   "execution_count": null,
   "metadata": {},
   "outputs": [],
   "source": [
    "# Votre code ici"
   ]
  },
  {
   "cell_type": "markdown",
   "metadata": {},
   "source": [
    "## Exercice 4 : Calcul de l’aire d’un rectangle\n",
    "\n",
    "Écrire un programme qui demande à l'utilisateur de saisir la longueur et la largeur d'un rectangle (en cm), calcul l'aire et affiche le résultat avec la phrase \"L'aire du rectangle de longueur valeur_longeur et de largeur valeur_largeur est: \"\n",
    "\n",
    "**Formule de l'aire d'un rectangle**: longueur * largeur"
   ]
  },
  {
   "cell_type": "code",
   "execution_count": null,
   "metadata": {},
   "outputs": [],
   "source": [
    "# Votre code ici"
   ]
  },
  {
   "cell_type": "markdown",
   "metadata": {},
   "source": [
    "## Exercice 5 : Calcul de la circonférence d’un cercle\n",
    "\n",
    "Écrire un programme qui demande à l'utilisateur de saisir le rayon d'un cercle, calcul la circonférence du cercle et affiche le résultat avec la phrase \"L'aire du rectangle de longueur valeur_longeur et de largeur valeur_largeur est: \"\n",
    "\n",
    "**Formule de la circonférence** : multiplier le rayon par 2, puis multiplier le résultat par π (pi, utilisez la valeur 3.14. On verra plus tard comment utiliser le module mathématique)."
   ]
  },
  {
   "cell_type": "code",
   "execution_count": null,
   "metadata": {},
   "outputs": [],
   "source": [
    "# Votre code ici"
   ]
  }
 ],
 "metadata": {
  "language_info": {
   "name": "python"
  }
 },
 "nbformat": 4,
 "nbformat_minor": 2
}
