{
 "cells": [
  {
   "cell_type": "markdown",
   "metadata": {},
   "source": [
    "## Numpy"
   ]
  },
  {
   "cell_type": "code",
   "execution_count": 2,
   "metadata": {},
   "outputs": [
    {
     "data": {
      "text/plain": [
       "'1.26.4'"
      ]
     },
     "execution_count": 2,
     "metadata": {},
     "output_type": "execute_result"
    }
   ],
   "source": [
    "# Import de la librairie et vérification de la version\n",
    "import numpy as np\n",
    "np.__version__"
   ]
  },
  {
   "cell_type": "code",
   "execution_count": 3,
   "metadata": {},
   "outputs": [
    {
     "name": "stdout",
     "output_type": "stream",
     "text": [
      "[5 4 2 8]\n"
     ]
    }
   ],
   "source": [
    "# Tableau à une dimension\n",
    "tab_1d = np.array([5, 4, 2, 8])\n",
    "print(tab_1d)"
   ]
  },
  {
   "cell_type": "code",
   "execution_count": 4,
   "metadata": {},
   "outputs": [
    {
     "data": {
      "text/plain": [
       "5"
      ]
     },
     "execution_count": 4,
     "metadata": {},
     "output_type": "execute_result"
    }
   ],
   "source": [
    "# Accès au premier élément\n",
    "tab_1d[0] # Affiche 5"
   ]
  },
  {
   "cell_type": "code",
   "execution_count": 5,
   "metadata": {},
   "outputs": [
    {
     "name": "stdout",
     "output_type": "stream",
     "text": [
      "[[ 5  4  2  8]\n",
      " [ 7 10  3  5]\n",
      " [ 8  7  4  1]]\n"
     ]
    }
   ],
   "source": [
    "# Tableau à deux dimension\n",
    "tab_2d = np.array([[5, 4, 2, 8],[7, 10, 3, 5],[8, 7, 4, 1]])\n",
    "print(tab_2d)"
   ]
  },
  {
   "cell_type": "code",
   "execution_count": 6,
   "metadata": {},
   "outputs": [
    {
     "name": "stdout",
     "output_type": "stream",
     "text": [
      "5\n"
     ]
    }
   ],
   "source": [
    "# Accès au premier élément de mon tableau\n",
    "print(tab_1d[0])"
   ]
  },
  {
   "cell_type": "code",
   "execution_count": 7,
   "metadata": {},
   "outputs": [
    {
     "name": "stdout",
     "output_type": "stream",
     "text": [
      "[5 4 2 8]\n"
     ]
    }
   ],
   "source": [
    "# Accès à la première ligne de mon tableau\n",
    "print(tab_2d[0])"
   ]
  },
  {
   "cell_type": "code",
   "execution_count": 8,
   "metadata": {},
   "outputs": [
    {
     "name": "stdout",
     "output_type": "stream",
     "text": [
      "5\n"
     ]
    }
   ],
   "source": [
    "# Accès au premier élément de mon tableau\n",
    "print(tab_2d[0][0])"
   ]
  },
  {
   "cell_type": "code",
   "execution_count": 9,
   "metadata": {},
   "outputs": [
    {
     "data": {
      "text/plain": [
       "(3, 4)"
      ]
     },
     "execution_count": 9,
     "metadata": {},
     "output_type": "execute_result"
    }
   ],
   "source": [
    "np.shape(tab_2d)"
   ]
  },
  {
   "cell_type": "code",
   "execution_count": 10,
   "metadata": {},
   "outputs": [
    {
     "data": {
      "text/plain": [
       "2"
      ]
     },
     "execution_count": 10,
     "metadata": {},
     "output_type": "execute_result"
    }
   ],
   "source": [
    "np.ndim(tab_2d)"
   ]
  },
  {
   "cell_type": "code",
   "execution_count": 11,
   "metadata": {},
   "outputs": [
    {
     "data": {
      "text/plain": [
       "12"
      ]
     },
     "execution_count": 11,
     "metadata": {},
     "output_type": "execute_result"
    }
   ],
   "source": [
    "np.size(tab_2d)"
   ]
  },
  {
   "cell_type": "code",
   "execution_count": 12,
   "metadata": {},
   "outputs": [
    {
     "data": {
      "text/plain": [
       "5.333333333333333"
      ]
     },
     "execution_count": 12,
     "metadata": {},
     "output_type": "execute_result"
    }
   ],
   "source": [
    "np.mean(tab_2d)"
   ]
  },
  {
   "cell_type": "code",
   "execution_count": 13,
   "metadata": {},
   "outputs": [
    {
     "name": "stdout",
     "output_type": "stream",
     "text": [
      "[5 7 8]\n"
     ]
    }
   ],
   "source": [
    "print(tab_2d[:, 0]) # Affiche [5 7 8]"
   ]
  },
  {
   "cell_type": "code",
   "execution_count": 14,
   "metadata": {},
   "outputs": [
    {
     "name": "stdout",
     "output_type": "stream",
     "text": [
      "[5 4 2 8]\n"
     ]
    }
   ],
   "source": [
    "print(tab_2d[0, :]) # Affiche [5 4 2 8]"
   ]
  },
  {
   "cell_type": "code",
   "execution_count": 15,
   "metadata": {},
   "outputs": [
    {
     "name": "stdout",
     "output_type": "stream",
     "text": [
      "[[ 5  4]\n",
      " [ 7 10]\n",
      " [ 8  7]]\n"
     ]
    }
   ],
   "source": [
    "print(tab_2d[:, 0:2]) # Affiche [[5 4][7 10][8 7]]"
   ]
  },
  {
   "cell_type": "code",
   "execution_count": 16,
   "metadata": {},
   "outputs": [
    {
     "name": "stdout",
     "output_type": "stream",
     "text": [
      "[[ 5  4  2  8]\n",
      " [ 7 10  3  5]]\n"
     ]
    }
   ],
   "source": [
    "print(tab_2d[0:2, :]) # Affiche [[5 4 2 8][7 10 3 5]]"
   ]
  },
  {
   "cell_type": "code",
   "execution_count": 17,
   "metadata": {},
   "outputs": [
    {
     "name": "stdout",
     "output_type": "stream",
     "text": [
      "[[ True  True  True False]\n",
      " [False False  True  True]\n",
      " [False False  True  True]]\n"
     ]
    }
   ],
   "source": [
    "print(tab_2d < 7)"
   ]
  },
  {
   "cell_type": "code",
   "execution_count": 18,
   "metadata": {},
   "outputs": [
    {
     "name": "stdout",
     "output_type": "stream",
     "text": [
      "[[ 5  4  2  8]\n",
      " [ 7 10  3  5]\n",
      " [ 8  7  4  1]]\n",
      "[[ 3  3  3  8]\n",
      " [ 7 10  3  3]\n",
      " [ 8  7  3  3]]\n"
     ]
    }
   ],
   "source": [
    "# Tableau à deux dimension\n",
    "tab_2d = np.array([[5, 4, 2, 8],[7, 10, 3, 5],[8, 7, 4, 1]])\n",
    "print(tab_2d)\n",
    "\n",
    "tab_2d[tab_2d < 7] = 3\n",
    "print(tab_2d)"
   ]
  },
  {
   "cell_type": "code",
   "execution_count": 19,
   "metadata": {},
   "outputs": [
    {
     "name": "stdout",
     "output_type": "stream",
     "text": [
      "[[ 5  4  2  8]\n",
      " [ 7 10  3  5]\n",
      " [ 8  7  4  1]]\n",
      "[[ 3  3  2  8]\n",
      " [ 7 10  3  3]\n",
      " [ 8  7  3  1]]\n"
     ]
    }
   ],
   "source": [
    "# Tableau à deux dimension\n",
    "tab_2d = np.array([[5, 4, 2, 8],[7, 10, 3, 5],[8, 7, 4, 1]])\n",
    "print(tab_2d)\n",
    "\n",
    "tab_2d[(tab_2d < 7) & (tab_2d > 3)] = 3\n",
    "print(tab_2d)"
   ]
  },
  {
   "cell_type": "code",
   "execution_count": 20,
   "metadata": {},
   "outputs": [
    {
     "data": {
      "text/plain": [
       "64"
      ]
     },
     "execution_count": 20,
     "metadata": {},
     "output_type": "execute_result"
    }
   ],
   "source": [
    "tab_2d = np.array([[5, 4, 2, 8],[7, 10, 3, 5],[8, 7, 4, 1]])\n",
    "np.sum(tab_2d)"
   ]
  },
  {
   "cell_type": "code",
   "execution_count": 21,
   "metadata": {},
   "outputs": [
    {
     "data": {
      "text/plain": [
       "75264000"
      ]
     },
     "execution_count": 21,
     "metadata": {},
     "output_type": "execute_result"
    }
   ],
   "source": [
    "np.prod(tab_2d)"
   ]
  },
  {
   "cell_type": "code",
   "execution_count": 22,
   "metadata": {},
   "outputs": [
    {
     "data": {
      "text/plain": [
       "array([[-0.95892427, -0.7568025 ,  0.90929743,  0.98935825],\n",
       "       [ 0.6569866 , -0.54402111,  0.14112001, -0.95892427],\n",
       "       [ 0.98935825,  0.6569866 , -0.7568025 ,  0.84147098]])"
      ]
     },
     "execution_count": 22,
     "metadata": {},
     "output_type": "execute_result"
    }
   ],
   "source": [
    "np.sin(tab_2d)"
   ]
  },
  {
   "cell_type": "code",
   "execution_count": 23,
   "metadata": {},
   "outputs": [
    {
     "data": {
      "text/plain": [
       "array([[ 0.28366219, -0.65364362, -0.41614684, -0.14550003],\n",
       "       [ 0.75390225, -0.83907153, -0.9899925 ,  0.28366219],\n",
       "       [-0.14550003,  0.75390225, -0.65364362,  0.54030231]])"
      ]
     },
     "execution_count": 23,
     "metadata": {},
     "output_type": "execute_result"
    }
   ],
   "source": [
    "np.cos(tab_2d)"
   ]
  },
  {
   "cell_type": "code",
   "execution_count": 24,
   "metadata": {},
   "outputs": [
    {
     "data": {
      "text/plain": [
       "array([[1.48413159e+02, 5.45981500e+01, 7.38905610e+00, 2.98095799e+03],\n",
       "       [1.09663316e+03, 2.20264658e+04, 2.00855369e+01, 1.48413159e+02],\n",
       "       [2.98095799e+03, 1.09663316e+03, 5.45981500e+01, 2.71828183e+00]])"
      ]
     },
     "execution_count": 24,
     "metadata": {},
     "output_type": "execute_result"
    }
   ],
   "source": [
    "np.exp(tab_2d)"
   ]
  },
  {
   "cell_type": "code",
   "execution_count": 25,
   "metadata": {},
   "outputs": [
    {
     "data": {
      "text/plain": [
       "array([[1.60943791, 1.38629436, 0.69314718, 2.07944154],\n",
       "       [1.94591015, 2.30258509, 1.09861229, 1.60943791],\n",
       "       [2.07944154, 1.94591015, 1.38629436, 0.        ]])"
      ]
     },
     "execution_count": 25,
     "metadata": {},
     "output_type": "execute_result"
    }
   ],
   "source": [
    "np.log(tab_2d)"
   ]
  },
  {
   "cell_type": "code",
   "execution_count": 26,
   "metadata": {},
   "outputs": [
    {
     "data": {
      "text/plain": [
       "5.333333333333333"
      ]
     },
     "execution_count": 26,
     "metadata": {},
     "output_type": "execute_result"
    }
   ],
   "source": [
    "np.mean(tab_2d)"
   ]
  },
  {
   "cell_type": "code",
   "execution_count": 30,
   "metadata": {},
   "outputs": [
    {
     "data": {
      "text/plain": [
       "2.592724864350674"
      ]
     },
     "execution_count": 30,
     "metadata": {},
     "output_type": "execute_result"
    }
   ],
   "source": [
    "np.median(tab_2d)"
   ]
  },
  {
   "cell_type": "code",
   "execution_count": 31,
   "metadata": {},
   "outputs": [
    {
     "data": {
      "text/plain": [
       "6.722222222222222"
      ]
     },
     "execution_count": 31,
     "metadata": {},
     "output_type": "execute_result"
    }
   ],
   "source": [
    "np.var(tab_2d)"
   ]
  },
  {
   "cell_type": "code",
   "execution_count": 32,
   "metadata": {},
   "outputs": [
    {
     "data": {
      "text/plain": [
       "2.592724864350674"
      ]
     },
     "execution_count": 32,
     "metadata": {},
     "output_type": "execute_result"
    }
   ],
   "source": [
    "np.std(tab_2d)"
   ]
  },
  {
   "cell_type": "code",
   "execution_count": 33,
   "metadata": {},
   "outputs": [
    {
     "data": {
      "text/plain": [
       "array([[ 1.        ,  0.1004662 , -0.46380072],\n",
       "       [ 0.1004662 ,  1.        ,  0.63540406],\n",
       "       [-0.46380072,  0.63540406,  1.        ]])"
      ]
     },
     "execution_count": 33,
     "metadata": {},
     "output_type": "execute_result"
    }
   ],
   "source": [
    "np.corrcoef(tab_2d)"
   ]
  },
  {
   "cell_type": "code",
   "execution_count": 37,
   "metadata": {},
   "outputs": [
    {
     "data": {
      "text/plain": [
       "array([19, 25, 20])"
      ]
     },
     "execution_count": 37,
     "metadata": {},
     "output_type": "execute_result"
    }
   ],
   "source": [
    "np.sum(tab_2d, axis=0)\n"
   ]
  },
  {
   "cell_type": "code",
   "execution_count": 38,
   "metadata": {},
   "outputs": [
    {
     "data": {
      "text/plain": [
       "array([19, 25, 20])"
      ]
     },
     "execution_count": 38,
     "metadata": {},
     "output_type": "execute_result"
    }
   ],
   "source": [
    "np.sum(tab_2d, axis=1)"
   ]
  },
  {
   "cell_type": "code",
   "execution_count": 39,
   "metadata": {},
   "outputs": [
    {
     "data": {
      "text/plain": [
       "(array([ 1,  2,  3,  4,  5,  7,  8, 10]),\n",
       " array([1, 1, 1, 2, 2, 2, 2, 1], dtype=int64))"
      ]
     },
     "execution_count": 39,
     "metadata": {},
     "output_type": "execute_result"
    }
   ],
   "source": [
    "np.unique(tab_2d, return_counts=True)"
   ]
  },
  {
   "cell_type": "code",
   "execution_count": 54,
   "metadata": {},
   "outputs": [
    {
     "name": "stdout",
     "output_type": "stream",
     "text": [
      "[[ 1.  0. 10.]\n",
      " [ 2.  0.  8.]\n",
      " [ 3.  5.  3.]\n",
      " [ 4.  2.  5.]\n",
      " [ 5. 10.  1.]\n",
      " [ 6. 50.  0.]\n",
      " [ 7.  0. 10.]]\n"
     ]
    }
   ],
   "source": [
    "data = np.loadtxt(\"data.csv\", delimiter=',', skiprows=1)\n",
    "print(data)"
   ]
  },
  {
   "cell_type": "markdown",
   "metadata": {},
   "source": [
    "Bien sûr! Voici quelques exercices pour vous aider à maîtriser NumPy. Ces exercices couvrent différents aspects de la bibliothèque, des bases aux opérations plus avancées.\n",
    "\n",
    "### **Exercice 1: Création et Manipulation de Tableaux**\n",
    "1. **Créer un tableau 1D** de 10 éléments contenant les nombres de 0 à 9.\n",
    "   ```python\n",
    "   import numpy as np\n",
    "   array_1d = np.arange(10)\n",
    "   print(array_1d)\n",
    "   ```\n",
    "\n",
    "2. **Créer un tableau 2D** de dimensions 3x3 contenant des nombres aléatoires entre 0 et 1.\n",
    "   ```python\n",
    "   array_2d = np.random.rand(3, 3)\n",
    "   print(array_2d)\n",
    "   ```\n",
    "\n",
    "3. **Redimensionner** le tableau 1D créé en un tableau 2D de dimensions 2x5.\n",
    "   ```python\n",
    "   reshaped_array = array_1d.reshape(2, 5)\n",
    "   print(reshaped_array)\n",
    "   ```\n",
    "\n",
    "### **Exercice 2: Opérations sur les Tableaux**\n",
    "1. **Ajouter 5** à chaque élément du tableau 1D.\n",
    "   ```python\n",
    "   array_plus_5 = array_1d + 5\n",
    "   print(array_plus_5)\n",
    "   ```\n",
    "\n",
    "2. **Multiplier** chaque élément du tableau 2D par 10.\n",
    "   ```python\n",
    "   array_2d_multiplied = array_2d * 10\n",
    "   print(array_2d_multiplied)\n",
    "   ```\n",
    "\n",
    "3. **Calculer la somme** de tous les éléments du tableau 2D.\n",
    "   ```python\n",
    "   sum_2d = np.sum(array_2d)\n",
    "   print(sum_2d)\n",
    "   ```\n",
    "\n",
    "### **Exercice 3: Indexation et Slicing**\n",
    "1. **Extraire les éléments** du tableau 1D de l'indice 2 à l'indice 5.\n",
    "   ```python\n",
    "   sliced_array = array_1d[2:6]\n",
    "   print(sliced_array)\n",
    "   ```\n",
    "\n",
    "2. **Extraire la première colonne** du tableau 2D.\n",
    "   ```python\n",
    "   first_column = array_2d[:, 0]\n",
    "   print(first_column)\n",
    "   ```\n",
    "\n",
    "3. **Modifier les éléments** de la deuxième ligne du tableau 2D pour qu'ils soient tous égaux à 0.\n",
    "   ```python\n",
    "   array_2d[1, :] = 0\n",
    "   print(array_2d)\n",
    "   ```\n",
    "\n",
    "### **Exercice 4: Fonctions Mathématiques et Statistiques**\n",
    "1. **Calculer la moyenne** des éléments du tableau 1D.\n",
    "   ```python\n",
    "   mean_1d = np.mean(array_1d)\n",
    "   print(mean_1d)\n",
    "   ```\n",
    "\n",
    "2. **Calculer l'écart-type** des éléments du tableau 2D.\n",
    "   ```python\n",
    "   std_2d = np.std(array_2d)\n",
    "   print(std_2d)\n",
    "   ```\n",
    "\n",
    "3. **Trouver l'élément maximum** et son indice dans le tableau 1D.\n",
    "   ```python\n",
    "   max_value = np.max(array_1d)\n",
    "   max_index = np.argmax(array_1d)\n",
    "   print(max_value, max_index)\n",
    "   ```\n",
    "\n",
    "### **Exercice 5: Génération de Données**\n",
    "1. **Créer un tableau** de 20 éléments contenant des nombres aléatoires entiers entre 1 et 100.\n",
    "   ```python\n",
    "   random_integers = np.random.randint(1, 101, size=20)\n",
    "   print(random_integers)\n",
    "   ```\n",
    "\n",
    "2. **Créer une matrice identité** de dimensions 4x4.\n",
    "   ```python\n",
    "   identity_matrix = np.eye(4)\n",
    "   print(identity_matrix)\n",
    "   ```\n",
    "\n",
    "3. **Générer une séquence** de 50 nombres également espacés entre 0 et 10.\n",
    "   ```python\n",
    "   linspace_array = np.linspace(0, 10, 50)\n",
    "   print(linspace_array)\n",
    "   ```\n",
    "\n",
    "Ces exercices devraient vous aider à bien comprendre et maîtriser les fonctionnalités de base et avancées de NumPy. N'hésitez pas à me demander si vous avez des questions ou besoin d'aide supplémentaire!"
   ]
  },
  {
   "cell_type": "markdown",
   "metadata": {},
   "source": [
    "Atelier Pratique\n",
    "Exercices\n",
    "Création d'un Tableau :\n",
    "\n",
    "Créez un tableau NumPy contenant les nombres de 0 à 9.\n",
    "Opérations de Base :\n",
    "\n",
    "Multipliez chaque élément du tableau par 2.\n",
    "Indexation et Slicing :\n",
    "\n",
    "Extrayez les éléments de la position 2 à 5 du tableau.\n",
    "Reshape et Flatten :\n",
    "\n",
    "Transformez le tableau en une matrice de 2x5 et applatissez-la ensuite.\n",
    "Calculs :\n",
    "\n",
    "Calculez la somme, le minimum et le maximum du tableau.\n",
    "Solutions\n",
    "Création d'un Tableau :\n",
    "\n",
    "python\n",
    "Copy Code\n",
    "import numpy as np\n",
    "ex1 = np.arange(10)\n",
    "print(ex1)\n",
    "# Output: [0 1 2 3 4 5 6 7 8 9]\n",
    "Opérations de Base :\n",
    "\n",
    "python\n",
    "Copy Code\n",
    "ex2 = ex1 * 2\n",
    "print(ex2)\n",
    "# Output: [ 0  2  4  6  8 10 12 14 16 18]\n",
    "Indexation et Slicing :\n",
    "\n",
    "python\n",
    "Copy Code\n",
    "ex3 = ex1[2:6]\n",
    "print(ex3)\n",
    "# Output: [2 3 4 5]\n",
    "Reshape et Flatten :\n",
    "\n",
    "python\n",
    "Copy Code\n",
    "ex4 = ex1.reshape((2, 5))\n",
    "print(ex4)\n",
    "# Output: \n",
    "# [[0 1 2 3 4]\n",
    "#  [5 6 7 8 9]]\n",
    "ex4_flattened = ex4.flatten()\n",
    "print(ex4_flattened)\n",
    "# Output: [0 1 2 3 4 5 6 7 8 9]\n",
    "Calculs :\n",
    "\n",
    "python\n",
    "Copy Code\n",
    "ex5_sum = np.sum(ex1)\n",
    "ex5_min = np.min(ex1)\n",
    "ex5_max = np.max(ex1)\n",
    "print(ex5_sum)  # Output: 45\n",
    "print(ex5_min)  # Output: 0\n",
    "print(ex5_max)  # Output: 9\n",
    "En suivant ce chapitre et en réalisant les exercices, vous aurez une bonne compréhension des bases de NumPy et de son utilisation pour le calcul scientifique en Python."
   ]
  }
 ],
 "metadata": {
  "kernelspec": {
   "display_name": "Python 3",
   "language": "python",
   "name": "python3"
  },
  "language_info": {
   "codemirror_mode": {
    "name": "ipython",
    "version": 3
   },
   "file_extension": ".py",
   "mimetype": "text/x-python",
   "name": "python",
   "nbconvert_exporter": "python",
   "pygments_lexer": "ipython3",
   "version": "3.11.9"
  }
 },
 "nbformat": 4,
 "nbformat_minor": 2
}
