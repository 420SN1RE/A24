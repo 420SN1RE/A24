{
 "cells": [
  {
   "cell_type": "code",
   "execution_count": null,
   "metadata": {},
   "outputs": [],
   "source": [
    "import pandas as pd"
   ]
  },
  {
   "cell_type": "code",
   "execution_count": null,
   "metadata": {},
   "outputs": [],
   "source": [
    "# Chargement des données du fichier .csv dans un dataframe\n",
    "df_produits = pd.read_csv(\"produits.csv\")"
   ]
  },
  {
   "cell_type": "code",
   "execution_count": null,
   "metadata": {},
   "outputs": [],
   "source": [
    "# Affichage des données pour comprendre le jeu de données\n",
    "# - connaitre le noms des colonnes et les données\n",
    "df_produits"
   ]
  },
  {
   "cell_type": "code",
   "execution_count": null,
   "metadata": {},
   "outputs": [],
   "source": [
    "# Créer une liste des produits uniques à partir de la sélection de la colonne 'Produit'\n",
    "\n",
    "\n",
    "# Dataframe contenant les produits et leurs ventes\n",
    " \n",
    "\n",
    "# Parcourir la liste des produits uniques un produit à la fois\n",
    "# Pour chacun des produits, obtenir la somme des ventes et calculer la moyenne\n",
    "\n",
    "   \n",
    "    \n",
    "# Afficher la vente moyenne du produit\n",
    "    "
   ]
  }
 ],
 "metadata": {
  "kernelspec": {
   "display_name": "Python 3",
   "language": "python",
   "name": "python3"
  },
  "language_info": {
   "codemirror_mode": {
    "name": "ipython",
    "version": 3
   },
   "file_extension": ".py",
   "mimetype": "text/x-python",
   "name": "python",
   "nbconvert_exporter": "python",
   "pygments_lexer": "ipython3",
   "version": "3.11.9"
  }
 },
 "nbformat": 4,
 "nbformat_minor": 2
}
