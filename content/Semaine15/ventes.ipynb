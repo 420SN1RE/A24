{
 "cells": [
  {
   "cell_type": "code",
   "execution_count": null,
   "metadata": {},
   "outputs": [],
   "source": [
    "import pandas as pd"
   ]
  },
  {
   "cell_type": "code",
   "execution_count": null,
   "metadata": {},
   "outputs": [],
   "source": [
    "# Chargement des données du fichier .csv dans un dataframe\n",
    "df_ventes = pd.read_csv(\"ventes.csv\")"
   ]
  },
  {
   "cell_type": "code",
   "execution_count": null,
   "metadata": {},
   "outputs": [],
   "source": [
    "# Affichage des données pour comprendre le jeu de données\n",
    "# - connaitre le noms des colonnes et les données\n",
    "df_ventes"
   ]
  },
  {
   "cell_type": "code",
   "execution_count": null,
   "metadata": {},
   "outputs": [],
   "source": [
    "# 1-Filtrer les données pour les ventes de voitures entre 2015 et 2020\n",
    "df_voitures = \n",
    "\n",
    "# 2-Initialiser à 0 des variables pour la somme des ventes et le compteur de ventes\n",
    "\n",
    "# 3- Calculer la somme des ventes et le nombre de ventes\n",
    "\n",
    "\n",
    "# 4- Calculer la moyenne des ventes\n",
    "ventes_moyennes = \n",
    "\n",
    "# 5-Afficher les ventes moyennes\n",
    "print(f\"Le nombre moyen de ventes de voitures de 2015 à 2020 est de {round(ventes_moyennes,2)}$\")\n"
   ]
  }
 ],
 "metadata": {
  "kernelspec": {
   "display_name": "Python 3",
   "language": "python",
   "name": "python3"
  },
  "language_info": {
   "codemirror_mode": {
    "name": "ipython",
    "version": 3
   },
   "file_extension": ".py",
   "mimetype": "text/x-python",
   "name": "python",
   "nbconvert_exporter": "python",
   "pygments_lexer": "ipython3",
   "version": "3.11.9"
  }
 },
 "nbformat": 4,
 "nbformat_minor": 2
}
