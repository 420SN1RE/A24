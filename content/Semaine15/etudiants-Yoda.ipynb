{
 "cells": [
  {
   "cell_type": "code",
   "execution_count": null,
   "metadata": {},
   "outputs": [],
   "source": [
    "import pandas as pd"
   ]
  },
  {
   "cell_type": "code",
   "execution_count": null,
   "metadata": {},
   "outputs": [],
   "source": [
    "# Chargement des données du fichier .csv dans un dataframe\n",
    "df = pd.read_csv(\"etudiants.csv\")"
   ]
  },
  {
   "cell_type": "code",
   "execution_count": null,
   "metadata": {},
   "outputs": [],
   "source": [
    "# Affichage des données pour comprendre le jeu de données\n",
    "# - connaitre le noms des colonnes et les données\n",
    "df"
   ]
  },
  {
   "cell_type": "code",
   "execution_count": null,
   "metadata": {},
   "outputs": [],
   "source": [
    "#1. Filtrer les données pour l'Étudiant 1.\n",
    "\n",
    "#2. Parcourir les scores de cet étudiant pour trouver le score maximum.\n",
    "\n",
    "#3. Trouver la matière correspondant au score maximum.\n",
    "\n",
    "#4. Afficher la matière dans laquelle cet étudiant a obtenu le meilleur score.\n",
    "#\t- Affichez la matière de ce score sous la forme: \"La matière où l'Étudiant 1 a obtenu le meilleur score est X\"."
   ]
  }
 ],
 "metadata": {
  "kernelspec": {
   "display_name": "Python 3",
   "language": "python",
   "name": "python3"
  },
  "language_info": {
   "codemirror_mode": {
    "name": "ipython",
    "version": 3
   },
   "file_extension": ".py",
   "mimetype": "text/x-python",
   "name": "python",
   "nbconvert_exporter": "python",
   "pygments_lexer": "ipython3",
   "version": "3.11.9"
  }
 },
 "nbformat": 4,
 "nbformat_minor": 2
}
