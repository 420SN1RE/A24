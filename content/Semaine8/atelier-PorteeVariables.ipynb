{
 "cells": [
  {
   "cell_type": "markdown",
   "metadata": {},
   "source": [
    "Pour chacun des exercices ci-dessous, vous devez répondre aux questions suivantes:\n",
    "1. Quelle est la sortie de ce code ?\n",
    "2. Pourquoi ?"
   ]
  },
  {
   "cell_type": "markdown",
   "metadata": {},
   "source": [
    "\n",
    "## Exercice 1:\n",
    "```python\n",
    "def test():\n",
    "    x = 10\n",
    "    print(x)\n",
    "\n",
    "test()\n",
    "print(x)\n",
    "```"
   ]
  },
  {
   "cell_type": "markdown",
   "metadata": {},
   "source": [
    "## Exercice 2:\n",
    "```python\n",
    "x = 10\n",
    "\n",
    "def test():\n",
    "    print(x)\n",
    "\n",
    "test()\n",
    "print(x)\n",
    "```"
   ]
  },
  {
   "cell_type": "markdown",
   "metadata": {},
   "source": [
    "## Exercice 3:\n",
    "```python\n",
    "x = 10\n",
    "\n",
    "def test():\n",
    "    x = 20\n",
    "    print(x)\n",
    "\n",
    "test()\n",
    "print(x)\n",
    "```"
   ]
  },
  {
   "cell_type": "markdown",
   "metadata": {},
   "source": [
    "## Exercice 4:\n",
    "```python\n",
    "x = 10\n",
    "\n",
    "def test():\n",
    "    global x\n",
    "    x = 20\n",
    "    print(x)\n",
    "\n",
    "test()\n",
    "print(x)\n",
    "```\n"
   ]
  }
 ],
 "metadata": {
  "language_info": {
   "name": "python"
  }
 },
 "nbformat": 4,
 "nbformat_minor": 2
}
