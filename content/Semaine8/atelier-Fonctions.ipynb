{
 "cells": [
  {
   "cell_type": "markdown",
   "metadata": {},
   "source": [
    " ## Exercice 1 : Créer une fonction\n",
    "\n",
    "- Écrivez un programme pour créer une fonction qui prend deux arguments, nom et âge, et affiche leur valeur.\n",
    "\n",
    "**Indice :**\n",
    "- Utilisez le mot-clé `def` avec le nom de la fonction pour définir une fonction.\n",
    "- Ensuite, prenez deux paramètres.\n",
    "- Affichez-les en utilisant la fonction `print()`.\n",
    "- Appelez la fonction en passant le nom et l'âge."
   ]
  },
  {
   "cell_type": "code",
   "execution_count": null,
   "metadata": {
    "vscode": {
     "languageId": "plaintext"
    }
   },
   "outputs": [],
   "source": [
    "# Votre code ici"
   ]
  },
  {
   "cell_type": "markdown",
   "metadata": {},
   "source": [
    "## Exercice 2 : Créer une fonction avec un nombre variable d'arguments\n",
    "\n",
    "- Écrivez un programme pour créer la fonction `fonc1()` pour accepter un nombre variable d'arguments et afficher leur valeur.\n",
    "\n",
    "**Remarque :** Créez une fonction de manière à ce que nous puissions passer n'importe quel nombre d'arguments à cette fonction, et la fonction doit les traiter et afficher la valeur de chaque argument.\n",
    "\n",
    "**Appel de fonction :**\n",
    "\n",
    "```python\n",
    "# appeler la fonction avec 3 arguments\n",
    "fonc1(20, 40, 60)\n",
    "\n",
    "# appeler la fonction avec 2 arguments\n",
    "fonc1(80, 100)\n",
    "```\n",
    "\n",
    "**Résultat attendu :**\n",
    "\n",
    "```\n",
    "Affichage des valeurs\n",
    "20\n",
    "40\n",
    "60\n",
    "\n",
    "Affichage des valeurs\n",
    "80\n",
    "100\n",
    "```\n",
    "\n",
    "**Indice :**\n",
    "- Pour accepter un nombre variable d'arguments positionnels, c'est-à-dire pour créer des fonctions qui prennent un nombre `n` d'arguments positionnels, nous utilisons `*args` comme paramètre (précédez un nom de paramètre d'un astérisque `*`).\n",
    "\n",
    "- En utilisant cela, nous pouvons passer n'importe quel nombre d'arguments à cette fonction. \n",
    "- En interne, toutes ces valeurs sont représentées sous forme de `tuple`."
   ]
  },
  {
   "cell_type": "code",
   "execution_count": null,
   "metadata": {
    "vscode": {
     "languageId": "plaintext"
    }
   },
   "outputs": [],
   "source": [
    "# Votre code ici"
   ]
  },
  {
   "cell_type": "markdown",
   "metadata": {},
   "source": [
    "## Exercice 3 : Créer une fonction avec un argument par défaut\n",
    "\n",
    "- Écrivez un programme pour créer une fonction `affiche_infos()` en utilisant les conditions suivantes.\n",
    "\n",
    "- Elle doit accepter le nom de l'employé et le salaire et afficher les deux.\n",
    "- Si le salaire est manquant dans l'appel de la fonction, alors attribuez la valeur par défaut de 1000000 au salaire.\n",
    "\n",
    "**Exemples :**\n",
    "\n",
    "```python\n",
    "affiche_infos(\"Carlitos\", 1500000)\n",
    "affiche_infos(\"Novak\")\n",
    "```\n",
    "\n",
    "**Résultat attendu :**\n",
    "\n",
    "```\n",
    "Nom : Carlitos, salaire : 1500000\n",
    "Nom : Novak, salaire : 1000000\n",
    "```\n"
   ]
  },
  {
   "cell_type": "code",
   "execution_count": null,
   "metadata": {
    "vscode": {
     "languageId": "plaintext"
    }
   },
   "outputs": [],
   "source": [
    "# Votre code ici"
   ]
  },
  {
   "cell_type": "markdown",
   "metadata": {},
   "source": [
    "## Exercice 4 : Retourner le résultat d'une fonction\n",
    "\n",
    "- Écrivez un programme pour créer une fonction `calculer()` de manière à ce qu'elle puisse accepter deux nombre et un opérateur (+, -, *,/) et retourne le résultat de l’opération effectuée dans une phrase. \n",
    "- Par défaut, si l'opérateur n'est pas fourni lors de l'appel de la fonction, l'opération effectuée sera l’addition.\n",
    "\n",
    "**Exemples :**\n",
    "\n",
    "```python\n",
    "print(calculer(5, 3))  # Par défaut, addition\n",
    "print(calculer(5, 3, '-'))  # Soustraction\n",
    "print(calculer(5, 3, '*'))  # Multiplication\n",
    "print(calculer(5, 3, '/'))  # Division\n",
    "```\n",
    "\n",
    "**Résultat attendu :**\n",
    "\n",
    "```\n",
    "Le résultat de 5 + 3 est 8\n",
    "Le résultat de 5 - 3 est 2\n",
    "Le résultat de 5 * 3 est 15\n",
    "Le résultat de 5 / 3 est 1.6666666666666667\n",
    "```"
   ]
  },
  {
   "cell_type": "code",
   "execution_count": null,
   "metadata": {
    "vscode": {
     "languageId": "plaintext"
    }
   },
   "outputs": [],
   "source": [
    "# Votre code ici"
   ]
  },
  {
   "cell_type": "markdown",
   "metadata": {},
   "source": [
    "## Exercice 5 : Créer une fonction récursive\n",
    "\n",
    "- Écrivez un programme pour créer une fonction récursive pour calculer la somme des nombres de 0 à 10.\n",
    "- Une fonction récursive est une fonction qui s'appelle elle-même encore et encore.\n",
    "\n",
    "**Résultat attendu :**\n",
    "\n",
    "```\n",
    "55\n",
    "```"
   ]
  },
  {
   "cell_type": "code",
   "execution_count": null,
   "metadata": {
    "vscode": {
     "languageId": "plaintext"
    }
   },
   "outputs": [],
   "source": [
    "# Votre code ici"
   ]
  },
  {
   "cell_type": "markdown",
   "metadata": {},
   "source": [
    "## Exercice 6 : Générer une liste Python de tous les nombres pairs entre 4 et 30\n",
    "\n",
    "**Résultat attendu :**\n",
    "\n",
    "```\n",
    "[4, 6, 8, 10, 12, 14, 16, 18, 20, 22, 24, 26, 28]\n",
    "```\n",
    "\n",
    "**Indice :**\n",
    "\n",
    "- Utilisez la fonction intégrée `range()` pour générer la séquence de nombres entre le nombre de départ donné et le nombre d'arrêt avec un pas de 2 pour obtenir des nombres pairs. \n",
    "- Passez la fonction `range()` à un constructeur de liste pour créer une liste."
   ]
  },
  {
   "cell_type": "code",
   "execution_count": null,
   "metadata": {
    "vscode": {
     "languageId": "plaintext"
    }
   },
   "outputs": [],
   "source": [
    "# Votre code ici"
   ]
  },
  {
   "cell_type": "markdown",
   "metadata": {},
   "source": [
    "## Exercice 7 : Trouver l'élément le plus grand d'une liste donnée\n",
    "\n",
    "```python\n",
    "x = [4, 6, 8, 24, 12, 2]\n",
    "```\n",
    "\n",
    "**Résultat attendu :**\n",
    "\n",
    "```\n",
    "24\n",
    "```\n",
    "\n",
    "**Indice :**\n",
    "\n",
    "- Utilisez la fonction intégrée `max()` pour obtenir le plus grand nombre d'une liste."
   ]
  },
  {
   "cell_type": "code",
   "execution_count": null,
   "metadata": {
    "vscode": {
     "languageId": "plaintext"
    }
   },
   "outputs": [],
   "source": [
    "# Votre code ici"
   ]
  }
 ],
 "metadata": {
  "language_info": {
   "name": "python"
  }
 },
 "nbformat": 4,
 "nbformat_minor": 2
}
