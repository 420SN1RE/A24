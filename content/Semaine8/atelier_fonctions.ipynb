{
 "cells": [
  {
   "cell_type": "markdown",
   "metadata": {},
   "source": [
    "Pour tous les exercices, utilisez des Docstring pour documenter les fonctions"
   ]
  },
  {
   "cell_type": "markdown",
   "metadata": {},
   "source": [
    " ## Exercice 1\n",
    "\n",
    "Écrire un programme pour créer une fonction qui \n",
    "- demande à l'utilisateur d'entrer son nom, puis son âge\n",
    "- prend deux arguments, **nom** et **age**, et \n",
    "- affiche leur valeur.\n",
    "\n",
    "**Indice :**\n",
    "- Appelez la fonction en passant le nom et l'âge."
   ]
  },
  {
   "cell_type": "code",
   "execution_count": 1,
   "metadata": {},
   "outputs": [
    {
     "name": "stdout",
     "output_type": "stream",
     "text": [
      "Nom: Nathalie, 18 ans\n"
     ]
    }
   ],
   "source": [
    "# Votre code ici\n",
    "nom = input(\"Entrez votre nom\")\n",
    "age = int(input(\"Entrez votre âge\"))\n",
    "    \n",
    "def affiche_nom_age(nom, age):\n",
    "    print(f\"Nom: {nom}, {age} ans\")\n",
    "    \n",
    "affiche_nom_age(nom,age)\n"
   ]
  },
  {
   "cell_type": "markdown",
   "metadata": {},
   "source": [
    "## Exercice 2\n",
    "\n",
    "1. Écrivez une fonction **afficher_equivalent_en_C** qui prend en paramètre une température en degrés Fahrenheit (**temperature_F**).\n",
    "2. La fonction doit convertir cette température en degrés Celsius en utilisant la formule suivante :\n",
    "   temperature_C = (temperature_F - 32) * 5/9\n",
    "3. La fonction doit ensuite afficher la température en Fahrenheit suivie de son équivalent en Celsius, arrondi à une décimale.\n",
    "4. Testez votre fonction avec les valeurs suivantes :\n",
    "   - 42°F\n",
    "   - 32°F\n",
    "   - 212°F\n",
    "   - -40°F\n",
    "\n",
    "**Exemple d'affichage attendu :**\n",
    "```\n",
    "42 °F = 5.6 °C\n",
    "32 °F = 0.0 °C\n",
    "212 °F = 100.0 °C\n",
    "-40 °F = -40.0 °C\n",
    "```"
   ]
  },
  {
   "cell_type": "code",
   "execution_count": 7,
   "metadata": {},
   "outputs": [
    {
     "name": "stdout",
     "output_type": "stream",
     "text": [
      "42 °F = 5.6 °C\n",
      "32 °F = 0.0 °C\n",
      "212 °F = 100.0 °C\n",
      "-40 °F = -40.0 °C\n"
     ]
    }
   ],
   "source": [
    "## Votre code ici\n"
   ]
  },
  {
   "cell_type": "markdown",
   "metadata": {},
   "source": [
    "## Exercice 3\n",
    "\n",
    "- Écrire un programme pour créer une fonction **affiche_infos()** en utilisant les conditions suivantes.\n",
    "\n",
    "- Elle doit accepter le nom de l'employé et le salaire et afficher les deux.\n",
    "- Si le salaire est manquant dans l'appel de la fonction, alors attribuez la valeur par défaut de 1000000 au salaire.\n",
    "\n",
    "**Exemples :**\n",
    "\n",
    "```python\n",
    "affiche_infos(\"Carlitos\", 1500000)\n",
    "affiche_infos(\"Novak\")\n",
    "```\n",
    "\n",
    "**Résultat attendu :**\n",
    "\n",
    "```\n",
    "Nom : Carlitos, salaire : 1500000\n",
    "Nom : Novak, salaire : 1000000\n",
    "```\n"
   ]
  },
  {
   "cell_type": "code",
   "execution_count": 8,
   "metadata": {},
   "outputs": [
    {
     "name": "stdout",
     "output_type": "stream",
     "text": [
      "Nom : Carlitos, salaire : 1500000\n",
      "Nom : Novak, salaire : 1000000\n"
     ]
    }
   ],
   "source": [
    "# Votre code ici\n",
    "\n"
   ]
  },
  {
   "cell_type": "markdown",
   "metadata": {},
   "source": [
    "## Exercice 4\n",
    "\n",
    "- Écrire un programme pour créer une fonction **calculer()** de manière à ce qu'elle puisse accepter deux nombre et un opérateur (+, -, *,/) et retourne le résultat de l’opération effectuée dans une phrase. \n",
    "- Par défaut, si l'opérateur n'est pas fourni lors de l'appel de la fonction, l'opération effectuée sera l’addition.\n",
    "\n",
    "**Exemples :**\n",
    "\n",
    "```python\n",
    "print(calculer(5, 3))  # Par défaut, addition\n",
    "print(calculer(5, 3, '-'))  # Soustraction\n",
    "print(calculer(5, 3, '*'))  # Multiplication\n",
    "print(calculer(5, 3, '/'))  # Division\n",
    "```\n",
    "\n",
    "**Résultat attendu :**\n",
    "\n",
    "```\n",
    "Le résultat de 5 + 3 est 8\n",
    "Le résultat de 5 - 3 est 2\n",
    "Le résultat de 5 * 3 est 15\n",
    "Le résultat de 5 / 3 est 1.6666666666666667\n",
    "```"
   ]
  },
  {
   "cell_type": "code",
   "execution_count": 9,
   "metadata": {},
   "outputs": [
    {
     "name": "stdout",
     "output_type": "stream",
     "text": [
      "Le résultat de 5 + 3 est 8\n",
      "Le résultat de 5 - 3 est 2\n",
      "Le résultat de 5 * 3 est 15\n",
      "Le résultat de 5 / 3 est 1.6666666666666667\n"
     ]
    }
   ],
   "source": [
    "# Votre code ici\n"
   ]
  },
  {
   "cell_type": "markdown",
   "metadata": {},
   "source": [
    "## Exercice 5\n",
    "\n",
    "- Écrire un programme pour créer une fonction récursive **somme_de_0_n()** pour calculer la somme des nombres de 0 à n, où n est un nombre entier saisi au clavier.\n",
    "- Une fonction récursive est une fonction qui s'appelle elle-même encore et encore.\n",
    "\n",
    "Exemple d'affichage si n = 10\n",
    "  \n",
    "La somme des nombres de 0 à 10 est 55"
   ]
  },
  {
   "cell_type": "code",
   "execution_count": 10,
   "metadata": {},
   "outputs": [
    {
     "name": "stdout",
     "output_type": "stream",
     "text": [
      "La somme des nombres de 0 à 89 est 4005\n"
     ]
    }
   ],
   "source": [
    "# Votre code ici\n"
   ]
  },
  {
   "cell_type": "code",
   "execution_count": 11,
   "metadata": {},
   "outputs": [],
   "source": [
    "# Votre code ici"
   ]
  }
 ],
 "metadata": {
  "kernelspec": {
   "display_name": "Python 3",
   "language": "python",
   "name": "python3"
  },
  "language_info": {
   "codemirror_mode": {
    "name": "ipython",
    "version": 3
   },
   "file_extension": ".py",
   "mimetype": "text/x-python",
   "name": "python",
   "nbconvert_exporter": "python",
   "pygments_lexer": "ipython3",
   "version": "3.11.3"
  }
 },
 "nbformat": 4,
 "nbformat_minor": 2
}
