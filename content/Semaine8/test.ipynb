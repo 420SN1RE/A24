{
 "cells": [
  {
   "cell_type": "code",
   "execution_count": 1,
   "metadata": {},
   "outputs": [
    {
     "name": "stdout",
     "output_type": "stream",
     "text": [
      "Salut, Aline!\n"
     ]
    }
   ],
   "source": [
    "def saluer(nom, message):\n",
    "    print(f\"{message}, {nom}!\")\n",
    "\n",
    "saluer(message=\"Salut\", nom=\"Aline\")"
   ]
  },
  {
   "cell_type": "code",
   "execution_count": 1,
   "metadata": {},
   "outputs": [
    {
     "name": "stdout",
     "output_type": "stream",
     "text": [
      "5\n"
     ]
    }
   ],
   "source": [
    "print(abs(-5))"
   ]
  },
  {
   "cell_type": "code",
   "execution_count": 2,
   "metadata": {},
   "outputs": [
    {
     "name": "stdout",
     "output_type": "stream",
     "text": [
      "0.6931471805599453\n",
      "7.38905609893065\n"
     ]
    }
   ],
   "source": [
    "import math\n",
    "resultat1 = math.log(2)\n",
    "resultat2 = math.exp(2)\n",
    "print(resultat1)\n",
    "print(resultat2)"
   ]
  },
  {
   "cell_type": "code",
   "execution_count": 3,
   "metadata": {},
   "outputs": [
    {
     "name": "stdout",
     "output_type": "stream",
     "text": [
      "Il fait chaud\n",
      "Il fait froid\n"
     ]
    }
   ],
   "source": [
    "qualificatif = \"froid\"\n",
    "\n",
    "def temperature():\n",
    "  qualificatif = \"chaud\"\n",
    "  print(\"Il fait \" + qualificatif)\n",
    "\n",
    "temperature()\n",
    "\n",
    "print(\"Il fait \" + qualificatif)"
   ]
  },
  {
   "cell_type": "code",
   "execution_count": 5,
   "metadata": {},
   "outputs": [
    {
     "ename": "SyntaxError",
     "evalue": "invalid syntax (2627653953.py, line 5)",
     "output_type": "error",
     "traceback": [
      "\u001b[1;36m  Cell \u001b[1;32mIn[5], line 5\u001b[1;36m\u001b[0m\n\u001b[1;33m    global qualificatif = \"chaud\"     # Variable locale\u001b[0m\n\u001b[1;37m                        ^\u001b[0m\n\u001b[1;31mSyntaxError\u001b[0m\u001b[1;31m:\u001b[0m invalid syntax\n"
     ]
    }
   ],
   "source": [
    "qualificatif = \"froid\"  # Variable globale\n",
    "\n",
    "# Définition de la fonction\n",
    "def temperature():\n",
    "  global qualificatif = \"chaud\"     # Variable locale\n",
    "  print(\"Il fait \" + qualificatif) # Ici, qualificatif vaut 'chaud'\n",
    "\n",
    "# Appel de la fonction\n",
    "temperature()\n",
    "\n",
    "print(\"Il fait \" + qualificatif)  # Ici, qualificatif vaut 'froid'"
   ]
  },
  {
   "cell_type": "code",
   "execution_count": 7,
   "metadata": {},
   "outputs": [
    {
     "name": "stdout",
     "output_type": "stream",
     "text": [
      "1\n"
     ]
    },
    {
     "ename": "UnboundLocalError",
     "evalue": "cannot access local variable 'c' where it is not associated with a value",
     "output_type": "error",
     "traceback": [
      "\u001b[1;31m---------------------------------------------------------------------------\u001b[0m",
      "\u001b[1;31mUnboundLocalError\u001b[0m                         Traceback (most recent call last)",
      "Cell \u001b[1;32mIn[7], line 8\u001b[0m\n\u001b[0;32m      6\u001b[0m     \u001b[38;5;28mprint\u001b[39m(c)\n\u001b[0;32m      7\u001b[0m \u001b[38;5;28mprint\u001b[39m(c)\n\u001b[1;32m----> 8\u001b[0m \u001b[43maddition\u001b[49m\u001b[43m(\u001b[49m\u001b[43m)\u001b[49m \n",
      "Cell \u001b[1;32mIn[7], line 5\u001b[0m, in \u001b[0;36maddition\u001b[1;34m()\u001b[0m\n\u001b[0;32m      3\u001b[0m \u001b[38;5;28;01mdef\u001b[39;00m \u001b[38;5;21maddition\u001b[39m():\n\u001b[0;32m      4\u001b[0m     \u001b[38;5;66;03m# incrémente c de 2\u001b[39;00m\n\u001b[1;32m----> 5\u001b[0m     c \u001b[38;5;241m=\u001b[39m \u001b[43mc\u001b[49m \u001b[38;5;241m+\u001b[39m \u001b[38;5;241m2\u001b[39m\n\u001b[0;32m      6\u001b[0m     \u001b[38;5;28mprint\u001b[39m(c)\n",
      "\u001b[1;31mUnboundLocalError\u001b[0m: cannot access local variable 'c' where it is not associated with a value"
     ]
    }
   ],
   "source": [
    "c = 1 # variable globale \n",
    "\n",
    "def addition():\n",
    "    # incrémente c de 2\n",
    "    c = c + 2\n",
    "    print(c)\n",
    "print(c)\n",
    "addition() "
   ]
  },
  {
   "cell_type": "code",
   "execution_count": 9,
   "metadata": {},
   "outputs": [
    {
     "name": "stdout",
     "output_type": "stream",
     "text": [
      "1\n",
      "3\n"
     ]
    }
   ],
   "source": [
    "c = 1 # variable globale \n",
    "\n",
    "def addition():\n",
    "    global c\n",
    "    # incrémente c de 2\n",
    "    c = c + 2  # Ici c n'est pas accessible\n",
    "    print(c)\n",
    "print(c)  # Ici c vaut 1\n",
    "addition()"
   ]
  }
 ],
 "metadata": {
  "kernelspec": {
   "display_name": "Python 3",
   "language": "python",
   "name": "python3"
  },
  "language_info": {
   "codemirror_mode": {
    "name": "ipython",
    "version": 3
   },
   "file_extension": ".py",
   "mimetype": "text/x-python",
   "name": "python",
   "nbconvert_exporter": "python",
   "pygments_lexer": "ipython3",
   "version": "3.11.9"
  }
 },
 "nbformat": 4,
 "nbformat_minor": 2
}
