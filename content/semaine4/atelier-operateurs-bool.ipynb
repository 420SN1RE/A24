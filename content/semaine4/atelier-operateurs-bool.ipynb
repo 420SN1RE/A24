{
 "cells": [
  {
   "cell_type": "markdown",
   "metadata": {},
   "source": [
    "### Déterminer le résultat des expressions booléennes\n",
    "\n",
    "Utilisez les valeurs suivantes pour les variables :  \n",
    "a = True  \n",
    "b = False  \n",
    "c,d,e = 3,7,3  \n",
    "x = w = 10  \n",
    "y = z = 5  \n",
    "p = q = 4  \n"
   ]
  },
  {
   "cell_type": "markdown",
   "metadata": {},
   "source": [
    "#### Exercice 1  \n",
    "exp1 = a and b  \n",
    "print(exp1)    # Que va afficher cette ligne ?"
   ]
  },
  {
   "cell_type": "markdown",
   "metadata": {},
   "source": [
    "Votre réponse ici"
   ]
  },
  {
   "cell_type": "markdown",
   "metadata": {},
   "source": [
    "#### Exercice 2\n",
    "exp2 = (x > y) or (y > x)  \n",
    "print(exp2)    # Que va afficher cette ligne ?"
   ]
  },
  {
   "cell_type": "markdown",
   "metadata": {},
   "source": [
    "Votre réponse ici"
   ]
  },
  {
   "cell_type": "markdown",
   "metadata": {},
   "source": [
    "#### Exercice 3\n",
    "exp3 = (c == e) and (d > c)  \n",
    "print(exp3)    # Que va afficher cette ligne ?"
   ]
  },
  {
   "cell_type": "markdown",
   "metadata": {},
   "source": [
    "Votre réponse ici"
   ]
  },
  {
   "cell_type": "markdown",
   "metadata": {},
   "source": [
    "#### Exercice 4\n",
    "exp4 = not (z > w)  \n",
    "print(exp4)    # Que va afficher cette ligne ?\n"
   ]
  },
  {
   "cell_type": "markdown",
   "metadata": {},
   "source": [
    "Votre réponse ici"
   ]
  },
  {
   "cell_type": "markdown",
   "metadata": {},
   "source": [
    "#### Exercice 5\n",
    "exp5 = (p == q) or (p > q)  \n",
    "print(exp5)    # Que va afficher cette ligne ?"
   ]
  },
  {
   "cell_type": "markdown",
   "metadata": {},
   "source": [
    "Votre réponse ici"
   ]
  }
 ],
 "metadata": {
  "language_info": {
   "name": "python"
  }
 },
 "nbformat": 4,
 "nbformat_minor": 2
}
