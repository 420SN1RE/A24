{
 "cells": [
  {
   "cell_type": "code",
   "execution_count": 2,
   "metadata": {},
   "outputs": [
    {
     "name": "stdout",
     "output_type": "stream",
     "text": [
      "False\n"
     ]
    }
   ],
   "source": [
    "a = 0.1 + 0.2\n",
    "print(a == 0.3)  # Cela peut retourner False\n"
   ]
  },
  {
   "cell_type": "code",
   "execution_count": 3,
   "metadata": {},
   "outputs": [
    {
     "name": "stdout",
     "output_type": "stream",
     "text": [
      "La somme de 3.4 et 2.4 est 3.42.4\n"
     ]
    }
   ],
   "source": [
    "nombre1 = input(\"Entrez le premier nombre flottant : \")\n",
    "nombre2 = input(\"Entrez le deuxième nombre flottant : \")\n",
    "resultat = nombre1 + nombre2\n",
    "print(\"La somme de\", nombre1, \"et\", nombre2, \"est\", resultat)"
   ]
  },
  {
   "cell_type": "code",
   "execution_count": 6,
   "metadata": {},
   "outputs": [
    {
     "name": "stdout",
     "output_type": "stream",
     "text": [
      "Le produit de 4 par 7 est 4444444\n"
     ]
    }
   ],
   "source": [
    "nombre1 = input(\"Entrez un nombre entier : \")\n",
    "nombre2 = 7\n",
    "resultat = nombre1 * nombre2\n",
    "print(\"Le produit de\", nombre1, \"par\", nombre2, \"est\", resultat)"
   ]
  },
  {
   "cell_type": "code",
   "execution_count": 3,
   "metadata": {},
   "outputs": [
    {
     "ename": "IndentationError",
     "evalue": "expected an indented block after 'if' statement on line 1 (3377912211.py, line 2)",
     "output_type": "error",
     "traceback": [
      "\u001b[1;36m  Cell \u001b[1;32mIn[3], line 2\u001b[1;36m\u001b[0m\n\u001b[1;33m    print(\"This will cause an IndentationError\")\u001b[0m\n\u001b[1;37m    ^\u001b[0m\n\u001b[1;31mIndentationError\u001b[0m\u001b[1;31m:\u001b[0m expected an indented block after 'if' statement on line 1\n"
     ]
    }
   ],
   "source": [
    "if True:\n",
    "print(\"This will cause an IndentationError\")"
   ]
  },
  {
   "cell_type": "code",
   "execution_count": 4,
   "metadata": {},
   "outputs": [
    {
     "ename": "IndentationError",
     "evalue": "unexpected indent (822563810.py, line 3)",
     "output_type": "error",
     "traceback": [
      "\u001b[1;36m  Cell \u001b[1;32mIn[4], line 3\u001b[1;36m\u001b[0m\n\u001b[1;33m    print(\"Ce code causera l'erreur IndentationError\")\u001b[0m\n\u001b[1;37m    ^\u001b[0m\n\u001b[1;31mIndentationError\u001b[0m\u001b[1;31m:\u001b[0m unexpected indent\n"
     ]
    }
   ],
   "source": [
    "def my_function():\n",
    "    print(\"Hello, world!\")\n",
    "        print(\"Ce code causera l'erreur IndentationError\")\n"
   ]
  },
  {
   "cell_type": "code",
   "execution_count": 6,
   "metadata": {},
   "outputs": [
    {
     "ename": "IndentationError",
     "evalue": "unindent does not match any outer indentation level (<tokenize>, line 3)",
     "output_type": "error",
     "traceback": [
      "\u001b[1;36m  File \u001b[1;32m<tokenize>:3\u001b[1;36m\u001b[0m\n\u001b[1;33m    print(\"Ce code causera l'erreur IndentationError\")\u001b[0m\n\u001b[1;37m    ^\u001b[0m\n\u001b[1;31mIndentationError\u001b[0m\u001b[1;31m:\u001b[0m unindent does not match any outer indentation level\n"
     ]
    }
   ],
   "source": [
    "for i in range(5):\n",
    "    print(i)\n",
    "  print(\"Ce code causera l'erreur IndentationError\")"
   ]
  },
  {
   "cell_type": "code",
   "execution_count": 1,
   "metadata": {},
   "outputs": [
    {
     "name": "stdout",
     "output_type": "stream",
     "text": [
      "10\n",
      "2\n",
      "35\n",
      "41\n",
      "55\n"
     ]
    }
   ],
   "source": [
    "ma_liste = [10, 2, 35, 41, 55]\n",
    "\n",
    "for element in ma_liste:\n",
    "    print(element)"
   ]
  },
  {
   "cell_type": "code",
   "execution_count": 2,
   "metadata": {},
   "outputs": [
    {
     "name": "stdout",
     "output_type": "stream",
     "text": [
      "[10, 2, 35, 41, 55, 6]\n",
      "[10, 15, 2, 35, 41, 55, 6]\n",
      "[15, 2, 35, 41, 55, 6]\n",
      "[15, 2, 41, 55, 6]\n"
     ]
    }
   ],
   "source": [
    "ma_liste = [10, 2, 35, 41, 55]\n",
    "ma_liste.append(6)  \t# Ajoute 6 à la fin de la liste\n",
    "print(ma_liste)\n",
    "ma_liste.insert(1, 15)  # Insère 15 à l'index 1\n",
    "print(ma_liste)\n",
    "ma_liste.remove(10)  \t# Supprime la première occurrence de 10\n",
    "print(ma_liste)\n",
    "ma_liste.pop(2)  \t# Supprime l'élément à l'index 2\n",
    "print(ma_liste)\n"
   ]
  },
  {
   "cell_type": "code",
   "execution_count": 3,
   "metadata": {},
   "outputs": [
    {
     "name": "stdout",
     "output_type": "stream",
     "text": [
      "La moyenne des notes est 16.40\n"
     ]
    }
   ],
   "source": [
    "notes = [15, 18, 12, 20, 17]\n",
    "moyenne = sum(notes) / len(notes)\n",
    "print(f\"La moyenne des notes est {moyenne:.2f}\")\n"
   ]
  },
  {
   "cell_type": "code",
   "execution_count": 4,
   "metadata": {},
   "outputs": [
    {
     "name": "stdout",
     "output_type": "stream",
     "text": [
      "La somme des notes est:  82\n"
     ]
    }
   ],
   "source": [
    "notes = [15, 18, 12, 20, 17]\n",
    "somme = sum(notes)\n",
    "print(\"La somme des notes est: \", somme)"
   ]
  },
  {
   "cell_type": "code",
   "execution_count": 5,
   "metadata": {},
   "outputs": [
    {
     "name": "stdout",
     "output_type": "stream",
     "text": [
      "La liste contient 5 notes\n"
     ]
    }
   ],
   "source": [
    "notes = [15, 18, 12, 20, 17]\n",
    "nb_notes = len(notes)\n",
    "print(\"La liste contient\", nb_notes, \"notes\")"
   ]
  },
  {
   "cell_type": "code",
   "execution_count": 12,
   "metadata": {},
   "outputs": [
    {
     "name": "stdout",
     "output_type": "stream",
     "text": [
      "[1, 2, 3, 5, 8]\n",
      "[1.2, 3.4, 4.0, 5.2, 7.7]\n",
      "['aurevoir', 'bUenas tardes', 'bonjour', 'bye', 'ciao']\n"
     ]
    }
   ],
   "source": [
    "nombres = [5, 3, 8, 1, 2]\n",
    "flottants = [3.4, 1.2, 7.7, 4.0, 5.2]\n",
    "chaines = [\"bonjour\", \"aurevoir\", \"bye\", \"ciao\", \"bUenas tardes\"]\n",
    "nombres.sort()\n",
    "flottants.sort()\n",
    "chaines.sort()\n",
    "print(nombres)  # Affiche [1, 2, 3, 5, 8]\n",
    "print(flottants)\n",
    "print(chaines)  # Affiche ['aurevoir', 'bonjour', 'buenas tardes', 'bye', 'ciao']\n",
    "\n"
   ]
  },
  {
   "cell_type": "code",
   "execution_count": 13,
   "metadata": {},
   "outputs": [
    {
     "name": "stdout",
     "output_type": "stream",
     "text": [
      "['ananas', 'Banane', 'Cerise']\n"
     ]
    }
   ],
   "source": [
    "ma_liste = ['Banane', 'ananas', 'Cerise']\n",
    "ma_liste.sort(key = str.lower)\n",
    "print(ma_liste)\t# Affiche ['ananas', 'Banane', 'Cerise']"
   ]
  },
  {
   "cell_type": "code",
   "execution_count": 14,
   "metadata": {},
   "outputs": [
    {
     "name": "stdout",
     "output_type": "stream",
     "text": [
      "[1, 2, 3, 4, 5]\n"
     ]
    }
   ],
   "source": [
    "ma_liste = [1, 2, 2, 3, 3, 3, 4, 4, 4, 4, 5, 5, 5, 5, 5]\n",
    "uniques = list(set(ma_liste))\n",
    "print(uniques)  # Affiche [1, 2, 3, 4, 5]"
   ]
  },
  {
   "cell_type": "code",
   "execution_count": 16,
   "metadata": {},
   "outputs": [
    {
     "name": "stdout",
     "output_type": "stream",
     "text": [
      "[55, 41, 35, 2, 10]\n"
     ]
    }
   ],
   "source": [
    "ma_liste = [10, 2, 35, 41, 55]\n",
    "# ma_liste.sort(reverse=True)\n",
    "ma_liste.reverse()\n",
    "print(ma_liste)"
   ]
  },
  {
   "cell_type": "code",
   "execution_count": 17,
   "metadata": {},
   "outputs": [
    {
     "name": "stdout",
     "output_type": "stream",
     "text": [
      "[0, 9, 9, 7, 3, 1],"
     ]
    }
   ],
   "source": [
    "ma_liste = [0, 9, 9, 3, 1]\n",
    "# Insert la valeur 7 à la case 3\n",
    "ma_liste.insert(3, 7)\n",
    "print(ma_liste, end=\",\")"
   ]
  },
  {
   "cell_type": "code",
   "execution_count": 18,
   "metadata": {},
   "outputs": [
    {
     "name": "stdout",
     "output_type": "stream",
     "text": [
      "1,2,3,4,5,6,7,"
     ]
    }
   ],
   "source": [
    "ma_liste = [1, 2, 3, 4, 5, 6, 7]\n",
    "\n",
    "# Affichage de chacun des éléments de la liste\n",
    "for element in ma_liste:\n",
    "    print(element, end=\",\")"
   ]
  },
  {
   "cell_type": "code",
   "execution_count": 20,
   "metadata": {},
   "outputs": [
    {
     "name": "stdout",
     "output_type": "stream",
     "text": [
      "[2, 3, 4, 5, 6, 7, 8] "
     ]
    }
   ],
   "source": [
    "ma_liste = [1, 2, 3, 4, 5, 6, 7]\n",
    "\n",
    "# On additionne 1 à chaque élément de la liste\n",
    "for i in range(len(ma_liste)):\n",
    "    ma_liste[i] = ma_liste[i] + 1\t\n",
    "    \n",
    "print(ma_liste, end=\" \")\t# Affiche 2 3 4 5 6 7 8\n"
   ]
  },
  {
   "cell_type": "code",
   "execution_count": 24,
   "metadata": {},
   "outputs": [
    {
     "name": "stdout",
     "output_type": "stream",
     "text": [
      "1.2.3.4."
     ]
    }
   ],
   "source": [
    "ma_liste = [1, 2, 3, 4, 5, 6, 7]\n",
    "\n",
    "total = 0\n",
    "i = 0\n",
    "while total < 10:\n",
    "    print(ma_liste[i], end=\".\")\n",
    "    total += ma_liste[i]\n",
    "    i += 1\n"
   ]
  },
  {
   "cell_type": "code",
   "execution_count": 25,
   "metadata": {},
   "outputs": [
    {
     "name": "stdout",
     "output_type": "stream",
     "text": [
      "B\n",
      "o\n",
      "n\n",
      "j\n",
      "o\n",
      "u\n",
      "r\n"
     ]
    }
   ],
   "source": [
    "chaine = \"Bonjour\"\n",
    "\n",
    "for caractere in chaine:\n",
    "    print(caractere)"
   ]
  },
  {
   "cell_type": "code",
   "execution_count": 3,
   "metadata": {},
   "outputs": [
    {
     "name": "stdout",
     "output_type": "stream",
     "text": [
      "Bonne retraite!\n"
     ]
    }
   ],
   "source": [
    "age = 77\n",
    "\n",
    "if age >= 18 and age <= 30:\n",
    "    print(\"Vous êtes un jeune adulte\")\n",
    "elif age > 30 and age < 65:\n",
    "    print(\"Avez-vous des enfants?\")\n",
    "elif age >= 65:\n",
    "    print(\"Bonne retraite!\")\n",
    "else:\n",
    "    print(\"Vous êtes mineur\")\n"
   ]
  },
  {
   "cell_type": "code",
   "execution_count": null,
   "metadata": {},
   "outputs": [],
   "source": [
    "condition1 = condition2 = True\n",
    "\n",
    "if condition1:\n",
    "    if condition2:\n",
    "        # Bloc de code à faire si condition2 est True\n",
    "    else:\n",
    "        # Bloc de code à faire si condition2 est False\n",
    "else:\n",
    "    # Bloc de code à faire si condition1 est False\n",
    "\n",
    "    "
   ]
  },
  {
   "cell_type": "code",
   "execution_count": null,
   "metadata": {},
   "outputs": [],
   "source": []
  }
 ],
 "metadata": {
  "kernelspec": {
   "display_name": "Python 3",
   "language": "python",
   "name": "python3"
  },
  "language_info": {
   "codemirror_mode": {
    "name": "ipython",
    "version": 3
   },
   "file_extension": ".py",
   "mimetype": "text/x-python",
   "name": "python",
   "nbconvert_exporter": "python",
   "pygments_lexer": "ipython3",
   "version": "3.11.9"
  }
 },
 "nbformat": 4,
 "nbformat_minor": 2
}
