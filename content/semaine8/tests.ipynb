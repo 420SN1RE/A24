{
 "cells": [
  {
   "cell_type": "code",
   "execution_count": 1,
   "metadata": {},
   "outputs": [
    {
     "name": "stdout",
     "output_type": "stream",
     "text": [
      "Bonjour tout le monde!\n",
      "Bonjour Alice!\n"
     ]
    }
   ],
   "source": [
    "def saluer(nom=\"tout le monde\"):\n",
    "    print(f\"Bonjour {nom}!\")\n",
    "\n",
    "saluer()  # Affiche \"Bonjour tout le monde!\"\n",
    "saluer(\"Alice\")  # Affiche \"Bonjour Alice!\"\n"
   ]
  },
  {
   "cell_type": "code",
   "execution_count": 2,
   "metadata": {},
   "outputs": [
    {
     "name": "stdout",
     "output_type": "stream",
     "text": [
      "Salut, Alain!\n"
     ]
    }
   ],
   "source": [
    "def saluer(nom, message):\n",
    "    print(f\"{message}, {nom}!\")\n",
    "\n",
    "saluer(message=\"Salut\", nom=\"Alain\")  # Affiche \"Salut, Alain!\""
   ]
  }
 ],
 "metadata": {
  "kernelspec": {
   "display_name": "Python 3",
   "language": "python",
   "name": "python3"
  },
  "language_info": {
   "codemirror_mode": {
    "name": "ipython",
    "version": 3
   },
   "file_extension": ".py",
   "mimetype": "text/x-python",
   "name": "python",
   "nbconvert_exporter": "python",
   "pygments_lexer": "ipython3",
   "version": "3.11.9"
  }
 },
 "nbformat": 4,
 "nbformat_minor": 2
}
