{
 "cells": [
  {
   "cell_type": "markdown",
   "metadata": {},
   "source": [
    "Pour chacun des exercices ci-dessous, vous devez répondre aux questions suivantes:\n",
    "1. Quelle est la sortie de ce code ?\n",
    "2. Pourquoi ?"
   ]
  },
  {
   "cell_type": "markdown",
   "metadata": {},
   "source": [
    "\n",
    "## Exercice 1\n",
    "```python\n",
    "def test():\n",
    "    x = 10\n",
    "    print(x)\n",
    "\n",
    "test()\n",
    "print(x)\n",
    "```"
   ]
  },
  {
   "cell_type": "markdown",
   "metadata": {},
   "source": [
    "#### Réponses"
   ]
  },
  {
   "cell_type": "markdown",
   "metadata": {},
   "source": [
    "## Exercice 2\n",
    "```python\n",
    "x = 10\n",
    "\n",
    "def test():\n",
    "    print(x)\n",
    "\n",
    "test()\n",
    "print(x)\n",
    "```"
   ]
  },
  {
   "cell_type": "markdown",
   "metadata": {},
   "source": [
    "#### Réponses\n"
   ]
  },
  {
   "cell_type": "markdown",
   "metadata": {},
   "source": [
    "## Exercice 3\n",
    "```python\n",
    "x = 10\n",
    "\n",
    "def test():\n",
    "    x = 20\n",
    "    print(x)\n",
    "\n",
    "test()\n",
    "print(x)\n",
    "```"
   ]
  },
  {
   "cell_type": "markdown",
   "metadata": {},
   "source": [
    "#### Réponses\n"
   ]
  },
  {
   "cell_type": "markdown",
   "metadata": {},
   "source": [
    "## Exercice 4\n",
    "```python\n",
    "x = 10\n",
    "\n",
    "def test():\n",
    "    global x\n",
    "    x = 20\n",
    "    print(x)\n",
    "\n",
    "test()\n",
    "print(x)\n",
    "```\n"
   ]
  },
  {
   "cell_type": "markdown",
   "metadata": {},
   "source": [
    "#### Réponses\n"
   ]
  },
  {
   "cell_type": "markdown",
   "metadata": {},
   "source": [
    "## Exercice 5\n",
    "```python\n",
    "def reponse_ultime(question_fournie):\n",
    "    reponse_partielle = 7\n",
    "    return 6 * reponse_partielle\n",
    "\n",
    "print(reponse_ultime(\"Pourquoi moi?\"))\n",
    "print(reponse_partielle)\n",
    "```"
   ]
  },
  {
   "cell_type": "markdown",
   "metadata": {},
   "source": [
    "#### Réponses\n",
    "\n"
   ]
  }
 ],
 "metadata": {
  "language_info": {
   "name": "python"
  }
 },
 "nbformat": 4,
 "nbformat_minor": 2
}
