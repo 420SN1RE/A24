{
 "cells": [
  {
   "cell_type": "code",
   "execution_count": null,
   "metadata": {},
   "outputs": [],
   "source": [
    "# coefficients de l'équation ax² + bx + c = 0 (a ≠ 0)\n",
    "a = 3\n",
    "b = -8\n",
    "c = 5\n",
    "# affichage du discriminant\n",
    "print(b**2 - 4*a*c)\n",
    "\n",
    "# Programme 1.1"
   ]
  },
  {
   "cell_type": "code",
   "execution_count": null,
   "metadata": {},
   "outputs": [],
   "source": [
    "# coefficients de l'équation ax² + bx + c = 0 (a ≠ 0)\n",
    "a = 3\n",
    "b = -8\n",
    "c = 5\n",
    "discriminant = b**2 - 4*a*c\n",
    "print(discriminant)\n",
    "\n",
    "# Programme 1.2"
   ]
  },
  {
   "cell_type": "code",
   "execution_count": null,
   "metadata": {},
   "outputs": [],
   "source": [
    "# coordonnées x et y des points A et B\n",
    "xA = 2\n",
    "yA = 3\n",
    "xB = 4\n",
    "yB = 5\n",
    "distance = ((xB - xA)**2 + (yB - yA)**2)**0.5\n",
    "print(distance)\n",
    "\n",
    "# Programme 1.3"
   ]
  },
  {
   "cell_type": "code",
   "execution_count": null,
   "metadata": {},
   "outputs": [],
   "source": [
    "# coordonnées (x, y) de deux points dans le plan xy\n",
    "xA = 0.002\n",
    "yA = 0.003\n",
    "xB = 0.004\n",
    "yB = 0.005\n",
    "distance = ((xB - xA)**2 + (yB - yA)**2)**0.5\n",
    "print(\"Distance entre les points:\", format(distance, \".3g\"))\n",
    "\n",
    "# Programme 1.4"
   ]
  },
  {
   "cell_type": "code",
   "execution_count": null,
   "metadata": {},
   "outputs": [],
   "source": [
    "# coordonnées (x, y) de deux points dans le plan xy\n",
    "xA = 2000\n",
    "yA = 3000\n",
    "xB = 4000\n",
    "yB = 5000\n",
    "distance = ((xB - xA)**2 + (yB - yA)**2)**0.5\n",
    "print(\"Distance entre les points:\", format(distance, \".3g\"))\n",
    "\n",
    "# Programme 1.5"
   ]
  },
  {
   "cell_type": "code",
   "execution_count": null,
   "metadata": {},
   "outputs": [],
   "source": [
    "# coefficients de l'équation ax² + bx + c = 0 (a ≠ 0)\n",
    "a = 1\n",
    "b = 3\n",
    "c = -10\n",
    "discriminant = b**2 - 4*a*c\n",
    "x_1 = (-b - discriminant**0.5)/(2*a)\n",
    "x_2 = (-b + discriminant**0.5)/(2*a)\n",
    "print(\"Solutions: x_1 =\", x_1, \"et x_2 =\", x_2)\n",
    "\n",
    "# Programme 1.6"
   ]
  },
  {
   "cell_type": "code",
   "execution_count": null,
   "metadata": {},
   "outputs": [],
   "source": [
    "# exprime heures_totales sous la forme \"... jours et ... heures\"\n",
    "heures_totales = 58\n",
    "jours_entiers = int(heures_totales/24)\n",
    "heures_restantes = heures_totales - 24*jours_entiers\n",
    "print(heures_totales, \"heure(s) =\", jours_entiers, \"jour(s) et\",heures_restantes, \"heure(s)\")\n",
    "\n",
    "# Programme 1.7"
   ]
  },
  {
   "cell_type": "code",
   "execution_count": null,
   "metadata": {},
   "outputs": [],
   "source": [
    "print(0.1 + 0.2)\n",
    "print(0.3 - 0.1)\n",
    "print(0.1 * 0.2)\n",
    "print(0.3 / 0.1)\n",
    "print(0.1**2)\n",
    "print((2**0.5)**2)\n",
    "print((5**10)**0.1)\n",
    "print(0.1 + 0.2 - 3/10)\n",
    "\n",
    "# Programme 1.8"
   ]
  },
  {
   "cell_type": "code",
   "execution_count": null,
   "metadata": {},
   "outputs": [],
   "source": [
    "calcul = 100 ** (0.3 / 0.1)\n",
    "print(calcul)\n",
    "print(round(calcul, 10))\n",
    "print(format(calcul, \".10g\"))\n",
    "\n",
    "# Programme 1.9"
   ]
  },
  {
   "cell_type": "code",
   "execution_count": null,
   "metadata": {},
   "outputs": [],
   "source": [
    "calcul = 0.1 + 0.2 - 3/10\n",
    "print(calcul)\n",
    "print(format(calcul, \".10g\"))\n",
    "print(round(calcul, 10))\n",
    "\n",
    "# Programme 1.10"
   ]
  },
  {
   "cell_type": "code",
   "execution_count": 3,
   "metadata": {},
   "outputs": [
    {
     "name": "stdout",
     "output_type": "stream",
     "text": [
      "<class 'bool'>\n"
     ]
    }
   ],
   "source": [
    "est_present = True \n",
    "print(type(est_present))  # Affiche <class 'bool'>\n",
    "\n"
   ]
  }
 ],
 "metadata": {
  "kernelspec": {
   "display_name": "Python 3",
   "language": "python",
   "name": "python3"
  },
  "language_info": {
   "codemirror_mode": {
    "name": "ipython",
    "version": 3
   },
   "file_extension": ".py",
   "mimetype": "text/x-python",
   "name": "python",
   "nbconvert_exporter": "python",
   "pygments_lexer": "ipython3",
   "version": "3.11.9"
  }
 },
 "nbformat": 4,
 "nbformat_minor": 2
}
