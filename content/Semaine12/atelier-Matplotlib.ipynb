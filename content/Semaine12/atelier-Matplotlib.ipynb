{
 "cells": [
  {
   "cell_type": "markdown",
   "metadata": {},
   "source": [
    "## Exercice 1 :\n",
    "\n",
    "- Lire le profit total de tous les mois et le montrer en utilisant un graphique en ligne.\n",
    "- Les données de profit total sont fournies pour chaque mois. \n",
    "- Le graphique en ligne généré doit inclure les propriétés suivantes :\n",
    "\t- Nom de l'étiquette de l'axe X = Mois (1-12)\n",
    "\t- Nom de l'étiquette de l'axe Y = Profit total"
   ]
  },
  {
   "cell_type": "code",
   "execution_count": 27,
   "metadata": {},
   "outputs": [],
   "source": [
    "# Votre code ici"
   ]
  },
  {
   "cell_type": "markdown",
   "metadata": {},
   "source": [
    "## Exercice 2 :\n",
    "\n",
    "- Obtenez le profit total de tous les mois et montrez-le avec les propriétés de style suivantes :\n",
    "- Le graphique en ligne généré doit inclure les propriétés de style suivantes :\n",
    "\t- Style de ligne en pointillés et la couleur de la ligne doit être rouge\n",
    "\t- Afficher la légende en bas à droite\n",
    "\t- Nom de l'étiquette de l'axe X :  Mois (1-12)\n",
    "\t- Nom de l'étiquette de l'axe Y : Nombre d'unités vendues\n",
    "\t- Ajouter un marqueur en cercle\n",
    "\t- Couleur du marqueur de ligne en rouge\n",
    "\t- La largeur de la ligne doit être de 3"
   ]
  },
  {
   "cell_type": "code",
   "execution_count": 28,
   "metadata": {},
   "outputs": [],
   "source": [
    "# Votre code ici"
   ]
  },
  {
   "cell_type": "markdown",
   "metadata": {},
   "source": [
    "## Exercice 3 :\n",
    "\n",
    "- Lire toutes les données de vente de produits et les montrer en utilisant un graphique multi-lignes.\n",
    "- Afficher le nombre d'unités vendues par mois pour chaque produit en utilisant des graphiques multi-lignes (c'est-à-dire une ligne de tracé séparée pour chaque produit).\n"
   ]
  },
  {
   "cell_type": "code",
   "execution_count": 29,
   "metadata": {},
   "outputs": [],
   "source": [
    "# Votre code ici"
   ]
  },
  {
   "cell_type": "markdown",
   "metadata": {},
   "source": [
    "## Exercice 4 :\n",
    "\n",
    "- Lire les données de vente de dentifrice de chaque mois et les montrer en utilisant un graphique de nuage de points.\n",
    "- Ajouter également une grille dans le graphique. Le style de la ligne de grille doit être “–“.\n"
   ]
  },
  {
   "cell_type": "code",
   "execution_count": 30,
   "metadata": {},
   "outputs": [],
   "source": [
    "# Votre code ici"
   ]
  },
  {
   "cell_type": "markdown",
   "metadata": {},
   "source": [
    "## Exercice 5 :\n",
    "\n",
    "- Lire les données de vente de crème pour le visage et de produit de lavage du visage et les montrer en utilisant un graphique à barres.\n",
    "- Le graphique à barres doit afficher le nombre d'unités vendues par mois pour chaque produit. \n",
    "- Ajouter une barre séparée pour chaque produit dans le même graphique.\n"
   ]
  },
  {
   "cell_type": "code",
   "execution_count": 31,
   "metadata": {},
   "outputs": [],
   "source": [
    "# Votre code ici"
   ]
  },
  {
   "cell_type": "markdown",
   "metadata": {},
   "source": [
    "## Exercice 6 :\n",
    "\n",
    "- Lire les données de vente de savon de bain de tous les mois et les montrer en utilisant un graphique à barres. \n",
    "- À l'aide de la méthode `savefig` de Matplotlib, enregistrez ce graphique sur votre ordinateur, avec votre fichier notebook.\n"
   ]
  },
  {
   "cell_type": "code",
   "execution_count": 32,
   "metadata": {},
   "outputs": [],
   "source": [
    "# Votre code ici"
   ]
  },
  {
   "cell_type": "markdown",
   "metadata": {},
   "source": [
    "## Exercice 7 :\n",
    "\n",
    "- Lire le profit total de chaque mois et le montrer en utilisant un histogramme pour voir les plages de profit les plus courantes.\n"
   ]
  },
  {
   "cell_type": "code",
   "execution_count": 33,
   "metadata": {},
   "outputs": [],
   "source": [
    "# Votre code ici"
   ]
  },
  {
   "cell_type": "markdown",
   "metadata": {},
   "source": [
    "## Exercice 8 :\n",
    "\n",
    "- Calculer les données de vente totales de l'année dernière pour chaque produit et les montrer en utilisant un graphique en secteurs.\n",
    "- **Remarque** : Dans le graphique en secteurs, afficher le nombre d'unités vendues par an pour chaque produit en pourcentage.\n"
   ]
  },
  {
   "cell_type": "code",
   "execution_count": 34,
   "metadata": {},
   "outputs": [],
   "source": [
    "# Votre code ici"
   ]
  },
  {
   "cell_type": "markdown",
   "metadata": {},
   "source": [
    "## Exercice 9 :\n",
    "\n",
    "- Lire les données de savon de bain et de lavage du visage de tous les mois et les afficher en utilisant deux sous-graphes.\n"
   ]
  },
  {
   "cell_type": "code",
   "execution_count": 35,
   "metadata": {},
   "outputs": [],
   "source": [
    "# Votre code ici"
   ]
  },
  {
   "cell_type": "markdown",
   "metadata": {},
   "source": [
    "## Exercice 10 :\n",
    "\n",
    "- Lire toutes les données de vente de produits et les montrer en utilisant le graphique empilé (utiliser la méthode `stackplot`)."
   ]
  },
  {
   "cell_type": "code",
   "execution_count": 36,
   "metadata": {},
   "outputs": [],
   "source": [
    "# Votre code ici"
   ]
  }
 ],
 "metadata": {
  "kernelspec": {
   "display_name": "Python 3",
   "language": "python",
   "name": "python3"
  },
  "language_info": {
   "codemirror_mode": {
    "name": "ipython",
    "version": 3
   },
   "file_extension": ".py",
   "mimetype": "text/x-python",
   "name": "python",
   "nbconvert_exporter": "python",
   "pygments_lexer": "ipython3",
   "version": "3.11.9"
  }
 },
 "nbformat": 4,
 "nbformat_minor": 2
}
