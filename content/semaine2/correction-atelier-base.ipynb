{
 "cells": [
  {
   "cell_type": "markdown",
   "metadata": {},
   "source": [
    "\n",
    "## Exercices - Création, initialisation, opérations et conversion de variables"
   ]
  },
  {
   "cell_type": "markdown",
   "metadata": {},
   "source": [
    "### Exercice 1 : Opérations sur les variables\n",
    "1. Créer une variable `prenom` et initialisez-la avec votre nom.\n",
    "2. Créer une variable `age` initalisée à votre age.\n",
    "3. Créer une variable `annee_actuelle` en lui donnant la valeur 2024.\n",
    "4. Créer une variable `annee_naissance`. Sa valeur sera la soustraction de votre age à l'année actuelle.\n",
    "5. Créer une variable `message` qui combine `prenom`, `annee_naissance` et `ville` dans une phrase complète. Par exemple: 'Je m'appelle Nathalie. Je suis née en 1900 et j'habite à Montréal'\n",
    "6. Afficher le message (la phrase)"
   ]
  },
  {
   "cell_type": "code",
   "execution_count": 54,
   "metadata": {},
   "outputs": [
    {
     "name": "stdout",
     "output_type": "stream",
     "text": [
      "Je m'appelle Nathalie. Je suis née en 1999 et j'habite à Montréal.\n"
     ]
    }
   ],
   "source": [
    "# Votre code ici\n",
    "\n",
    "# 1. Créer une variable `prenom` initialisée à votre prénom\n",
    "prenom = \"Nathalie\"  # Remplacez par votre prénom \n",
    "\n",
    "# 2. Créer une variable `age` initialisée à votre âge\n",
    "age = 25  # Remplacez 25 par votre âge \n",
    "\n",
    "# 3. Créer une variable `annee_actuelle` en lui donnant la valeur 2024\n",
    "annee_actuelle = 2024\n",
    "\n",
    "# 4. Créer une variable `annee_naissance`. Sa valeur sera la soustraction de votre âge à l'année actuelle\n",
    "annee_naissance = annee_actuelle - age\n",
    "\n",
    "# 5. Créer une variable `message` qui combine `prenom`, `annee_naissance` et `ville` dans une phrase complète\n",
    "prenom = \"Nathalie\"  # Remplacez par votre prénom\n",
    "ville = \"Montréal\"   # Remplacez par votre ville\n",
    "message = f\"Je m'appelle {prenom}. Je suis née en {annee_naissance} et j'habite à {ville}.\"\n",
    "\n",
    "# 6. Afficher le message (la phrase)\n",
    "print(message)"
   ]
  },
  {
   "cell_type": "markdown",
   "metadata": {},
   "source": [
    "### Exercice 2 : Opérations diverses. \n",
    "a) Donnez la valeur 5 à une variable nommée `nombre1`.  \n",
    "b) Multipliez la variable `nombre1` par `2`. Vous stockerez le résultat dans cette même variable.  \n",
    "c) Affichez le résultat. Vous devez obtenir `10`.  \n",
    "d) Stockez la valeur de `3` dans une variable `nombre2`. \n",
    "\n",
    "Effectuez les opéraions suivantes dans des cellules différentes:\n",
    "e) À partir des variables `nombre1` et `nombre2`, effectuez les opérations suivantes que vous stockerez dans la variable `resultat` :    \n",
    "1. Utilisez `/` pour effectuer la **division réelle**. Affichez le résultat. \n",
    "    - Quel est le type de la variable ?\n",
    "\n",
    "2. Utilisez `//` pour effectuer la **division entière**. Affichez le résultat. \n",
    "    - Quel est le type de la variable ?\n",
    "3. Utilisez `%` pour calculer le **modulo** (le reste) de la division. \n",
    "    - Affichez le résultat.\n",
    "4. Utilisez `**` pour calculer `nombre1` à la **puissance** `nombre2`. \n",
    "    - Affichez le résultat."
   ]
  },
  {
   "cell_type": "code",
   "execution_count": 55,
   "metadata": {},
   "outputs": [
    {
     "name": "stdout",
     "output_type": "stream",
     "text": [
      "5 * 2 = 10\n"
     ]
    }
   ],
   "source": [
    "# Votre code ici\n",
    "\n",
    "# a) Donnez la valeur 5 à une variable nommée `nombre1`.  \n",
    "nombre1 = 5\n",
    "# b) Multipliez la variable `nombre1` par `2`. Vous stockerez le résultat dans cette même variable. \n",
    "nombre1 = nombre1 * 2 \n",
    "# c) Affichez le résultat. Vous devez obtenir `10`.\n",
    "print(f\"5 * 2 = {nombre1}\")  \n",
    "# d) Stockez la valeur de `3` dans une variable `nombre2`. \n",
    "nombre2 = 3 \n",
    "# e) À partir des variables `nombre1` et `nombre2`, effectuez les opérations suivantes que vous stockerez dans la variable `resultat` : \n",
    "resultat = 0"
   ]
  },
  {
   "cell_type": "code",
   "execution_count": 56,
   "metadata": {},
   "outputs": [
    {
     "name": "stdout",
     "output_type": "stream",
     "text": [
      "Le résultat est: 3.3333333333333335\n",
      "Le type de la variable resultat est:  <class 'float'>\n"
     ]
    }
   ],
   "source": [
    "# 1. Utilisez `/` pour effectuer la **division réelle**. Affichez le résultat. \n",
    "    # - Quel est le type de la variable ?\n",
    "\n",
    "resultat = nombre1 / nombre2\n",
    "print(f\"Le résultat est: {resultat}\")\n",
    "print(f\"Le type de la variable resultat est: \", type(resultat))"
   ]
  },
  {
   "cell_type": "code",
   "execution_count": 57,
   "metadata": {},
   "outputs": [
    {
     "name": "stdout",
     "output_type": "stream",
     "text": [
      "Le résultat est: 3\n",
      "Le type de la variable resultat est:  <class 'int'>\n"
     ]
    }
   ],
   "source": [
    "# 2. Utilisez `//` pour effectuer la **division entière**. Affichez le résultat. \n",
    "    # - Quel est le type de la variable ?\n",
    "\n",
    "resultat = nombre1 // nombre2\n",
    "print(f\"Le résultat est: {resultat}\")\n",
    "print(f\"Le type de la variable resultat est: \", type(resultat))\n"
   ]
  },
  {
   "cell_type": "code",
   "execution_count": 58,
   "metadata": {},
   "outputs": [
    {
     "name": "stdout",
     "output_type": "stream",
     "text": [
      "Le résultat est: 1\n",
      "Le type de la variable resultat est:  <class 'int'>\n"
     ]
    }
   ],
   "source": [
    "# 3. Utilisez `%` pour calculer le **modulo** (le reste) de la division. \n",
    "    # - Affichez le résultat.\n",
    "\n",
    "resultat = nombre1 % nombre2\n",
    "print(f\"Le résultat est: {resultat}\")\n",
    "print(f\"Le type de la variable resultat est: \", type(resultat))\n"
   ]
  },
  {
   "cell_type": "code",
   "execution_count": 59,
   "metadata": {},
   "outputs": [
    {
     "name": "stdout",
     "output_type": "stream",
     "text": [
      "Le résultat est: 1000\n",
      "Le type de la variable resultat est:  <class 'int'>\n"
     ]
    }
   ],
   "source": [
    "# 4. Utilisez `**` pour calculer `nombre1` à la **puissance** `nombre2`. \n",
    "    # - Affichez le résultat.\n",
    "\n",
    "resultat = nombre1 ** nombre2\n",
    "print(f\"Le résultat est: {resultat}\")\n",
    "print(f\"Le type de la variable resultat est: \", type(resultat))"
   ]
  },
  {
   "cell_type": "markdown",
   "metadata": {},
   "source": [
    "### Exercice 3 : Conversion de types de variables\n",
    "\n",
    "Essayez de prédire le résultat de chacune des instructions suivantes, puis vérifiez-le une cellule de code.\n",
    "\n",
    "a) str(4) * int(\"3\")  \n",
    "b) int(\"3\") + float(\"3.2\")  \n",
    "c) str(3) * float(\"3.2\")  \n",
    "d) str(3/4) * 2  "
   ]
  },
  {
   "cell_type": "markdown",
   "metadata": {},
   "source": [
    "#### Votre réponse ici\n",
    "\n",
    "str(4) * int(\"3\")  # \"4\" * 3 = \"4\" + \"4\" + \"4\"  \n",
    "int(\"3\") + float(\"3.2\")  # 3 + 3.2 = 6.2  \n",
    "str(3) * float(\"3.2\")  # TypeError: can't multiply sequence by non-int of type 'float'  \n",
    "str(3/4) * 2 # \"3/4\" * 2 = \"0.75\" * 2 = \"0.750.75\"  "
   ]
  },
  {
   "cell_type": "markdown",
   "metadata": {},
   "source": [
    "## Exercices - Opérations avec des flottants "
   ]
  },
  {
   "cell_type": "markdown",
   "metadata": {},
   "source": [
    "### Exercice 1: Troncature de flottants\n",
    "\n",
    "- Tronquez le nombre flottant `flottant1` à son entier inférieur.\n",
    "- Affichez et expliquez le résultat. "
   ]
  },
  {
   "cell_type": "code",
   "execution_count": 60,
   "metadata": {},
   "outputs": [
    {
     "name": "stdout",
     "output_type": "stream",
     "text": [
      "3\n"
     ]
    }
   ],
   "source": [
    "# Votre code ici\n",
    "\n",
    "flottant1 = 3.9\n",
    "resultat = int(flottant1)\n",
    "print(resultat)  # Affiche 3, car int() tronque à l'entier, sans tenir compte des décimales"
   ]
  },
  {
   "cell_type": "markdown",
   "metadata": {},
   "source": [
    "### Exercice 2: Arrondi de flottants\n",
    "\n",
    "- Arrondissez le nombre flottant `flottant2` à zéro décimale et affichez le résultat.\n"
   ]
  },
  {
   "cell_type": "code",
   "execution_count": 61,
   "metadata": {},
   "outputs": [
    {
     "name": "stdout",
     "output_type": "stream",
     "text": [
      "3\n"
     ]
    }
   ],
   "source": [
    "# Votre code ici\n",
    "\n",
    "flottant2 = 3.14159\n",
    "resultat = round(flottant2)\n",
    "print(resultat)  # Affiche: 3, car par défaut round arrondi à l'entier le plus proche"
   ]
  },
  {
   "cell_type": "markdown",
   "metadata": {},
   "source": [
    "### Exercice 3: Arrondi à N décimales\n",
    "\n",
    "- Arrondissez le nombre flottant `flottant3` à 2 décimales et affichez le résultat."
   ]
  },
  {
   "cell_type": "code",
   "execution_count": 62,
   "metadata": {},
   "outputs": [
    {
     "name": "stdout",
     "output_type": "stream",
     "text": [
      "3.14\n"
     ]
    }
   ],
   "source": [
    "# Votre code ici\n",
    "\n",
    "flottant3 = 3.14159\n",
    "resultat = round(flottant3, 2)\n",
    "print(resultat)  # Affiche: 3.14"
   ]
  },
  {
   "cell_type": "markdown",
   "metadata": {},
   "source": [
    "## Exercices - Affichage de chaînes de caractères"
   ]
  },
  {
   "cell_type": "markdown",
   "metadata": {},
   "source": [
    "### Exercice 1: Concaténation de chaînes\n",
    "\n",
    "- Concaténez les chaînes de caractères et affichez le résultat.\n",
    "\n",
    "chaine1 = \"Bonjour\"\n",
    "chaine2 = \" tout le monde !\"\n",
    "chaine3 = \" Comment allez-vous\"\n",
    "chaine4 = \" aujourd'hui ?\"\n"
   ]
  },
  {
   "cell_type": "code",
   "execution_count": 65,
   "metadata": {},
   "outputs": [
    {
     "name": "stdout",
     "output_type": "stream",
     "text": [
      "Bonjour tout le monde ! Comment allez-vous aujourd'hui ?\n"
     ]
    }
   ],
   "source": [
    "# Votre code ici\n",
    "chaine1 = \"Bonjour\"\n",
    "chaine2 = \" tout le monde !\"\n",
    "chaine3 = \" Comment allez-vous\"\n",
    "chaine4 = \" aujourd'hui ?\"\n",
    "resultat = chaine1 + chaine2 + chaine3 + chaine4\n",
    "print(resultat)"
   ]
  },
  {
   "cell_type": "markdown",
   "metadata": {},
   "source": [
    "### Exercice 2: Affichage de chaînes avec variables\n",
    "\n",
    "- Affichez la chaîne de caractères 'Le nom complet est Jean Dupont' qui inclut les valeurs des variables `prenom` et `nom` en utilisant des guillemets simples et doubles.\n"
   ]
  },
  {
   "cell_type": "code",
   "execution_count": 66,
   "metadata": {},
   "outputs": [
    {
     "name": "stdout",
     "output_type": "stream",
     "text": [
      "Le nom complet est Jean Dupont\n"
     ]
    }
   ],
   "source": [
    "\n",
    "# Votre code ici\n",
    "prenom = \"Jean\"\n",
    "nom = \"Dupont\"\n",
    "message = \"Le nom complet est \" + prenom + \" \" + nom\n",
    "print(message)  # Affiche: Le nom complet est Jean Dupont"
   ]
  },
  {
   "cell_type": "markdown",
   "metadata": {},
   "source": [
    "### Exercice 3: Gestion des guillemets simples et doubles\n",
    "\n",
    "- Modifiez les chaines de caractères contenue dans les variables pour pouvoir les afficher correctement.\n"
   ]
  },
  {
   "cell_type": "code",
   "execution_count": 1,
   "metadata": {},
   "outputs": [
    {
     "name": "stdout",
     "output_type": "stream",
     "text": [
      "C'est une belle journée\n",
      "Il a dit: \"Bonjour\"\n"
     ]
    }
   ],
   "source": [
    "# Votre code ici\n",
    "phrase1 = \"C'est une belle journée\"\n",
    "print(phrase1)  # Doit afficher: C'est une belle journée\n",
    "phrase2 = 'Il a dit: \"Bonjour\"'\n",
    "print(phrase2)  # Doit afficher: Il a dit: \"Bonjour\""
   ]
  },
  {
   "cell_type": "markdown",
   "metadata": {},
   "source": [
    "### Exercice 4: Gestion de l'échappement\n",
    "\n",
    "- Modifiez les chaines de caractères contenue dans les variables pour pouvoir les afficher correctement. Utiliser le caractère d'échappement '\\'."
   ]
  },
  {
   "cell_type": "code",
   "execution_count": 6,
   "metadata": {},
   "outputs": [
    {
     "name": "stdout",
     "output_type": "stream",
     "text": [
      "Il a dit \"Aurevoir\"\n",
      "C'est une belle journée\n",
      "Le livre s'appelle \"Le monde d'Alice\"\n"
     ]
    }
   ],
   "source": [
    "# Votre code ici\n",
    "\n",
    "phrase3 = \"Il a dit \\\"Aurevoir\\\"\"\n",
    "print(phrase3) # Doit afficher: Il a dit: \"Aurevoir\"\n",
    "phrase4 = 'C\\'est une belle journée'\n",
    "print(phrase4) # Doit afficher: C'est une belle journée\n",
    "phrase5 = 'Le livre s\\'appelle \"Le monde d\\'Alice\"'\n",
    "print(phrase5)  # Doit afficher: Le livre s'appelle \"Le monde d'Alice\""
   ]
  },
  {
   "cell_type": "markdown",
   "metadata": {},
   "source": [
    "### Exercice 5: Utilisation de f-strings\n",
    "\n",
    "- Utilisez les f-strings pour inclure des variables dans une chaîne de caractères tout en mélangeant guillemets simples et doubles.\n",
    "\n"
   ]
  },
  {
   "cell_type": "code",
   "execution_count": 4,
   "metadata": {},
   "outputs": [
    {
     "name": "stdout",
     "output_type": "stream",
     "text": [
      "Marie Curie a dit \"La science est belle\"\n",
      "Paul a dit qu'il viendrait\n"
     ]
    }
   ],
   "source": [
    "# Votre code ici\n",
    "prenomF = \"Marie\"\n",
    "nom = \"Curie\"\n",
    "prenomH = \"Paul\"\n",
    "\n",
    "# Doit afficher: Marie Curie a dit \"La science est belle\"\n",
    "print(f\"{prenomF} {nom} a dit \\\"La science est belle\\\"\")\n",
    "\n",
    "# Doit afficher: Paul a dit qu'il viendrait\n",
    "print(f\"{prenomH} a dit qu\\'il viendrait\")"
   ]
  }
 ],
 "metadata": {
  "kernelspec": {
   "display_name": "Python 3",
   "language": "python",
   "name": "python3"
  },
  "language_info": {
   "codemirror_mode": {
    "name": "ipython",
    "version": 3
   },
   "file_extension": ".py",
   "mimetype": "text/x-python",
   "name": "python",
   "nbconvert_exporter": "python",
   "pygments_lexer": "ipython3",
   "version": "3.11.9"
  }
 },
 "nbformat": 4,
 "nbformat_minor": 2
}
