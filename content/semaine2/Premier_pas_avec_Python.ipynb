{
 "cells": [
  {
   "cell_type": "markdown",
   "metadata": {},
   "source": [
    "# Premier pas avec Python\n",
    "\n",
    "Dans cette série de questions, vous allez pouvoir pratiquer les éléments vus dans le cours en rapport\n",
    "avec les bases de python.\n",
    "\n",
    "N’oubliez pas que les noms de variables ne doivent ni avoir d’accent ni de caractère spécial. Vous devez\n",
    "utiliser uniquement des valeurs comprises entre [0-9], [a-z] et [A-Z]."
   ]
  },
  {
   "cell_type": "markdown",
   "metadata": {},
   "source": [
    "##  I) <u> Affectation de variables, affichage et typage de données </u>\n",
    "\n",
    "a) Affectez votre prénom sous la forme d’une chaîne de caractères dans une variable que vous appelerez `prenom`."
   ]
  },
  {
   "cell_type": "code",
   "execution_count": 11,
   "metadata": {},
   "outputs": [],
   "source": [
    "#\n",
    "# votre code ici\n",
    "#\n",
    "\n"
   ]
  },
  {
   "cell_type": "markdown",
   "metadata": {},
   "source": [
    "b) Affichez le résultat."
   ]
  },
  {
   "cell_type": "code",
   "execution_count": 12,
   "metadata": {},
   "outputs": [],
   "source": [
    "#\n",
    "# votre code ici\n",
    "#\n",
    "\n"
   ]
  },
  {
   "cell_type": "markdown",
   "metadata": {},
   "source": [
    "c) Quel est le type de la variable ?"
   ]
  },
  {
   "cell_type": "code",
   "execution_count": 13,
   "metadata": {},
   "outputs": [],
   "source": [
    "#\n",
    "# votre code ici\n",
    "#\n",
    "\n"
   ]
  },
  {
   "cell_type": "markdown",
   "metadata": {},
   "source": [
    "d) Affectez votre âge sous la forme d’un entier (integer) dans une variable que vous nommerez `age`."
   ]
  },
  {
   "cell_type": "code",
   "execution_count": 14,
   "metadata": {},
   "outputs": [],
   "source": [
    "#\n",
    "# votre code ici\n",
    "#\n",
    "\n"
   ]
  },
  {
   "cell_type": "markdown",
   "metadata": {},
   "source": [
    "e) Affichez le résultat."
   ]
  },
  {
   "cell_type": "code",
   "execution_count": 15,
   "metadata": {},
   "outputs": [],
   "source": [
    "#\n",
    "# votre code ici\n",
    "#\n",
    "\n"
   ]
  },
  {
   "cell_type": "markdown",
   "metadata": {},
   "source": [
    "f) Quel est le type de la variable ? (dans cet exemple, le type de la variable doit être de type entier, c'est-à-dire integer)"
   ]
  },
  {
   "cell_type": "code",
   "execution_count": 16,
   "metadata": {},
   "outputs": [],
   "source": [
    "#\n",
    "# votre code ici\n",
    "#\n",
    "\n"
   ]
  },
  {
   "cell_type": "markdown",
   "metadata": {},
   "source": [
    "g) Affectez la valeur 38.58 à une variable nommée `decimal`."
   ]
  },
  {
   "cell_type": "code",
   "execution_count": 17,
   "metadata": {},
   "outputs": [],
   "source": [
    "#\n",
    "# votre code ici\n",
    "#\n",
    "\n"
   ]
  },
  {
   "cell_type": "markdown",
   "metadata": {},
   "source": [
    "h) Affichez le résultat."
   ]
  },
  {
   "cell_type": "code",
   "execution_count": 18,
   "metadata": {},
   "outputs": [],
   "source": [
    "#\n",
    "# votre code ici\n",
    "#\n",
    "\n",
    "\n"
   ]
  },
  {
   "cell_type": "markdown",
   "metadata": {},
   "source": [
    "i) Quel est le type de la variable ?"
   ]
  },
  {
   "cell_type": "code",
   "execution_count": 19,
   "metadata": {},
   "outputs": [],
   "source": [
    "#\n",
    "# votre code ici\n",
    "#\n",
    "\n"
   ]
  },
  {
   "cell_type": "markdown",
   "metadata": {},
   "source": [
    "j) En utilisant la technique du transtypage, affichez la variable `decimal` sous la forme d’un integer.\n",
    "\n",
    "Que se passe-t-il ?"
   ]
  },
  {
   "cell_type": "code",
   "execution_count": 20,
   "metadata": {},
   "outputs": [],
   "source": [
    "#\n",
    "# votre code ici\n",
    "#\n",
    "\n"
   ]
  },
  {
   "cell_type": "markdown",
   "metadata": {},
   "source": [
    "## <u>II) Opérations élémentaires </u>\n",
    "\n",
    "a) Donnez la valeur 5 à une variable nommée `nombre1`."
   ]
  },
  {
   "cell_type": "code",
   "execution_count": 21,
   "metadata": {},
   "outputs": [],
   "source": [
    "#\n",
    "# votre code ici\n",
    "#\n",
    "\n"
   ]
  },
  {
   "cell_type": "markdown",
   "metadata": {},
   "source": [
    "b) Multipliez la variable `nombre1` par `2`. Vous stockerez le résultat dans cette même variable."
   ]
  },
  {
   "cell_type": "code",
   "execution_count": 22,
   "metadata": {},
   "outputs": [],
   "source": [
    "#\n",
    "# votre code ici\n",
    "#\n",
    "\n"
   ]
  },
  {
   "cell_type": "markdown",
   "metadata": {},
   "source": [
    "c) Affichez le résultat. Vous devez obtenir `10`."
   ]
  },
  {
   "cell_type": "code",
   "execution_count": 23,
   "metadata": {},
   "outputs": [],
   "source": [
    "#\n",
    "# votre code ici\n",
    "#\n",
    "\n"
   ]
  },
  {
   "cell_type": "markdown",
   "metadata": {},
   "source": [
    "d) Stockez la valeur de `3` dans une variable `nombre2`."
   ]
  },
  {
   "cell_type": "code",
   "execution_count": 24,
   "metadata": {},
   "outputs": [],
   "source": [
    "#\n",
    "# votre code ici\n",
    "#\n",
    "\n"
   ]
  },
  {
   "cell_type": "markdown",
   "metadata": {},
   "source": [
    "e) À partir des variables `nombre1` et `nombre2`, effectuez les opérations suivantes que vous stockerez dans la variable `resultat` :  \n",
    "    \n",
    "1. Utilisez `/` pour effectuer la **division réelle**. Affichez le résultat. \n",
    "    - Quel est le type de la variable ?"
   ]
  },
  {
   "cell_type": "code",
   "execution_count": 25,
   "metadata": {},
   "outputs": [],
   "source": [
    "#\n",
    "# votre code ici\n",
    "#\n",
    "\n"
   ]
  },
  {
   "cell_type": "markdown",
   "metadata": {},
   "source": [
    "e) <i> suite... </i>\n",
    "\n",
    "2. Utilisez `//` pour effectuer la **division entière**. Affichez le résultat. \n",
    "    - Quel est le type de la variable ?"
   ]
  },
  {
   "cell_type": "code",
   "execution_count": 26,
   "metadata": {},
   "outputs": [],
   "source": [
    "#\n",
    "# votre code ici\n",
    "#\n",
    "\n"
   ]
  },
  {
   "cell_type": "markdown",
   "metadata": {},
   "source": [
    "e) <i> suite... </i>\n",
    "\n",
    "3. Utilisez `%` pour calculer le **modulo** (le reste) de la division. \n",
    "    - Affichez le résultat."
   ]
  },
  {
   "cell_type": "code",
   "execution_count": 27,
   "metadata": {},
   "outputs": [],
   "source": [
    "#\n",
    "# votre code ici\n",
    "#\n",
    "\n"
   ]
  },
  {
   "cell_type": "markdown",
   "metadata": {},
   "source": [
    "e) <i> suite... </i>\n",
    "\n",
    "4. Utilisez `**` pour calculer `nombre1` à la **puissance** `nombre2`. \n",
    "    - Affichez le résultat."
   ]
  },
  {
   "cell_type": "code",
   "execution_count": 28,
   "metadata": {},
   "outputs": [],
   "source": [
    "#\n",
    "# votre code ici\n",
    "#\n",
    "\n"
   ]
  },
  {
   "cell_type": "markdown",
   "metadata": {},
   "source": [
    "## <u>III) Saisie de valeur par un utilisateur </u>\n",
    "\n",
    "Comme nous l’avons vu dans le cours, la fonction input() nous permet d’interagir avec l’ordinateur. Une fois le programme exécuté, il est possible de saisir les valeurs dans la partie haute de VS Code.\n",
    "\n",
    "\n",
    "a) Demandez à l’utilisateur de saisir une chaîne de caractères (str) en posant la question suivante : « `Quel jour sommes-nous aujourd’hui ?` ». Vous stockerez le résultat dans une variable\n",
    "nommée `jour`. Affichez le résultat."
   ]
  },
  {
   "cell_type": "code",
   "execution_count": 29,
   "metadata": {},
   "outputs": [],
   "source": [
    "#\n",
    "# votre code ici\n",
    "#\n",
    "\n"
   ]
  },
  {
   "cell_type": "markdown",
   "metadata": {},
   "source": [
    "b) Demandez à un utilisateur de saisir un nombre de type entier (int) en lui posant la question suivante : « `Quel numéro de jour sommes-nous aujourd’hui ?` ». Vous stockerez le résultat dans une variable nommée `numero_jour`. Affichez le résultat."
   ]
  },
  {
   "cell_type": "code",
   "execution_count": 30,
   "metadata": {},
   "outputs": [],
   "source": [
    "#\n",
    "# votre code ici\n",
    "#\n",
    "\n"
   ]
  },
  {
   "cell_type": "markdown",
   "metadata": {},
   "source": [
    "c) Demandez à un utilisateur de saisir un nombre de type décimal (float) avec la question suivante « `Quelle est la température aujourd’hui ?` ». Vous donnerez le résultat au 1/10ème près ». Vous stockerez le résultat dans une variable nommée `temperature`. Affichez le résultat. \n",
    "\n",
    "La fonction `round()` devrait vous aider à arrondir votre résultat : [tutoriel arrondi](https://www.w3schools.com/python/ref_func_round.asp).\n",
    "\n",
    "\n",
    "\n"
   ]
  },
  {
   "cell_type": "code",
   "execution_count": 31,
   "metadata": {},
   "outputs": [],
   "source": [
    "#\n",
    "# votre code ici\n",
    "#\n",
    "\n"
   ]
  },
  {
   "cell_type": "markdown",
   "metadata": {},
   "source": []
  },
  {
   "cell_type": "markdown",
   "metadata": {},
   "source": [
    "d) Pour finir, affichez une seule phrase qui donne le `jour`, le `numero_jour` et la `temperature`. Notez que vous avez encore accès aux variables des cases présédentes, donc, la fonction `input()` ne devrait pas être nécessaire ici."
   ]
  },
  {
   "cell_type": "code",
   "execution_count": 32,
   "metadata": {},
   "outputs": [],
   "source": [
    "#\n",
    "# votre code ici\n",
    "#\n",
    "\n"
   ]
  }
 ],
 "metadata": {
  "kernelspec": {
   "display_name": "Python 3",
   "language": "python",
   "name": "python3"
  },
  "language_info": {
   "codemirror_mode": {
    "name": "ipython",
    "version": 3
   },
   "file_extension": ".py",
   "mimetype": "text/x-python",
   "name": "python",
   "nbconvert_exporter": "python",
   "pygments_lexer": "ipython3",
   "version": "3.10.12"
  }
 },
 "nbformat": 4,
 "nbformat_minor": 2
}
