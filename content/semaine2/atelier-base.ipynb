{
 "cells": [
  {
   "cell_type": "markdown",
   "metadata": {},
   "source": [
    "\n",
    "## Exercices - Création, initialisation, opérations et conversion de variables"
   ]
  },
  {
   "cell_type": "markdown",
   "metadata": {},
   "source": [
    "### Exercice 1 : Opérations sur les variables\n",
    "1. Créer une variable nommée prenom et initialisez-la avec votre nom.\n",
    "2. Créer une variable nommée age initalisée à votre age.\n",
    "3. Créer une variable nommée annee_actuelle en lui donnant la valeur 2024.\n",
    "4. Créer une variable nommée annee_naissance. Sa valeur sera la soustraction de votre age à l'année actuelle.\n",
    "5. Créer une variable nommée ville initialisée à \"Laval\" ou \"Montréal\" ou la ville de votre choix.\n",
    "6. Créer une variable nommée message qui combine les variables prenom, annee_naissance et ville dans une phrase complète. Par exemple: 'Je m'appelle Nathalie. Je suis née en 1900 et j'habite à Montréal'\n",
    "7. Afficher le message (la phrase)"
   ]
  },
  {
   "cell_type": "code",
   "execution_count": 2,
   "metadata": {},
   "outputs": [],
   "source": [
    "# Votre code ici\n"
   ]
  },
  {
   "cell_type": "markdown",
   "metadata": {},
   "source": [
    "### Exercice 2 : Opérations diverses. \n",
    "a) Donnez la valeur 5 à une variable nommée nombre1.  \n",
    "b) Multipliez la variable nombre1 par 2. Vous stockerez le résultat dans cette même variable.  \n",
    "c) Affichez le résultat. Vous devez obtenir 10.  \n",
    "d) Stockez la valeur de 3 dans une variable nombre2. \n",
    "\n",
    "Effectuez les opéraions suivantes dans des cellules différentes:\n",
    "e) À partir des variables nombre1 et nombre2, effectuez les opérations suivantes que vous stockerez dans la variable resultat :    \n",
    "1. Utilisez / pour effectuer la **division réelle**. Affichez le résultat. \n",
    "    - Quel est le type de la variable ?\n",
    "\n",
    "2. Utilisez // pour effectuer la **division entière**. Affichez le résultat. \n",
    "    - Quel est le type de la variable ?\n",
    "3. Utilisez % pour calculer le **modulo** (le reste) de la division. \n",
    "    - Affichez le résultat.\n",
    "4. Utilisez ** pour calculer nombre1 à la **puissance** nombre2. \n",
    "    - Affichez le résultat."
   ]
  },
  {
   "cell_type": "code",
   "execution_count": 4,
   "metadata": {},
   "outputs": [],
   "source": [
    "# 1. Utilisez / pour effectuer la **division réelle**. Affichez le résultat. \n",
    "    # - Quel est le type de la variable ?\n"
   ]
  },
  {
   "cell_type": "code",
   "execution_count": 5,
   "metadata": {},
   "outputs": [],
   "source": [
    "# 2. Utilisez // pour effectuer la **division entière**. Affichez le résultat. \n",
    "    # - Quel est le type de la variable ?\n"
   ]
  },
  {
   "cell_type": "code",
   "execution_count": 6,
   "metadata": {},
   "outputs": [],
   "source": [
    "# 3. Utilisez % pour calculer le **modulo** (le reste) de la division. \n",
    "    # - Affichez le résultat.\n"
   ]
  },
  {
   "cell_type": "code",
   "execution_count": 7,
   "metadata": {},
   "outputs": [],
   "source": [
    "# 4. Utilisez ** pour calculer nombre1 à la **puissance** nombre2. \n",
    "    # - Affichez le résultat.\n",
    "\n"
   ]
  },
  {
   "cell_type": "markdown",
   "metadata": {},
   "source": [
    "### Exercice 3 : Conversion de types de variables\n",
    "\n",
    "Essayez de prédire le résultat de chacune des instructions suivantes, puis vérifiez-le une cellule de code.\n",
    "\n",
    "a) str(4) * int(\"3\")  \n",
    "b) int(\"3\") + float(\"3.2\")  \n",
    "c) str(3) * float(\"3.2\")  \n",
    "d) str(3/4) * 2  "
   ]
  },
  {
   "cell_type": "markdown",
   "metadata": {},
   "source": [
    "#### Votre réponse ici\n",
    "\n"
   ]
  },
  {
   "cell_type": "markdown",
   "metadata": {},
   "source": [
    "## Exercices - Opérations avec des flottants "
   ]
  },
  {
   "cell_type": "markdown",
   "metadata": {},
   "source": [
    "### Exercice 1: Troncature de flottants\n",
    "\n",
    "- Tronquez le nombre flottant flottant1 à son entier inférieur.\n",
    "- Affichez et expliquez le résultat. "
   ]
  },
  {
   "cell_type": "code",
   "execution_count": 8,
   "metadata": {},
   "outputs": [],
   "source": [
    "# Votre code ici\n",
    "\n",
    "flottant1 = 3.9\n"
   ]
  },
  {
   "cell_type": "markdown",
   "metadata": {},
   "source": [
    "### Exercice 2: Arrondi de flottants\n",
    "\n",
    "- Arrondissez le nombre flottant flottant2 à zéro décimale et affichez le résultat.\n"
   ]
  },
  {
   "cell_type": "code",
   "execution_count": 9,
   "metadata": {},
   "outputs": [],
   "source": [
    "# Votre code ici\n",
    "\n",
    "flottant2 = 3.14159\n"
   ]
  },
  {
   "cell_type": "markdown",
   "metadata": {},
   "source": [
    "### Exercice 3: Arrondi à N décimales\n",
    "\n",
    "- Arrondissez le nombre flottant flottant3 à 2 décimales et affichez le résultat."
   ]
  },
  {
   "cell_type": "code",
   "execution_count": 10,
   "metadata": {},
   "outputs": [],
   "source": [
    "# Votre code ici\n",
    "\n",
    "flottant3 = 3.14159\n"
   ]
  },
  {
   "cell_type": "markdown",
   "metadata": {},
   "source": [
    "## Exercices - Affichage de chaînes de caractères"
   ]
  },
  {
   "cell_type": "markdown",
   "metadata": {},
   "source": [
    "### Exercice 1: Concaténation de chaînes\n",
    "\n",
    "- Concaténez les chaînes de caractères et affichez le résultat.\n"
   ]
  },
  {
   "cell_type": "code",
   "execution_count": 11,
   "metadata": {},
   "outputs": [],
   "source": [
    "# Votre code ici\n",
    "chaine1 = \"Bonjour\"\n",
    "chaine2 = \" tout le monde !\"\n",
    "chaine3 = \" Comment allez-vous\"\n",
    "chaine4 = \" aujourd'hui ?\""
   ]
  },
  {
   "cell_type": "markdown",
   "metadata": {},
   "source": [
    "### Exercice 2: Affichage de chaînes avec variables\n",
    "\n",
    "- Affichez la chaîne de caractères 'Le nom complet est Jean Dupont' en utilisant les variables prenom et nom.\n"
   ]
  },
  {
   "cell_type": "code",
   "execution_count": 12,
   "metadata": {},
   "outputs": [],
   "source": [
    "\n",
    "# Votre code ici\n",
    "prenom = \"Jean\"\n",
    "nom = \"Dupont\"\n"
   ]
  },
  {
   "cell_type": "markdown",
   "metadata": {},
   "source": [
    "### Exercice 3: Gestion des guillemets simples et doubles\n",
    "\n",
    "- Modifiez les chaines de caractères contenue dans les variables pour pouvoir les afficher correctement.\n"
   ]
  },
  {
   "cell_type": "code",
   "execution_count": null,
   "metadata": {},
   "outputs": [],
   "source": [
    "# Votre code ici\n",
    "phrase1 = 'C'est une belle journée'\n",
    "print(phrase1)  # Doit afficher: C'est une belle journée\n",
    "\n",
    "phrase2 = \"Il a dit: \"Bonjour\"\"\n",
    "print(phrase2)  # Doit afficher: Il a dit: \"Bonjour\""
   ]
  },
  {
   "cell_type": "markdown",
   "metadata": {},
   "source": [
    "### Exercice 4: Gestion de l'échappement\n",
    "\n",
    "- Modifiez les chaines de caractères contenue dans les variables pour pouvoir les afficher correctement. Utiliser le caractère d'échappement \\"
   ]
  },
  {
   "cell_type": "code",
   "execution_count": null,
   "metadata": {},
   "outputs": [],
   "source": [
    "# Votre code ici\n",
    "\n",
    "phrase3 = \"Il a dit \"Aurevoir\"\"\n",
    "print(phrase3) # Doit afficher: Il a dit: \"Aurevoir\"\n",
    "\n",
    "phrase4 = 'C'est une belle journée'\n",
    "print(phrase4) # Doit afficher: C'est une belle journée\n",
    "\n",
    "phrase5 = 'Le livre s'appelle \"Le monde d'Alice\"'\n",
    "print(phrase5)  # Doit afficher: Le livre s'appelle \"Le monde d'Alice\""
   ]
  }
 ],
 "metadata": {
  "kernelspec": {
   "display_name": "Python 3",
   "language": "python",
   "name": "python3"
  },
  "language_info": {
   "codemirror_mode": {
    "name": "ipython",
    "version": 3
   },
   "file_extension": ".py",
   "mimetype": "text/x-python",
   "name": "python",
   "nbconvert_exporter": "python",
   "pygments_lexer": "ipython3",
   "version": "3.11.9"
  }
 },
 "nbformat": 4,
 "nbformat_minor": 2
}
