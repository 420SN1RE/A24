{
 "cells": [
  {
   "cell_type": "code",
   "execution_count": 5,
   "metadata": {},
   "outputs": [
    {
     "name": "stdout",
     "output_type": "stream",
     "text": [
      "l'annee:  2006\n"
     ]
    }
   ],
   "source": [
    "age = input(\"Entrer votre âge\")\n",
    "\n",
    "#print(type(age))\n",
    "\n",
    "annee = 2024 - int(age)\n",
    "\n",
    "# annee = 2024 - \"18\"\n",
    "\n",
    "print(\"l'annee: \", annee)"
   ]
  }
 ],
 "metadata": {
  "kernelspec": {
   "display_name": "Python 3",
   "language": "python",
   "name": "python3"
  },
  "language_info": {
   "codemirror_mode": {
    "name": "ipython",
    "version": 3
   },
   "file_extension": ".py",
   "mimetype": "text/x-python",
   "name": "python",
   "nbconvert_exporter": "python",
   "pygments_lexer": "ipython3",
   "version": "3.11.9"
  }
 },
 "nbformat": 4,
 "nbformat_minor": 2
}
