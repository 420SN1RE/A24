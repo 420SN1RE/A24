{
 "cells": [
  {
   "cell_type": "markdown",
   "metadata": {},
   "source": [
    "Q1-upposons que liste1 est [2, 3, 4, 5, 1, 20, 6], quelle sera la valeur de liste1 après liste1.pop(1)?\n",
    "a) [2, 3, 4, 5, 20, 6]\n",
    "b) [2, 1, 4, 5, 1, 20, 6]\n",
    "c) [2, 3, 4, 5, 1, 20, 6, 1]\n",
    "d) [2, 4, 5, 1, 20, 6]  \n",
    "\n",
    "Supposons que liste2 est [2, 3, 4, 5, 1, 20, 6], quelle sera la valeur de liste2 après liste2.remove(1)?\n",
    "\n",
    "Supposons que liste3 est [2, 3, 4, 5, 1, 20, 6], quelle sera la valeur de liste3 après liste3.remove(7)?\n",
    "\n",
    "Supposons que liste4 est [2, 3, 4, 5, 1, 20, 6], quelle sera la valeur de liste4 après liste4.remove(1)?"
   ]
  },
  {
   "cell_type": "code",
   "execution_count": null,
   "metadata": {},
   "outputs": [],
   "source": [
    "liste1 = [2, 3, 4, 5, 1, 20, 6]\n",
    "liste2 = [2, 3, 4, 5, 1, 20, 6, 3]\n",
    "liste3 = [2, 3, 4, 5, 1, 20, 6]\n",
    "liste4 = [2, 3, 4, 5, 1, 20, 6]\n",
    "liste1.pop(1) # Supprime l'élément à l'index 1, donc 3\n",
    "print(liste1)\n",
    "liste2.remove(3) # Supprime le premier élément 3 trouvé\n",
    "print(liste2)\n",
    "#liste3.remove(7) # Erreur\n",
    "liste4.pop(7)\n",
    "print(liste4) # Erreur"
   ]
  },
  {
   "cell_type": "markdown",
   "metadata": {},
   "source": [
    "Q2-Que renvoie l’extrait de code Python suivant ?\n",
    "\n",
    "```python\n",
    "arr = ['a', 'b', 'c', 'd'];\n",
    "print(arr[1:3])\n",
    "```"
   ]
  },
  {
   "cell_type": "code",
   "execution_count": 3,
   "metadata": {},
   "outputs": [
    {
     "name": "stdout",
     "output_type": "stream",
     "text": [
      "['b', 'c']\n",
      "['a', 'b']\n",
      "['c', 'd']\n",
      "['d']\n"
     ]
    }
   ],
   "source": [
    "arr = ['a', 'b', 'c', 'd']\n",
    "print(arr[0:2])\n",
    "print(arr[1:3])\n",
    "print(arr[2:4])\n",
    "print(arr[3:5])"
   ]
  },
  {
   "cell_type": "markdown",
   "metadata": {},
   "source": [
    "Q3-Quel est le résultat de la concaténation de deux tableaux en Python à l’aide de l’opérateur + ?\n",
    "\n",
    "a) Un nouveau tableau [1, 2, 3, 4, 5, 6]\n",
    "b) Les tableaux originaux sont modifiés pour inclure les éléments de l’autre tableau.\n",
    "c) Une erreur de syntaxe\n",
    "d) Aucune de ces réponses"
   ]
  },
  {
   "cell_type": "code",
   "execution_count": 7,
   "metadata": {},
   "outputs": [
    {
     "name": "stdout",
     "output_type": "stream",
     "text": [
      "[4, 2, 0, 's', 'n', 1]\n"
     ]
    }
   ],
   "source": [
    "arr1 = [4, 2, 0]\n",
    "arr2 = [\"s\", \"n\", 1]\n",
    "arr3 = arr1 + arr2\n",
    "print(arr3)"
   ]
  },
  {
   "cell_type": "code",
   "execution_count": 38,
   "metadata": {},
   "outputs": [
    {
     "name": "stdout",
     "output_type": "stream",
     "text": [
      "['D', 'E', 'C', 200, 'B', 0]\n"
     ]
    }
   ],
   "source": [
    "arr1 = [\"D\", \"E\", \"C\"]\n",
    "arr2 = [200, \"B\", 0]\n",
    "arr3 = arr1 + arr2\n",
    "print(arr3)"
   ]
  },
  {
   "cell_type": "code",
   "execution_count": 40,
   "metadata": {},
   "outputs": [
    {
     "name": "stdout",
     "output_type": "stream",
     "text": [
      "['B', 'i', 'o', 'l', 'o', 'g', 'i', 'e']\n"
     ]
    }
   ],
   "source": [
    "arr1 = [\"B\", \"i\", \"o\", \"l\"]\n",
    "arr2 = [\"o\", \"g\", \"i\", \"e\"]\n",
    "arr3 = arr1 + arr2\n",
    "print(arr3)"
   ]
  },
  {
   "cell_type": "code",
   "execution_count": 41,
   "metadata": {},
   "outputs": [
    {
     "name": "stdout",
     "output_type": "stream",
     "text": [
      "['C', 'h', 'i', 'm', 'i', 'e']\n"
     ]
    }
   ],
   "source": [
    "arr1 = [\"C\", \"h\", \"i\"]\n",
    "arr2 = [\"m\", \"i\", \"e\"]\n",
    "arr3 = arr1 + arr2\n",
    "print(arr3)"
   ]
  },
  {
   "cell_type": "markdown",
   "metadata": {},
   "source": [
    "Q4-Quelle est l'affichage pour ?\n",
    "\n",
    "a) ‘h’\n",
    "b) ‘t’\n",
    "c) ‘o’\n",
    "c) Erreur : index négatif."
   ]
  },
  {
   "cell_type": "code",
   "execution_count": 12,
   "metadata": {},
   "outputs": [
    {
     "name": "stdout",
     "output_type": "stream",
     "text": [
      "h\n",
      "o\n",
      "h\n",
      "o\n"
     ]
    }
   ],
   "source": [
    "print(\"python\"[-3])\n",
    "print(\"programmation\"[-11])\n",
    "print(\"chimie\"[-5])\n",
    "print(\"biologie\"[-4])"
   ]
  },
  {
   "cell_type": "markdown",
   "metadata": {},
   "source": [
    "Q6?-uelle sera la sortie du code suivant?\n",
    "ma_liste = ['a','b','c','d']\n",
    "print \"\".join(ma_liste)\n",
    "a) [‘a’,’b’,’c’,’d’]\n",
    "b) abcd\n",
    "c) Null\n",
    "d) Erreur"
   ]
  },
  {
   "cell_type": "code",
   "execution_count": 17,
   "metadata": {},
   "outputs": [
    {
     "name": "stdout",
     "output_type": "stream",
     "text": [
      "p-y-t-h-o-n\n"
     ]
    }
   ],
   "source": [
    "ma_liste = [\"p\", \"y\", \"t\", \"h\", \"o\", \"n\"]\n",
    "print(\"-\".join(ma_liste))"
   ]
  },
  {
   "cell_type": "markdown",
   "metadata": {},
   "source": [
    "Q4-Ecrire un programme qui:\n",
    "- fait la multiplication des nombres de la liste, à l'aide d'une boucle while.\n",
    "- affiche chaque mots de la liste, à l'aide d'une boucle while \n",
    "- fait la multiplication des nombres de la liste, à l'aide d'une boucle for.\n",
    "- affiche chaque mots de la liste, à l'aide d'une boucle for "
   ]
  },
  {
   "cell_type": "code",
   "execution_count": 43,
   "metadata": {},
   "outputs": [
    {
     "name": "stdout",
     "output_type": "stream",
     "text": [
      "Multiplication =  120\n"
     ]
    }
   ],
   "source": [
    "nombres = [1, 2, 3, 4, 5]\n",
    "multiplication = 1\n",
    "i = 0\n",
    "\n",
    "while i < len(nombres):\n",
    "    multiplication *= nombres[i]\n",
    "    i += 1\n",
    "\n",
    "print(\"Multiplication = \", multiplication)\n"
   ]
  },
  {
   "cell_type": "code",
   "execution_count": 34,
   "metadata": {},
   "outputs": [
    {
     "name": "stdout",
     "output_type": "stream",
     "text": [
      "Lavoisier : Rien ne se perd\n"
     ]
    }
   ],
   "source": [
    "mots = [\"Lavoisier \", \": \", \"Rien \", \"ne \", \"se \", \"perd\"]\n",
    "phrase = \"\"\n",
    "i = 0\n",
    "\n",
    "while i < len(mots):\n",
    "    phrase += mots[i]\n",
    "    i += 1\n",
    "    \n",
    "print(phrase)"
   ]
  },
  {
   "cell_type": "code",
   "execution_count": 44,
   "metadata": {},
   "outputs": [
    {
     "name": "stdout",
     "output_type": "stream",
     "text": [
      "Multiplication =  120\n"
     ]
    }
   ],
   "source": [
    "nombres = [1, 2, 3, 4, 5]\n",
    "taille = len(nombres)\n",
    "multiplication = 1\n",
    "\n",
    "for i in range(taille):\n",
    "    multiplication *= nombres[i]\n",
    "print(\"Multiplication = \", multiplication)\n"
   ]
  },
  {
   "cell_type": "code",
   "execution_count": 37,
   "metadata": {},
   "outputs": [
    {
     "name": "stdout",
     "output_type": "stream",
     "text": [
      "Lavoisier (suite): Tout se transforme \n"
     ]
    }
   ],
   "source": [
    "mots = [\"Lavoisier (suite)\", \": \", \"Tout \", \"se \", \"transforme.\"]\n",
    "taille = len(mots)\n",
    "phrase = \"\"\n",
    "i = 0\n",
    "\n",
    "for i in range(taille):\n",
    "    phrase += mots[i]\n",
    "print(phrase)"
   ]
  }
 ],
 "metadata": {
  "kernelspec": {
   "display_name": "Python 3",
   "language": "python",
   "name": "python3"
  },
  "language_info": {
   "codemirror_mode": {
    "name": "ipython",
    "version": 3
   },
   "file_extension": ".py",
   "mimetype": "text/x-python",
   "name": "python",
   "nbconvert_exporter": "python",
   "pygments_lexer": "ipython3",
   "version": "3.11.9"
  }
 },
 "nbformat": 4,
 "nbformat_minor": 2
}
