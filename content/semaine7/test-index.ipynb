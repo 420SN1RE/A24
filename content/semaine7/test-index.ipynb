{
 "cells": [
  {
   "cell_type": "code",
   "execution_count": 1,
   "metadata": {},
   "outputs": [
    {
     "name": "stdout",
     "output_type": "stream",
     "text": [
      "L'indice de l'élément 'banane' est : 1. 'babane' est donc le 2e élément\n"
     ]
    }
   ],
   "source": [
    "# Créer une liste\n",
    "fruits = ['pomme', 'banane', 'cerise', 'banane']\n",
    "\n",
    "# Trouver la position de 'banane'\n",
    "indice_banane = fruits.index('banane')\n",
    "\n",
    "print(f\"L'indice de l'élément 'banane' est : {indice_banane}. 'babane' est donc le {indice_banane+1}e élément\")"
   ]
  }
 ],
 "metadata": {
  "kernelspec": {
   "display_name": "Python 3",
   "language": "python",
   "name": "python3"
  },
  "language_info": {
   "codemirror_mode": {
    "name": "ipython",
    "version": 3
   },
   "file_extension": ".py",
   "mimetype": "text/x-python",
   "name": "python",
   "nbconvert_exporter": "python",
   "pygments_lexer": "ipython3",
   "version": "3.11.9"
  }
 },
 "nbformat": 4,
 "nbformat_minor": 2
}
