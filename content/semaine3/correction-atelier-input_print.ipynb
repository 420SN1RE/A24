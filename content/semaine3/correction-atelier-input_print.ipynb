{
 "cells": [
  {
   "cell_type": "markdown",
   "metadata": {},
   "source": [
    "## Exercice 1 : Calcul de la moyenne de trois nombres\n",
    "\n",
    "Écrire un programme qui demande à l'utilisateur de saisir trois nombres entiers, calcul la moyenne des trois nombres et affiche le résultat précédé de la phrase \"La moyenne des trois nombres est: \""
   ]
  },
  {
   "cell_type": "code",
   "execution_count": 1,
   "metadata": {},
   "outputs": [
    {
     "name": "stdout",
     "output_type": "stream",
     "text": [
      "La moyenne des trois nombres est:  20.0\n"
     ]
    }
   ],
   "source": [
    "# Votre code ici\n",
    "\n",
    "nombre1 = int(input(\"Entrez le premier nombre: \"))\n",
    "nombre2 = int(input(\"Entrez le deuxième nombre: \"))\n",
    "nombre3 = int(input(\"Entrez le troisième nombre: \"))\n",
    "\n",
    "moyenne = (nombre1 + nombre2 + nombre3) / 3\n",
    "\n",
    "print(\"La moyenne des trois nombres est: \", moyenne)"
   ]
  },
  {
   "cell_type": "markdown",
   "metadata": {},
   "source": [
    "## Exercice 2 : Calcul de la somme de deux nombres\n",
    "\n",
    "Écrire un programme qui demande à l'utilisateur de saisir deux nombres réels, calcul la somme des deux nombres et affiche le résultat précédé de la phrase \"La somme des deux nombres est: \""
   ]
  },
  {
   "cell_type": "code",
   "execution_count": 3,
   "metadata": {},
   "outputs": [
    {
     "name": "stdout",
     "output_type": "stream",
     "text": [
      "La somme des deux nombres est:  5.6\n"
     ]
    }
   ],
   "source": [
    "# Votre code ici\n",
    "\n",
    "nombre1_reel = float(input(\"Entrez le premier nombre réel: \"))\n",
    "nombre2_reel = float(input(\"Entrez le deuxième nombre réel: \"))\n",
    "\n",
    "somme = nombre1_reel + nombre2_reel\n",
    "\n",
    "print(\"La somme des deux nombres est: \", somme)\n"
   ]
  },
  {
   "cell_type": "markdown",
   "metadata": {},
   "source": [
    "## Exercice 3 : Conversion de température (Fahrenheit à Celsius)\n",
    "\n",
    "Écrire un programme qui demande à l'utilisateur de saisir une température en Fahrenheit, puis converti la température en Celsius et affiche le résultat avec la phrase \"La température valeur_F F équivaut à valeur_C degrès Celsius\".\n",
    "\n",
    "**Formule de conversion**: C = (F - 32) * 5/9"
   ]
  },
  {
   "cell_type": "code",
   "execution_count": 4,
   "metadata": {},
   "outputs": [
    {
     "name": "stdout",
     "output_type": "stream",
     "text": [
      "La température 273 F équivaut à 133.88888888888889 degrès Celsius\n"
     ]
    }
   ],
   "source": [
    "# Votre code ici\n",
    "\n",
    "tempF = int(input(\"Entrez la température en Farenheit: \"))\n",
    "tempC = (tempF - 32) * 5/9\n",
    "print(\"La température\", tempF, \"F\", \"équivaut à\", tempC, \"degrès Celsius\")"
   ]
  },
  {
   "cell_type": "markdown",
   "metadata": {},
   "source": [
    "## Exercice 4 : Calcul de l’aire d’un rectangle\n",
    "\n",
    "Écrire un programme qui demande à l'utilisateur de saisir la longueur et la largeur d'un rectangle (en cm), calcul l'aire et affiche le résultat avec la phrase \"L'aire du rectangle de longueur valeur_longeur et de largeur valeur_largeur est: \"\n",
    "\n",
    "**Formule de l'aire d'un rectangle**: longueur * largeur"
   ]
  },
  {
   "cell_type": "code",
   "execution_count": 5,
   "metadata": {},
   "outputs": [
    {
     "name": "stdout",
     "output_type": "stream",
     "text": [
      "L'aire du rectangle de longueur 12 et de largeur 10 est:  120\n"
     ]
    }
   ],
   "source": [
    "# Votre code ici\n",
    "\n",
    "longueur = int(input(\"Entrez la longueur du rectangle: \"))\n",
    "largeur = int(input(\"Entrez la largeur du rectangle: \"))\n",
    "\n",
    "aire = longueur * largeur\n",
    "\n",
    "print(\"L'aire du rectangle de longueur\", longueur, \"et de largeur\", largeur, \"est: \", aire)"
   ]
  },
  {
   "cell_type": "markdown",
   "metadata": {},
   "source": [
    "## Exercice 5 : Calcul de la circonférence d’un cercle\n",
    "\n",
    "Écrire un programme qui demande à l'utilisateur de saisir le rayon d'un cercle, calcul la circonférence du cercle et affiche le résultat avec la phrase \"L'aire du rectangle de longueur valeur_longeur et de largeur valeur_largeur est: \"\n",
    "\n",
    "**Formule de la circonférence** : multiplier le rayon par 2, puis multiplier le résultat par π (pi, utilisez la valeur 3.14. On verra plus tard comment utiliser le module mathématique)."
   ]
  },
  {
   "cell_type": "code",
   "execution_count": null,
   "metadata": {},
   "outputs": [],
   "source": [
    "# Votre code ici\n",
    "\n",
    "# Demander à l'utilisateur de saisir le rayon du cercle\n",
    "rayon = float(input(\"Veuillez saisir le rayon du cercle : \"))\n",
    "\n",
    "# Calculer la circonférence du cercle\n",
    "circonference = 2 * 3.14 * rayon\n",
    "\n",
    "# Afficher le résultat\n",
    "print(\"L'aire du rectangle de longueur\", rayon, \"et de largeur\", rayon, \"est:\", circonference)\n",
    "\n",
    "\n"
   ]
  }
 ],
 "metadata": {
  "kernelspec": {
   "display_name": "Python 3",
   "language": "python",
   "name": "python3"
  },
  "language_info": {
   "codemirror_mode": {
    "name": "ipython",
    "version": 3
   },
   "file_extension": ".py",
   "mimetype": "text/x-python",
   "name": "python",
   "nbconvert_exporter": "python",
   "pygments_lexer": "ipython3",
   "version": "3.11.9"
  }
 },
 "nbformat": 4,
 "nbformat_minor": 2
}
