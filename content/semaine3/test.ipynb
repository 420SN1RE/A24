# Demander à l'utilisateur de saisir son nom
nom = input("Entrez votre nom : ")

# Afficher un message de bienvenue
print("Bonjour", nom)