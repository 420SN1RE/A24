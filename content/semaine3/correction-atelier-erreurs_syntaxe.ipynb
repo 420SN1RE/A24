{
 "cells": [
  {
   "cell_type": "markdown",
   "metadata": {},
   "source": [
    "Ces exercices contiennent des erreurs de syntaxe.   \n",
    "- Pour les exercices 1-6, expliquez les erreurs et écrivez le code corrigé.  \n",
    "- Pour l'exercice 7, vous pouvez utiliser les méthodes `print` et `type` pour trouver les erreurs. Écrivez le code corrigé.  \n",
    "**NB**: Laissez les `print` et `type` utilisés pour déboguer, mais mettez les en commentaires une fois le code corrigé."
   ]
  },
  {
   "cell_type": "markdown",
   "metadata": {},
   "source": [
    "### Exercice 1\n",
    "def dire_bonjour():\n",
    "print(\"Bonjour tout le monde !\")\n",
    "    print(\"Comment ça va ?\")"
   ]
  },
  {
   "cell_type": "markdown",
   "metadata": {},
   "source": [
    "Expliquez l'erreur: Le 1er print n'est pas indenté, ce qui causera l'erreur IndentationError"
   ]
  },
  {
   "cell_type": "code",
   "execution_count": 1,
   "metadata": {},
   "outputs": [],
   "source": [
    "# Code corrigé\n",
    "\n",
    "def dire_bonjour():\n",
    "    print(\"Bonjour tout le monde !\")\n",
    "    print(\"Comment ça va ?\")"
   ]
  },
  {
   "cell_type": "markdown",
   "metadata": {},
   "source": [
    "### Exercice 2\n",
    "\n",
    "1variable = 10\n",
    "print(1variable)\n"
   ]
  },
  {
   "cell_type": "markdown",
   "metadata": {},
   "source": [
    "Expliquez l'erreur: Une variable ne peut pas commencer par un chiffre"
   ]
  },
  {
   "cell_type": "code",
   "execution_count": 11,
   "metadata": {},
   "outputs": [],
   "source": [
    "# Code corrigé\n",
    "\n",
    "variable = 10\n",
    "print(variable)"
   ]
  },
  {
   "cell_type": "markdown",
   "metadata": {},
   "source": [
    "### Exercice 3\n",
    "\n",
    "def dire_bonjour():\n",
    "    print(\"Bonjour!\")\n",
    "\n",
    "dire_Bonjour()"
   ]
  },
  {
   "cell_type": "markdown",
   "metadata": {},
   "source": [
    "Expliquez l'erreur: Le nom 'dire_Bonjour()' contient un 'B' majuscule au lieu de minuscule."
   ]
  },
  {
   "cell_type": "code",
   "execution_count": null,
   "metadata": {},
   "outputs": [],
   "source": [
    "# Code corrigé\n",
    "\n",
    "def dire_bonjour():\n",
    "    print(\"Bonjour!\")\n",
    "\n",
    "dire_bonjour()"
   ]
  },
  {
   "cell_type": "markdown",
   "metadata": {},
   "source": [
    "### Exercice 4\n",
    "\n",
    "a = \"10\"\n",
    "b = 5\n",
    "c = a + b\n",
    "print(c)"
   ]
  },
  {
   "cell_type": "markdown",
   "metadata": {},
   "source": [
    "Expliquez l'erreur: la variable 'a' est de type chaine de caractères. Pour l'additionner à 'b', il faut d'abord la convertir en entier."
   ]
  },
  {
   "cell_type": "code",
   "execution_count": 2,
   "metadata": {},
   "outputs": [
    {
     "name": "stdout",
     "output_type": "stream",
     "text": [
      "15\n"
     ]
    }
   ],
   "source": [
    "# Code corrigé\n",
    "\n",
    "a = \"10\"\n",
    "b = 5\n",
    "c = int(a) + b\n",
    "print(c)"
   ]
  },
  {
   "cell_type": "markdown",
   "metadata": {},
   "source": [
    "### Exercice 5\n",
    "\n",
    "x = 10\n",
    "y = 0\n",
    "z = x / y\n",
    "print(z)\n"
   ]
  },
  {
   "cell_type": "markdown",
   "metadata": {},
   "source": [
    "Expliquez l'erreur: y = 0. La division par 0 cause une erreur. Il faut changer la valeur de y ou la division."
   ]
  },
  {
   "cell_type": "code",
   "execution_count": 13,
   "metadata": {},
   "outputs": [],
   "source": [
    "# Code corrigé\n",
    "\n",
    "x = 10\n",
    "y = 2\n",
    "z = x / y\n",
    "print(z)"
   ]
  },
  {
   "cell_type": "markdown",
   "metadata": {},
   "source": [
    "### Exercice 6\n",
    "\n",
    "print \"x est égal à 10\")\n"
   ]
  },
  {
   "cell_type": "markdown",
   "metadata": {},
   "source": [
    "Expliquez l'erreur: Il manque la parenthèse ouvrante de la méthode print."
   ]
  },
  {
   "cell_type": "code",
   "execution_count": 14,
   "metadata": {},
   "outputs": [],
   "source": [
    "# Code corrigé\n",
    "\n",
    "print(\"x est égal à 10\")"
   ]
  },
  {
   "cell_type": "markdown",
   "metadata": {},
   "source": [
    "### Exercice 7\n",
    "\n",
    "x = input(\"Entrez le premier nombre un réel : \")\n",
    "y = input(\"Entrez le deuxième nombre un entier: \")\n",
    "z = input(\"Entrez le troisième nombre un réel : \")\n",
    "\n",
    "total = x + y + z\n",
    "print(\"La somme des trois nombres est :\", total)"
   ]
  },
  {
   "cell_type": "markdown",
   "metadata": {},
   "source": [
    "Expliquez l'erreur: 'x', 'y' et 'z' sont de type chaines de caractères. L'opération total est donc une concaténation au lieu d'une somme. Pour avoir une addition, il faut convertir les variables en réel, entier et réel."
   ]
  },
  {
   "cell_type": "code",
   "execution_count": null,
   "metadata": {},
   "outputs": [],
   "source": [
    "# Code corrigé\n",
    "\n",
    "x = float(input(\"Entrez le premier nombre un réel : \"))\n",
    "y = int(input(\"Entrez le deuxième nombre un entier: \"))\n",
    "z = float(input(\"Entrez le troisième nombre un réel : \"))\n",
    "\n",
    "total = x + y + z\n",
    "print(\"La somme des trois nombres est :\", total)"
   ]
  }
 ],
 "metadata": {
  "kernelspec": {
   "display_name": "Python 3",
   "language": "python",
   "name": "python3"
  },
  "language_info": {
   "codemirror_mode": {
    "name": "ipython",
    "version": 3
   },
   "file_extension": ".py",
   "mimetype": "text/x-python",
   "name": "python",
   "nbconvert_exporter": "python",
   "pygments_lexer": "ipython3",
   "version": "3.11.9"
  }
 },
 "nbformat": 4,
 "nbformat_minor": 2
}
