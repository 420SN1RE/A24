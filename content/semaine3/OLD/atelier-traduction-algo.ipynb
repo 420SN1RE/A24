{
 "cells": [
  {
   "cell_type": "markdown",
   "metadata": {},
   "source": [
    "### Exercice 1. Calcul de la concentration molaire\n",
    "\n",
    "Traduire l'algorithme suivant en code Python:\n",
    "   - Demander la quantité de substance en moles.\n",
    "   - Demander le volume de la solution en litres.\n",
    "   - Calculer la concentration molaire (moles/volume).\n",
    "   - Afficher la concentration molaire."
   ]
  },
  {
   "cell_type": "code",
   "execution_count": null,
   "metadata": {},
   "outputs": [],
   "source": [
    "# Votre code ici\n"
   ]
  },
  {
   "cell_type": "markdown",
   "metadata": {},
   "source": [
    "### Exercice 2. Détermination du pH\n",
    "   \n",
    "L'algorithme pour déterminer le pH d'une solution est le suivant:\n",
    "   - Demander la concentration en ions hydrogène (H+).\n",
    "   - Calculer le pH en utilisant la formule $$ pH = -\\log_{10}[H^+] $$.\n",
    "   - Afficher le pH.\n",
    "Traduire cet algorithme en code Python."
   ]
  },
  {
   "cell_type": "code",
   "execution_count": null,
   "metadata": {},
   "outputs": [],
   "source": [
    "# Votre code ici\n",
    "import math # Pour pouvoir utiliser math.log10() et calculer le pH\n",
    "\n"
   ]
  },
  {
   "cell_type": "markdown",
   "metadata": {},
   "source": [
    "### Exercice 3. Cycle de vie d'une grenouille\n",
    "\n",
    "Écrire un programme qui simule le cycle de vie d'une grenouille. L'algorithme pourrait inclure:\n",
    "   - Demander le stade actuel de la grenouille (œuf, têtard, grenouille).\n",
    "   - Si c'est un œuf, afficher les conditions pour devenir un têtard.\n",
    "   - Si c'est un têtard, afficher les conditions pour devenir une grenouille.\n",
    "   - Si c'est une grenouille, afficher un message de félicitations."
   ]
  },
  {
   "cell_type": "code",
   "execution_count": null,
   "metadata": {},
   "outputs": [],
   "source": [
    "# Votre code ici\n"
   ]
  },
  {
   "cell_type": "markdown",
   "metadata": {},
   "source": [
    "### Exercice 4. Évaluation des élèves\n",
    "\n",
    "Traduire l'algorithme suivant: \n",
    "1. Obtenir le score de l'élève.\n",
    "2. Si le score est 90 ou plus, alors l'élève est dans la catégorie \"Excellent\".\n",
    "3. Sinon, si le score est 80 ou plus, alors l'élève est dans la catégorie \"Très bien\".\n",
    "4. Sinon, si le score est 70 ou plus, alors l'élève est dans la catégorie \"Bien\".\n",
    "5. Sinon, si le score est 60 ou plus, alors l'élève est dans la catégorie \"Assez bien\".\n",
    "6. Sinon, l'élève est dans la catégorie \"À améliorer\"."
   ]
  },
  {
   "cell_type": "code",
   "execution_count": null,
   "metadata": {},
   "outputs": [],
   "source": [
    "# Votre code ici\n"
   ]
  }
 ],
 "metadata": {
  "language_info": {
   "name": "python"
  }
 },
 "nbformat": 4,
 "nbformat_minor": 2
}
