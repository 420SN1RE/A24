{
 "cells": [
  {
   "cell_type": "code",
   "execution_count": 1,
   "metadata": {},
   "outputs": [
    {
     "name": "stdout",
     "output_type": "stream",
     "text": [
      "[1 2 3 4 5]\n",
      "[[1 2 3]\n",
      " [4 5 6]]\n"
     ]
    }
   ],
   "source": [
    "import numpy as np\n",
    "\n",
    "# Création d'un tableau 1D\n",
    "a = np.array([1, 2, 3, 4, 5])\n",
    "\n",
    "# Création d'un tableau 2D (Matrice)\n",
    "b = np.array([[1, 2, 3], [4, 5, 6]])\n",
    "\n",
    "print(a)\n",
    "print(b)\n",
    "\n"
   ]
  },
  {
   "cell_type": "code",
   "execution_count": 3,
   "metadata": {},
   "outputs": [
    {
     "name": "stdout",
     "output_type": "stream",
     "text": [
      "3\n",
      "6\n"
     ]
    }
   ],
   "source": [
    "# Accès à un élément du tableau 1D\n",
    "print(a[2])  # Sortie: 3\n",
    "    \n",
    "# Accès à un élément du tableau 2D\n",
    "print(b[1, 2])  # Sortie: 6\n"
   ]
  },
  {
   "cell_type": "code",
   "execution_count": 9,
   "metadata": {},
   "outputs": [
    {
     "name": "stdout",
     "output_type": "stream",
     "text": [
      "b transformé : \n",
      "[[1 2]\n",
      " [3 4]\n",
      " [5 6]]\n",
      "b transposé : \n",
      "[[1 4]\n",
      " [2 5]\n",
      " [3 6]]\n"
     ]
    }
   ],
   "source": [
    " b_reshaped = b.reshape(3, 2)\n",
    "#print(b_reshaped)\n",
    "print(f\"b transformé : \\n{b_reshaped}\")\n",
    "\n",
    "# Transpose\n",
    "b_transposed = b.T\n",
    "print(f\"b transposé : \\n{b_transposed}\")\n"
   ]
  }
 ],
 "metadata": {
  "kernelspec": {
   "display_name": "Python 3",
   "language": "python",
   "name": "python3"
  },
  "language_info": {
   "codemirror_mode": {
    "name": "ipython",
    "version": 3
   },
   "file_extension": ".py",
   "mimetype": "text/x-python",
   "name": "python",
   "nbconvert_exporter": "python",
   "pygments_lexer": "ipython3",
   "version": "3.11.9"
  }
 },
 "nbformat": 4,
 "nbformat_minor": 2
}
