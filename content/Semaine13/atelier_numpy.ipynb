{
 "cells": [
  {
   "cell_type": "markdown",
   "metadata": {},
   "source": [
    "# Premier pas avec Numpy\n",
    "\n",
    "Importer la librairie Numpy dans votre notebook, et n'oubliez pas de lui donner l'alias `np`."
   ]
  },
  {
   "cell_type": "code",
   "execution_count": null,
   "metadata": {},
   "outputs": [],
   "source": [
    "# Votre code ci-dessous\n"
   ]
  },
  {
   "cell_type": "markdown",
   "metadata": {},
   "source": [
    "# Listes numpy - ndarray"
   ]
  },
  {
   "cell_type": "markdown",
   "metadata": {},
   "source": [
    "Conververtissez la liste ci dessous en `ndarray`, dans une nouvelle variable nommée `tableau`. Affichez ce nouveau tableau et son type pour confirmer que la conversion à bien marché. Affichez également la liste et son type.\n",
    "\n",
    "Remarquez-vous une différence entre les deux affichage de liste ?"
   ]
  },
  {
   "cell_type": "code",
   "execution_count": null,
   "metadata": {},
   "outputs": [],
   "source": [
    "liste = [10,20,30,40,50,60]\n",
    "\n",
    "# Votre code ci-dessous\n"
   ]
  },
  {
   "cell_type": "markdown",
   "metadata": {},
   "source": [
    "1. Affichez maintenant le 3ieme éléments de la variable `tableau` en utilisant un `fstring`.\n",
    "1. Créez un sous tabeau (`tableau_2`) à partir de celui créé ci-dessus contenant les valeurs `[30 40 50]`. Affichez le, et affichez son type."
   ]
  },
  {
   "cell_type": "code",
   "execution_count": null,
   "metadata": {},
   "outputs": [],
   "source": [
    "# 1\n",
    "\n",
    "# 2\n"
   ]
  },
  {
   "cell_type": "markdown",
   "metadata": {},
   "source": [
    "## Générer des listes automatiquement"
   ]
  },
  {
   "cell_type": "markdown",
   "metadata": {},
   "source": [
    "### Version 1\n",
    "\n",
    "Générez automatiquement un tableau allant de -4 à 4 inclus, avec un pas de `0.2`.\n",
    "\n",
    "Affichez ensuite ce tableau et sa longueur (elle doit être de 41).\n",
    "\n",
    "*Pour réduire le nombre de décimales affichées, vous pouvez utiliser la fonction `np.round()` qui est l'équivalent de la fonction python standard `round()`, mais pour tous les éléments d'un `ndarray`. Elles utilisent les mêmes paramètres.*"
   ]
  },
  {
   "cell_type": "code",
   "execution_count": null,
   "metadata": {},
   "outputs": [],
   "source": [
    "# Votre code ci-dessous\n"
   ]
  },
  {
   "cell_type": "markdown",
   "metadata": {},
   "source": [
    "### Version 2\n",
    "\n",
    "Générez le même tableau mais en utilisant la fonction `np.linspace()`.\n",
    "\n",
    "*Note: la question précédente contient un élément qui peut vous aider à déterminer les paramètres à donner a la fonction `linspace`.*"
   ]
  },
  {
   "cell_type": "code",
   "execution_count": null,
   "metadata": {},
   "outputs": [],
   "source": [
    "# Votre code ci-dessous\n"
   ]
  },
  {
   "cell_type": "markdown",
   "metadata": {},
   "source": [
    "# Fonction numpy pour les listes / tableau\n",
    "En utilisant les fonctions prédéfinies dans Numpy, calculez:\n",
    "1. la moyenne de la liste\n",
    "1. la somme de la liste\n",
    "1. la minimum de la liste\n",
    "1. la maximum de la liste"
   ]
  },
  {
   "cell_type": "code",
   "execution_count": null,
   "metadata": {},
   "outputs": [],
   "source": [
    "# Votre code ci-dessous\n"
   ]
  },
  {
   "cell_type": "markdown",
   "metadata": {},
   "source": [
    "# Opérateur sur les tableau"
   ]
  },
  {
   "cell_type": "markdown",
   "metadata": {},
   "source": [
    "Grâce aux opérateurs numérique offert par Numpy, multipliez par $\\pi$ a tous éléments de la variable `tableau`, stocker le résultat dans la variable `tableau_3`.\n",
    "\n",
    "Affichez ensuite le résultat arrondi à 2 décimales."
   ]
  },
  {
   "cell_type": "code",
   "execution_count": null,
   "metadata": {},
   "outputs": [],
   "source": [
    "# Votre code ci-dessous\n"
   ]
  },
  {
   "cell_type": "markdown",
   "metadata": {},
   "source": [
    "Ecrivez la fonction `addition_numpy` qui reproduit le comportement numpy de l'addition d'un tableau avec une valeur numérique.\n",
    "\n",
    "Cette fonction ne doit utiliser aucun élément de Numpy, seulement du Python de base (utilisez des listes pas de `ndarray`).\n",
    "\n",
    "Ensuite donnez un exemple d'utilisation de cette fonction."
   ]
  },
  {
   "cell_type": "code",
   "execution_count": null,
   "metadata": {},
   "outputs": [],
   "source": [
    "# Comportement numpy à reproduire:\n",
    "tableau_4 = tableau + 10\n",
    "print(f\"Résultat de tableau + 10 : {tableau_4}\")\n",
    "\n",
    "# Votre code ici\n",
    "def addition_numpy(liste, valeur):\n",
    "    pass # effacez cette ligne lorsque ecrirez votre code\n",
    "\n",
    "# Votre exemple d'appel de la fonction\n"
   ]
  },
  {
   "cell_type": "markdown",
   "metadata": {},
   "source": [
    "# Numpy et matplotlib\n",
    "Importez la librairie Matplotlib en utilisant l'alias `plt`."
   ]
  },
  {
   "cell_type": "code",
   "execution_count": null,
   "metadata": {},
   "outputs": [],
   "source": [
    "# Votre code ci-dessous\n"
   ]
  },
  {
   "cell_type": "markdown",
   "metadata": {},
   "source": [
    "## Tracer des fonctions trigonométrique"
   ]
  },
  {
   "cell_type": "markdown",
   "metadata": {},
   "source": [
    "On souhaite reproduire cette figure:\n",
    "<center><img src=\"https://gentle-bay-07dd22510.5.azurestaticapps.net/cours/numpy/2sinus.jpg\" alt=\"proportions\" width=\"400\"></center>\n",
    "\n",
    "1. La courbe bleue représentant $ y = sin(x) $\n",
    "1. La courbe verte représentant $ y = sin(x + \\pi/2) $\n",
    "\n",
    "Pour les valeurs des $x$ utilisez la fonction `np.linspace()`, pour qu'elle génère 100 valeurs."
   ]
  },
  {
   "cell_type": "code",
   "execution_count": null,
   "metadata": {},
   "outputs": [],
   "source": [
    "# Votre code ci-dessous\n"
   ]
  },
  {
   "cell_type": "markdown",
   "metadata": {},
   "source": [
    "Que se passe-t-il lorsque le nombre de valeurs générées par `linspace` est 10 ? Pouvez-vous l'expliquer ?\n",
    "\n",
    "*Note: Faites le test avant de tenter une explication.*\n",
    "\n",
    "<div class=\"alert alert-block alert-success\">\n",
    "<b>Votre réponse :</b></div>"
   ]
  },
  {
   "cell_type": "markdown",
   "metadata": {},
   "source": [
    "## Tracer des polynomes"
   ]
  },
  {
   "cell_type": "markdown",
   "metadata": {},
   "source": [
    "On souhaite obtenir une représentation graphique du polynome suivant:\n",
    "$$ y = 2x^2 -20$$\n",
    "\n",
    "Créez ce polynome à l'aide de la fonction `np.poly1d()`, affichez le polynome obtenu, puis la valeur de ses racines, et sa valeur quand x=1."
   ]
  },
  {
   "cell_type": "code",
   "execution_count": null,
   "metadata": {},
   "outputs": [],
   "source": [
    "# Votre code ci-dessous\n"
   ]
  },
  {
   "cell_type": "markdown",
   "metadata": {},
   "source": [
    "A l'aide de matplotlib, affichez la représentation graphique de ce polynome pour $x$ variant entre -5 et 5. \n",
    "\n",
    "On souhaite obtenir la représentation suivante:\n",
    "<center><img src=\"https://gentle-bay-07dd22510.5.azurestaticapps.net/cours/numpy/polynome2.jpg\" alt=\"proportions\" width=\"400\"></center>"
   ]
  },
  {
   "cell_type": "code",
   "execution_count": null,
   "metadata": {},
   "outputs": [],
   "source": [
    "# Votre code ici\n"
   ]
  }
 ],
 "metadata": {
  "kernelspec": {
   "display_name": "Python 3",
   "language": "python",
   "name": "python3"
  },
  "language_info": {
   "codemirror_mode": {
    "name": "ipython",
    "version": 3
   },
   "file_extension": ".py",
   "mimetype": "text/x-python",
   "name": "python",
   "nbconvert_exporter": "python",
   "pygments_lexer": "ipython3",
   "version": "3.10.12"
  }
 },
 "nbformat": 4,
 "nbformat_minor": 2
}
