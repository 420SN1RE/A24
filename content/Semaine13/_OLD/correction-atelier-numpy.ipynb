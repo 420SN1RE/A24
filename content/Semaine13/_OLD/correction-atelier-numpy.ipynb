{
 "cells": [
  {
   "cell_type": "markdown",
   "metadata": {},
   "source": [
    "Voici quelques exercices pour vous aider à maîtriser NumPy. Ces exercices couvrent différents aspects de la bibliothèque, des bases aux opérations plus avancées.\n",
    "\n",
    "### Exercice 1: Création et manipulation de tableaux"
   ]
  },
  {
   "cell_type": "code",
   "execution_count": 1,
   "metadata": {},
   "outputs": [
    {
     "name": "stdout",
     "output_type": "stream",
     "text": [
      "[0 1 2 3 4 5 6 7 8 9]\n",
      "[[0.785512   0.78048153 0.67931515]\n",
      " [0.8400485  0.08852692 0.81588159]\n",
      " [0.31021488 0.69996155 0.10106837]]\n",
      "[[0 1 2 3 4]\n",
      " [5 6 7 8 9]]\n"
     ]
    }
   ],
   "source": [
    "# 1. **Créer un tableau 1D** de 10 éléments contenant les nombres de 0 à 9.\n",
    "\n",
    "import numpy as np\n",
    "array_1d = np.arange(10)\n",
    "print(array_1d)\n",
    "\n",
    "\n",
    "# 2. **Créer un tableau 2D** de dimensions 3x3 contenant des nombres aléatoires entre 0 et 1.\n",
    " \n",
    "array_2d = np.random.rand(3, 3)\n",
    "print(array_2d)\n",
    "\n",
    "\n",
    "# 3. **Redimensionner** le tableau 1D créé en un tableau 2D de dimensions 2x5.\n",
    "\n",
    "reshaped_array = array_1d.reshape(2, 5)\n",
    "print(reshaped_array)\n"
   ]
  },
  {
   "cell_type": "markdown",
   "metadata": {},
   "source": [
    "### Exercice 2: Opérations sur les Tableaux\n"
   ]
  },
  {
   "cell_type": "code",
   "execution_count": null,
   "metadata": {},
   "outputs": [],
   "source": [
    "# 1. **Ajouter 5** à chaque élément du tableau 1D.\n",
    " \n",
    "array_plus_5 = array_1d + 5\n",
    "print(array_plus_5)\n",
    "\n",
    "\n",
    "# 2. **Multiplier** chaque élément du tableau 2D par 10.\n",
    "\n",
    "array_2d_multiplied = array_2d * 10\n",
    "print(array_2d_multiplied)\n",
    "\n",
    "\n",
    "# 3. **Calculer la somme** de tous les éléments du tableau 2D.\n",
    "\n",
    "sum_2d = np.sum(array_2d)\n",
    "print(sum_2d)"
   ]
  },
  {
   "cell_type": "markdown",
   "metadata": {},
   "source": [
    "### Exercice 3: Indexation et découpage"
   ]
  },
  {
   "cell_type": "code",
   "execution_count": null,
   "metadata": {},
   "outputs": [],
   "source": [
    "# 1. **Extraire les éléments** du tableau 1D de l'indice 2 à l'indice 5.\n",
    "\n",
    "sliced_array = array_1d[2:6]\n",
    "print(sliced_array)\n",
    "\n",
    "\n",
    "# 2. **Extraire la première colonne** du tableau 2D.\n",
    "\n",
    "first_column = array_2d[:, 0]\n",
    "print(first_column)\n",
    "\n",
    "\n",
    "# 3. **Modifier les éléments** de la deuxième ligne du tableau 2D pour qu'ils soient tous égaux à 0.\n",
    "\n",
    "array_2d[1, :] = 0\n",
    "print(array_2d)\n"
   ]
  },
  {
   "cell_type": "markdown",
   "metadata": {},
   "source": [
    "### Exercice 4: Fonctions mathématiques et statistiques"
   ]
  },
  {
   "cell_type": "code",
   "execution_count": null,
   "metadata": {},
   "outputs": [],
   "source": [
    "# 1. **Calculer la moyenne** des éléments du tableau 1D.\n",
    " \n",
    "mean_1d = np.mean(array_1d)\n",
    "print(mean_1d)\n",
    " \n",
    "\n",
    "# 2. **Calculer l'écart-type** des éléments du tableau 2D.\n",
    " \n",
    "std_2d = np.std(array_2d)\n",
    "print(std_2d)\n",
    "\n",
    "\n",
    "# 3. **Trouver l'élément maximum** et son indice dans le tableau 1D.\n",
    "\n",
    "max_value = np.max(array_1d)\n",
    "max_index = np.argmax(array_1d)\n",
    "print(max_value, max_index)\n",
    "   \n",
    "\n",
    "# 4. **Trouver l'élément minimum** et son indice dans le tableau 1D.\n",
    " \n",
    "min_value = np.min(array_1d)\n",
    "min_index = np.argmin(array_1d)\n",
    "print(min_value, min_index)\n",
    "   \n",
    "\n",
    "# 5. **Calculez la somme**  du tableau 1D\n",
    "\n",
    "tab_sum = np.sum(array_1d)\n",
    "print(tab_sum)  \n"
   ]
  },
  {
   "cell_type": "markdown",
   "metadata": {},
   "source": [
    "### Exercice 5: Génération de données"
   ]
  },
  {
   "cell_type": "code",
   "execution_count": null,
   "metadata": {},
   "outputs": [],
   "source": [
    "# 1. **Créer un tableau** de 20 éléments contenant des nombres aléatoires entiers entre 1 et 100.\n",
    "\n",
    "random_integers = np.random.randint(1, 101, size=20)\n",
    "print(random_integers)\n",
    "\n",
    "\n",
    "# 2. **Créer une matrice identité** de dimensions 4x4.\n",
    "\n",
    "identity_matrix = np.eye(4)\n",
    "print(identity_matrix)\n",
    "\n",
    "\n",
    "# 3. **Générer une séquence** de 50 nombres également espacés entre 0 et 10.\n",
    "\n",
    "linspace_array = np.linspace(0, 10, 50)\n",
    "print(linspace_array)\n"
   ]
  }
 ],
 "metadata": {
  "kernelspec": {
   "display_name": "Python 3",
   "language": "python",
   "name": "python3"
  },
  "language_info": {
   "codemirror_mode": {
    "name": "ipython",
    "version": 3
   },
   "file_extension": ".py",
   "mimetype": "text/x-python",
   "name": "python",
   "nbconvert_exporter": "python",
   "pygments_lexer": "ipython3",
   "version": "3.11.9"
  }
 },
 "nbformat": 4,
 "nbformat_minor": 2
}
