{
 "cells": [
  {
   "cell_type": "markdown",
   "metadata": {},
   "source": [
    "Voici quelques exercices pour vous aider à maîtriser NumPy. Ces exercices couvrent différents aspects de la bibliothèque, des bases aux opérations plus avancées.\n",
    "\n",
    "### Exercice 1: Création et manipulation de tableaux"
   ]
  },
  {
   "cell_type": "code",
   "execution_count": null,
   "metadata": {},
   "outputs": [],
   "source": [
    "# Votre code ici\n",
    "\n",
    "# 1. **Créer un tableau 1D** de 10 éléments contenant les nombres de 0 à 9.\n",
    "\n",
    "# 2. **Créer un tableau 2D** de dimensions 3x3 contenant des nombres aléatoires entre 0 et 1.\n",
    "\n",
    "# 3. **Redimensionner** le tableau 1D créé en un tableau 2D de dimensions 2x5."
   ]
  },
  {
   "cell_type": "markdown",
   "metadata": {},
   "source": [
    "### Exercice 2: Opérations sur les Tableaux"
   ]
  },
  {
   "cell_type": "code",
   "execution_count": null,
   "metadata": {},
   "outputs": [],
   "source": [
    "# Votre code ici\n",
    "\n",
    "# 1. **Ajouter 5** à chaque élément du tableau 1D.\n",
    "\n",
    "# 2. **Multiplier** chaque élément du tableau 2D par 10.\n",
    "\n",
    "# 3. **Calculer la somme** de tous les éléments du tableau 2D.\n"
   ]
  },
  {
   "cell_type": "markdown",
   "metadata": {},
   "source": [
    "### Exercice 3: Indexation et découpage"
   ]
  },
  {
   "cell_type": "code",
   "execution_count": null,
   "metadata": {},
   "outputs": [],
   "source": [
    "# Votre code ici\n",
    "\n",
    "# 1. **Extraire les éléments** du tableau 1D de l'indice 2 à l'indice 5.\n",
    "\n",
    "# 2. **Extraire la première colonne** du tableau 2D.\n",
    "\n",
    "# 3. **Modifier les éléments** de la deuxième ligne du tableau 2D pour qu'ils soient tous égaux à 0.\n"
   ]
  },
  {
   "cell_type": "markdown",
   "metadata": {},
   "source": [
    "### Exercice 4: Fonctions mathématiques et statistiques\n"
   ]
  },
  {
   "cell_type": "code",
   "execution_count": null,
   "metadata": {},
   "outputs": [],
   "source": [
    "# Votre code ici\n",
    "\n",
    "# 1. **Calculer la moyenne** des éléments du tableau 1D.\n",
    "\n",
    "# 2. **Calculer l'écart-type** des éléments du tableau 2D.\n",
    "\n",
    "# 3. **Trouver l'élément maximum** et son indice dans le tableau 1D.\n",
    "\n",
    "# 4. **Trouver l'élément minimum** et son indice dans le tableau 1D.\n",
    "\n",
    "# 5. **Calculez la somme**  du tableau 1D"
   ]
  },
  {
   "cell_type": "markdown",
   "metadata": {},
   "source": [
    "### Exercice 5: Génération de données   "
   ]
  },
  {
   "cell_type": "code",
   "execution_count": null,
   "metadata": {},
   "outputs": [],
   "source": [
    "# Votre code ici\n",
    "\n",
    "# 1. **Créer un tableau** de 20 éléments contenant des nombres aléatoires entiers entre 1 et 100.\n",
    "\n",
    "# 2. **Créer une matrice identité** de dimensions 4x4.\n",
    "\n",
    "# 3. **Générer une séquence** de 50 nombres également espacés entre 0 et 10."
   ]
  }
 ],
 "metadata": {
  "kernelspec": {
   "display_name": "Python 3",
   "language": "python",
   "name": "python3"
  },
  "language_info": {
   "codemirror_mode": {
    "name": "ipython",
    "version": 3
   },
   "file_extension": ".py",
   "mimetype": "text/x-python",
   "name": "python",
   "nbconvert_exporter": "python",
   "pygments_lexer": "ipython3",
   "version": "3.11.9"
  }
 },
 "nbformat": 4,
 "nbformat_minor": 2
}
