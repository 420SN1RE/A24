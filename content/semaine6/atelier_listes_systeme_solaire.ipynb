{
 "cells": [
  {
   "cell_type": "markdown",
   "metadata": {},
   "source": [
    "# Mission d'exploration du système solaire\n",
    "\n",
    "Contexte : Vous êtes des scientifiques de la NASA chargés d'analyser des données sur les planètes du système solaire. Vous devez extraire, organiser et analyser ces données pour mieux comprendre les caractéristiques des planètes et préparer des rapports scientifiques.\n",
    "\n",
    "Objectifs d'apprentissage\n",
    "1. Maîtriser la manipulation des listes en Python : Apprendre à créer, manipuler et extraire des informations de listes de données.\n",
    "1. Effectuer des analyses statistiques.\n",
    "\n",
    "\n",
    "### Exercice 1 : Collecte de données\n",
    "\n",
    "Dans un premier temps, vous allez collecter les informations de plusieurs planètes provenant de ce site : [tableau récapitulatif sur les planètes](http://www.astrosurf.com/luxorion/sysol-tableau.htm)"
   ]
  },
  {
   "cell_type": "markdown",
   "metadata": {},
   "source": [
    "1. Stocker dans une liste les informations suivantes (chaîne de caractères) : distance, diamètre, masse, densité.\n",
    "\n",
    "Nommez cette liste `informations`"
   ]
  },
  {
   "cell_type": "code",
   "execution_count": null,
   "metadata": {},
   "outputs": [],
   "source": [
    "#\n",
    "# Votre code ici\n",
    "#"
   ]
  },
  {
   "cell_type": "markdown",
   "metadata": {},
   "source": [
    "2. Collecter les informations pour les planètes *Mercure*, *Venus*, *Terre*, *Mars* sous forme de liste. Une par planète, suivant l'ordre des `informations`."
   ]
  },
  {
   "cell_type": "code",
   "execution_count": null,
   "metadata": {},
   "outputs": [],
   "source": [
    "#\n",
    "# Votre code ici\n",
    "#"
   ]
  },
  {
   "cell_type": "markdown",
   "metadata": {},
   "source": [
    "3. Ajouter au bout de vos listes la gravité de chacune des planètes.\n",
    "Ne pas oublier d'ajouter la chaîne de caractère à la liste `informations`."
   ]
  },
  {
   "cell_type": "code",
   "execution_count": null,
   "metadata": {},
   "outputs": [],
   "source": [
    "#\n",
    "# Votre code ici\n",
    "#"
   ]
  },
  {
   "cell_type": "markdown",
   "metadata": {},
   "source": [
    "4. Les informations de la planète Jupiter vous sont fournis mais semblent ne pas correspondrent aux informations relevés sur le site. A l'aide de la fonction \"pop()\", supprimer les éléments en trop."
   ]
  },
  {
   "cell_type": "code",
   "execution_count": null,
   "metadata": {},
   "outputs": [],
   "source": [
    "#\n",
    "# Votre code ici\n",
    "#"
   ]
  },
  {
   "cell_type": "markdown",
   "metadata": {},
   "source": [
    "5. Mettre la liste dans l'ordre des informations relevées sur le site."
   ]
  },
  {
   "cell_type": "code",
   "execution_count": null,
   "metadata": {},
   "outputs": [],
   "source": [
    "#\n",
    "# Votre code ici\n",
    "#"
   ]
  },
  {
   "cell_type": "markdown",
   "metadata": {},
   "source": [
    "6. Insérer la gravité en utilisant la fonction insert()."
   ]
  },
  {
   "cell_type": "code",
   "execution_count": null,
   "metadata": {},
   "outputs": [],
   "source": [
    "#\n",
    "# Votre code ici\n",
    "#"
   ]
  },
  {
   "cell_type": "markdown",
   "metadata": {},
   "source": [
    "### Exercice 2 : Manipulation des listes\n",
    "\n",
    "A l'aide des informations ci-dessous, présentées d'une manière différente, vous allez effectuer quelques analyses statistiques simples."
   ]
  },
  {
   "cell_type": "code",
   "execution_count": 97,
   "metadata": {},
   "outputs": [],
   "source": [
    "# Nouvelles informations\n",
    "\n",
    "planetes = [\"Mars\", \"Mercure\", \"Jupiter\", \"Venus\", \"Terre\"]\n",
    "distances = [227.9, 58, 778.3, 108.2, 149.6]\n",
    "diametres = [6790, 4878, 142984, 12104, 12756]\n",
    "masses = [0.642, 0.33, 1898, 4.87, 5.97]\n",
    "gravites = [0.38, 0.38, 2.54, 0.91, 1]\n"
   ]
  },
  {
   "cell_type": "markdown",
   "metadata": {},
   "source": [
    "1. Afficher les informations des cinq planètes ci-dessus.\n",
    "\n",
    "Exemple d'affichage :\n",
    "\n",
    "Voici les informations pour la planète XX : \\\n",
    "Sa distance au soleil est : XX \\\n",
    "Son diamètre est : XX \\\n",
    "Sa masse est : XX \\\n",
    "Sa gravité par rapport à la terre est : XX \\\n",
    "\\----------------------------------------------"
   ]
  },
  {
   "cell_type": "code",
   "execution_count": null,
   "metadata": {},
   "outputs": [],
   "source": [
    "#\n",
    "# Votre code ici\n",
    "#"
   ]
  },
  {
   "cell_type": "markdown",
   "metadata": {},
   "source": [
    "2. Ressortir les informations suivantes avec des calculs détaillés :\n",
    "    - distance moyenne au soleil\n",
    "    - afficher le nom de la planète la plus grande"
   ]
  },
  {
   "cell_type": "code",
   "execution_count": null,
   "metadata": {},
   "outputs": [],
   "source": [
    "# Distance moyenne au soleil\n",
    "\n",
    "#\n",
    "# Votre code ici\n",
    "#"
   ]
  },
  {
   "cell_type": "code",
   "execution_count": null,
   "metadata": {},
   "outputs": [],
   "source": [
    "# Planète la plus grande\n",
    "\n",
    "#\n",
    "# Votre code ici\n",
    "#"
   ]
  },
  {
   "cell_type": "markdown",
   "metadata": {},
   "source": [
    "### Exercice 3 : Étude des Propriétés Physiques\n",
    "\n",
    "Estimer les densités moyennes des planètes en g/cm3 en utilisant la formule densité = masse/volume. \\\n",
    "Sachant que la formule du volume est :\n",
    "$$\n",
    "V = \\frac{4}{3} \\pi r^3\n",
    "$$\n",
    "\n",
    "Pour votre calcul, le volume sera estimé avec PI qui aura 4 chiffres après la virgules.\n",
    "\n",
    "Les résultats seront affichés comme ceci :\n",
    "\n",
    "Planète : X \\\n",
    "Densité : X.XX g/cm3 \\\n",
    "\\--------------------------- \\\n",
    "Planète : X \\\n",
    "Densité : X.XX g/cm3 \\\n",
    "\\---------------------------"
   ]
  },
  {
   "cell_type": "code",
   "execution_count": null,
   "metadata": {},
   "outputs": [],
   "source": [
    "#\n",
    "# Votre code ici\n",
    "#"
   ]
  }
 ],
 "metadata": {
  "kernelspec": {
   "display_name": "Python 3",
   "language": "python",
   "name": "python3"
  },
  "language_info": {
   "codemirror_mode": {
    "name": "ipython",
    "version": 3
   },
   "file_extension": ".py",
   "mimetype": "text/x-python",
   "name": "python",
   "nbconvert_exporter": "python",
   "pygments_lexer": "ipython3",
   "version": "3.11.9"
  }
 },
 "nbformat": 4,
 "nbformat_minor": 2
}
