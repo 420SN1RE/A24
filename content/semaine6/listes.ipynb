{
 "cells": [
  {
   "cell_type": "code",
   "execution_count": 2,
   "metadata": {},
   "outputs": [
    {
     "name": "stdout",
     "output_type": "stream",
     "text": [
      "20 18 16 14 12 10 8 6 4 2 "
     ]
    }
   ],
   "source": [
    "# 20 18 16 14 12 10 8 6 4 2\n",
    "\n",
    "i = 20\n",
    "\n",
    "while i != 0:\n",
    "    print(i, end=\" \")\n",
    "    i -= 2"
   ]
  },
  {
   "cell_type": "code",
   "execution_count": 14,
   "metadata": {},
   "outputs": [
    {
     "name": "stdout",
     "output_type": "stream",
     "text": [
      "Bonjour Nathalie comment vas tu? Ton âge est:  18\n",
      "comment allez vous aujourd'hui\n"
     ]
    }
   ],
   "source": [
    "prenom = \"Nathalie\"\n",
    "age = 18\n",
    "print(\"Bonjour\", prenom, \"comment vas tu? Ton âge est: \", age)\n",
    "\n",
    "chaine = 'comment allez vous aujourd\\'hui'\n",
    "print(chaine)"
   ]
  },
  {
   "cell_type": "code",
   "execution_count": 17,
   "metadata": {},
   "outputs": [
    {
     "name": "stdout",
     "output_type": "stream",
     "text": [
      "Affiche une tabulation \t ici\n",
      "Affiche un saut de ligne \n",
      " ici\n",
      "Affiche une barre oblique \\ ici\n"
     ]
    }
   ],
   "source": [
    "print(\"Affiche une tabulation \\t ici\")\n",
    "print(\"Affiche un saut de ligne \\n ici\")\n",
    "print(\"Affiche une barre oblique \\\\ ici\")"
   ]
  },
  {
   "cell_type": "code",
   "execution_count": 2,
   "metadata": {},
   "outputs": [
    {
     "ename": "TypeError",
     "evalue": "unsupported operand type(s) for -: 'str' and 'int'",
     "output_type": "error",
     "traceback": [
      "\u001b[1;31m---------------------------------------------------------------------------\u001b[0m",
      "\u001b[1;31mTypeError\u001b[0m                                 Traceback (most recent call last)",
      "Cell \u001b[1;32mIn[2], line 2\u001b[0m\n\u001b[0;32m      1\u001b[0m chaine \u001b[38;5;241m=\u001b[39m \u001b[38;5;124m\"\u001b[39m\u001b[38;5;124m20\u001b[39m\u001b[38;5;124m\"\u001b[39m\n\u001b[1;32m----> 2\u001b[0m resultat \u001b[38;5;241m=\u001b[39m \u001b[43mchaine\u001b[49m\u001b[43m \u001b[49m\u001b[38;5;241;43m-\u001b[39;49m\u001b[43m \u001b[49m\u001b[38;5;241;43m4\u001b[39;49m\n\u001b[0;32m      3\u001b[0m \u001b[38;5;28mprint\u001b[39m(chaine \u001b[38;5;241m*\u001b[39m \u001b[38;5;241m4\u001b[39m)\n",
      "\u001b[1;31mTypeError\u001b[0m: unsupported operand type(s) for -: 'str' and 'int'"
     ]
    }
   ],
   "source": [
    "chaine = \"20\"\n",
    "resultat = chaine - 4\n",
    "print(chaine * 4)\n",
    "\n"
   ]
  },
  {
   "cell_type": "code",
   "execution_count": 9,
   "metadata": {},
   "outputs": [
    {
     "name": "stdout",
     "output_type": "stream",
     "text": [
      "MAJUSCULES\n"
     ]
    }
   ],
   "source": [
    "chaine = \"BONJOUR\"\n",
    "\n",
    "if chaine.islower():\n",
    "    print(\"Minuscules\")\n",
    "else:\n",
    "    print(\"MAJUSCULES\")"
   ]
  },
  {
   "cell_type": "code",
   "execution_count": 3,
   "metadata": {},
   "outputs": [
    {
     "name": "stdout",
     "output_type": "stream",
     "text": [
      "Caracrtère lu:  B\n",
      "Caracrtère lu:  o\n",
      "Caracrtère lu:  n\n",
      "Caracrtère lu:  j\n",
      "Caracrtère lu:  o\n",
      "Caracrtère lu:  u\n",
      "Caracrtère lu:  r\n"
     ]
    }
   ],
   "source": [
    "chaine = \"Bonjour\"\n",
    "\n",
    "for caractere in chaine:\n",
    "    print(\"Caracrtère lu: \", caractere)"
   ]
  },
  {
   "cell_type": "code",
   "execution_count": 5,
   "metadata": {},
   "outputs": [
    {
     "name": "stdout",
     "output_type": "stream",
     "text": [
      "o\n"
     ]
    }
   ],
   "source": [
    "chaine = \"Bonjour\"\n",
    "\n",
    "# Extraire les caractères aux index 1 à 3 inclus\n",
    "sous_chaine = chaine[1:2] \n",
    "print(sous_chaine)  #"
   ]
  },
  {
   "cell_type": "code",
   "execution_count": 7,
   "metadata": {},
   "outputs": [
    {
     "name": "stdout",
     "output_type": "stream",
     "text": [
      "['B', 'o', 'n', 'j', 'o', 'u', 'r']\n",
      "B***o***n***j***o***u***r\n"
     ]
    }
   ],
   "source": [
    "chaine = \"Bonjour\"\n",
    "liste_caracteres = list(chaine)\n",
    "print(liste_caracteres)  # Affiche ['B', 'o', 'n', 'j', 'o', 'u', 'r']\n",
    "\n",
    "chaine_recomposee = '***'.join(liste_caracteres)\n",
    "print(chaine_recomposee)  # Affiche Bonjour"
   ]
  }
 ],
 "metadata": {
  "kernelspec": {
   "display_name": "Python 3",
   "language": "python",
   "name": "python3"
  },
  "language_info": {
   "codemirror_mode": {
    "name": "ipython",
    "version": 3
   },
   "file_extension": ".py",
   "mimetype": "text/x-python",
   "name": "python",
   "nbconvert_exporter": "python",
   "pygments_lexer": "ipython3",
   "version": "3.11.3"
  }
 },
 "nbformat": 4,
 "nbformat_minor": 2
}
