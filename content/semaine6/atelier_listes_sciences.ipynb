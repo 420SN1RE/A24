{
 "cells": [
  {
   "cell_type": "markdown",
   "metadata": {},
   "source": [
    "## Exercices : Utilisation de Listes dans des contextes scientifiques simples\n",
    "\n",
    "Les listes en Python sont extrêmement utiles dans les contextes scientifiques pour stocker, manipuler et analyser des données expérimentales.   \n",
    "Ces exercices te permettront de pratiquer l'utilisation des listes en Python dans des contextes scientifiques variés."
   ]
  },
  {
   "cell_type": "markdown",
   "metadata": {},
   "source": [
    "### Exercice 1: Chimie\n",
    "\n",
    "- Créez une liste pour stocker les concentrations de différentes solutions dans une expérience: 0.1, 0.2, 0.15, 0.3, 0.25, 0.35, 0.05.\n",
    "- Calculer et afficher la concentration moyenne.\n",
    "- Calculer et afficher les concentrations maximale et minimale."
   ]
  },
  {
   "cell_type": "code",
   "execution_count": null,
   "metadata": {},
   "outputs": [],
   "source": [
    "# Votre code ici\n"
   ]
  },
  {
   "cell_type": "markdown",
   "metadata": {},
   "source": [
    "### Exercice 2: Écologie\n",
    "\n",
    "- Créer une liste pour stocker les populations d'animaux dans différentes zones : 150, 200, 170, 220, 180, 190, 210.\n",
    "- Trier les populations en ordre décroissant et afficher la liste triée.\n",
    "- Calculer et afficher la population totale\n",
    "- Calculer et afficher les populations maximale et minimale."
   ]
  },
  {
   "cell_type": "code",
   "execution_count": null,
   "metadata": {},
   "outputs": [],
   "source": [
    "# Votre code ici\n",
    "\n"
   ]
  }
 ],
 "metadata": {
  "kernelspec": {
   "display_name": "Python 3",
   "language": "python",
   "name": "python3"
  },
  "language_info": {
   "codemirror_mode": {
    "name": "ipython",
    "version": 3
   },
   "file_extension": ".py",
   "mimetype": "text/x-python",
   "name": "python",
   "nbconvert_exporter": "python",
   "pygments_lexer": "ipython3",
   "version": "3.11.9"
  }
 },
 "nbformat": 4,
 "nbformat_minor": 2
}
