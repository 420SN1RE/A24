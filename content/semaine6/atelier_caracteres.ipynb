{
 "cells": [
  {
   "cell_type": "markdown",
   "metadata": {},
   "source": [
    "# Exercice 1\n",
    "\n",
    "## A)\n",
    "\n",
    "Initialisez une chaîne de caractères contenant un mot (au moins 6 caractères).  \n",
    "Affichez la chaîne et sa longueur."
   ]
  },
  {
   "cell_type": "markdown",
   "metadata": {},
   "source": [
    "## B)\n",
    "\n",
    "Ajoutez un deuxième mot à votre chaîne (séparé par un espace).  \n",
    "Affichez la nouvelle chaîne et sa longueur."
   ]
  },
  {
   "cell_type": "markdown",
   "metadata": {},
   "source": [
    "## C)\n",
    "\n",
    "Ajoutez un autre mot à votre chaîne (séparé par un espace).  \n",
    "Ce nouveau mot doit être une répétition d'une lettre (ex: 5 fois la lettre \"z\").  \n",
    "Affichez la nouvelle chaîne et sa longueur."
   ]
  },
  {
   "cell_type": "markdown",
   "metadata": {},
   "source": [
    "## D)\n",
    "\n",
    "Ajoutez un nombre au début de votre chaîne (séparé par un espace).  \n",
    "Affichez la nouvelle chaîne et sa longueur."
   ]
  },
  {
   "cell_type": "markdown",
   "metadata": {},
   "source": [
    "# Exercice 2\n",
    "\n",
    "Initialisez une chaîne de caractères avec la phrase suivante: `Le programmeur a passé toute la nuit à coder, buvant du café et trouvant des bugs avant même de prendre son petit-déjeuner.`\n",
    "\n",
    "## A)\n",
    "\n",
    "Modifier la phrase:\n",
    "- Remplacez `nuit` par `journée`\n",
    "- Enlevez le mot `toute`\n",
    "- Remplacez `buvant du café` par `buvant beaucoup de café`\n",
    "- Ajoutez le mot `bizarres` entre `bugs` et `avant`"
   ]
  },
  {
   "cell_type": "markdown",
   "metadata": {},
   "source": [
    "## B) \n",
    "\n",
    "Initialiser un chaîne de caractères avec le mot `coder`. Par la suite, n'utilisez plus le mot `coder`. Référez-vous toujours à la variable que vous venez de créer.\n",
    "Trouvez la position de départ de ce mot dans la phrase précédente (en utilisant la variable que vous venez de créer).\n",
    "Trouver la position de fin de ce mot en utilisant la position de départ et la fonction `len()`.\n",
    "Ensuite, affichez le mot `coder` en utilisant `[]` et les positions que vous venez de trouver.\n"
   ]
  },
  {
   "cell_type": "markdown",
   "metadata": {},
   "source": [
    "# Exercice 3\n",
    "\n",
    "Initialisez une chaîne de caractères avec la phrase suivante: `Le Programmeur a écrit 1000 Lignes de code, bu 4 tasses de Café, et trouvé 42 Bugs avant le déjeuner.`\n",
    "\n",
    "## A)\n",
    "\n",
    "Vous devez modifier les chiffres dans la phrase.  \n",
    "Chaque chiffre doit être multiplié par 2. On regarde chaque chiffre individuellement (pas les nombres).  \n",
    "Vous devriez obtenir la réponse suivante: `Le Programmeur a écrit 2000 Lignes de code, bu 8 tasses de Café, et trouvé 84 Bugs avant le déjeuner.`"
   ]
  },
  {
   "cell_type": "markdown",
   "metadata": {},
   "source": [
    "## B)\n",
    "\n",
    "Maintenant, inversez les lettres majuscules et minuscules.  \n",
    "Vous devriez obtenir la réponse suivante: `lE pROGRAMMEUR A ÉCRIT 2000 lIGNES DE CODE, BU 8 TASSES DE cAFÉ, ET TROUVÉ 84 bUGS AVANT LE DÉJEUNER.`"
   ]
  },
  {
   "cell_type": "markdown",
   "metadata": {},
   "source": [
    "## C) (défi)\n",
    "\n",
    "Initialisez une chaine de caractères avec la phrase suivante: `Le Programmeur a écrit 1059 Lignes de code, bu 7 tasses de Café, et trouvé 47 Bugs avant le déjeuner.`\n",
    "\n",
    "Vous devez modifier les nombres dans la phrase.  \n",
    "Chaque nombre doit être multiplié par 2. \n",
    "Vous devriez obtenir la réponse suivante: `Le Programmeur a écrit 2118 Lignes de code, bu 14 tasses de Café, et trouvé 94 Bugs avant le déjeuner.`"
   ]
  },
  {
   "cell_type": "markdown",
   "metadata": {},
   "source": [
    "# Exercice 4\n",
    "\n",
    "## A)\n",
    "\n",
    "À l'aide de la commande `input()` demandez à l'utilisateur d'entrer un nombre.  \n",
    "Multipliez ce nombre par 2 et affichez le résultat.\n",
    "\n",
    "Est-ce que le résultat est bien une multiplication?  \n",
    "Qu'arrive-t-il si l'utilisateur entre des lettres vs des chiffres?"
   ]
  },
  {
   "cell_type": "markdown",
   "metadata": {},
   "source": [
    "## B)\n",
    "\n",
    "Maintenant, vous devez gérer l'entrée de l'utilisateur.  \n",
    "Demandez à l'utilisateur d'entrer un nombre ou un mot.  \n",
    "Si l'entrée est un nombre, affichez le message suivant: `Le double de votre nombre est ???`.  \n",
    "Remplacez `???` par le double du nombre entré par l'utilisateur.  \n",
    "Sinon, affichez le message suivant: `Votre mot est ???`.  \n",
    "Remplacez `???` par l'entrée de l'utilisateur."
   ]
  },
  {
   "cell_type": "markdown",
   "metadata": {},
   "source": [
    "## C)\n",
    "\n",
    "Maintenant, vous devez vous assurer que l'utilisateur a entré un nombre.  \n",
    "Si ce n'est pas le cas, vous devez redemander à l'utilisateur d'entrer correctement un nombre.  \n",
    "Le programme doit s'arrêter après 3 essais manqués et afficher un message approprié.  "
   ]
  },
  {
   "cell_type": "markdown",
   "metadata": {},
   "source": [
    "## D)\n",
    "\n",
    "Quels tests avez-vous faits pour vous assurer que votre code du numéro précédent fonctionne correctement?"
   ]
  },
  {
   "cell_type": "markdown",
   "metadata": {},
   "source": [
    "- avec input\n",
    "- extraire substring\n",
    "- construire une chaîne"
   ]
  }
 ],
 "metadata": {
  "kernelspec": {
   "display_name": "Python 3",
   "language": "python",
   "name": "python3"
  },
  "language_info": {
   "codemirror_mode": {
    "name": "ipython",
    "version": 3
   },
   "file_extension": ".py",
   "mimetype": "text/x-python",
   "name": "python",
   "nbconvert_exporter": "python",
   "pygments_lexer": "ipython3",
   "version": "3.10.12"
  }
 },
 "nbformat": 4,
 "nbformat_minor": 2
}
