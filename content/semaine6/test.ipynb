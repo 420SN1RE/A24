{
 "cells": [
  {
   "cell_type": "code",
   "execution_count": 3,
   "metadata": {},
   "outputs": [
    {
     "name": "stdout",
     "output_type": "stream",
     "text": [
      "[2, 4, 6, 8, 10]\n"
     ]
    }
   ],
   "source": [
    "nombres = [1, 2, 3, 4, 5, 6, 7, 8, 9, 10]\n",
    "\n",
    "# Liste vide pour stocker les nombres pairs\n",
    "pairs = []\n",
    "\n",
    "# Recherche des nombres pairs\n",
    "for nombre in nombres:\n",
    "    # Si le nombre est pair, on l'ajoute dans la liste \"paires\"\n",
    "    if nombre % 2 == 0 :\n",
    "        pairs.append(nombre)\n",
    "\n",
    "# On affiche la liste des nombres pairs\n",
    "print(pairs)  # Affiche [2, 4, 6, 8, 10]"
   ]
  }
 ],
 "metadata": {
  "kernelspec": {
   "display_name": "Python 3",
   "language": "python",
   "name": "python3"
  },
  "language_info": {
   "codemirror_mode": {
    "name": "ipython",
    "version": 3
   },
   "file_extension": ".py",
   "mimetype": "text/x-python",
   "name": "python",
   "nbconvert_exporter": "python",
   "pygments_lexer": "ipython3",
   "version": "3.11.9"
  }
 },
 "nbformat": 4,
 "nbformat_minor": 2
}
