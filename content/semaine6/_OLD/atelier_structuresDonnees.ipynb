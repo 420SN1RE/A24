{
 "cells": [
  {
   "cell_type": "markdown",
   "metadata": {},
   "source": [
    "# Exercice 1: Les dictionnaires\n",
    "\n",
    "## Objectif\n",
    "\n",
    "Vous allez créer un programme pour suivre les populations de différentes espèces d'animaux dans une réserve naturelle. Le programme devra stocker des informations sur les espèces, calculer les changements de population sur une période donnée en fonction de divers taux de croissance, et afficher les résultats.\n",
    "\n",
    "\n",
    "## Instructions\n",
    "\n",
    "1. Stocker les Données :\n",
    "- Créez un dictionnaire pour chaque espèce (4 espèces de votre choix).\n",
    "    - Chaque espèce contient 2 informations:\n",
    "        - `population`\n",
    "        - `taux_croissance ` (en pourcentage annuel) (au moins un taux négatif)\n",
    "- Ajoutez chaque dictionnaire (espèce) à un dictionnaire principal nommé `reserve`.\n",
    "- Affichez votre `réserve` à l'aide de `pprint()`\n",
    "\n",
    "1. Calculer la Population :\n",
    "- Dans une boucle, qui représente les années d'évolution :\n",
    "    - Faites évoluer la population de chaque espèce selon la population et le taux de croissance.\n",
    "    - Affichez l'évolution.\n",
    "    - N'oubliez pas qu'il n'est pas possible d'avoir des fraction d'animaux, ni des nombres négatifs...\n",
    "        - Arrondissez au nombre plancher: `math.floor()`\n"
   ]
  },
  {
   "cell_type": "code",
   "execution_count": 12,
   "metadata": {},
   "outputs": [
    {
     "name": "stdout",
     "output_type": "stream",
     "text": [
      "{'elephants': {'population': 50, 'taux_croissance': -0.5},\n",
      " 'girafes': {'population': 100, 'taux_croissance': 0.04},\n",
      " 'lions': {'population': 200, 'taux_croissance': 0.02}}\n",
      "\n",
      "Année : 0\n",
      "lions 204\n",
      "girafes 104\n",
      "elephants 25\n",
      "\n",
      "Année : 1\n",
      "lions 208\n",
      "girafes 108\n",
      "elephants 12\n",
      "\n",
      "Année : 2\n",
      "lions 212\n",
      "girafes 112\n",
      "elephants 6\n",
      "\n",
      "Année : 3\n",
      "lions 216\n",
      "girafes 116\n",
      "elephants 3\n",
      "\n",
      "Année : 4\n",
      "lions 220\n",
      "girafes 120\n",
      "elephants 1\n",
      "\n",
      "Année : 5\n",
      "lions 224\n",
      "girafes 124\n",
      "elephants 0\n",
      "\n",
      "Année : 6\n",
      "lions 228\n",
      "girafes 128\n",
      "elephants 0\n",
      "\n",
      "Année : 7\n",
      "lions 232\n",
      "girafes 133\n",
      "elephants 0\n",
      "\n",
      "Année : 8\n",
      "lions 236\n",
      "girafes 138\n",
      "elephants 0\n",
      "\n",
      "Année : 9\n",
      "lions 240\n",
      "girafes 143\n",
      "elephants 0\n"
     ]
    }
   ],
   "source": [
    "from pprint import pprint\n",
    "import math\n",
    "\n",
    "lions = {'population': 200, 'taux_croissance': 0.02}\n",
    "girafes = {'population': 100, 'taux_croissance': 0.04}\n",
    "elephants = {'population': 50, 'taux_croissance': -0.5}\n",
    "reserve = {'lions': lions, 'girafes': girafes, 'elephants': elephants}\n",
    "\n",
    "pprint(reserve)\n",
    "\n",
    "nb_annees = 10\n",
    "for i in range(nb_annees):\n",
    "    print(\"\\nAnnée :\", i)\n",
    "    for animal in reserve.keys():\n",
    "        n = reserve[animal]['population'] + reserve[animal]['population'] * reserve[animal]['taux_croissance']\n",
    "        n = math.floor(n)\n",
    "        n = max(0, n)\n",
    "        reserve[animal]['population'] = n\n",
    "        print(animal, reserve[animal]['population'])\n"
   ]
  },
  {
   "cell_type": "markdown",
   "metadata": {},
   "source": [
    "# Exercice 2: Les ensembles\n",
    "\n",
    "1. Initialiser une liste vide.\n",
    "1. Dans une boucle, ajoutez 20 nombres aléatoires entre 1 et 20\n",
    "1. Affichez les nombres uniques seulement (c'est-à-dire, affichez tous les nombres, mais une seule fois chacun)\n",
    "    - Exemple: `[1, 2, 3, 3, 2]` ==> devrait afficher seulement 1, 2 et 3.\n"
   ]
  },
  {
   "cell_type": "code",
   "execution_count": 6,
   "metadata": {},
   "outputs": [
    {
     "name": "stdout",
     "output_type": "stream",
     "text": [
      "[19, 14, 9, 1, 2, 8, 14, 3, 3, 16, 13, 19, 4, 14, 10, 8, 12, 6, 14, 16]\n",
      "{1, 2, 3, 4, 6, 8, 9, 10, 12, 13, 14, 16, 19}\n"
     ]
    }
   ],
   "source": [
    "import random\n",
    "\n",
    "liste = []\n",
    "for i in range(20):\n",
    "    liste.append(random.randint(1,20))\n",
    "print(liste)\n",
    "print(set(liste))"
   ]
  }
 ],
 "metadata": {
  "kernelspec": {
   "display_name": "Python 3",
   "language": "python",
   "name": "python3"
  },
  "language_info": {
   "codemirror_mode": {
    "name": "ipython",
    "version": 3
   },
   "file_extension": ".py",
   "mimetype": "text/x-python",
   "name": "python",
   "nbconvert_exporter": "python",
   "pygments_lexer": "ipython3",
   "version": "3.10.12"
  }
 },
 "nbformat": 4,
 "nbformat_minor": 2
}
