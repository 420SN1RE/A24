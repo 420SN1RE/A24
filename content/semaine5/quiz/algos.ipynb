{
 "cells": [
  {
   "cell_type": "code",
   "execution_count": null,
   "metadata": {},
   "outputs": [],
   "source": [
    "# Algo 1 jeudi 8h\n",
    "\n",
    "pH = int(input(\"Entrez le pH\"))\n",
    "\n",
    "if pH > 7:\n",
    "    print(\"pH basique\")\n",
    "elif pH == 7:\n",
    "    print(\"pH neutre\")\n",
    "else:\n",
    "    print(\"pH acide\")"
   ]
  },
  {
   "cell_type": "code",
   "execution_count": 2,
   "metadata": {},
   "outputs": [
    {
     "name": "stdout",
     "output_type": "stream",
     "text": [
      "échec\n"
     ]
    }
   ],
   "source": [
    "# Algo 2 jeudi 13h30\n",
    "\n",
    "note = int(input(\"Entrez la note\"))\n",
    "\n",
    "if note >= 60:\n",
    "    print(\"réussi\")\n",
    "elif note > 50:\n",
    "    print(\"passable\")\n",
    "else:\n",
    "    print(\"échec\")"
   ]
  },
  {
   "cell_type": "code",
   "execution_count": 5,
   "metadata": {},
   "outputs": [
    {
     "name": "stdout",
     "output_type": "stream",
     "text": [
      "moyen\n"
     ]
    }
   ],
   "source": [
    "# Algo 3 vendredi 12h35\n",
    "\n",
    "taux = int(input(\"Entrez le taux\"))\n",
    "\n",
    "if taux < 15:\n",
    "    print(\"faible\")\n",
    "elif taux < 20:\n",
    "    print(\"moyen\")\n",
    "else:\n",
    "    print(\"super!\")"
   ]
  },
  {
   "cell_type": "code",
   "execution_count": null,
   "metadata": {},
   "outputs": [],
   "source": [
    "# Algo 4 mardi 14h25\n",
    "\n",
    "nombre = int(input(\"Entrez un nombre\"))\n",
    "\n",
    "if nombre < 5:\n",
    "    print(\"pas assez\")\n",
    "elif nombre <= 10:\n",
    "    print(\"parfait\")\n",
    "else:\n",
    "    print(\"trop\")"
   ]
  }
 ],
 "metadata": {
  "kernelspec": {
   "display_name": "Python 3",
   "language": "python",
   "name": "python3"
  },
  "language_info": {
   "codemirror_mode": {
    "name": "ipython",
    "version": 3
   },
   "file_extension": ".py",
   "mimetype": "text/x-python",
   "name": "python",
   "nbconvert_exporter": "python",
   "pygments_lexer": "ipython3",
   "version": "3.11.9"
  }
 },
 "nbformat": 4,
 "nbformat_minor": 2
}
