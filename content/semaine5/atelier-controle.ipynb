{
 "cells": [
  {
   "cell_type": "code",
   "execution_count": null,
   "metadata": {},
   "outputs": [],
   "source": [
    "## Exemples Pratiques\n",
    "Voici quelques exemples pratiques pour illustrer l'utilisation des instructions `break`, `continue`, et `else` avec les boucles :\n",
    "\n",
    "\n"
   ]
  },
  {
   "cell_type": "markdown",
   "metadata": {},
   "source": [
    "**Exercice 4:**\n",
    "Écrivez un programme qui imprime tous les nombres impairs entre 1 et 20, en utilisant une boucle et l'instruction `continue`.\n",
    "\n",
    "**Recherche d'un élément dans une liste :**\n",
    "```python\n",
    "nombres = [1, 2, 3, 4, 5]\n",
    "recherche = 3\n",
    "for nombre in nombres:\n",
    "    if nombre == recherche:\n",
    "        print(f\"{recherche} trouvé dans la liste.\")\n",
    "        break\n",
    "else:\n",
    "    print(f\"{recherche} n'est pas dans la liste.\")\n",
    "```\n",
    "Dans cet exemple, la boucle recherche le nombre 3 dans la liste. Si le nombre est trouvé, la boucle s'arrête avec `break` et le message est imprimé. Si le nombre n'est pas trouvé, le message `else` est imprimé.\n",
    "\n",
    "**Filtrage des éléments d'une liste :**\n",
    "```python\n",
    "nombres = [1, 2, 3, 4, 5, 6, 7, 8, 9, 10]\n",
    "for nombre in nombres:\n",
    "    if nombre % 2 == 0:\n",
    "        continue\n",
    "    print(nombre)\n",
    "```\n",
    "Dans cet exemple, seuls les nombres impairs de la liste sont imprimés, car `continue` saute les itérations où le nombre est pair"
   ]
  }
 ],
 "metadata": {
  "language_info": {
   "name": "python"
  }
 },
 "nbformat": 4,
 "nbformat_minor": 2
}
