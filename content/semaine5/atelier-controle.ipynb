{
 "cells": [
  {
   "cell_type": "markdown",
   "metadata": {},
   "source": [
    "Ces exercices vous feront utiliser les instructions `break`, `continue`, et `else` avec les boucles."
   ]
  },
  {
   "cell_type": "markdown",
   "metadata": {},
   "source": [
    "### Exercice 1 : Utilisation de `break` dans une boucle `for`\n",
    "\n",
    "Écrire un programme qui parcourt les nombres de 1 à 10 et affiche chaque nombre. Si le nombre est égal à 5, la boucle doit s'arrêter."
   ]
  },
  {
   "cell_type": "code",
   "execution_count": null,
   "metadata": {},
   "outputs": [],
   "source": [
    "# Votre code ici"
   ]
  },
  {
   "cell_type": "markdown",
   "metadata": {},
   "source": [
    "### Exercice 2 : Utilisation de `continue` dans une boucle `for`\n",
    "\n",
    "Écrire un programme qui parcourt les nombres de 1 à 10 et affiche chaque nombre, sauf si le nombre est égal à 5."
   ]
  },
  {
   "cell_type": "code",
   "execution_count": null,
   "metadata": {},
   "outputs": [],
   "source": [
    "# Votre code ici"
   ]
  },
  {
   "cell_type": "markdown",
   "metadata": {},
   "source": [
    "### Exercice 3 : Utilisation de `else` dans une boucle `for`\n",
    "\n",
    "Écrire un programme qui parcourt les nombres de 1 à 5 et affiche chaque nombre. Une fois la boucle terminée, affiche un message indiquant que la boucle est terminée."
   ]
  },
  {
   "cell_type": "code",
   "execution_count": null,
   "metadata": {},
   "outputs": [],
   "source": [
    "# Votre code ici"
   ]
  },
  {
   "cell_type": "markdown",
   "metadata": {},
   "source": [
    "### Exercice 4 : Utilisation de `break` dans une boucle `while`\n",
    "\n",
    "Écrire un programme qui utilise une boucle `while` pour afficher les nombres de 1 à 10. Si le nombre est égal à 7, la boucle doit s'arrêter."
   ]
  },
  {
   "cell_type": "code",
   "execution_count": null,
   "metadata": {},
   "outputs": [],
   "source": [
    "# Votre code ici"
   ]
  },
  {
   "cell_type": "markdown",
   "metadata": {},
   "source": [
    "### Exercice 5 : Utilisation de `continue` dans une boucle `while`\n",
    "\n",
    "Écrire un programme qui utilise une boucle `while` pour afficher les nombres de 1 à 10, sauf si le nombre est égal à 7."
   ]
  },
  {
   "cell_type": "code",
   "execution_count": null,
   "metadata": {},
   "outputs": [],
   "source": [
    "# Votre code ici"
   ]
  },
  {
   "cell_type": "markdown",
   "metadata": {},
   "source": [
    "### Exercice 6 : Utilisation de `else` dans une boucle `while`\n",
    "\n",
    "Écrire un programme qui utilise une boucle `while` pour afficher les nombres de 1 à 5. Une fois la boucle terminée, affiche un message indiquant que la boucle est terminée."
   ]
  },
  {
   "cell_type": "code",
   "execution_count": null,
   "metadata": {},
   "outputs": [],
   "source": [
    "# Votre code ici"
   ]
  }
 ],
 "metadata": {
  "language_info": {
   "name": "python"
  }
 },
 "nbformat": 4,
 "nbformat_minor": 2
}
