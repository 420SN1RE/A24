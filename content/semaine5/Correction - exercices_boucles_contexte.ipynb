{
 "cells": [
  {
   "cell_type": "markdown",
   "metadata": {},
   "source": [
    "### Contexte : Exploration d'une île mystérieuse\n",
    "Vous faites partie d'une équipe scientifique chargée d'explorer une île mystérieuse récemment découverte. Il s'agit d'étudier la faune et la flore locales tout en évitant les dangers."
   ]
  },
  {
   "cell_type": "markdown",
   "metadata": {},
   "source": [
    "#### <u>Exercice 1</u> : Compter les arbres sur l'île\n",
    "**Contexte** : Votre première mission est de compter les arbres dans une zone spécifique. Chaque ligne de votre rapport doit indiquer combien d'arbres vous avez observés.\n",
    "\n",
    "Corrigez le code suivant qui permet d'afficher le nombre d'arbre observé."
   ]
  },
  {
   "cell_type": "code",
   "execution_count": null,
   "metadata": {},
   "outputs": [],
   "source": [
    "nombre_arbres = 10\n",
    "for i in range(1, nombre_arbres + 1):\n",
    "    print(\"Arbre numéro\", i,\"observé.\")"
   ]
  },
  {
   "cell_type": "markdown",
   "metadata": {},
   "source": [
    "#### <u>Exercice 2</u> : Explorer plusieurs zones de l'île\n",
    "**Contexte** : L'île est divisée en plusieurs zones et vous devez explorer chacune d'elles. Chaque zone a une taille différente et vous devez rapporter combien d'arbres y ont été trouvés.\n",
    "\n",
    "Écrivez un programme qui demande à l'utilisateur combien de zones il souhaite explorer, puis demande pour chaque zone le nombre d'arbres observés. Le programme doit ensuite afficher un rapport."
   ]
  },
  {
   "cell_type": "code",
   "execution_count": null,
   "metadata": {},
   "outputs": [],
   "source": [
    "# Affecter la variable nombres_zones qui permet de demander à l'utilisateur combien de zones il veut explorer\n",
    "nombre_zones = int(input(\"Combien de zones souhaitez-vous parcourir ?\"))\n",
    "# Parcourir les zones\n",
    "for zone in range(1, nombre_zones + 1):\n",
    "    # Affecter la variable nombre_arbres qui permet de demander à l'utilisateur de saisir le nombre d'arbre qu'il a observé dans la zone parcourue.\n",
    "    nombre_arbres = int(input(\"Combien d'arbres avez-vous observés dans la \" + str(zone) + \"ère/ème zone?\"))\n",
    "    # Parcourir le nombre d'arbres\n",
    "    for i in range(1, nombre_arbres + 1):\n",
    "        # Afficher un rapport. Ex: \"Zone 1: 4 arbres observés\"\n",
    "        print(\"Zone\", zone,\":\", i, \"arbre(s) observé(s).\")"
   ]
  },
  {
   "cell_type": "markdown",
   "metadata": {},
   "source": [
    "#### <u>Exercice 3</u> : Surveiller les infections\n",
    "**Contexte** : En plus de la flore, l'île abrite des abres infectés par un parasite. Si vous rencontrez un arbre infecté, vous devez immédiatement le stipuler dans un rapport.\n",
    "\n",
    "Écrivez un programme qui demande à l'utilisateur combien d'arbres il veut observer. À chaque observation, le programme doit demander à l'utilisateur s'il a vu un arbre infecté (répondre \"oui\" ou \"non\"). \\\n",
    "Un message s'affiche dans les 2 cas : \n",
    "- un arbre est infecté\n",
    "- un arbre n'a pas d'infection\n",
    "\n",
    "**Vous devez commenter votre code !**"
   ]
  },
  {
   "cell_type": "code",
   "execution_count": null,
   "metadata": {},
   "outputs": [],
   "source": [
    "# Affecter une variable pour le nombre d'arbres observer\n",
    "nombre_arbres = int(input(\"Combien d'arbres voulez-vous observer ? \"))\n",
    "\n",
    "# Parcourir le nombre d'arbres\n",
    "for i in range(1, nombre_arbres + 1):\n",
    "    # Demander à l'utilisateur s'il a observé une infection\n",
    "    infection = input(\"Observez-vous une infection sur l'arbre n°: \" + str(i) + \"? (oui/non) \")\n",
    "    # Si oui alors l'arbre est infecté\n",
    "    if infection == \"oui\":\n",
    "        print(\"L'arbre\", i, \"est infecté.\")\n",
    "    # Si non alors l'arbre n'a pas de problème\n",
    "    else:\n",
    "        print(\"Arbre\", i, \"observé sans problème.\")\n"
   ]
  },
  {
   "cell_type": "markdown",
   "metadata": {},
   "source": [
    "#### <u>Exercice 4</u> : Surveiller les signes de vie marine\n",
    "**Contexte** : Vous vous rapprochez des côtes de l'île et vous devez surveiller la faune marine. Vous devez continuer à observer jusqu'à ce que vous trouviez un signe de vie marine, puis arrêter l'observation.\n",
    "\n",
    "Remettre dans l'ordre et corriger le code suivant qui permettrait de répondre à l'énoncé suivant : \\\n",
    "Écrivez un programme qui utilise une boucle `while` pour continuer l'observation jusqu'à ce que l'utilisateur signale avoir trouvé un signe de vie marine (répondre \"trouvé\"). À chaque itération, l'utilisateur doit répondre s'il a observé quelque chose.\n",
    "\n",
    "**Attention** : Une fois le code remis dans l'ordre et corrigé, la phrase `print(\"Erreur, votre code ne fonctionne pas\")` doit être retirée. Cette phrase est inutile dans le code final."
   ]
  },
  {
   "cell_type": "code",
   "execution_count": 6,
   "metadata": {},
   "outputs": [
    {
     "name": "stdout",
     "output_type": "stream",
     "text": [
      "Continuez à observer...\n",
      "Continuez à observer...\n",
      "Signe de vie marine trouvé, mission accomplie !\n"
     ]
    }
   ],
   "source": [
    "observation = \"\"\n",
    "while observation != \"trouvé\":\n",
    "    observation = input(\"Avez-vous observé un signe de vie marine ? (écrivez 'trouvé' si oui) \")\n",
    "    if observation == \"trouvé\":\n",
    "        print(\"Signe de vie marine trouvé, mission accomplie !\")\n",
    "    else:\n",
    "        print(\"Continuez à observer...\")"
   ]
  }
 ],
 "metadata": {
  "kernelspec": {
   "display_name": "Python 3",
   "language": "python",
   "name": "python3"
  },
  "language_info": {
   "codemirror_mode": {
    "name": "ipython",
    "version": 3
   },
   "file_extension": ".py",
   "mimetype": "text/x-python",
   "name": "python",
   "nbconvert_exporter": "python",
   "pygments_lexer": "ipython3",
   "version": "3.11.9"
  }
 },
 "nbformat": 4,
 "nbformat_minor": 2
}
