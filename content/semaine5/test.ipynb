{
 "cells": [
  {
   "cell_type": "code",
   "execution_count": 2,
   "metadata": {},
   "outputs": [
    {
     "name": "stdout",
     "output_type": "stream",
     "text": [
      "Vous êtes un jeune adulte\n"
     ]
    }
   ],
   "source": [
    "age = 36\n",
    "if 18 <= age <= 30:\n",
    "    print(\"Vous êtes un jeune adulte\")\n",
    "elif 30 < age < 65:\n",
    "    print(\"Avez-vous des enfants?\")\n",
    "elif age >= 65:\n",
    "    print(\"Bonne retraite!\")\n",
    "else:\n",
    "    print(\"Vous êtes mineur\")\n"
   ]
  },
  {
   "cell_type": "code",
   "execution_count": 4,
   "metadata": {},
   "outputs": [
    {
     "name": "stdout",
     "output_type": "stream",
     "text": [
      "0 1 2 3 4 "
     ]
    }
   ],
   "source": [
    "i = 0\n",
    "while i < 5:\n",
    "    print(i, end=' ')\n",
    "    i += 1"
   ]
  },
  {
   "cell_type": "code",
   "execution_count": 5,
   "metadata": {},
   "outputs": [
    {
     "name": "stdout",
     "output_type": "stream",
     "text": [
      "Selected Jupyter core packages...\n",
      "IPython          : 8.12.0\n",
      "ipykernel        : 6.22.0\n",
      "ipywidgets       : 8.0.6\n",
      "jupyter_client   : 8.1.0\n",
      "jupyter_core     : 5.3.0\n",
      "jupyter_server   : 2.6.0\n",
      "jupyterlab       : not installed\n",
      "nbclient         : 0.8.0\n",
      "nbconvert        : 7.5.0\n",
      "nbformat         : 5.9.0\n",
      "notebook         : 6.5.4\n",
      "qtconsole        : 5.4.3\n",
      "traitlets        : 5.9.0\n"
     ]
    }
   ],
   "source": [
    "!jupyter --version\n"
   ]
  },
  {
   "cell_type": "code",
   "execution_count": 17,
   "metadata": {},
   "outputs": [
    {
     "name": "stdout",
     "output_type": "stream",
     "text": [
      "1 2 3 4 5 6 7 8 9 "
     ]
    }
   ],
   "source": [
    "tableau = [\n",
    "    [1, 2, 3],\n",
    "    [4, 5, 6],\n",
    "    [7, 8, 9]\n",
    "]\n",
    "\n",
    "for ligne in tableau:\n",
    "    for element in ligne:\n",
    "        print(element, end=\" \")\n"
   ]
  },
  {
   "cell_type": "code",
   "execution_count": 18,
   "metadata": {},
   "outputs": [
    {
     "name": "stdout",
     "output_type": "stream",
     "text": [
      "1 2 3 4 5 6 7 8 9 "
     ]
    }
   ],
   "source": [
    "tableau = [\n",
    "    [1, 2, 3],\n",
    "    [4, 5, 6],\n",
    "    [7, 8, 9]\n",
    "]\n",
    "\n",
    "# Pour chaque ligne du tableau\n",
    "for ligne in tableau:\n",
    "    # Pour chaque élément de la ligne\n",
    "    for element in ligne:\n",
    "        # Affiche l'élément\n",
    "        print(element, end=\" \")"
   ]
  },
  {
   "cell_type": "code",
   "execution_count": 19,
   "metadata": {},
   "outputs": [
    {
     "name": "stdout",
     "output_type": "stream",
     "text": [
      "0\n",
      "1\n",
      "2\n",
      "3\n",
      "4\n",
      "Boucle terminée\n"
     ]
    }
   ],
   "source": [
    "for i in range(5):\n",
    "    print(i)\n",
    "else:\n",
    "    print(\"Boucle terminée\")\n"
   ]
  }
 ],
 "metadata": {
  "kernelspec": {
   "display_name": "Python 3",
   "language": "python",
   "name": "python3"
  },
  "language_info": {
   "codemirror_mode": {
    "name": "ipython",
    "version": 3
   },
   "file_extension": ".py",
   "mimetype": "text/x-python",
   "name": "python",
   "nbconvert_exporter": "python",
   "pygments_lexer": "ipython3",
   "version": "3.11.9"
  }
 },
 "nbformat": 4,
 "nbformat_minor": 2
}
