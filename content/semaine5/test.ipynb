{
 "cells": [
  {
   "cell_type": "code",
   "execution_count": 2,
   "metadata": {},
   "outputs": [
    {
     "name": "stdout",
     "output_type": "stream",
     "text": [
      "Vous êtes un jeune adulte\n"
     ]
    }
   ],
   "source": [
    "age = 36\n",
    "if 18 <= age <= 30:\n",
    "    print(\"Vous êtes un jeune adulte\")\n",
    "elif 30 < age < 65:\n",
    "    print(\"Avez-vous des enfants?\")\n",
    "elif age >= 65:\n",
    "    print(\"Bonne retraite!\")\n",
    "else:\n",
    "    print(\"Vous êtes mineur\")\n"
   ]
  }
 ],
 "metadata": {
  "kernelspec": {
   "display_name": "Python 3",
   "language": "python",
   "name": "python3"
  },
  "language_info": {
   "codemirror_mode": {
    "name": "ipython",
    "version": 3
   },
   "file_extension": ".py",
   "mimetype": "text/x-python",
   "name": "python",
   "nbconvert_exporter": "python",
   "pygments_lexer": "ipython3",
   "version": "3.11.9"
  }
 },
 "nbformat": 4,
 "nbformat_minor": 2
}
