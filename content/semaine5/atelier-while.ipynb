{
 "cells": [
  {
   "cell_type": "markdown",
   "metadata": {},
   "source": [
    "Ces exercices permettent de se familiariser avec la boucle `while` "
   ]
  },
  {
   "cell_type": "markdown",
   "metadata": {},
   "source": [
    "**Exercice 2:**\n",
    "Écrivez un programme qui demande à l'utilisateur de saisir un nombre. Ensuite, à l'aide d'une boucle `while`, imprimez le compte à rebours à partir de ce nombre jusqu'à 0.\n",
    "\n",
    "**Exercice 3:**\n",
    "Écrivez un programme qui continue à demander à l'utilisateur de saisir un nombre jusqu'à ce qu'il saisisse le nombre 0, puis quitte le programme.\n",
    "\n"
   ]
  },
  {
   "cell_type": "markdown",
   "metadata": {},
   "source": [
    "### Exercice 1 : Attendre la bonne réponse\n",
    "\n",
    "Écrire un programme qui demande à l'utilisateur de compléter l'équation \"630 / 15 = \" et affiche \"Réponse incorrecte. Recommencez.\" TANT QUE l'utilisateur ne donne pas la bonne réponse. Dès que la bonne réponse est donnée (42), le programme affiche \"Bravo!\"."
   ]
  },
  {
   "cell_type": "code",
   "execution_count": 1,
   "metadata": {},
   "outputs": [
    {
     "name": "stdout",
     "output_type": "stream",
     "text": [
      "Réponse incorrecte. Recommencez.\n",
      "Bravo!\n"
     ]
    }
   ],
   "source": [
    "# votre code ici\n",
    "\n",
    "reponse = float(input(\"630 / 15 = \"))\n",
    "while reponse != 42:\n",
    "    print(\"Réponse incorrecte. Recommencez.\")\n",
    "    reponse = float(input(\"630 / 15 = \"))\n",
    "print(\"Bravo!\")"
   ]
  },
  {
   "cell_type": "markdown",
   "metadata": {},
   "source": [
    "### Exercice 2 : Devinez le nombre secret\n",
    "\n",
    "Écrire un programme qui demande `l'utilisateur de saisir un nombre au clavier.\n",
    "- Si le nombre saisi est plus petit que le nombre secrt, le porgramme affiche \"Trop petit!\"\n",
    "- Si le nombre saisi est plus grand que le nombre secret, le programme affiche \"Trop grand!\"\n",
    "- Si le nombre saisi est le nombre secret, le programme affiche \"Félicitations, vous avez deviné le nombre !\""
   ]
  },
  {
   "cell_type": "code",
   "execution_count": null,
   "metadata": {},
   "outputs": [],
   "source": [
    "# votre code ici\n",
    "nombre_secret = 7\n",
    "devine = -1\n",
    "while devine != nombre_secret:\n",
    "    devine = int(input(\"Devinez le nombre : \"))\n",
    "    if devine < nombre_secret:\n",
    "        print(\"Trop petit !\")\n",
    "    elif devine > nombre_secret:\n",
    "        print(\"Trop grand !\")\n",
    "print(\"Félicitations, vous avez deviné le nombre !\")"
   ]
  },
  {
   "cell_type": "markdown",
   "metadata": {},
   "source": [
    "### Exercice 3: Lire des entrées utilisateur jusqu'à une condition\n",
    "\n",
    "Écrire un programme qui demande à l'utilisateur de saisir un mot, TANT QUE le mot saisi n'est pas \"stop\". C'est-à-dire que lorsque le mot saisi est \"stop\", le programme arrête de demander à l'utilisateur de saisir un mot."
   ]
  },
  {
   "cell_type": "code",
   "execution_count": 2,
   "metadata": {},
   "outputs": [
    {
     "name": "stdout",
     "output_type": "stream",
     "text": [
      "Vous avez entré : fhurt\n",
      "Vous avez entré : ee\n",
      "Vous avez entré : www\n",
      "Vous avez entré : stop\n"
     ]
    }
   ],
   "source": [
    "# votre code ici\n",
    " \n",
    "mot = \"\"\n",
    "while mot != \"stop\":\n",
    "    mot = input(\"Entrez un mot (ou 'stop' pour arrêter) : \")\n",
    "    print(\"Vous avez entré :\", mot)"
   ]
  },
  {
   "cell_type": "markdown",
   "metadata": {},
   "source": [
    "### Exercice 4: Compter les cellules bactériennes \n",
    "\n",
    "Imagine qu'une population de bactéries double toutes les heures. Écris un programme qui calcule le nombre de bactéries après un certain nombre d'heures, donné par l'utilisateur."
   ]
  },
  {
   "cell_type": "code",
   "execution_count": null,
   "metadata": {},
   "outputs": [],
   "source": [
    "# votre code ici\n",
    "\n",
    "heures = int(input(\"Entrez le nombre d'heures: \"))\n",
    "bacteries = 1\n",
    "i = 0\n",
    "\n",
    "while i < heures:\n",
    "    bacteries *= 2\n",
    "    i += 1\n",
    "\n",
    "print(\"Après\", heures, \"heures, il y aura\", bacteries, \"bactéries.\")"
   ]
  },
  {
   "cell_type": "markdown",
   "metadata": {},
   "source": [
    "### Exercice 6 : Suivre la croissance d'une plante\n",
    "\n",
    "Écris un programme qui simule la croissance d'une plante. La plante pousse de 0.5 cm par jour. Le programme doit demander à l'utilisateur combien de jours il veut suivre la croissance et afficher la hauteur de la plante chaque jour."
   ]
  },
  {
   "cell_type": "code",
   "execution_count": 4,
   "metadata": {},
   "outputs": [
    {
     "name": "stdout",
     "output_type": "stream",
     "text": [
      "Jour 1 : La plante mesure 0.5 cm\n",
      "Jour 2 : La plante mesure 1.0 cm\n",
      "Jour 3 : La plante mesure 1.5 cm\n",
      "Jour 4 : La plante mesure 2.0 cm\n",
      "Jour 5 : La plante mesure 2.5 cm\n",
      "Jour 6 : La plante mesure 3.0 cm\n",
      "Jour 7 : La plante mesure 3.5 cm\n",
      "Jour 8 : La plante mesure 4.0 cm\n",
      "Jour 9 : La plante mesure 4.5 cm\n",
      "Jour 10 : La plante mesure 5.0 cm\n"
     ]
    }
   ],
   "source": [
    "jours = int(input(\"Entrez le nombre de jours: \"))\n",
    "hauteur = 0\n",
    "i = 1\n",
    "\n",
    "while i <= jours:\n",
    "    hauteur += 0.5\n",
    "    print(\"Jour\", i, \": La plante mesure\", hauteur, \"cm\")\n",
    "    i += 1"
   ]
  },
  {
   "cell_type": "markdown",
   "metadata": {},
   "source": [
    "### Exercice 7 : Température de l'eau\n",
    "Écris un programme qui simule le refroidissement de l'eau. L'eau commence à 100°C et perd 5°C chaque minute. Le programme doit afficher la température de l'eau chaque minute jusqu'à ce qu'elle atteigne 0°C."
   ]
  },
  {
   "cell_type": "code",
   "execution_count": 3,
   "metadata": {},
   "outputs": [
    {
     "name": "stdout",
     "output_type": "stream",
     "text": [
      "La température de l'eau est de 100 °C\n",
      "La température de l'eau est de 95 °C\n",
      "La température de l'eau est de 90 °C\n",
      "La température de l'eau est de 85 °C\n",
      "La température de l'eau est de 80 °C\n",
      "La température de l'eau est de 75 °C\n",
      "La température de l'eau est de 70 °C\n",
      "La température de l'eau est de 65 °C\n",
      "La température de l'eau est de 60 °C\n",
      "La température de l'eau est de 55 °C\n",
      "La température de l'eau est de 50 °C\n",
      "La température de l'eau est de 45 °C\n",
      "La température de l'eau est de 40 °C\n",
      "La température de l'eau est de 35 °C\n",
      "La température de l'eau est de 30 °C\n",
      "La température de l'eau est de 25 °C\n",
      "La température de l'eau est de 20 °C\n",
      "La température de l'eau est de 15 °C\n",
      "La température de l'eau est de 10 °C\n",
      "La température de l'eau est de 5 °C\n",
      "L'eau a atteint 0°C.\n"
     ]
    }
   ],
   "source": [
    "# Votre code ici\n",
    "\n",
    "temperature = 100\n",
    "\n",
    "while temperature > 0:\n",
    "    print(\"La température de l'eau est de\", temperature, \"°C\")\n",
    "    temperature -= 5\n",
    "print(\"L'eau a atteint 0°C.\")"
   ]
  }
 ],
 "metadata": {
  "kernelspec": {
   "display_name": "Python 3",
   "language": "python",
   "name": "python3"
  },
  "language_info": {
   "codemirror_mode": {
    "name": "ipython",
    "version": 3
   },
   "file_extension": ".py",
   "mimetype": "text/x-python",
   "name": "python",
   "nbconvert_exporter": "python",
   "pygments_lexer": "ipython3",
   "version": "3.11.9"
  }
 },
 "nbformat": 4,
 "nbformat_minor": 2
}
