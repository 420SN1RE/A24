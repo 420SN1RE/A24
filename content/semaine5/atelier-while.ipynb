{
 "cells": [
  {
   "cell_type": "markdown",
   "metadata": {},
   "source": [
    "Ces exercices permettent de se familiariser avec la boucle `while` "
   ]
  },
  {
   "cell_type": "markdown",
   "metadata": {},
   "source": [
    "### Exercice 1\n",
    "\n",
    "Écrivez un programme qui demande à l'utilisateur de saisir un nombre. Ensuite, à l'aide d'une boucle while, imprimez le compte à rebours à partir de ce nombre jusqu'à 0.\n",
    "**Exemple:** Si le nombre est 10, le programme affiche : 10 9 8 7 6 5 4 3 2 1 0"
   ]
  },
  {
   "cell_type": "code",
   "execution_count": null,
   "metadata": {},
   "outputs": [],
   "source": [
    "# Votre code ici\n"
   ]
  },
  {
   "cell_type": "markdown",
   "metadata": {},
   "source": [
    "### Exercice 2\n",
    "\n",
    "Écrivez un programme qui continue à demander à l'utilisateur de saisir un nombre jusqu'à ce qu'il saisisse le nombre 0, puis quitte le programme.\n",
    "Utiliser la boucle while."
   ]
  },
  {
   "cell_type": "code",
   "execution_count": null,
   "metadata": {},
   "outputs": [],
   "source": [
    "# Votre code ici\n"
   ]
  },
  {
   "cell_type": "markdown",
   "metadata": {},
   "source": [
    "### Exercice 3\n",
    "\n",
    "Écrire un programme qui demande à l'utilisateur de compléter l'équation \"630 / 15 = \" et TANT QUE l'utilisateur ne donne pas la bonne réponse on affiche \"Réponse incorrecte. Recommencez.\". Si l'utilisateur donne la bonne réponse (42), le programme affiche \"Bravo!\" et s'arrête."
   ]
  },
  {
   "cell_type": "code",
   "execution_count": null,
   "metadata": {},
   "outputs": [],
   "source": [
    "# votre code ici\n"
   ]
  },
  {
   "cell_type": "markdown",
   "metadata": {},
   "source": [
    "### Exercice 4\n",
    "\n",
    "Écrire un programme qui demande à l'utilisateur de saisir au clavier un nombre entier entre 1 et 100 .\n",
    "- Si le nombre saisi est plus grand que le nombre secret, le programme affiche \"Trop grand!\"\n",
    "- Si le nombre saisi est égal au nombre secret, le programme affiche \"Félicitations, vous avez deviné le nombre !\""
   ]
  },
  {
   "cell_type": "code",
   "execution_count": null,
   "metadata": {},
   "outputs": [],
   "source": [
    "\n",
    "import random # Pour pouvoir générer un entier entre 1 et 100 aléatoirement\n",
    "nombre_secret = random.randint(1,100)\n",
    "\n",
    "# votre code à partir d'ici\n"
   ]
  },
  {
   "cell_type": "markdown",
   "metadata": {},
   "source": [
    "### Exercice 3\n",
    "\n",
    "Écrire un programme qui demande à l'utilisateur de saisir un mot, TANT QUE le mot saisi n'est pas \"stop\". C'est-à-dire que lorsque le mot saisi est \"stop\", le programme arrête de demander à l'utilisateur de saisir un mot."
   ]
  },
  {
   "cell_type": "code",
   "execution_count": null,
   "metadata": {},
   "outputs": [],
   "source": [
    "# votre code ici\n",
    "\n",
    "    "
   ]
  },
  {
   "cell_type": "markdown",
   "metadata": {},
   "source": [
    "### Exercice 4\n",
    "\n",
    "Imagine qu'une population de bactéries double toutes les heures. Écris un programme qui calcule le nombre de bactéries après un certain nombre d'heures donné par l'utilisateur."
   ]
  },
  {
   "cell_type": "code",
   "execution_count": null,
   "metadata": {},
   "outputs": [],
   "source": [
    "bacteries = 1 # Nombre de bactéries au départ\n",
    "i = 0 # Compteur des heures\n",
    "\n",
    "# votre code à partir d'ici\n"
   ]
  },
  {
   "cell_type": "markdown",
   "metadata": {},
   "source": [
    "### Exercice 5\n",
    "\n",
    "Écris un programme qui simule la croissance d'une plante. La plante pousse de 0.5 cm par jour. Le programme doit demander à l'utilisateur combien de jours il veut suivre la croissance et afficher la hauteur de la plante chaque jour."
   ]
  },
  {
   "cell_type": "code",
   "execution_count": null,
   "metadata": {},
   "outputs": [],
   "source": [
    "hauteur = 0 # Hauteur initiale\n",
    "i = 1 # compteur des jours écoulés\n",
    "\n",
    "# votre code à partir d'ici\n"
   ]
  },
  {
   "cell_type": "markdown",
   "metadata": {},
   "source": [
    "### Exercice 6\n",
    "\n",
    "Écris un programme qui simule le refroidissement de l'eau. L'eau commence à 100°C et perd 5°C chaque minute. Le programme doit afficher la température de l'eau chaque minute jusqu'à ce qu'elle atteigne 0°C."
   ]
  },
  {
   "cell_type": "code",
   "execution_count": null,
   "metadata": {},
   "outputs": [],
   "source": [
    "# Votre code ici\n"
   ]
  }
 ],
 "metadata": {
  "kernelspec": {
   "display_name": "Python 3",
   "language": "python",
   "name": "python3"
  },
  "language_info": {
   "codemirror_mode": {
    "name": "ipython",
    "version": 3
   },
   "file_extension": ".py",
   "mimetype": "text/x-python",
   "name": "python",
   "nbconvert_exporter": "python",
   "pygments_lexer": "ipython3",
   "version": "3.11.9"
  }
 },
 "nbformat": 4,
 "nbformat_minor": 2
}
