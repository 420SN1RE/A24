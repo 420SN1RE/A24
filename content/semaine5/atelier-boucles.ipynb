{
 "cells": [
  {
   "cell_type": "markdown",
   "metadata": {},
   "source": [
    "# Boucles simples\n",
    "## Exercice 1 : Boucles sur les entiers\n",
    "Imprimez les entiers de 1 à 5\n",
    "1. en utilisant une boucle `while`\n",
    "1. en utilisant une boucle `for`"
   ]
  },
  {
   "cell_type": "code",
   "execution_count": null,
   "metadata": {},
   "outputs": [],
   "source": [
    "# 1\n",
    "n = 1\n",
    "while n <= 5:\n",
    "    print(n)\n",
    "    n = n + 1\n",
    "\n",
    "# 2\n",
    "for i in range(1,5):\n",
    "    print(i)"
   ]
  },
  {
   "cell_type": "markdown",
   "metadata": {},
   "source": [
    "## Exercice 2 : Boucles sur les chaînes de caractères\n",
    "Écrivez une boucle qui affiche les lettres une par une de la phrase `Hello world` (1 caractère par ligne)"
   ]
  },
  {
   "cell_type": "code",
   "execution_count": null,
   "metadata": {},
   "outputs": [],
   "source": [
    "for lettre in \"Hello World\":\n",
    "    print(lettre)"
   ]
  },
  {
   "cell_type": "markdown",
   "metadata": {},
   "source": [
    "Reprenez la boucle précédente et arrêtez l'affichage des caractères au premier `o` trouvé.\n",
    "1. Faites une première version qui affiche le premier `o`\n",
    "1. Faites une seconde version qui s'arrête avant d'afficher le premier `o`"
   ]
  },
  {
   "cell_type": "code",
   "execution_count": null,
   "metadata": {},
   "outputs": [],
   "source": [
    "#1 \n",
    "for lettre in \"Hello World\":\n",
    "    print(lettre)\n",
    "    if lettre == \"o\":\n",
    "        break\n",
    "#2\n",
    "for lettre in \"Hello World\":\n",
    "    if lettre == \"o\":\n",
    "        break\n",
    "    print(lettre)"
   ]
  },
  {
   "cell_type": "markdown",
   "metadata": {},
   "source": [
    "# Exercice 3.1 : Boucles imbriquées\n",
    "Imprimez la figure suivante:\n",
    "```\n",
    "*\n",
    "**\n",
    "***\n",
    "****\n",
    "```\n",
    "Étapes possibles pour la création de cet algorithme:\n",
    "1. Imprimez une étoile par ligne\n",
    "1. Imprimez 1 étoile pour la 1ere ligne, 2 étoiles pour la 2ieme ligne etc..\n",
    "\n",
    "Créez la variable `nb_lignes` pour choisir le nombre de lignes de la figure. Pour cette exemple, utilisez `nb_lignes = 4`"
   ]
  },
  {
   "cell_type": "code",
   "execution_count": null,
   "metadata": {},
   "outputs": [],
   "source": [
    "nb_lignes = 4\n",
    "for i in range(1, nb_lignes+1):\n",
    "    for j in range(i):\n",
    "        print(\"*\", end=\"\")\n",
    "    print(\"\")"
   ]
  },
  {
   "cell_type": "markdown",
   "metadata": {},
   "source": [
    "## Exercice 3.2 : Question bonus\n",
    "A partir de la question précédente modifiez votre algorithme pour qu'il affiche cette figure:\n",
    "```\n",
    "   *\n",
    "  **\n",
    " ***\n",
    "****\n",
    "```\n",
    "\n",
    "Essayer de trouver un moyen d'insérer le bon nombre d'espaces avant d'afficher une étoile."
   ]
  },
  {
   "cell_type": "code",
   "execution_count": 1,
   "metadata": {},
   "outputs": [
    {
     "name": "stdout",
     "output_type": "stream",
     "text": [
      "   *\n",
      "  **\n",
      " ***\n",
      "****\n"
     ]
    }
   ],
   "source": [
    "nb_lignes = 4\n",
    "for i in range(1, nb_lignes+1):\n",
    "    for j in range(nb_lignes-i):\n",
    "        print(\" \", end=\"\")\n",
    "    for j in range(i):\n",
    "        print(\"*\", end=\"\")\n",
    "    print(\"\")"
   ]
  },
  {
   "cell_type": "markdown",
   "metadata": {},
   "source": [
    "# Exercice 4 : Suite de Fibonacci"
   ]
  },
  {
   "cell_type": "code",
   "execution_count": null,
   "metadata": {},
   "outputs": [],
   "source": [
    "nb_iteration = 10\n",
    "# initialisation de la suite\n",
    "FN_2 = 0 #F0\n",
    "FN_1 = 1 #F1\n",
    "\n",
    "for i in range(2, nb_iteration+1):\n",
    "    FN = FN_1 + FN_2\n",
    "    print(f\"F_{i} = {FN}\")\n",
    "    FN_2 = FN_1\n",
    "    FN_1 = FN"
   ]
  }
 ],
 "metadata": {
  "kernelspec": {
   "display_name": "Python 3",
   "language": "python",
   "name": "python3"
  },
  "language_info": {
   "codemirror_mode": {
    "name": "ipython",
    "version": 3
   },
   "file_extension": ".py",
   "mimetype": "text/x-python",
   "name": "python",
   "nbconvert_exporter": "python",
   "pygments_lexer": "ipython3",
   "version": "3.11.9"
  }
 },
 "nbformat": 4,
 "nbformat_minor": 2
}
