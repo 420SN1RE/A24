{
 "cells": [
  {
   "cell_type": "markdown",
   "metadata": {},
   "source": [
    "## Exécuter les programmes puis à l'aide d'excel, construire la trace d'exécution des programmes suivants"
   ]
  },
  {
   "cell_type": "markdown",
   "metadata": {},
   "source": [
    "### Exercice 1 : la factorielle du nombre 5"
   ]
  },
  {
   "cell_type": "code",
   "execution_count": 2,
   "metadata": {},
   "outputs": [
    {
     "name": "stdout",
     "output_type": "stream",
     "text": [
      "Calcul de la factorielle de 5\n",
      "Résultat = 1\n",
      "Résultat = 2\n",
      "Résultat = 6\n",
      "Résultat = 24\n",
      "Résultat = 120\n",
      "La factorielle de 5 est de 120\n"
     ]
    }
   ],
   "source": [
    "n = 5\n",
    "\n",
    "print(\"Calcul de la factorielle de\", n)\n",
    "if n == 0 or n == 1:\n",
    "    resultat = 1\n",
    "else:\n",
    "    resultat = 1\n",
    "    for nombre in range(1, n + 1):\n",
    "        resultat = resultat * nombre\n",
    "        print(\"Résultat =\", resultat)\n",
    "print(\"La factorielle de\", n, \"est de\", resultat)"
   ]
  },
  {
   "cell_type": "markdown",
   "metadata": {},
   "source": [
    "### Exercice 2 : calcul de la moyenne"
   ]
  },
  {
   "cell_type": "code",
   "execution_count": 4,
   "metadata": {},
   "outputs": [
    {
     "name": "stdout",
     "output_type": "stream",
     "text": [
      "Liste des nombres : 10 ; 20 ; 30\n",
      "La somme des nombres est de : 60\n",
      "Moyenne : 20.0\n"
     ]
    }
   ],
   "source": [
    "nombre1 = 10\n",
    "nombre2 = 20\n",
    "nombre3 = 30\n",
    "print(\"Liste des nombres :\", nombre1, \";\", nombre2, \";\", nombre3)\n",
    "somme = nombre1 + nombre2 + nombre3\n",
    "print(\"La somme des nombres est de :\", somme)\n",
    "moyenne = somme / 3\n",
    "print(\"Moyenne :\", moyenne)"
   ]
  },
  {
   "cell_type": "markdown",
   "metadata": {},
   "source": [
    "### Exercice 3 : Calcul du périmètre d'un cercle de rayon 4"
   ]
  },
  {
   "cell_type": "code",
   "execution_count": 3,
   "metadata": {},
   "outputs": [
    {
     "name": "stdout",
     "output_type": "stream",
     "text": [
      "Rayon du cercle : 4\n",
      "Périmètre du cercle : 25.13\n"
     ]
    }
   ],
   "source": [
    "import math\n",
    "\n",
    "rayon = 4\n",
    "\n",
    "print(\"Rayon du cercle :\", rayon)\n",
    "perimetre = 2 * math.pi * rayon\n",
    "print(\"Périmètre du cercle :\", round(perimetre, 2))\n"
   ]
  },
  {
   "cell_type": "markdown",
   "metadata": {},
   "source": [
    "### Exercice 4 : Calcul de la somme des chiffres d'un nombre"
   ]
  },
  {
   "cell_type": "code",
   "execution_count": 7,
   "metadata": {},
   "outputs": [
    {
     "name": "stdout",
     "output_type": "stream",
     "text": [
      "Nombre : 1234\n",
      "Chiffre extrait : 4\n",
      "Nombre restant : 123\n",
      "Chiffre extrait : 3\n",
      "Nombre restant : 12\n",
      "Chiffre extrait : 2\n",
      "Nombre restant : 1\n",
      "Chiffre extrait : 1\n",
      "Nombre restant : 0\n",
      "Somme des chiffres : 10\n"
     ]
    }
   ],
   "source": [
    "nombre = 1234\n",
    "\n",
    "print(\"Nombre :\", nombre)\n",
    "somme = 0\n",
    "while nombre > 0:\n",
    "    chiffre = nombre % 10\n",
    "    print(\"Chiffre extrait :\", chiffre)\n",
    "    somme = somme + chiffre\n",
    "    nombre = nombre // 10\n",
    "    print(\"Nombre restant :\", nombre)\n",
    "print(\"Somme des chiffres :\", somme)\n"
   ]
  }
 ],
 "metadata": {
  "kernelspec": {
   "display_name": "Python 3",
   "language": "python",
   "name": "python3"
  },
  "language_info": {
   "codemirror_mode": {
    "name": "ipython",
    "version": 3
   },
   "file_extension": ".py",
   "mimetype": "text/x-python",
   "name": "python",
   "nbconvert_exporter": "python",
   "pygments_lexer": "ipython3",
   "version": "3.11.9"
  }
 },
 "nbformat": 4,
 "nbformat_minor": 2
}
