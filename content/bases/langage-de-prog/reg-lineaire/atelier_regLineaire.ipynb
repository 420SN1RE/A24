{
 "cells": [
  {
   "cell_type": "code",
   "execution_count": null,
   "metadata": {},
   "outputs": [],
   "source": [
    "import numpy as np\n",
    "import pandas as pd\n",
    "import matplotlib.pyplot as plt\n",
    "from sklearn.linear_model import LinearRegression\n",
    "\n",
    "# Création des données\n",
    "X = np.array([1, 2, 3, 4, 5]).reshape(-1, 1)\n",
    "y = np.array([1, 3, 2, 5, 4])\n",
    "\n",
    "# Création du modèle de régression linéaire\n",
    "modele = LinearRegression()\n",
    "\n",
    "# Entraînement du modèle\n",
    "modele.fit(X, y)\n",
    "\n",
    "# Prédiction des valeurs\n",
    "y_pred = modele.predict(X)\n",
    "\n",
    "# Tracé des points de données\n",
    "plt.scatter(X, y, color='blue', label='Données réelles')\n",
    "\n",
    "# Tracé de la ligne de régression\n",
    "plt.plot(X, y_pred, color='red', label='Ligne de régression')\n",
    "\n",
    "# Ajout de l'équation de la droite de régression\n",
    "a = modele.coef_[0]\n",
    "b = modele.intercept_\n",
    "equation = f'y = {a:.2f}x + {b:.2f}'\n",
    "plt.text(1, 4.5, equation, fontsize=12, color='black')\n",
    "\n",
    "# Ajout des labels et de la légende\n",
    "plt.xlabel('X')\n",
    "plt.ylabel('y')\n",
    "plt.title('Régression Linéaire')\n",
    "plt.legend()\n",
    "\n",
    "# Affichage du graphique\n",
    "plt.show()"
   ]
  }
 ],
 "metadata": {
  "kernelspec": {
   "display_name": "Python 3",
   "language": "python",
   "name": "python3"
  },
  "language_info": {
   "codemirror_mode": {
    "name": "ipython",
    "version": 3
   },
   "file_extension": ".py",
   "mimetype": "text/x-python",
   "name": "python",
   "nbconvert_exporter": "python",
   "pygments_lexer": "ipython3",
   "version": "3.11.9"
  }
 },
 "nbformat": 4,
 "nbformat_minor": 2
}
