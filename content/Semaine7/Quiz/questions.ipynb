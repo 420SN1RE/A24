{
 "cells": [
  {
   "cell_type": "markdown",
   "metadata": {},
   "source": [
    "## Q3 - Quel est le résultat du code suivant ?"
   ]
  },
  {
   "cell_type": "code",
   "execution_count": 122,
   "metadata": {},
   "outputs": [
    {
     "name": "stdout",
     "output_type": "stream",
     "text": [
      "0 1 0 1 "
     ]
    }
   ],
   "source": [
    "#1) cas double for 0 1 0 1\n",
    "for i in range(1,3):\n",
    "    for j in range(2):\n",
    "        print(j, end=\" \")\n",
    "\n",
    "#a) 0 1 0 1 2\n",
    "#*b) 0 0 1\n",
    "#c) 0 0 1 0 1 \n",
    "#d) 0 0 1 0 "
   ]
  },
  {
   "cell_type": "code",
   "execution_count": 123,
   "metadata": {},
   "outputs": [
    {
     "name": "stdout",
     "output_type": "stream",
     "text": [
      "0 1 0 1 "
     ]
    }
   ],
   "source": [
    "#1) cas double while 0 1 0 1\n",
    "i = 0\n",
    "while i < 2:\n",
    "    j = 0\n",
    "    while j < 2:\n",
    "        print(j, end=\" \")\n",
    "        j += 1\n",
    "    i += 1\n",
    "\n",
    "\n",
    "#*a) 0 1 0 1\n",
    "#b) 0 0 0 0 1\n",
    "#c) 0 1 0 1 1\n",
    "#d) 0 1 0 0"
   ]
  },
  {
   "cell_type": "code",
   "execution_count": 124,
   "metadata": {},
   "outputs": [
    {
     "name": "stdout",
     "output_type": "stream",
     "text": [
      "0 0 1 0 "
     ]
    }
   ],
   "source": [
    "#1) cas double for 0 0 1 0\n",
    "for i in range(2):\n",
    "    for j in range(1):\n",
    "        print(i, j, end=\" \")\n",
    "\n",
    "#a) 0 0 0 1\n",
    "#b) 0 0 1 0 1 \n",
    "#c) 0 0 1 0\n",
    "#d) 0 0 1 0 2"
   ]
  },
  {
   "cell_type": "code",
   "execution_count": 125,
   "metadata": {},
   "outputs": [
    {
     "name": "stdout",
     "output_type": "stream",
     "text": [
      "0 0 1 0 "
     ]
    }
   ],
   "source": [
    "#1) cas double while 0 0 1 0\n",
    "i = 0\n",
    "while i < 2:\n",
    "    j = 0\n",
    "    while j < 1:\n",
    "        print(i, j, end=\" \")\n",
    "        j += 1\n",
    "    i += 1\n"
   ]
  },
  {
   "cell_type": "markdown",
   "metadata": {},
   "source": [
    "## Q3 - Écrire un programme"
   ]
  },
  {
   "cell_type": "code",
   "execution_count": null,
   "metadata": {},
   "outputs": [],
   "source": [
    "# gr7) Écrivez un programme qui utilise une boucle while pour calculer la somme des nombres impairs de 1 à 100 :\n",
    "# Écrivez votre code ici\n",
    "somme = 0\n",
    "nombre = 1\n",
    "\n",
    "while nombre <= 100:\n",
    "    if nombre % 2 != 0:\n",
    "        somme += nombre\n",
    "    nombre += 1\n",
    "===\n",
    "\n",
    "# gr5) Écrivez un programme qui utilise une boucle while pour calculer la somme des nombres pairs de 1 à 100 :\n",
    "# Écrivez votre code ici\n",
    "somme = 0\n",
    "nombre = 1\n",
    "\n",
    "while nombre <= 100:\n",
    "    if nombre % 2 == 0:\n",
    "        somme += nombre\n",
    "    nombre += 1\n",
    "\n",
    "===\n",
    "\n",
    "# gr6 jeudi 8h) Écrivez un programme qui utilise une boucle while pour afficher les nombres de 100 à 1 :\n",
    "# Écrivez votre code ici\n",
    "\n",
    "i = 100\n",
    "while i > 0:\n",
    "    print(i)\n",
    "    i -= 1\n",
    "\n",
    " ===\n",
    "\n",
    "# gr8 jeudi 13h30) Écrivez un programme qui utilise une boucle for pour afficher les nombres de 100 à 1  :\n",
    "# Écrivez votre code ici\n",
    "\n",
    "for i in range(100,0,-1):   \n",
    "    print(i)   \n"
   ]
  },
  {
   "cell_type": "code",
   "execution_count": null,
   "metadata": {},
   "outputs": [],
   "source": [
    "i = 100\n",
    "while i > 0:\n",
    "    print(i)\n",
    "    i -= 10"
   ]
  },
  {
   "cell_type": "code",
   "execution_count": 121,
   "metadata": {},
   "outputs": [
    {
     "name": "stdout",
     "output_type": "stream",
     "text": [
      "50\n",
      "44\n",
      "38\n",
      "32\n",
      "26\n",
      "20\n",
      "14\n",
      "8\n",
      "2\n"
     ]
    }
   ],
   "source": [
    "i = 50\n",
    "while i >= 0:\n",
    "    print(i)\n",
    "    i -= 6\n"
   ]
  },
  {
   "cell_type": "code",
   "execution_count": 115,
   "metadata": {},
   "outputs": [
    {
     "name": "stdout",
     "output_type": "stream",
     "text": [
      "10\n",
      "20\n",
      "30\n",
      "40\n",
      "50\n",
      "60\n",
      "70\n",
      "80\n",
      "90\n"
     ]
    }
   ],
   "source": [
    "i = 10\n",
    "while i < 100:\n",
    "    print(i)\n",
    "    i += 10\n"
   ]
  },
  {
   "cell_type": "code",
   "execution_count": 116,
   "metadata": {},
   "outputs": [
    {
     "name": "stdout",
     "output_type": "stream",
     "text": [
      "20\n",
      "18\n",
      "16\n",
      "14\n",
      "12\n",
      "10\n",
      "8\n",
      "6\n",
      "4\n",
      "2\n"
     ]
    }
   ],
   "source": [
    "i = 20\n",
    "while i != 0:\n",
    "    print(i)\n",
    "    i -= 2\n"
   ]
  },
  {
   "cell_type": "code",
   "execution_count": null,
   "metadata": {},
   "outputs": [],
   "source": [
    "for i in range(100,0,-1):   \n",
    "    print(i) "
   ]
  },
  {
   "cell_type": "markdown",
   "metadata": {},
   "source": [
    "## Q1 - Choix de réponse"
   ]
  },
  {
   "cell_type": "markdown",
   "metadata": {},
   "source": [
    "- Quel est le rôle de la clause else dans une boucle ?\n",
    "a) Elle s’exécute à chaque itération de la boucle\n",
    "b) Elle s’exécute uniquement si la boucle est interrompue par un break\n",
    "c) *Elle s’exécute uniquement si la boucle se termine normalement\n",
    "d) Elle ne s’exécute jamais\n",
    "\n",
    "- Quel est le rôle de la clause break dans une boucle ?\n",
    "a. *Terminer immédiatement la boucle et passer à l’instruction suivante après la boucle.\n",
    "b. Ignorer l’itération actuelle et passer à l’itération suivante de la boucle.\n",
    "c. Réinitialiser les variables de la boucle à leurs valeurs initiales.\n",
    "d. Doubler la valeur de l’itérateur de la boucle\n",
    "\n",
    "- Quel est le rôle de la clause continue dans une boucle ?\n",
    "a. Terminer immédiatement la boucle et passer à l’instruction suivante après la boucle.\n",
    "b. Ignorer l’itération actuelle et passer à l’itération suivante de la boucle.\n",
    "c. Réinitialiser les variables de la boucle à leurs valeurs initiales.\n",
    "d. Doubler la valeur de l’itérateur de la boucle."
   ]
  },
  {
   "cell_type": "markdown",
   "metadata": {},
   "source": [
    "a- Quel est le rôle de la variable i dans la boucle suivante ?\n",
    "\n",
    "for i in range(5):\n",
    "    print(i)\n",
    "\n",
    "a) i est un compteur qui prend successivement les valeurs de 0 à 4.\n",
    "b) i est une constante qui reste toujours égale à 5.\n",
    "c) i est une variable qui prend des valeurs aléatoires entre 0 et 5.\n",
    "d) i est une variable qui prend successivement les valeurs de 1 à 5.\n",
    "===\n",
    "b- Quel est le rôle de la variable nb dans la boucle suivante ?\n",
    "\n",
    "for nb in range(5):\n",
    "    print(i)\n",
    "\n",
    "===\n",
    "\n",
    "c- Quel est le rôle de la variable elt dans la boucle suivante ?\n",
    "\n",
    "for elt in range(5):\n",
    "    print(i)\n",
    "\n"
   ]
  },
  {
   "cell_type": "code",
   "execution_count": 107,
   "metadata": {},
   "outputs": [
    {
     "name": "stdout",
     "output_type": "stream",
     "text": [
      "1\n",
      "3\n",
      "5\n",
      "7\n",
      "9\n"
     ]
    }
   ],
   "source": [
    "for i in range(1,10,2):\n",
    "    print(i)"
   ]
  },
  {
   "cell_type": "code",
   "execution_count": 108,
   "metadata": {},
   "outputs": [
    {
     "name": "stdout",
     "output_type": "stream",
     "text": [
      "0\n",
      "1\n",
      "2\n",
      "3\n",
      "4\n",
      "5\n",
      "6\n",
      "7\n",
      "8\n",
      "9\n",
      "10\n",
      "11\n",
      "12\n",
      "13\n",
      "14\n",
      "15\n",
      "16\n",
      "17\n",
      "18\n",
      "19\n",
      "20\n",
      "21\n",
      "22\n",
      "23\n",
      "24\n",
      "25\n",
      "26\n",
      "27\n",
      "28\n",
      "29\n",
      "30\n",
      "31\n",
      "32\n",
      "33\n",
      "34\n",
      "35\n",
      "36\n",
      "37\n",
      "38\n",
      "39\n",
      "40\n",
      "41\n",
      "42\n",
      "43\n",
      "44\n",
      "45\n",
      "46\n",
      "47\n",
      "48\n",
      "49\n",
      "50\n",
      "51\n",
      "52\n",
      "53\n",
      "54\n",
      "55\n",
      "56\n",
      "57\n",
      "58\n",
      "59\n",
      "60\n",
      "61\n",
      "62\n",
      "63\n",
      "64\n",
      "65\n",
      "66\n",
      "67\n",
      "68\n",
      "69\n",
      "70\n",
      "71\n",
      "72\n",
      "73\n",
      "74\n",
      "75\n",
      "76\n",
      "77\n",
      "78\n",
      "79\n",
      "80\n",
      "81\n",
      "82\n",
      "83\n",
      "84\n",
      "85\n",
      "86\n",
      "87\n",
      "88\n",
      "89\n",
      "90\n",
      "91\n",
      "92\n",
      "93\n",
      "94\n",
      "95\n",
      "96\n",
      "97\n",
      "98\n",
      "99\n"
     ]
    }
   ],
   "source": [
    "for i in range(100):\n",
    "    print(i)"
   ]
  }
 ],
 "metadata": {
  "kernelspec": {
   "display_name": "Python 3",
   "language": "python",
   "name": "python3"
  },
  "language_info": {
   "codemirror_mode": {
    "name": "ipython",
    "version": 3
   },
   "file_extension": ".py",
   "mimetype": "text/x-python",
   "name": "python",
   "nbconvert_exporter": "python",
   "pygments_lexer": "ipython3",
   "version": "3.11.9"
  }
 },
 "nbformat": 4,
 "nbformat_minor": 2
}
