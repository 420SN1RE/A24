{
 "cells": [
  {
   "cell_type": "markdown",
   "metadata": {},
   "source": [
    "# Exemples: Les Librairies systèmes\n",
    "\n",
    "\n",
    "\n"
   ]
  },
  {
   "cell_type": "code",
   "execution_count": 4,
   "metadata": {},
   "outputs": [
    {
     "name": "stdout",
     "output_type": "stream",
     "text": [
      "['_index.md', 'addition_2.py', 'fichier_01.png', 'librairies.png', 'programme.py', 'exemples_librairies.ipynb', 'foo', 'atelier_librairies.ipynb', 'addition.py']\n"
     ]
    },
    {
     "ename": "FileExistsError",
     "evalue": "[Errno 17] File exists: 'foo'",
     "output_type": "error",
     "traceback": [
      "\u001b[0;31m---------------------------------------------------------------------------\u001b[0m",
      "\u001b[0;31mFileExistsError\u001b[0m                           Traceback (most recent call last)",
      "Cell \u001b[0;32mIn[4], line 4\u001b[0m\n\u001b[1;32m      1\u001b[0m \u001b[38;5;28;01mimport\u001b[39;00m \u001b[38;5;21;01mos\u001b[39;00m  \u001b[38;5;66;03m# importation de la librairie os\u001b[39;00m\n\u001b[1;32m      3\u001b[0m \u001b[38;5;28mprint\u001b[39m(os\u001b[38;5;241m.\u001b[39mlistdir(\u001b[38;5;124m'\u001b[39m\u001b[38;5;124m.\u001b[39m\u001b[38;5;124m'\u001b[39m))  \u001b[38;5;66;03m# Liste les fichiers dans le répertoire courant\u001b[39;00m\n\u001b[0;32m----> 4\u001b[0m \u001b[43mos\u001b[49m\u001b[38;5;241;43m.\u001b[39;49m\u001b[43mmkdir\u001b[49m\u001b[43m(\u001b[49m\u001b[38;5;124;43m\"\u001b[39;49m\u001b[38;5;124;43mfoo\u001b[39;49m\u001b[38;5;124;43m\"\u001b[39;49m\u001b[43m)\u001b[49m         \u001b[38;5;66;03m# Crée le répertoire foo\u001b[39;00m\n",
      "\u001b[0;31mFileExistsError\u001b[0m: [Errno 17] File exists: 'foo'"
     ]
    }
   ],
   "source": [
    "import os  # importation de la librairie os\n",
    "\n",
    "print(os.listdir('.'))  # Liste les fichiers dans le répertoire courant\n",
    "os.mkdir(\"foo\")         # Crée le répertoire foo"
   ]
  },
  {
   "cell_type": "code",
   "execution_count": 7,
   "metadata": {},
   "outputs": [
    {
     "name": "stdout",
     "output_type": "stream",
     "text": [
      "['_index.md', 'addition_2.py', 'fichier_01.png', 'librairies.png', 'programme.py', 'exemples_librairies.ipynb', 'foo', 'atelier_librairies.ipynb', 'addition.py']\n",
      "[]\n",
      "['Les chaines de caractères', '_index.md', 'Introduction à la programmation', 'Les Listes', 'Les Librairies systèmes', 'Les Objets', 'La répétition - Les boucles']\n"
     ]
    }
   ],
   "source": [
    "print(os.listdir())   # liste des fichiers/répertoires du répertoire courant\n",
    "print(os.listdir('foo'))   # liste des fichiers/répertoires du sous-répertoire \"foo\"\n",
    "print(os.listdir('..'))   # liste des fichiers/répertoires du répertoire parent\n"
   ]
  },
  {
   "cell_type": "code",
   "execution_count": 11,
   "metadata": {},
   "outputs": [],
   "source": [
    "os.mkdir('nouveau_repertoire')  # Crée le répertoire \"nouveau_repertoire\" dans le répertoire courant"
   ]
  },
  {
   "cell_type": "code",
   "execution_count": 9,
   "metadata": {},
   "outputs": [
    {
     "name": "stdout",
     "output_type": "stream",
     "text": [
      "repertoire/fichier.txt\n"
     ]
    }
   ],
   "source": [
    "chemin = os.path.join('repertoire', 'fichier.txt')  # Crée le chemin à partir des chaines \"repertoire\" et \"fichier.txt\"\n",
    "print(chemin)"
   ]
  },
  {
   "cell_type": "code",
   "execution_count": 12,
   "metadata": {},
   "outputs": [
    {
     "name": "stdout",
     "output_type": "stream",
     "text": [
      "True\n",
      "False\n",
      "True\n"
     ]
    }
   ],
   "source": [
    "est_fichier = os.path.isfile('exemples_librairies.ipynb')   # Retourne Vrai si le fichier existe, sinon Faux\n",
    "est_fichier_inexistant = os.path.isfile('nexistePas.ipynb')\n",
    "est_repertoire = os.path.isdir('nouveau_repertoire')   # Retourne Vrai si le répertoire existe, sinon Faux\n",
    "\n",
    "print(est_fichier)\n",
    "print(est_fichier_inexistant)\n",
    "print(est_repertoire)\n"
   ]
  },
  {
   "cell_type": "code",
   "execution_count": 13,
   "metadata": {},
   "outputs": [
    {
     "name": "stdout",
     "output_type": "stream",
     "text": [
      "{\n",
      " \"cells\": [\n",
      "  {\n",
      "   \"cell_type\": \"markdown\",\n",
      "   \"metadata\": {},\n",
      "   \"source\": [\n",
      "    \"# Exemples: Les Librairies système\\n\",\n",
      "    \"\\n\",\n",
      "    \"\\n\",\n",
      "    \"\\n\"\n",
      "   ]\n",
      "  },\n",
      "  {\n",
      "   \"cell_type\": \"code\",\n",
      "   \"execution_count\": 4,\n",
      "   \"metadata\": {},\n",
      "   \"outputs\": [\n",
      "    {\n",
      "     \"name\": \"stdout\",\n",
      "     \"output_type\": \"stream\",\n",
      "     \"text\": [\n",
      "      \"['_index.md', 'addition_2.py', 'fichier_01.png', 'librairies.png', 'programme.py', 'exemples_librairies.ipynb', 'foo', 'atelier_librairies.ipynb', 'addition.py']\\n\"\n",
      "     ]\n",
      "    },\n",
      "    {\n",
      "     \"ename\": \"FileExistsError\",\n",
      "     \"evalue\": \"[Errno 17] File exists: 'foo'\",\n",
      "     \"output_type\": \"error\",\n",
      "     \"traceback\": [\n",
      "      \"\\u001b[0;31m---------------------------------------------------------------------------\\u001b[0m\",\n",
      "      \"\\u001b[0;31mFileExistsError\\u001b[0m                           Traceback (most recent call last)\",\n",
      "      \"Cell \\u001b[0;32mIn[4], line 4\\u001b[0m\\n\\u001b[1;32m      1\\u001b[0m \\u001b[38;5;28;01mimport\\u001b[39;00m \\u001b[38;5;21;01mos\\u001b[39;00m  \\u001b[38;5;66;03m# importation de la librairie os\\u001b[39;00m\\n\\u001b[1;32m      3\\u001b[0m \\u001b[38;5;28mprint\\u001b[39m(os\\u001b[38;5;241m.\\u001b[39mlistdir(\\u001b[38;5;124m'\\u001b[39m\\u001b[38;5;124m.\\u001b[39m\\u001b[38;5;124m'\\u001b[39m))  \\u001b[38;5;66;03m# Liste les fichiers dans le répertoire courant\\u001b[39;00m\\n\\u001b[0;32m----> 4\\u001b[0m \\u001b[43mos\\u001b[49m\\u001b[38;5;241;43m.\\u001b[39;49m\\u001b[43mmkdir\\u001b[49m\\u001b[43m(\\u001b[49m\\u001b[38;5;124;43m\\\"\\u001b[39;49m\\u001b[38;5;124;43mfoo\\u001b[39;49m\\u001b[38;5;124;43m\\\"\\u001b[39;49m\\u001b[43m)\\u001b[49m         \\u001b[38;5;66;03m# Crée le répertoire foo\\u001b[39;00m\\n\",\n",
      "      \"\\u001b[0;31mFileExistsError\\u001b[0m: [Errno 17] File exists: 'foo'\"\n",
      "     ]\n",
      "    }\n",
      "   ],\n",
      "   \"source\": [\n",
      "    \"import os  # importation de la librairie os\\n\",\n",
      "    \"\\n\",\n",
      "    \"print(os.listdir('.'))  # Liste les fichiers dans le répertoire courant\\n\",\n",
      "    \"os.mkdir(\\\"foo\\\")         # Crée le répertoire foo\"\n",
      "   ]\n",
      "  },\n",
      "  {\n",
      "   \"cell_type\": \"code\",\n",
      "   \"execution_count\": 7,\n",
      "   \"metadata\": {},\n",
      "   \"outputs\": [\n",
      "    {\n",
      "     \"name\": \"stdout\",\n",
      "     \"output_type\": \"stream\",\n",
      "     \"text\": [\n",
      "      \"['_index.md', 'addition_2.py', 'fichier_01.png', 'librairies.png', 'programme.py', 'exemples_librairies.ipynb', 'foo', 'atelier_librairies.ipynb', 'addition.py']\\n\",\n",
      "      \"[]\\n\",\n",
      "      \"['Les chaines de caractères', '_index.md', 'Introduction à la programmation', 'Les Listes', 'Les Librairies systèmes', 'Les Objets', 'La répétition - Les boucles']\\n\"\n",
      "     ]\n",
      "    }\n",
      "   ],\n",
      "   \"source\": [\n",
      "    \"print(os.listdir())   # liste des fichiers/répertoires du répertoire courant\\n\",\n",
      "    \"print(os.listdir('foo'))   # liste des fichiers/répertoires du sous-répertoire \\\"foo\\\"\\n\",\n",
      "    \"print(os.listdir('..'))   # liste des fichiers/répertoires du répertoire parent\\n\"\n",
      "   ]\n",
      "  },\n",
      "  {\n",
      "   \"cell_type\": \"code\",\n",
      "   \"execution_count\": 11,\n",
      "   \"metadata\": {},\n",
      "   \"outputs\": [],\n",
      "   \"source\": [\n",
      "    \"os.mkdir('nouveau_repertoire')  # Crée le répertoire \\\"nouveau_repertoire\\\" dans le répertoire courant\"\n",
      "   ]\n",
      "  },\n",
      "  {\n",
      "   \"cell_type\": \"code\",\n",
      "   \"execution_count\": 9,\n",
      "   \"metadata\": {},\n",
      "   \"outputs\": [\n",
      "    {\n",
      "     \"name\": \"stdout\",\n",
      "     \"output_type\": \"stream\",\n",
      "     \"text\": [\n",
      "      \"repertoire/fichier.txt\\n\"\n",
      "     ]\n",
      "    }\n",
      "   ],\n",
      "   \"source\": [\n",
      "    \"chemin = os.path.join('repertoire', 'fichier.txt')  # Crée le chemin à partir des chaines \\\"repertoire\\\" et \\\"fichier.txt\\\"\\n\",\n",
      "    \"print(chemin)\"\n",
      "   ]\n",
      "  },\n",
      "  {\n",
      "   \"cell_type\": \"code\",\n",
      "   \"execution_count\": 12,\n",
      "   \"metadata\": {},\n",
      "   \"outputs\": [\n",
      "    {\n",
      "     \"name\": \"stdout\",\n",
      "     \"output_type\": \"stream\",\n",
      "     \"text\": [\n",
      "      \"True\\n\",\n",
      "      \"False\\n\",\n",
      "      \"True\\n\"\n",
      "     ]\n",
      "    }\n",
      "   ],\n",
      "   \"source\": [\n",
      "    \"estFichier = os.path.isfile('exemples_librairies.ipynb')   # Retourne Vrai si le fichier existe, sinon Faux\\n\",\n",
      "    \"estFichierInexistant = os.path.isfile('nexistePas.ipynb')\\n\",\n",
      "    \"estRepertoire = os.path.isdir('nouveau_repertoire')   # Retourne Vrai si le répertoire existe, sinon Faux\\n\",\n",
      "    \"\\n\",\n",
      "    \"print(estFichier)\\n\",\n",
      "    \"print(estFichierInexistant)\\n\",\n",
      "    \"print(estRepertoire)\\n\"\n",
      "   ]\n",
      "  },\n",
      "  {\n",
      "   \"cell_type\": \"code\",\n",
      "   \"execution_count\": null,\n",
      "   \"metadata\": {},\n",
      "   \"outputs\": [],\n",
      "   \"source\": [\n",
      "    \"nomFichier = 'exemples_librairies.ipynb'\\n\",\n",
      "    \"if os.path.exists(nomFichier):        # Si le fichier n'existe pas, la lecture n'aura pas lieu\\n\",\n",
      "    \"    with open(nomFichier, 'r') as fichier:\\n\",\n",
      "    \"        contenu = fichier.read()\\n\",\n",
      "    \"    print(contenu)\"\n",
      "   ]\n",
      "  }\n",
      " ],\n",
      " \"metadata\": {\n",
      "  \"kernelspec\": {\n",
      "   \"display_name\": \"Python 3\",\n",
      "   \"language\": \"python\",\n",
      "   \"name\": \"python3\"\n",
      "  },\n",
      "  \"language_info\": {\n",
      "   \"codemirror_mode\": {\n",
      "    \"name\": \"ipython\",\n",
      "    \"version\": 3\n",
      "   },\n",
      "   \"file_extension\": \".py\",\n",
      "   \"mimetype\": \"text/x-python\",\n",
      "   \"name\": \"python\",\n",
      "   \"nbconvert_exporter\": \"python\",\n",
      "   \"pygments_lexer\": \"ipython3\",\n",
      "   \"version\": \"3.10.12\"\n",
      "  }\n",
      " },\n",
      " \"nbformat\": 4,\n",
      " \"nbformat_minor\": 2\n",
      "}\n",
      "\n"
     ]
    }
   ],
   "source": [
    "nom_fichier = 'exemples_librairies.ipynb'\n",
    "if os.path.exists(nom_fichier):        # Si le fichier n'existe pas, la lecture n'aura pas lieu\n",
    "    with open(nom_fichier, 'r') as fichier:\n",
    "        contenu = fichier.read()\n",
    "    print(contenu)"
   ]
  },
  {
   "cell_type": "code",
   "execution_count": 14,
   "metadata": {},
   "outputs": [
    {
     "name": "stdout",
     "output_type": "stream",
     "text": [
      "addition_2.py\n",
      "addition.py\n",
      "atelier_librairies.ipynb\n",
      "exemples_librairies.ipynb\n",
      "fichier_01.png\n",
      "foo\n",
      "_index.md\n",
      "librairies.png\n",
      "programme.py\n"
     ]
    }
   ],
   "source": [
    "if os.name == 'nt':     # Si Windows\n",
    "    os.system('dir')\n",
    "elif os.name == 'posix':        # Si Linux\n",
    "    os.system('ls')"
   ]
  },
  {
   "cell_type": "code",
   "execution_count": 15,
   "metadata": {},
   "outputs": [],
   "source": [
    "# création de `premierProgramme.py`\n",
    "with open('premierProgramme.py', 'w') as fichier:\n",
    "    fichier.write('print(\"Bonjour\")\\n')\n"
   ]
  },
  {
   "cell_type": "code",
   "execution_count": 18,
   "metadata": {},
   "outputs": [
    {
     "name": "stdout",
     "output_type": "stream",
     "text": [
      "Bonjour\n"
     ]
    }
   ],
   "source": [
    "# Exécution de `premierProgramme.py`\n",
    "\n",
    "if os.name == 'nt':     # Si Windows\n",
    "    os.system('python premierProgramme.py')\n",
    "elif os.name == 'posix':        # Si Linux\n",
    "    os.system('python3 premierProgramme.py')\n",
    "\n"
   ]
  },
  {
   "cell_type": "code",
   "execution_count": 20,
   "metadata": {},
   "outputs": [
    {
     "name": "stdout",
     "output_type": "stream",
     "text": [
      "La valeur minimale est : 1\n"
     ]
    }
   ],
   "source": [
    "# Trouvez la valeur minimale de la liste\n",
    "\n",
    "import sys\n",
    "\n",
    "ma_liste = [7,5,3,4,5,7,6,1,2,6]\n",
    "minimum_trouve = sys.maxsize       # On initialise minimum_trouve avec une très grande valeur\n",
    "\n",
    "for val in ma_liste:\n",
    "    if val < minimum_trouve:\n",
    "        minimum_trouve = val\n",
    "\n",
    "print(\"La valeur minimale est :\", minimum_trouve)"
   ]
  }
 ],
 "metadata": {
  "kernelspec": {
   "display_name": "Python 3",
   "language": "python",
   "name": "python3"
  },
  "language_info": {
   "codemirror_mode": {
    "name": "ipython",
    "version": 3
   },
   "file_extension": ".py",
   "mimetype": "text/x-python",
   "name": "python",
   "nbconvert_exporter": "python",
   "pygments_lexer": "ipython3",
   "version": "3.10.12"
  }
 },
 "nbformat": 4,
 "nbformat_minor": 2
}
