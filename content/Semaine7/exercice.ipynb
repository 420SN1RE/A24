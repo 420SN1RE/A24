{
 "cells": [
  {
   "cell_type": "code",
   "execution_count": 4,
   "metadata": {},
   "outputs": [
    {
     "name": "stdout",
     "output_type": "stream",
     "text": [
      "Bonjour Nathalie, malheureusement, ce programme est réservé au plus de 18 ans et vous n'avez que 16 ans\n"
     ]
    }
   ],
   "source": [
    "# Informations de l'utilisateur\n",
    "prenom = input(\"Comment vous appelez-vous ?\")\n",
    "age = int(input(\"Quel âge avez-vous ?\"))\n",
    "\n",
    "# Vérification de l'éligibilité de l'utilisateur\n",
    "while age <= 18:\n",
    "    print(f\"Bonjour {prenom}, malheureusement, ce programme est réservé au plus de 18 ans et vous n'avez que {age} ans\")\n",
    "    break\n",
    "else:\n",
    "    # Chaîne à analyser\n",
    "    chaine = input(\"Entrer une phrase\")\n",
    "\n",
    "    # Liste pour stocker les caractères\n",
    "    caracteres = []\n",
    "\n",
    "    # Liste pour les caractères uniques\n",
    "    caracteres_uniques = []\n",
    "\n",
    "    # Liste pour la fréquence des caractères\n",
    "    frequence_caracteres = []\n",
    "\n",
    "    # Parcourir chaque caractère dans la chaîne\n",
    "    for caractere in chaine:\n",
    "        caracteres.append(caractere.lower())  # Normaliser le caractère\n",
    "        if caractere.lower() not in caracteres_uniques:\n",
    "            caracteres_uniques.append(caractere.lower())\n",
    "            frequence_caracteres.append(1)\n",
    "        else:\n",
    "            index = caracteres_uniques.index(caractere.lower())\n",
    "            frequence_caracteres[index] += 1\n",
    "\n",
    "    # Afficher les résultats\n",
    "    print(\"Nombre de caractères:\", len(caracteres))\n",
    "    print(\"Caractères uniques:\", caracteres_uniques)\n",
    "    print(\"Fréquence des caractères:\", frequence_caracteres)\n"
   ]
  },
  {
   "cell_type": "code",
   "execution_count": 2,
   "metadata": {},
   "outputs": [
    {
     "name": "stdout",
     "output_type": "stream",
     "text": [
      "Liste des produits:\n",
      "Nom: pomme, Prix: 2.3\n",
      "Nom: banane, Prix: 4.0\n",
      "Nom: kiwi, Prix: 8.0\n",
      "Produit trouvé - Nom: pomme, Prix: 2.3\n"
     ]
    }
   ],
   "source": [
    "# Initialisation de la liste des produits\n",
    "produits = []\n",
    "\n",
    "# Demander à l'utilisateur combien de produits il veut ajouter\n",
    "nombre_de_produits = int(input(\"Combien de produits voulez-vous ajouter ? \"))\n",
    "\n",
    "# Boucle pour entrer les produits\n",
    "for i in range(nombre_de_produits):\n",
    "    nom = input(f\"Entrez le nom du produit {i+1}: \")\n",
    "    prix = float(input(f\"Entrez le prix du produit {i+1}: \"))\n",
    "    produits.append({'nom': nom, 'prix': prix})\n",
    "\n",
    "# Afficher la liste des produits\n",
    "print(\"Liste des produits:\")\n",
    "for produit in produits:\n",
    "    print(f\"Nom: {produit['nom']}, Prix: {produit['prix']}\")\n",
    "\n",
    "# Recherche de produit\n",
    "recherche = input(\"Voulez-vous rechercher un produit par nom ou par prix ? (nom/prix): \")\n",
    "\n",
    "if recherche == \"nom\":\n",
    "    nom_recherche = input(\"Entrez le nom du produit à rechercher: \")\n",
    "    for produit in produits:\n",
    "        if produit['nom'] == nom_recherche:\n",
    "            print(f\"Produit trouvé - Nom: {produit['nom']}, Prix: {produit['prix']}\")\n",
    "elif recherche == \"prix\":\n",
    "    prix_recherche = float(input(\"Entrez le prix maximum: \"))\n",
    "    for produit in produits:\n",
    "        if produit['prix'] <= prix_recherche:\n",
    "            print(f\"Produit trouvé - Nom: {produit['nom']}, Prix: {produit['prix']}\")\n",
    "else:\n",
    "    print(\"Option de recherche invalide.\")\n"
   ]
  }
 ],
 "metadata": {
  "kernelspec": {
   "display_name": "Python 3",
   "language": "python",
   "name": "python3"
  },
  "language_info": {
   "codemirror_mode": {
    "name": "ipython",
    "version": 3
   },
   "file_extension": ".py",
   "mimetype": "text/x-python",
   "name": "python",
   "nbconvert_exporter": "python",
   "pygments_lexer": "ipython3",
   "version": "3.11.9"
  }
 },
 "nbformat": 4,
 "nbformat_minor": 2
}
