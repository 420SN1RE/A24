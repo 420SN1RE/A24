{
 "cells": [
  {
   "cell_type": "markdown",
   "metadata": {},
   "source": [
    "# Mise en Situation :\n",
    "\n",
    "Vous travaillez dans un laboratoire de biologie et vous devez gérer la liste des espèces observées dans différentes régions. Pour cela, vous utiliserez un outil fourni par Python appelé `set`. Les sets sont des collections d'**éléments uniques**, ce qui est parfait pour gérer des listes d'espèces sans duplicata.\n",
    "\n",
    "\n",
    "# Objectif :\n",
    "\n",
    "Utiliser les méthodes de set pour ajouter des espèces, vérifier leur présence, et gérer les observations.\n",
    "\n",
    "# Méthodes :\n",
    "\n",
    "| Méthode | Description |\n",
    "| --- | --- |\n",
    "| add(element) | Cette méthode permet d'ajouter un élément au set |\n",
    "| clear() | Retire tous les éléments du set |\n",
    "| difference(set) | Retourne la différence entre 2 sets |\n",
    "| intersection() | Retourne les éléments communs entre 2 sets |\n",
    "| remove(element) | Enlève un élément du set |\n",
    "\n",
    "\n",
    "# Étapes:\n",
    "\n",
    "## Étape 1\n",
    "\n",
    "Initialisation des sets de deux régions:"
   ]
  },
  {
   "cell_type": "code",
   "execution_count": null,
   "metadata": {},
   "outputs": [],
   "source": [
    "# Cette étape est déjà réalisée, vous n'avez rien à faire\n",
    "\n",
    "foret = set()\n",
    "desert = set()\n"
   ]
  },
  {
   "cell_type": "markdown",
   "metadata": {},
   "source": [
    "## Étape 2\n",
    "\n",
    "Ajoutez les espèces suivantes à la région `foret` : \n",
    "- `Panthera tigris`\n",
    "- `Capra hircus`\n",
    "- `Gorilla beringei`\n",
    "- `Homo sapiens`\n",
    "\n",
    "Ajoutez les espèces suivantes à la région `desert` : \n",
    "- `Camelus dromedarius`\n",
    "- `Crotalus cerastes`\n",
    "- `Vulpes zerda`\n",
    "- `Homo sapiens`\n",
    "\n",
    "Validez que les éléments ont été correctement ajoutés."
   ]
  },
  {
   "cell_type": "code",
   "execution_count": null,
   "metadata": {},
   "outputs": [],
   "source": [
    "# votre code"
   ]
  },
  {
   "cell_type": "markdown",
   "metadata": {},
   "source": [
    "## Étape 3\n",
    "\n",
    "Affichez les espèces qui sont communes aux deux régions."
   ]
  },
  {
   "cell_type": "code",
   "execution_count": null,
   "metadata": {},
   "outputs": [],
   "source": [
    "# votre code"
   ]
  },
  {
   "cell_type": "markdown",
   "metadata": {},
   "source": [
    "## Étape 4\n",
    "\n",
    "L'`Homo sapiens` a disparu de la `foret`. Retirez le de la région."
   ]
  },
  {
   "cell_type": "code",
   "execution_count": null,
   "metadata": {},
   "outputs": [],
   "source": [
    "# votre code"
   ]
  },
  {
   "cell_type": "markdown",
   "metadata": {},
   "source": [
    "## Étape 5\n",
    "\n",
    "- Affichez l'ensemble `foret`.\n",
    "- Ajoutez l'espèce `Gorilla beringei` à la `foret`.\n",
    "- Affichez l'ensemble `foret`.\n",
    "\n",
    "Que remarquez-vous?"
   ]
  },
  {
   "cell_type": "code",
   "execution_count": null,
   "metadata": {},
   "outputs": [],
   "source": [
    "# votre code"
   ]
  }
 ],
 "metadata": {
  "kernelspec": {
   "display_name": "Python 3",
   "language": "python",
   "name": "python3"
  },
  "language_info": {
   "codemirror_mode": {
    "name": "ipython",
    "version": 3
   },
   "file_extension": ".py",
   "mimetype": "text/x-python",
   "name": "python",
   "nbconvert_exporter": "python",
   "pygments_lexer": "ipython3",
   "version": "3.10.12"
  }
 },
 "nbformat": 4,
 "nbformat_minor": 2
}
