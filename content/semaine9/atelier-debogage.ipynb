{
 "cells": [
  {
   "cell_type": "markdown",
   "metadata": {},
   "source": [
    "### À l'aide de la méthode print(), déboguez les codes et corrigez les erreurs "
   ]
  },
  {
   "cell_type": "code",
   "execution_count": null,
   "metadata": {},
   "outputs": [],
   "source": [
    "### Exercice 1\n",
    "\n",
    "# 2 bogues à corriger. \n",
    "# Hint: afficher le type de num et la valeur du test num % 2 = 0\n",
    "\n",
    "def verif_parite():\n",
    "    num = input(\"Entrez un nombre : \")\n",
    "    if num % 2 = 0:\n",
    "        print(f\"{num}  est pair\")\n",
    "    else:\n",
    "        print(f\"{num}  est impair\")\n",
    "\n",
    "# Test\n",
    "verif_parite()"
   ]
  },
  {
   "cell_type": "code",
   "execution_count": null,
   "metadata": {},
   "outputs": [],
   "source": [
    "### Exercice 1 - Correction\n",
    "\n",
    "def verif_parite():\n",
    "    num = int(input(\"Entrez un nombre : \")) # Convertion en entier\n",
    "    if num % 2 == 0:    # Opérateur d'égalité\n",
    "        print(f\"{num} est pair\")\n",
    "    else:\n",
    "        print(f\"{num} est impair\")\n",
    "\n",
    "# Test\n",
    "verif_parite()"
   ]
  },
  {
   "cell_type": "code",
   "execution_count": null,
   "metadata": {},
   "outputs": [],
   "source": [
    "### Exercice 2\n",
    "\n",
    "# 2 bogues à corriger\n",
    "# Hint: Afficher les valeurs de i et de total\n",
    "\n",
    "def somme_liste():\n",
    "    nombres = [1, 2, 3, 4, 5]\n",
    "    total = 0\n",
    "    i = 1\n",
    "    while i <= 5:\n",
    "        total += nombres[i]\n",
    "    print(\"La somme des éléments est :\", total)\n",
    "\n",
    "# Test\n",
    "somme_liste()"
   ]
  },
  {
   "cell_type": "code",
   "execution_count": null,
   "metadata": {},
   "outputs": [],
   "source": [
    "### Exercice 2 - Correction\n",
    "\n",
    "def somme_liste():\n",
    "    nombres = [1, 2, 3, 4, 5]\n",
    "    total = 0\n",
    "    i = 1\n",
    "    while i <= 5:\n",
    "        print(f\"i vaut {i}\")\n",
    "        print(f\"Total avant l'ajout de {i}: {total}\")\n",
    "        total += nombres[i]\n",
    "        print(f\"Total après l'ajout de {i}: {total}\")\n",
    "    print(f\"La somme des éléments est: {total}\")\n",
    "\n",
    "# Test\n",
    "somme_liste()"
   ]
  },
  {
   "cell_type": "code",
   "execution_count": null,
   "metadata": {},
   "outputs": [],
   "source": [
    "### Exercice 3\n",
    "\n",
    "# 1 bogue à corriger: le résultat doit aussi afficher le nombre saisi au clavier\n",
    "\n",
    "def compter_a_n():\n",
    "    n = int(input(\"Entrez un nombre : \"))\n",
    "    compteur = 1\n",
    "    while compteur < n:\n",
    "        print(\"Compteur :\", compteur)\n",
    "        compteur += 1\n",
    "    print(\"Fin du comptage\")\n",
    "\n",
    "# Test\n",
    "compter_a_n()"
   ]
  },
  {
   "cell_type": "code",
   "execution_count": null,
   "metadata": {},
   "outputs": [],
   "source": [
    "### Exercice 3 - Correction\n",
    "\n",
    "# Inclure le nombre n dans la condition de la boucle\n",
    "\n",
    "def compter_a_n():\n",
    "    n = int(input(\"Entrez un nombre : \"))\n",
    "    compteur = 1\n",
    "    while compteur <= n: \n",
    "        print(\"Compteur :\", compteur)\n",
    "        compteur += 1\n",
    "    print(\"Compteur à la fin de la boucle :\", compteur)\n",
    "    print(\"Fin du comptage\")\n",
    "\n",
    "# Test\n",
    "compter_a_n()"
   ]
  },
  {
   "cell_type": "code",
   "execution_count": null,
   "metadata": {},
   "outputs": [],
   "source": [
    "### Exercice 4\n",
    "\n",
    "def trouve_premiers(n):\n",
    "    for num in range(2, n + 1):\n",
    "        est_premier = True\n",
    "        print(f\"Vérification du nombre : {num}\")\n",
    "        for i in range(2, num):\n",
    "            print(f\"Vérification si {num} est divisible par {i}\")\n",
    "        if num % i == 0:\n",
    "            est_premier = False\n",
    "            print(f\"{num} est divisible par {i}, donc ce n'est pas un nombre premier\")\n",
    "            break\n",
    "    if est_premier:\n",
    "        print(f\"{num} est un nombre premier\")\n",
    "\n",
    "# Test\n",
    "nb = int(input(\"Entrer un nombre entier\"))\n",
    "trouve_premiers(nb)"
   ]
  },
  {
   "cell_type": "code",
   "execution_count": null,
   "metadata": {},
   "outputs": [],
   "source": [
    "### Exercice 4 - Correction\n",
    "\n",
    "# Mauvaise logique due à une mauvaise indentation des if\n",
    "\n",
    "def trouve_premiers(n):\n",
    "    for num in range(2, n + 1):\n",
    "        est_premier = True\n",
    "        print(f\"Vérification du nombre : {num}\")\n",
    "        for i in range(2, num):\n",
    "            print(f\"Vérification si {num} est divisible par {i}\")\n",
    "            print(f\"i vaut: {i}\")\n",
    "            print(f\"num vaut: {num}\")\n",
    "            if num % i == 0:\n",
    "                print(f\"{num} % {i} vaut {num % i}\")\n",
    "                est_premier = False\n",
    "                print(f\"{num} est divisible par {i}, donc ce n'est pas un nombre premier\")\n",
    "                break\n",
    "        if est_premier:\n",
    "            print(f\"{num} est un nombre premier\")\n",
    "\n",
    "# Test\n",
    "nb = int(input(\"Entrer un nombre entier\"))\n",
    "trouve_premiers(nb)"
   ]
  },
  {
   "cell_type": "code",
   "execution_count": null,
   "metadata": {},
   "outputs": [],
   "source": [
    "### Exercice 5\n",
    "\n",
    "def factorielle():\n",
    "    n = int(input(\"Entrez un nombre : \"))\n",
    "    resultat = 1\n",
    "    for i in range(1, n):\n",
    "        resultat *= i\n",
    "    print(f\"La factorielle de {n} est {resultat})\n",
    "\n",
    "# Test\n",
    "factorielle()"
   ]
  },
  {
   "cell_type": "code",
   "execution_count": null,
   "metadata": {},
   "outputs": [],
   "source": [
    "# Exercice 5 - Correction\n",
    "\n",
    "# Mauvaise indentation du print de la boucle\n",
    "\n",
    "def factorielle():\n",
    "    n = int(input(\"Entrez un nombre : \"))\n",
    "    resultat = 1\n",
    "    for i in range(1, n + 1):\n",
    "        print(f\"i = {i}, result avant multiplication = {resultat}\")\n",
    "        resultat *= i\n",
    "        print(f\"result après multiplication = {resultat}\")\n",
    "    print(f\"La factorielle de {n} est {resultat})\n",
    "\n",
    "# Test\n",
    "factorielle()    "
   ]
  }
 ],
 "metadata": {
  "kernelspec": {
   "display_name": "Python 3",
   "language": "python",
   "name": "python3"
  },
  "language_info": {
   "codemirror_mode": {
    "name": "ipython",
    "version": 3
   },
   "file_extension": ".py",
   "mimetype": "text/x-python",
   "name": "python",
   "nbconvert_exporter": "python",
   "pygments_lexer": "ipython3",
   "version": "3.11.9"
  }
 },
 "nbformat": 4,
 "nbformat_minor": 2
}
