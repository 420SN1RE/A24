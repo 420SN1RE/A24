{
 "cells": [
  {
   "cell_type": "code",
   "execution_count": 69,
   "metadata": {},
   "outputs": [
    {
     "name": "stdout",
     "output_type": "stream",
     "text": [
      "1.5.3\n"
     ]
    }
   ],
   "source": [
    "# 1. Importez la bibliothèque pandas et affichez sa version.\n",
    "\n",
    "import pandas as pd\n",
    "print(pd.__version__)"
   ]
  },
  {
   "cell_type": "code",
   "execution_count": 70,
   "metadata": {},
   "outputs": [
    {
     "name": "stdout",
     "output_type": "stream",
     "text": [
      "0    1\n",
      "1    2\n",
      "2    3\n",
      "3    4\n",
      "4    5\n",
      "dtype: int64\n"
     ]
    }
   ],
   "source": [
    "# 2. Créez une série pandas à partir d'une liste `[1, 2, 3, 4, 5]` et affichez-la.\n",
    "\n",
    "serie = pd.Series([1, 2, 3, 4, 5])\n",
    "print(serie)"
   ]
  },
  {
   "cell_type": "code",
   "execution_count": 71,
   "metadata": {},
   "outputs": [
    {
     "name": "stdout",
     "output_type": "stream",
     "text": [
      "   0\n",
      "0  1\n",
      "1  2\n",
      "2  3\n",
      "3  4\n",
      "4  5\n"
     ]
    }
   ],
   "source": [
    "# 3. Convertissez la série précédente en dataframe. Utilisez la méthode `to_frame`de Pandas.\n",
    "\n",
    "df = serie.to_frame()\n",
    "print(df)"
   ]
  },
  {
   "cell_type": "code",
   "execution_count": 72,
   "metadata": {},
   "outputs": [],
   "source": [
    "# 4. Importez un fichier CSV en utilisant pandas. Utilisez le fichier iris.csv disponible ici.\n",
    "\n",
    "df = pd.read_csv('iris.csv')"
   ]
  },
  {
   "cell_type": "code",
   "execution_count": 73,
   "metadata": {},
   "outputs": [
    {
     "name": "stdout",
     "output_type": "stream",
     "text": [
      "   long_sepale  larg_sepale  long_petale  larg_petale variete\n",
      "0          5.1          3.5          1.4          0.2  Setosa\n",
      "1          4.9          3.0          1.4          0.2  Setosa\n",
      "2          4.7          3.2          1.3          0.2  Setosa\n",
      "3          4.6          3.1          1.5          0.2  Setosa\n",
      "4          5.0          3.6          1.4          0.2  Setosa\n",
      "     long_sepale  larg_sepale  long_petale  larg_petale    variete\n",
      "145          6.7          3.0          5.2          2.3  Virginica\n",
      "146          6.3          2.5          5.0          1.9  Virginica\n",
      "147          6.5          3.0          5.2          2.0  Virginica\n",
      "148          6.2          3.4          5.4          2.3  Virginica\n",
      "149          5.9          3.0          5.1          1.8  Virginica\n"
     ]
    }
   ],
   "source": [
    "# 5. Affichez les 5 premières et les 5 dernières lignes du dataframe.\n",
    "\n",
    "print(df.head())\n",
    "print(df.tail())"
   ]
  },
  {
   "cell_type": "code",
   "execution_count": 74,
   "metadata": {},
   "outputs": [
    {
     "name": "stdout",
     "output_type": "stream",
     "text": [
      "(150, 5)\n"
     ]
    }
   ],
   "source": [
    "# 6. Affichez les dimensions du dataframe.\n",
    "\n",
    "print(df.shape)"
   ]
  },
  {
   "cell_type": "code",
   "execution_count": 75,
   "metadata": {},
   "outputs": [
    {
     "name": "stdout",
     "output_type": "stream",
     "text": [
      "<class 'pandas.core.frame.DataFrame'>\n",
      "RangeIndex: 150 entries, 0 to 149\n",
      "Data columns (total 5 columns):\n",
      " #   Column       Non-Null Count  Dtype  \n",
      "---  ------       --------------  -----  \n",
      " 0   long_sepale  148 non-null    float64\n",
      " 1   larg_sepale  148 non-null    float64\n",
      " 2   long_petale  145 non-null    float64\n",
      " 3   larg_petale  149 non-null    float64\n",
      " 4   variete      150 non-null    object \n",
      "dtypes: float64(4), object(1)\n",
      "memory usage: 6.0+ KB\n",
      "None\n"
     ]
    }
   ],
   "source": [
    "# 7. Affichez les informations du dataframe.\n",
    "\n",
    "print(df.info())"
   ]
  },
  {
   "cell_type": "code",
   "execution_count": 76,
   "metadata": {},
   "outputs": [
    {
     "name": "stdout",
     "output_type": "stream",
     "text": [
      "       long_sepale  larg_sepale  long_petale  larg_petale\n",
      "count   148.000000   148.000000   145.000000   149.000000\n",
      "mean      5.850676     3.058784     3.764138     1.206040\n",
      "std       0.830908     0.438602     1.757234     0.760354\n",
      "min       4.300000     2.000000     1.000000     0.100000\n",
      "25%       5.100000     2.800000     1.600000     0.300000\n",
      "50%       5.800000     3.000000     4.400000     1.300000\n",
      "75%       6.400000     3.325000     5.100000     1.800000\n",
      "max       7.900000     4.400000     6.900000     2.500000\n"
     ]
    }
   ],
   "source": [
    "# 8. Affichez les statistiques descriptives du dataframe.\n",
    "\n",
    "print(df.describe())\n"
   ]
  },
  {
   "cell_type": "code",
   "execution_count": 77,
   "metadata": {},
   "outputs": [
    {
     "name": "stdout",
     "output_type": "stream",
     "text": [
      "0         Setosa\n",
      "1         Setosa\n",
      "2         Setosa\n",
      "3         Setosa\n",
      "4         Setosa\n",
      "         ...    \n",
      "145    Virginica\n",
      "146    Virginica\n",
      "147    Virginica\n",
      "148    Virginica\n",
      "149    Virginica\n",
      "Name: variete, Length: 150, dtype: object\n"
     ]
    }
   ],
   "source": [
    "# 9. Sélectionnez la colonne 'variete' du dataframe.\n",
    "\n",
    "print(df['variete'])"
   ]
  },
  {
   "cell_type": "code",
   "execution_count": 78,
   "metadata": {},
   "outputs": [
    {
     "name": "stdout",
     "output_type": "stream",
     "text": [
      "     long_sepale  larg_sepale  long_petale  larg_petale    variete  index\n",
      "0            5.1          3.5          1.4          0.2     Setosa      0\n",
      "1            4.9          3.0          1.4          0.2     Setosa      2\n",
      "2            4.7          3.2          1.3          0.2     Setosa      4\n",
      "3            4.6          3.1          1.5          0.2     Setosa      6\n",
      "4            5.0          3.6          1.4          0.2     Setosa      8\n",
      "..           ...          ...          ...          ...        ...    ...\n",
      "145          6.7          3.0          5.2          2.3  Virginica    290\n",
      "146          6.3          2.5          5.0          1.9  Virginica    292\n",
      "147          6.5          3.0          5.2          2.0  Virginica    294\n",
      "148          6.2          3.4          5.4          2.3  Virginica    296\n",
      "149          5.9          3.0          5.1          1.8  Virginica    298\n",
      "\n",
      "[150 rows x 6 columns]\n"
     ]
    }
   ],
   "source": [
    "# 10. Ajoutez une nouvelle colonne 'Index' à un dataframe qui est l'index actuel multiplié par 2.\n",
    "\n",
    "df['index'] = df.index * 2\n",
    "print(df)\n"
   ]
  },
  {
   "cell_type": "code",
   "execution_count": 79,
   "metadata": {},
   "outputs": [
    {
     "name": "stdout",
     "output_type": "stream",
     "text": [
      "     long_sepale  larg_sepale  long_petale  larg_petale    variete  index\n",
      "0            5.1          3.5          1.4          0.2     Setosa      0\n",
      "5            5.4          3.9          1.7          0.4     Setosa     10\n",
      "10           5.4          3.7          1.5          0.2     Setosa     20\n",
      "14           5.8          4.0          1.2          0.2     Setosa     28\n",
      "15           5.7          4.4          1.5          0.4     Setosa     30\n",
      "..           ...          ...          ...          ...        ...    ...\n",
      "145          6.7          3.0          5.2          2.3  Virginica    290\n",
      "146          6.3          2.5          5.0          1.9  Virginica    292\n",
      "147          6.5          3.0          5.2          2.0  Virginica    294\n",
      "148          6.2          3.4          5.4          2.3  Virginica    296\n",
      "149          5.9          3.0          5.1          1.8  Virginica    298\n",
      "\n",
      "[116 rows x 6 columns]\n"
     ]
    }
   ],
   "source": [
    "# 11. Filtrez les lignes du dataframe où 'sepal.length' est supérieur à 5.\n",
    "\n",
    "df_filtre = df[df['long_sepale'] > 5]\n",
    "print(df_filtre)"
   ]
  },
  {
   "cell_type": "code",
   "execution_count": 80,
   "metadata": {},
   "outputs": [
    {
     "name": "stdout",
     "output_type": "stream",
     "text": [
      "     long_sepale  larg_sepale  long_petale  larg_petale     variete  index\n",
      "22           4.6          3.6          1.0          0.2      Setosa     44\n",
      "13           4.3          3.0          1.1          0.1      Setosa     26\n",
      "35           5.0          3.2          1.2          0.2      Setosa     70\n",
      "14           5.8          4.0          1.2          0.2      Setosa     28\n",
      "2            4.7          3.2          1.3          0.2      Setosa      4\n",
      "..           ...          ...          ...          ...         ...    ...\n",
      "7            5.0          3.4          NaN          0.2      Setosa     14\n",
      "49           5.0          3.3          NaN          0.2      Setosa     98\n",
      "71           6.1          2.8          NaN          1.3  Versicolor    142\n",
      "97           6.2          2.9          NaN          1.3  Versicolor    194\n",
      "117          7.7          3.8          NaN          2.2   Virginica    234\n",
      "\n",
      "[150 rows x 6 columns]\n"
     ]
    }
   ],
   "source": [
    "# 12. Triez le dataframe en fonction de la colonne 'long_petale'.\n",
    "\n",
    "df_trie = df.sort_values('long_petale')\n",
    "print(df_trie)\n"
   ]
  },
  {
   "cell_type": "code",
   "execution_count": 81,
   "metadata": {},
   "outputs": [
    {
     "name": "stdout",
     "output_type": "stream",
     "text": [
      "     long_sepale  larg_sepale  long_petale  larg_petale    especes  index\n",
      "0            5.1          3.5          1.4          0.2     Setosa      0\n",
      "1            4.9          3.0          1.4          0.2     Setosa      2\n",
      "2            4.7          3.2          1.3          0.2     Setosa      4\n",
      "3            4.6          3.1          1.5          0.2     Setosa      6\n",
      "4            5.0          3.6          1.4          0.2     Setosa      8\n",
      "..           ...          ...          ...          ...        ...    ...\n",
      "145          6.7          3.0          5.2          2.3  Virginica    290\n",
      "146          6.3          2.5          5.0          1.9  Virginica    292\n",
      "147          6.5          3.0          5.2          2.0  Virginica    294\n",
      "148          6.2          3.4          5.4          2.3  Virginica    296\n",
      "149          5.9          3.0          5.1          1.8  Virginica    298\n",
      "\n",
      "[150 rows x 6 columns]\n"
     ]
    }
   ],
   "source": [
    "# 13. Renommez la colonne 'variete' en 'especes'.\n",
    "\n",
    "df.rename(columns={'variete': 'especes'}, inplace=True)\n",
    "print(df)\n"
   ]
  },
  {
   "cell_type": "code",
   "execution_count": 82,
   "metadata": {},
   "outputs": [
    {
     "name": "stdout",
     "output_type": "stream",
     "text": [
      "long_sepale    2\n",
      "larg_sepale    2\n",
      "long_petale    5\n",
      "larg_petale    1\n",
      "especes        0\n",
      "index          0\n",
      "dtype: int64\n"
     ]
    }
   ],
   "source": [
    "# 14. Vérifiez s'il y a des valeurs manquantes dans le dataframe.\n",
    "\n",
    "print(df.isnull().sum())\n"
   ]
  },
  {
   "cell_type": "code",
   "execution_count": 83,
   "metadata": {},
   "outputs": [],
   "source": [
    "# 15. Remplacez les valeurs manquantes par une valeur spécifique, disons 0.\n",
    "\n",
    "df.fillna(0, inplace=True)"
   ]
  },
  {
   "cell_type": "code",
   "execution_count": 85,
   "metadata": {},
   "outputs": [
    {
     "name": "stdout",
     "output_type": "stream",
     "text": [
      "     long_sepale  larg_sepale  long_petale  larg_petale    especes  index\n",
      "0            5.1          3.5          1.4          0.2     Setosa      0\n",
      "1            4.9          3.0          1.4          0.2     Setosa      2\n",
      "2            4.7          3.2          1.3          0.2     Setosa      4\n",
      "3            4.6          3.1          1.5          0.2     Setosa      6\n",
      "4            5.0          3.6          1.4          0.2     Setosa      8\n",
      "..           ...          ...          ...          ...        ...    ...\n",
      "145          6.7          3.0          5.2          2.3  Virginica    290\n",
      "146          6.3          2.5          5.0          1.9  Virginica    292\n",
      "147          6.5          3.0          5.2          2.0  Virginica    294\n",
      "148          6.2          3.4          5.4          2.3  Virginica    296\n",
      "149          5.9          3.0          5.1          1.8  Virginica    298\n",
      "\n",
      "[150 rows x 6 columns]\n"
     ]
    }
   ],
   "source": [
    "# 16. Supprimez les lignes avec des valeurs manquantes.\n",
    "\n",
    "df.dropna(inplace=True)\n",
    "print(df)\n"
   ]
  },
  {
   "cell_type": "code",
   "execution_count": 86,
   "metadata": {},
   "outputs": [
    {
     "name": "stdout",
     "output_type": "stream",
     "text": [
      "     long_sepale  larg_sepale  long_petale  larg_petale    especes  index\n",
      "0            5.1          7.0          1.4          0.2     Setosa      0\n",
      "1            4.9          6.0          1.4          0.2     Setosa      2\n",
      "2            4.7          6.4          1.3          0.2     Setosa      4\n",
      "3            4.6          6.2          1.5          0.2     Setosa      6\n",
      "4            5.0          7.2          1.4          0.2     Setosa      8\n",
      "..           ...          ...          ...          ...        ...    ...\n",
      "145          6.7          6.0          5.2          2.3  Virginica    290\n",
      "146          6.3          5.0          5.0          1.9  Virginica    292\n",
      "147          6.5          6.0          5.2          2.0  Virginica    294\n",
      "148          6.2          6.8          5.4          2.3  Virginica    296\n",
      "149          5.9          6.0          5.1          1.8  Virginica    298\n",
      "\n",
      "[150 rows x 6 columns]\n"
     ]
    }
   ],
   "source": [
    "# 17. Appliquez une fonction à la colonne 'larg_sepale' pour doubler toutes les valeurs.\n",
    "\n",
    "df['larg_sepale'] = df['larg_sepale'].apply(lambda x: x*2)\n",
    "print(df)\n"
   ]
  },
  {
   "cell_type": "code",
   "execution_count": 87,
   "metadata": {},
   "outputs": [
    {
     "name": "stdout",
     "output_type": "stream",
     "text": [
      "     long_sepale  larg_sepale  long_petale  larg_petale    especes  index  \\\n",
      "0            5.1          7.0          1.4          0.2     Setosa      0   \n",
      "1            4.9          6.0          1.4          0.2     Setosa      2   \n",
      "2            4.7          6.4          1.3          0.2     Setosa      4   \n",
      "3            4.6          6.2          1.5          0.2     Setosa      6   \n",
      "4            5.0          7.2          1.4          0.2     Setosa      8   \n",
      "..           ...          ...          ...          ...        ...    ...   \n",
      "145          6.7          6.0          5.2          2.3  Virginica    290   \n",
      "146          6.3          5.0          5.0          1.9  Virginica    292   \n",
      "147          6.5          6.0          5.2          2.0  Virginica    294   \n",
      "148          6.2          6.8          5.4          2.3  Virginica    296   \n",
      "149          5.9          6.0          5.1          1.8  Virginica    298   \n",
      "\n",
      "       A    B    C    D  \n",
      "0     A0   B0   C0   D0  \n",
      "1     A1   B1   C1   D1  \n",
      "2     A2   B2   C2   D2  \n",
      "3     A3   B3   C3   D3  \n",
      "4    NaN  NaN  NaN  NaN  \n",
      "..   ...  ...  ...  ...  \n",
      "145  NaN  NaN  NaN  NaN  \n",
      "146  NaN  NaN  NaN  NaN  \n",
      "147  NaN  NaN  NaN  NaN  \n",
      "148  NaN  NaN  NaN  NaN  \n",
      "149  NaN  NaN  NaN  NaN  \n",
      "\n",
      "[150 rows x 10 columns]\n"
     ]
    }
   ],
   "source": [
    "# 18. Fusionnez deux dataframes. Créez un autre dataframe et fusionnez-le avec le dataframe Iris.\n",
    "\n",
    "df2 = pd.DataFrame({'A': ['A0', 'A1', 'A2', 'A3'],\n",
    "                    'B': ['B0', 'B1', 'B2', 'B3'],\n",
    "                    'C': ['C0', 'C1', 'C2', 'C3'],\n",
    "                    'D': ['D0', 'D1', 'D2', 'D3']},\n",
    "                   index=[0, 1, 2, 3])\n",
    "df_fusionne = pd.concat([df, df2], axis=1)\n",
    "print(df_fusionne)\n"
   ]
  },
  {
   "cell_type": "code",
   "execution_count": 88,
   "metadata": {},
   "outputs": [
    {
     "name": "stdout",
     "output_type": "stream",
     "text": [
      "especes\n",
      "Setosa        5.006\n",
      "Versicolor    5.724\n",
      "Virginica     6.588\n",
      "Name: long_sepale, dtype: float64\n"
     ]
    }
   ],
   "source": [
    "# 19. Groupez les données en fonction de la colonne 'especes' et calculez la moyenne de 'long_sepale'.\n",
    "\n",
    "df_groupe = df.groupby('especes')['long_sepale'].mean()\n",
    "print(df_groupe)\n"
   ]
  },
  {
   "cell_type": "code",
   "execution_count": 89,
   "metadata": {},
   "outputs": [],
   "source": [
    "# 20. Sauvegardez le dataframe dans un nouveau fichier CSV nommé 'AT_Pandas.csv'.\n",
    "\n",
    "df.to_csv('AT_Pandas.csv', index=False)\n"
   ]
  }
 ],
 "metadata": {
  "kernelspec": {
   "display_name": "Python 3",
   "language": "python",
   "name": "python3"
  },
  "language_info": {
   "codemirror_mode": {
    "name": "ipython",
    "version": 3
   },
   "file_extension": ".py",
   "mimetype": "text/x-python",
   "name": "python",
   "nbconvert_exporter": "python",
   "pygments_lexer": "ipython3",
   "version": "3.11.9"
  }
 },
 "nbformat": 4,
 "nbformat_minor": 2
}
