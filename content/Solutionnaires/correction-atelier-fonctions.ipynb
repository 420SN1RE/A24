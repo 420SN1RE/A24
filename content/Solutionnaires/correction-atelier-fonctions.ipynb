{
 "cells": [
  {
   "cell_type": "code",
   "execution_count": 4,
   "metadata": {},
   "outputs": [
    {
     "name": "stdout",
     "output_type": "stream",
     "text": [
      "Lamine Yamal 17\n"
     ]
    }
   ],
   "source": [
    "# Exercice 1:\n",
    "\n",
    "# demo c'est le nom de la fonction\n",
    "def demo(nom, age):\n",
    "    # Affiche le nom et l'âge\n",
    "    print(nom, age)\n",
    "\n",
    "# Appel de la fonction demo\n",
    "demo(\"Lamine Yamal\", 17)"
   ]
  },
  {
   "cell_type": "code",
   "execution_count": 5,
   "metadata": {},
   "outputs": [
    {
     "name": "stdout",
     "output_type": "stream",
     "text": [
      "20\n",
      "40\n",
      "60\n",
      "80\n",
      "100\n"
     ]
    }
   ],
   "source": [
    "# Exercice 2 :\n",
    "\n",
    "def fonc1(*args):\n",
    "    for i in args:\n",
    "        print(i)\n",
    "\n",
    "fonc1(20, 40, 60)\n",
    "fonc1(80, 100)"
   ]
  },
  {
   "cell_type": "code",
   "execution_count": 6,
   "metadata": {},
   "outputs": [
    {
     "name": "stdout",
     "output_type": "stream",
     "text": [
      "Nom: Carlitos Alcaraz salaire: 1200000\n",
      "Nom: Djockovic salaire: 1000000\n"
     ]
    }
   ],
   "source": [
    "# Exercice 3 :\n",
    "\n",
    "# fonction avec un paramètre par défaut\n",
    "def affiche_infos(nom, salaire_emp=1000000):\n",
    "    print(\"Nom:\", nom, \"salaire:\", salaire_emp)\n",
    "\n",
    "affiche_infos(\"Carlitos Alcaraz\", 1200000)\n",
    "affiche_infos(\"Djockovic\")"
   ]
  },
  {
   "cell_type": "code",
   "execution_count": 7,
   "metadata": {},
   "outputs": [
    {
     "name": "stdout",
     "output_type": "stream",
     "text": [
      "Le résultat de 5 + 3 est 8\n",
      "Le résultat de 5 - 3 est 2\n",
      "Le résultat de 5 * 3 est 15\n",
      "Le résultat de 5 / 3 est 1.6666666666666667\n"
     ]
    }
   ],
   "source": [
    "# Exercice 4 :\n",
    "\n",
    "def calculer(a, b, operateur='+'):\n",
    "    if operateur == '+':\n",
    "        resultat = a + b\n",
    "    elif operateur == '-':\n",
    "        resultat = a - b\n",
    "    elif operateur == '*':\n",
    "        resultat = a * b\n",
    "    elif operateur == '/':\n",
    "        if b != 0:\n",
    "            resultat = a / b\n",
    "        else:\n",
    "            return \"Erreur : Division par zéro\"\n",
    "    else:\n",
    "        return \"Erreur : Opérateur non valide\"\n",
    "    \n",
    "    return f\"Le résultat de {a} {operateur} {b} est {resultat}\"\n",
    "\n",
    "# Exemple d'utilisation\n",
    "print(calculer(5, 3))  # Par défaut, addition\n",
    "print(calculer(5, 3, '-'))  # Soustraction\n",
    "print(calculer(5, 3, '*'))  # Multiplication\n",
    "print(calculer(5, 3, '/'))  # Division"
   ]
  },
  {
   "cell_type": "code",
   "execution_count": 8,
   "metadata": {},
   "outputs": [
    {
     "name": "stdout",
     "output_type": "stream",
     "text": [
      "55\n"
     ]
    }
   ],
   "source": [
    "## Exercice 5:\n",
    "\n",
    "def addition(num):\n",
    "    if num:\n",
    "        # Appelez la même fonction en réduisant le nombre de 1.\n",
    "        return num + addition(num - 1)\n",
    "    else:\n",
    "        return 0\n",
    "\n",
    "res = addition(10)\n",
    "print(res)"
   ]
  },
  {
   "cell_type": "code",
   "execution_count": 9,
   "metadata": {},
   "outputs": [
    {
     "name": "stdout",
     "output_type": "stream",
     "text": [
      "[4, 6, 8, 10, 12, 14, 16, 18, 20, 22, 24, 26, 28]\n"
     ]
    }
   ],
   "source": [
    "## Exercice 6: \n",
    "\n",
    "print(list(range(4, 30, 2)))\n"
   ]
  },
  {
   "cell_type": "code",
   "execution_count": 10,
   "metadata": {},
   "outputs": [
    {
     "name": "stdout",
     "output_type": "stream",
     "text": [
      "24\n"
     ]
    }
   ],
   "source": [
    "## Exercice 7:\n",
    "\n",
    "x = [4, 6, 8, 24, 12, 2]\n",
    "print(max(x))"
   ]
  }
 ],
 "metadata": {
  "kernelspec": {
   "display_name": "Python 3",
   "language": "python",
   "name": "python3"
  },
  "language_info": {
   "codemirror_mode": {
    "name": "ipython",
    "version": 3
   },
   "file_extension": ".py",
   "mimetype": "text/x-python",
   "name": "python",
   "nbconvert_exporter": "python",
   "pygments_lexer": "ipython3",
   "version": "3.11.9"
  }
 },
 "nbformat": 4,
 "nbformat_minor": 2
}
