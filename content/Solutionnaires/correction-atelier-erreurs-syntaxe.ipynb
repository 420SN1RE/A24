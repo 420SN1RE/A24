{
 "cells": [
  {
   "cell_type": "markdown",
   "metadata": {},
   "source": [
    "Ces exercices contiennent des erreurs de syntaxe. \n",
    "Pour les exercices 1-6, expliquez les erreurs et écrivez le code corrigé.  \n",
    "Pour l'exercice 7, pensez utiliser les méthodes `print` et `type` pour trouver les erreurs. Écrivez le code corrigé.\n",
    "**NB**: Laissez les `print` et `type` utilisés pour déboguer, mais mettez les en commentaires une fois le code corrigé."
   ]
  },
  {
   "cell_type": "markdown",
   "metadata": {},
   "source": [
    "### Exercice 1 : Erreur d'indentation\n",
    "```python\n",
    "def dire_bonjour():\n",
    "print(\"Bonjour tout le monde !\")\n",
    "    print(\"Comment ça va ?\")\n",
    "```"
   ]
  },
  {
   "cell_type": "markdown",
   "metadata": {},
   "source": [
    "**Explication**: Les lignes à l’intérieur de la fonction `dire_bonjour` ne sont pas correctement indentées."
   ]
  },
  {
   "cell_type": "code",
   "execution_count": 18,
   "metadata": {},
   "outputs": [],
   "source": [
    "# Code corrigé\n",
    "\n",
    "def dire_bonjour():\n",
    "    print(\"Bonjour tout le monde !\")\n",
    "    print(\"Comment ça va ?\")"
   ]
  },
  {
   "cell_type": "markdown",
   "metadata": {},
   "source": [
    "### Exercice 2 : Nomenclature de variables\n",
    "```python\n",
    "1variable = 10\n",
    "print(1variable)\n",
    "```"
   ]
  },
  {
   "cell_type": "markdown",
   "metadata": {},
   "source": [
    "**Explication**: Les noms de variables ne peuvent pas commencer par un chiffre."
   ]
  },
  {
   "cell_type": "code",
   "execution_count": 19,
   "metadata": {},
   "outputs": [
    {
     "name": "stdout",
     "output_type": "stream",
     "text": [
      "10\n"
     ]
    }
   ],
   "source": [
    "# Code corrigé\n",
    "\n",
    "variable1 = 10\n",
    "print(variable1)"
   ]
  },
  {
   "cell_type": "markdown",
   "metadata": {},
   "source": [
    "### Exercice 3 : Appel de fonction inexistante\n",
    "\n",
    "```python\n",
    "def dire_bonjour():\n",
    "    print(\"Bonjour!\")\n",
    "\n",
    "dire_Bonjour()\n",
    "```"
   ]
  },
  {
   "cell_type": "markdown",
   "metadata": {},
   "source": [
    "\n",
    "**Explication**: Le nom de la fonction dans l'appel n'est pas le bon (problème de casse)"
   ]
  },
  {
   "cell_type": "code",
   "execution_count": null,
   "metadata": {},
   "outputs": [],
   "source": [
    "# Code corrigé\n",
    "\n",
    "def dire_bonjour():\n",
    "    print(\"Bonjour!\")\n",
    "\n",
    "dire_bonjour() # b minuscule au lieu de majuscule dans 'bonjour'"
   ]
  },
  {
   "cell_type": "markdown",
   "metadata": {},
   "source": [
    "### Exercice 4 : Opération invalide\n",
    "\n",
    "```python\n",
    "a = \"10\"\n",
    "b = 5\n",
    "c = a + b\n",
    "print(c)\n",
    "```"
   ]
  },
  {
   "cell_type": "markdown",
   "metadata": {},
   "source": [
    "**Explication**: On ne peut pas additionner une chaîne de caractères et un entier."
   ]
  },
  {
   "cell_type": "code",
   "execution_count": 20,
   "metadata": {},
   "outputs": [
    {
     "name": "stdout",
     "output_type": "stream",
     "text": [
      "15\n"
     ]
    }
   ],
   "source": [
    "# Code corrigé\n",
    "\n",
    "a = \"10\"\n",
    "b = 5\n",
    "c = int(a) + b\n",
    "print(c)\n"
   ]
  },
  {
   "cell_type": "markdown",
   "metadata": {},
   "source": [
    "### Exercice 5 : Division par zéro\n",
    "\n",
    "```python\n",
    "x = 10\n",
    "y = 0\n",
    "z = x / y\n",
    "print(z)\n",
    "```"
   ]
  },
  {
   "cell_type": "markdown",
   "metadata": {},
   "source": [
    "**Explication**: La division par zéro n’est pas permise"
   ]
  },
  {
   "cell_type": "code",
   "execution_count": 21,
   "metadata": {},
   "outputs": [
    {
     "name": "stdout",
     "output_type": "stream",
     "text": [
      "10.0\n"
     ]
    }
   ],
   "source": [
    "# Code corrigé\n",
    "\n",
    "x = 10\n",
    "y = 1  # Changer y pour une valeur différente de zéro\n",
    "z = x / y\n",
    "print(z)"
   ]
  },
  {
   "cell_type": "markdown",
   "metadata": {},
   "source": [
    "### Exercice 6 : Erreur de syntaxe générale\n",
    "```python\n",
    "print \"x est égal à 10\")\n",
    "```"
   ]
  },
  {
   "cell_type": "markdown",
   "metadata": {},
   "source": [
    "**Explication**: Il manque une parenthèse ouvrante dans l’appel de la fonction print."
   ]
  },
  {
   "cell_type": "code",
   "execution_count": 22,
   "metadata": {},
   "outputs": [
    {
     "name": "stdout",
     "output_type": "stream",
     "text": [
      "x est égal à 10\n"
     ]
    }
   ],
   "source": [
    "# Code corrigé\n",
    "\n",
    "print(\"x est égal à 10\")"
   ]
  },
  {
   "cell_type": "markdown",
   "metadata": {},
   "source": [
    "### Exercice 7 : Déboguer le code à l'aide de `print` et `type`\n",
    "\n",
    "```python\n",
    "x = input(\"Entrez le premier nombre un réel : \")\n",
    "y = input(\"Entrez le deuxième nombre un entier: \")\n",
    "z = input(\"Entrez le troisième nombre un réel : \")\n",
    "\n",
    "total = x + y + z\n",
    "print(\"La somme des trois nombres est :\", total)\n",
    "```"
   ]
  },
  {
   "cell_type": "code",
   "execution_count": 28,
   "metadata": {},
   "outputs": [
    {
     "name": "stdout",
     "output_type": "stream",
     "text": [
      "X =  11.0\n",
      "TYPE X: <class 'float'>\n",
      "Y =  22\n",
      "TYPE Y: <class 'int'>\n",
      "Z =  33.0\n",
      "TYPE Z: <class 'float'>\n",
      "La somme des trois nombres est : 66.0\n"
     ]
    }
   ],
   "source": [
    "# Code corrigé\n",
    "\n",
    "x = float(input(\"Entrez le premier nombre un réel : \"))\n",
    "print(\"X = \", x)\n",
    "type_x = type(x)\n",
    "print(\"TYPE X:\",type_x)\n",
    "y = int(input(\"Entrez le deuxième nombre un entier: \"))\n",
    "print(\"Y = \", y)\n",
    "type_y = type(y)\n",
    "print(\"TYPE Y:\",type_y)\n",
    "z = float(input(\"Entrez le troisième nombre un réel : \"))\n",
    "print(\"Z = \", z)\n",
    "type_z = type(z)\n",
    "print(\"TYPE Z:\",type_z)\n",
    "total = x + y + z\n",
    "print(\"La somme des trois nombres est :\", total)\n"
   ]
  }
 ],
 "metadata": {
  "kernelspec": {
   "display_name": "Python 3",
   "language": "python",
   "name": "python3"
  },
  "language_info": {
   "codemirror_mode": {
    "name": "ipython",
    "version": 3
   },
   "file_extension": ".py",
   "mimetype": "text/x-python",
   "name": "python",
   "nbconvert_exporter": "python",
   "pygments_lexer": "ipython3",
   "version": "3.11.9"
  }
 },
 "nbformat": 4,
 "nbformat_minor": 2
}
