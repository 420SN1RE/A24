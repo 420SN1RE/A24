{
 "cells": [
  {
   "cell_type": "code",
   "execution_count": 1,
   "metadata": {},
   "outputs": [
    {
     "name": "stdout",
     "output_type": "stream",
     "text": [
      "Liste avant: [['Aline', 25, 85.5, 'Laval'], ['Robert', 30, nan, 'Laval'], ['Charles', 35, 78.9, 'Montréal'], ['Sophie', 28, nan, 'Québec'], ['Luc', 22, 88.0, 'Sherbrooke'], ['Marie', 27, nan, 'Trois-Rivières'], ['Jean', 32, 92.3, 'Gatineau'], ['Paul', 29, nan, 'Saguenay'], ['Julie', 24, 81.7, 'Drummondville'], ['Marc', 31, nan, 'Longueuil']]\n",
      "Liste après: [['Aline', 25, 85.5, 'Laval'], ['Robert', 30, 0, 'Laval'], ['Charles', 35, 78.9, 'Montréal'], ['Sophie', 28, 0, 'Québec'], ['Luc', 22, 88.0, 'Sherbrooke'], ['Marie', 27, 0, 'Trois-Rivières'], ['Jean', 32, 92.3, 'Gatineau'], ['Paul', 29, 0, 'Saguenay'], ['Julie', 24, 81.7, 'Drummondville'], ['Marc', 31, 0, 'Longueuil']]\n"
     ]
    }
   ],
   "source": [
    "import pandas as pd\n",
    "\n",
    "# Charger les données dans un DataFrame\n",
    "df = pd.read_csv('data.csv')\n",
    "\n",
    "# Convertir le DataFrame en liste\n",
    "liste = df.values.tolist()\n",
    "\n",
    "# Afficher la liste avant la modification des données\n",
    "print(\"Liste avant:\", liste)\n",
    "\n",
    "# Remplacer les valeurs manquantes par 0\n",
    "for ligne in liste:\n",
    "    for i in range(len(ligne)):\n",
    "        if ligne[i] != ligne[i]:\n",
    "            ligne[i] = 0\n",
    "\n",
    "# Afficher la liste modifiée\n",
    "print(\"Liste après:\", liste)"
   ]
  }
 ],
 "metadata": {
  "kernelspec": {
   "display_name": "Python 3",
   "language": "python",
   "name": "python3"
  },
  "language_info": {
   "codemirror_mode": {
    "name": "ipython",
    "version": 3
   },
   "file_extension": ".py",
   "mimetype": "text/x-python",
   "name": "python",
   "nbconvert_exporter": "python",
   "pygments_lexer": "ipython3",
   "version": "3.11.9"
  }
 },
 "nbformat": 4,
 "nbformat_minor": 2
}
