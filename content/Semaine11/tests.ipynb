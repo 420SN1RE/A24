{
 "cells": [
  {
   "cell_type": "code",
   "execution_count": 4,
   "metadata": {},
   "outputs": [
    {
     "name": "stdout",
     "output_type": "stream",
     "text": [
      "La série:\n",
      "0    1\n",
      "1    2\n",
      "2    3\n",
      "3    4\n",
      "4    5\n",
      "dtype: int64\n",
      "Premier élément: 1\n"
     ]
    }
   ],
   "source": [
    "import pandas as pd\n",
    "\n",
    "# Création d'une Series\n",
    "ma_serie = pd.Series([1, 2, 3, 4, 5])\n",
    "print(f\"La série:\\n{ma_serie}\")\n",
    "\n",
    "# Accès par position\n",
    "print(f\"Premier élément: {ma_serie[0]}\")  # La donnée en première position\n"
   ]
  },
  {
   "cell_type": "code",
   "execution_count": 5,
   "metadata": {},
   "outputs": [
    {
     "name": "stdout",
     "output_type": "stream",
     "text": [
      "       Nom  Âge  Note\n",
      "0    Aline   25  85.5\n",
      "1   Robert   30  90.3\n",
      "2  Charles   35  78.9\n"
     ]
    }
   ],
   "source": [
    "# Création d'un DataFrame\n",
    "donnee = {\n",
    "    'Nom': ['Aline', 'Robert', 'Charles'],\n",
    "    'Age': [25, 30, 35],\n",
    "    'Note': [85.5, 90.3, 78.9]\n",
    "}\n",
    "df = pd.DataFrame(donnee)\n",
    "print(df)\n"
   ]
  },
  {
   "cell_type": "code",
   "execution_count": 19,
   "metadata": {},
   "outputs": [
    {
     "name": "stdout",
     "output_type": "stream",
     "text": [
      "Colonne Nom: \n",
      "0      Aline\n",
      "1     Robert\n",
      "2    Charles\n",
      "Name: Nom, dtype: object\n",
      "\n",
      "       Nom  Age\n",
      "0    Aline   25\n",
      "1   Robert   30\n",
      "2  Charles   35\n",
      "Nom     Aline\n",
      "Age        25\n",
      "Note     85.5\n",
      "Name: 0, dtype: object\n",
      "Première ligne: \n",
      "Nom     Aline\n",
      "Age        25\n",
      "Note     85.5\n",
      "Name: 0, dtype: object\n"
     ]
    }
   ],
   "source": [
    "# Création d'un DataFrame\n",
    "donnee = {\n",
    "    'Nom': ['Aline', 'Robert', 'Charles'],\n",
    "    'Age': [25, 30, 35],\n",
    "    'Note': [85.5, 90.3, 78.9]\n",
    "}\n",
    "df = pd.DataFrame(donnee)\n",
    "\n",
    "# Sélection d'une colonne\n",
    "print(f\"Colonne Nom: \\n{df['Nom']}\")\n",
    "\n",
    "# Sélection de plusieurs colonnes\n",
    "print(f\"\\n{df[['Nom', 'Age']]}\")\n",
    "\n",
    "# Sélection de lignes par étiquette\n",
    "print(df.loc[0])\n",
    "\n",
    "# Sélection de lignes par position\n",
    "print(f\"Première ligne: \\n{df.iloc[0]}\")"
   ]
  },
  {
   "cell_type": "code",
   "execution_count": 20,
   "metadata": {},
   "outputs": [
    {
     "name": "stdout",
     "output_type": "stream",
     "text": [
      "Original DataFrame:\n",
      "       Weight    Name  Age\n",
      "Row_1      45     Sam   14\n",
      "Row_2      88  Andrea   25\n",
      "Row_3      56    Alex   55\n",
      "Row_4      15   Robin    8\n",
      "Row_5      71     Kia   21\n",
      "\n",
      "Selected Value at Row_2, Column 'Name':\n",
      "Andrea\n"
     ]
    }
   ],
   "source": [
    "\n",
    "\n",
    "\n",
    "\n",
    "# importing pandas as pd\n",
    "import pandas as pd\n",
    " \n",
    "# Creating the DataFrame\n",
    "df = pd.DataFrame({'Weight': [45, 88, 56, 15, 71],\n",
    "                   'Name': ['Sam', 'Andrea', 'Alex', 'Robin', 'Kia'],\n",
    "                   'Age': [14, 25, 55, 8, 21]})\n",
    " \n",
    "# Create the index\n",
    "index_ = ['Row_1', 'Row_2', 'Row_3', 'Row_4', 'Row_5']\n",
    " \n",
    "# Set the index\n",
    "df.index = index_\n",
    " \n",
    "# Print the DataFrame\n",
    "print(\"Original DataFrame:\")\n",
    "print(df)\n",
    " \n",
    "# Corrected selection using loc for a specific cell\n",
    "result = df.loc['Row_2', 'Name']\n",
    " \n",
    "# Print the result\n",
    "print(\"\\nSelected Value at Row_2, Column 'Name':\")\n",
    "print(result)"
   ]
  },
  {
   "cell_type": "code",
   "execution_count": 25,
   "metadata": {},
   "outputs": [
    {
     "name": "stdout",
     "output_type": "stream",
     "text": [
      "Le dataframe \n",
      "       Nom  Age  Note\n",
      "0    Aline   25  85.5\n",
      "1   Robert   30  90.3\n",
      "2  Charles   35  78.9\n",
      "\n",
      "Utilisation de df.loc pour sélectionner la ligne avec l'index 1:\n",
      "Nom     Robert\n",
      "Age         30\n",
      "Note      90.3\n",
      "Name: 1, dtype: object\n",
      "\n",
      "Utilisation de df.loc pour sélectionner les lignes avec les index 0 et 2:\n",
      "       Nom  Age  Note\n",
      "0    Aline   25  85.5\n",
      "2  Charles   35  78.9\n",
      "\n",
      "Utilisation de df.iloc pour sélectionner la ligne à la position 1:\n",
      "Nom     Robert\n",
      "Age         30\n",
      "Note      90.3\n",
      "Name: 1, dtype: object\n",
      "\n",
      "Utilisation de df.iloc pour sélectionner les lignes aux positions 0 et 2:\n",
      "       Nom  Age  Note\n",
      "0    Aline   25  85.5\n",
      "2  Charles   35  78.9\n"
     ]
    }
   ],
   "source": [
    "import pandas as pd\n",
    "\n",
    "# Création du dataframe\n",
    "donnee = {\n",
    "    'Nom': ['Aline', 'Robert', 'Charles'],\n",
    "    'Age': [25, 30, 35],\n",
    "    'Note': [85.5, 90.3, 78.9]\n",
    "}\n",
    "df = pd.DataFrame(donnee)\n",
    "print(f\"Le dataframe \\n{df}\")\n",
    "print()\n",
    "\n",
    "# Utilisation de df.loc\n",
    "# Sélection de la ligne avec l'index 1 (Robert)\n",
    "ligne_loc = df.loc[1]\n",
    "print(\"Utilisation de df.loc pour sélectionner la ligne avec l'index 1:\")\n",
    "print(ligne_loc)\n",
    "\n",
    "# Sélection des lignes avec les index 0 et 2 (Aline et Charles)\n",
    "lignes_loc = df.loc[[0, 2]]\n",
    "print(\"\\nUtilisation de df.loc pour sélectionner les lignes avec les index 0 et 2:\")\n",
    "print(lignes_loc)\n",
    "\n",
    "# Utilisation de df.iloc\n",
    "# Sélection de la ligne à la position 1 (Robert)\n",
    "ligne_iloc = df.iloc[1]\n",
    "print(\"\\nUtilisation de df.iloc pour sélectionner la ligne à la position 1:\")\n",
    "print(ligne_iloc)\n",
    "\n",
    "# Sélection des lignes aux positions 0 et 2 (Aline et Charles)\n",
    "lignes_iloc = df.iloc[[0, 2]]\n",
    "print(\"\\nUtilisation de df.iloc pour sélectionner les lignes aux positions 0 et 2:\")\n",
    "print(lignes_iloc)"
   ]
  },
  {
   "cell_type": "code",
   "execution_count": 26,
   "metadata": {},
   "outputs": [],
   "source": [
    "import pandas as pd\n",
    "\n",
    "# Création du dataframe\n",
    "donnee = {\n",
    "    'Nom': ['Aline', 'Robert', 'Charles'],\n",
    "    'Age': [25, 30, 35],\n",
    "    'Note': [85.5, 90.3, 78.9]\n",
    "}\n",
    "df = pd.DataFrame(donnee)\n",
    "\n",
    "# Exportation du dataframe en CSV sans l'index\n",
    "df.to_csv('fichier_sans_index.csv', index=False)\n",
    "\n",
    "# Exportation du dataframe en CSV avec l'index (par défaut)\n",
    "df.to_csv('fichier_avec_index.csv')"
   ]
  },
  {
   "cell_type": "code",
   "execution_count": 42,
   "metadata": {},
   "outputs": [
    {
     "name": "stdout",
     "output_type": "stream",
     "text": [
      "     Note\n",
      "Age      \n",
      "25   87.2\n",
      "30   90.3\n",
      "35   78.9\n"
     ]
    }
   ],
   "source": [
    "donnee = {\n",
    "    \"Nom\": [\"Aline\", \"Robert\", \"Charles\", \"Julie\"],\n",
    "    \"Age\": [25, 30, 35, 25],\n",
    "    \"Note\": [85.5, 90.3, 78.9, 88.9]\n",
    "}\n",
    "df = pd.DataFrame(donnee)\n",
    "#print(df)\n",
    "\n",
    "# Sélection de colonnes\n",
    "#ages = df['Age']\n",
    "#print(f\"Les âges sont:\\n{ages}\\n\")\n",
    "\n",
    "# Filtrage de lignes\n",
    "#df_filtre = df[df['Note'] > 80]\n",
    "#print(f\"Le dataframe contenant seulement les notes > 80 \\n{df_filtre}\\n\")\n",
    "\n",
    "#print(f\"Statistiques : \\n{df.describe()}\\n\")\n",
    "\n",
    "#df_groupe = df.groupby('Age').mean()\n",
    "df_groupe = df.groupby('Age').mean(numeric_only=True)\n",
    "\n",
    "print(df_groupe)"
   ]
  },
  {
   "cell_type": "code",
   "execution_count": 40,
   "metadata": {},
   "outputs": [
    {
     "name": "stdout",
     "output_type": "stream",
     "text": [
      "Affichage des données \n",
      "          Substance  Concentration (mol/L)    pH  Température (°C)\n",
      "0               Eau                    0.1   7.0                25\n",
      "1               Eau                    0.2   7.1                25\n",
      "2               Eau                    0.3   7.2                25\n",
      "3  Acide sulfurique                    1.0   1.0                20\n",
      "4  Acide sulfurique                    1.5   1.2                20\n",
      "5  Acide sulfurique                    2.0   1.5                20\n",
      "6            Sodium                    0.5  13.0                30\n",
      "7            Sodium                    0.7  13.2                30\n",
      "8            Sodium                    0.9  13.5                30\n",
      "\n",
      "Affichage des données goupées par substance \n",
      "                  Concentration (mol/L)         pH  Température (°C)\n",
      "Substance                                                           \n",
      "Acide sulfurique                    1.5   1.233333              20.0\n",
      "Eau                                 0.2   7.100000              25.0\n",
      "Sodium                              0.7  13.233333              30.0\n",
      "\n"
     ]
    }
   ],
   "source": [
    "import pandas as pd\n",
    "\n",
    "# Création du DataFrame\n",
    "data = {\n",
    "    'Substance': ['Eau', 'Eau', 'Eau', 'Acide sulfurique', 'Acide sulfurique', 'Acide sulfurique', 'Sodium', 'Sodium', 'Sodium'],\n",
    "    'Concentration (mol/L)': [0.1, 0.2, 0.3, 1.0, 1.5, 2.0, 0.5, 0.7, 0.9],\n",
    "    'pH': [7.0, 7.1, 7.2, 1.0, 1.2, 1.5, 13.0, 13.2, 13.5],\n",
    "    'Température (°C)': [25, 25, 25, 20, 20, 20, 30, 30, 30]\n",
    "}\n",
    "\n",
    "df = pd.DataFrame(data)\n",
    "\n",
    "# Affichage du DataFrame\n",
    "print(f\"Affichage des données \\n{df}\\n\")\n",
    "\n",
    "# Grouper par la colonne Substance et calcul de la moyenne des autres colonnes\n",
    "df_groupe = df.groupby(\"Substance\").mean()\n",
    "print(f\"Affichage de la moyenne des données goupées par substance \\n{df_groupe}\\n\")\n"
   ]
  },
  {
   "cell_type": "code",
   "execution_count": 44,
   "metadata": {},
   "outputs": [
    {
     "name": "stdout",
     "output_type": "stream",
     "text": [
      "Affichage de la moyenne des données groupées par âge \n",
      "     Note\n",
      "Age      \n",
      "25   87.2\n",
      "30   90.3\n",
      "35   78.9\n",
      "\n"
     ]
    }
   ],
   "source": [
    "donnee = {\n",
    "    \"Nom\": [\"Aline\", \"Robert\", \"Charles\", \"Julie\"],\n",
    "    \"Age\": [25, 30, 35, 25],\n",
    "    \"Note\": [85.5, 90.3, 78.9, 88.9]\n",
    "}\n",
    "df = pd.DataFrame(donnee)\n",
    "\n",
    "df_groupe = df.groupby(\"Age\").mean(numeric_only=True)\n",
    "print(f\"Affichage de la moyenne des données groupées par âge \\n{df_groupe}\\n\")"
   ]
  },
  {
   "cell_type": "code",
   "execution_count": 47,
   "metadata": {},
   "outputs": [
    {
     "name": "stdout",
     "output_type": "stream",
     "text": [
      "La colonne Session ajoutée \n",
      "       Nom  Age  Note  Session\n",
      "0    Aline   25  85.5  Automne\n",
      "1   Robert   30  90.3  Automne\n",
      "2  Charles   35  78.9  Automne\n",
      "\n",
      "La colonne Session supprimée \n",
      "       Nom  Age  Note\n",
      "0    Aline   25  85.5\n",
      "1   Robert   30  90.3\n",
      "2  Charles   35  78.9\n",
      "\n",
      "La colonne Nom modifiée \n",
      "    Prenom  Age  Note\n",
      "0    Aline   25  85.5\n",
      "1   Robert   30  90.3\n",
      "2  Charles   35  78.9\n",
      "\n"
     ]
    }
   ],
   "source": [
    "import pandas as pd\n",
    "\n",
    "donnee = {\n",
    "    'Nom': ['Aline', 'Robert', 'Charles'],\n",
    "    'Age': [25, 30, 35],\n",
    "    'Note': [85.5, 90.3, 78.9]\n",
    "}\n",
    "df = pd.DataFrame(donnee)\n",
    "\n",
    "# Ajout d'une nouvelle colonne\n",
    "df[\"Session\"] = \"Automne\"\n",
    "print(f\"La colonne Session ajoutée \\n{df}\\n\")\n",
    "\n",
    "# Suppression d'une colonne\n",
    "df = df.drop(columns=[\"Session\"])\n",
    "print(f\"La colonne Session supprimée \\n{df}\\n\")\n",
    "\n",
    "# Renommage des colonnes\n",
    "df = df.rename(columns={\"Nom\": \"Prenom\"})\n",
    "print(f\"La colonne Nom modifiée \\n{df}\\n\")"
   ]
  },
  {
   "cell_type": "code",
   "execution_count": 52,
   "metadata": {},
   "outputs": [
    {
     "name": "stdout",
     "output_type": "stream",
     "text": [
      "Le dataframe \n",
      "        Date  Température  Annee  Mois  Jour Date plus 5\n",
      "0 2024-01-01           20   2024     1     1  2024-01-06\n",
      "1 2024-01-02           21   2024     1     2  2024-01-07\n",
      "2 2024-01-03           19   2024     1     3  2024-01-08\n",
      "\n",
      "Les données du mois de janvier \n",
      "        Date  Température  Annee  Mois  Jour\n",
      "0 2024-01-01           20   2024     1     1\n",
      "1 2024-01-02           21   2024     1     2\n",
      "2 2024-01-03           19   2024     1     3\n",
      "\n",
      "La plage de dates du 1er au 10 janvier 2024 \n",
      "DatetimeIndex(['2024-01-01', '2024-01-02', '2024-01-03', '2024-01-04',\n",
      "               '2024-01-05', '2024-01-06', '2024-01-07', '2024-01-08',\n",
      "               '2024-01-09', '2024-01-10'],\n",
      "              dtype='datetime64[ns]', freq='D')\n",
      "\n"
     ]
    }
   ],
   "source": [
    "import pandas as pd\n",
    "\n",
    "# Données\n",
    "data = {'Date': ['2024-01-01', '2024-01-02', '2024-01-03'],\n",
    "        'Température': [20, 21, 19]}\n",
    "df = pd.DataFrame(data)\n",
    "\n",
    "# Conversion en datetime\n",
    "df['Date'] = pd.to_datetime(df['Date'])\n",
    "\n",
    "# Extraction des composants de la date\n",
    "df['Annee'] = df['Date'].dt.year\n",
    "df['Mois'] = df['Date'].dt.month\n",
    "df['Jour'] = df['Date'].dt.day\n",
    "\n",
    "# Filtrage par date\n",
    "masque = (df['Date'] >= '2024-01-01') & (df['Date'] <= '2024-01-31')\n",
    "donnees_janvier = df.loc[masque]\n",
    "\n",
    "# Ajout de jours\n",
    "df['Date plus 5'] = df['Date'] + pd.Timedelta(days=5)\n",
    "\n",
    "# Création d'une plage de dates\n",
    "plage_date = pd.date_range(start='2024-01-01', end='2024-01-10', freq='D')\n",
    "\n",
    "print(f\"Le dataframe \\n{df}\\n\")\n",
    "print(f\"Les données du mois de janvier \\n{donnees_janvier}\\n\")\n",
    "print(f\"La plage de dates du 1er au 10 janvier 2024 \\n{plage_date}\\n\")\n"
   ]
  },
  {
   "cell_type": "code",
   "execution_count": 53,
   "metadata": {},
   "outputs": [
    {
     "name": "stdout",
     "output_type": "stream",
     "text": [
      "        Date  Température\n",
      "0 2022-01-01           20\n",
      "1 2022-01-02           21\n",
      "2 2022-01-03           19\n"
     ]
    }
   ],
   "source": [
    "import pandas as pd\n",
    "\n",
    "# Chargement des données\n",
    "donnees_date = {'Date': ['2024-01-01', '2024-01-02', '2024-01-03'], 'Température': [20, 21, 19]}\n",
    "df = pd.DataFrame(donnees_date)\n",
    "\n",
    "# Conversion en datetime\n",
    "df['Date'] = pd.to_datetime(df['Date'])\n",
    "\n",
    "print(df)"
   ]
  },
  {
   "cell_type": "code",
   "execution_count": 54,
   "metadata": {},
   "outputs": [
    {
     "name": "stdout",
     "output_type": "stream",
     "text": [
      "        Date  Température  Annee  Mois  Jour\n",
      "0 2022-01-01           20   2022     1     1\n",
      "1 2022-01-02           21   2022     1     2\n",
      "2 2022-01-03           19   2022     1     3\n"
     ]
    }
   ],
   "source": [
    "# Extraction de l'année\n",
    "df['Annee'] = df['Date'].dt.year\n",
    "\n",
    "# Extraction du mois\n",
    "df['Mois'] = df['Date'].dt.month\n",
    "\n",
    "# Extraction du jour\n",
    "df['Jour'] = df['Date'].dt.day\n",
    "\n",
    "print(df)"
   ]
  },
  {
   "cell_type": "code",
   "execution_count": 56,
   "metadata": {},
   "outputs": [
    {
     "name": "stdout",
     "output_type": "stream",
     "text": [
      "         Date  Température\n",
      "0  2024-01-01           20\n",
      "1  2024-01-02           21\n",
      "2  2024-01-03           19\n"
     ]
    }
   ],
   "source": [
    "import pandas as pd\n",
    "\n",
    "# Chargement des données\n",
    "donnees_date = {'Date': ['2024-01-01', '2024-01-02', '2024-01-03'], 'Température': [20, 21, 19]}\n",
    "df = pd.DataFrame(donnees_date)\n",
    "\n",
    "# Filtrage pour obtenir les données de janvier 2024\n",
    "masque = (df['Date'] >= '2024-01-01') & (df['Date'] <= '2024-01-31')\n",
    "donnee_janvier = df.loc[masque]\n",
    "\n",
    "print(donnee_janvier)"
   ]
  },
  {
   "cell_type": "code",
   "execution_count": 60,
   "metadata": {},
   "outputs": [
    {
     "name": "stdout",
     "output_type": "stream",
     "text": [
      "        Date  Température Date plus 5\n",
      "0 2024-01-01           20  2024-01-06\n",
      "1 2024-01-02           21  2024-01-07\n",
      "2 2024-01-03           19  2024-01-08\n",
      "DatetimeIndex(['2024-01-01', '2024-01-02', '2024-01-03', '2024-01-04',\n",
      "               '2024-01-05', '2024-01-06', '2024-01-07', '2024-01-08',\n",
      "               '2024-01-09', '2024-01-10'],\n",
      "              dtype='datetime64[ns]', freq='D')\n"
     ]
    }
   ],
   "source": [
    "import pandas as pd\n",
    "donnees_date = {'Date': ['2024-01-01', '2024-01-02', '2024-01-03'], 'Température': [20, 21, 19]}\n",
    "df = pd.DataFrame(donnees_date)\n",
    "\n",
    "# Conversion en datetime\n",
    "df['Date'] = pd.to_datetime(df['Date'])\n",
    "df['Date plus 5'] = df['Date'] + pd.Timedelta(days=5)\n",
    "\n",
    "print(df)\n",
    "plage_date = pd.date_range(start='2024-01-01', end='2024-01-10', freq='D')\n",
    "print(plage_date)"
   ]
  },
  {
   "cell_type": "code",
   "execution_count": 61,
   "metadata": {},
   "outputs": [
    {
     "name": "stdout",
     "output_type": "stream",
     "text": [
      "   Valeurs\n",
      "0        1\n",
      "1        2\n",
      "2        3\n",
      "3        4\n",
      "4        5\n"
     ]
    }
   ],
   "source": [
    "import pandas as pd\n",
    "\n",
    "# Création d'une série\n",
    "ma_serie = pd.Series([1, 2, 3, 4, 5], name='Valeurs')\n",
    "\n",
    "# Conversion de la série en DataFrame\n",
    "df = ma_serie.to_frame()\n",
    "\n",
    "# Affichage du DataFrame\n",
    "print(df)"
   ]
  },
  {
   "cell_type": "code",
   "execution_count": 62,
   "metadata": {},
   "outputs": [
    {
     "name": "stdout",
     "output_type": "stream",
     "text": [
      "   id  prénom  âge\n",
      "0   1   Aline   25\n",
      "1   2  Robert   30\n"
     ]
    }
   ],
   "source": [
    "import pandas as pd\n",
    "\n",
    "# Création des DataFrames\n",
    "df1 = pd.DataFrame({\n",
    "    'id': [1, 2, 3],\n",
    "    'prénom': ['Aline', 'Robert', 'Charles']\n",
    "})\n",
    "\n",
    "df2 = pd.DataFrame({\n",
    "    'id': [1, 2, 4],\n",
    "    'âge': [25, 30, 35]\n",
    "})\n",
    "\n",
    "# Fusion des DataFrames sur la colonne 'id'\n",
    "df_fusionne = pd.merge(df1, df2, on='id', how='inner')\n",
    "\n",
    "print(df_fusionne)\n"
   ]
  },
  {
   "cell_type": "code",
   "execution_count": 8,
   "metadata": {},
   "outputs": [
    {
     "name": "stdout",
     "output_type": "stream",
     "text": [
      "[['Aline' 25 85.5]\n",
      " ['Robert' 30 90.3]\n",
      " ['Charles' 35 78.9]]\n"
     ]
    }
   ],
   "source": [
    "import pandas as pd\n",
    "donnee = {\n",
    "    \"Nom\": [\"Aline\", \"Robert\", \"Charles\"],\n",
    "    \"Âge\": [25, 30, 35],\n",
    "    \"Note\": [85.5, 90.3, 78.9]\n",
    "}\n",
    "df = pd.DataFrame(donnee)\n",
    "#print(df)\n",
    "\n",
    "#df.info()\n",
    "#print(df.describe())\n",
    "#print(\"-------\")\n",
    "valeurs = df.values  # Accède à la première ligne sous forme de tableau numpy\n",
    "print(valeurs)\n",
    "#print(\"------\")\n",
    "#index = df.index\n",
    "#print(index)\n",
    "\n",
    "#print(\"-----\")\n",
    "#print(df[\"Âge\"])"
   ]
  }
 ],
 "metadata": {
  "kernelspec": {
   "display_name": "Python 3",
   "language": "python",
   "name": "python3"
  },
  "language_info": {
   "codemirror_mode": {
    "name": "ipython",
    "version": 3
   },
   "file_extension": ".py",
   "mimetype": "text/x-python",
   "name": "python",
   "nbconvert_exporter": "python",
   "pygments_lexer": "ipython3",
   "version": "3.11.9"
  }
 },
 "nbformat": 4,
 "nbformat_minor": 2
}
