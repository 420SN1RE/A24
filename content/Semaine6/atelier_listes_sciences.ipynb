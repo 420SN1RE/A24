{
 "cells": [
  {
   "cell_type": "markdown",
   "metadata": {},
   "source": [
    "## Exercices : Utilisation de Llstes dans des contextes scientifiques simples\n",
    "\n",
    "Les listes en Python sont extrêmement utiles dans les contextes scientifiques pour stocker, manipuler et analyser des données expérimentales.   \n",
    "Ces exercices te permettront de pratiquer l'utilisation des listes en Python dans des contextes scientifiques variés."
   ]
  },
  {
   "cell_type": "markdown",
   "metadata": {},
   "source": [
    "### Exercice 1: Biologie\n",
    "\n",
    "- Créez une liste pour stocker une séquence d'ADN composée des nucléotides 'A', 'T', 'G', et 'C'.\n",
    "- Écris un programme pour compter la fréquence de chaque nucléotide dans la séquence.\n",
    "- Modifie la séquence d'ADN pour inclure plus de nucléotides.\n",
    "- Calcule et affiche la fréquence de chaque nucléotide."
   ]
  },
  {
   "cell_type": "code",
   "execution_count": null,
   "metadata": {},
   "outputs": [],
   "source": [
    "# Votre code ici\n",
    "\n",
    "sequence_adn = ['A', 'T', 'G', 'C', 'A', 'T', 'G', 'C']\n",
    "from collections import Counter\n",
    "frequence = Counter(sequence_adn)\n",
    "print(frequence)  # Affiche {'A': 2, 'T': 2, 'G': 2, 'C': 2}\n",
    "sequence_adn = ['A', 'T', 'G', 'C', 'A', 'T', 'G', 'C', 'A', 'G', 'T', 'C']"
   ]
  },
  {
   "cell_type": "markdown",
   "metadata": {},
   "source": [
    "### Exercice 2: Chimie\n",
    "\n",
    "- Créez une liste pour stocker les concentrations de différentes solutions dans une expérience: 0.1, 0.2, 0.15, 0.3, 0.25, 0.35, 0.05.\n",
    "- Calculer et afficher la concentration moyenne.\n",
    "- Calculer et afficher les concentrations maximale et minimale."
   ]
  },
  {
   "cell_type": "code",
   "execution_count": null,
   "metadata": {},
   "outputs": [],
   "source": [
    "# Votre code ici\n",
    "\n",
    "concentrations = [0.1, 0.2, 0.15, 0.3, 0.25, 0.35, 0.05]\n",
    "moyenne_concentration = sum(concentrations) / len(concentrations)\n",
    "print(\"Concentration moyenne :\", moyenne_concentration)\n",
    "\n",
    "max_concentration = max(concentrations)\n",
    "min_concentration = min(concentrations)\n",
    "print(\"Concentration maximale :\", max_concentration)\n",
    "print(\"Concentration minimale :\", min_concentration)"
   ]
  },
  {
   "cell_type": "markdown",
   "metadata": {},
   "source": [
    "### Exercice 3: Écologie\n",
    "\n",
    "- Créer une liste pour stocker les populations d'animaux dans différentes zones : 150, 200, 170, 220, 180, 190, 210.\n",
    "- Trier les populations en ordre décroissant et afficher la liste triée.\n",
    "- Calculer et afficher la population totale\n",
    "- Calculer et afficher les populations maximale et minimale."
   ]
  },
  {
   "cell_type": "code",
   "execution_count": 2,
   "metadata": {},
   "outputs": [
    {
     "name": "stdout",
     "output_type": "stream",
     "text": [
      "Population en ordre décroissant: [220, 210, 200, 190, 180, 170, 150]\n",
      "Population totale : 1320\n",
      "Population maximale : 220\n",
      "Population minimale : 150\n"
     ]
    }
   ],
   "source": [
    "# Votre code ici\n",
    "\n",
    "populations = [150, 200, 170, 220, 180, 190, 210]\n",
    "\n",
    "populations.sort(reverse = True)\n",
    "print(\"Population en ordre décroissant:\", populations)\n",
    "\n",
    "somme_population = sum(populations)\n",
    "print(\"Population totale :\", somme_population)\n",
    "\n",
    "max_population = max(populations)\n",
    "min_population = min(populations)\n",
    "print(\"Population maximale :\", max_population)\n",
    "print(\"Population minimale :\", min_population)"
   ]
  },
  {
   "cell_type": "markdown",
   "metadata": {},
   "source": [
    "### Exercice 4: Géologie\n",
    "\n",
    "- Créer une liste pour stocker les magnitudes de tremblements de terre enregistrées: 3.2, 4.5, 2.8, 3.9, 4.1, 5.0, 3.7.\n",
    "- Calculer et afficher la magnitude moyenne.\n",
    "- Calculer et afficher les magnitudes maximale et minimale."
   ]
  },
  {
   "cell_type": "code",
   "execution_count": null,
   "metadata": {},
   "outputs": [],
   "source": [
    "# Votre code ici\n",
    "\n",
    "magnitudes = [3.2, 4.5, 2.8, 3.9, 4.1, 5.0, 3.7]\n",
    "\n",
    "moyenne_magnitude = sum(magnitudes) / len(magnitudes)\n",
    "print(\"Magnitude moyenne :\", moyenne_magnitude)\n",
    "max_magnitude = max(magnitudes)\n",
    "min_magnitude = min(magnitudes)\n",
    "print(\"Magnitude maximale :\", max_magnitude)\n",
    "print(\"Magnitude minimale :\", min_magnitude)"
   ]
  }
 ],
 "metadata": {
  "kernelspec": {
   "display_name": "Python 3",
   "language": "python",
   "name": "python3"
  },
  "language_info": {
   "codemirror_mode": {
    "name": "ipython",
    "version": 3
   },
   "file_extension": ".py",
   "mimetype": "text/x-python",
   "name": "python",
   "nbconvert_exporter": "python",
   "pygments_lexer": "ipython3",
   "version": "3.11.9"
  }
 },
 "nbformat": 4,
 "nbformat_minor": 2
}
