{
 "cells": [
  {
   "cell_type": "markdown",
   "metadata": {},
   "source": [
    "## Exemples des fonctions intégrées de listes"
   ]
  },
  {
   "cell_type": "code",
   "execution_count": 9,
   "metadata": {},
   "outputs": [
    {
     "name": "stdout",
     "output_type": "stream",
     "text": [
      "9\n"
     ]
    }
   ],
   "source": [
    "### max() : Trouve la valeur maximale dans une liste.\n",
    "\n",
    "nombres = [3, 1, 4, 1, 5, 9]\n",
    "print(max(nombres))  # Affiche 9"
   ]
  },
  {
   "cell_type": "code",
   "execution_count": 10,
   "metadata": {},
   "outputs": [
    {
     "name": "stdout",
     "output_type": "stream",
     "text": [
      "1\n"
     ]
    }
   ],
   "source": [
    "### min() : Trouve la valeur minimale dans une liste.\n",
    "\n",
    "nombres = [3, 1, 4, 1, 5, 9]\n",
    "print(min(nombres))  # Affiche 1"
   ]
  },
  {
   "cell_type": "code",
   "execution_count": 11,
   "metadata": {},
   "outputs": [
    {
     "name": "stdout",
     "output_type": "stream",
     "text": [
      "['pomme', 'cerise']\n"
     ]
    }
   ],
   "source": [
    "### del : Supprime un élément à un index spécifique ou la liste entière.\n",
    "\n",
    "fruits = ['pomme', 'banane', 'cerise']\n",
    "del fruits[1]\n",
    "print(fruits)  # Affiche ['pomme', 'cerise']"
   ]
  },
  {
   "cell_type": "code",
   "execution_count": 12,
   "metadata": {},
   "outputs": [
    {
     "name": "stdout",
     "output_type": "stream",
     "text": [
      "1\n"
     ]
    }
   ],
   "source": [
    "### index() : Retourne l'index du premier élément avec la valeur spécifiée.\n",
    "\n",
    "fruits = ['pomme', 'banane', 'cerise']\n",
    "print(fruits.index('banane'))  # Affiche 1"
   ]
  },
  {
   "cell_type": "code",
   "execution_count": 13,
   "metadata": {},
   "outputs": [
    {
     "name": "stdout",
     "output_type": "stream",
     "text": [
      "[]\n"
     ]
    }
   ],
   "source": [
    "\n",
    "### clear() : Supprime tous les éléments de la liste.\n",
    "\n",
    "fruits = ['pomme', 'banane', 'cerise']\n",
    "fruits.clear()\n",
    "print(fruits)  # Affiche []"
   ]
  },
  {
   "cell_type": "code",
   "execution_count": 14,
   "metadata": {},
   "outputs": [
    {
     "name": "stdout",
     "output_type": "stream",
     "text": [
      "['pomme', 'banane', 'cerise', 'datte']\n"
     ]
    }
   ],
   "source": [
    "### extend() : Ajoute les éléments d'une autre liste à la fin de la liste actuelle.\n",
    "\n",
    "fruits = ['pomme', 'banane']\n",
    "autres_fruits = ['cerise', 'datte']\n",
    "fruits.extend(autres_fruits)\n",
    "print(fruits)  # Affiche ['pomme', 'banane', 'cerise', 'datte']"
   ]
  },
  {
   "cell_type": "code",
   "execution_count": 15,
   "metadata": {},
   "outputs": [
    {
     "name": "stdout",
     "output_type": "stream",
     "text": [
      "['cerise', 'banane', 'pomme']\n"
     ]
    }
   ],
   "source": [
    "### reverse() : Inverse l'ordre des éléments dans la liste.\n",
    "\n",
    "fruits = ['pomme', 'banane', 'cerise']\n",
    "fruits.reverse()\n",
    "print(fruits)  # Affiche ['cerise', 'banane', 'pomme']"
   ]
  },
  {
   "cell_type": "code",
   "execution_count": 16,
   "metadata": {},
   "outputs": [
    {
     "name": "stdout",
     "output_type": "stream",
     "text": [
      "[1, 2, 3]\n"
     ]
    }
   ],
   "source": [
    "### copy() : Crée une copie superficielle de la liste.\n",
    "\n",
    "original = [1, 2, 3]\n",
    "copie = original.copy()\n",
    "print(copie)  # Affiche [1, 2, 3]"
   ]
  }
 ],
 "metadata": {
  "kernelspec": {
   "display_name": "Python 3",
   "language": "python",
   "name": "python3"
  },
  "language_info": {
   "codemirror_mode": {
    "name": "ipython",
    "version": 3
   },
   "file_extension": ".py",
   "mimetype": "text/x-python",
   "name": "python",
   "nbconvert_exporter": "python",
   "pygments_lexer": "ipython3",
   "version": "3.11.9"
  }
 },
 "nbformat": 4,
 "nbformat_minor": 2
}
