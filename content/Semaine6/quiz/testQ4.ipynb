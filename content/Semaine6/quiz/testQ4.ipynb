{
 "cells": [
  {
   "cell_type": "code",
   "execution_count": null,
   "metadata": {},
   "outputs": [],
   "source": [
    "# Écrivez un programme qui utilise une boucle while pour afficher sur une ligne, les nombres de 100 à 1\n",
    "\"\"\" i = 100\n",
    "while i < 100\n",
    "    print(i, end=\" \")\n",
    "    i -= 1\n",
    "\n",
    "i = 100\n",
    "while i < 0:\n",
    "    print (i) \n",
    "    i =-10 \n",
    "\n",
    "i = 100\n",
    "for i in range(100, 0):\n",
    "    print(i, end=\" \")\n",
    "\"\"\"\n",
    "n = 1\n",
    "\n",
    "i = 100\n",
    "while n <= i:\n",
    "    print(n)\n",
    "\n",
    "    n+= 1"
   ]
  },
  {
   "cell_type": "markdown",
   "metadata": {},
   "source": [
    "1. Il manque le \":\" et la condition du while est toujours fausse\n",
    "2. L'affichage sur 1 ligne n'est pas fait et la condition du while est toujours fausse"
   ]
  },
  {
   "cell_type": "code",
   "execution_count": 6,
   "metadata": {},
   "outputs": [],
   "source": [
    "# Écrivez un programme qui utilise une boucle while pour afficher sur une ligne les nombres 100 90 80 70 60 50 40 30 20 10 \n",
    "i = 100\n",
    "\n",
    "while i < 0:\n",
    "    print (i)\n",
    "    i -= 10"
   ]
  },
  {
   "cell_type": "markdown",
   "metadata": {},
   "source": [
    "L'affichage sur 1 ligne n'est pas fait et la condition du while est toujours fausse"
   ]
  },
  {
   "cell_type": "code",
   "execution_count": 10,
   "metadata": {},
   "outputs": [
    {
     "name": "stdout",
     "output_type": "stream",
     "text": [
      "20 18 16 14 12 10 8 6 4 2 "
     ]
    }
   ],
   "source": [
    "i = 20\n",
    "while i != 0:\n",
    "    print(i, end=' ')\n",
    "    i -= 2"
   ]
  },
  {
   "cell_type": "code",
   "execution_count": 5,
   "metadata": {},
   "outputs": [
    {
     "name": "stdout",
     "output_type": "stream",
     "text": [
      "100\n",
      "99\n",
      "98\n",
      "97\n",
      "96\n",
      "95\n",
      "94\n",
      "93\n",
      "92\n",
      "91\n",
      "90\n",
      "89\n",
      "88\n",
      "87\n",
      "86\n",
      "85\n",
      "84\n",
      "83\n",
      "82\n",
      "81\n",
      "80\n",
      "79\n",
      "78\n",
      "77\n",
      "76\n",
      "75\n",
      "74\n",
      "73\n",
      "72\n",
      "71\n",
      "70\n",
      "69\n",
      "68\n",
      "67\n",
      "66\n",
      "65\n",
      "64\n",
      "63\n",
      "62\n",
      "61\n",
      "60\n",
      "59\n",
      "58\n",
      "57\n",
      "56\n",
      "55\n",
      "54\n",
      "53\n",
      "52\n",
      "51\n",
      "50\n",
      "49\n",
      "48\n",
      "47\n",
      "46\n",
      "45\n",
      "44\n",
      "43\n",
      "42\n",
      "41\n",
      "40\n",
      "39\n",
      "38\n",
      "37\n",
      "36\n",
      "35\n",
      "34\n",
      "33\n",
      "32\n",
      "31\n",
      "30\n",
      "29\n",
      "28\n",
      "27\n",
      "26\n",
      "25\n",
      "24\n",
      "23\n",
      "22\n",
      "21\n",
      "20\n",
      "19\n",
      "18\n",
      "17\n",
      "16\n",
      "15\n",
      "14\n",
      "13\n",
      "12\n",
      "11\n",
      "10\n",
      "9\n",
      "8\n",
      "7\n",
      "6\n",
      "5\n",
      "4\n",
      "3\n",
      "2\n",
      "1\n"
     ]
    }
   ],
   "source": [
    "i = 100\n",
    "while 1<=i<=100:\n",
    "    print(i)\n",
    "    i-=1"
   ]
  }
 ],
 "metadata": {
  "kernelspec": {
   "display_name": "Python 3",
   "language": "python",
   "name": "python3"
  },
  "language_info": {
   "codemirror_mode": {
    "name": "ipython",
    "version": 3
   },
   "file_extension": ".py",
   "mimetype": "text/x-python",
   "name": "python",
   "nbconvert_exporter": "python",
   "pygments_lexer": "ipython3",
   "version": "3.11.9"
  }
 },
 "nbformat": 4,
 "nbformat_minor": 2
}
