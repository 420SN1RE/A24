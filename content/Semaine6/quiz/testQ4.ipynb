{
 "cells": [
  {
   "cell_type": "code",
   "execution_count": null,
   "metadata": {},
   "outputs": [],
   "source": [
    "# Écrivez un programme qui utilise une boucle while pour afficher sur une ligne, les nombres de 100 à 1\n",
    "\"\"\" i = 100\n",
    "while i < 100\n",
    "    print(i, end=\" \")\n",
    "    i -= 1\n",
    "\n",
    "i = 100\n",
    "while i < 0:\n",
    "    print (i) \n",
    "    i =-10 \n",
    "\n",
    "i = 100\n",
    "for i in range(100, 0):\n",
    "    print(i, end=\" \")\n",
    "\"\"\"\n",
    "n = 1\n",
    "\n",
    "i = 100\n",
    "while n <= i:\n",
    "    print(n)\n",
    "\n",
    "    n+= 1"
   ]
  },
  {
   "cell_type": "markdown",
   "metadata": {},
   "source": [
    "1. Il manque le \":\" et la condition du while est toujours fausse\n",
    "2. L'affichage sur 1 ligne n'est pas fait et la condition du while est toujours fausse"
   ]
  },
  {
   "cell_type": "code",
   "execution_count": 6,
   "metadata": {},
   "outputs": [],
   "source": [
    "# Écrivez un programme qui utilise une boucle while pour afficher sur une ligne les nombres 100 90 80 70 60 50 40 30 20 10 \n",
    "i = 100\n",
    "\n",
    "while i < 0:\n",
    "    print (i)\n",
    "    i -= 10"
   ]
  },
  {
   "cell_type": "markdown",
   "metadata": {},
   "source": [
    "L'affichage sur 1 ligne n'est pas fait et la condition du while est toujours fausse"
   ]
  },
  {
   "cell_type": "code",
   "execution_count": 10,
   "metadata": {},
   "outputs": [
    {
     "name": "stdout",
     "output_type": "stream",
     "text": [
      "20 18 16 14 12 10 8 6 4 2 "
     ]
    }
   ],
   "source": [
    "i = 20\n",
    "while i != 0:\n",
    "    print(i, end=' ')\n",
    "    i -= 2"
   ]
  },
  {
   "cell_type": "code",
   "execution_count": null,
   "metadata": {},
   "outputs": [],
   "source": [
    "i = 100\n",
    "while 1<=i<=100:\n",
    "    print(i)\n",
    "    i-=1"
   ]
  },
  {
   "cell_type": "code",
   "execution_count": 10,
   "metadata": {},
   "outputs": [],
   "source": [
    "i = 50\n",
    "while 50 > i and 50 == i\n",
    "    print ( i, end='  ')\n",
    "i -= 1"
   ]
  },
  {
   "cell_type": "code",
   "execution_count": null,
   "metadata": {},
   "outputs": [],
   "source": [
    "i = 100\n",
    "while 1 <= i <= 100:\n",
    "    print(i, end=\" \")\n",
    "\n",
    "    i -= 1"
   ]
  },
  {
   "cell_type": "code",
   "execution_count": 1,
   "metadata": {},
   "outputs": [
    {
     "ename": "SyntaxError",
     "evalue": "expected ':' (3665423600.py, line 2)",
     "output_type": "error",
     "traceback": [
      "\u001b[1;36m  Cell \u001b[1;32mIn[1], line 2\u001b[1;36m\u001b[0m\n\u001b[1;33m    while 1<=i<=100\u001b[0m\n\u001b[1;37m                    ^\u001b[0m\n\u001b[1;31mSyntaxError\u001b[0m\u001b[1;31m:\u001b[0m expected ':'\n"
     ]
    }
   ],
   "source": [
    "i = 100\n",
    "while 1<=i<=100 \n",
    "    i=100-1\n",
    "print(i)"
   ]
  },
  {
   "cell_type": "markdown",
   "metadata": {},
   "source": [
    "Il manque le \":\"\n",
    "Il faut afficher i avant de le modifier.\n",
    "La modification de i n'est pas la bonne.\n",
    "print n'est pas indenté"
   ]
  }
 ],
 "metadata": {
  "kernelspec": {
   "display_name": "Python 3",
   "language": "python",
   "name": "python3"
  },
  "language_info": {
   "codemirror_mode": {
    "name": "ipython",
    "version": 3
   },
   "file_extension": ".py",
   "mimetype": "text/x-python",
   "name": "python",
   "nbconvert_exporter": "python",
   "pygments_lexer": "ipython3",
   "version": "3.11.9"
  }
 },
 "nbformat": 4,
 "nbformat_minor": 2
}
