{
 "cells": [
  {
   "cell_type": "markdown",
   "metadata": {},
   "source": [
    "# Exercice 1\n",
    "\n",
    "1. Initialisez une liste avec les nombres `9`, `23` et `91` (dans l'ordre).\n",
    "1. Ajoutez la valeur `3` à la fin de la liste.\n",
    "1. Ajoutez la valeur `3` au début de la liste\n",
    "1. Afficher la liste\n",
    "\n"
   ]
  },
  {
   "cell_type": "code",
   "execution_count": 6,
   "metadata": {},
   "outputs": [
    {
     "name": "stdout",
     "output_type": "stream",
     "text": [
      "[3, 9, 23, 91, 3]\n"
     ]
    }
   ],
   "source": [
    "# Insérez votre code ici\n",
    "\n",
    "ma_liste = [9, 23, 91]\n",
    "ma_liste.append(3)\n",
    "ma_liste.insert(0, 3)\n",
    "print(ma_liste)\n"
   ]
  },
  {
   "cell_type": "markdown",
   "metadata": {},
   "source": [
    "1. Additionnez `10` à la 1ère, 3e et dernière valeur de la liste.\n",
    "1. Afficher la liste\n"
   ]
  },
  {
   "cell_type": "code",
   "execution_count": 7,
   "metadata": {},
   "outputs": [
    {
     "name": "stdout",
     "output_type": "stream",
     "text": [
      "[13, 9, 33, 91, 13]\n"
     ]
    }
   ],
   "source": [
    "# Insérez votre code ici\n",
    "\n",
    "ma_liste[0] += 10\n",
    "ma_liste[2] += 10\n",
    "ma_liste[-1] += 10\n",
    "print(ma_liste)\n"
   ]
  },
  {
   "cell_type": "markdown",
   "metadata": {},
   "source": [
    "1. Mettez la liste en ordre croisant.\n",
    "1. Afficher la liste\n",
    "1. Affichez la longueur de la liste.\n",
    "\n"
   ]
  },
  {
   "cell_type": "code",
   "execution_count": 10,
   "metadata": {},
   "outputs": [
    {
     "name": "stdout",
     "output_type": "stream",
     "text": [
      "[9, 13, 13, 33, 91]\n",
      "longueur: 5\n"
     ]
    }
   ],
   "source": [
    "# Insérez votre code ici\n",
    "\n",
    "ma_liste.sort()\n",
    "print(ma_liste)\n",
    "print(\"longueur:\", len(ma_liste))\n"
   ]
  },
  {
   "cell_type": "markdown",
   "metadata": {},
   "source": [
    "1. Affichez les nombres ayant le chiffre `3` à la position des unités (utilisez une boucle).\n",
    "\n",
    "Indications\n",
    "- Un nombre se termine par 3, si le reste de la division entière est 3."
   ]
  },
  {
   "cell_type": "code",
   "execution_count": 11,
   "metadata": {},
   "outputs": [
    {
     "name": "stdout",
     "output_type": "stream",
     "text": [
      "fini par 3:  13\n",
      "fini par 3:  13\n",
      "fini par 3:  33\n"
     ]
    }
   ],
   "source": [
    "# Insérez votre code ici\n",
    "\n",
    "for element in ma_liste:\n",
    "    if element % 10 == 3:\n",
    "        print(\"fini par 3: \", element)"
   ]
  },
  {
   "cell_type": "markdown",
   "metadata": {},
   "source": [
    "\n",
    "### Exercice 2\n",
    "\n",
    "1. Créer une liste de nombres entiers.\n",
    "2. Écrire un programme qui vérifie si un nombre 'n' est premier, filtre et affiche uniquement les nombres premiers de la liste initiale.\n",
    "\n",
    "Indications\n",
    "- Un nombre premier est un nombre entier supérieur à 1 qui n'a aucun diviseur autre que 1 et lui-même.\n",
    "- Utilise une compréhension de liste pour filtrer les nombres premiers."
   ]
  },
  {
   "cell_type": "code",
   "execution_count": null,
   "metadata": {},
   "outputs": [],
   "source": [
    "#### Solution\n",
    "\n",
    "# Liste de nombres entiers\n",
    "nombres = [2, 3, 4, 5, 6, 7, 8, 9, 10, 11, 12, 13, 14, 15, 16, 17, 18, 19, 20]\n",
    "\n",
    "# Fonction pour vérifier si un nombre est premier\n",
    "def est_premier(n):\n",
    "    if n <= 1:\n",
    "        return False\n",
    "    for i in range(2, int(n**0.5) + 1):\n",
    "        if n % i == 0:\n",
    "            return False\n",
    "    return True\n",
    "\n",
    "# Filtrer les nombres premiers\n",
    "nombres_premiers = [nombre for nombre in nombres if est_premier(nombre)]\n",
    "\n",
    "# Afficher les nombres premiers\n",
    "print(nombres_premiers)  # Affiche [2, 3, 5, 7, 11, 13, 17, 19]"
   ]
  }
 ],
 "metadata": {
  "kernelspec": {
   "display_name": "Python 3",
   "language": "python",
   "name": "python3"
  },
  "language_info": {
   "codemirror_mode": {
    "name": "ipython",
    "version": 3
   },
   "file_extension": ".py",
   "mimetype": "text/x-python",
   "name": "python",
   "nbconvert_exporter": "python",
   "pygments_lexer": "ipython3",
   "version": "3.11.9"
  }
 },
 "nbformat": 4,
 "nbformat_minor": 2
}
