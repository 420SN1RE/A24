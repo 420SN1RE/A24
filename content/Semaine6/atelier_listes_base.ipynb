{
 "cells": [
  {
   "cell_type": "markdown",
   "metadata": {},
   "source": [
    "# Exercice 1\n",
    "\n",
    "1. Initialisez une liste avec les nombres 9, 23 et 91 (dans l'ordre).\n",
    "2. Ajoutez la valeur 3 à la fin de la liste.\n",
    "3. Ajoutez la valeur 3 au début de la liste\n",
    "4. Afficher la liste"
   ]
  },
  {
   "cell_type": "code",
   "execution_count": null,
   "metadata": {},
   "outputs": [],
   "source": [
    "# Insérez votre code ici\n",
    "\n"
   ]
  },
  {
   "cell_type": "markdown",
   "metadata": {},
   "source": [
    "1. Additionnez 10 à la 1ère, 3e et dernière valeur de la liste.\n",
    "2. Afficher la liste"
   ]
  },
  {
   "cell_type": "code",
   "execution_count": null,
   "metadata": {},
   "outputs": [],
   "source": [
    "# Insérez votre code ici\n",
    "\n"
   ]
  },
  {
   "cell_type": "markdown",
   "metadata": {},
   "source": [
    "1. Mettez la liste en ordre croisant.\n",
    "2. Afficher la liste\n",
    "3. Affichez la longueur de la liste."
   ]
  },
  {
   "cell_type": "code",
   "execution_count": null,
   "metadata": {},
   "outputs": [],
   "source": [
    "# Insérez votre code ici\n",
    "\n"
   ]
  },
  {
   "cell_type": "markdown",
   "metadata": {},
   "source": [
    "1. Affichez les nombres ayant le chiffre `3` à la position des unités (utilisez une boucle).\n",
    "\n",
    "Indications\n",
    "- Un nombre se termine par 3, si le reste de la division entière est 3."
   ]
  },
  {
   "cell_type": "code",
   "execution_count": null,
   "metadata": {},
   "outputs": [],
   "source": [
    "# Insérez votre code ici\n",
    "\n"
   ]
  },
  {
   "cell_type": "markdown",
   "metadata": {},
   "source": [
    "\n",
    "### Exercice 2\n",
    "\n",
    "1. Créer une liste de nombres entiers.\n",
    "2. Écrire un programme qui vérifie si un nombre 'n' est premier, filtre et affiche uniquement les nombres premiers de la liste initiale.\n",
    "\n",
    "Indications\n",
    "- Un nombre premier est un nombre entier supérieur à 1 qui n'a aucun diviseur autre que 1 et lui-même.\n",
    "- Utilise des boucles et des if, else pour filtrer les nombres premiers."
   ]
  },
  {
   "cell_type": "code",
   "execution_count": null,
   "metadata": {},
   "outputs": [],
   "source": [
    "# Votre code ici\n",
    "\n"
   ]
  }
 ],
 "metadata": {
  "kernelspec": {
   "display_name": "Python 3",
   "language": "python",
   "name": "python3"
  },
  "language_info": {
   "codemirror_mode": {
    "name": "ipython",
    "version": 3
   },
   "file_extension": ".py",
   "mimetype": "text/x-python",
   "name": "python",
   "nbconvert_exporter": "python",
   "pygments_lexer": "ipython3",
   "version": "3.11.9"
  }
 },
 "nbformat": 4,
 "nbformat_minor": 2
}
