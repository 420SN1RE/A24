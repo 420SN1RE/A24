{
 "cells": [
  {
   "cell_type": "markdown",
   "metadata": {},
   "source": [
    "# Mission d'exploration du système solaire\n",
    "\n",
    "Contexte : Vous êtes des scientifiques de la NASA chargés d'analyser des données sur les planètes du système solaire. Vous devez extraire, organiser et analyser ces données pour mieux comprendre les caractéristiques des planètes et préparer des rapports scientifiques.\n",
    "\n",
    "Objectifs d'apprentissage\n",
    "1. Maîtriser la manipulation des listes en Python : Apprendre à créer, manipuler et extraire des informations de listes de données.\n",
    "1. Effectuer des analyses statistiques.\n",
    "\n",
    "\n",
    "### Exercice 1 : Collecte de données\n",
    "\n",
    "Dans un premier temps, vous allez collecter les informations de plusieurs planètes provenant de ce site : [tableau récapitulatif sur les planètes](http://www.astrosurf.com/luxorion/sysol-tableau.htm)"
   ]
  },
  {
   "cell_type": "markdown",
   "metadata": {},
   "source": [
    "1. Stocker dans une liste les informations suivantes (chaîne de caractères) : distance, diamètre, masse, densité.\n",
    "\n",
    "Nommez cette liste `informations`"
   ]
  },
  {
   "cell_type": "code",
   "execution_count": null,
   "metadata": {},
   "outputs": [],
   "source": [
    "#\n",
    "# Votre code ici\n",
    "#"
   ]
  },
  {
   "cell_type": "code",
   "execution_count": 8,
   "metadata": {},
   "outputs": [],
   "source": [
    "informations = [\"distance\", \"diamètre\", \"masse\", \"densité\"]"
   ]
  },
  {
   "cell_type": "markdown",
   "metadata": {},
   "source": [
    "2. Collecter les informations pour les planètes *Mercure*, *Venus*, *Terre*, *Mars* sous forme de liste. Une par planète, suivant l'ordre des `informations`."
   ]
  },
  {
   "cell_type": "code",
   "execution_count": null,
   "metadata": {},
   "outputs": [],
   "source": [
    "#\n",
    "# Votre code ici\n",
    "#"
   ]
  },
  {
   "cell_type": "code",
   "execution_count": 9,
   "metadata": {},
   "outputs": [],
   "source": [
    "mercure = [58, 4878, 0.055, 5.5]\n",
    "venus = [108.2, 12104, 0.815, 5.26]\n",
    "terre = [149.6, 12756, 1, 5.32]\n",
    "mars = [227.9, 6790, 0.1074, 3.93]"
   ]
  },
  {
   "cell_type": "markdown",
   "metadata": {},
   "source": [
    "3. Ajouter au bout de vos listes la gravité de chacune des planètes.\n",
    "Ne pas oublier d'ajouter la chaîne de caractère à la liste `informations`."
   ]
  },
  {
   "cell_type": "code",
   "execution_count": null,
   "metadata": {},
   "outputs": [],
   "source": [
    "#\n",
    "# Votre code ici\n",
    "#"
   ]
  },
  {
   "cell_type": "code",
   "execution_count": null,
   "metadata": {},
   "outputs": [],
   "source": [
    "informations.append(\"gravité\")\n",
    "mercure.append(0.38)\n",
    "venus.append(0.91)\n",
    "terre.append(1)\n",
    "mars.append(0.38)"
   ]
  },
  {
   "cell_type": "markdown",
   "metadata": {},
   "source": [
    "4. Les informations de la planète Jupiter vous sont fournis mais semblent ne pas correspondrent aux informations relevés sur le site. A l'aide de la fonction \"pop()\", supprimer les éléments en trop."
   ]
  },
  {
   "cell_type": "code",
   "execution_count": 35,
   "metadata": {},
   "outputs": [
    {
     "name": "stdout",
     "output_type": "stream",
     "text": [
      "[1.33, 778.3, 5.21, 142984, 92, 5, 2.54]\n"
     ]
    }
   ],
   "source": [
    "jupiter = [1.33, 778.3, 5.21, 142984, 92, 5, 2.54]\n",
    "print(jupiter)"
   ]
  },
  {
   "cell_type": "code",
   "execution_count": null,
   "metadata": {},
   "outputs": [],
   "source": [
    "#\n",
    "# Votre code ici\n",
    "#"
   ]
  },
  {
   "cell_type": "code",
   "execution_count": 36,
   "metadata": {},
   "outputs": [
    {
     "name": "stdout",
     "output_type": "stream",
     "text": [
      "[1.33, 778.3, 142984, 2.54]\n"
     ]
    }
   ],
   "source": [
    "jupiter.pop(2)\n",
    "jupiter.pop(3)\n",
    "jupiter.pop(3)\n",
    "print(jupiter)\n"
   ]
  },
  {
   "cell_type": "markdown",
   "metadata": {},
   "source": [
    "5. Mettre la liste dans l'ordre des informations relevées sur le site."
   ]
  },
  {
   "cell_type": "code",
   "execution_count": null,
   "metadata": {},
   "outputs": [],
   "source": [
    "#\n",
    "# Votre code ici\n",
    "#"
   ]
  },
  {
   "cell_type": "code",
   "execution_count": 37,
   "metadata": {},
   "outputs": [
    {
     "name": "stdout",
     "output_type": "stream",
     "text": [
      "[778.3, 142984, 1.33, 2.54]\n"
     ]
    }
   ],
   "source": [
    "jupiter[0], jupiter[2] = jupiter[2], jupiter[0]\n",
    "jupiter[0], jupiter[1] = jupiter[1], jupiter[0]\n",
    "print(jupiter)"
   ]
  },
  {
   "cell_type": "markdown",
   "metadata": {},
   "source": [
    "6. Insérer la gravité en utilisant la fonction insert()."
   ]
  },
  {
   "cell_type": "code",
   "execution_count": null,
   "metadata": {},
   "outputs": [],
   "source": [
    "#\n",
    "# Votre code ici\n",
    "#"
   ]
  },
  {
   "cell_type": "code",
   "execution_count": 38,
   "metadata": {},
   "outputs": [],
   "source": [
    "jupiter.insert(2, 317.89)\n",
    "print(jupiter)"
   ]
  },
  {
   "cell_type": "markdown",
   "metadata": {},
   "source": [
    "### Exercice 2 : Manipulation des listes\n",
    "\n",
    "A l'aide des informations ci-dessous, présentées d'une manière différente, vous allez effectuer quelques analyses statistiques simples."
   ]
  },
  {
   "cell_type": "code",
   "execution_count": 97,
   "metadata": {},
   "outputs": [],
   "source": [
    "# Nouvelles informations\n",
    "\n",
    "planetes = [\"Mars\", \"Mercure\", \"Jupiter\", \"Venus\", \"Terre\"]\n",
    "distances = [227.9, 58, 778.3, 108.2, 149.6]\n",
    "diametres = [6790, 4878, 142984, 12104, 12756]\n",
    "masses = [0.642, 0.33, 1898, 4.87, 5.97]\n",
    "gravites = [0.38, 0.38, 2.54, 0.91, 1]\n"
   ]
  },
  {
   "cell_type": "markdown",
   "metadata": {},
   "source": [
    "1. Afficher les informations des cinq planètes ci-dessus.\n",
    "\n",
    "Exemple d'affichage :\n",
    "\n",
    "Voici les informations pour la planète XX : \\\n",
    "Sa distance au soleil est : XX \\\n",
    "Son diamètre est : XX \\\n",
    "Sa masse est : XX \\\n",
    "Sa gravité par rapport à la terre est : XX \\\n",
    "\\----------------------------------------------"
   ]
  },
  {
   "cell_type": "code",
   "execution_count": null,
   "metadata": {},
   "outputs": [],
   "source": [
    "#\n",
    "# Votre code ici\n",
    "#"
   ]
  },
  {
   "cell_type": "code",
   "execution_count": 98,
   "metadata": {},
   "outputs": [
    {
     "name": "stdout",
     "output_type": "stream",
     "text": [
      "Voici les informations pour la planète Mars :\n",
      "Sa distance au soleil est : 227.9\n",
      "Son diamètre est : 6790\n",
      "Sa masse est : 0.642\n",
      "Sa gravité par rapport à la terre est : 0.38\n",
      "-------------------------------\n",
      "Voici les informations pour la planète Mercure :\n",
      "Sa distance au soleil est : 58\n",
      "Son diamètre est : 4878\n",
      "Sa masse est : 0.33\n",
      "Sa gravité par rapport à la terre est : 0.38\n",
      "-------------------------------\n",
      "Voici les informations pour la planète Jupiter :\n",
      "Sa distance au soleil est : 778.3\n",
      "Son diamètre est : 142984\n",
      "Sa masse est : 1898\n",
      "Sa gravité par rapport à la terre est : 2.54\n",
      "-------------------------------\n",
      "Voici les informations pour la planète Venus :\n",
      "Sa distance au soleil est : 108.2\n",
      "Son diamètre est : 12104\n",
      "Sa masse est : 4.87\n",
      "Sa gravité par rapport à la terre est : 0.91\n",
      "-------------------------------\n",
      "Voici les informations pour la planète Terre :\n",
      "Sa distance au soleil est : 149.6\n",
      "Son diamètre est : 12756\n",
      "Sa masse est : 5.97\n",
      "Sa gravité par rapport à la terre est : 1\n",
      "-------------------------------\n"
     ]
    }
   ],
   "source": [
    "# Utilisation d'une boucle à l'aide de la fonction len() pour obtenir le nombre de tours \n",
    "# à effectuer en fonction du nombre de planètes.\n",
    "for i in range(len(planetes)):\n",
    "    print(\"Voici les informations pour la planète\", planetes[i], \":\")\n",
    "    print(\"Sa distance au soleil est :\", distances[i])\n",
    "    print(\"Son diamètre est :\", diametres[i])\n",
    "    print(\"Sa masse est :\", masses[i])\n",
    "    print(\"Sa gravité par rapport à la terre est :\", gravites[i])\n",
    "    print(\"-------------------------------\")"
   ]
  },
  {
   "cell_type": "markdown",
   "metadata": {},
   "source": [
    "2. Ressortir les informations suivantes avec des calculs détaillés :\n",
    "    - distance moyenne au soleil\n",
    "    - afficher le nom de la planète la plus grande"
   ]
  },
  {
   "cell_type": "code",
   "execution_count": null,
   "metadata": {},
   "outputs": [],
   "source": [
    "# Distance moyenne au soleil\n",
    "\n",
    "#\n",
    "# Votre code ici\n",
    "#"
   ]
  },
  {
   "cell_type": "code",
   "execution_count": null,
   "metadata": {},
   "outputs": [],
   "source": [
    "# Planète la plus grande\n",
    "\n",
    "#\n",
    "# Votre code ici\n",
    "#"
   ]
  },
  {
   "cell_type": "code",
   "execution_count": 92,
   "metadata": {},
   "outputs": [
    {
     "name": "stdout",
     "output_type": "stream",
     "text": [
      "La distance moyenne est de : 264.4 millions de kms.\n"
     ]
    }
   ],
   "source": [
    "# Distance moyenne au soleil\n",
    "distance_totale = 0\n",
    "\n",
    "# Calcul de la distance totale\n",
    "for i in range(len(distances)):\n",
    "    distance_totale = distance_totale + distances[i]\n",
    "\n",
    "# Calcul de la distance moyenne \n",
    "distance_moyenne = distance_totale / len(distances)\n",
    "\n",
    "# Affichage\n",
    "print(\"La distance moyenne est de :\", distance_moyenne, \"millions de kms.\")"
   ]
  },
  {
   "cell_type": "code",
   "execution_count": 93,
   "metadata": {},
   "outputs": [
    {
     "name": "stdout",
     "output_type": "stream",
     "text": [
      "La planète la plus grande est : Jupiter\n"
     ]
    }
   ],
   "source": [
    "# Planète la plus grande\n",
    "# Recherche de l'élément le plus grand\n",
    "plus_grand = 0\n",
    "\n",
    "for i in range(len(diametres)):\n",
    "    if diametres[i] > plus_grand:\n",
    "        plus_grand = diametres[i]\n",
    "\n",
    "# Recherche de la position de la valeur la plus grande\n",
    "indice = diametres.index(plus_grand)\n",
    "\n",
    "# Affichage\n",
    "print(\"La planète la plus grande est :\", planetes[indice])"
   ]
  },
  {
   "cell_type": "markdown",
   "metadata": {},
   "source": [
    "### Exercice 3 : Étude des Propriétés Physiques\n",
    "\n",
    "Estimer les densités moyennes des planètes en g/cm3 en utilisant la formule densité = masse/volume. \\\n",
    "Sachant que la formule du volume est :\n",
    "$$\n",
    "V = \\frac{4}{3} \\pi r^3\n",
    "$$\n",
    "\n",
    "Pour votre calcul, le volume sera estimé avec PI qui aura 4 chiffres après la virgules.\n",
    "\n",
    "Les résultats seront affichés comme ceci :\n",
    "\n",
    "Planète : X \\\n",
    "Densité : X.XX g/cm3 \\\n",
    "\\--------------------------- \\\n",
    "Planète : X \\\n",
    "Densité : X.XX g/cm3 \\\n",
    "\\---------------------------"
   ]
  },
  {
   "cell_type": "code",
   "execution_count": null,
   "metadata": {},
   "outputs": [],
   "source": [
    "#\n",
    "# Votre code ici\n",
    "#"
   ]
  },
  {
   "cell_type": "code",
   "execution_count": 114,
   "metadata": {},
   "outputs": [
    {
     "name": "stdout",
     "output_type": "stream",
     "text": [
      "Planète : Mars\n",
      "Densité : 3.92 g/cm3\n",
      "----------------------------\n",
      "Planète : Mercure\n",
      "Densité : 5.43 g/cm3\n",
      "----------------------------\n",
      "Planète : Jupiter\n",
      "Densité : 1.24 g/cm3\n",
      "----------------------------\n",
      "Planète : Venus\n",
      "Densité : 5.25 g/cm3\n",
      "----------------------------\n",
      "Planète : Terre\n",
      "Densité : 5.49 g/cm3\n",
      "----------------------------\n"
     ]
    }
   ],
   "source": [
    "# Déclaration de variables\n",
    "PI = 3.1415\n",
    "densites = []\n",
    "\n",
    "# Calcul des densités\n",
    "for i in range(len(masses)):\n",
    "    rayon = diametres[i] / 2\n",
    "    volume = 4/3 * PI * rayon ** 3\n",
    "    densites.append(masses[i] / volume)\n",
    "\n",
    "# Affichage par planète\n",
    "for i in range(len(densites)):\n",
    "    print(\"Planète :\", planetes[i])\n",
    "    print(\"Densité :\", round(densites[i] * 10**12, 2), \"g/cm3\")\n",
    "    print(\"----------------------------\")\n"
   ]
  }
 ],
 "metadata": {
  "kernelspec": {
   "display_name": "Python 3",
   "language": "python",
   "name": "python3"
  },
  "language_info": {
   "codemirror_mode": {
    "name": "ipython",
    "version": 3
   },
   "file_extension": ".py",
   "mimetype": "text/x-python",
   "name": "python",
   "nbconvert_exporter": "python",
   "pygments_lexer": "ipython3",
   "version": "3.11.9"
  }
 },
 "nbformat": 4,
 "nbformat_minor": 2
}
