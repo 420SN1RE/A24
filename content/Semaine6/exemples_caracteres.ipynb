{
 "cells": [
  {
   "cell_type": "markdown",
   "metadata": {},
   "source": [
    "# Exemples: Chaines de Caractères\n",
    "\n"
   ]
  },
  {
   "cell_type": "markdown",
   "metadata": {},
   "source": [
    "\n",
    "## Création"
   ]
  },
  {
   "cell_type": "code",
   "execution_count": 9,
   "metadata": {},
   "outputs": [
    {
     "name": "stdout",
     "output_type": "stream",
     "text": [
      ">>> \n",
      "Bonjour\n"
     ]
    }
   ],
   "source": [
    "chaine_vide = \"\"\n",
    "ma_chaine = \"Bonjour\"\n",
    "\n",
    "print(\">>>\", chaine_vide)\n",
    "print(ma_chaine)"
   ]
  },
  {
   "cell_type": "markdown",
   "metadata": {},
   "source": [
    "## Longueur"
   ]
  },
  {
   "cell_type": "code",
   "execution_count": 10,
   "metadata": {},
   "outputs": [
    {
     "name": "stdout",
     "output_type": "stream",
     "text": [
      "Longueur: 7\n"
     ]
    }
   ],
   "source": [
    "longueur = len(ma_chaine)\n",
    "print(\"Longueur:\", longueur) "
   ]
  },
  {
   "cell_type": "markdown",
   "metadata": {},
   "source": [
    "## Concaténation"
   ]
  },
  {
   "cell_type": "code",
   "execution_count": 11,
   "metadata": {},
   "outputs": [
    {
     "name": "stdout",
     "output_type": "stream",
     "text": [
      "Bonjour\n",
      "Bonjour le monde\n"
     ]
    }
   ],
   "source": [
    "print(ma_chaine)\n",
    "ma_chaine = ma_chaine + \" le monde\"\n",
    "print(ma_chaine)   "
   ]
  },
  {
   "cell_type": "markdown",
   "metadata": {},
   "source": [
    "## Multiplication\n"
   ]
  },
  {
   "cell_type": "code",
   "execution_count": 12,
   "metadata": {},
   "outputs": [
    {
     "name": "stdout",
     "output_type": "stream",
     "text": [
      "AlloAlloAllo\n"
     ]
    }
   ],
   "source": [
    "une_chaine_repetee = \"Allo\" * 3\n",
    "print(une_chaine_repetee) "
   ]
  },
  {
   "cell_type": "markdown",
   "metadata": {},
   "source": [
    "## Conversion en chaîne de caractères"
   ]
  },
  {
   "cell_type": "code",
   "execution_count": 13,
   "metadata": {},
   "outputs": [
    {
     "name": "stdout",
     "output_type": "stream",
     "text": [
      "123 246\n",
      "123 123123\n"
     ]
    }
   ],
   "source": [
    "numerique = 123\n",
    "print(numerique, numerique * 2)\n",
    "\n",
    "# Transtypage d'un numérique en chaîne de caractères\n",
    "la_chaine = str(numerique)\n",
    "print(la_chaine, la_chaine * 2)"
   ]
  },
  {
   "cell_type": "markdown",
   "metadata": {},
   "source": [
    "## Conversion en nombres"
   ]
  },
  {
   "cell_type": "code",
   "execution_count": 28,
   "metadata": {},
   "outputs": [
    {
     "name": "stdout",
     "output_type": "stream",
     "text": [
      "123 123123\n",
      "123 246\n"
     ]
    }
   ],
   "source": [
    "chaine_numerique = \"123\"\n",
    "print(chaine_numerique, chaine_numerique * 2)\n",
    "\n",
    "# Transtypage d'une chaîne de caractères en numérique\n",
    "nombre = int(var)\n",
    "print(nombre, nombre * 2)"
   ]
  },
  {
   "cell_type": "markdown",
   "metadata": {},
   "source": [
    "## []"
   ]
  },
  {
   "cell_type": "code",
   "execution_count": 14,
   "metadata": {},
   "outputs": [
    {
     "name": "stdout",
     "output_type": "stream",
     "text": [
      "Bonjour le monde\n",
      "B\n",
      "on\n",
      "jour\n",
      " le monde\n",
      "Bonj\n",
      "Bonjour le mond\n"
     ]
    }
   ],
   "source": [
    "print(ma_chaine)\n",
    "print(ma_chaine[0])  # indice 0 correspond à la lettre à la première position de la chaîne\n",
    "\n",
    "sous_chaine_concatenee = ma_chaine[1] + ma_chaine[2]    # 2e et 3e lettre\n",
    "print(sous_chaine_concatenee)\n",
    "\n",
    "print(ma_chaine[3:7])   # une sous-chaîne. Notez que le caractère à l'indice 7 n'est pas inclus (le 8e caractère)\n",
    "print(ma_chaine[7:])    # Affiche de l'indice 7 jusqu'au dernier\n",
    "print(ma_chaine[:4])    # Affiche du début jusqu'à l'indice 4 (sans l'inclure)\n",
    "print(ma_chaine[:-1])   # Affiche du début, jusqu'au dernier caractère (sans l'inclure)"
   ]
  },
  {
   "cell_type": "markdown",
   "metadata": {},
   "source": [
    "## lower() et islower()"
   ]
  },
  {
   "cell_type": "code",
   "execution_count": 30,
   "metadata": {},
   "outputs": [
    {
     "name": "stdout",
     "output_type": "stream",
     "text": [
      "Bonjour le monde\n",
      "False\n",
      "bonjour le monde\n",
      "True\n",
      "Bonjour le monde\n"
     ]
    }
   ],
   "source": [
    "print(ma_chaine)  \n",
    "print(ma_chaine.islower())  \n",
    "chaine_minuscule = ma_chaine.lower()\n",
    "print(chaine_minuscule)   \n",
    "print(chaine_minuscule.islower())   \n",
    "print(ma_chaine)     # ma_chaine reste intacte"
   ]
  },
  {
   "cell_type": "markdown",
   "metadata": {},
   "source": [
    "## upper() et isupper()"
   ]
  },
  {
   "cell_type": "code",
   "execution_count": 31,
   "metadata": {},
   "outputs": [
    {
     "name": "stdout",
     "output_type": "stream",
     "text": [
      "Bonjour le monde\n",
      "False\n",
      "BONJOUR LE MONDE\n",
      "True\n",
      "Bonjour le monde\n"
     ]
    }
   ],
   "source": [
    "print(ma_chaine)   \n",
    "print(ma_chaine.isupper())\n",
    "chaine_majuscule = ma_chaine.upper()\n",
    "print(chaine_majuscule)   \n",
    "print(chaine_majuscule.isupper())\n",
    "print(ma_chaine)     # ma_chaine reste intacte"
   ]
  },
  {
   "cell_type": "markdown",
   "metadata": {},
   "source": [
    "## strip()"
   ]
  },
  {
   "cell_type": "code",
   "execution_count": 17,
   "metadata": {},
   "outputs": [
    {
     "name": "stdout",
     "output_type": "stream",
     "text": [
      "7\n",
      "4\n"
     ]
    }
   ],
   "source": [
    "salutation = \"  allo\\t\"\n",
    "print(len(salutation))\n",
    "salutation_nettoyee = salutation.strip()\n",
    "print(len(salutation_nettoyee))"
   ]
  },
  {
   "cell_type": "markdown",
   "metadata": {},
   "source": [
    "# isdigit() et isalpha()"
   ]
  },
  {
   "cell_type": "code",
   "execution_count": 18,
   "metadata": {},
   "outputs": [
    {
     "name": "stdout",
     "output_type": "stream",
     "text": [
      "\t\tisalpha()\tisdigit()\n",
      "Numérique\tFalse\t\tTrue\n",
      "Hybride\t\tFalse\t\tFalse\n",
      "Texte\t\tTrue\t\tFalse\n"
     ]
    }
   ],
   "source": [
    "une_chaine_numerique = \"123\"\n",
    "une_chaine_hybride = \"123abc\"\n",
    "une_chaine_texte = \"Bonjour\"\n",
    "\n",
    "print(\"\\t\\tisalpha()\\tisdigit()\")\n",
    "print(f'Numérique\\t{une_chaine_numerique.isalpha()}\\t\\t{une_chaine_numerique.isdigit()}')\n",
    "print(f'Hybride\\t\\t{une_chaine_hybride.isalpha()}\\t\\t{une_chaine_hybride.isdigit()}')\n",
    "print(f'Texte\\t\\t{une_chaine_texte.isalpha()}\\t\\t{une_chaine_texte.isdigit()}')\n"
   ]
  },
  {
   "cell_type": "markdown",
   "metadata": {},
   "source": [
    "## replace()"
   ]
  },
  {
   "cell_type": "code",
   "execution_count": 19,
   "metadata": {},
   "outputs": [
    {
     "name": "stdout",
     "output_type": "stream",
     "text": [
      "abababababa\n",
      "bbbbbbbbbbb\n",
      "cccbb\n"
     ]
    }
   ],
   "source": [
    "une_chaine = \"abababababa\"\n",
    "print(une_chaine)\n",
    "une_chaine = une_chaine.replace('a', 'b')         # une_chaîne est écrasée par le retour de replace()\n",
    "print(une_chaine)\n",
    "\n",
    "une_chaine = une_chaine.replace('bbb', 'c')\n",
    "print(une_chaine)"
   ]
  },
  {
   "cell_type": "markdown",
   "metadata": {},
   "source": [
    "## find()"
   ]
  },
  {
   "cell_type": "code",
   "execution_count": 20,
   "metadata": {},
   "outputs": [
    {
     "name": "stdout",
     "output_type": "stream",
     "text": [
      "Bonjour tout le monde\n",
      "012345678901234567890\n",
      "\n",
      "1\n",
      "16\n",
      "-1\n",
      "10\n"
     ]
    }
   ],
   "source": [
    "une_chaine = \"Bonjour tout le monde\"\n",
    "print(une_chaine)\n",
    "print(\"012345678901234567890\\n\")    # Pour afficher les indices\n",
    "\n",
    "indice = une_chaine.find(\"o\")\n",
    "print(indice)  \n",
    "\n",
    "indice = une_chaine.find(\"monde\")\n",
    "print(indice)   \n",
    "\n",
    "indice = une_chaine.find(\"z\")\n",
    "print(indice)   \n",
    "\n",
    "indice = \"Une autre phrase\".find(\"p\")\n",
    "print(indice)   "
   ]
  },
  {
   "cell_type": "markdown",
   "metadata": {},
   "source": [
    "Pour trouver toutes les indices d'une lettre spécifique:"
   ]
  },
  {
   "cell_type": "code",
   "execution_count": 21,
   "metadata": {},
   "outputs": [
    {
     "name": "stdout",
     "output_type": "stream",
     "text": [
      "1 => o\n",
      "4 => o\n",
      "9 => o\n",
      "17 => o\n"
     ]
    }
   ],
   "source": [
    "une_chaine = \"Bonjour tout le monde\"\n",
    "lettre_recherchee = \"o\"\n",
    "\n",
    "indice = une_chaine.find(lettre_recherchee)\n",
    "\n",
    "while indice != -1:\n",
    "    print(indice, \"=>\", une_chaine[indice])      # `une_chaine[indice]` permet de vérifier la lettre à l'impression\n",
    "    # le 2e argument de find() permet d'indiquer où la recherche doit commencer (0 par défaut)\n",
    "    indice = une_chaine.find(lettre_recherchee, indice + 1)"
   ]
  },
  {
   "cell_type": "markdown",
   "metadata": {},
   "source": [
    "## split()"
   ]
  },
  {
   "cell_type": "code",
   "execution_count": 22,
   "metadata": {},
   "outputs": [
    {
     "name": "stdout",
     "output_type": "stream",
     "text": [
      "['un', 'deux', 'trois', 'quatre']\n",
      "['un-deux', 'rois-quatre']\n"
     ]
    }
   ],
   "source": [
    "une_chaine = \"un-deux-trois-quatre\"\n",
    "nombres = une_chaine.split(\"-\")\n",
    "print(nombres)   \n",
    "\n",
    "nombres = une_chaine.split(\"-t\")\n",
    "print(nombres)  "
   ]
  },
  {
   "cell_type": "markdown",
   "metadata": {},
   "source": [
    "## join()"
   ]
  },
  {
   "cell_type": "code",
   "execution_count": 23,
   "metadata": {},
   "outputs": [
    {
     "name": "stdout",
     "output_type": "stream",
     "text": [
      "un-deux-trois-quatre\n",
      "un ==> deux ==> trois ==> quatre\n"
     ]
    }
   ],
   "source": [
    "liste_mots = ['un', 'deux', 'trois', 'quatre']   # liste contenant plusieurs chaînes de caractères\n",
    "une_chaine = \"-\".join(liste_mots)\n",
    "print(une_chaine) \n",
    "\n",
    "une_chaine = \" ==> \".join(liste_mots)\n",
    "print(une_chaine)  "
   ]
  },
  {
   "cell_type": "markdown",
   "metadata": {},
   "source": [
    "### Charactères \"spéciaux\"\n",
    "\n",
    "| Caractère |  |\n",
    "| --- | --- |\n",
    "| `\\t` | Tabulation |\n",
    "| `\\n` | Retour de ligne |\n",
    "| `\\\\` | Barre oblique inversée (Backslash) |"
   ]
  },
  {
   "cell_type": "code",
   "execution_count": 24,
   "metadata": {},
   "outputs": [
    {
     "name": "stdout",
     "output_type": "stream",
     "text": [
      "la\tchaine de\n",
      "caractères\\\n"
     ]
    }
   ],
   "source": [
    "une_chaine = \"la\\tchaine de\\ncaractères\\\\\"\n",
    "print(une_chaine)"
   ]
  },
  {
   "cell_type": "markdown",
   "metadata": {},
   "source": [
    "## Chaines avec variables\n",
    "\n",
    "\n",
    "La concaténation:"
   ]
  },
  {
   "cell_type": "code",
   "execution_count": 25,
   "metadata": {},
   "outputs": [
    {
     "name": "stdout",
     "output_type": "stream",
     "text": [
      "Le nombre 23 est plus petit que 35\n"
     ]
    }
   ],
   "source": [
    "nombre1 = 23\n",
    "nombre2 = 35\n",
    "la_chaine = \"Le nombre \" + str(nombre1) + \" est plus petit que \" + str(nombre2)\n",
    "print(la_chaine)   # Affiche:  Le nombre 23 est plus petit que 35"
   ]
  },
  {
   "cell_type": "markdown",
   "metadata": {},
   "source": [
    "Le f-strings (**meilleure solution**):\n"
   ]
  },
  {
   "cell_type": "code",
   "execution_count": 26,
   "metadata": {},
   "outputs": [
    {
     "name": "stdout",
     "output_type": "stream",
     "text": [
      "Le nombre 23 est plus petit que 35\n"
     ]
    }
   ],
   "source": [
    "nombre1 = 23\n",
    "nombre2 = 35\n",
    "la_chaine = f'Le nombre {nombre1} est plus petit que {nombre2}'\n",
    "print(la_chaine)   # Affiche:  Le nombre 23 est plus petit que 35"
   ]
  },
  {
   "cell_type": "markdown",
   "metadata": {},
   "source": [
    "## Dans une boucle\n",
    "\n",
    "Il est possible d'itérer sur chaque lettre de la chaîne:"
   ]
  },
  {
   "cell_type": "code",
   "execution_count": 27,
   "metadata": {},
   "outputs": [
    {
     "name": "stdout",
     "output_type": "stream",
     "text": [
      "La lettre numéro 1 est : B\n",
      "La lettre numéro 2 est : o\n",
      "La lettre numéro 3 est : n\n",
      "La lettre numéro 4 est : j\n",
      "La lettre numéro 5 est : o\n",
      "La lettre numéro 6 est : u\n",
      "La lettre numéro 7 est : r\n"
     ]
    }
   ],
   "source": [
    "rang = 1\n",
    "for lettre in \"Bonjour\":\n",
    "    print(f'La lettre numéro {rang} est : {lettre}')\n",
    "    rang += 1"
   ]
  }
 ],
 "metadata": {
  "kernelspec": {
   "display_name": "Python 3",
   "language": "python",
   "name": "python3"
  },
  "language_info": {
   "codemirror_mode": {
    "name": "ipython",
    "version": 3
   },
   "file_extension": ".py",
   "mimetype": "text/x-python",
   "name": "python",
   "nbconvert_exporter": "python",
   "pygments_lexer": "ipython3",
   "version": "3.10.12"
  }
 },
 "nbformat": 4,
 "nbformat_minor": 2
}
