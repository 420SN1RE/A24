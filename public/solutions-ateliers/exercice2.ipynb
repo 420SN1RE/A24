{
 "cells": [
  {
   "cell_type": "markdown",
   "metadata": {},
   "source": [
    "## Exercice 2"
   ]
  },
  {
   "cell_type": "code",
   "execution_count": null,
   "metadata": {},
   "outputs": [],
   "source": [
    "# Initialisation de la liste des produits\n",
    "produits = []\n",
    "\n",
    "# Demander à l'utilisateur combien de produits il veut ajouter\n",
    "nombre_de_produits = int(input(\"Combien de produits voulez-vous ajouter ? \"))\n",
    "\n",
    "# Boucle pour entrer les produits\n",
    "for i in range(nombre_de_produits):\n",
    "    nom = input(f\"Entrez le nom du produit {i+1}: \")\n",
    "    prix = float(input(f\"Entrez le prix du produit {i+1}: \"))\n",
    "    produits.append({'nom': nom, 'prix': prix})\n",
    "\n",
    "# Afficher la liste des produits\n",
    "print(\"Liste des produits:\")\n",
    "for produit in produits:\n",
    "    print(f\"Nom: {produit['nom']}, Prix: {produit['prix']}\")\n",
    "\n",
    "# Recherche de produit\n",
    "recherche = input(\"Voulez-vous rechercher un produit par nom ou par prix ? (nom/prix): \")\n",
    "\n",
    "if recherche == \"nom\":\n",
    "    nom_recherche = input(\"Entrez le nom du produit à rechercher: \")\n",
    "    for produit in produits:\n",
    "        if produit['nom'] == nom_recherche:\n",
    "            print(f\"Produit trouvé - Nom: {produit['nom']}, Prix: {produit['prix']}\")\n",
    "elif recherche == \"prix\":\n",
    "    prix_recherche = float(input(\"Entrez le prix maximum: \"))\n",
    "    for produit in produits:\n",
    "        if produit['prix'] <= prix_recherche:\n",
    "            print(f\"Produit trouvé - Nom: {produit['nom']}, Prix: {produit['prix']}\")\n",
    "else:\n",
    "    print(\"Option de recherche invalide.\")\n"
   ]
  }
 ],
 "metadata": {
  "language_info": {
   "name": "python"
  }
 },
 "nbformat": 4,
 "nbformat_minor": 2
}
