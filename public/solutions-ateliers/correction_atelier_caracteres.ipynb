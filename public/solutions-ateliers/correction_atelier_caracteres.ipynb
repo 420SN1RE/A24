{
 "cells": [
  {
   "cell_type": "markdown",
   "metadata": {},
   "source": [
    "# Exercice 1\n",
    "\n",
    "## A)\n",
    "\n",
    "Initialisez une chaîne de caractères contenant un mot (au moins 6 caractères).  \n",
    "Affichez la chaîne et sa longueur."
   ]
  },
  {
   "cell_type": "code",
   "execution_count": 40,
   "metadata": {},
   "outputs": [
    {
     "name": "stdout",
     "output_type": "stream",
     "text": [
      "Bonjour : 7\n"
     ]
    }
   ],
   "source": [
    "mon_mot = \"Bonjour\"\n",
    "print(mon_mot, \":\", len(mon_mot))"
   ]
  },
  {
   "cell_type": "markdown",
   "metadata": {},
   "source": [
    "## B)\n",
    "\n",
    "Ajoutez un deuxième mot à votre chaîne (séparé par un espace).  \n",
    "Affichez la nouvelle chaîne et sa longueur."
   ]
  },
  {
   "cell_type": "code",
   "execution_count": 41,
   "metadata": {},
   "outputs": [
    {
     "name": "stdout",
     "output_type": "stream",
     "text": [
      "Bonjour toi : 11\n"
     ]
    }
   ],
   "source": [
    "mon_mot += \" toi\"\n",
    "print(mon_mot, \":\", len(mon_mot))\n"
   ]
  },
  {
   "cell_type": "markdown",
   "metadata": {},
   "source": [
    "## C)\n",
    "\n",
    "Ajoutez un autre mot à votre chaîne (séparé par un espace).  \n",
    "Ce nouveau mot doit être une répétition d'une lettre (ex: 5 fois la lettre \"z\").  \n",
    "Affichez la nouvelle chaîne et sa longueur."
   ]
  },
  {
   "cell_type": "code",
   "execution_count": 42,
   "metadata": {},
   "outputs": [
    {
     "name": "stdout",
     "output_type": "stream",
     "text": [
      "Bonjour toi zzzzz : 17\n"
     ]
    }
   ],
   "source": [
    "mon_mot += \" \" + \"z\" * 5\n",
    "print(mon_mot, \":\", len(mon_mot))"
   ]
  },
  {
   "cell_type": "markdown",
   "metadata": {},
   "source": [
    "## D)\n",
    "\n",
    "Ajoutez un nombre au début de votre chaîne (séparé par un espace).  \n",
    "Affichez la nouvelle chaîne et sa longueur."
   ]
  },
  {
   "cell_type": "code",
   "execution_count": 43,
   "metadata": {},
   "outputs": [
    {
     "name": "stdout",
     "output_type": "stream",
     "text": [
      "123 Bonjour toi zzzzz : 21\n"
     ]
    }
   ],
   "source": [
    "mon_mot = str(123) + \" \" + mon_mot\n",
    "print(mon_mot, \":\", len(mon_mot))"
   ]
  },
  {
   "cell_type": "markdown",
   "metadata": {},
   "source": [
    "# Exercice 2\n",
    "\n",
    "Initialisez une chaîne de caractères avec la phrase suivante: `Le programmeur a passé toute la nuit à coder, buvant du café et trouvant des bugs avant même de prendre son petit-déjeuner.`\n",
    "\n",
    "## A)\n",
    "\n",
    "Modifier la phrase:\n",
    "- Remplacez `nuit` par `journée`\n",
    "- Enlevez le mot `toute`\n",
    "- Remplacez `buvant du café` par `buvant beaucoup de café`\n",
    "- Ajoutez le mot `bizarres` entre `bugs` et `avant`"
   ]
  },
  {
   "cell_type": "code",
   "execution_count": 44,
   "metadata": {},
   "outputs": [
    {
     "name": "stdout",
     "output_type": "stream",
     "text": [
      "Le programmeur a passé la journée à coder, buvant beaucoup de café et trouvant des bugs bizarres avant même de prendre son petit-déjeuner.\n"
     ]
    }
   ],
   "source": [
    "phrase = \"Le programmeur a passé toute la nuit à coder, buvant du café et trouvant des bugs avant même de prendre son petit-déjeuner.\"\n",
    "phrase = phrase.replace('nuit', 'journée')\n",
    "phrase = phrase.replace('toute ', '')\n",
    "phrase = phrase.replace('buvant du café', 'buvant beaucoup de café')\n",
    "phrase = phrase.replace('bugs avant', 'bugs bizarres avant')\n",
    "\n",
    "print(phrase)\n"
   ]
  },
  {
   "cell_type": "markdown",
   "metadata": {},
   "source": [
    "## B) \n",
    "\n",
    "Initialiser un chaîne de caractères avec le mot `coder`. Par la suite, n'utilisez plus le mot `coder`. Référez-vous toujours à la variable que vous venez de créer.\n",
    "Trouvez la position de départ de ce mot dans la phrase précédente (en utilisant la variable que vous venez de créer).\n",
    "Trouver la position de fin de ce mot en utilisant la position de départ et la fonction `len()`.\n",
    "Ensuite, affichez le mot `coder` en utilisant `[]` et les positions que vous venez de trouver.\n"
   ]
  },
  {
   "cell_type": "code",
   "execution_count": 45,
   "metadata": {},
   "outputs": [
    {
     "name": "stdout",
     "output_type": "stream",
     "text": [
      "coder\n"
     ]
    }
   ],
   "source": [
    "a_trouve = \"coder\"\n",
    "position_depart = phrase.find(a_trouve)\n",
    "position_fin = position_depart + len(a_trouve)\n",
    "print(phrase[position_depart:position_fin])\n"
   ]
  },
  {
   "cell_type": "markdown",
   "metadata": {},
   "source": [
    "# Exercice 3\n",
    "\n",
    "Initialisez une chaîne de caractères avec la phrase suivante: `Le Programmeur a écrit 1000 Lignes de code, bu 4 tasses de Café, et trouvé 42 Bugs avant le déjeuner.`\n",
    "\n",
    "## A)\n",
    "\n",
    "Vous devez modifier les chiffres dans la phrase.  \n",
    "Chaque chiffre doit être multiplié par 2. On regarde chaque chiffre individuellement (pas les nombres).  \n",
    "Vous devriez obtenir la réponse suivante: `Le Programmeur a écrit 2000 Lignes de code, bu 8 tasses de Café, et trouvé 84 Bugs avant le déjeuner.`"
   ]
  },
  {
   "cell_type": "code",
   "execution_count": 46,
   "metadata": {},
   "outputs": [
    {
     "name": "stdout",
     "output_type": "stream",
     "text": [
      "Le Programmeur a écrit 2000 Lignes de code, bu 8 tasses de Café, et trouvé 84 Bugs avant le déjeuner.\n"
     ]
    }
   ],
   "source": [
    "phrase = 'Le Programmeur a écrit 1000 Lignes de code, bu 4 tasses de Café, et trouvé 42 Bugs avant le déjeuner.'\n",
    "nouvelle_phrase = \"\"\n",
    "for lettre in phrase:\n",
    "    if lettre.isdigit():\n",
    "        nouvelle_phrase += str(int(lettre) * 2)\n",
    "    else:\n",
    "        nouvelle_phrase += lettre\n",
    "\n",
    "print(nouvelle_phrase)"
   ]
  },
  {
   "cell_type": "markdown",
   "metadata": {},
   "source": [
    "## B)\n",
    "\n",
    "Maintenant, inversez les lettres majuscules et minuscules.  \n",
    "Vous devriez obtenir la réponse suivante: `lE pROGRAMMEUR A ÉCRIT 2000 lIGNES DE CODE, BU 8 TASSES DE cAFÉ, ET TROUVÉ 84 bUGS AVANT LE DÉJEUNER.`"
   ]
  },
  {
   "cell_type": "code",
   "execution_count": 47,
   "metadata": {},
   "outputs": [
    {
     "name": "stdout",
     "output_type": "stream",
     "text": [
      "lE pROGRAMMEUR A ÉCRIT 2000 lIGNES DE CODE, BU 8 TASSES DE cAFÉ, ET TROUVÉ 84 bUGS AVANT LE DÉJEUNER.\n"
     ]
    }
   ],
   "source": [
    "phrase = nouvelle_phrase\n",
    "nouvelle_phrase = \"\"\n",
    "for lettre in phrase:\n",
    "    if lettre.isupper():\n",
    "        nouvelle_phrase += lettre.lower()\n",
    "    else:\n",
    "        nouvelle_phrase += lettre.upper()\n",
    "\n",
    "print(nouvelle_phrase)"
   ]
  },
  {
   "cell_type": "markdown",
   "metadata": {},
   "source": [
    "## C) (défi)\n",
    "\n",
    "Initialisez une chaine de caractères avec la phrase suivante: `Le Programmeur a écrit 1059 Lignes de code, bu 7 tasses de Café, et trouvé 47 Bugs avant le déjeuner.`\n",
    "\n",
    "Vous devez modifier les nombres dans la phrase.  \n",
    "Chaque nombre doit être multiplié par 2. \n",
    "Vous devriez obtenir la réponse suivante: `Le Programmeur a écrit 2118 Lignes de code, bu 14 tasses de Café, et trouvé 94 Bugs avant le déjeuner.`"
   ]
  },
  {
   "cell_type": "code",
   "execution_count": 48,
   "metadata": {},
   "outputs": [
    {
     "name": "stdout",
     "output_type": "stream",
     "text": [
      "Le Programmeur a écrit 2118 Lignes de code, bu 14 tasses de Café, et trouvé 94 Bugs avant le déjeuner.\n"
     ]
    }
   ],
   "source": [
    "phrase = 'Le Programmeur a écrit 1059 Lignes de code, bu 7 tasses de Café, et trouvé 47 Bugs avant le déjeuner.'\n",
    "nouvelle_phrase = \"\"\n",
    "nombre_actuel = \"\"\n",
    "\n",
    "for lettre in phrase:\n",
    "    if lettre.isdigit():\n",
    "        nombre_actuel += lettre \n",
    "    else:\n",
    "        if len(nombre_actuel) > 0:\n",
    "            nombre_actuel = int(nombre_actuel)\n",
    "            nombre_actuel *= 2\n",
    "            nouvelle_phrase += str(nombre_actuel)\n",
    "            nombre_actuel = \"\"\n",
    "        nouvelle_phrase += lettre\n",
    "    \n",
    "print(nouvelle_phrase)\n"
   ]
  },
  {
   "cell_type": "markdown",
   "metadata": {},
   "source": [
    "# Exercice 4\n",
    "\n",
    "## A)\n",
    "\n",
    "À l'aide de la commande `input()` demandez à l'utilisateur d'entrer un nombre.  \n",
    "Multipliez ce nombre par 2 et affichez le résultat.\n",
    "\n",
    "Est-ce que le résultat est bien une multiplication?  \n",
    "Qu'arrive-t-il si l'utilisateur entre des lettres vs des chiffres?"
   ]
  },
  {
   "cell_type": "code",
   "execution_count": 49,
   "metadata": {},
   "outputs": [
    {
     "ename": "ValueError",
     "evalue": "invalid literal for int() with base 10: ''",
     "output_type": "error",
     "traceback": [
      "\u001b[0;31m---------------------------------------------------------------------------\u001b[0m",
      "\u001b[0;31mValueError\u001b[0m                                Traceback (most recent call last)",
      "Cell \u001b[0;32mIn[49], line 2\u001b[0m\n\u001b[1;32m      1\u001b[0m entree \u001b[38;5;241m=\u001b[39m \u001b[38;5;28minput\u001b[39m(\u001b[38;5;124m\"\u001b[39m\u001b[38;5;124mEntrez un nombre\u001b[39m\u001b[38;5;124m\"\u001b[39m)\n\u001b[0;32m----> 2\u001b[0m resultat \u001b[38;5;241m=\u001b[39m \u001b[38;5;28;43mint\u001b[39;49m\u001b[43m(\u001b[49m\u001b[43mentree\u001b[49m\u001b[43m)\u001b[49m \u001b[38;5;241m*\u001b[39m \u001b[38;5;241m2\u001b[39m\n\u001b[1;32m      3\u001b[0m \u001b[38;5;28mprint\u001b[39m(resultat)\n",
      "\u001b[0;31mValueError\u001b[0m: invalid literal for int() with base 10: ''"
     ]
    }
   ],
   "source": [
    "entree = input(\"Entrez un nombre\")\n",
    "resultat = int(entree) * 2\n",
    "print(resultat)"
   ]
  },
  {
   "cell_type": "markdown",
   "metadata": {},
   "source": [
    "## B)\n",
    "\n",
    "Maintenant, vous devez gérer l'entrée de l'utilisateur.  \n",
    "Demandez à l'utilisateur d'entrer un nombre ou un mot.  \n",
    "Si l'entrée est un nombre, affichez le message suivant: `Le double de votre nombre est ???`.  \n",
    "Remplacez `???` par le double du nombre entré par l'utilisateur.  \n",
    "Sinon, affichez le message suivant: `Votre mot est ???`.  \n",
    "Remplacez `???` par l'entrée de l'utilisateur."
   ]
  },
  {
   "cell_type": "code",
   "execution_count": null,
   "metadata": {},
   "outputs": [
    {
     "name": "stdout",
     "output_type": "stream",
     "text": [
      "Votre mot est 12sdf\n"
     ]
    }
   ],
   "source": [
    "mot_nombre = input(\"Entrez un mot ou un nombre\")\n",
    "if mot_nombre.isdigit():\n",
    "    print(f'Le double de votre nombre est {int(mot_nombre) * 2}')\n",
    "else:\n",
    "    print(f'Votre mot est {mot_nombre}')"
   ]
  },
  {
   "cell_type": "markdown",
   "metadata": {},
   "source": [
    "## C)\n",
    "\n",
    "Maintenant, vous devez vous assurer que l'utilisateur a entré un nombre.  \n",
    "Si ce n'est pas le cas, vous devez redemander à l'utilisateur d'entrer correctement un nombre.  \n",
    "Le programme doit s'arrêter après 3 essais manqués et afficher un message approprié.  "
   ]
  },
  {
   "cell_type": "code",
   "execution_count": null,
   "metadata": {},
   "outputs": [
    {
     "name": "stdout",
     "output_type": "stream",
     "text": [
      "Vous n'avez pas réussi\n"
     ]
    }
   ],
   "source": [
    "nombre = input(\"Entrez un nombre\")\n",
    "compteur = 1\n",
    "while compteur < 3 and not nombre.isdigit():\n",
    "    nombre = input(\"Ce n'est pas un nombre, entrez un nombre\")\n",
    "    compteur += 1\n",
    "if compteur == 3 and not nombre.isdigit():\n",
    "    print(\"Vous n'avez pas réussi\")\n",
    "else:\n",
    "    print(\"Bravo, vous avez réussi\")"
   ]
  },
  {
   "cell_type": "markdown",
   "metadata": {},
   "source": [
    "## D)\n",
    "\n",
    "Quels tests avez-vous faits pour vous assurer que votre code du numéro précédent fonctionne correctement?"
   ]
  },
  {
   "cell_type": "code",
   "execution_count": null,
   "metadata": {},
   "outputs": [],
   "source": [
    "- 123 ==> Bravo\n",
    "- aaa123, 123 ==> Bravo\n",
    "- aaa, aaa, 123 ==> Bravo\n",
    "- aaa, aaa, aaa ==> Nope"
   ]
  },
  {
   "cell_type": "markdown",
   "metadata": {},
   "source": [
    "- avec input\n",
    "- extraire substring\n",
    "- construire une chaîne"
   ]
  }
 ],
 "metadata": {
  "kernelspec": {
   "display_name": "Python 3",
   "language": "python",
   "name": "python3"
  },
  "language_info": {
   "codemirror_mode": {
    "name": "ipython",
    "version": 3
   },
   "file_extension": ".py",
   "mimetype": "text/x-python",
   "name": "python",
   "nbconvert_exporter": "python",
   "pygments_lexer": "ipython3",
   "version": "3.10.12"
  }
 },
 "nbformat": 4,
 "nbformat_minor": 2
}
