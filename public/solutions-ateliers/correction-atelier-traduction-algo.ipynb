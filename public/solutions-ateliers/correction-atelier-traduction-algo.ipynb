{
 "cells": [
  {
   "cell_type": "markdown",
   "metadata": {},
   "source": [
    "### Exercice 1. Calcul de la concentration molaire\n",
    "\n",
    "Traduire l'algorithme suivant en code Python:\n",
    "   - Demander la quantité de substance en moles.\n",
    "   - Demander le volume de la solution en litres.\n",
    "   - Calculer la concentration molaire (moles/volume).\n",
    "   - Afficher la concentration molaire."
   ]
  },
  {
   "cell_type": "code",
   "execution_count": null,
   "metadata": {},
   "outputs": [],
   "source": [
    "# Votre code ici\n",
    "\n",
    "# Demander la quantité de substance en moles\n",
    "moles = float(input(\"Entrez la quantité de substance en moles : \"))\n",
    "\n",
    "# Demander le volume de la solution en litres\n",
    "volume = float(input(\"Entrez le volume de la solution en litres : \"))\n",
    "\n",
    "# Calculer la concentration molaire (moles/volume)\n",
    "concentration_molaire = moles / volume\n",
    "\n",
    "# Afficher la concentration molaire\n",
    "print(f\"La concentration molaire est de {concentration_molaire} mol/L\")\n"
   ]
  },
  {
   "cell_type": "markdown",
   "metadata": {},
   "source": [
    "### Exercice 2. Détermination du pH\n",
    "   \n",
    "L'algorithme pour déterminer le pH d'une solution est le suivant:\n",
    "   - Demander la concentration en ions hydrogène (H+).\n",
    "   - Calculer le pH en utilisant la formule $$ pH = -\\log_{10}[H^+] $$.\n",
    "   - Afficher le pH.\n",
    "Traduire cet algorithme en code Python."
   ]
  },
  {
   "cell_type": "code",
   "execution_count": null,
   "metadata": {},
   "outputs": [],
   "source": [
    "# Votre code ici\n",
    "import math\n",
    "\n",
    "# Demander la concentration en ions hydrogène (H+)\n",
    "concentration_hydrogene = float(input(\"Entrez la concentration en ions hydrogène (H+) en moles par litre : \"))\n",
    "\n",
    "# Calculer le pH en utilisant la formule pH = -log10[H+]\n",
    "pH = -math.log10(concentration_hydrogene)\n",
    "\n",
    "# Afficher le pH\n",
    "print(f\"Le pH de la solution est de {pH}\")\n"
   ]
  },
  {
   "cell_type": "markdown",
   "metadata": {},
   "source": [
    "### Exercice 3. Cycle de vie d'une grenouille\n",
    "\n",
    "Écrire un programme qui simule le cycle de vie d'une grenouille. L'algorithme pourrait inclure:\n",
    "   - Demander le stade actuel de la grenouille (œuf, têtard, grenouille).\n",
    "   - Si c'est un œuf, afficher les conditions pour devenir un têtard.\n",
    "   - Si c'est un têtard, afficher les conditions pour devenir une grenouille.\n",
    "   - Si c'est une grenouille, afficher un message de félicitations."
   ]
  },
  {
   "cell_type": "code",
   "execution_count": null,
   "metadata": {},
   "outputs": [],
   "source": [
    "# Votre code ici\n",
    "# Demander le stade actuel de la grenouille\n",
    "stade = input(\"Entrez le stade actuel de la grenouille (œuf, têtard, grenouille) : \").strip().lower()\n",
    "\n",
    "# Vérifier le stade et afficher les conditions correspondantes\n",
    "if stade == \"œuf\":\n",
    "    print(\"Pour devenir un têtard, l'œuf doit être dans l'eau et se développer pendant quelques jours.\")\n",
    "elif stade == \"têtard\":\n",
    "    print(\"Pour devenir une grenouille, le têtard doit grandir, développer des pattes et perdre sa queue.\")\n",
    "elif stade == \"grenouille\":\n",
    "    print(\"Félicitations ! La grenouille est maintenant adulte.\")\n",
    "else:\n",
    "    print(\"Stade inconnu. Veuillez entrer 'œuf', 'têtard' ou 'grenouille'.\")\n"
   ]
  },
  {
   "cell_type": "markdown",
   "metadata": {},
   "source": [
    "### Exercice 4. Évaluation des élèves\n",
    "\n",
    "Traduire l'algorithme suivant: \n",
    "1. Obtenir le score de l'élève.\n",
    "2. Si le score est 90 ou plus, alors l'élève est dans la catégorie \"Excellent\".\n",
    "3. Sinon, si le score est 80 ou plus, alors l'élève est dans la catégorie \"Très bien\".\n",
    "4. Sinon, si le score est 70 ou plus, alors l'élève est dans la catégorie \"Bien\".\n",
    "5. Sinon, si le score est 60 ou plus, alors l'élève est dans la catégorie \"Assez bien\".\n",
    "6. Sinon, l'élève est dans la catégorie \"À améliorer\"."
   ]
  },
  {
   "cell_type": "code",
   "execution_count": null,
   "metadata": {},
   "outputs": [],
   "source": [
    "# Votre code ici\n",
    "\n",
    "# Demander le score de l'élève\n",
    "score = int(input(\"Entrez le score de l'élève: \"))\n",
    "\n",
    "# Déterminer la catégorie\n",
    "if score >= 90:\n",
    "    categorie = \"Excellent\"\n",
    "elif score >= 80:\n",
    "    categorie = \"Très bien\"\n",
    "elif score >= 70:\n",
    "    categorie = \"Bien\"\n",
    "elif score >= 60:\n",
    "    categorie = \"Assez bien\"\n",
    "else:\n",
    "    categorie = \"À améliorer\"\n",
    "\n",
    "# Afficher la catégorie\n",
    "print(f\"L'élève est dans la catégorie: {categorie}\")"
   ]
  }
 ],
 "metadata": {
  "language_info": {
   "name": "python"
  }
 },
 "nbformat": 4,
 "nbformat_minor": 2
}
