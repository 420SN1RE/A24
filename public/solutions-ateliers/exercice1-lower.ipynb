{
 "cells": [
  {
   "cell_type": "code",
   "execution_count": 1,
   "metadata": {},
   "outputs": [
    {
     "name": "stdout",
     "output_type": "stream",
     "text": [
      "Nombre de caractères: 14\n",
      "Caractères uniques: ['b', 'o', 'n', 'j', 'u', 'r', ' ', 'à', 't', 's']\n",
      "Fréquence des caractères: [1, 3, 1, 1, 2, 1, 2, 1, 1, 1]\n"
     ]
    }
   ],
   "source": [
    "# L'utilisateur entre son prénom (une str) et son âge (un int)\n",
    "prenom = input(\"entrez votre prénom\")\n",
    "\n",
    "# int() est obligatoire pour convertir l'âge en entier, sinon age est une str\n",
    "age = int(input(\"entrez votre âge\"))\n",
    "\n",
    "# Si l'utilisateur a moins de 18 ans\n",
    "if age < 18:\n",
    "    print(f\"Bonjour {prenom} , malheureusement, ce programme est réservé au plus de 18 ans et vous n'avez que {age} ans\")\n",
    "# Si l'utilisateur a plus de 18 ans\n",
    "else:\n",
    "    phrase = input(\"Entrez une phrase\")\n",
    "\n",
    "    # On prépare (initialise) 3 listes vides pour l'analyse\n",
    "    liste_caracteres = []\n",
    "    liste_uniques = []\n",
    "    liste_frequence = []\n",
    "    \n",
    "    # Pour créer une liste des caractères de la phrase on peut aussi utiliser la méthode list()\n",
    "    # liste_caracteres = list(phrase)\n",
    "    \n",
    "    # Pour chaque caractères dans la phrase\n",
    "    for caractere in phrase:\n",
    "        # Ajoute un à un les caractères de la chaine saisie dans la liste des caractères\n",
    "        # Pour éviter des problèmes de casse, les caractères en minuscules sont ajoutés dans les listes\n",
    "        liste_caracteres.append(caractere.lower())\n",
    "        # Si le caractère n'est pas déjà dans la liste des caractères uniques:\n",
    "        # Ajoute le (en minuscule) dans la liste des caractères uniques\n",
    "        # Mets sa fréquence à 1 dans la liste des fréquences pour indiquer que le caractère est présent 1 fois\n",
    "        if caractere not in liste_uniques:\n",
    "            liste_uniques.append(caractere.lower())\n",
    "            liste_frequence.append(1)\n",
    "        # Sinon:\n",
    "        # Trouve où se trouve ce caractère dans la liste des caractères unique.\n",
    "        # Dans la liste des fréquences, à la même position, augmente la fréquence de 1\n",
    "        else:\n",
    "            position = liste_uniques.index(caractere.lower())\n",
    "            #print(f\"Le caractère lu est {caractere.lower()}\")\n",
    "            #print(f\"La position est {position}\")\n",
    "            liste_frequence[position]  +=  1 # Mise à jour de la fréquence pour le caractère trouvé à nouveau\n",
    "        \n",
    "    #print(liste_caracteres)\n",
    "\n",
    "    # Affichage des résultats\n",
    "    nombre_caracteres = len(phrase)\n",
    "    print(f\"Nombre de caractères: {nombre_caracteres}\")\n",
    "    print(f\"Caractères uniques: {liste_uniques}\")\n",
    "    print(f\"Fréquence des caractères: {liste_frequence}\")\n",
    "\n"
   ]
  }
 ],
 "metadata": {
  "kernelspec": {
   "display_name": "Python 3",
   "language": "python",
   "name": "python3"
  },
  "language_info": {
   "codemirror_mode": {
    "name": "ipython",
    "version": 3
   },
   "file_extension": ".py",
   "mimetype": "text/x-python",
   "name": "python",
   "nbconvert_exporter": "python",
   "pygments_lexer": "ipython3",
   "version": "3.11.9"
  }
 },
 "nbformat": 4,
 "nbformat_minor": 2
}
