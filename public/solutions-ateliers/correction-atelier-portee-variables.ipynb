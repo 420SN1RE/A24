{
 "cells": [
  {
   "cell_type": "markdown",
   "metadata": {},
   "source": [
    "Pour chacun des exercices ci-dessous, vous devez répondre aux questions suivantes:\n",
    "1. Quelle est la sortie de ce code? Pourquoi?\n",
    "2. Pourquoi?"
   ]
  },
  {
   "cell_type": "code",
   "execution_count": 4,
   "metadata": {},
   "outputs": [
    {
     "name": "stdout",
     "output_type": "stream",
     "text": [
      "10\n",
      "10\n"
     ]
    }
   ],
   "source": [
    "\n",
    "## Exercice 1:\n",
    "\n",
    "def test():\n",
    "    x = 10\n",
    "    print(x)\n",
    "\n",
    "test()\n",
    "print(x)"
   ]
  },
  {
   "cell_type": "markdown",
   "metadata": {},
   "source": [
    "**Réponse:** Ce code générera une erreur car la variable `x` est définie dans la fonction `test()`. En dehors de cette fonction, `x` n'est pas définie. C'est ce qu'on appelle une variable locale."
   ]
  },
  {
   "cell_type": "code",
   "execution_count": 5,
   "metadata": {},
   "outputs": [
    {
     "name": "stdout",
     "output_type": "stream",
     "text": [
      "10\n",
      "10\n"
     ]
    }
   ],
   "source": [
    "## Exercice 2:\n",
    "\n",
    "x = 10\n",
    "\n",
    "def test():\n",
    "    print(x)\n",
    "\n",
    "test()\n",
    "print(x)"
   ]
  },
  {
   "cell_type": "markdown",
   "metadata": {},
   "source": [
    "\n",
    "**Réponse:** Le code affichera `10` deux fois. Ici, `x` est une variable globale, donc elle est accessible à la fois à l'intérieur et à l'extérieur de la fonction."
   ]
  },
  {
   "cell_type": "code",
   "execution_count": 6,
   "metadata": {},
   "outputs": [
    {
     "name": "stdout",
     "output_type": "stream",
     "text": [
      "20\n",
      "10\n"
     ]
    }
   ],
   "source": [
    "## Exercice 3:\n",
    "\n",
    "x = 10\n",
    "\n",
    "def test():\n",
    "    x = 20\n",
    "    print(x)\n",
    "\n",
    "test()\n",
    "print(x)"
   ]
  },
  {
   "cell_type": "markdown",
   "metadata": {},
   "source": [
    "**Réponse:** Le code affichera `20` puis `10`. À l'intérieur de la fonction `test()`, `x` est une variable locale. Donc, quand on modifie `x` dans `test()`, cela n'affecte pas la variable globale `x`."
   ]
  },
  {
   "cell_type": "code",
   "execution_count": 7,
   "metadata": {},
   "outputs": [
    {
     "name": "stdout",
     "output_type": "stream",
     "text": [
      "20\n",
      "20\n"
     ]
    }
   ],
   "source": [
    "## Exercice 4:\n",
    "\n",
    "x = 10\n",
    "\n",
    "def test():\n",
    "    global x\n",
    "    x = 20\n",
    "    print(x)\n",
    "\n",
    "test()\n",
    "print(x)"
   ]
  },
  {
   "cell_type": "markdown",
   "metadata": {},
   "source": [
    "**Réponse:** Le code affichera `20` deux fois. Dans la fonction `test()`, nous utilisons le mot-clé `global` pour indiquer que nous voulons utiliser la variable globale `x`. Donc, quand nous modifions `x` dans `test()`, cela modifie aussi la variable globale `x`.\n"
   ]
  }
 ],
 "metadata": {
  "kernelspec": {
   "display_name": "Python 3",
   "language": "python",
   "name": "python3"
  },
  "language_info": {
   "codemirror_mode": {
    "name": "ipython",
    "version": 3
   },
   "file_extension": ".py",
   "mimetype": "text/x-python",
   "name": "python",
   "nbconvert_exporter": "python",
   "pygments_lexer": "ipython3",
   "version": "3.11.9"
  }
 },
 "nbformat": 4,
 "nbformat_minor": 2
}
