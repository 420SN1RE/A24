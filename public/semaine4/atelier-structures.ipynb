{
 "cells": [
  {
   "cell_type": "markdown",
   "metadata": {},
   "source": [
    "- Les quatre premiers exercices vous font pratiquer les instructions `if`, `else` et `elif`.  \n",
    "- Les autres exercices vous permettent en plus de pratiquer les opérateurs logiques `and`, `or` et `not` en Python."
   ]
  },
  {
   "cell_type": "markdown",
   "metadata": {},
   "source": [
    "### Exercice 1. **Comparaison de nombres**\n",
    "\n",
    "   Écrire un programme qui demande à l'utilisateur de saisir deux nombres et affiche le plus grand des deux.\n"
   ]
  },
  {
   "cell_type": "code",
   "execution_count": 13,
   "metadata": {},
   "outputs": [],
   "source": [
    "# Votre code ici  \n"
   ]
  },
  {
   "cell_type": "markdown",
   "metadata": {},
   "source": [
    "### Exercice 3. Contrôle d'accès\n",
    "\n",
    "Écrire un programme qui demande un mot de passe à l'utilisateur. Si le mot de passe est correct (par exemple, \"Python2024\"), affichez \"Accès autorisé\". Sinon, affichez \"Mot de passe incorrect\"."
   ]
  },
  {
   "cell_type": "code",
   "execution_count": 14,
   "metadata": {},
   "outputs": [],
   "source": [
    "# Votre code ici  \n"
   ]
  },
  {
   "cell_type": "markdown",
   "metadata": {},
   "source": [
    "### Exercice 2. Réduction en magasin\n",
    "\n",
    "Un magasin offre une réduction de 10% si l'achat est supérieur à 100 dollars.  \n",
    "Écrire un programme qui demande le montant de l'achat, un nombre flottant et calcule le montant final après réduction et l'affiche."
   ]
  },
  {
   "cell_type": "code",
   "execution_count": 15,
   "metadata": {},
   "outputs": [],
   "source": [
    "# Votre code ici  \n",
    "\n"
   ]
  },
  {
   "cell_type": "markdown",
   "metadata": {},
   "source": [
    "### Exercice 4. Vérification d'un nombre\n",
    "\n",
    "Écrire un programme qui demande à l'utilisateur d'entrer un nombre et vérifie s'il est positif, négatif ou nul."
   ]
  },
  {
   "cell_type": "code",
   "execution_count": 16,
   "metadata": {},
   "outputs": [],
   "source": [
    "# Votre code ici \n"
   ]
  },
  {
   "cell_type": "markdown",
   "metadata": {},
   "source": [
    "### Exercice 5. Année bissextile\n",
    "\n",
    "Écrire un programme qui vérifie si une année est bissextile. Une année est bissextile si elle est divisible par 4, mais pas par 100, sauf si elle est aussi divisible par 400."
   ]
  },
  {
   "cell_type": "code",
   "execution_count": 17,
   "metadata": {},
   "outputs": [],
   "source": [
    "# Votre code ici # Solution\n",
    "\n"
   ]
  },
  {
   "cell_type": "markdown",
   "metadata": {},
   "source": [
    "### Exercice 6 : Vérification de l'admissibilité\n",
    "\n",
    "Écrivez un programme qui demande à l'utilisateur son âge et s'il a un permis de conduire. Vérifiez les conditions suivantes :\n",
    "- Si l'utilisateur a plus de 18 ans **et** a un permis de conduire, affichez \"Vous êtes admissible.\"\n",
    "- Sinon, affichez \"Vous n'êtes pas admissible.\""
   ]
  },
  {
   "cell_type": "code",
   "execution_count": 18,
   "metadata": {},
   "outputs": [],
   "source": [
    "# Votre code ici\n"
   ]
  },
  {
   "cell_type": "markdown",
   "metadata": {},
   "source": [
    "### Exercice 7 : Vérification de la météo\n",
    "\n",
    "Écrivez un programme qui demande à l'utilisateur s'il pleut et s'il fait froid. Vérifiez les conditions suivantes :\n",
    "- Si **il pleut ou il fait froid**, affichez \"Prenez un manteau.\"\n",
    "- Sinon, affichez \"Vous n'avez pas besoin de manteau.\""
   ]
  },
  {
   "cell_type": "code",
   "execution_count": 19,
   "metadata": {},
   "outputs": [],
   "source": [
    "# Votre code ici\n"
   ]
  },
  {
   "cell_type": "markdown",
   "metadata": {},
   "source": [
    "### Exercice 8 : Vérification de la connexion sécurisée\n",
    "\n",
    "Écrivez un programme qui demande à l'utilisateur s'il a activé l'authentification à deux facteurs et s'il a un mot de passe fort. Vérifiez les conditions suivantes :\n",
    "- Si **l'authentification à deux facteurs est activée et le mot de passe est fort**, affichez \"Connexion sécurisée.\"\n",
    "- Sinon, affichez \"Connexion non sécurisée.\""
   ]
  },
  {
   "cell_type": "code",
   "execution_count": 20,
   "metadata": {},
   "outputs": [],
   "source": [
    "# Votre code ici\n"
   ]
  },
  {
   "cell_type": "markdown",
   "metadata": {},
   "source": [
    "### Exercice 9 : Vérification de la validité d'un nombre\n",
    "\n",
    "Écrivez un programme qui demande à l'utilisateur un nombre et vérifie les conditions suivantes :\n",
    "- Si le nombre est **positif et pair**, affichez \"Le nombre est positif et pair.\"\n",
    "- Si le nombre est **positif et impair**, affichez \"Le nombre est positif et impair.\"\n",
    "- Si le nombre est **négatif**, affichez \"Le nombre est négatif.\""
   ]
  },
  {
   "cell_type": "code",
   "execution_count": 21,
   "metadata": {},
   "outputs": [],
   "source": [
    "# Votre code ici\n"
   ]
  },
  {
   "cell_type": "markdown",
   "metadata": {},
   "source": [
    "### Exercice 10 : Vérification de la disponibilité\n",
    "\n",
    "Écrivez un programme qui demande à l'utilisateur s'il est disponible le matin et l'après-midi. Vérifiez les conditions suivantes :\n",
    "- Si l'utilisateur est disponible **le matin ou l'après-midi**, affichez \"Vous êtes disponible.\"\n",
    "- Si l'utilisateur **n'est pas disponible** ni le matin ni l'après-midi, affichez \"Vous n'êtes pas disponible.\""
   ]
  },
  {
   "cell_type": "code",
   "execution_count": 22,
   "metadata": {},
   "outputs": [],
   "source": [
    "# Votre code ici\n"
   ]
  },
  {
   "cell_type": "markdown",
   "metadata": {},
   "source": [
    "### Exercice 11 : État de l'eau\n",
    "\n",
    "Écrire un programme qui demande à l'utilisateur d'entrer la température en Celsius. si la température est sous zéro, il affiche \"L'eau est à l'état solide.\". Si la température est entre 0 et 100 exclut, il affiche \"L'eau est à l'état liquide.\", sinon il affiche \"L'eau est à l'état gazeux.\""
   ]
  },
  {
   "cell_type": "code",
   "execution_count": 23,
   "metadata": {},
   "outputs": [],
   "source": [
    "# Votre code ici\n"
   ]
  },
  {
   "cell_type": "markdown",
   "metadata": {},
   "source": [
    "### Exercice 12 : Photosynthèse\n",
    "\n",
    "Écrire un programme qui défini deux variables booléennes (lumière et CO2) qui représente la présence de lumière et la teneur en CO2 pour que la photosynthèse soit possible. \n",
    "- Si les deux dont présents, le programme affiche \"La photosynthèse est possible.\" \n",
    "- Si un seul critère est présent, il affiche \"Pas assez de lumière pour la photosynthèse.\" ou \"Pas assez de CO2 pour la photosynthèse.\" selon le critère non rempli. \n",
    "- Si aucun des deux n'est adéquat, il affiche \"Conditions non réunies pour la photosynthèse.\""
   ]
  },
  {
   "cell_type": "code",
   "execution_count": 24,
   "metadata": {},
   "outputs": [],
   "source": [
    "# Votre code ici\n"
   ]
  }
 ],
 "metadata": {
  "kernelspec": {
   "display_name": "Python 3",
   "language": "python",
   "name": "python3"
  },
  "language_info": {
   "codemirror_mode": {
    "name": "ipython",
    "version": 3
   },
   "file_extension": ".py",
   "mimetype": "text/x-python",
   "name": "python",
   "nbconvert_exporter": "python",
   "pygments_lexer": "ipython3",
   "version": "3.11.9"
  }
 },
 "nbformat": 4,
 "nbformat_minor": 2
}
