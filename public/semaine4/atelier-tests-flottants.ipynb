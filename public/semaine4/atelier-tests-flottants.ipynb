{
 "cells": [
  {
   "cell_type": "code",
   "execution_count": null,
   "metadata": {},
   "outputs": [],
   "source": [
    "Voici quelques exercices simples pour pratiquer les tests sur les nombres à virgule flottante en Python.\n",
    "Ces exercices devraient aider à comprendre comment tester les nombres à virgule flottante en Python.\n",
    "\n",
    "Pour chacun des exercices, remplacez le mot COMPLÉTEZ paour utiliser une tolérance. "
   ]
  },
  {
   "cell_type": "markdown",
   "metadata": {},
   "source": [
    "### Exercice 1 : Comparer deux nombres à virgule flottante en utilisant une tolérance."
   ]
  },
  {
   "cell_type": "code",
   "execution_count": null,
   "metadata": {},
   "outputs": [],
   "source": [
    "# Exercice 1 - Complétez le code \n",
    "import math\n",
    "\n",
    "# Définir deux nombres flottants\n",
    "a = 0.1 + 0.2\n",
    "b = 0.3\n",
    "\n",
    "# Comparer les deux nombres avec une tolérance\n",
    "print(math.isclose(COMPLÉTEZ))  # Devrait retourner True"
   ]
  },
  {
   "cell_type": "markdown",
   "metadata": {},
   "source": [
    "### Exercice 2 : Calcul de la moyenne de floats\n",
    "\n",
    "**Objectif** : Calculer la moyenne de plusieurs nombres flottants et vérifier le résultat avec une tolérance.\n"
   ]
  },
  {
   "cell_type": "code",
   "execution_count": null,
   "metadata": {},
   "outputs": [],
   "source": [
    "# Exercice 2 - Complétez le code\n",
    "\n",
    "import math\n",
    "\n",
    "# Définir une liste de nombres flottants\n",
    "nombres = [0.1, 0.2, 0.3, 0.4, 0.5]\n",
    "\n",
    "# Calculer la moyenne\n",
    "moyenne = sum(nombres) / len(nombres)\n",
    "\n",
    "# Vérifier si la moyenne est proche de 0.3\n",
    "print(math.isclose(COMPLÉTEZ)  # Devrait retourner False"
   ]
  },
  {
   "cell_type": "markdown",
   "metadata": {},
   "source": [
    "### Exercice 3 : Comparaison de résultats de fonctions mathématiques\n",
    "\n",
    "**Objectif** : Comparer les résultats de deux fonctions mathématiques en utilisant une tolérance."
   ]
  },
  {
   "cell_type": "code",
   "execution_count": null,
   "metadata": {},
   "outputs": [],
   "source": [
    "# Exercice 3 - Complétez le code\n",
    "\n",
    "import math\n",
    "\n",
    "# Calculer les résultats de deux fonctions\n",
    "resultat1 = math.sqrt(2) ** 2\n",
    "resultat2 = 2\n",
    "\n",
    "# Comparer les résultats avec une tolérance\n",
    "print(math.isclose(COMPLETEZ))  # Devrait retourner True"
   ]
  }
 ],
 "metadata": {
  "kernelspec": {
   "display_name": "Python 3",
   "language": "python",
   "name": "python3"
  },
  "language_info": {
   "codemirror_mode": {
    "name": "ipython",
    "version": 3
   },
   "file_extension": ".py",
   "mimetype": "text/x-python",
   "name": "python",
   "nbconvert_exporter": "python",
   "pygments_lexer": "ipython3",
   "version": "3.11.9"
  }
 },
 "nbformat": 4,
 "nbformat_minor": 2
}
