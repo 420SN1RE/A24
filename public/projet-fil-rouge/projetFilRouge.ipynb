{
 "cells": [
  {
   "cell_type": "markdown",
   "metadata": {},
   "source": [
    "Nom : <votre nom>\n",
    "Prénom : <votre prénom>\n"
   ]
  },
  {
   "cell_type": "markdown",
   "metadata": {},
   "source": [
    "# Projet Fil Rouge\n",
    "\n",
    "<description>"
   ]
  },
  {
   "cell_type": "markdown",
   "metadata": {},
   "source": [
    "# Informations générales\n",
    "\n",
    "Nom: <votre nom>\n",
    "Prénom: <votre prénom>"
   ]
  },
  {
   "cell_type": "markdown",
   "metadata": {},
   "source": [
    "# Importation des modules\n",
    "\n",
    "Toutes les importations doivent être faites ici."
   ]
  },
  {
   "cell_type": "code",
   "execution_count": 80,
   "metadata": {},
   "outputs": [],
   "source": [
    "import sys\n",
    "import json\n",
    "import math\n",
    "import datetime\n",
    "from pprint import pprint\n",
    "import matplotlib.pyplot as plt\n"
   ]
  },
  {
   "cell_type": "markdown",
   "metadata": {},
   "source": [
    "# Partie 1 - Extraction des données\n",
    "\n",
    "\n",
    "## Objectif\n",
    "\n",
    "Vous devrez lire un fichier de données en format `json` et les exporter en format `csv`.\n",
    "\n",
    "\n",
    "## Descrition des étapes\n",
    "\n",
    "1. Lire les données à partir d'un fichier `json`\n",
    "1. Afficher les différentes caractéristiques des données\n",
    "1. Parcourir les données\n",
    "1. Transformer la structure des données en matrice (liste de listes)\n",
    "1. Exporter les données en format `csv`"
   ]
  },
  {
   "cell_type": "markdown",
   "metadata": {},
   "source": [
    "## Partie 1.1 - Lire les données à partir d'un fichier `json`\n",
    "\n",
    "Utilisez la librairie `json` pour lire le fichier `donnees.json` (fourni sur le site du cours)."
   ]
  },
  {
   "cell_type": "code",
   "execution_count": 81,
   "metadata": {},
   "outputs": [],
   "source": [
    "\n",
    "\n",
    "\n",
    "def lireFichierJson(cheminFichier):\n",
    "\n",
    "    with open(nomFichier, 'r') as fichier:\n",
    "        donnnesJson = json.load(fichier)\n",
    "    \n",
    "    return donnnesJson\n",
    "\n",
    "\n",
    "\n",
    "\n",
    "lesDonnees = lireFichierJson('donnees.json')\n",
    "\n"
   ]
  },
  {
   "cell_type": "markdown",
   "metadata": {},
   "source": [
    "## Partie 1.2 - Afficher les différentes caractéristiques des données\n",
    "\n",
    "- Quelle est la structure principale des données (liste, dictionnaires, ensemble, ...)?\n",
    "- Combien d'éléments contient cette structure?\n",
    "- Affichez un des éléments.\n",
    "- Quelle est la structure de cet élément?\n",
    "- Combien d'éléments contient cette structure?\n",
    "- Quelles sont ces éléments?\n",
    "\n",
    "Il est recommandé d'utiliser un visualisateur de données pour le format `json` afin de bien comprendre comment les données sont organisées.\n",
    "\n",
    "Que représente chacun des éléments?"
   ]
  },
  {
   "cell_type": "code",
   "execution_count": 82,
   "metadata": {},
   "outputs": [
    {
     "name": "stdout",
     "output_type": "stream",
     "text": [
      "Type :  <class 'list'>\n",
      "Nombre d'éléments :  19341\n",
      "Un élément :  {'id': '7037400.2020.7.19', 'type': 'Feature', 'geometry': {'coordinates': [-74.05, 45.8], 'type': 'Point'}, 'properties': {'SPEED_MAX_GUST': None, 'CLIMATE_IDENTIFIER': '7037400', 'SPEED_MAX_GUST_FLAG': None, 'HEATING_DEGREE_DAYS_FLAG': None, 'LOCAL_DAY': 19, 'SNOW_ON_GROUND': 0, 'TOTAL_PRECIPITATION': 0.8, 'DIRECTION_MAX_GUST': None, 'TOTAL_RAIN': 0.8, 'MAX_TEMPERATURE': 30, 'DIRECTION_MAX_GUST_FLAG': None, 'MAX_REL_HUMIDITY': None, 'MIN_TEMPERATURE_FLAG': None, 'LOCAL_DATE': '2020-07-19 00:00:00', 'MIN_TEMPERATURE': 19.5, 'TOTAL_RAIN_FLAG': None, 'SNOW_ON_GROUND_FLAG': None, 'MEAN_TEMPERATURE': None, 'LOCAL_MONTH': 7, 'MAX_REL_HUMIDITY_FLAG': None, 'MIN_REL_HUMIDITY': None, 'PROVINCE_CODE': 'QC', 'COOLING_DEGREE_DAYS_FLAG': None, 'MAX_TEMPERATURE_FLAG': None, 'ID': '7037400.2020.7.19', 'HEATING_DEGREE_DAYS': None, 'MEAN_TEMPERATURE_FLAG': None, 'TOTAL_PRECIPITATION_FLAG': None, 'LOCAL_YEAR': 2020, 'TOTAL_SNOW_FLAG': None, 'MIN_REL_HUMIDITY_FLAG': None, 'COOLING_DEGREE_DAYS': None, 'STATION_NAME': 'ST JEROME', 'TOTAL_SNOW': 0}}\n",
      "Type d'un élément :  <class 'dict'>\n",
      "Longueur d'un élément :  4\n",
      "Clef d'un élément :  dict_keys(['id', 'type', 'geometry', 'properties'])\n"
     ]
    }
   ],
   "source": [
    "\n",
    "\n",
    "print(\"Type : \", getType(lesDonnees))\n",
    "print(\"Nombre d'éléments : \", len(lesDonnees))\n",
    "print(\"Un élément : \", lesDonnees[0])\n",
    "print(\"Type d'un élément : \", type(lesDonnees[0]))\n",
    "print(\"Longueur d'un élément : \", len(lesDonnees[0]))\n",
    "print(\"Clef d'un élément : \", lesDonnees[0].keys())\n"
   ]
  },
  {
   "cell_type": "markdown",
   "metadata": {},
   "source": [
    "## Partie 1.3 - Parcourir les données\n",
    "\n",
    "Chaque élément contient une clef `properties` qui est associée à un autre dictionnaire.\n",
    "Ce dictionnaire contient plusieurs propriétés.\n",
    "La propriété `STATION_NAME` indique le nom de la station où la mesure a été prise.\n",
    "\n",
    "- Parcourez toutes les données afin de compter combien de fois chaque station est présente dans le jeu de données.\n",
    "- Affichez les résultats pour chaque station.\n",
    "- Combien de stations différentes sont présentes dans le jeu de données?"
   ]
  },
  {
   "cell_type": "code",
   "execution_count": 83,
   "metadata": {},
   "outputs": [
    {
     "name": "stdout",
     "output_type": "stream",
     "text": [
      "{'AUTEUIL': 28,\n",
      " 'IBERVILLE': 28,\n",
      " \"L'ASSOMPTION\": 1649,\n",
      " 'LAPRAIRIE': 1521,\n",
      " 'MASCOUCHE': 28,\n",
      " 'MCTAVISH': 1646,\n",
      " 'MONTREAL INTL A': 1649,\n",
      " 'MONTREAL MIRABEL INTL A': 1649,\n",
      " 'MONTREAL/PIERRE ELLIOTT TRUDEAU INTL': 1649,\n",
      " 'MONTREAL/ST-HUBERT': 1649,\n",
      " 'OKA': 1521,\n",
      " 'RIVIERE DES PRAIRIES': 1521,\n",
      " 'ST AMABLE': 28,\n",
      " 'ST JANVIER': 28,\n",
      " 'ST JEROME': 1521,\n",
      " 'STE GENEVIEVE': 28,\n",
      " 'STE THERESE OUEST': 28,\n",
      " 'STE-ANNE-DE-BELLEVUE 1': 1649,\n",
      " 'VERCHERES': 1521}\n",
      "Nombre de stations :  19\n"
     ]
    }
   ],
   "source": [
    "def getStations(d):\n",
    "    lesStations = {}\n",
    "    for e in d:\n",
    "        station = e['properties']['STATION_NAME']\n",
    "        if station not in lesStations:\n",
    "            lesStations[station] = 0\n",
    "        lesStations[station] += 1\n",
    "    return lesStations\n",
    "\n",
    "\n",
    "s = getStations(lesDonnees)\n",
    "pprint(s)\n",
    "print(\"Nombre de stations : \", len(s))"
   ]
  },
  {
   "cell_type": "markdown",
   "metadata": {},
   "source": [
    "## ?????\n",
    "\n",
    "Question potentielle pour examen: comptez seulement les stations qui ont une valeur pour `MAX_TEMPERATURE`:"
   ]
  },
  {
   "cell_type": "code",
   "execution_count": 84,
   "metadata": {},
   "outputs": [
    {
     "name": "stdout",
     "output_type": "stream",
     "text": [
      "{'AUTEUIL': 0,\n",
      " 'IBERVILLE': 0,\n",
      " \"L'ASSOMPTION\": 1631,\n",
      " 'LAPRAIRIE': 1429,\n",
      " 'MASCOUCHE': 0,\n",
      " 'MCTAVISH': 1635,\n",
      " 'MONTREAL INTL A': 1618,\n",
      " 'MONTREAL MIRABEL INTL A': 1606,\n",
      " 'MONTREAL/PIERRE ELLIOTT TRUDEAU INTL': 1641,\n",
      " 'MONTREAL/ST-HUBERT': 1631,\n",
      " 'OKA': 1424,\n",
      " 'RIVIERE DES PRAIRIES': 1521,\n",
      " 'ST AMABLE': 0,\n",
      " 'ST JANVIER': 0,\n",
      " 'ST JEROME': 1504,\n",
      " 'STE GENEVIEVE': 0,\n",
      " 'STE THERESE OUEST': 0,\n",
      " 'STE-ANNE-DE-BELLEVUE 1': 1637,\n",
      " 'VERCHERES': 1492}\n",
      "Nombre de stations :  19\n"
     ]
    }
   ],
   "source": [
    "def getStations(d):\n",
    "    lesStations = {}\n",
    "    for e in d:\n",
    "        station = e['properties']['STATION_NAME']\n",
    "        if station not in lesStations:\n",
    "            lesStations[station] = 0\n",
    "        if e['properties']['MAX_TEMPERATURE'] is not None:\n",
    "            lesStations[station] += 1\n",
    "    return lesStations\n",
    "\n",
    "\n",
    "s = getStations(lesDonnees)\n",
    "pprint(s)\n",
    "print(\"Nombre de stations : \", len(s))\n",
    "\n"
   ]
  },
  {
   "cell_type": "markdown",
   "metadata": {},
   "source": [
    "## Partie 1.4 - Transformer la structure des données en matrice (liste de listes)\n",
    "\n",
    "L'entête du fichier `csv` doit être :\n",
    "\n",
    "`'id', 'coordinate_X', 'coordinate_Y', 'STATION_NAME', 'LOCAL_DATE', 'LOCAL_YEAR', 'LOCAL_MONTH', 'LOCAL_DAY', 'TOTAL_PRECIPITATION', 'TOTAL_PRECIPITATION_FLAG', 'TOTAL_SNOW', 'TOTAL_SNOW_FLAG', 'SPEED_MAX_GUST', 'SPEED_MAX_GUST_FLAG', 'MIN_TEMPERATURE', 'MIN_TEMPERATURE_FLAG', 'MEAN_TEMPERATURE', 'MEAN_TEMPERATURE_FLAG', 'MAX_TEMPERATURE', 'MAX_TEMPERATURE_FLAG', 'MAX_REL_HUMIDITY', 'MAX_REL_HUMIDITY_FLAG'`\n",
    "\n",
    "Créez une liste contenant l'entête.\n",
    "Ajoutez cette liste dans une autre liste `resultat`.\n",
    "\n",
    "Pour chaque éléments de `lesDonnées`, vous extraire les valeurs ci-dessus.\n",
    "Chaque valeur doit être ajoutée dans une liste dans le même ordre que l'entête du fichier `csv`.\n",
    "Lorsqu'une liste est complète, vous devez ajouter celle-ci dans la liste `resultat` (ce qui donnera une liste de listes).\n",
    "\n",
    "Notez que les trois premiers éléments doivent être extraits \"manuellement\". Tandis que les suivants peuvent être tous extraits dans une boucles à partir de `properties`.\n",
    "\n",
    "`coordinate_X` correspond à la longitude.\n",
    "`coordinate_Y` correspond à la latitude.\n",
    "\n"
   ]
  },
  {
   "cell_type": "code",
   "execution_count": 85,
   "metadata": {},
   "outputs": [],
   "source": [
    "def extractionDonnees(d):  \n",
    "    resultat = []\n",
    "    entete = ['id', 'coordinate_X', 'coordinate_Y', 'STATION_NAME', 'LOCAL_DATE', 'LOCAL_YEAR', 'LOCAL_MONTH', 'LOCAL_DAY', 'TOTAL_PRECIPITATION', 'TOTAL_PRECIPITATION_FLAG', 'TOTAL_SNOW', 'TOTAL_SNOW_FLAG', 'SPEED_MAX_GUST', 'SPEED_MAX_GUST_FLAG', 'MIN_TEMPERATURE', 'MIN_TEMPERATURE_FLAG', 'MEAN_TEMPERATURE', 'MEAN_TEMPERATURE_FLAG', 'MAX_TEMPERATURE', 'MAX_TEMPERATURE_FLAG', 'MAX_REL_HUMIDITY', 'MAX_REL_HUMIDITY_FLAG']\n",
    "    resultat.append(entete)\n",
    "\n",
    "    for e in d:\n",
    "        ligne = []\n",
    "        ligne.append(e['id'])\n",
    "        ligne.append(e['geometry']['coordinates'][0])\n",
    "        ligne.append(e['geometry']['coordinates'][1])\n",
    "        for i in range(3, len(entete)):\n",
    "            ligne.append(e['properties'][entete[i]])\n",
    "        resultat.append(ligne)\n",
    "    return resultat\n",
    "\n",
    "\n",
    "resultat = extractionDonnees(lesDonnees)\n"
   ]
  },
  {
   "cell_type": "markdown",
   "metadata": {},
   "source": [
    "Partie 1.5 - Exporter les données en format `csv`\n",
    "\n",
    "Exportez `resultat` en format `csv`.\n",
    "Le nom du fichier doit être `donnees.csv`\n",
    "\n",
    "- Assurez-vous que toutes les données sont dans le fichier `csv`\n",
    "    - Le nombre d'éléments\n",
    "    - Le nombre de colonnes\n",
    "- Notez la différence de grosseur des fichiers `json` et `csv`. Selon vous, pourquoi?\n"
   ]
  },
  {
   "cell_type": "code",
   "execution_count": 86,
   "metadata": {},
   "outputs": [],
   "source": [
    "def sauvegarderCSV(nomFichierCSV, res):\n",
    "    with open(nomFichierCSV, mode='w') as fichier:\n",
    "        for ligne in res:\n",
    "            r = \"\"\n",
    "            for e in ligne:\n",
    "                r += str(e) + \",\"\n",
    "            r += '\\n'\n",
    "            fichier.write(r)\n",
    "        \n",
    "    #    Ici, je l'ai fait manuellement... mais il est possible d'utiliser le module csv\n",
    "\n",
    "sauvegarderCSV('donnees.csv', resultat)"
   ]
  },
  {
   "cell_type": "markdown",
   "metadata": {},
   "source": [
    "# Partie 2 - Affichage des données\n",
    "\n",
    "\n",
    "## Objectif\n",
    "\n",
    "Vous devez afficher les données sous forme de graphiques.\n",
    "\n",
    "Plus précisément, vous devrez afficher un nuage de points d'une variable (ex: température max), d'un point géographique en particulier, pour une plage de temps.\n",
    "\n",
    "Point géographique: `-74, 45.51`\n",
    "\n",
    "\n",
    "## Descrition des étapes\n",
    "1. Trouver la station météorologique la plus proche du point géographique.\n",
    "1. Extraire les données pour une station pour la plage de temps.\n",
    "1. ....\n",
    "\n",
    "\n"
   ]
  },
  {
   "cell_type": "markdown",
   "metadata": {},
   "source": [
    "# Partie 2.1 - Trouver Station la plus proche\n",
    "\n",
    "- Créez un dictionnaire contenant les stations (clefs) et leurs coordonnées géographiques.\n",
    "- Pour chacune des stations, calculez la distance avec le point géographique.\n",
    "- Ordonnez la liste (la première devrait être la station la plus proche)"
   ]
  },
  {
   "cell_type": "code",
   "execution_count": 87,
   "metadata": {},
   "outputs": [
    {
     "name": "stdout",
     "output_type": "stream",
     "text": [
      "Station la plus proche :  (0.06741249472051823, 'OKA')\n"
     ]
    }
   ],
   "source": [
    "\n",
    "def extraireStationsGeo(d):\n",
    "    resultat = {}\n",
    "    for e in d:\n",
    "        if e['properties']['STATION_NAME'] not in resultat:\n",
    "            resultat[e['properties']['STATION_NAME']] = (e['geometry']['coordinates'][0], e['geometry']['coordinates'][1])\n",
    "    return resultat\n",
    "\n",
    "\n",
    "def trouverDistance(stations, point):\n",
    "    resultat = []\n",
    "    for s, geo in stations.items():\n",
    "        distance = math.sqrt(pow(geo[0] - point[0], 2) + pow(geo[1] - point[1], 2))\n",
    "        resultat.append((distance, s))\n",
    "    resultat.sort()\n",
    "    return resultat\n",
    "\n",
    "\n",
    "pointGeographique = (-74, 45.51)\n",
    "lesStations = extraireStationsGeo(lesDonnees)\n",
    "distancesStations = trouverDistance(lesStations, pointGeographique)\n",
    "\n",
    "print(\"Station la plus proche : \", distancesStations[0])\n",
    "# pprint(distancesStations)"
   ]
  },
  {
   "cell_type": "markdown",
   "metadata": {},
   "source": [
    "## Partie 2.2 - Extraire les données\n",
    "\n",
    "- Créez deux listes: `temps` et `valeurs`\n",
    "- Pour chaque élément de `lesDonnees`, vérifiez si l'élément correspond aux critère (temps, variables, station) et ajoutez la date et la valeur dans les listes respectives.\n",
    "- Afficher à l'aide de Mathplotlib:\n",
    "    - Ajoutez un titre\n",
    "    - Ajoutez le nom des axes x et y"
   ]
  },
  {
   "cell_type": "code",
   "execution_count": 95,
   "metadata": {},
   "outputs": [
    {
     "name": "stdout",
     "output_type": "stream",
     "text": [
      "[datetime.datetime(2020, 5, 9, 0, 0), datetime.datetime(2020, 10, 31, 0, 0), datetime.datetime(2020, 12, 29, 0, 0), datetime.datetime(2020, 6, 7, 0, 0), datetime.datetime(2020, 6, 16, 0, 0)]\n",
      "[-2, -6.3, -10.7, 10.4, 11.3]\n"
     ]
    },
    {
     "data": {
      "image/png": "[encoded data removed]",
      "text/plain": [
       "<Figure size 640x480 with 1 Axes>"
      ]
     },
     "metadata": {},
     "output_type": "display_data"
    }
   ],
   "source": [
    "def conversionTexteDate(dateStr):\n",
    "    return datetime.datetime.strptime(dateStr, \"%Y-%m-%d\")\n",
    "\n",
    "def extraireValeur(d, debut, fin, station, nomVariable):\n",
    "    temps = []\n",
    "    valeurs = []\n",
    "\n",
    "    for e in d:\n",
    "        laDate = e['properties']['LOCAL_DATE'][:10]\n",
    "        if  debut < laDate < fin and e['properties']['STATION_NAME'] == station:\n",
    "            temps.append(conversionTexteDate(laDate))\n",
    "            valeurs.append(e['properties'][nomVariable])\n",
    "            \n",
    "    return temps, valeurs\n",
    "\n",
    "\n",
    "\n",
    "debut = \"2020-05-06\"\n",
    "fin  = \"2022-09-12\"\n",
    "variable = \"MIN_TEMPERATURE\"\n",
    "\n",
    "x, y = extraireValeur(lesDonnees, debut, fin, distancesStations[0][1], variable)\n",
    "\n",
    "print(x[:5])\n",
    "print(y[:5])\n",
    "\n",
    "plt.scatter(x, y)\n",
    "\n",
    "plt.title(f'Variation de {variable} du {debut} au {fin} pour la station {distancesStations[0][1]}')\n",
    "plt.xlabel('Date')\n",
    "plt.ylabel('Température (C)')\n",
    "plt.xticks(rotation=45)\n",
    "plt.show()"
   ]
  },
  {
   "cell_type": "markdown",
   "metadata": {},
   "source": [
    "# Partie 3 - Nettoyage des données\n",
    "\n",
    "\n",
    "## Objectif\n",
    "\n",
    "Les données de l'étape précédente ont des données manquantes et erronées.\n",
    "Vous devrez remplacer les données manquantes et corriger les données erronées.\n",
    "\n",
    "\n",
    "## Descrition des étapes\n",
    "1. mmmmm\n",
    "1. jjjjj\n",
    "1. ...."
   ]
  },
  {
   "cell_type": "code",
   "execution_count": 89,
   "metadata": {},
   "outputs": [],
   "source": [
    "# mettre un squelette du code ..."
   ]
  },
  {
   "cell_type": "markdown",
   "metadata": {},
   "source": [
    "# Partie 4 - Analyse des données\n",
    "\n",
    "\n",
    "## Objectif\n",
    "\n",
    "Vous devez utiliser des librairies `Python` afin d'analyser les données.\n",
    "\n",
    "## Descrition des étapes\n",
    "1. mmmmm\n",
    "1. jjjjj\n",
    "1. ...."
   ]
  },
  {
   "cell_type": "code",
   "execution_count": 90,
   "metadata": {},
   "outputs": [],
   "source": [
    "# mettre un squelette du code ..."
   ]
  }
 ],
 "metadata": {
  "kernelspec": {
   "display_name": "Python 3",
   "language": "python",
   "name": "python3"
  },
  "language_info": {
   "codemirror_mode": {
    "name": "ipython",
    "version": 3
   },
   "file_extension": ".py",
   "mimetype": "text/x-python",
   "name": "python",
   "nbconvert_exporter": "python",
   "pygments_lexer": "ipython3",
   "version": "3.10.12"
  }
 },
 "nbformat": 4,
 "nbformat_minor": 2
}
