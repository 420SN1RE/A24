{
 "cells": [
  {
   "cell_type": "code",
   "execution_count": 4,
   "metadata": {},
   "outputs": [
    {
     "name": "stdout",
     "output_type": "stream",
     "text": [
      "La série:\n",
      "0    1\n",
      "1    2\n",
      "2    3\n",
      "3    4\n",
      "4    5\n",
      "dtype: int64\n",
      "Premier élément: 1\n"
     ]
    }
   ],
   "source": [
    "import pandas as pd\n",
    "\n",
    "# Création d'une Series\n",
    "ma_serie = pd.Series([1, 2, 3, 4, 5])\n",
    "print(f\"La série:\\n{ma_serie}\")\n",
    "\n",
    "# Accès par position\n",
    "print(f\"Premier élément: {ma_serie[0]}\")  # La donnée en première position\n"
   ]
  },
  {
   "cell_type": "code",
   "execution_count": 25,
   "metadata": {},
   "outputs": [
    {
     "name": "stdout",
     "output_type": "stream",
     "text": [
      "La moyenne des étudiants de l'automne est de 77.97%\n"
     ]
    }
   ],
   "source": [
    "# Création d'un DataFrame\n",
    "donnee = {\n",
    "    'Nom': ['Aline', 'Robert', 'Charles', 'Luc', 'Valérie', 'Julie', 'Julien', 'Claude'],\n",
    "    'Age': [25, 30, 35, 42, 55, 67, 37, 23],\n",
    "    'Note': [85.5, 90.3, 78.9, 65.4, 98.5, 87.4, 82.1, 76.9],\n",
    "    'Session': ['Automne', 'Hiver', 'Automne', 'Automne', 'Hiver', 'Hiver', 'Automne', 'Hiver' ]\n",
    "}\n",
    "df = pd.DataFrame(donnee)\n",
    "#df\n",
    "df = df.rename(columns={\"Nom\": \"Prénom\"})\n",
    "#print(\"La colonne Nom modifiée\")\n",
    "#df\n",
    "#df.head()\n",
    "#df.tail()\n",
    "#df = df.drop(columns=[\"Session\"])\n",
    "#df.info()\n",
    "#df.describe()\n",
    "#df['Age']\n",
    "#df[\"Session\"] = \"Automne\"\n",
    "#print(\"La colonne Session ajoutée\")\n",
    "#df\n",
    "#df = df.drop(columns=[\"Session\"])\n",
    "#print(\"La colonne Session supprimée\")\n",
    "#df\n",
    "df_automne = df[df[\"Session\"] == \"Automne\"]\n",
    "#df_automne\n",
    "somme_note = 0\n",
    "for note in df_automne[\"Note\"]:\n",
    "   somme_note = somme_note + note\n",
    "\n",
    "moyenne = somme_note / len(df_automne)\n",
    "print(f\"La moyenne des étudiants de l'automne est de {round(moyenne,2)}%\")\n"
   ]
  },
  {
   "cell_type": "markdown",
   "metadata": {},
   "source": [
    "```plaintext\n",
    "    Prénom  Âge  Note\n",
    "0    Aline   25  85.5\n",
    "1   Robert   30  90.3\n",
    "2  Charles   35  78.9\n",
    "3      Luc   42  65.4\n",
    "4  Valérie   55  98.5\n",
    "5    Julie   67  87.4\n",
    "6   Julien   37  82.1\n",
    "7   Claude   23  76.9\n",
    "```"
   ]
  },
  {
   "cell_type": "markdown",
   "metadata": {},
   "source": [
    "    Prénom  Âge  Note  Session\n",
    "0    Aline   25  85.5  Automne\n",
    "1   Robert   30  90.3  Hiver\n",
    "2  Charles   35  78.9  Automne\n",
    "3      Luc   42  65.4  Automne\n",
    "4  Valérie   55  98.5  Hiver\n",
    "5    Julie   67  87.4  Hiver\n",
    "6   Julien   37  82.1  Automne\n",
    "7   Claude   23  76.9  Hiver"
   ]
  },
  {
   "cell_type": "code",
   "execution_count": 19,
   "metadata": {},
   "outputs": [
    {
     "name": "stdout",
     "output_type": "stream",
     "text": [
      "Colonne Nom: \n",
      "0      Aline\n",
      "1     Robert\n",
      "2    Charles\n",
      "Name: Nom, dtype: object\n",
      "\n",
      "       Nom  Age\n",
      "0    Aline   25\n",
      "1   Robert   30\n",
      "2  Charles   35\n",
      "Nom     Aline\n",
      "Age        25\n",
      "Note     85.5\n",
      "Name: 0, dtype: object\n",
      "Première ligne: \n",
      "Nom     Aline\n",
      "Age        25\n",
      "Note     85.5\n",
      "Name: 0, dtype: object\n"
     ]
    }
   ],
   "source": [
    "# Création d'un DataFrame\n",
    "donnee = {\n",
    "    'Nom': ['Aline', 'Robert', 'Charles', 'Luc', 'Valérie', 'Julie', 'Julien', 'Claude'],\n",
    "    'Age': [25, 30, 35, 42, 55, 67, 37, 23],\n",
    "    'Note': [85.5, 90.3, 78.9, 65.4, 98.5, 87.4, 82.1, 76.9]\n",
    "}\n",
    "df = pd.DataFrame(donnee)\n",
    "\n",
    "# Sélection d'une colonne\n",
    "print(f\"Colonne Nom: \\n{df['Nom']}\")\n",
    "\n",
    "# Sélection de plusieurs colonnes\n",
    "print(f\"\\n{df[['Nom', 'Age']]}\")\n",
    "\n",
    "# Sélection de lignes par étiquette\n",
    "print(df.loc[0])\n",
    "\n",
    "# Sélection de lignes par position\n",
    "print(f\"Première ligne: \\n{df.iloc[0]}\")"
   ]
  },
  {
   "cell_type": "code",
   "execution_count": 20,
   "metadata": {},
   "outputs": [
    {
     "name": "stdout",
     "output_type": "stream",
     "text": [
      "Original DataFrame:\n",
      "       Weight    Name  Age\n",
      "Row_1      45     Sam   14\n",
      "Row_2      88  Andrea   25\n",
      "Row_3      56    Alex   55\n",
      "Row_4      15   Robin    8\n",
      "Row_5      71     Kia   21\n",
      "\n",
      "Selected Value at Row_2, Column 'Name':\n",
      "Andrea\n"
     ]
    }
   ],
   "source": [
    "# importing pandas as pd\n",
    "import pandas as pd\n",
    " \n",
    "# Creating the DataFrame\n",
    "df = pd.DataFrame({'Weight': [45, 88, 56, 15, 71],\n",
    "                   'Name': ['Sam', 'Andrea', 'Alex', 'Robin', 'Kia'],\n",
    "                   'Age': [14, 25, 55, 8, 21]})\n",
    " \n",
    "# Create the index\n",
    "index_ = ['Row_1', 'Row_2', 'Row_3', 'Row_4', 'Row_5']\n",
    " \n",
    "# Set the index\n",
    "df.index = index_\n",
    " \n",
    "# Print the DataFrame\n",
    "print(\"Original DataFrame:\")\n",
    "print(df)\n",
    " \n",
    "# Corrected selection using loc for a specific cell\n",
    "result = df.loc['Row_2', 'Name']\n",
    " \n",
    "# Print the result\n",
    "print(\"\\nSelected Value at Row_2, Column 'Name':\")\n",
    "print(result)"
   ]
  },
  {
   "cell_type": "code",
   "execution_count": 25,
   "metadata": {},
   "outputs": [
    {
     "name": "stdout",
     "output_type": "stream",
     "text": [
      "Le dataframe \n",
      "       Nom  Age  Note\n",
      "0    Aline   25  85.5\n",
      "1   Robert   30  90.3\n",
      "2  Charles   35  78.9\n",
      "\n",
      "Utilisation de df.loc pour sélectionner la ligne avec l'index 1:\n",
      "Nom     Robert\n",
      "Age         30\n",
      "Note      90.3\n",
      "Name: 1, dtype: object\n",
      "\n",
      "Utilisation de df.loc pour sélectionner les lignes avec les index 0 et 2:\n",
      "       Nom  Age  Note\n",
      "0    Aline   25  85.5\n",
      "2  Charles   35  78.9\n",
      "\n",
      "Utilisation de df.iloc pour sélectionner la ligne à la position 1:\n",
      "Nom     Robert\n",
      "Age         30\n",
      "Note      90.3\n",
      "Name: 1, dtype: object\n",
      "\n",
      "Utilisation de df.iloc pour sélectionner les lignes aux positions 0 et 2:\n",
      "       Nom  Age  Note\n",
      "0    Aline   25  85.5\n",
      "2  Charles   35  78.9\n"
     ]
    }
   ],
   "source": [
    "import pandas as pd\n",
    "\n",
    "# Création du dataframe\n",
    "donnee = {\n",
    "    'Nom': ['Aline', 'Robert', 'Charles', 'Luc', 'Valérie', 'Julie', 'Julien', 'Claude'],\n",
    "    'Age': [25, 30, 35, 42, 55, 67, 37, 23],\n",
    "    'Note': [85.5, 90.3, 78.9, 65.4, 98.5, 87.4, 82.1, 76.9]\n",
    "}\n",
    "df = pd.DataFrame(donnee)\n",
    "print(f\"Le dataframe \\n{df}\")\n",
    "print()\n",
    "\n",
    "# Utilisation de df.loc\n",
    "# Sélection de la ligne avec l'index 1 (Robert)\n",
    "ligne_loc = df.loc[1]\n",
    "print(\"Utilisation de df.loc pour sélectionner la ligne avec l'index 1:\")\n",
    "print(ligne_loc)\n",
    "\n",
    "# Sélection des lignes avec les index 0 et 2 (Aline et Charles)\n",
    "lignes_loc = df.loc[[0, 2]]\n",
    "print(\"\\nUtilisation de df.loc pour sélectionner les lignes avec les index 0 et 2:\")\n",
    "print(lignes_loc)\n",
    "\n",
    "# Utilisation de df.iloc\n",
    "# Sélection de la ligne à la position 1 (Robert)\n",
    "ligne_iloc = df.iloc[1]\n",
    "print(\"\\nUtilisation de df.iloc pour sélectionner la ligne à la position 1:\")\n",
    "print(ligne_iloc)\n",
    "\n",
    "# Sélection des lignes aux positions 0 et 2 (Aline et Charles)\n",
    "lignes_iloc = df.iloc[[0, 2]]\n",
    "print(\"\\nUtilisation de df.iloc pour sélectionner les lignes aux positions 0 et 2:\")\n",
    "print(lignes_iloc)"
   ]
  },
  {
   "cell_type": "code",
   "execution_count": 26,
   "metadata": {},
   "outputs": [],
   "source": [
    "import pandas as pd\n",
    "\n",
    "# Création du dataframe\n",
    "donnee = {\n",
    "    'Nom': ['Aline', 'Robert', 'Charles', 'Luc', 'Valérie', 'Julie', 'Julien', 'Claude'],\n",
    "    'Age': [25, 30, 35, 42, 55, 67, 37, 23],\n",
    "    'Note': [85.5, 90.3, 78.9, 65.4, 98.5, 87.4, 82.1, 76.9]\n",
    "}\n",
    "df = pd.DataFrame(donnee)\n",
    "\n",
    "# Exportation du dataframe en CSV sans l'index\n",
    "df.to_csv('fichier_sans_index.csv', index=False)\n",
    "\n",
    "# Exportation du dataframe en CSV avec l'index (par défaut)\n",
    "df.to_csv('fichier_avec_index.csv')"
   ]
  },
  {
   "cell_type": "code",
   "execution_count": 42,
   "metadata": {},
   "outputs": [
    {
     "name": "stdout",
     "output_type": "stream",
     "text": [
      "     Note\n",
      "Age      \n",
      "25   87.2\n",
      "30   90.3\n",
      "35   78.9\n"
     ]
    }
   ],
   "source": [
    "donnee = {\n",
    "    'Nom': ['Aline', 'Robert', 'Charles', 'Luc', 'Valérie', 'Julie', 'Julien', 'Claude'],\n",
    "    'Age': [25, 30, 35, 42, 55, 67, 37, 23],\n",
    "    'Note': [85.5, 90.3, 78.9, 65.4, 98.5, 87.4, 82.1, 76.9]\n",
    "}\n",
    "df = pd.DataFrame(donnee)\n",
    "#print(df)\n",
    "\n",
    "# Sélection de colonnes\n",
    "#ages = df['Age']\n",
    "#print(f\"Les âges sont:\\n{ages}\\n\")\n",
    "\n",
    "# Filtrage de lignes\n",
    "#df_filtre = df[df['Note'] > 80]\n",
    "#print(f\"Le dataframe contenant seulement les notes > 80 \\n{df_filtre}\\n\")\n",
    "\n",
    "#print(f\"Statistiques : \\n{df.describe()}\\n\")\n",
    "\n",
    "#df_groupe = df.groupby('Age').mean()\n",
    "df_groupe = df.groupby('Age').mean(numeric_only=True)\n",
    "\n",
    "print(df_groupe)"
   ]
  },
  {
   "cell_type": "code",
   "execution_count": 40,
   "metadata": {},
   "outputs": [
    {
     "name": "stdout",
     "output_type": "stream",
     "text": [
      "Affichage des données \n",
      "          Substance  Concentration (mol/L)    pH  Température (°C)\n",
      "0               Eau                    0.1   7.0                25\n",
      "1               Eau                    0.2   7.1                25\n",
      "2               Eau                    0.3   7.2                25\n",
      "3  Acide sulfurique                    1.0   1.0                20\n",
      "4  Acide sulfurique                    1.5   1.2                20\n",
      "5  Acide sulfurique                    2.0   1.5                20\n",
      "6            Sodium                    0.5  13.0                30\n",
      "7            Sodium                    0.7  13.2                30\n",
      "8            Sodium                    0.9  13.5                30\n",
      "\n",
      "Affichage des données goupées par substance \n",
      "                  Concentration (mol/L)         pH  Température (°C)\n",
      "Substance                                                           \n",
      "Acide sulfurique                    1.5   1.233333              20.0\n",
      "Eau                                 0.2   7.100000              25.0\n",
      "Sodium                              0.7  13.233333              30.0\n",
      "\n"
     ]
    }
   ],
   "source": [
    "import pandas as pd\n",
    "\n",
    "# Création du DataFrame\n",
    "data = {\n",
    "    'Substance': ['Eau', 'Eau', 'Eau', 'Acide sulfurique', 'Acide sulfurique', 'Acide sulfurique', 'Sodium', 'Sodium', 'Sodium'],\n",
    "    'Concentration (mol/L)': [0.1, 0.2, 0.3, 1.0, 1.5, 2.0, 0.5, 0.7, 0.9],\n",
    "    'pH': [7.0, 7.1, 7.2, 1.0, 1.2, 1.5, 13.0, 13.2, 13.5],\n",
    "    'Température (°C)': [25, 25, 25, 20, 20, 20, 30, 30, 30]\n",
    "}\n",
    "\n",
    "df = pd.DataFrame(data)\n",
    "\n",
    "# Affichage du DataFrame\n",
    "print(f\"Affichage des données \\n{df}\\n\")\n",
    "\n",
    "# Grouper par la colonne Substance et calcul de la moyenne des autres colonnes\n",
    "df_groupe = df.groupby(\"Substance\").mean()\n",
    "print(f\"Affichage de la moyenne des données goupées par substance \\n{df_groupe}\\n\")\n"
   ]
  },
  {
   "cell_type": "code",
   "execution_count": 44,
   "metadata": {},
   "outputs": [
    {
     "name": "stdout",
     "output_type": "stream",
     "text": [
      "Affichage de la moyenne des données groupées par âge \n",
      "     Note\n",
      "Age      \n",
      "25   87.2\n",
      "30   90.3\n",
      "35   78.9\n",
      "\n"
     ]
    }
   ],
   "source": [
    "donnee = {\n",
    "    \"Nom\": [\"Aline\", \"Robert\", \"Charles\", \"Julie\"],\n",
    "    \"Age\": [25, 30, 35, 25],\n",
    "    \"Note\": [85.5, 90.3, 78.9, 88.9]\n",
    "}\n",
    "df = pd.DataFrame(donnee)\n",
    "\n",
    "df_groupe = df.groupby(\"Age\").mean(numeric_only=True)\n",
    "print(f\"Affichage de la moyenne des données groupées par âge \\n{df_groupe}\\n\")"
   ]
  },
  {
   "cell_type": "code",
   "execution_count": 47,
   "metadata": {},
   "outputs": [
    {
     "name": "stdout",
     "output_type": "stream",
     "text": [
      "La colonne Session ajoutée \n",
      "       Nom  Age  Note  Session\n",
      "0    Aline   25  85.5  Automne\n",
      "1   Robert   30  90.3  Automne\n",
      "2  Charles   35  78.9  Automne\n",
      "\n",
      "La colonne Session supprimée \n",
      "       Nom  Age  Note\n",
      "0    Aline   25  85.5\n",
      "1   Robert   30  90.3\n",
      "2  Charles   35  78.9\n",
      "\n",
      "La colonne Nom modifiée \n",
      "    Prenom  Age  Note\n",
      "0    Aline   25  85.5\n",
      "1   Robert   30  90.3\n",
      "2  Charles   35  78.9\n",
      "\n"
     ]
    }
   ],
   "source": [
    "import pandas as pd\n",
    "\n",
    "donnee = {\n",
    "    'Nom': ['Aline', 'Robert', 'Charles'],\n",
    "    'Age': [25, 30, 35],\n",
    "    'Note': [85.5, 90.3, 78.9]\n",
    "}\n",
    "df = pd.DataFrame(donnee)\n",
    "\n",
    "# Ajout d'une nouvelle colonne\n",
    "df[\"Session\"] = \"Automne\"\n",
    "print(f\"La colonne Session ajoutée \\n{df}\\n\")\n",
    "\n",
    "# Suppression d'une colonne\n",
    "df = df.drop(columns=[\"Session\"])\n",
    "print(f\"La colonne Session supprimée \\n{df}\\n\")\n",
    "\n",
    "# Renommage des colonnes\n",
    "df = df.rename(columns={\"Nom\": \"Prenom\"})\n",
    "print(f\"La colonne Nom modifiée \\n{df}\\n\")"
   ]
  },
  {
   "cell_type": "code",
   "execution_count": 52,
   "metadata": {},
   "outputs": [
    {
     "name": "stdout",
     "output_type": "stream",
     "text": [
      "Le dataframe \n",
      "        Date  Température  Annee  Mois  Jour Date plus 5\n",
      "0 2024-01-01           20   2024     1     1  2024-01-06\n",
      "1 2024-01-02           21   2024     1     2  2024-01-07\n",
      "2 2024-01-03           19   2024     1     3  2024-01-08\n",
      "\n",
      "Les données du mois de janvier \n",
      "        Date  Température  Annee  Mois  Jour\n",
      "0 2024-01-01           20   2024     1     1\n",
      "1 2024-01-02           21   2024     1     2\n",
      "2 2024-01-03           19   2024     1     3\n",
      "\n",
      "La plage de dates du 1er au 10 janvier 2024 \n",
      "DatetimeIndex(['2024-01-01', '2024-01-02', '2024-01-03', '2024-01-04',\n",
      "               '2024-01-05', '2024-01-06', '2024-01-07', '2024-01-08',\n",
      "               '2024-01-09', '2024-01-10'],\n",
      "              dtype='datetime64[ns]', freq='D')\n",
      "\n"
     ]
    }
   ],
   "source": [
    "import pandas as pd\n",
    "\n",
    "# Données\n",
    "data = {'Date': ['2024-01-01', '2024-01-02', '2024-01-03'],\n",
    "        'Température': [20, 21, 19]}\n",
    "df = pd.DataFrame(data)\n",
    "\n",
    "# Conversion en datetime\n",
    "df['Date'] = pd.to_datetime(df['Date'])\n",
    "\n",
    "# Extraction des composants de la date\n",
    "df['Annee'] = df['Date'].dt.year\n",
    "df['Mois'] = df['Date'].dt.month\n",
    "df['Jour'] = df['Date'].dt.day\n",
    "\n",
    "# Filtrage par date\n",
    "masque = (df['Date'] >= '2024-01-01') & (df['Date'] <= '2024-01-31')\n",
    "donnees_janvier = df.loc[masque]\n",
    "\n",
    "# Ajout de jours\n",
    "df['Date plus 5'] = df['Date'] + pd.Timedelta(days=5)\n",
    "\n",
    "# Création d'une plage de dates\n",
    "plage_date = pd.date_range(start='2024-01-01', end='2024-01-10', freq='D')\n",
    "\n",
    "print(f\"Le dataframe \\n{df}\\n\")\n",
    "print(f\"Les données du mois de janvier \\n{donnees_janvier}\\n\")\n",
    "print(f\"La plage de dates du 1er au 10 janvier 2024 \\n{plage_date}\\n\")\n"
   ]
  },
  {
   "cell_type": "code",
   "execution_count": 53,
   "metadata": {},
   "outputs": [
    {
     "name": "stdout",
     "output_type": "stream",
     "text": [
      "        Date  Température\n",
      "0 2022-01-01           20\n",
      "1 2022-01-02           21\n",
      "2 2022-01-03           19\n"
     ]
    }
   ],
   "source": [
    "import pandas as pd\n",
    "\n",
    "# Chargement des données\n",
    "donnees_date = {'Date': ['2024-01-01', '2024-01-02', '2024-01-03'], 'Température': [20, 21, 19]}\n",
    "df = pd.DataFrame(donnees_date)\n",
    "\n",
    "# Conversion en datetime\n",
    "df['Date'] = pd.to_datetime(df['Date'])\n",
    "\n",
    "print(df)"
   ]
  },
  {
   "cell_type": "code",
   "execution_count": 54,
   "metadata": {},
   "outputs": [
    {
     "name": "stdout",
     "output_type": "stream",
     "text": [
      "        Date  Température  Annee  Mois  Jour\n",
      "0 2022-01-01           20   2022     1     1\n",
      "1 2022-01-02           21   2022     1     2\n",
      "2 2022-01-03           19   2022     1     3\n"
     ]
    }
   ],
   "source": [
    "# Extraction de l'année\n",
    "df['Annee'] = df['Date'].dt.year\n",
    "\n",
    "# Extraction du mois\n",
    "df['Mois'] = df['Date'].dt.month\n",
    "\n",
    "# Extraction du jour\n",
    "df['Jour'] = df['Date'].dt.day\n",
    "\n",
    "print(df)"
   ]
  },
  {
   "cell_type": "code",
   "execution_count": 56,
   "metadata": {},
   "outputs": [
    {
     "name": "stdout",
     "output_type": "stream",
     "text": [
      "         Date  Température\n",
      "0  2024-01-01           20\n",
      "1  2024-01-02           21\n",
      "2  2024-01-03           19\n"
     ]
    }
   ],
   "source": [
    "import pandas as pd\n",
    "\n",
    "# Chargement des données\n",
    "donnees_date = {'Date': ['2024-01-01', '2024-01-02', '2024-01-03'], 'Température': [20, 21, 19]}\n",
    "df = pd.DataFrame(donnees_date)\n",
    "\n",
    "# Filtrage pour obtenir les données de janvier 2024\n",
    "masque = (df['Date'] >= '2024-01-01') & (df['Date'] <= '2024-01-31')\n",
    "donnee_janvier = df.loc[masque]\n",
    "\n",
    "print(donnee_janvier)"
   ]
  },
  {
   "cell_type": "code",
   "execution_count": 60,
   "metadata": {},
   "outputs": [
    {
     "name": "stdout",
     "output_type": "stream",
     "text": [
      "        Date  Température Date plus 5\n",
      "0 2024-01-01           20  2024-01-06\n",
      "1 2024-01-02           21  2024-01-07\n",
      "2 2024-01-03           19  2024-01-08\n",
      "DatetimeIndex(['2024-01-01', '2024-01-02', '2024-01-03', '2024-01-04',\n",
      "               '2024-01-05', '2024-01-06', '2024-01-07', '2024-01-08',\n",
      "               '2024-01-09', '2024-01-10'],\n",
      "              dtype='datetime64[ns]', freq='D')\n"
     ]
    }
   ],
   "source": [
    "import pandas as pd\n",
    "donnees_date = {'Date': ['2024-01-01', '2024-01-02', '2024-01-03'], 'Température': [20, 21, 19]}\n",
    "df = pd.DataFrame(donnees_date)\n",
    "\n",
    "# Conversion en datetime\n",
    "df['Date'] = pd.to_datetime(df['Date'])\n",
    "df['Date plus 5'] = df['Date'] + pd.Timedelta(days=5)\n",
    "\n",
    "print(df)\n",
    "plage_date = pd.date_range(start='2024-01-01', end='2024-01-10', freq='D')\n",
    "print(plage_date)"
   ]
  },
  {
   "cell_type": "code",
   "execution_count": 61,
   "metadata": {},
   "outputs": [
    {
     "name": "stdout",
     "output_type": "stream",
     "text": [
      "   Valeurs\n",
      "0        1\n",
      "1        2\n",
      "2        3\n",
      "3        4\n",
      "4        5\n"
     ]
    }
   ],
   "source": [
    "import pandas as pd\n",
    "\n",
    "# Création d'une série\n",
    "ma_serie = pd.Series([1, 2, 3, 4, 5], name='Valeurs')\n",
    "\n",
    "# Conversion de la série en DataFrame\n",
    "df = ma_serie.to_frame()\n",
    "\n",
    "# Affichage du DataFrame\n",
    "print(df)"
   ]
  },
  {
   "cell_type": "code",
   "execution_count": 62,
   "metadata": {},
   "outputs": [
    {
     "name": "stdout",
     "output_type": "stream",
     "text": [
      "   id  prénom  âge\n",
      "0   1   Aline   25\n",
      "1   2  Robert   30\n"
     ]
    }
   ],
   "source": [
    "import pandas as pd\n",
    "\n",
    "# Création des DataFrames\n",
    "df1 = pd.DataFrame({\n",
    "    'id': [1, 2, 3],\n",
    "    'prénom': ['Aline', 'Robert', 'Charles']\n",
    "})\n",
    "\n",
    "df2 = pd.DataFrame({\n",
    "    'id': [1, 2, 4],\n",
    "    'âge': [25, 30, 35]\n",
    "})\n",
    "\n",
    "# Fusion des DataFrames sur la colonne 'id'\n",
    "df_fusionne = pd.merge(df1, df2, on='id', how='inner')\n",
    "\n",
    "print(df_fusionne)\n"
   ]
  },
  {
   "cell_type": "code",
   "execution_count": 8,
   "metadata": {},
   "outputs": [
    {
     "name": "stdout",
     "output_type": "stream",
     "text": [
      "[['Aline' 25 85.5]\n",
      " ['Robert' 30 90.3]\n",
      " ['Charles' 35 78.9]]\n"
     ]
    }
   ],
   "source": [
    "import pandas as pd\n",
    "donnee = {\n",
    "    \"Nom\": [\"Aline\", \"Robert\", \"Charles\"],\n",
    "    \"Âge\": [25, 30, 35],\n",
    "    \"Note\": [85.5, 90.3, 78.9]\n",
    "}\n",
    "df = pd.DataFrame(donnee)\n",
    "#print(df)\n",
    "\n",
    "#df.info()\n",
    "#print(df.describe())\n",
    "#print(\"-------\")\n",
    "valeurs = df.values  # Accède à la première ligne sous forme de tableau numpy\n",
    "print(valeurs)\n",
    "#print(\"------\")\n",
    "#index = df.index\n",
    "#print(index)\n",
    "\n",
    "#print(\"-----\")\n",
    "#print(df[\"Âge\"])"
   ]
  },
  {
   "cell_type": "code",
   "execution_count": 2,
   "metadata": {},
   "outputs": [
    {
     "name": "stdout",
     "output_type": "stream",
     "text": [
      "Ville\n",
      "Laval       27.5\n",
      "Montréal    35.0\n",
      "Name: Age, dtype: float64\n"
     ]
    }
   ],
   "source": [
    "import pandas as pd\n",
    "donnee = {\n",
    "    'Nom': ['Aline', 'Robert', 'Charles'],\n",
    "    'Age': [25, 30, 35],\n",
    "    'Note': [85.5, 90.3, 78.9],\n",
    "    'Ville': ['Laval', 'Laval', 'Montréal']\n",
    "}\n",
    "df = pd.DataFrame(donnee)\n",
    "groupe = df.groupby('Ville')['Age'].mean()\n",
    "print(groupe)"
   ]
  },
  {
   "cell_type": "code",
   "execution_count": 1,
   "metadata": {},
   "outputs": [
    {
     "data": {
      "text/html": [
       "<div>\n",
       "<style scoped>\n",
       "    .dataframe tbody tr th:only-of-type {\n",
       "        vertical-align: middle;\n",
       "    }\n",
       "\n",
       "    .dataframe tbody tr th {\n",
       "        vertical-align: top;\n",
       "    }\n",
       "\n",
       "    .dataframe thead th {\n",
       "        text-align: right;\n",
       "    }\n",
       "</style>\n",
       "<table border=\"1\" class=\"dataframe\">\n",
       "  <thead>\n",
       "    <tr style=\"text-align: right;\">\n",
       "      <th></th>\n",
       "      <th>Nom</th>\n",
       "      <th>Age</th>\n",
       "      <th>Note</th>\n",
       "      <th>Ville</th>\n",
       "    </tr>\n",
       "  </thead>\n",
       "  <tbody>\n",
       "    <tr>\n",
       "      <th>0</th>\n",
       "      <td>Aline</td>\n",
       "      <td>25</td>\n",
       "      <td>85.5</td>\n",
       "      <td>Laval</td>\n",
       "    </tr>\n",
       "    <tr>\n",
       "      <th>1</th>\n",
       "      <td>Robert</td>\n",
       "      <td>30</td>\n",
       "      <td>90.3</td>\n",
       "      <td>Laval</td>\n",
       "    </tr>\n",
       "  </tbody>\n",
       "</table>\n",
       "</div>"
      ],
      "text/plain": [
       "      Nom  Age  Note  Ville\n",
       "0   Aline   25  85.5  Laval\n",
       "1  Robert   30  90.3  Laval"
      ]
     },
     "execution_count": 1,
     "metadata": {},
     "output_type": "execute_result"
    }
   ],
   "source": [
    "import pandas as pd\n",
    "donnee = {\n",
    "    'Nom': ['Aline', 'Robert', 'Charles'],\n",
    "    'Age': [25, 30, 35],\n",
    "    'Note': [85.5, 90.3, 78.9],\n",
    "    'Ville': ['Laval', 'Laval', 'Montréal']\n",
    "}\n",
    "df = pd.DataFrame(donnee)\n",
    "df_laval = df[df[\"Ville\"] == \"Laval\"]\n",
    "df_laval\n"
   ]
  },
  {
   "cell_type": "code",
   "execution_count": 2,
   "metadata": {},
   "outputs": [
    {
     "name": "stdout",
     "output_type": "stream",
     "text": [
      "['Aline', 'Robert', 'Charles']\n"
     ]
    }
   ],
   "source": [
    "import pandas as pd\n",
    "donnee = {\n",
    "    'Prénom': ['Aline', 'Robert', 'Charles'],\n",
    "    'Age': [25, 30, 35],\n",
    "    'Note': [85.5, 90.3, 78.9],\n",
    "    'Ville': ['Laval', 'Laval', 'Montréal']\n",
    "}\n",
    "df = pd.DataFrame(donnee)\n",
    "liste = df['Prénom'].tolist()\n",
    "print(liste)  # Affiche : ['Aline', 'Robert', 'Charles']"
   ]
  },
  {
   "cell_type": "code",
   "execution_count": 34,
   "metadata": {},
   "outputs": [
    {
     "name": "stdout",
     "output_type": "stream",
     "text": [
      "Liste avant [['Aline', 25, 85.5, 'Laval'], ['Robert', 30, nan, 'Laval'], ['Charles', 35, 78.9, 'Montréal'], ['Sophie', 28, nan, 'Québec'], ['Luc', 22, 88.0, 'Sherbrooke'], ['Marie', 27, nan, 'Trois-Rivières'], ['Jean', 32, 92.3, 'Gatineau'], ['Paul', 29, nan, 'Saguenay'], ['Julie', 24, 81.7, 'Drummondville'], ['Marc', 31, nan, 'Longueuil']]\n",
      "Liste après [['Aline', 25, 85.5, 'Laval'], ['Robert', 30, nan, 'Laval'], ['Charles', 35, 78.9, 'Montréal'], ['Sophie', 28, nan, 'Québec'], ['Luc', 22, 88.0, 'Sherbrooke'], ['Marie', 27, nan, 'Trois-Rivières'], ['Jean', 32, 92.3, 'Gatineau'], ['Paul', 29, nan, 'Saguenay'], ['Julie', 24, 81.7, 'Drummondville'], ['Marc', 31, nan, 'Longueuil']]\n"
     ]
    }
   ],
   "source": [
    "import pandas as pd\n",
    "import csv\n",
    "\n",
    "# Créer un fichier CSV avec 10 lignes et 4 colonnes (Prenom, Age, Note, Ville)\n",
    "data = [\n",
    "    [\"Prenom\", \"Age\", \"Note\", \"Ville\"],\n",
    "    [\"Aline\", 25, 85.5, \"Laval\"],\n",
    "    [\"Robert\", 30, None, \"Laval\"],\n",
    "    [\"Charles\", 35, 78.9, \"Montréal\"],\n",
    "    [\"Sophie\", 28, None, \"Québec\"],\n",
    "    [\"Luc\", 22, 88.0, \"Sherbrooke\"],\n",
    "    [\"Marie\", 27, None, \"Trois-Rivières\"],\n",
    "    [\"Jean\", 32, 92.3, \"Gatineau\"],\n",
    "    [\"Paul\", 29, None, \"Saguenay\"],\n",
    "    [\"Julie\", 24, 81.7, \"Drummondville\"],\n",
    "    [\"Marc\", 31, None, \"Longueuil\"]\n",
    "]\n",
    "\n",
    "# Écrire les données dans un fichier CSV\n",
    "with open('data.csv', 'w', newline='', encoding='utf-8') as file:\n",
    "    writer = csv.writer(file)\n",
    "    writer.writerows(data)\n",
    "\n",
    "# Charger les données dans un DataFrame en spécifiant l'encodage\n",
    "df = pd.read_csv('data.csv', encoding='utf-8')\n",
    "\n",
    "# Convertir le DataFrame en liste\n",
    "liste = df.values.tolist()\n",
    "\n",
    "# Afficher la liste initiale\n",
    "print(\"Liste avant\", liste)\n",
    "\n",
    "# Remplacer les valeurs manquantes par 0\n",
    "for ligne in liste:\n",
    "    for i in range(len(ligne)):\n",
    "        if ligne[i] is None:\n",
    "            ligne[i] = \"OK\"\n",
    "\n",
    "# Afficher la liste modifiée\n",
    "print(\"Liste après\", liste)\n",
    "\n",
    "\n"
   ]
  },
  {
   "cell_type": "code",
   "execution_count": 36,
   "metadata": {},
   "outputs": [
    {
     "name": "stdout",
     "output_type": "stream",
     "text": [
      "Liste avant [['Aline', 25, 85.5, 'Laval'], ['Robert', 30, nan, 'Laval'], ['Charles', 35, 78.9, 'Montréal'], ['Sophie', 28, nan, 'Québec'], ['Luc', 22, 88.0, 'Sherbrooke'], ['Marie', 27, nan, 'Trois-Rivières'], ['Jean', 32, 92.3, 'Gatineau'], ['Paul', 29, nan, 'Saguenay'], ['Julie', 24, 81.7, 'Drummondville'], ['Marc', 31, nan, 'Longueuil']]\n",
      "Liste après [['Aline', 25, 85.5, 'Laval'], ['Robert', 30, 0, 'Laval'], ['Charles', 35, 78.9, 'Montréal'], ['Sophie', 28, 0, 'Québec'], ['Luc', 22, 88.0, 'Sherbrooke'], ['Marie', 27, 0, 'Trois-Rivières'], ['Jean', 32, 92.3, 'Gatineau'], ['Paul', 29, 0, 'Saguenay'], ['Julie', 24, 81.7, 'Drummondville'], ['Marc', 31, 0, 'Longueuil']]\n"
     ]
    }
   ],
   "source": [
    "import pandas as pd\n",
    "import csv\n",
    "\n",
    "# Créer un fichier CSV avec 10 lignes et 4 colonnes (Prenom, Age, Note, Ville)\n",
    "data = [\n",
    "    [\"Prenom\", \"Age\", \"Note\", \"Ville\"],\n",
    "    [\"Aline\", 25, 85.5, \"Laval\"],\n",
    "    [\"Robert\", 30, None, \"Laval\"],\n",
    "    [\"Charles\", 35, 78.9, \"Montréal\"],\n",
    "    [\"Sophie\", 28, None, \"Québec\"],\n",
    "    [\"Luc\", 22, 88.0, \"Sherbrooke\"],\n",
    "    [\"Marie\", 27, None, \"Trois-Rivières\"],\n",
    "    [\"Jean\", 32, 92.3, \"Gatineau\"],\n",
    "    [\"Paul\", 29, None, \"Saguenay\"],\n",
    "    [\"Julie\", 24, 81.7, \"Drummondville\"],\n",
    "    [\"Marc\", 31, None, \"Longueuil\"]\n",
    "]\n",
    "\n",
    "# Écrire les données dans un fichier CSV\n",
    "with open('data.csv', 'w', newline='', encoding='utf-8') as file:\n",
    "    writer = csv.writer(file)\n",
    "    writer.writerows(data)\n",
    "\n",
    "# Charger les données dans un DataFrame en spécifiant l'encodage\n",
    "df = pd.read_csv('data.csv', encoding='utf-8')\n",
    "\n",
    "# Convertir le DataFrame en liste\n",
    "liste = df.values.tolist()\n",
    "\n",
    "# Afficher la liste initiale\n",
    "print(\"Liste avant\", liste)\n",
    "\n",
    "# Remplacer les valeurs manquantes par \"OK\"\n",
    "for ligne in liste:\n",
    "    for i in range(len(ligne)):\n",
    "        if ligne[i] != ligne[i]:  # Vérifie si la valeur est NaN\n",
    "            ligne[i] = 0\n",
    "\n",
    "# Afficher la liste modifiée\n",
    "print(\"Liste après\", liste)\n"
   ]
  },
  {
   "cell_type": "code",
   "execution_count": 37,
   "metadata": {},
   "outputs": [
    {
     "data": {
      "image/png": "[encoded data removed]",
      "text/plain": [
       "<Figure size 640x480 with 1 Axes>"
      ]
     },
     "metadata": {},
     "output_type": "display_data"
    }
   ],
   "source": [
    "import matplotlib.pyplot as plt\n",
    "\n",
    "# Exemple de données\n",
    "x = [0, 1, 2, 3, 4]\n",
    "y = [10, 20, 25, 30, 40]\n",
    "\n",
    "plt.plot(x, y)\n",
    "\n",
    "# Définir les étiquettes des graduations de l'axe x\n",
    "plt.xticks([0, 1, 2, 3, 4], ['A', 'B', 'C', 'D', 'E'])\n",
    "\n",
    "# Définir les étiquettes des graduations de l'axe y\n",
    "plt.yticks([10, 20, 30, 40], ['Dix', 'Vingt', 'Trente', 'Quarante'])\n",
    "\n",
    "plt.show()\n"
   ]
  }
 ],
 "metadata": {
  "kernelspec": {
   "display_name": "Python 3",
   "language": "python",
   "name": "python3"
  },
  "language_info": {
   "codemirror_mode": {
    "name": "ipython",
    "version": 3
   },
   "file_extension": ".py",
   "mimetype": "text/x-python",
   "name": "python",
   "nbconvert_exporter": "python",
   "pygments_lexer": "ipython3",
   "version": "3.11.9"
  }
 },
 "nbformat": 4,
 "nbformat_minor": 2
}
