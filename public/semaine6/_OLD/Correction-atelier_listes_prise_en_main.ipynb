{
 "cells": [
  {
   "cell_type": "markdown",
   "metadata": {},
   "source": [
    "# Exercice 1\n",
    "\n",
    "1. Initialisez une liste avec les nombres `9`, `23` et `91` (dans l'ordre).\n",
    "1. Ajoutez la valeur `3` à la fin de la liste.\n",
    "1. Ajoutez la valeur `3` au début de la liste\n",
    "1. Afficher la liste\n",
    "\n"
   ]
  },
  {
   "cell_type": "code",
   "execution_count": 6,
   "metadata": {},
   "outputs": [
    {
     "name": "stdout",
     "output_type": "stream",
     "text": [
      "[3, 9, 23, 91, 3]\n"
     ]
    }
   ],
   "source": [
    "# Insérez votre code ici\n",
    "\n",
    "ma_liste = [9, 23, 91]\n",
    "ma_liste.append(3)\n",
    "ma_liste.insert(0, 3)\n",
    "print(ma_liste)\n"
   ]
  },
  {
   "cell_type": "markdown",
   "metadata": {},
   "source": [
    "1. Additionnez `10` à la 1ère, 3e et dernière valeur de la liste.\n",
    "1. Afficher la liste\n"
   ]
  },
  {
   "cell_type": "code",
   "execution_count": 7,
   "metadata": {},
   "outputs": [
    {
     "name": "stdout",
     "output_type": "stream",
     "text": [
      "[13, 9, 33, 91, 13]\n"
     ]
    }
   ],
   "source": [
    "# Insérez votre code ici\n",
    "\n",
    "ma_liste[0] += 10\n",
    "ma_liste[2] += 10\n",
    "ma_liste[-1] += 10\n",
    "print(ma_liste)\n"
   ]
  },
  {
   "cell_type": "markdown",
   "metadata": {},
   "source": [
    "1. Mettez la liste en ordre croisant.\n",
    "1. Afficher la liste\n",
    "1. Affichez la longueur de la liste.\n",
    "\n"
   ]
  },
  {
   "cell_type": "code",
   "execution_count": 10,
   "metadata": {},
   "outputs": [
    {
     "name": "stdout",
     "output_type": "stream",
     "text": [
      "[9, 13, 13, 33, 91]\n",
      "longueur: 5\n"
     ]
    }
   ],
   "source": [
    "# Insérez votre code ici\n",
    "\n",
    "ma_liste.sort()\n",
    "print(ma_liste)\n",
    "print(\"longueur:\", len(ma_liste))\n"
   ]
  },
  {
   "cell_type": "markdown",
   "metadata": {},
   "source": [
    "1. Affichez les nombres ayant le chiffre `3` à la position des unités (utilisez une boucle)."
   ]
  },
  {
   "cell_type": "code",
   "execution_count": 11,
   "metadata": {},
   "outputs": [
    {
     "name": "stdout",
     "output_type": "stream",
     "text": [
      "fini par 3:  13\n",
      "fini par 3:  13\n",
      "fini par 3:  33\n"
     ]
    }
   ],
   "source": [
    "# Insérez votre code ici\n",
    "\n",
    "for element in ma_liste:\n",
    "    if element % 10 == 3:\n",
    "        print(\"fini par 3: \", element)"
   ]
  }
 ],
 "metadata": {
  "kernelspec": {
   "display_name": "Python 3",
   "language": "python",
   "name": "python3"
  },
  "language_info": {
   "codemirror_mode": {
    "name": "ipython",
    "version": 3
   },
   "file_extension": ".py",
   "mimetype": "text/x-python",
   "name": "python",
   "nbconvert_exporter": "python",
   "pygments_lexer": "ipython3",
   "version": "3.11.9"
  }
 },
 "nbformat": 4,
 "nbformat_minor": 2
}
