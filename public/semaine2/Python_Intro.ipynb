{
 "cells": [
  {
   "cell_type": "markdown",
   "metadata": {},
   "source": [
    "## Semaine 3"
   ]
  },
  {
   "cell_type": "markdown",
   "metadata": {},
   "source": [
    "### <u>Exemples de variable"
   ]
  },
  {
   "cell_type": "code",
   "execution_count": 1,
   "metadata": {},
   "outputs": [],
   "source": [
    "x = 5 # x est un entier\n",
    "y = 7.5 # y est un flottant\n",
    "salutations = \"Bienvenue dans la faille de l'invocateur !\" # salutations est une chaîne de caractères\n",
    "suite_nombre = [1, 2, 3] # suite_nombre est une liste / un tableau à une dimension comportant des entiers\n",
    "liste_personnages = [\"Lifeline\", \"Fuze\", \"Bangalore\", \"Pathfinder\"] # liste_personnage est une liste / un tableau à une dimension comportant des personnages du jeu Apex Legends\n",
    "position_lol = {'Top': 'Garen', 'ADC': 'Caitlin', 'Supp': 'Leona', 'Mid': 'Lux', 'Jungle': 'Trundle'} # position_lol est un dictionnaire avec comme clé la position des personnages sur la carte et en valeur leur nom.\n",
    "modele_vehicule = {'Ford': ['Mustang', 'F150'], 'Chevrolet': ['Camaro', 'Tahoe'], 'Volkswagen':['Golf', 'Atlas']} # modele_vehicule est un dictionnaire où la clé est la marque du véhicule et les valeurs sont la liste des modèles."
   ]
  },
  {
   "cell_type": "markdown",
   "metadata": {},
   "source": [
    "### <u>Affichage de variable"
   ]
  },
  {
   "cell_type": "code",
   "execution_count": 2,
   "metadata": {},
   "outputs": [
    {
     "name": "stdout",
     "output_type": "stream",
     "text": [
      "5\n",
      "7.5\n",
      "Bienvenue dans la faille de l'invocateur !\n",
      "[1, 2, 3]\n",
      "['Lifeline', 'Fuze', 'Bangalore', 'Pathfinder']\n",
      "{'Top': 'Garen', 'ADC': 'Caitlin', 'Supp': 'Leona', 'Mid': 'Lux', 'Jungle': 'Trundle'}\n",
      "{'Ford': ['Mustang', 'F150'], 'Chevrolet': ['Camaro', 'Tahoe'], 'Volkswagen': ['Golf', 'Atlas']}\n"
     ]
    }
   ],
   "source": [
    "# Utiliser la fonction print() pour afficher les résultats\n",
    "print(x)\n",
    "print(y)\n",
    "print(salutations)\n",
    "print(suite_nombre)\n",
    "print(liste_personnages)\n",
    "print(position_lol)\n",
    "print(modele_vehicule)"
   ]
  },
  {
   "cell_type": "markdown",
   "metadata": {},
   "source": [
    "### <u>Commentaire"
   ]
  },
  {
   "cell_type": "code",
   "execution_count": 11,
   "metadata": {},
   "outputs": [],
   "source": [
    "# Ceci est un commentaire"
   ]
  },
  {
   "cell_type": "markdown",
   "metadata": {},
   "source": [
    "### <u>La casse"
   ]
  },
  {
   "cell_type": "code",
   "execution_count": 4,
   "metadata": {},
   "outputs": [
    {
     "name": "stdout",
     "output_type": "stream",
     "text": [
      "42\n"
     ]
    }
   ],
   "source": [
    "a = 42\n",
    "print(a)"
   ]
  },
  {
   "cell_type": "code",
   "execution_count": 5,
   "metadata": {},
   "outputs": [
    {
     "ename": "NameError",
     "evalue": "name 'A' is not defined",
     "output_type": "error",
     "traceback": [
      "\u001b[1;31m---------------------------------------------------------------------------\u001b[0m",
      "\u001b[1;31mNameError\u001b[0m                                 Traceback (most recent call last)",
      "Cell \u001b[1;32mIn[5], line 1\u001b[0m\n\u001b[1;32m----> 1\u001b[0m \u001b[38;5;28mprint\u001b[39m(\u001b[43mA\u001b[49m)\n",
      "\u001b[1;31mNameError\u001b[0m: name 'A' is not defined"
     ]
    }
   ],
   "source": [
    "print(A)"
   ]
  },
  {
   "cell_type": "markdown",
   "metadata": {},
   "source": [
    "### <u>Transtypage"
   ]
  },
  {
   "cell_type": "code",
   "execution_count": null,
   "metadata": {},
   "outputs": [],
   "source": [
    "# Changer le type d'une variable\n",
    "# 1er exemple\n",
    "x = str(x) # a devient une chaîne de caractères\n",
    "print(type(x)) # la fonction \"type()\" permet de nous retourner le type de la variable"
   ]
  },
  {
   "cell_type": "code",
   "execution_count": null,
   "metadata": {},
   "outputs": [],
   "source": [
    "# 2ème exemple\n",
    "x = float(x) # a devient un nombre à virgule\n",
    "print(type(x))"
   ]
  },
  {
   "cell_type": "code",
   "execution_count": 3,
   "metadata": {},
   "outputs": [
    {
     "ename": "ValueError",
     "evalue": "could not convert string to float: 'Valorant'",
     "output_type": "error",
     "traceback": [
      "\u001b[1;31m---------------------------------------------------------------------------\u001b[0m",
      "\u001b[1;31mValueError\u001b[0m                                Traceback (most recent call last)",
      "Cell \u001b[1;32mIn[3], line 1\u001b[0m\n\u001b[1;32m----> 1\u001b[0m \u001b[38;5;28;43mfloat\u001b[39;49m\u001b[43m(\u001b[49m\u001b[38;5;124;43m\"\u001b[39;49m\u001b[38;5;124;43mValorant\u001b[39;49m\u001b[38;5;124;43m\"\u001b[39;49m\u001b[43m)\u001b[49m\n",
      "\u001b[1;31mValueError\u001b[0m: could not convert string to float: 'Valorant'"
     ]
    }
   ],
   "source": [
    "float(\"Valorant\")"
   ]
  },
  {
   "cell_type": "markdown",
   "metadata": {},
   "source": [
    "### <u>Types élémentaires en python"
   ]
  },
  {
   "cell_type": "code",
   "execution_count": 2,
   "metadata": {},
   "outputs": [
    {
     "name": "stdout",
     "output_type": "stream",
     "text": [
      "a = 7  et b = 5\n",
      "a + b = 12\n",
      "a - b = 2\n",
      "a * b = 35\n",
      "a / b = 1.4\n",
      "a // b = 1\n",
      "a % b = 2\n",
      "a ** b = 16807\n",
      "a ** -b = 5.9499018266198606e-05\n"
     ]
    }
   ],
   "source": [
    "a = 7\n",
    "b = 5\n",
    "print(\"a =\", a, \" et b =\", b)\n",
    "print(\"a + b =\", a + b)\n",
    "print(\"a - b =\", a - b)\n",
    "print(\"a * b =\", a * b)\n",
    "print(\"a / b =\", a / b) # division\n",
    "print(\"a // b =\", a // b) # division entière\n",
    "print(\"a % b =\", a % b) # modulo\n",
    "print(\"a ** b =\", a ** b) # a exp b\n",
    "print(\"a ** -b =\", a ** -b) # a exp -b"
   ]
  },
  {
   "cell_type": "markdown",
   "metadata": {},
   "source": [
    "### <u>Affectation multiples"
   ]
  },
  {
   "cell_type": "code",
   "execution_count": 6,
   "metadata": {},
   "outputs": [
    {
     "name": "stdout",
     "output_type": "stream",
     "text": [
      "a = 1 et b = 1\n"
     ]
    }
   ],
   "source": [
    "# Les variables se retrouvent avec la même valeur\n",
    "a = b = 1\n",
    "print(\"a =\", a, \" et b =\", b)"
   ]
  },
  {
   "cell_type": "code",
   "execution_count": 7,
   "metadata": {},
   "outputs": [
    {
     "name": "stdout",
     "output_type": "stream",
     "text": [
      "a = 1 et b = 2\n"
     ]
    }
   ],
   "source": [
    "# Autre méthode d'affectation multiple\n",
    "a, b  = 1, 2\n",
    "print(\"a =\", a, \" et b =\", b)"
   ]
  },
  {
   "cell_type": "markdown",
   "metadata": {},
   "source": [
    "### <u>Instructions"
   ]
  },
  {
   "cell_type": "code",
   "execution_count": 9,
   "metadata": {},
   "outputs": [
    {
     "name": "stdout",
     "output_type": "stream",
     "text": [
      "La somme de a + b est égale à : 3\n"
     ]
    }
   ],
   "source": [
    "# Exemple d'instructions\n",
    "a = 1\n",
    "b = 2\n",
    "somme = a + b\n",
    "print(\"La somme de a + b est égale à :\", somme)"
   ]
  },
  {
   "cell_type": "markdown",
   "metadata": {},
   "source": [
    "### <u>Opération particulière"
   ]
  },
  {
   "cell_type": "code",
   "execution_count": 8,
   "metadata": {},
   "outputs": [
    {
     "name": "stdout",
     "output_type": "stream",
     "text": [
      "1. a est égal à 2\n",
      "2. a est maintenant égal à 3\n"
     ]
    }
   ],
   "source": [
    "# Opération particulière\n",
    "a = 2\n",
    "print(\"1. a est égal à\", a)\n",
    "\n",
    "a = a + 1 # le résultat sera 3.\n",
    "print(\"2. a est maintenant égal à\", a)"
   ]
  },
  {
   "cell_type": "markdown",
   "metadata": {},
   "source": [
    "### <u>Opérateur de comparaison"
   ]
  },
  {
   "cell_type": "code",
   "execution_count": 10,
   "metadata": {},
   "outputs": [
    {
     "name": "stdout",
     "output_type": "stream",
     "text": [
      "True\n"
     ]
    }
   ],
   "source": [
    "# Comparaison\n",
    "dix_fois_dix = (100 == 10 *10)\n",
    "print(dix_fois_dix)"
   ]
  },
  {
   "cell_type": "markdown",
   "metadata": {},
   "source": [
    "### <u>Intéraction avec la machine"
   ]
  },
  {
   "cell_type": "code",
   "execution_count": null,
   "metadata": {},
   "outputs": [],
   "source": [
    "# Saisie d'une valeur\n",
    "valeur = int(input(\"Veuillez saisir une valeur : \"))\n",
    "print(\"La valeur saisie est :\", valeur)"
   ]
  },
  {
   "cell_type": "code",
   "execution_count": null,
   "metadata": {},
   "outputs": [],
   "source": []
  }
 ],
 "metadata": {
  "kernelspec": {
   "display_name": "Python 3",
   "language": "python",
   "name": "python3"
  },
  "language_info": {
   "codemirror_mode": {
    "name": "ipython",
    "version": 3
   },
   "file_extension": ".py",
   "mimetype": "text/x-python",
   "name": "python",
   "nbconvert_exporter": "python",
   "pygments_lexer": "ipython3",
   "version": "3.10.12"
  }
 },
 "nbformat": 4,
 "nbformat_minor": 2
}
