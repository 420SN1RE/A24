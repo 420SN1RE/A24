{
 "cells": [
  {
   "cell_type": "markdown",
   "metadata": {},
   "source": [
    "## Correction - Premier pas avec Python"
   ]
  },
  {
   "cell_type": "markdown",
   "metadata": {},
   "source": [
    "### <u> I) Affectation de variables, affichage et typage de données"
   ]
  },
  {
   "cell_type": "code",
   "execution_count": 9,
   "metadata": {},
   "outputs": [],
   "source": [
    "#a)\n",
    "prenom = \"Alexandre\""
   ]
  },
  {
   "cell_type": "code",
   "execution_count": 24,
   "metadata": {},
   "outputs": [
    {
     "name": "stdout",
     "output_type": "stream",
     "text": [
      "Je m'appelle Alexandre\n"
     ]
    }
   ],
   "source": [
    "# b)\n",
    "print(f\"Je m'appelle {prenom}\")"
   ]
  },
  {
   "cell_type": "code",
   "execution_count": 11,
   "metadata": {},
   "outputs": [
    {
     "name": "stdout",
     "output_type": "stream",
     "text": [
      "<class 'str'>\n"
     ]
    }
   ],
   "source": [
    "# c)\n",
    "print(type(prenom))"
   ]
  },
  {
   "cell_type": "code",
   "execution_count": 12,
   "metadata": {},
   "outputs": [],
   "source": [
    "# d)\n",
    "age = 38"
   ]
  },
  {
   "cell_type": "code",
   "execution_count": 25,
   "metadata": {},
   "outputs": [
    {
     "name": "stdout",
     "output_type": "stream",
     "text": [
      "J'ai 38 ans.\n"
     ]
    }
   ],
   "source": [
    "# e)\n",
    "print(f\"J'ai {age} ans.\")"
   ]
  },
  {
   "cell_type": "code",
   "execution_count": 14,
   "metadata": {},
   "outputs": [
    {
     "name": "stdout",
     "output_type": "stream",
     "text": [
      "<class 'int'>\n"
     ]
    }
   ],
   "source": [
    "# f)\n",
    "print(type(age))"
   ]
  },
  {
   "cell_type": "code",
   "execution_count": 27,
   "metadata": {},
   "outputs": [],
   "source": [
    "# g)\n",
    "decimal = 38.58"
   ]
  },
  {
   "cell_type": "code",
   "execution_count": 28,
   "metadata": {},
   "outputs": [
    {
     "name": "stdout",
     "output_type": "stream",
     "text": [
      "La variable decimal est égale à 38.58\n"
     ]
    }
   ],
   "source": [
    "# h)\n",
    "print(f\"La variable decimal est égale à {decimal}\")"
   ]
  },
  {
   "cell_type": "code",
   "execution_count": 29,
   "metadata": {},
   "outputs": [
    {
     "name": "stdout",
     "output_type": "stream",
     "text": [
      "<class 'float'>\n"
     ]
    }
   ],
   "source": [
    "# i)\n",
    "print(type(decimal))"
   ]
  },
  {
   "cell_type": "code",
   "execution_count": 30,
   "metadata": {},
   "outputs": [
    {
     "name": "stdout",
     "output_type": "stream",
     "text": [
      "<class 'int'>\n"
     ]
    }
   ],
   "source": [
    "# j)\n",
    "decimal = int(decimal)\n",
    "print(type(decimal))\n",
    "\n",
    "# decimal devient un entier (integer)."
   ]
  },
  {
   "cell_type": "markdown",
   "metadata": {},
   "source": [
    "### <u>II) Opérations élémentaires"
   ]
  },
  {
   "cell_type": "code",
   "execution_count": 20,
   "metadata": {},
   "outputs": [],
   "source": [
    "# a)\n",
    "nombre1 = 5"
   ]
  },
  {
   "cell_type": "code",
   "execution_count": 21,
   "metadata": {},
   "outputs": [],
   "source": [
    "# b)\n",
    "nombre1 = nombre1 * 2"
   ]
  },
  {
   "cell_type": "code",
   "execution_count": 31,
   "metadata": {},
   "outputs": [
    {
     "name": "stdout",
     "output_type": "stream",
     "text": [
      "nombre1 * 2 = 10\n"
     ]
    }
   ],
   "source": [
    "# c)\n",
    "print(f\"nombre1 * 2 = {nombre1}\") "
   ]
  },
  {
   "cell_type": "code",
   "execution_count": 32,
   "metadata": {},
   "outputs": [],
   "source": [
    "# d)\n",
    "nombre2 = 3"
   ]
  },
  {
   "cell_type": "code",
   "execution_count": 45,
   "metadata": {},
   "outputs": [
    {
     "name": "stdout",
     "output_type": "stream",
     "text": [
      "nombre1 / nombre2 = 3.3333333333333335\n",
      "<class 'float'>\n"
     ]
    }
   ],
   "source": [
    "# e) i)\n",
    "division_reelle = nombre1 / nombre2\n",
    "print(f\"nombre1 / nombre2 = {division_reelle}\")\n",
    "print(type(division_reelle))"
   ]
  },
  {
   "cell_type": "code",
   "execution_count": 43,
   "metadata": {},
   "outputs": [
    {
     "name": "stdout",
     "output_type": "stream",
     "text": [
      "nombre1 // nombre2 = 3\n",
      "<class 'int'>\n"
     ]
    }
   ],
   "source": [
    "# e) ii)\n",
    "division_entiere = nombre1 // nombre2\n",
    "print(f\"nombre1 // nombre2 = {division_entiere}\")\n",
    "print(type(division_entiere))"
   ]
  },
  {
   "cell_type": "code",
   "execution_count": 41,
   "metadata": {},
   "outputs": [
    {
     "name": "stdout",
     "output_type": "stream",
     "text": [
      "Le reste de la division nombre1 / nombre2 = 1\n"
     ]
    }
   ],
   "source": [
    "#e) iii)\n",
    "modulo = nombre1 % nombre2\n",
    "print(f\"Le reste de la division nombre1 / nombre2 = {modulo}\")"
   ]
  },
  {
   "cell_type": "code",
   "execution_count": 40,
   "metadata": {},
   "outputs": [
    {
     "name": "stdout",
     "output_type": "stream",
     "text": [
      "nombre1 ** 2 = 100\n"
     ]
    }
   ],
   "source": [
    "# e) iv)\n",
    "puissance = nombre1 ** 2\n",
    "print(f\"nombre1 ** 2 = {puissance}\")"
   ]
  },
  {
   "cell_type": "markdown",
   "metadata": {},
   "source": [
    "### <u>III) Saisie de valeur par un utilisateur"
   ]
  },
  {
   "cell_type": "code",
   "execution_count": 48,
   "metadata": {},
   "outputs": [
    {
     "name": "stdout",
     "output_type": "stream",
     "text": [
      "Nous sommes lundi.\n"
     ]
    }
   ],
   "source": [
    "# a)\n",
    "jour = str(input(\"Quel jour sommes-nous aujourd'hui ?\"))\n",
    "print(f\"Nous sommes {jour}.\")"
   ]
  },
  {
   "cell_type": "code",
   "execution_count": 51,
   "metadata": {},
   "outputs": [
    {
     "name": "stdout",
     "output_type": "stream",
     "text": [
      "Nous sommes le 23.\n"
     ]
    }
   ],
   "source": [
    "# b)\n",
    "numero_jour = int(input(\"Quel numéro de jour sommes-nous aujourd'hui ?\"))\n",
    "print(f\"Nous sommes le {numero_jour}.\")"
   ]
  },
  {
   "cell_type": "code",
   "execution_count": 55,
   "metadata": {},
   "outputs": [
    {
     "name": "stdout",
     "output_type": "stream",
     "text": [
      "Il fait 33.6 degrés celsius.\n"
     ]
    }
   ],
   "source": [
    "# c)\n",
    "temperature = float(input(\"Qeulle est la température aujourd'hui ?\"))\n",
    "print(f\"Il fait {round(temperature, 1)} degrés celsius.\")"
   ]
  },
  {
   "cell_type": "code",
   "execution_count": 56,
   "metadata": {},
   "outputs": [
    {
     "name": "stdout",
     "output_type": "stream",
     "text": [
      "Nous sommes le lundi 23. Il fait 33.6 degrés celsius.\n"
     ]
    }
   ],
   "source": [
    "# d)\n",
    "print(f\"Nous sommes le {jour} {numero_jour}. Il fait {round(temperature, 1)} degrés celsius.\")"
   ]
  }
 ],
 "metadata": {
  "kernelspec": {
   "display_name": "Python 3",
   "language": "python",
   "name": "python3"
  },
  "language_info": {
   "codemirror_mode": {
    "name": "ipython",
    "version": 3
   },
   "file_extension": ".py",
   "mimetype": "text/x-python",
   "name": "python",
   "nbconvert_exporter": "python",
   "pygments_lexer": "ipython3",
   "version": "3.11.9"
  }
 },
 "nbformat": 4,
 "nbformat_minor": 2
}
