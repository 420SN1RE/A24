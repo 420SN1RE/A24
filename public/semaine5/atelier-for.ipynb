{
 "cells": [
  {
   "cell_type": "markdown",
   "metadata": {},
   "source": [
    "Ces exercices vous font pratiquer l'utilisation de la boucle `for`."
   ]
  },
  {
   "cell_type": "markdown",
   "metadata": {},
   "source": [
    "### Exercice 1\n",
    "\n",
    "En utilisant une boucle for, imprimez les entiers de 1 à 5\n"
   ]
  },
  {
   "cell_type": "code",
   "execution_count": 1,
   "metadata": {},
   "outputs": [],
   "source": [
    "# Votre code ici\n"
   ]
  },
  {
   "cell_type": "markdown",
   "metadata": {},
   "source": [
    "### Exercice 2\n",
    "\n",
    "Écrivez une boucle for qui affiche les lettres une par une de la phrase \"Bonjour monde!\" (1 caractère par ligne)"
   ]
  },
  {
   "cell_type": "code",
   "execution_count": 2,
   "metadata": {},
   "outputs": [],
   "source": [
    "# Votre code ici\n"
   ]
  },
  {
   "cell_type": "markdown",
   "metadata": {},
   "source": [
    "### Exercice 3\n",
    "\n",
    "Reprenez le programme de l'exercice #2 et arrêtez l'affichage des caractères au premier \"n\" trouvé.\n",
    "1. Faites une première version qui affiche le premier \"n\"\n",
    "1. Faites une seconde version qui s'arrête avant d'afficher le premier \"n\""
   ]
  },
  {
   "cell_type": "code",
   "execution_count": 3,
   "metadata": {},
   "outputs": [],
   "source": [
    "# Votre code ici\n",
    "#1 \n",
    "\n",
    "#2\n",
    "\n"
   ]
  },
  {
   "cell_type": "markdown",
   "metadata": {},
   "source": [
    "### Exercice 4\n",
    "Écris un programme qui utilise une boucle for pour afficher tous les nombres pairs de 1 à 20."
   ]
  },
  {
   "cell_type": "code",
   "execution_count": 4,
   "metadata": {},
   "outputs": [],
   "source": [
    "# Votre code ici\n"
   ]
  },
  {
   "cell_type": "markdown",
   "metadata": {},
   "source": [
    "### Exercice 5\n",
    "Écris un programme qui utilise une boucle for pour compter le nombre de voyelles dans un texte donné."
   ]
  },
  {
   "cell_type": "code",
   "execution_count": 5,
   "metadata": {},
   "outputs": [],
   "source": [
    "texte = \"Bonjour tout le monde\"\n",
    "voyelles = \"aeiouy\"\n",
    "\n",
    "# votre code à partir d'ici\n"
   ]
  },
  {
   "cell_type": "markdown",
   "metadata": {},
   "source": [
    "### Exercice 6\n",
    "\n",
    "Écris un programme qui utilise une boucle for pour générer et afficher la table de multiplication (1 à 10) d'un nombre donné par l'utilisateur."
   ]
  },
  {
   "cell_type": "code",
   "execution_count": 6,
   "metadata": {},
   "outputs": [],
   "source": [
    "# Votre code ici\n"
   ]
  },
  {
   "cell_type": "markdown",
   "metadata": {},
   "source": [
    "### Exercice 7\n",
    "\n",
    "Écris un programme qui utilise une boucle for pour calculer la moyenne des éléments de la liste de nombres."
   ]
  },
  {
   "cell_type": "code",
   "execution_count": 7,
   "metadata": {},
   "outputs": [],
   "source": [
    "liste = [22, 4, 12, 8, 45, 98,23]\n",
    "nb_elements = len(liste)\n",
    "\n",
    "# Votre code à partir d'ici\n"
   ]
  },
  {
   "cell_type": "markdown",
   "metadata": {},
   "source": [
    "### Exercice 8\n",
    "\n",
    "Écris un programme qui utilise une boucle for pour afficher une pyramide d'étoiles de hauteur donnée par l'utilisateur.\n",
    "```\n",
    "*\n",
    "**\n",
    "***\n",
    "****\n",
    "*****\n",
    "```"
   ]
  },
  {
   "cell_type": "code",
   "execution_count": 8,
   "metadata": {},
   "outputs": [],
   "source": [
    "# votre code ici\n"
   ]
  },
  {
   "cell_type": "markdown",
   "metadata": {},
   "source": [
    "### Exercice 9\n",
    "\n",
    "Écrire un programme qui demande à l'utilisateur d'entrer un mot de 5 lettres (ex: cours, notes, livre, etc.).\n",
    "Le programme doit inverser le lettres du mot et afficher le mot inversé."
   ]
  },
  {
   "cell_type": "code",
   "execution_count": 9,
   "metadata": {},
   "outputs": [],
   "source": [
    "# Votre code ici\n"
   ]
  },
  {
   "cell_type": "markdown",
   "metadata": {},
   "source": [
    "### Exercice 10\n",
    "\n",
    "A partir de l'exercice #8, modifiez votre programme pour qu'il affiche cette figure:\n",
    "```\n",
    "    *\n",
    "   **\n",
    "  ***\n",
    " ****\n",
    "*****\n",
    "```\n",
    "\n",
    "Astuces: \n",
    "1. Utilisez trois boucles for\n",
    "2. Trouvez un moyen d'insérer le bon nombre d'espaces avant d'afficher une étoile.\n",
    "3. La fonction print() et end pourraient être utiles"
   ]
  },
  {
   "cell_type": "code",
   "execution_count": 10,
   "metadata": {},
   "outputs": [],
   "source": [
    "# Votre code ici\n"
   ]
  }
 ],
 "metadata": {
  "kernelspec": {
   "display_name": "Python 3",
   "language": "python",
   "name": "python3"
  },
  "language_info": {
   "codemirror_mode": {
    "name": "ipython",
    "version": 3
   },
   "file_extension": ".py",
   "mimetype": "text/x-python",
   "name": "python",
   "nbconvert_exporter": "python",
   "pygments_lexer": "ipython3",
   "version": "3.11.9"
  }
 },
 "nbformat": 4,
 "nbformat_minor": 2
}
