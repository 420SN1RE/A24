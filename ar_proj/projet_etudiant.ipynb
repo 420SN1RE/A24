{
 "cells": [
  {
   "cell_type": "markdown",
   "metadata": {},
   "source": [
    "<center><h1>Projet : Analyser de données scientifiques</h1></center>\n",
    "\n",
    "<center><img src=\"projet.webp\" alt=\"proportions\" width=\"300\"></center>\n",
    "\n",
    "Vous avez été recruté(e) en tant qu'analyste de données dans un centre scientifique spécialisé dans l'étude du diabète.\n",
    "\n",
    "Votre mission consiste à analyser le jeu de données fourni par votre hiérarchie afin d'en tirer des conclusions pertinentes.\n",
    "\n",
    "Les objectifs de votre mission sont les suivants :\n",
    "1. Importer et préparer les données,\n",
    "1. Extraire des informations clés pour effectuer des analyses pertinentes,\n",
    "1. Visualiser les données pour en faciliter l'interprétation,\n",
    "1. Analyser les résultats et en tirer des conclusions.\n",
    "\n",
    "## Consignes\n",
    "<div class=\"alert alert-block alert-success\">\n",
    "Certaines réponses demandent du code et des explications relatives au code ou aux résultats obtenus. \n",
    "\n",
    "Faites attention à bien répondre aux bons endroits, le code python dans une cellule de **code** et les réponses textuelles dans une cellule de **Markdown**.\n",
    "\n",
    "Assurez vous que tout votre *notebook* s'exécute correctement en une seule fois avec le bouton `Run All` ou `Exécuter tout` de VScode. Les cellules de code suivent un ordre, certaines reprennent le résultat d'une précédente. Faites attention à ne pas altérer les données entre deux cellules de code. \n",
    "\n",
    "Pour vous faciliter cette tâche, utilisez régulièrement le bouton `Run All` ou `Exécuter tout` pour vérifier que l'exécution arrive correctement là où vous êtes, n'attendez pas d'avoir tout coder pour utiliser ce bouton.\n",
    "</div>\n",
    "\n",
    "<div class=\"alert alert-block alert-danger\">\n",
    "A la fin de chaque séance, vous devez remettre votre travail dans la boîte de remise prévue à cet effet sur Moodle.\n",
    "\n",
    "Vous pourrez continuer à travailler sur votre projet entre chaque séance mais la boite de remise sera fermée. \n",
    "\n",
    "Ces remises sont des points de contrôle.\n",
    "</div>\n",
    "\n",
    "\n",
    "--- \n",
    "\n",
    "## Présentation du jeu de données\n",
    "\n",
    "Le jeu de données porte sur un échantillon de femmes participant à une étude liée au diabète.\n",
    "La description des colonnes est fournie ci-dessous :\n",
    "\n",
    "1. Grossesses : Nombre total de grossesses de la patiente.\n",
    "1. Glucose : Concentration de glucose dans le plasma sanguin.\n",
    "1. Pression artérielle : Pression artérielle diastolique (en mm Hg).\n",
    "1. Epaisseur peau : Épaisseur de la peau au niveau du triceps (en mm).\n",
    "1. Insuline : Concentration d'insuline sérique.\n",
    "1. Indice de masse corporelle (IMC) : IMC calculé en fonction du poids et de la taille (en kg/m²).\n",
    "1. Pedigree diabete : Score de prédisposition génétique au diabète.\n",
    "1. Age : Âge de la patiente (en années).\n",
    "1. Diabete : Indicateur de diabète (1 = diabétique, 0 = non diabétique).\n",
    "\n"
   ]
  },
  {
   "cell_type": "markdown",
   "metadata": {},
   "source": [
    "# Analyse des données brutes (Pandas)"
   ]
  },
  {
   "cell_type": "markdown",
   "metadata": {},
   "source": [
    "Commencez par ouvrir le fichier de données `diabetes_projet_classe.csv` avec VSCode pour en observer la structure.\n",
    "\n",
    "\n",
    "Importez le jeu de données, et affichez les 5 premières entrées avec les instructions Pandas.\\\n",
    "- Parmi les 5 patientes ci-dessous, quelle est la patiente qui a la pression artérielle la plus élevée?\n",
    "- Quelle est la patiente qui est la plus disposée à être diabétique? Pourquoi? Voir les résultats de la colonne Pedigree Diabete. Croisez le résultat avec la description de la variable."
   ]
  },
  {
   "cell_type": "code",
   "execution_count": null,
   "metadata": {},
   "outputs": [],
   "source": [
    "import pandas as pd\n",
    "import numpy as np\n",
    "import matplotlib.pyplot as plt\n",
    "\n",
    "# Complétez le code ci-dessous\n",
    "df = \n"
   ]
  },
  {
   "cell_type": "markdown",
   "metadata": {},
   "source": [
    "Double-cliquez ici pour ouvrir la capsule et écrire vos réponses! Pour valider votre capsule faite CTRL + ENTREE\n",
    "\n",
    "<div class=\"alert alert-block alert-success\">\n",
    "<b>Votre réponse :</b></div>"
   ]
  },
  {
   "cell_type": "markdown",
   "metadata": {},
   "source": [
    "**Exemple de réponse :**\n",
    "\n",
    "<div class=\"alert alert-block alert-success\">\n",
    "<b>Votre réponse : la patiente la plus âgée est la patiente avec l'identifiant 0</b></div>"
   ]
  },
  {
   "cell_type": "markdown",
   "metadata": {},
   "source": [
    "---\n",
    "\n",
    "Quel est le type de la colonne Insuline? De la colonne IMC? \\\n",
    "**Consigne** : Exécutez la cellule ci-dessous, observez les résultats et écrivez vos réponses dans la capsule prévue à cet effet."
   ]
  },
  {
   "cell_type": "code",
   "execution_count": null,
   "metadata": {},
   "outputs": [],
   "source": [
    "df.info()"
   ]
  },
  {
   "cell_type": "markdown",
   "metadata": {},
   "source": [
    "Double-cliquez ici pour ouvrir la capsule et écrire vos réponses ! Pour valider votre capsule faite CTRL + ENTREE\n",
    "\n",
    "<div class=\"alert alert-block alert-success\">\n",
    "<b>Votre réponse :</b></div>"
   ]
  },
  {
   "cell_type": "markdown",
   "metadata": {},
   "source": [
    "---\n",
    "Combien y'a-t-il de patientes dans ce jeu de données? Quelle est la moyenne de la variable Pression Artérielle?\\\n",
    "**Consigne** : Exécutez la cellule ci-dessous, observez les résultats et écrivez vos réponses dans la capsule prévue à cet effet."
   ]
  },
  {
   "cell_type": "code",
   "execution_count": null,
   "metadata": {},
   "outputs": [],
   "source": [
    "df.describe()"
   ]
  },
  {
   "cell_type": "markdown",
   "metadata": {},
   "source": [
    "<div class=\"alert alert-block alert-success\">\n",
    "<b>Votre réponse :</b></div>\n",
    "\n",
    "Double-cliquez ici pour ouvrir la capsule et écrire vos réponse ! Pour valider votre capsule faite CTRL + ENTREE"
   ]
  },
  {
   "cell_type": "markdown",
   "metadata": {},
   "source": [
    "---\n",
    "## Sélection de la population diabétique\n",
    "\n",
    "Filtrez les personnes diabétiques.\\\n",
    "Nous voulons un dataframe avec seulement les patientes diabétiques.\\\n",
    "Afficher les 6 premieres patientes.\n",
    "\n",
    "**Indice** : il est possible que la fonction `head()` accepte un paramètre. A votre avis, quel peut être ce paramètre?"
   ]
  },
  {
   "cell_type": "code",
   "execution_count": null,
   "metadata": {},
   "outputs": [],
   "source": [
    "# Complétez le code ci-dessous\n",
    "df_diabete = "
   ]
  },
  {
   "cell_type": "markdown",
   "metadata": {},
   "source": [
    "Filtrez les personnes non diabétiques.\\\n",
    "Nous voulons un dataframe avec seulement les individus non diabétiques.\\\n",
    "Afficher les 8 premiers patientes."
   ]
  },
  {
   "cell_type": "code",
   "execution_count": null,
   "metadata": {},
   "outputs": [],
   "source": [
    "# Complétez le code ci-dessous\n",
    "df_sans_diabete = "
   ]
  },
  {
   "cell_type": "markdown",
   "metadata": {},
   "source": [
    "---\n",
    "Quelle est la moyenne du glucose pour les personnes diabétiques? \\\n",
    "Définissez une fonction qui prend un dataframe en paramètre et qui retourne la moyenne du glucose pour ce dataframe.\\\n",
    "Vous utiliserez une boucle pour effectuer votre calcul dans la fonction.\n",
    "\n",
    "Ensuite, appelez cette fonction avec le dataframe contenant seulement les personnes diabétiques et affichez le résultat avec un `print`."
   ]
  },
  {
   "cell_type": "code",
   "execution_count": null,
   "metadata": {},
   "outputs": [],
   "source": [
    "# Complétez le code ci-dessous\n",
    "def calcul_moyenne_glucose(tableau_df):\n",
    "\n",
    "\n",
    "\n",
    "\n",
    "moyenne_diabetique = \n",
    "print(f\"La moyenne du glucose pour les diabétiques est de {round(moyenne_diabetique,2)}.\")"
   ]
  },
  {
   "cell_type": "markdown",
   "metadata": {},
   "source": [
    "Vérifiez votre résultat avec la fonction `describe()`."
   ]
  },
  {
   "cell_type": "code",
   "execution_count": null,
   "metadata": {},
   "outputs": [],
   "source": [
    "df_diabete.describe()"
   ]
  },
  {
   "cell_type": "markdown",
   "metadata": {},
   "source": [
    "---\n",
    "Quelle est la moyenne du glucose pour les personnes non diabétiques?\\\n",
    "Vous utiliserez la fonction définie précédemment en faisant attention au dataframe utilisé."
   ]
  },
  {
   "cell_type": "code",
   "execution_count": null,
   "metadata": {},
   "outputs": [],
   "source": [
    "# Complétez le code ci-dessous\n",
    "moyenne_non_diabetique =\n",
    "\n",
    "print(f\"La moyenne du glucose pour les non diabétiques est de {round(moyenne_non_diabetique,2)}.\")"
   ]
  },
  {
   "cell_type": "markdown",
   "metadata": {},
   "source": [
    "Vérifiez votre résultat avec la fonction `describe()`"
   ]
  },
  {
   "cell_type": "code",
   "execution_count": null,
   "metadata": {},
   "outputs": [],
   "source": [
    "df_sans_diabete.describe()"
   ]
  },
  {
   "cell_type": "markdown",
   "metadata": {},
   "source": [
    "---\n",
    "## Analyse par tranche d'âge\n",
    "\n",
    "Récupérez et affichez l'âge minimum et maximum des individus de votre jeu de données complet.\n",
    "\n",
    "**Indice** :\n",
    "1. l'âge minimum est 21 ans\n",
    "1. l'âge maximum est 69 ans."
   ]
  },
  {
   "cell_type": "code",
   "execution_count": null,
   "metadata": {},
   "outputs": [],
   "source": [
    "# Complétez le code ci-dessous\n",
    "minimum_age = \n",
    "maximum_age = \n",
    "print(f\"Minimum : {minimum_age}\")\n",
    "print(f\"Maximum : {maximum_age}\")"
   ]
  },
  {
   "cell_type": "markdown",
   "metadata": {},
   "source": [
    "A partir des âges minimum et maximum, définissez l'âge minimum et maximum qui vous permettront de créer vos tranches d'âge.\n",
    "\n",
    "**Indice** : l'objectif sera de faire des tranches de 10 ans."
   ]
  },
  {
   "cell_type": "code",
   "execution_count": null,
   "metadata": {},
   "outputs": [],
   "source": [
    "# Complétez le code ci-dessous\n",
    "tranche_minimum = \n",
    "tranche_maximum = "
   ]
  },
  {
   "cell_type": "markdown",
   "metadata": {},
   "source": [
    "A partir des tranches minimum et maximum, créez une liste contenant des chaînes de caractères qui vous permettra de déterminer des tranches d'âge.\n",
    "\n",
    "**Indice** : faire des tranches d'âge de 10 ans d'écart. On trouvera dans cette liste l'élément `\"30-39\"` par exemple."
   ]
  },
  {
   "cell_type": "code",
   "execution_count": null,
   "metadata": {},
   "outputs": [],
   "source": [
    "# Complétez le code ci-dessous\n",
    "tranches_age = "
   ]
  },
  {
   "cell_type": "markdown",
   "metadata": {},
   "source": [
    "Créez une liste qui vous permettra de répartir vos individus dans les tranches d'âge que vous avez définies. \n",
    "\n",
    "**Indice** : votre résultat doit être le suivant : [174, 85, 56, 26, 14]"
   ]
  },
  {
   "cell_type": "code",
   "execution_count": null,
   "metadata": {},
   "outputs": [],
   "source": [
    "# Ecrire le code ci-dessous"
   ]
  },
  {
   "cell_type": "markdown",
   "metadata": {},
   "source": [
    "---\n",
    "## Affichage des données (Matplotlib)\n",
    "Affichez un diagramme en barres qui permettra de visualiser le nombre d'individus par tranches d'âge.\n",
    "\n",
    "Vous devez obtenir le résultat suivant :\n",
    "\n",
    "<img src=\"nb_personne_totales_age.png\" alt=\"proportions\" width=\"400\">\n",
    "\n",
    "**Indications** :\n",
    "- la couleur est \"moccasin\"\n",
    "- le contour des barres est de couleur noire"
   ]
  },
  {
   "cell_type": "code",
   "execution_count": null,
   "metadata": {},
   "outputs": [],
   "source": [
    "# Ecrire le code ci-dessous"
   ]
  },
  {
   "cell_type": "markdown",
   "metadata": {},
   "source": [
    "Refaire votre analyse pour les personnes diabétiques. Afficher à nouveau un graphique qui montrera la répartition des individus **diabétiques** par tranche d'âge.\\\n",
    "**Indice** : votre résultat doit être le suivant : [43, 38, 31, 15, 6] et votre graphique doit ressembler à celui ci-dessous:\n",
    "\n",
    "<img src=\"nb_personne_diabetique_age.png\" alt=\"proportions\" width=\"400\">"
   ]
  },
  {
   "cell_type": "code",
   "execution_count": null,
   "metadata": {},
   "outputs": [],
   "source": [
    "# Ecrire le code ci-dessous pour la liste"
   ]
  },
  {
   "cell_type": "code",
   "execution_count": null,
   "metadata": {},
   "outputs": [],
   "source": [
    "# Ecrire le code ci-dessous pour le graphique"
   ]
  },
  {
   "cell_type": "markdown",
   "metadata": {},
   "source": [
    "Nous cherchons à trouver la proportion de personnes diabétiques par tranche d'âge.\\\n",
    "A partir des populations déterminées précédemment (population totale et population diabétique), calculez cette proportion et affichez le résultat dans un graphique en barre similaire aux précédents.\\\n",
    "Faites attention à la notation de l'axe y, on veut voir des pourcentages, pas des valeurs comprisent entre 0 et 1.\n",
    "\n",
    "**Indice** : Votre résultat doit être [24.71 44.71 55.36 57.69 42.86]\n",
    "\n",
    "<img src=\"proportion_diabete_age.png\" alt=\"proportions\" width=\"400\">"
   ]
  },
  {
   "cell_type": "code",
   "execution_count": null,
   "metadata": {},
   "outputs": [],
   "source": [
    "# Ecrire le code ci-dessous pour la liste"
   ]
  },
  {
   "cell_type": "code",
   "execution_count": null,
   "metadata": {},
   "outputs": [],
   "source": [
    "# Ecrire le code ci-dessous pour le graphique"
   ]
  },
  {
   "cell_type": "markdown",
   "metadata": {},
   "source": [
    "Quelle est la proportion de personnes âgées entre 30 et 50 ans qui sont diabétiques par rapport à la totalité de la population diabétique? Vous devez obtenir 52.63%"
   ]
  },
  {
   "cell_type": "code",
   "execution_count": null,
   "metadata": {},
   "outputs": [],
   "source": [
    "# Complétez le code ci-dessous\n",
    "diabetique_30_50 = "
   ]
  },
  {
   "cell_type": "markdown",
   "metadata": {},
   "source": [
    "---\n",
    "## Partie Numpy - Statistiques"
   ]
  },
  {
   "cell_type": "markdown",
   "metadata": {},
   "source": [
    "Nous allons ici écrire une fonction qui va nous permettre de réaliser une régression linéaire:\n",
    "- aucune boucle n'est nécessaire, numpy va prendre en charge les itérations sur les `np.array()`\n",
    "- utilisez les fonctions `np.mean()` et `np.sum()`\n",
    "- la fonction **retourne** un `np.poly1d()`\n",
    "\n",
    "Pour rappel, on cherche a établir une équation du type : \n",
    "$$\n",
    "y = \\beta_1 x + \\beta_0\n",
    "$$\n",
    "\n",
    "avec beta 1:\n",
    "$$\n",
    "\\beta_1 = \\frac{numerateur}{denominateur}\n",
    "$$\n",
    "\n",
    "$$\n",
    "numerateur = \\sum (x_i - moyenne_x) * (y_i - moyenne_y)\n",
    "$$\n",
    "\n",
    "$$\n",
    "denominateur = \\sum (y_i - moyenne_y)^2\n",
    "$$\n",
    "\n",
    "et beta 0:\n",
    "$$\n",
    "\\beta_0 = moyenne_y - \\beta_1 * moyenne_x\n",
    "$$"
   ]
  },
  {
   "cell_type": "code",
   "execution_count": null,
   "metadata": {},
   "outputs": [],
   "source": [
    "# Complétez le code de la fonction ci-dessous\n",
    "def regression_linaire(x, y):\n",
    "    # calcul des moyennes\n",
    "\n",
    "    # calcul des écarts à la moyenne de tous les échantillons\n",
    "\n",
    "    # calcul numerateur\n",
    "\n",
    "    # calcul denominateur\n",
    "\n",
    "    # calcul de beta_1\n",
    "    \n",
    "    # calcul de beta_0\n",
    "\n",
    "    return 0\n"
   ]
  },
  {
   "cell_type": "markdown",
   "metadata": {},
   "source": [
    "#### Exemple d'utilisation\n",
    "\n",
    "Voici un exemple d'utilisation pour valider votre code, votre devriez obtenir:\n",
    "```\n",
    "Le polynôme de cette régression est :  \n",
    "10 x + 5\n",
    "```"
   ]
  },
  {
   "cell_type": "code",
   "execution_count": null,
   "metadata": {},
   "outputs": [],
   "source": [
    "x = np.array([1,2,3,4,5])\n",
    "y = np.array([15,25,35,45,55])\n",
    "\n",
    "test_regression = regression_linaire(x, y)\n",
    "\n",
    "print(f\"Le polynôme de cette régression est : {test_regression}\")"
   ]
  },
  {
   "cell_type": "markdown",
   "metadata": {},
   "source": [
    "Utilisez la fonction du calcul de la régression linéaire que vous avez créée pour calculer la régression entre l'IMC et l'épaisseur de peau pour toute la population.\n",
    "\n",
    "**Indice** : vous devez obtenir l'équation suivante : 0.7335 x + 4.185"
   ]
  },
  {
   "cell_type": "code",
   "execution_count": null,
   "metadata": {},
   "outputs": [],
   "source": [
    "# Complétez le code ci-dessous\n",
    "resultat = "
   ]
  },
  {
   "cell_type": "markdown",
   "metadata": {},
   "source": [
    "Créez un graphique de type nuage de point pour représenter les colonnes IMC et épaisseur de peau de votre jeu de données.\n",
    "L'objectif est de différencier les 2 populations (diabétiques et non diabétiques).\n",
    "\n",
    "**Indice** : vous pouvez successivement enchaîner 2 graphiques similaires avec les 2 dataframe différents.\n",
    "\n",
    "<img src=\"imc_epaisseur.png\" alt=\"proportions\" width=\"400\">"
   ]
  },
  {
   "cell_type": "code",
   "execution_count": null,
   "metadata": {},
   "outputs": [],
   "source": [
    "# Ecrire le code ci-dessous"
   ]
  },
  {
   "cell_type": "markdown",
   "metadata": {},
   "source": [
    "## Défi - Filtrage\n",
    "Nous remarquons des données très uniformes pour l'épaisseur de peau. Lorsque celle-ci vaut 25, nous considérons cette mesure comme non valide.\\\n",
    "Cela vient du fait que la valeur n'a pas été relevée sur la patiente. De ce fait, la valeur moyenne a été mise à la place.\n",
    "\n",
    "Ecrivez un filtre pour retirer ces entrées de vos 2 dataframe `df_sans_diabete` et `df_diabete`. Reprennez la figure pour visualiser que le filtre a bien fonctionné.\n",
    "\n",
    "<img src=\"imc_epaisseur_sans_25.png\" alt=\"proportions\" width=\"400\">"
   ]
  },
  {
   "cell_type": "code",
   "execution_count": null,
   "metadata": {},
   "outputs": [],
   "source": [
    "# Ecrire le code ci-dessous"
   ]
  },
  {
   "cell_type": "markdown",
   "metadata": {},
   "source": [
    "Retirez les entrées avec une épaisseur de peau de 25 pour la totalité du dataframe.\\\n",
    "Utilisez la fonction du calcul de la régression linéaire que vous avez créée pour calculer la régression entre l'IMC et l'épaisseur de peau pour la totalité du dataframe filtrée.\n",
    "\n",
    "**Indice** : vous devez obtenir l'équation suivante : 1.003 x - 3.547"
   ]
  },
  {
   "cell_type": "code",
   "execution_count": null,
   "metadata": {},
   "outputs": [],
   "source": [
    "# Ecrire le code ci-dessous"
   ]
  },
  {
   "cell_type": "markdown",
   "metadata": {},
   "source": [
    "Reprennez le graphique précédent et ajoutez la droite de la régression linéaire calculée ci-dessus.\n",
    "\n",
    "Vous devriez obtenir cette figure :\n",
    "\n",
    "<img src=\"regression.png\" alt=\"proportions\" width=\"400\">"
   ]
  },
  {
   "cell_type": "code",
   "execution_count": null,
   "metadata": {},
   "outputs": [],
   "source": [
    "# Ecrire le code ci-dessous"
   ]
  }
 ],
 "metadata": {
  "kernelspec": {
   "display_name": "Python 3",
   "language": "python",
   "name": "python3"
  },
  "language_info": {
   "codemirror_mode": {
    "name": "ipython",
    "version": 3
   },
   "file_extension": ".py",
   "mimetype": "text/x-python",
   "name": "python",
   "nbconvert_exporter": "python",
   "pygments_lexer": "ipython3",
   "version": "3.11.9"
  }
 },
 "nbformat": 4,
 "nbformat_minor": 2
}
